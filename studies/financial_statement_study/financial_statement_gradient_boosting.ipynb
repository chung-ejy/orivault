{
 "cells": [
  {
   "cell_type": "code",
   "execution_count": 1,
   "id": "16989731-6c5a-4d33-92da-7556bcee1fcc",
   "metadata": {},
   "outputs": [],
   "source": [
    "## PATH settings\n",
    "import os\n",
    "import sys\n",
    "project_root = os.path.abspath(os.path.join(os.getcwd(), '../../'))\n",
    "sys.path.append(project_root)\n",
    "COMMON_PATH = os.path.join(project_root, 'common')"
   ]
  },
  {
   "cell_type": "code",
   "execution_count": 2,
   "id": "73094c60-497a-45ac-bd01-8db8578730b7",
   "metadata": {},
   "outputs": [],
   "source": [
    "## Bespoke class imports\n",
    "from common.database.adatabase import ADatabase\n",
    "from common.processor.processor import Processor as p\n",
    "from financial_common.risk.rolling_factor_analysis import RollingFactorAnalysis\n",
    "from financial_common.risk.single_index_capm import SingleIndexCAPM\n",
    "from financial_common.indicator.indicator import Indicator\n",
    "from financial_common.risk.benchmark import Benchmark\n",
    "from financial_common.portfolio_management.metrics import Metrics\n",
    "from financial_common.portfolio_management.portfolio_selection import PortfolioSelection\n",
    "import numpy as np"
   ]
  },
  {
   "cell_type": "code",
   "execution_count": 3,
   "id": "d04c2c49-144d-4ff3-acf0-e1ff11afa8a8",
   "metadata": {},
   "outputs": [],
   "source": [
    "## Import standard packages\n",
    "from xgboost import XGBRegressor\n",
    "from datetime import timedelta\n",
    "import matplotlib.pyplot as plt\n",
    "from tqdm import tqdm\n",
    "import pandas as pd\n",
    "from time import sleep"
   ]
  },
  {
   "cell_type": "code",
   "execution_count": 4,
   "id": "9131bcf0-e2ac-489b-ac60-ab69b8feda22",
   "metadata": {},
   "outputs": [],
   "source": [
    "sec = ADatabase(\"sec\")\n",
    "market = ADatabase(\"market\")\n",
    "fred = ADatabase(\"fred\")"
   ]
  },
  {
   "cell_type": "code",
   "execution_count": 5,
   "id": "a4179cff-dd72-4218-9d7a-7e01333a3a58",
   "metadata": {},
   "outputs": [],
   "source": [
    "## Retrieve existing stocks \n",
    "market.connect()\n",
    "index = market.retrieve(\"ticker_overview\")\n",
    "market.disconnect()\n",
    "sic_codes = pd.read_csv(\"../../csv_files/sic_codes.csv\").rename(columns={\"SIC Code\":\"sic_code\",\"Office\":\"office\"}).dropna()\n",
    "index[\"sic_code\"] = index[\"sic_code\"].fillna(0).astype(int)\n",
    "sic_codes[\"sic_code\"] = sic_codes[\"sic_code\"].fillna(0).astype(int)\n",
    "index = index.merge(sic_codes[[\"sic_code\",\"office\"]],on=\"sic_code\")\n",
    "\n",
    "## Retrieve previously calculated Macro Projections\n",
    "fred.connect()\n",
    "sp500 = p.lower_column(fred.retrieve(\"sp500_projections\").rename(columns={\"prediction\":\"sp500_prediction\"}))\n",
    "sp500 = p.utc_date(sp500)\n",
    "interest_rates = p.lower_column(fred.retrieve(\"market_yield\").rename(columns={\"value\":\"rf\"}))\n",
    "interest_rates = p.utc_date(interest_rates)\n",
    "interest_rates[\"rf\"] = interest_rates[\"rf\"].replace(\".\",0)\n",
    "interest_rates[\"rf\"] = [float(x) / 100 for x in interest_rates[\"rf\"]]\n",
    "fred.disconnect()\n",
    "macro = sp500.merge(interest_rates,on=\"date\",how=\"left\")\n",
    "macro = p.utc_date(macro)"
   ]
  },
  {
   "cell_type": "code",
   "execution_count": 6,
   "id": "fa7d5ea3-1219-4acb-8928-3f9219aa70c9",
   "metadata": {},
   "outputs": [],
   "source": [
    "factors = [\"assets\",\"liabilities\",\"reference_price\"]"
   ]
  },
  {
   "cell_type": "code",
   "execution_count": 25,
   "id": "635c8aca-eddc-4b55-a8c3-e351e27a11e9",
   "metadata": {
    "scrolled": true
   },
   "outputs": [
    {
     "name": "stderr",
     "output_type": "stream",
     "text": [
      "4240it [03:00, 23.43it/s]\n"
     ]
    }
   ],
   "source": [
    "market.connect()\n",
    "sec.connect()\n",
    "factors_df = []\n",
    "for row in tqdm(index.iterrows()):\n",
    "    try:\n",
    "        ticker = row[1][\"ticker\"]\n",
    "        cik = int(row[1][\"cik\"])\n",
    "        price = market.query(\"prices\",{\"ticker\":ticker})\n",
    "        filings = sec.query(\"filings\",{\"cik\":cik})\n",
    "        if price.index.size > 0 and filings.index.size > 0:\n",
    "            price = p.utc_date(price)\n",
    "            price = p.additional_date_columns(price)\n",
    "            price.sort_values(\"date\",inplace=True)\n",
    "            price = Indicator.ROLLING_DOLLAR_VOLUME.calculate(price)\n",
    "            filings = p.utc_date(filings).dropna()\n",
    "            filings = p.lower_column(filings)\n",
    "            filings = p.additional_date_columns(filings)\n",
    "            ticker_factors = filings.drop([\"date\",\"month\",\"week\",\"cik\"],axis=1).groupby([\"year\",\"quarter\"]).mean().reset_index()\n",
    "            price = price.drop([\"date\",\"ticker\"],axis=1).groupby([\"year\",\"quarter\"]).mean().reset_index()\n",
    "            ticker_factors = ticker_factors.merge(price,on=[\"year\",\"quarter\"],how=\"left\")\n",
    "            ticker_factors[\"year\"] = ticker_factors[\"year\"] + 1\n",
    "            if ticker_factors.index.size > 0:\n",
    "                ticker_factors[\"ticker\"] = ticker\n",
    "                ticker_factors[\"reference_price\"] = ticker_factors[\"adjclose\"].shift(1)\n",
    "                ticker_factors[\"y\"] = ticker_factors[\"adjclose\"].shift(-1)\n",
    "                factors_df.append(ticker_factors[[\"year\",\"quarter\",\"ticker\",\"adjclose\",\"rolling_dollar_volume\",\"y\"]+factors])\n",
    "    except Exception as e:\n",
    "        print(ticker,str(e))\n",
    "        continue\n",
    "sec.disconnect()\n",
    "market.disconnect()\n",
    "factors_df = pd.concat(factors_df).sort_values([\"year\",\"quarter\"])"
   ]
  },
  {
   "cell_type": "code",
   "execution_count": 26,
   "id": "990d4999-cc4d-4264-b239-10fb0f4773af",
   "metadata": {},
   "outputs": [],
   "source": [
    "model_start = 2015\n",
    "model_end = 2022\n",
    "backtest_end = 2026\n",
    "model = XGBRegressor(booster=\"gbtree\",random_state=42)\n",
    "factors_df = factors_df.dropna(subset=factors)\n",
    "training_data = factors_df[(factors_df[\"year\"]>=model_start) & (factors_df[\"year\"]<model_end)].dropna()\n",
    "sim = factors_df[(factors_df[\"year\"]>=model_end-1) & (factors_df[\"year\"]<backtest_end)].dropna(subset=factors)\n",
    "model.fit(training_data[factors],training_data[\"y\"])\n",
    "sim[\"prediction\"] = model.predict(sim[factors])\n",
    "sim = sim[[\"ticker\",\"year\",\"quarter\",\"prediction\"]]"
   ]
  },
  {
   "cell_type": "code",
   "execution_count": 27,
   "id": "0f877ba0-a338-475c-a1d7-f4882b2c1fa7",
   "metadata": {
    "scrolled": true
   },
   "outputs": [
    {
     "name": "stderr",
     "output_type": "stream",
     "text": [
      "  0%|▋                                                                                                                                                                                            | 15/4240 [00:01<05:00, 14.04it/s]"
     ]
    },
    {
     "name": "stdout",
     "output_type": "stream",
     "text": [
      "'date'\n"
     ]
    },
    {
     "name": "stderr",
     "output_type": "stream",
     "text": [
      "  1%|█▌                                                                                                                                                                                           | 35/4240 [00:02<04:36, 15.23it/s]"
     ]
    },
    {
     "name": "stdout",
     "output_type": "stream",
     "text": [
      "'date'\n"
     ]
    },
    {
     "name": "stderr",
     "output_type": "stream",
     "text": [
      "  3%|█████▎                                                                                                                                                                                      | 119/4240 [00:08<04:23, 15.62it/s]"
     ]
    },
    {
     "name": "stdout",
     "output_type": "stream",
     "text": [
      "'date'\n"
     ]
    },
    {
     "name": "stderr",
     "output_type": "stream",
     "text": [
      " 11%|█████████████████████▌                                                                                                                                                                      | 485/4240 [00:39<04:40, 13.37it/s]"
     ]
    },
    {
     "name": "stdout",
     "output_type": "stream",
     "text": [
      "'date'\n",
      "'date'\n"
     ]
    },
    {
     "name": "stderr",
     "output_type": "stream",
     "text": [
      " 12%|██████████████████████▎                                                                                                                                                                     | 504/4240 [00:40<05:04, 12.27it/s]"
     ]
    },
    {
     "name": "stdout",
     "output_type": "stream",
     "text": [
      "'date'\n"
     ]
    },
    {
     "name": "stderr",
     "output_type": "stream",
     "text": [
      " 12%|███████████████████████▎                                                                                                                                                                    | 526/4240 [00:42<03:29, 17.73it/s]"
     ]
    },
    {
     "name": "stdout",
     "output_type": "stream",
     "text": [
      "'date'\n"
     ]
    },
    {
     "name": "stderr",
     "output_type": "stream",
     "text": [
      " 14%|██████████████████████████▊                                                                                                                                                                 | 605/4240 [00:48<03:54, 15.48it/s]"
     ]
    },
    {
     "name": "stdout",
     "output_type": "stream",
     "text": [
      "'date'\n",
      "'date'\n"
     ]
    },
    {
     "name": "stderr",
     "output_type": "stream",
     "text": [
      " 18%|█████████████████████████████████▍                                                                                                                                                          | 753/4240 [00:59<04:02, 14.35it/s]"
     ]
    },
    {
     "name": "stdout",
     "output_type": "stream",
     "text": [
      "'date'\n"
     ]
    },
    {
     "name": "stderr",
     "output_type": "stream",
     "text": [
      " 20%|█████████████████████████████████████▎                                                                                                                                                      | 841/4240 [01:07<04:37, 12.26it/s]"
     ]
    },
    {
     "name": "stdout",
     "output_type": "stream",
     "text": [
      "'date'\n"
     ]
    },
    {
     "name": "stderr",
     "output_type": "stream",
     "text": [
      " 22%|████████████████████████████████████████▍                                                                                                                                                   | 912/4240 [01:13<04:07, 13.43it/s]"
     ]
    },
    {
     "name": "stdout",
     "output_type": "stream",
     "text": [
      "'date'\n"
     ]
    },
    {
     "name": "stderr",
     "output_type": "stream",
     "text": [
      " 23%|██████████████████████████████████████████▊                                                                                                                                                 | 965/4240 [01:17<03:11, 17.09it/s]"
     ]
    },
    {
     "name": "stdout",
     "output_type": "stream",
     "text": [
      "'date'\n",
      "'date'\n"
     ]
    },
    {
     "name": "stderr",
     "output_type": "stream",
     "text": [
      " 25%|██████████████████████████████████████████████▉                                                                                                                                            | 1065/4240 [01:25<03:37, 14.61it/s]"
     ]
    },
    {
     "name": "stdout",
     "output_type": "stream",
     "text": [
      "'date'\n"
     ]
    },
    {
     "name": "stderr",
     "output_type": "stream",
     "text": [
      " 38%|██████████████████████████████████████████████████████████████████████▎                                                                                                                    | 1594/4240 [02:09<02:54, 15.13it/s]"
     ]
    },
    {
     "name": "stdout",
     "output_type": "stream",
     "text": [
      "'date'\n"
     ]
    },
    {
     "name": "stderr",
     "output_type": "stream",
     "text": [
      " 40%|███████████████████████████████████████████████████████████████████████████▏                                                                                                               | 1704/4240 [02:18<03:03, 13.79it/s]"
     ]
    },
    {
     "name": "stdout",
     "output_type": "stream",
     "text": [
      "'date'\n"
     ]
    },
    {
     "name": "stderr",
     "output_type": "stream",
     "text": [
      " 41%|█████████████████████████████████████████████████████████████████████████████▏                                                                                                             | 1750/4240 [02:22<03:17, 12.59it/s]"
     ]
    },
    {
     "name": "stdout",
     "output_type": "stream",
     "text": [
      "'date'\n"
     ]
    },
    {
     "name": "stderr",
     "output_type": "stream",
     "text": [
      " 44%|█████████████████████████████████████████████████████████████████████████████████▋                                                                                                         | 1853/4240 [02:30<02:56, 13.56it/s]"
     ]
    },
    {
     "name": "stdout",
     "output_type": "stream",
     "text": [
      "'date'\n"
     ]
    },
    {
     "name": "stderr",
     "output_type": "stream",
     "text": [
      " 52%|█████████████████████████████████████████████████████████████████████████████████████████████████▍                                                                                         | 2209/4240 [02:59<02:22, 14.24it/s]"
     ]
    },
    {
     "name": "stdout",
     "output_type": "stream",
     "text": [
      "'date'\n"
     ]
    },
    {
     "name": "stderr",
     "output_type": "stream",
     "text": [
      " 52%|██████████████████████████████████████████████████████████████████████████████████████████████████                                                                                         | 2223/4240 [03:00<02:12, 15.26it/s]"
     ]
    },
    {
     "name": "stdout",
     "output_type": "stream",
     "text": [
      "'date'\n",
      "'date'\n"
     ]
    },
    {
     "name": "stderr",
     "output_type": "stream",
     "text": [
      " 57%|███████████████████████████████████████████████████████████████████████████████████████████████████████████                                                                                | 2427/4240 [03:17<02:06, 14.32it/s]"
     ]
    },
    {
     "name": "stdout",
     "output_type": "stream",
     "text": [
      "'date'\n"
     ]
    },
    {
     "name": "stderr",
     "output_type": "stream",
     "text": [
      " 58%|████████████████████████████████████████████████████████████████████████████████████████████████████████████▉                                                                              | 2470/4240 [03:21<02:12, 13.33it/s]"
     ]
    },
    {
     "name": "stdout",
     "output_type": "stream",
     "text": [
      "'date'\n",
      "'date'\n"
     ]
    },
    {
     "name": "stderr",
     "output_type": "stream",
     "text": [
      " 61%|██████████████████████████████████████████████████████████████████████████████████████████████████████████████████▊                                                                        | 2602/4240 [03:32<01:59, 13.66it/s]"
     ]
    },
    {
     "name": "stdout",
     "output_type": "stream",
     "text": [
      "'date'\n"
     ]
    },
    {
     "name": "stderr",
     "output_type": "stream",
     "text": [
      " 63%|██████████████████████████████████████████████████████████████████████████████████████████████████████████████████████                                                                     | 2678/4240 [03:38<01:40, 15.60it/s]"
     ]
    },
    {
     "name": "stdout",
     "output_type": "stream",
     "text": [
      "'date'\n"
     ]
    },
    {
     "name": "stderr",
     "output_type": "stream",
     "text": [
      " 69%|█████████████████████████████████████████████████████████████████████████████████████████████████████████████████████████████████▊                                                         | 2942/4240 [04:00<01:36, 13.51it/s]"
     ]
    },
    {
     "name": "stdout",
     "output_type": "stream",
     "text": [
      "'date'\n"
     ]
    },
    {
     "name": "stderr",
     "output_type": "stream",
     "text": [
      " 84%|█████████████████████████████████████████████████████████████████████████████████████████████████████████████████████████████████████████████████████████████                              | 3560/4240 [04:49<00:47, 14.45it/s]"
     ]
    },
    {
     "name": "stdout",
     "output_type": "stream",
     "text": [
      "'date'\n"
     ]
    },
    {
     "name": "stderr",
     "output_type": "stream",
     "text": [
      " 86%|█████████████████████████████████████████████████████████████████████████████████████████████████████████████████████████████████████████████████████████████████▌                         | 3664/4240 [04:57<00:39, 14.61it/s]"
     ]
    },
    {
     "name": "stdout",
     "output_type": "stream",
     "text": [
      "'date'\n"
     ]
    },
    {
     "name": "stderr",
     "output_type": "stream",
     "text": [
      " 92%|███████████████████████████████████████████████████████████████████████████████████████████████████████████████████████████████████████████████████████████████████████████▏               | 3882/4240 [05:16<00:28, 12.68it/s]"
     ]
    },
    {
     "name": "stdout",
     "output_type": "stream",
     "text": [
      "'date'\n"
     ]
    },
    {
     "name": "stderr",
     "output_type": "stream",
     "text": [
      " 98%|██████████████████████████████████████████████████████████████████████████████████████████████████████████████████████████████████████████████████████████████████████████████████████▍    | 4136/4240 [05:37<00:08, 12.37it/s]"
     ]
    },
    {
     "name": "stdout",
     "output_type": "stream",
     "text": [
      "'date'\n"
     ]
    },
    {
     "name": "stderr",
     "output_type": "stream",
     "text": [
      "100%|███████████████████████████████████████████████████████████████████████████████████████████████████████████████████████████████████████████████████████████████████████████████████████████| 4240/4240 [05:45<00:00, 12.26it/s]\n"
     ]
    }
   ],
   "source": [
    "market.connect()\n",
    "prices = []\n",
    "for ticker in tqdm(index[\"ticker\"]):\n",
    "    try:\n",
    "        price = p.utc_date(market.query(\"prices\",{\"ticker\":ticker}))\n",
    "        price = p.additional_date_columns(market.query(\"prices\",{\"ticker\":ticker}))\n",
    "        price.sort_values(\"date\",inplace=True)\n",
    "        price = price.merge(sim,on=[\"year\",\"quarter\",\"ticker\"],how=\"left\")\n",
    "        price = p.utc_date(price)\n",
    "        price = price.merge(macro,on=\"date\",how=\"left\")\n",
    "        price[\"factor\"] = price[\"prediction\"] / price[\"adjclose\"] - 1\n",
    "        price = SingleIndexCAPM.apply(price)\n",
    "        prices.append(price)\n",
    "    except Exception as e:\n",
    "        print(str(e))\n",
    "        continue\n",
    "market.disconnect()"
   ]
  },
  {
   "cell_type": "code",
   "execution_count": 28,
   "id": "31941a64-38c4-4616-8dcf-e7a70d5987cf",
   "metadata": {},
   "outputs": [
    {
     "data": {
      "text/plain": [
       "Index(['date', 'close', 'high', 'low', 'open', 'volume', 'adjclose', 'adjhigh',\n",
       "       'adjlow', 'adjopen', 'adjvolume', 'divcash', 'splitfactor', 'ticker',\n",
       "       'year', 'month', 'quarter', 'week', 'realtime_start', 'realtime_end',\n",
       "       'rf', 'factor', 'risk', 'sigma'],\n",
       "      dtype='object')"
      ]
     },
     "execution_count": 28,
     "metadata": {},
     "output_type": "execute_result"
    }
   ],
   "source": [
    "sim = pd.concat(prices)\n",
    "sim.columns"
   ]
  },
  {
   "cell_type": "code",
   "execution_count": 29,
   "id": "1397bd57-8758-4eed-aed0-f9dae259b678",
   "metadata": {},
   "outputs": [
    {
     "data": {
      "text/plain": [
       "Index(['date', 'close', 'high', 'low', 'open', 'volume', 'adjclose', 'adjhigh',\n",
       "       'adjlow', 'adjopen', 'adjvolume', 'divcash', 'splitfactor', 'ticker',\n",
       "       'year', 'month', 'quarter', 'week', 'realtime_start', 'realtime_end',\n",
       "       'rf', 'factor', 'risk', 'sigma', 'office', 'sell_price', 'sell_date'],\n",
       "      dtype='object')"
      ]
     },
     "execution_count": 29,
     "metadata": {},
     "output_type": "execute_result"
    }
   ],
   "source": [
    "## getting names\n",
    "simulation = pd.concat(prices).merge(index[[\"ticker\",\"office\"]],on=\"ticker\",how=\"left\")\n",
    "\n",
    "## subsetting backtesting data\n",
    "simulation = simulation[(simulation[\"year\"]>=model_end) & (simulation[\"year\"]<backtest_end)].dropna(subset=\"factor\")\n",
    "tickers = list(simulation[simulation[\"year\"]==model_end][\"ticker\"].unique())\n",
    "simulation = simulation[simulation[\"ticker\"].isin(tickers)]\n",
    "\n",
    "simulation.sort_values(\"date\", inplace=True)\n",
    "simulation[\"sell_price\"] = simulation[\"adjclose\"]\n",
    "simulation[\"sell_date\"] = simulation[\"date\"]\n",
    "simulation.columns"
   ]
  },
  {
   "cell_type": "code",
   "execution_count": 30,
   "id": "ad5f0870-72f1-4427-b215-a794c755cc6a",
   "metadata": {},
   "outputs": [
    {
     "data": {
      "text/plain": [
       "Index(['date', 'close', 'high', 'low', 'open', 'volume', 'adjclose', 'adjhigh',\n",
       "       'adjlow', 'adjopen', 'adjvolume', 'divcash', 'splitfactor', 'ticker',\n",
       "       'year', 'month', 'quarter', 'week', 'realtime_start', 'realtime_end',\n",
       "       'rf', 'factor', 'risk', 'sigma', 'office', 'sell_price', 'sell_date'],\n",
       "      dtype='object')"
      ]
     },
     "execution_count": 30,
     "metadata": {},
     "output_type": "execute_result"
    }
   ],
   "source": [
    "simulation.columns"
   ]
  },
  {
   "cell_type": "code",
   "execution_count": 31,
   "id": "6ed16a90-2e22-4801-ba0f-27be1b70db4e",
   "metadata": {},
   "outputs": [],
   "source": [
    "portfolios = PortfolioSelection.generate_possible_portfolios(group_percentages=[0.05],grouping_columns=[\"office\"])"
   ]
  },
  {
   "cell_type": "code",
   "execution_count": 32,
   "id": "953a0a5f-607d-41b7-91de-7b633013bc3e",
   "metadata": {},
   "outputs": [],
   "source": [
    "## Defining Benchmark\n",
    "market.connect()\n",
    "benchmark = market.query(\"prices\",{\"ticker\":\"JPM\"})\n",
    "market.disconnect()\n",
    "benchmark = Benchmark.convert_to_benchmark(benchmark,\"adjclose\")"
   ]
  },
  {
   "cell_type": "code",
   "execution_count": 33,
   "id": "77503bfe-13cf-4b3f-b975-a6d519b71862",
   "metadata": {},
   "outputs": [
    {
     "name": "stderr",
     "output_type": "stream",
     "text": [
      "100%|███████████████████████████████████████████████████████████████████████████████████████████████████████████████████████████████████████████████████████████████████████████████████████████████| 18/18 [00:37<00:00,  2.06s/it]\n"
     ]
    }
   ],
   "source": [
    "run = True\n",
    "if run:\n",
    "    analysises = []\n",
    "    for portfolio in tqdm(portfolios):\n",
    "        try:\n",
    "            trades = portfolio.trades(simulation.copy())\n",
    "            performance = portfolio.portfolio(trades.copy(),benchmark.copy())\n",
    "            metrics = Metrics.performance(trades,performance)\n",
    "            results = {**portfolio.to_dict(),**metrics.copy()}\n",
    "            results[\"portfolio\"] = portfolio\n",
    "            analysises.append(results)\n",
    "        except Exception as e:\n",
    "            print(str(e))\n",
    "            continue"
   ]
  },
  {
   "cell_type": "code",
   "execution_count": 34,
   "id": "52720f5f-bd79-4d9c-ba27-08401d6e7cf1",
   "metadata": {
    "scrolled": true
   },
   "outputs": [
    {
     "data": {
      "text/plain": [
       "Index(['timeframe', 'ranking_metric', 'position_type', 'selection_type',\n",
       "       'selection_percentage', 'grouping_column', 'date', 'pnl', 'downside',\n",
       "       'coefficient_of_variation', 'portfolio_std', 'average_gain',\n",
       "       'average_loss', 'win_loss_ratio', 'weekly_return', 'sharpe_ratio',\n",
       "       'portfolio'],\n",
       "      dtype='object')"
      ]
     },
     "execution_count": 34,
     "metadata": {},
     "output_type": "execute_result"
    }
   ],
   "source": [
    "a = pd.DataFrame(analysises)\n",
    "a.columns"
   ]
  },
  {
   "cell_type": "code",
   "execution_count": 35,
   "id": "ffdcee08-f13c-497c-a627-b89480f8f437",
   "metadata": {},
   "outputs": [],
   "source": [
    "a[\"color\"] = [\"blue\" if x == \"top\" else \"red\" if x == \"bottom\"  else \"green\" for x in a[\"selection_type\"]]\n",
    "a[\"return_to_risk\"] = a[\"pnl\"] / a[\"portfolio_std\"]"
   ]
  },
  {
   "cell_type": "code",
   "execution_count": 36,
   "id": "643181bd-7445-4a3c-a4d8-cb3ffb7b420a",
   "metadata": {},
   "outputs": [
    {
     "data": {
      "image/png": "[encoded data removed]",
      "text/plain": [
       "<Figure size 1200x600 with 2 Axes>"
      ]
     },
     "metadata": {},
     "output_type": "display_data"
    }
   ],
   "source": [
    "fig, axes = plt.subplots(1, 2, figsize=(12, 6), sharey=True)\n",
    "\n",
    "# Titles for each subplot\n",
    "titles = [\"Long\", \"Short\"]\n",
    "\n",
    "# Iterate over directions and corresponding axes\n",
    "for i, position_type in enumerate([\"long\", \"short\"]):\n",
    "    d_analysis = a[a[\"position_type\"] == position_type]\n",
    "    axes[i].scatter(\n",
    "        d_analysis[\"pnl\"],\n",
    "        d_analysis[\"portfolio_std\"],\n",
    "        c=d_analysis[\"color\"],\n",
    "        s=d_analysis[\"selection_percentage\"] * 100,\n",
    "        alpha=0.8,\n",
    "        edgecolors=\"w\",\n",
    "    )\n",
    "    axes[i].set_title(titles[i])\n",
    "    axes[i].set_xlabel(\"return_to_risk\")\n",
    "    axes[i].set_ylabel(\"sharpe_ratio\" if i == 0 else \"\")  # Only label y-axis on the first plot\n",
    "\n",
    "# Adjust layout for better spacing\n",
    "plt.tight_layout()\n",
    "\n",
    "# Show the combined plot\n",
    "plt.show()"
   ]
  },
  {
   "cell_type": "code",
   "execution_count": 37,
   "id": "735ed1bc-01f2-4e36-acb7-cab72ad2757f",
   "metadata": {},
   "outputs": [
    {
     "data": {
      "text/html": [
       "<div>\n",
       "<style scoped>\n",
       "    .dataframe tbody tr th:only-of-type {\n",
       "        vertical-align: middle;\n",
       "    }\n",
       "\n",
       "    .dataframe tbody tr th {\n",
       "        vertical-align: top;\n",
       "    }\n",
       "\n",
       "    .dataframe thead th {\n",
       "        text-align: right;\n",
       "    }\n",
       "</style>\n",
       "<table border=\"1\" class=\"dataframe\">\n",
       "  <thead>\n",
       "    <tr style=\"text-align: right;\">\n",
       "      <th></th>\n",
       "      <th>pnl</th>\n",
       "      <th>timeframe</th>\n",
       "      <th>ranking_metric</th>\n",
       "      <th>position_type</th>\n",
       "      <th>selection_type</th>\n",
       "      <th>selection_percentage</th>\n",
       "      <th>grouping_column</th>\n",
       "      <th>downside</th>\n",
       "      <th>coefficient_of_variation</th>\n",
       "      <th>portfolio_std</th>\n",
       "      <th>average_gain</th>\n",
       "      <th>average_loss</th>\n",
       "      <th>win_loss_ratio</th>\n",
       "      <th>weekly_return</th>\n",
       "      <th>sharpe_ratio</th>\n",
       "      <th>portfolio</th>\n",
       "      <th>color</th>\n",
       "      <th>return_to_risk</th>\n",
       "    </tr>\n",
       "  </thead>\n",
       "  <tbody>\n",
       "    <tr>\n",
       "      <th>17</th>\n",
       "      <td>2.955212</td>\n",
       "      <td>quarter</td>\n",
       "      <td>factor</td>\n",
       "      <td>short</td>\n",
       "      <td>top</td>\n",
       "      <td>0.05</td>\n",
       "      <td>office</td>\n",
       "      <td>0.933267</td>\n",
       "      <td>0.204073</td>\n",
       "      <td>0.577086</td>\n",
       "      <td>1.256719</td>\n",
       "      <td>0.708548</td>\n",
       "      <td>0.630338</td>\n",
       "      <td>1.054081</td>\n",
       "      <td>1.818632</td>\n",
       "      <td>&lt;financial_common.portfolio_management.portfol...</td>\n",
       "      <td>blue</td>\n",
       "      <td>5.120926</td>\n",
       "    </tr>\n",
       "    <tr>\n",
       "      <th>16</th>\n",
       "      <td>2.496781</td>\n",
       "      <td>month</td>\n",
       "      <td>factor</td>\n",
       "      <td>short</td>\n",
       "      <td>top</td>\n",
       "      <td>0.05</td>\n",
       "      <td>office</td>\n",
       "      <td>0.851584</td>\n",
       "      <td>0.072111</td>\n",
       "      <td>0.396329</td>\n",
       "      <td>1.153349</td>\n",
       "      <td>0.837044</td>\n",
       "      <td>0.594212</td>\n",
       "      <td>1.024997</td>\n",
       "      <td>1.888731</td>\n",
       "      <td>&lt;financial_common.portfolio_management.portfol...</td>\n",
       "      <td>blue</td>\n",
       "      <td>6.299774</td>\n",
       "    </tr>\n",
       "    <tr>\n",
       "      <th>15</th>\n",
       "      <td>2.152520</td>\n",
       "      <td>week</td>\n",
       "      <td>factor</td>\n",
       "      <td>short</td>\n",
       "      <td>top</td>\n",
       "      <td>0.05</td>\n",
       "      <td>office</td>\n",
       "      <td>0.884564</td>\n",
       "      <td>0.032992</td>\n",
       "      <td>0.284589</td>\n",
       "      <td>1.062219</td>\n",
       "      <td>0.934738</td>\n",
       "      <td>0.555167</td>\n",
       "      <td>1.005511</td>\n",
       "      <td>1.782076</td>\n",
       "      <td>&lt;financial_common.portfolio_management.portfol...</td>\n",
       "      <td>blue</td>\n",
       "      <td>7.563595</td>\n",
       "    </tr>\n",
       "    <tr>\n",
       "      <th>14</th>\n",
       "      <td>1.741056</td>\n",
       "      <td>week</td>\n",
       "      <td>factor</td>\n",
       "      <td>short</td>\n",
       "      <td>bottom</td>\n",
       "      <td>0.05</td>\n",
       "      <td>office</td>\n",
       "      <td>0.834815</td>\n",
       "      <td>0.038470</td>\n",
       "      <td>0.211985</td>\n",
       "      <td>1.065553</td>\n",
       "      <td>0.926629</td>\n",
       "      <td>0.556942</td>\n",
       "      <td>1.004002</td>\n",
       "      <td>0.451427</td>\n",
       "      <td>&lt;financial_common.portfolio_management.portfol...</td>\n",
       "      <td>red</td>\n",
       "      <td>8.213088</td>\n",
       "    </tr>\n",
       "    <tr>\n",
       "      <th>13</th>\n",
       "      <td>1.539353</td>\n",
       "      <td>month</td>\n",
       "      <td>factor</td>\n",
       "      <td>short</td>\n",
       "      <td>bottom</td>\n",
       "      <td>0.05</td>\n",
       "      <td>office</td>\n",
       "      <td>0.756445</td>\n",
       "      <td>0.076908</td>\n",
       "      <td>0.172521</td>\n",
       "      <td>1.156065</td>\n",
       "      <td>0.815486</td>\n",
       "      <td>0.581350</td>\n",
       "      <td>1.013482</td>\n",
       "      <td>-1.210690</td>\n",
       "      <td>&lt;financial_common.portfolio_management.portfol...</td>\n",
       "      <td>red</td>\n",
       "      <td>8.922710</td>\n",
       "    </tr>\n",
       "    <tr>\n",
       "      <th>12</th>\n",
       "      <td>1.520903</td>\n",
       "      <td>quarter</td>\n",
       "      <td>factor</td>\n",
       "      <td>short</td>\n",
       "      <td>bottom</td>\n",
       "      <td>0.05</td>\n",
       "      <td>office</td>\n",
       "      <td>0.866181</td>\n",
       "      <td>0.067922</td>\n",
       "      <td>0.131078</td>\n",
       "      <td>1.266170</td>\n",
       "      <td>0.678031</td>\n",
       "      <td>0.606756</td>\n",
       "      <td>1.034888</td>\n",
       "      <td>-2.935683</td>\n",
       "      <td>&lt;financial_common.portfolio_management.portfol...</td>\n",
       "      <td>red</td>\n",
       "      <td>11.603035</td>\n",
       "    </tr>\n",
       "    <tr>\n",
       "      <th>11</th>\n",
       "      <td>1.282839</td>\n",
       "      <td>quarter</td>\n",
       "      <td>factor</td>\n",
       "      <td>long</td>\n",
       "      <td>mixed</td>\n",
       "      <td>0.05</td>\n",
       "      <td>office</td>\n",
       "      <td>1.000000</td>\n",
       "      <td>0.080397</td>\n",
       "      <td>0.105114</td>\n",
       "      <td>1.297236</td>\n",
       "      <td>0.706603</td>\n",
       "      <td>0.530274</td>\n",
       "      <td>1.019800</td>\n",
       "      <td>-5.925616</td>\n",
       "      <td>&lt;financial_common.portfolio_management.portfol...</td>\n",
       "      <td>green</td>\n",
       "      <td>12.204229</td>\n",
       "    </tr>\n",
       "    <tr>\n",
       "      <th>10</th>\n",
       "      <td>1.141459</td>\n",
       "      <td>month</td>\n",
       "      <td>factor</td>\n",
       "      <td>long</td>\n",
       "      <td>mixed</td>\n",
       "      <td>0.05</td>\n",
       "      <td>office</td>\n",
       "      <td>0.905003</td>\n",
       "      <td>0.024820</td>\n",
       "      <td>0.053635</td>\n",
       "      <td>1.170650</td>\n",
       "      <td>0.834321</td>\n",
       "      <td>0.503108</td>\n",
       "      <td>1.003531</td>\n",
       "      <td>-11.312767</td>\n",
       "      <td>&lt;financial_common.portfolio_management.portfol...</td>\n",
       "      <td>green</td>\n",
       "      <td>21.281875</td>\n",
       "    </tr>\n",
       "    <tr>\n",
       "      <th>9</th>\n",
       "      <td>1.008501</td>\n",
       "      <td>week</td>\n",
       "      <td>factor</td>\n",
       "      <td>short</td>\n",
       "      <td>mixed</td>\n",
       "      <td>0.05</td>\n",
       "      <td>office</td>\n",
       "      <td>0.938092</td>\n",
       "      <td>0.010550</td>\n",
       "      <td>0.020749</td>\n",
       "      <td>1.067998</td>\n",
       "      <td>0.927970</td>\n",
       "      <td>0.514908</td>\n",
       "      <td>1.000072</td>\n",
       "      <td>-30.693844</td>\n",
       "      <td>&lt;financial_common.portfolio_management.portfol...</td>\n",
       "      <td>green</td>\n",
       "      <td>48.605418</td>\n",
       "    </tr>\n",
       "    <tr>\n",
       "      <th>8</th>\n",
       "      <td>0.978898</td>\n",
       "      <td>week</td>\n",
       "      <td>factor</td>\n",
       "      <td>long</td>\n",
       "      <td>mixed</td>\n",
       "      <td>0.05</td>\n",
       "      <td>office</td>\n",
       "      <td>0.944447</td>\n",
       "      <td>0.010540</td>\n",
       "      <td>0.021908</td>\n",
       "      <td>1.069192</td>\n",
       "      <td>0.929269</td>\n",
       "      <td>0.504987</td>\n",
       "      <td>0.999928</td>\n",
       "      <td>-30.421454</td>\n",
       "      <td>&lt;financial_common.portfolio_management.portfol...</td>\n",
       "      <td>green</td>\n",
       "      <td>44.682994</td>\n",
       "    </tr>\n",
       "    <tr>\n",
       "      <th>7</th>\n",
       "      <td>0.866925</td>\n",
       "      <td>month</td>\n",
       "      <td>factor</td>\n",
       "      <td>short</td>\n",
       "      <td>mixed</td>\n",
       "      <td>0.05</td>\n",
       "      <td>office</td>\n",
       "      <td>0.905633</td>\n",
       "      <td>0.025210</td>\n",
       "      <td>0.050409</td>\n",
       "      <td>1.163146</td>\n",
       "      <td>0.826692</td>\n",
       "      <td>0.504609</td>\n",
       "      <td>0.996469</td>\n",
       "      <td>-17.482912</td>\n",
       "      <td>&lt;financial_common.portfolio_management.portfol...</td>\n",
       "      <td>green</td>\n",
       "      <td>17.197799</td>\n",
       "    </tr>\n",
       "    <tr>\n",
       "      <th>6</th>\n",
       "      <td>0.766176</td>\n",
       "      <td>quarter</td>\n",
       "      <td>factor</td>\n",
       "      <td>short</td>\n",
       "      <td>mixed</td>\n",
       "      <td>0.05</td>\n",
       "      <td>office</td>\n",
       "      <td>0.747460</td>\n",
       "      <td>0.084227</td>\n",
       "      <td>0.088675</td>\n",
       "      <td>1.291420</td>\n",
       "      <td>0.700967</td>\n",
       "      <td>0.472913</td>\n",
       "      <td>0.980200</td>\n",
       "      <td>-12.850596</td>\n",
       "      <td>&lt;financial_common.portfolio_management.portfol...</td>\n",
       "      <td>green</td>\n",
       "      <td>8.640247</td>\n",
       "    </tr>\n",
       "    <tr>\n",
       "      <th>5</th>\n",
       "      <td>0.586114</td>\n",
       "      <td>quarter</td>\n",
       "      <td>factor</td>\n",
       "      <td>long</td>\n",
       "      <td>bottom</td>\n",
       "      <td>0.05</td>\n",
       "      <td>office</td>\n",
       "      <td>0.663591</td>\n",
       "      <td>0.081505</td>\n",
       "      <td>0.093218</td>\n",
       "      <td>1.318868</td>\n",
       "      <td>0.732142</td>\n",
       "      <td>0.397068</td>\n",
       "      <td>0.965112</td>\n",
       "      <td>-14.155956</td>\n",
       "      <td>&lt;financial_common.portfolio_management.portfol...</td>\n",
       "      <td>red</td>\n",
       "      <td>6.287553</td>\n",
       "    </tr>\n",
       "    <tr>\n",
       "      <th>4</th>\n",
       "      <td>0.504725</td>\n",
       "      <td>month</td>\n",
       "      <td>factor</td>\n",
       "      <td>long</td>\n",
       "      <td>bottom</td>\n",
       "      <td>0.05</td>\n",
       "      <td>office</td>\n",
       "      <td>0.553718</td>\n",
       "      <td>0.082967</td>\n",
       "      <td>0.119481</td>\n",
       "      <td>1.182274</td>\n",
       "      <td>0.842541</td>\n",
       "      <td>0.423794</td>\n",
       "      <td>0.986518</td>\n",
       "      <td>-10.407476</td>\n",
       "      <td>&lt;financial_common.portfolio_management.portfol...</td>\n",
       "      <td>red</td>\n",
       "      <td>4.224308</td>\n",
       "    </tr>\n",
       "    <tr>\n",
       "      <th>3</th>\n",
       "      <td>0.479716</td>\n",
       "      <td>week</td>\n",
       "      <td>factor</td>\n",
       "      <td>long</td>\n",
       "      <td>bottom</td>\n",
       "      <td>0.05</td>\n",
       "      <td>office</td>\n",
       "      <td>0.753175</td>\n",
       "      <td>0.039252</td>\n",
       "      <td>0.149462</td>\n",
       "      <td>1.070480</td>\n",
       "      <td>0.932236</td>\n",
       "      <td>0.461229</td>\n",
       "      <td>0.995998</td>\n",
       "      <td>-7.798925</td>\n",
       "      <td>&lt;financial_common.portfolio_management.portfol...</td>\n",
       "      <td>red</td>\n",
       "      <td>3.209612</td>\n",
       "    </tr>\n",
       "    <tr>\n",
       "      <th>2</th>\n",
       "      <td>0.407121</td>\n",
       "      <td>week</td>\n",
       "      <td>factor</td>\n",
       "      <td>long</td>\n",
       "      <td>top</td>\n",
       "      <td>0.05</td>\n",
       "      <td>office</td>\n",
       "      <td>0.814045</td>\n",
       "      <td>0.034011</td>\n",
       "      <td>0.155759</td>\n",
       "      <td>1.062588</td>\n",
       "      <td>0.935575</td>\n",
       "      <td>0.463840</td>\n",
       "      <td>0.994489</td>\n",
       "      <td>-7.949715</td>\n",
       "      <td>&lt;financial_common.portfolio_management.portfol...</td>\n",
       "      <td>blue</td>\n",
       "      <td>2.613794</td>\n",
       "    </tr>\n",
       "    <tr>\n",
       "      <th>1</th>\n",
       "      <td>0.339257</td>\n",
       "      <td>month</td>\n",
       "      <td>factor</td>\n",
       "      <td>long</td>\n",
       "      <td>top</td>\n",
       "      <td>0.05</td>\n",
       "      <td>office</td>\n",
       "      <td>0.622383</td>\n",
       "      <td>0.083598</td>\n",
       "      <td>0.153773</td>\n",
       "      <td>1.160080</td>\n",
       "      <td>0.844747</td>\n",
       "      <td>0.413076</td>\n",
       "      <td>0.975003</td>\n",
       "      <td>-9.162647</td>\n",
       "      <td>&lt;financial_common.portfolio_management.portfol...</td>\n",
       "      <td>blue</td>\n",
       "      <td>2.206224</td>\n",
       "    </tr>\n",
       "    <tr>\n",
       "      <th>0</th>\n",
       "      <td>0.220154</td>\n",
       "      <td>quarter</td>\n",
       "      <td>factor</td>\n",
       "      <td>long</td>\n",
       "      <td>top</td>\n",
       "      <td>0.05</td>\n",
       "      <td>office</td>\n",
       "      <td>0.350959</td>\n",
       "      <td>0.229722</td>\n",
       "      <td>0.196059</td>\n",
       "      <td>1.289456</td>\n",
       "      <td>0.742238</td>\n",
       "      <td>0.372212</td>\n",
       "      <td>0.945919</td>\n",
       "      <td>-8.597187</td>\n",
       "      <td>&lt;financial_common.portfolio_management.portfol...</td>\n",
       "      <td>blue</td>\n",
       "      <td>1.122900</td>\n",
       "    </tr>\n",
       "  </tbody>\n",
       "</table>\n",
       "</div>"
      ],
      "text/plain": [
       "         pnl timeframe ranking_metric position_type selection_type  \\\n",
       "17  2.955212   quarter         factor         short            top   \n",
       "16  2.496781     month         factor         short            top   \n",
       "15  2.152520      week         factor         short            top   \n",
       "14  1.741056      week         factor         short         bottom   \n",
       "13  1.539353     month         factor         short         bottom   \n",
       "12  1.520903   quarter         factor         short         bottom   \n",
       "11  1.282839   quarter         factor          long          mixed   \n",
       "10  1.141459     month         factor          long          mixed   \n",
       "9   1.008501      week         factor         short          mixed   \n",
       "8   0.978898      week         factor          long          mixed   \n",
       "7   0.866925     month         factor         short          mixed   \n",
       "6   0.766176   quarter         factor         short          mixed   \n",
       "5   0.586114   quarter         factor          long         bottom   \n",
       "4   0.504725     month         factor          long         bottom   \n",
       "3   0.479716      week         factor          long         bottom   \n",
       "2   0.407121      week         factor          long            top   \n",
       "1   0.339257     month         factor          long            top   \n",
       "0   0.220154   quarter         factor          long            top   \n",
       "\n",
       "    selection_percentage grouping_column  downside  coefficient_of_variation  \\\n",
       "17                  0.05          office  0.933267                  0.204073   \n",
       "16                  0.05          office  0.851584                  0.072111   \n",
       "15                  0.05          office  0.884564                  0.032992   \n",
       "14                  0.05          office  0.834815                  0.038470   \n",
       "13                  0.05          office  0.756445                  0.076908   \n",
       "12                  0.05          office  0.866181                  0.067922   \n",
       "11                  0.05          office  1.000000                  0.080397   \n",
       "10                  0.05          office  0.905003                  0.024820   \n",
       "9                   0.05          office  0.938092                  0.010550   \n",
       "8                   0.05          office  0.944447                  0.010540   \n",
       "7                   0.05          office  0.905633                  0.025210   \n",
       "6                   0.05          office  0.747460                  0.084227   \n",
       "5                   0.05          office  0.663591                  0.081505   \n",
       "4                   0.05          office  0.553718                  0.082967   \n",
       "3                   0.05          office  0.753175                  0.039252   \n",
       "2                   0.05          office  0.814045                  0.034011   \n",
       "1                   0.05          office  0.622383                  0.083598   \n",
       "0                   0.05          office  0.350959                  0.229722   \n",
       "\n",
       "    portfolio_std  average_gain  average_loss  win_loss_ratio  weekly_return  \\\n",
       "17       0.577086      1.256719      0.708548        0.630338       1.054081   \n",
       "16       0.396329      1.153349      0.837044        0.594212       1.024997   \n",
       "15       0.284589      1.062219      0.934738        0.555167       1.005511   \n",
       "14       0.211985      1.065553      0.926629        0.556942       1.004002   \n",
       "13       0.172521      1.156065      0.815486        0.581350       1.013482   \n",
       "12       0.131078      1.266170      0.678031        0.606756       1.034888   \n",
       "11       0.105114      1.297236      0.706603        0.530274       1.019800   \n",
       "10       0.053635      1.170650      0.834321        0.503108       1.003531   \n",
       "9        0.020749      1.067998      0.927970        0.514908       1.000072   \n",
       "8        0.021908      1.069192      0.929269        0.504987       0.999928   \n",
       "7        0.050409      1.163146      0.826692        0.504609       0.996469   \n",
       "6        0.088675      1.291420      0.700967        0.472913       0.980200   \n",
       "5        0.093218      1.318868      0.732142        0.397068       0.965112   \n",
       "4        0.119481      1.182274      0.842541        0.423794       0.986518   \n",
       "3        0.149462      1.070480      0.932236        0.461229       0.995998   \n",
       "2        0.155759      1.062588      0.935575        0.463840       0.994489   \n",
       "1        0.153773      1.160080      0.844747        0.413076       0.975003   \n",
       "0        0.196059      1.289456      0.742238        0.372212       0.945919   \n",
       "\n",
       "    sharpe_ratio                                          portfolio  color  \\\n",
       "17      1.818632  <financial_common.portfolio_management.portfol...   blue   \n",
       "16      1.888731  <financial_common.portfolio_management.portfol...   blue   \n",
       "15      1.782076  <financial_common.portfolio_management.portfol...   blue   \n",
       "14      0.451427  <financial_common.portfolio_management.portfol...    red   \n",
       "13     -1.210690  <financial_common.portfolio_management.portfol...    red   \n",
       "12     -2.935683  <financial_common.portfolio_management.portfol...    red   \n",
       "11     -5.925616  <financial_common.portfolio_management.portfol...  green   \n",
       "10    -11.312767  <financial_common.portfolio_management.portfol...  green   \n",
       "9     -30.693844  <financial_common.portfolio_management.portfol...  green   \n",
       "8     -30.421454  <financial_common.portfolio_management.portfol...  green   \n",
       "7     -17.482912  <financial_common.portfolio_management.portfol...  green   \n",
       "6     -12.850596  <financial_common.portfolio_management.portfol...  green   \n",
       "5     -14.155956  <financial_common.portfolio_management.portfol...    red   \n",
       "4     -10.407476  <financial_common.portfolio_management.portfol...    red   \n",
       "3      -7.798925  <financial_common.portfolio_management.portfol...    red   \n",
       "2      -7.949715  <financial_common.portfolio_management.portfol...   blue   \n",
       "1      -9.162647  <financial_common.portfolio_management.portfol...   blue   \n",
       "0      -8.597187  <financial_common.portfolio_management.portfol...   blue   \n",
       "\n",
       "    return_to_risk  \n",
       "17        5.120926  \n",
       "16        6.299774  \n",
       "15        7.563595  \n",
       "14        8.213088  \n",
       "13        8.922710  \n",
       "12       11.603035  \n",
       "11       12.204229  \n",
       "10       21.281875  \n",
       "9        48.605418  \n",
       "8        44.682994  \n",
       "7        17.197799  \n",
       "6         8.640247  \n",
       "5         6.287553  \n",
       "4         4.224308  \n",
       "3         3.209612  \n",
       "2         2.613794  \n",
       "1         2.206224  \n",
       "0         1.122900  "
      ]
     },
     "execution_count": 37,
     "metadata": {},
     "output_type": "execute_result"
    }
   ],
   "source": [
    "a.groupby(\"pnl\").first().reset_index().drop(\"date\",axis=1).sort_values(\"pnl\",ascending=False).head(20)"
   ]
  },
  {
   "cell_type": "code",
   "execution_count": 38,
   "id": "fb63bbf6-0639-445b-aef4-44998e4f17fb",
   "metadata": {},
   "outputs": [
    {
     "data": {
      "text/plain": [
       "{'timeframe': 'quarter',\n",
       " 'ranking_metric': 'factor',\n",
       " 'position_type': 'short',\n",
       " 'selection_type': 'top',\n",
       " 'selection_percentage': 0.05,\n",
       " 'grouping_column': 'office',\n",
       " 'date': Timestamp('2025-03-20 00:00:00+0000', tz='UTC'),\n",
       " 'pnl': 2.955212227880314,\n",
       " 'downside': 0.9332669882869792,\n",
       " 'coefficient_of_variation': 0.20407322329018376,\n",
       " 'portfolio_std': 0.5770855589293122,\n",
       " 'average_gain': 1.2567192792882742,\n",
       " 'average_loss': 0.7085477814897694,\n",
       " 'win_loss_ratio': 0.6303377947737412,\n",
       " 'weekly_return': 1.0540809945698977,\n",
       " 'sharpe_ratio': 1.8186321070056435,\n",
       " 'portfolio': <financial_common.portfolio_management.portfolio.Portfolio at 0x2371a9e9ed0>,\n",
       " 'color': 'blue',\n",
       " 'return_to_risk': 5.120925627325048}"
      ]
     },
     "execution_count": 38,
     "metadata": {},
     "output_type": "execute_result"
    }
   ],
   "source": [
    "top = a.sort_values(\"pnl\",ascending=False).head(1).to_dict(\"records\")[0]\n",
    "top"
   ]
  },
  {
   "cell_type": "code",
   "execution_count": 39,
   "id": "1bef746e-1a59-467c-8252-15d65257bddd",
   "metadata": {},
   "outputs": [],
   "source": [
    "pm = top[\"portfolio\"]\n",
    "trades = pm.trades(simulation.copy()).merge(index[[\"ticker\",\"office\"]],on=\"ticker\",how=\"left\")\n",
    "trades = p.additional_date_columns(trades)\n",
    "portfolio = pm.portfolio(trades.copy(),benchmark.copy())\n",
    "portfolio = p.additional_date_columns(portfolio)"
   ]
  },
  {
   "cell_type": "code",
   "execution_count": 40,
   "id": "fa25dd38-54ef-46d7-870c-3600752c58f0",
   "metadata": {},
   "outputs": [
    {
     "data": {
      "image/png": "[encoded data removed]",
      "text/plain": [
       "<Figure size 1200x600 with 1 Axes>"
      ]
     },
     "metadata": {},
     "output_type": "display_data"
    }
   ],
   "source": [
    "portfolio['Year-Quarter'] = portfolio[\"year\"].astype(str) + \"q\" + portfolio[\"quarter\"].astype(str)\n",
    "ax = portfolio[[\"Year-Quarter\",\"pnl\",\"benchmark_pnl\"]].set_index(\"Year-Quarter\").plot(\n",
    "    kind=\"line\",\n",
    "    figsize=(12, 6),\n",
    "    title=\"Mean Returns by Exposure per Year and Quarter\"\n",
    ")\n",
    "\n",
    "# Set y-axis to have more precise ticks\n",
    "ax.tick_params(axis='y', direction='in', length=6)  # Adjust y-tick direction and length\n",
    "ax.yaxis.set_major_formatter(plt.FuncFormatter(lambda x, _: f'{x:.4f}'))  # Format y-ticks with 4 decimal places\n",
    "\n",
    "# Move y-ticks to the right side\n",
    "ax.yaxis.set_tick_params(which='both', direction='inout', length=6, labelleft=False, labelright=True)\n",
    "\n",
    "# Optionally adjust the number of ticks for better precision\n",
    "ax.yaxis.set_major_locator(plt.MaxNLocator(integer=False, prune='both'))\n",
    "\n",
    "# Add grid lines\n",
    "ax.grid(True, which='both', axis='both', linestyle='--', linewidth=0.7)\n",
    "\n",
    "# Display the plot\n",
    "plt.tight_layout()\n",
    "plt.show()"
   ]
  },
  {
   "cell_type": "code",
   "execution_count": 41,
   "id": "29ff3a2d-fa01-47bb-8c97-ce149d488acf",
   "metadata": {},
   "outputs": [
    {
     "data": {
      "text/html": [
       "<div>\n",
       "<style scoped>\n",
       "    .dataframe tbody tr th:only-of-type {\n",
       "        vertical-align: middle;\n",
       "    }\n",
       "\n",
       "    .dataframe tbody tr th {\n",
       "        vertical-align: top;\n",
       "    }\n",
       "\n",
       "    .dataframe thead th {\n",
       "        text-align: right;\n",
       "    }\n",
       "</style>\n",
       "<table border=\"1\" class=\"dataframe\">\n",
       "  <thead>\n",
       "    <tr style=\"text-align: right;\">\n",
       "      <th></th>\n",
       "      <th>date</th>\n",
       "      <th>return</th>\n",
       "      <th>pnl</th>\n",
       "      <th>benchmark</th>\n",
       "      <th>benchmark_pnl</th>\n",
       "      <th>year</th>\n",
       "      <th>month</th>\n",
       "      <th>quarter</th>\n",
       "      <th>week</th>\n",
       "      <th>Year-Quarter</th>\n",
       "    </tr>\n",
       "  </thead>\n",
       "  <tbody>\n",
       "    <tr>\n",
       "      <th>9</th>\n",
       "      <td>2024-06-28 00:00:00+00:00</td>\n",
       "      <td>1.077770</td>\n",
       "      <td>1.748155</td>\n",
       "      <td>198.914903</td>\n",
       "      <td>1.586014</td>\n",
       "      <td>2024</td>\n",
       "      <td>6</td>\n",
       "      <td>2</td>\n",
       "      <td>26</td>\n",
       "      <td>2024q2</td>\n",
       "    </tr>\n",
       "    <tr>\n",
       "      <th>10</th>\n",
       "      <td>2024-09-30 00:00:00+00:00</td>\n",
       "      <td>1.058973</td>\n",
       "      <td>1.851248</td>\n",
       "      <td>208.537174</td>\n",
       "      <td>1.662736</td>\n",
       "      <td>2024</td>\n",
       "      <td>9</td>\n",
       "      <td>3</td>\n",
       "      <td>40</td>\n",
       "      <td>2024q3</td>\n",
       "    </tr>\n",
       "    <tr>\n",
       "      <th>11</th>\n",
       "      <td>2024-11-29 00:00:00+00:00</td>\n",
       "      <td>1.515474</td>\n",
       "      <td>2.805519</td>\n",
       "      <td>248.430657</td>\n",
       "      <td>1.980820</td>\n",
       "      <td>2024</td>\n",
       "      <td>11</td>\n",
       "      <td>4</td>\n",
       "      <td>48</td>\n",
       "      <td>2024q4</td>\n",
       "    </tr>\n",
       "    <tr>\n",
       "      <th>12</th>\n",
       "      <td>2024-12-31 00:00:00+00:00</td>\n",
       "      <td>0.933267</td>\n",
       "      <td>2.618298</td>\n",
       "      <td>238.472340</td>\n",
       "      <td>1.901419</td>\n",
       "      <td>2024</td>\n",
       "      <td>12</td>\n",
       "      <td>4</td>\n",
       "      <td>1</td>\n",
       "      <td>2024q4</td>\n",
       "    </tr>\n",
       "    <tr>\n",
       "      <th>13</th>\n",
       "      <td>2025-03-20 00:00:00+00:00</td>\n",
       "      <td>1.128677</td>\n",
       "      <td>2.955212</td>\n",
       "      <td>239.010000</td>\n",
       "      <td>1.905706</td>\n",
       "      <td>2025</td>\n",
       "      <td>3</td>\n",
       "      <td>1</td>\n",
       "      <td>12</td>\n",
       "      <td>2025q1</td>\n",
       "    </tr>\n",
       "  </tbody>\n",
       "</table>\n",
       "</div>"
      ],
      "text/plain": [
       "                        date    return       pnl   benchmark  benchmark_pnl  \\\n",
       "9  2024-06-28 00:00:00+00:00  1.077770  1.748155  198.914903       1.586014   \n",
       "10 2024-09-30 00:00:00+00:00  1.058973  1.851248  208.537174       1.662736   \n",
       "11 2024-11-29 00:00:00+00:00  1.515474  2.805519  248.430657       1.980820   \n",
       "12 2024-12-31 00:00:00+00:00  0.933267  2.618298  238.472340       1.901419   \n",
       "13 2025-03-20 00:00:00+00:00  1.128677  2.955212  239.010000       1.905706   \n",
       "\n",
       "    year  month  quarter  week Year-Quarter  \n",
       "9   2024      6        2    26       2024q2  \n",
       "10  2024      9        3    40       2024q3  \n",
       "11  2024     11        4    48       2024q4  \n",
       "12  2024     12        4     1       2024q4  \n",
       "13  2025      3        1    12       2025q1  "
      ]
     },
     "execution_count": 41,
     "metadata": {},
     "output_type": "execute_result"
    }
   ],
   "source": [
    "portfolio.tail()"
   ]
  },
  {
   "cell_type": "code",
   "execution_count": 47,
   "id": "36cf02b0-947e-445b-9f63-ff00e556ff0b",
   "metadata": {},
   "outputs": [
    {
     "data": {
      "text/html": [
       "<div>\n",
       "<style scoped>\n",
       "    .dataframe tbody tr th:only-of-type {\n",
       "        vertical-align: middle;\n",
       "    }\n",
       "\n",
       "    .dataframe tbody tr th {\n",
       "        vertical-align: top;\n",
       "    }\n",
       "\n",
       "    .dataframe thead th {\n",
       "        text-align: right;\n",
       "    }\n",
       "</style>\n",
       "<table border=\"1\" class=\"dataframe\">\n",
       "  <thead>\n",
       "    <tr style=\"text-align: right;\">\n",
       "      <th></th>\n",
       "      <th>return</th>\n",
       "    </tr>\n",
       "    <tr>\n",
       "      <th>office</th>\n",
       "      <th></th>\n",
       "    </tr>\n",
       "  </thead>\n",
       "  <tbody>\n",
       "    <tr>\n",
       "      <th>Office of Life Sciences</th>\n",
       "      <td>1.115939</td>\n",
       "    </tr>\n",
       "    <tr>\n",
       "      <th>Office of Finance or Office of Crypto Assets</th>\n",
       "      <td>1.095146</td>\n",
       "    </tr>\n",
       "    <tr>\n",
       "      <th>Office of Manufacturing</th>\n",
       "      <td>1.076633</td>\n",
       "    </tr>\n",
       "    <tr>\n",
       "      <th>Industrial Applications and Services</th>\n",
       "      <td>1.067929</td>\n",
       "    </tr>\n",
       "    <tr>\n",
       "      <th>Office of Technology</th>\n",
       "      <td>1.066465</td>\n",
       "    </tr>\n",
       "    <tr>\n",
       "      <th>Office of Real Estate &amp; Construction</th>\n",
       "      <td>1.035686</td>\n",
       "    </tr>\n",
       "    <tr>\n",
       "      <th>Office of Trade &amp; Services</th>\n",
       "      <td>1.033762</td>\n",
       "    </tr>\n",
       "    <tr>\n",
       "      <th>Office of Crypto Assets</th>\n",
       "      <td>1.030475</td>\n",
       "    </tr>\n",
       "    <tr>\n",
       "      <th>Office of Finance</th>\n",
       "      <td>1.008675</td>\n",
       "    </tr>\n",
       "    <tr>\n",
       "      <th>Office of Energy &amp; Transportation</th>\n",
       "      <td>1.007654</td>\n",
       "    </tr>\n",
       "    <tr>\n",
       "      <th>Office of Trade &amp; Services or Office of Energy &amp; Transportation</th>\n",
       "      <td>0.938210</td>\n",
       "    </tr>\n",
       "  </tbody>\n",
       "</table>\n",
       "</div>"
      ],
      "text/plain": [
       "                                                      return\n",
       "office                                                      \n",
       "Office of Life Sciences                             1.115939\n",
       "Office of Finance or Office of Crypto Assets        1.095146\n",
       "Office of Manufacturing                             1.076633\n",
       "Industrial Applications and Services                1.067929\n",
       "Office of Technology                                1.066465\n",
       "Office of Real Estate & Construction                1.035686\n",
       "Office of Trade & Services                          1.033762\n",
       "Office of Crypto Assets                             1.030475\n",
       "Office of Finance                                   1.008675\n",
       "Office of Energy & Transportation                   1.007654\n",
       "Office of Trade & Services or Office of Energy ...  0.938210"
      ]
     },
     "execution_count": 47,
     "metadata": {},
     "output_type": "execute_result"
    }
   ],
   "source": [
    "trades[[\"office\",\"return\"]].groupby(\"office\").mean().sort_values(\"return\",ascending=False)"
   ]
  }
 ],
 "metadata": {
  "kernelspec": {
   "display_name": "Python 3 (ipykernel)",
   "language": "python",
   "name": "python3"
  },
  "language_info": {
   "codemirror_mode": {
    "name": "ipython",
    "version": 3
   },
   "file_extension": ".py",
   "mimetype": "text/x-python",
   "name": "python",
   "nbconvert_exporter": "python",
   "pygments_lexer": "ipython3",
   "version": "3.11.9"
  }
 },
 "nbformat": 4,
 "nbformat_minor": 5
}
