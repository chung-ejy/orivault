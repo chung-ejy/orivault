{
 "cells": [
  {
   "cell_type": "code",
   "execution_count": 2,
   "id": "246c49f1-95ae-48c8-a1c2-a5c621cc768f",
   "metadata": {},
   "outputs": [],
   "source": [
    "## PATH settings\n",
    "import os\n",
    "import sys\n",
    "project_root = os.path.abspath(os.path.join(os.getcwd(), '../../'))\n",
    "sys.path.append(project_root)\n",
    "COMMON_PATH = os.path.join(project_root, 'common')"
   ]
  },
  {
   "cell_type": "code",
   "execution_count": 3,
   "id": "b3f7ffcc-42d9-4090-99b3-6479955e1a5f",
   "metadata": {},
   "outputs": [],
   "source": [
    "## Bespoke class imports\n",
    "from common.database.adatabase import ADatabase\n",
    "from common.processor.processor import Processor as p\n",
    "from common.extractor.alpaca_extractor import AlpacaExtractor\n",
    "from financial_common.indicator.indicator import Indicator\n",
    "from financial_common.risk.benchmark import Benchmark\n",
    "from financial_common.portfolio_management.kpi import KPI\n",
    "from financial_common.metric.metric import Metric\n",
    "from financial_common.portfolio_management.portfolio import Portfolio\n",
    "import numpy as np\n",
    "import matplotlib.pyplot as plt"
   ]
  },
  {
   "cell_type": "code",
   "execution_count": 4,
   "id": "5e602193-3097-4687-bd19-00f3b8bff5d4",
   "metadata": {},
   "outputs": [],
   "source": [
    "## Import standard packages\n",
    "from datetime import timedelta, datetime\n",
    "import matplotlib.pyplot as plt\n",
    "from tqdm import tqdm\n",
    "import pandas as pd\n",
    "from time import sleep\n",
    "import copy"
   ]
  },
  {
   "cell_type": "code",
   "execution_count": 5,
   "id": "01317ec8-a56f-4e96-907f-3b07b4d80013",
   "metadata": {},
   "outputs": [],
   "source": [
    "orivault = ADatabase(\"ori\")\n",
    "alp = AlpacaExtractor(paper=False)"
   ]
  },
  {
   "cell_type": "code",
   "execution_count": 6,
   "id": "8489095c-b17a-41ac-80a0-f4c315737be8",
   "metadata": {},
   "outputs": [],
   "source": [
    "orivault.connect()\n",
    "portfolio_dictionary = orivault.retrieve(\"results\").to_dict(\"records\")[0]\n",
    "orivault.disconnect()\n",
    "orivault.cloud_connect()\n",
    "recommendations = orivault.retrieve(\"recommendations\")\n",
    "orivault.disconnect()"
   ]
  },
  {
   "cell_type": "code",
   "execution_count": 7,
   "id": "ca22f01d-5461-4703-a9ec-73a74fa20aa8",
   "metadata": {},
   "outputs": [],
   "source": [
    "pm = Portfolio.from_dict(portfolio_dictionary)\n",
    "recommendations = recommendations.to_dict(\"records\")"
   ]
  },
  {
   "cell_type": "code",
   "execution_count": 13,
   "id": "dbc529c0-f792-4553-8645-bb2bff9a1930",
   "metadata": {},
   "outputs": [
    {
     "data": {
      "text/plain": [
       "[{'year': 2025,\n",
       "  'day': 143,\n",
       "  'ticker': 'BNAIW',\n",
       "  'date': Timestamp('2025-05-23 00:00:00'),\n",
       "  'adjclose': 0.0102,\n",
       "  'high': 0.02,\n",
       "  'low': 0.0102,\n",
       "  'volume': 665,\n",
       "  'month': 5,\n",
       "  'quarter': 2,\n",
       "  'week': 21,\n",
       "  'weekday': 4,\n",
       "  'market_cap': 6.783,\n",
       "  'standard_dev': 1,\n",
       "  'risk': 1,\n",
       "  'ema': 1.5369900074115241,\n",
       "  'group_percentile': 1,\n",
       "  'rank_percentile': 2,\n",
       "  'major_key': '2025_143_1',\n",
       "  'position_type': 1.0,\n",
       "  'weight': 1.0}]"
      ]
     },
     "execution_count": 13,
     "metadata": {},
     "output_type": "execute_result"
    }
   ],
   "source": [
    "recommendations"
   ]
  },
  {
   "cell_type": "code",
   "execution_count": 11,
   "id": "74872e73-4180-4da0-ae99-fdec6ed07b59",
   "metadata": {},
   "outputs": [
    {
     "name": "stdout",
     "output_type": "stream",
     "text": [
      "BNAIW 0.0103 10899\n"
     ]
    }
   ],
   "source": [
    "\n",
    "account = alp.account()\n",
    "cash = round(float(account[\"cash\"]),2)\n",
    "for recommendation in recommendations:\n",
    "    ticker = str(recommendation[\"ticker\"])\n",
    "    direction = int(recommendation[\"position_type\"])\n",
    "    ticker_data = alp.latest_bar(ticker)\n",
    "    quote = alp.latest_quote(ticker)\n",
    "    adjclose = float(quote[\"bp\"])\n",
    "    allocation = round(cash*recommendation[\"weight\"],2)\n",
    "    qty = int(allocation/adjclose)\n",
    "    print(ticker,adjclose,qty)\n",
    "    # if direction == 1:\n",
    "    #     print(alp.buy(ticker,adjclose,qty))\n",
    "    # elif direction == -1:\n",
    "    #     print(alp.sell(ticker,adjclose,qty))\n",
    "    # else:\n",
    "    #     print(\"invalid direction\")\n"
   ]
  }
 ],
 "metadata": {
  "kernelspec": {
   "display_name": "Python 3 (ipykernel)",
   "language": "python",
   "name": "python3"
  },
  "language_info": {
   "codemirror_mode": {
    "name": "ipython",
    "version": 3
   },
   "file_extension": ".py",
   "mimetype": "text/x-python",
   "name": "python",
   "nbconvert_exporter": "python",
   "pygments_lexer": "ipython3",
   "version": "3.11.9"
  }
 },
 "nbformat": 4,
 "nbformat_minor": 5
}
