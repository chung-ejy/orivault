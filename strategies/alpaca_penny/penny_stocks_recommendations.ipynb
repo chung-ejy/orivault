{
 "cells": [
  {
   "cell_type": "code",
   "execution_count": 1,
   "id": "246c49f1-95ae-48c8-a1c2-a5c621cc768f",
   "metadata": {},
   "outputs": [],
   "source": [
    "## PATH settings\n",
    "import os\n",
    "import sys\n",
    "project_root = os.path.abspath(os.path.join(os.getcwd(), '../../'))\n",
    "sys.path.append(project_root)\n",
    "COMMON_PATH = os.path.join(project_root, 'common')"
   ]
  },
  {
   "cell_type": "code",
   "execution_count": 2,
   "id": "b3f7ffcc-42d9-4090-99b3-6479955e1a5f",
   "metadata": {},
   "outputs": [],
   "source": [
    "## Bespoke class imports\n",
    "from common.database.adatabase import ADatabase\n",
    "from common.processor.processor import Processor as p\n",
    "from common.processor.utils import Utils\n",
    "from common.extractor.alpaca_extractor import AlpacaExtractor\n",
    "from financial_common.indicator.indicator import Indicator\n",
    "from financial_common.risk.benchmark import Benchmark\n",
    "from financial_common.portfolio_management.kpi import KPI\n",
    "from financial_common.metric.metric import Metric\n",
    "from financial_common.portfolio_management.portfolio import Portfolio\n",
    "import numpy as np\n",
    "import matplotlib.pyplot as plt"
   ]
  },
  {
   "cell_type": "code",
   "execution_count": 3,
   "id": "5e602193-3097-4687-bd19-00f3b8bff5d4",
   "metadata": {},
   "outputs": [],
   "source": [
    "## Import standard packages\n",
    "from datetime import timedelta, datetime\n",
    "import matplotlib.pyplot as plt\n",
    "from tqdm import tqdm\n",
    "import pandas as pd\n",
    "from time import sleep\n",
    "import copy"
   ]
  },
  {
   "cell_type": "code",
   "execution_count": 4,
   "id": "01317ec8-a56f-4e96-907f-3b07b4d80013",
   "metadata": {},
   "outputs": [],
   "source": [
    "orivault = ADatabase(\"ori\")\n",
    "alp = AlpacaExtractor(paper=False)"
   ]
  },
  {
   "cell_type": "code",
   "execution_count": 5,
   "id": "98afb993-65eb-4107-9d6d-4139059fbfb4",
   "metadata": {},
   "outputs": [],
   "source": [
    "orivault.connect()\n",
    "portfolio_dictionary = orivault.retrieve(\"results\").to_dict(\"records\")[0]\n",
    "orivault.disconnect()"
   ]
  },
  {
   "cell_type": "code",
   "execution_count": 6,
   "id": "e4015f5d-7678-4cf4-9ea3-488ec8de82db",
   "metadata": {},
   "outputs": [
    {
     "name": "stdout",
     "output_type": "stream",
     "text": [
      "{'ranking_metric': 'option_price', 'timeframe': 'DAY', 'position_type': 'long', 'grouping_type': 'STANDARD_DEV', 'selection_type': 'top_blacklist', 'allocation_type': 'equal', 'risk_type': 'coefficient_of_variation', 'selection_percentage': 1, 'stoploss': 1, 'num_of_groups': 1, 'max_price': 1, 'min_price': 0.01, 'max_market_cap': 10000000, 'min_market_cap': 1000000, 'rolling_window': 10, 'leverage': 1, 'date': Timestamp('2024-12-30 00:00:00'), 'pnl': 1.043856400471294, 'raw_pnl': 434876.81955935754, 'downside': 0.9996019124900113, 'coefficient_of_variation': 90.36045544037917, 'portfolio_std': 0.011552137440918965, 'sharpe_ratio': -107.88944770537388, 'tracking_error': 0.32832825736480453, 'information_ratio': -3.796059889333553}\n"
     ]
    }
   ],
   "source": [
    "pm = Portfolio.from_dict(portfolio_dictionary)\n",
    "print(portfolio_dictionary)"
   ]
  },
  {
   "cell_type": "code",
   "execution_count": 7,
   "id": "1e37c28f-be14-4d2d-b2fa-d36cbd588168",
   "metadata": {},
   "outputs": [
    {
     "name": "stdout",
     "output_type": "stream",
     "text": [
      "'SPYA'\n",
      "'SVA'\n"
     ]
    }
   ],
   "source": [
    "## Retrieve existing stocks \n",
    "index = alp.assets().sort_values(\"ticker\")\n",
    "tickers = index[\"ticker\"].values\n",
    "tickers_per_batch = int(1000)\n",
    "batchs = [tickers[i:i + tickers_per_batch] for i in range(0, len(tickers), tickers_per_batch)]\n",
    "bars = []\n",
    "[bars.append(alp.latest_bars_bulk(batch)) for batch in batchs]\n",
    "todays_bar = pd.concat(bars)\n",
    "index = index.merge(todays_bar,on=\"ticker\",how=\"left\")"
   ]
  },
  {
   "cell_type": "code",
   "execution_count": 8,
   "id": "8489095c-b17a-41ac-80a0-f4c315737be8",
   "metadata": {},
   "outputs": [
    {
     "name": "stdout",
     "output_type": "stream",
     "text": [
      "2025-05-03 16:00:00-04:00 2025-06-02 16:00:00-04:00\n"
     ]
    }
   ],
   "source": [
    "end = Utils.last_weekday(alp.clock())\n",
    "start = (end - timedelta(days=pm.rolling_window*3))\n",
    "print(start,end)"
   ]
  },
  {
   "cell_type": "code",
   "execution_count": 9,
   "id": "ca22f01d-5461-4703-a9ec-73a74fa20aa8",
   "metadata": {},
   "outputs": [
    {
     "name": "stdout",
     "output_type": "stream",
     "text": [
      "50\n"
     ]
    }
   ],
   "source": [
    "tickers_per_batch = int(10000/(pm.rolling_window*4)/5)\n",
    "print(tickers_per_batch)"
   ]
  },
  {
   "cell_type": "code",
   "execution_count": 10,
   "id": "42a9639a-fc62-46cf-9b14-dc8f58ee7316",
   "metadata": {},
   "outputs": [],
   "source": [
    "relevant_tickers = index[\"ticker\"]\n",
    "batchs = [relevant_tickers[i:i + tickers_per_batch] for i in range(0, len(relevant_tickers), tickers_per_batch)]"
   ]
  },
  {
   "cell_type": "code",
   "execution_count": 15,
   "id": "09587a4a-c54f-458c-ac5f-bca6b33405ff",
   "metadata": {},
   "outputs": [
    {
     "name": "stderr",
     "output_type": "stream",
     "text": [
      " 84%|███████████████████████████████████████████████████████████████████████              | 189/226 [08:24<01:38,  2.65s/it]"
     ]
    },
    {
     "name": "stdout",
     "output_type": "stream",
     "text": [
      "'SPYA'\n"
     ]
    },
    {
     "name": "stderr",
     "output_type": "stream",
     "text": [
      " 85%|████████████████████████████████████████████████████████████████████████▏            | 192/226 [08:31<01:28,  2.61s/it]"
     ]
    },
    {
     "name": "stdout",
     "output_type": "stream",
     "text": [
      "'SVA'\n"
     ]
    },
    {
     "name": "stderr",
     "output_type": "stream",
     "text": [
      "100%|█████████████████████████████████████████████████████████████████████████████████████| 226/226 [10:00<00:00,  2.66s/it]\n"
     ]
    }
   ],
   "source": [
    "prices = []\n",
    "for batch in tqdm(batchs):\n",
    "    try:\n",
    "        tickers_data = alp.prices_bulk(batch,start,end)\n",
    "        for ticker in batch:\n",
    "            try:\n",
    "                price = tickers_data[tickers_data[\"ticker\"] == ticker].copy()\n",
    "                price = p.lower_column(price)\n",
    "                price = p.utc_date(price)\n",
    "                price.sort_values(\"date\", inplace=True)\n",
    "                price = p.additional_date_columns(price)\n",
    "                price[\"coefficient_of_variation\"] = 1\n",
    "                price[\"dividend\"] = 0\n",
    "                if price.index.size > pm.rolling_window:\n",
    "                    for member in Metric:\n",
    "                        price = member.calculate(price,timeframe=pm.rolling_window,live=True)\n",
    "                    for member in Indicator:\n",
    "                        price = member.calculate(price,timeframe=pm.rolling_window,live=True)\n",
    "                prices.append(price)\n",
    "            except Exception as e:\n",
    "                print(str(e))\n",
    "    except Exception as e:\n",
    "        print(str(e))"
   ]
  },
  {
   "cell_type": "code",
   "execution_count": 16,
   "id": "100c6a3b-61cc-4235-a981-225b968c444d",
   "metadata": {},
   "outputs": [
    {
     "data": {
      "text/html": [
       "<div>\n",
       "<style scoped>\n",
       "    .dataframe tbody tr th:only-of-type {\n",
       "        vertical-align: middle;\n",
       "    }\n",
       "\n",
       "    .dataframe tbody tr th {\n",
       "        vertical-align: top;\n",
       "    }\n",
       "\n",
       "    .dataframe thead th {\n",
       "        text-align: right;\n",
       "    }\n",
       "</style>\n",
       "<table border=\"1\" class=\"dataframe\">\n",
       "  <thead>\n",
       "    <tr style=\"text-align: right;\">\n",
       "      <th></th>\n",
       "      <th>date</th>\n",
       "      <th>open</th>\n",
       "      <th>adjclose</th>\n",
       "      <th>high</th>\n",
       "      <th>low</th>\n",
       "      <th>volume</th>\n",
       "      <th>ticker</th>\n",
       "      <th>year</th>\n",
       "      <th>month</th>\n",
       "      <th>quarter</th>\n",
       "      <th>week</th>\n",
       "      <th>day</th>\n",
       "      <th>weekday</th>\n",
       "      <th>coefficient_of_variation</th>\n",
       "      <th>dividend</th>\n",
       "    </tr>\n",
       "  </thead>\n",
       "  <tbody>\n",
       "    <tr>\n",
       "      <th>0</th>\n",
       "      <td>2025-05-05 00:00:00+00:00</td>\n",
       "      <td>108.1000</td>\n",
       "      <td>108.3700</td>\n",
       "      <td>109.2500</td>\n",
       "      <td>107.4600</td>\n",
       "      <td>1385558</td>\n",
       "      <td>A</td>\n",
       "      <td>2025</td>\n",
       "      <td>5</td>\n",
       "      <td>2</td>\n",
       "      <td>19</td>\n",
       "      <td>125</td>\n",
       "      <td>0</td>\n",
       "      <td>1</td>\n",
       "      <td>0</td>\n",
       "    </tr>\n",
       "    <tr>\n",
       "      <th>0</th>\n",
       "      <td>2025-05-05 00:00:00+00:00</td>\n",
       "      <td>44.7300</td>\n",
       "      <td>44.5881</td>\n",
       "      <td>44.8499</td>\n",
       "      <td>44.3400</td>\n",
       "      <td>31561</td>\n",
       "      <td>DBEU</td>\n",
       "      <td>2025</td>\n",
       "      <td>5</td>\n",
       "      <td>2</td>\n",
       "      <td>19</td>\n",
       "      <td>125</td>\n",
       "      <td>0</td>\n",
       "      <td>1</td>\n",
       "      <td>0</td>\n",
       "    </tr>\n",
       "    <tr>\n",
       "      <th>0</th>\n",
       "      <td>2025-05-05 00:00:00+00:00</td>\n",
       "      <td>25.9700</td>\n",
       "      <td>25.5029</td>\n",
       "      <td>25.9700</td>\n",
       "      <td>25.3400</td>\n",
       "      <td>59489</td>\n",
       "      <td>DBEM</td>\n",
       "      <td>2025</td>\n",
       "      <td>5</td>\n",
       "      <td>2</td>\n",
       "      <td>19</td>\n",
       "      <td>125</td>\n",
       "      <td>0</td>\n",
       "      <td>1</td>\n",
       "      <td>0</td>\n",
       "    </tr>\n",
       "    <tr>\n",
       "      <th>0</th>\n",
       "      <td>2025-05-05 00:00:00+00:00</td>\n",
       "      <td>43.7100</td>\n",
       "      <td>43.7900</td>\n",
       "      <td>43.9300</td>\n",
       "      <td>43.6900</td>\n",
       "      <td>461092</td>\n",
       "      <td>DBEF</td>\n",
       "      <td>2025</td>\n",
       "      <td>5</td>\n",
       "      <td>2</td>\n",
       "      <td>19</td>\n",
       "      <td>125</td>\n",
       "      <td>0</td>\n",
       "      <td>1</td>\n",
       "      <td>0</td>\n",
       "    </tr>\n",
       "    <tr>\n",
       "      <th>0</th>\n",
       "      <td>2025-05-05 00:00:00+00:00</td>\n",
       "      <td>45.7800</td>\n",
       "      <td>44.7550</td>\n",
       "      <td>45.9800</td>\n",
       "      <td>44.6200</td>\n",
       "      <td>74056</td>\n",
       "      <td>VEON</td>\n",
       "      <td>2025</td>\n",
       "      <td>5</td>\n",
       "      <td>2</td>\n",
       "      <td>19</td>\n",
       "      <td>125</td>\n",
       "      <td>0</td>\n",
       "      <td>1</td>\n",
       "      <td>0</td>\n",
       "    </tr>\n",
       "    <tr>\n",
       "      <th>...</th>\n",
       "      <td>...</td>\n",
       "      <td>...</td>\n",
       "      <td>...</td>\n",
       "      <td>...</td>\n",
       "      <td>...</td>\n",
       "      <td>...</td>\n",
       "      <td>...</td>\n",
       "      <td>...</td>\n",
       "      <td>...</td>\n",
       "      <td>...</td>\n",
       "      <td>...</td>\n",
       "      <td>...</td>\n",
       "      <td>...</td>\n",
       "      <td>...</td>\n",
       "      <td>...</td>\n",
       "    </tr>\n",
       "    <tr>\n",
       "      <th>19</th>\n",
       "      <td>2025-06-02 00:00:00+00:00</td>\n",
       "      <td>13.7700</td>\n",
       "      <td>13.7600</td>\n",
       "      <td>13.7735</td>\n",
       "      <td>13.7000</td>\n",
       "      <td>49539</td>\n",
       "      <td>ISD</td>\n",
       "      <td>2025</td>\n",
       "      <td>6</td>\n",
       "      <td>2</td>\n",
       "      <td>23</td>\n",
       "      <td>153</td>\n",
       "      <td>0</td>\n",
       "      <td>1</td>\n",
       "      <td>0</td>\n",
       "    </tr>\n",
       "    <tr>\n",
       "      <th>19</th>\n",
       "      <td>2025-06-02 00:00:00+00:00</td>\n",
       "      <td>123.4900</td>\n",
       "      <td>123.8200</td>\n",
       "      <td>124.0150</td>\n",
       "      <td>121.7350</td>\n",
       "      <td>601333</td>\n",
       "      <td>SUI</td>\n",
       "      <td>2025</td>\n",
       "      <td>6</td>\n",
       "      <td>2</td>\n",
       "      <td>23</td>\n",
       "      <td>153</td>\n",
       "      <td>0</td>\n",
       "      <td>1</td>\n",
       "      <td>0</td>\n",
       "    </tr>\n",
       "    <tr>\n",
       "      <th>19</th>\n",
       "      <td>2025-06-02 00:00:00+00:00</td>\n",
       "      <td>0.0152</td>\n",
       "      <td>0.0152</td>\n",
       "      <td>0.0152</td>\n",
       "      <td>0.0146</td>\n",
       "      <td>900</td>\n",
       "      <td>CDIOW</td>\n",
       "      <td>2025</td>\n",
       "      <td>6</td>\n",
       "      <td>2</td>\n",
       "      <td>23</td>\n",
       "      <td>153</td>\n",
       "      <td>0</td>\n",
       "      <td>1</td>\n",
       "      <td>0</td>\n",
       "    </tr>\n",
       "    <tr>\n",
       "      <th>14</th>\n",
       "      <td>2025-06-02 00:00:00+00:00</td>\n",
       "      <td>27.3000</td>\n",
       "      <td>27.0100</td>\n",
       "      <td>28.0000</td>\n",
       "      <td>27.0001</td>\n",
       "      <td>2812</td>\n",
       "      <td>ISBA</td>\n",
       "      <td>2025</td>\n",
       "      <td>6</td>\n",
       "      <td>2</td>\n",
       "      <td>23</td>\n",
       "      <td>153</td>\n",
       "      <td>0</td>\n",
       "      <td>1</td>\n",
       "      <td>0</td>\n",
       "    </tr>\n",
       "    <tr>\n",
       "      <th>19</th>\n",
       "      <td>2025-06-02 00:00:00+00:00</td>\n",
       "      <td>27.6100</td>\n",
       "      <td>27.6100</td>\n",
       "      <td>27.6100</td>\n",
       "      <td>27.6100</td>\n",
       "      <td>351</td>\n",
       "      <td>ZZZ</td>\n",
       "      <td>2025</td>\n",
       "      <td>6</td>\n",
       "      <td>2</td>\n",
       "      <td>23</td>\n",
       "      <td>153</td>\n",
       "      <td>0</td>\n",
       "      <td>1</td>\n",
       "      <td>0</td>\n",
       "    </tr>\n",
       "  </tbody>\n",
       "</table>\n",
       "<p>224509 rows × 15 columns</p>\n",
       "</div>"
      ],
      "text/plain": [
       "                        date      open  adjclose      high       low   volume  \\\n",
       "0  2025-05-05 00:00:00+00:00  108.1000  108.3700  109.2500  107.4600  1385558   \n",
       "0  2025-05-05 00:00:00+00:00   44.7300   44.5881   44.8499   44.3400    31561   \n",
       "0  2025-05-05 00:00:00+00:00   25.9700   25.5029   25.9700   25.3400    59489   \n",
       "0  2025-05-05 00:00:00+00:00   43.7100   43.7900   43.9300   43.6900   461092   \n",
       "0  2025-05-05 00:00:00+00:00   45.7800   44.7550   45.9800   44.6200    74056   \n",
       "..                       ...       ...       ...       ...       ...      ...   \n",
       "19 2025-06-02 00:00:00+00:00   13.7700   13.7600   13.7735   13.7000    49539   \n",
       "19 2025-06-02 00:00:00+00:00  123.4900  123.8200  124.0150  121.7350   601333   \n",
       "19 2025-06-02 00:00:00+00:00    0.0152    0.0152    0.0152    0.0146      900   \n",
       "14 2025-06-02 00:00:00+00:00   27.3000   27.0100   28.0000   27.0001     2812   \n",
       "19 2025-06-02 00:00:00+00:00   27.6100   27.6100   27.6100   27.6100      351   \n",
       "\n",
       "   ticker  year  month  quarter  week  day  weekday  coefficient_of_variation  \\\n",
       "0       A  2025      5        2    19  125        0                         1   \n",
       "0    DBEU  2025      5        2    19  125        0                         1   \n",
       "0    DBEM  2025      5        2    19  125        0                         1   \n",
       "0    DBEF  2025      5        2    19  125        0                         1   \n",
       "0    VEON  2025      5        2    19  125        0                         1   \n",
       "..    ...   ...    ...      ...   ...  ...      ...                       ...   \n",
       "19    ISD  2025      6        2    23  153        0                         1   \n",
       "19    SUI  2025      6        2    23  153        0                         1   \n",
       "19  CDIOW  2025      6        2    23  153        0                         1   \n",
       "14   ISBA  2025      6        2    23  153        0                         1   \n",
       "19    ZZZ  2025      6        2    23  153        0                         1   \n",
       "\n",
       "    dividend  \n",
       "0          0  \n",
       "0          0  \n",
       "0          0  \n",
       "0          0  \n",
       "0          0  \n",
       "..       ...  \n",
       "19         0  \n",
       "19         0  \n",
       "19         0  \n",
       "14         0  \n",
       "19         0  \n",
       "\n",
       "[224509 rows x 15 columns]"
      ]
     },
     "execution_count": 16,
     "metadata": {},
     "output_type": "execute_result"
    }
   ],
   "source": [
    "simulation"
   ]
  },
  {
   "cell_type": "code",
   "execution_count": 17,
   "id": "2212583d-6a1c-4721-a689-1bcaad1d5b2d",
   "metadata": {},
   "outputs": [
    {
     "data": {
      "text/plain": [
       "[{'year': 2025,\n",
       "  'day': 153,\n",
       "  'ticker': 'HBIO',\n",
       "  'date': Timestamp('2025-06-02 00:00:00+0000', tz='UTC'),\n",
       "  'open': 0.4727,\n",
       "  'adjclose': 0.4054,\n",
       "  'high': 0.5595,\n",
       "  'low': 0.4052,\n",
       "  'volume': 19565502,\n",
       "  'month': 6,\n",
       "  'quarter': 2,\n",
       "  'week': 23,\n",
       "  'weekday': 0,\n",
       "  'risk': 1,\n",
       "  'dividend': 0.0,\n",
       "  'adjclose_test': 0.467,\n",
       "  'high_test': 0.5814,\n",
       "  'low_test': 0.4305,\n",
       "  'volume_test': 13569171.0,\n",
       "  'average_return': 0.13552928364149322,\n",
       "  'standard_dev': 0.11149195287353948,\n",
       "  'market_cap': 7931854.510799999,\n",
       "  'simple_moving_average': 0.387,\n",
       "  'drawdown': 0.6531820424272324,\n",
       "  'distance': 1.9999703428668083,\n",
       "  'cooked_return': 57.509932443679936,\n",
       "  'next_close': nan,\n",
       "  'next_open': nan,\n",
       "  'price_to_return': 285.54714494301163,\n",
       "  'optimal': nan,\n",
       "  'adr': 0.2550220313135566,\n",
       "  'sma': -0.04538727183029101,\n",
       "  'ema': 0.00247708340235242,\n",
       "  'bollinger_upper': 1.5046470294698544,\n",
       "  'bollinger_lower': 0.4045784268695635,\n",
       "  'momentum': 0.06579999999999997,\n",
       "  'roc': -0.13190578158458255,\n",
       "  'williams_r': -81.32430398796087,\n",
       "  'obv': 600512366.0,\n",
       "  'vwap': 0.65603725652743,\n",
       "  'market_impact': 4989634.063709455,\n",
       "  'atr': 0.12290999999999999,\n",
       "  'volume_price': 12.118642210656141,\n",
       "  'option_price': 0.2799350664005237,\n",
       "  'group_percentile': 1,\n",
       "  'rank_percentile': 22,\n",
       "  'major_key': '2025_153_1',\n",
       "  'position_type': 1.0,\n",
       "  'weight': 1.0}]"
      ]
     },
     "execution_count": 17,
     "metadata": {},
     "output_type": "execute_result"
    }
   ],
   "source": [
    "simulation = pd.concat(prices)\n",
    "simulation.sort_values(\"date\", inplace=True)\n",
    "trades = pm.recs(simulation.copy())\n",
    "trades.to_dict(\"records\")"
   ]
  }
 ],
 "metadata": {
  "kernelspec": {
   "display_name": "Python 3 (ipykernel)",
   "language": "python",
   "name": "python3"
  },
  "language_info": {
   "codemirror_mode": {
    "name": "ipython",
    "version": 3
   },
   "file_extension": ".py",
   "mimetype": "text/x-python",
   "name": "python",
   "nbconvert_exporter": "python",
   "pygments_lexer": "ipython3",
   "version": "3.11.0"
  }
 },
 "nbformat": 4,
 "nbformat_minor": 5
}
