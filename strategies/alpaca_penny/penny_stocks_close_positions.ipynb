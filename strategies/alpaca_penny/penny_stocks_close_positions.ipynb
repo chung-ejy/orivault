{
 "cells": [
  {
   "cell_type": "code",
   "execution_count": 2,
   "id": "e6ca33d8-3efd-44a7-9af3-a01c9aca970a",
   "metadata": {},
   "outputs": [],
   "source": [
    "## PATH settings\n",
    "import os\n",
    "import sys\n",
    "project_root = os.path.abspath(os.path.join(os.getcwd(), '../../'))\n",
    "sys.path.append(project_root)\n",
    "COMMON_PATH = os.path.join(project_root, 'common')\n",
    "from common.extractor.alpaca_extractor import AlpacaExtractor  \n",
    "import pandas as pd\n",
    "from time import sleep"
   ]
  },
  {
   "cell_type": "code",
   "execution_count": 5,
   "id": "d4a377a3-6cdc-4bbe-be73-cccaef7edd62",
   "metadata": {},
   "outputs": [],
   "source": [
    "alp = AlpacaExtractor(paper=False)"
   ]
  },
  {
   "cell_type": "code",
   "execution_count": 6,
   "id": "e70c14f1-1341-4fed-9083-dbd2c3a8e522",
   "metadata": {},
   "outputs": [],
   "source": [
    "positions = alp.positions()\n",
    "for row in positions.iterrows():\n",
    "    position = row[1]\n",
    "    ticker = str(position[\"symbol\"])\n",
    "    quote = alp.latest_bar(ticker)\n",
    "    adjclose = float(ticker_data[\"ap\"])\n",
    "    side = str(position[\"side\"])\n",
    "    qty = int(position[\"qty_available\"])\n",
    "    print(ticker,adjclose,qty)\n",
    "    # if side == \"long\":\n",
    "    #     print(alp.sell(ticker,adjclose,qty))\n",
    "    # else:\n",
    "    #     print(alp.buy(ticker,adjclose,qty))"
   ]
  }
 ],
 "metadata": {
  "kernelspec": {
   "display_name": "Python 3 (ipykernel)",
   "language": "python",
   "name": "python3"
  },
  "language_info": {
   "codemirror_mode": {
    "name": "ipython",
    "version": 3
   },
   "file_extension": ".py",
   "mimetype": "text/x-python",
   "name": "python",
   "nbconvert_exporter": "python",
   "pygments_lexer": "ipython3",
   "version": "3.11.9"
  }
 },
 "nbformat": 4,
 "nbformat_minor": 5
}
