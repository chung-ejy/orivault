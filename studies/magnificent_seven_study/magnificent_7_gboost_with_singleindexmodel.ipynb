{
 "cells": [
  {
   "cell_type": "code",
   "execution_count": 1,
   "id": "73094c60-497a-45ac-bd01-8db8578730b7",
   "metadata": {},
   "outputs": [],
   "source": [
    "## PATH settings\n",
    "import os\n",
    "import sys\n",
    "project_root = os.path.abspath(os.path.join(os.getcwd(), '../../'))\n",
    "sys.path.append(project_root)\n",
    "COMMON_PATH = os.path.join(project_root, 'common')"
   ]
  },
  {
   "cell_type": "code",
   "execution_count": 2,
   "id": "c9980040-ad6c-4327-b7fb-b2c612a14152",
   "metadata": {},
   "outputs": [],
   "source": [
    "## Bespoke class imports\n",
    "from common.database.adatabase import ADatabase\n",
    "from common.processor.processor import Processor as p\n",
    "from financial_common.risk.rolling_factor_analysis import RollingFactorAnalysis\n",
    "from financial_common.risk.single_index_capm import SingleIndexCAPM\n",
    "from financial_common.indicator.indicator import Indicator\n",
    "from financial_common.risk.benchmark import Benchmark\n",
    "from financial_common.risk.risk_type import RiskType\n",
    "from financial_common.portfolio_management.metrics import Metrics\n",
    "from financial_common.portfolio_management.portfolio_selection import PortfolioSelection\n",
    "import numpy as np"
   ]
  },
  {
   "cell_type": "code",
   "execution_count": 3,
   "id": "541ffdea-1e70-4afa-b994-9ad38ab3429f",
   "metadata": {},
   "outputs": [],
   "source": [
    "## Import standard packages\n",
    "from xgboost import XGBRegressor\n",
    "from datetime import timedelta\n",
    "import matplotlib.pyplot as plt\n",
    "from tqdm import tqdm\n",
    "import pandas as pd\n",
    "from time import sleep"
   ]
  },
  {
   "cell_type": "code",
   "execution_count": 4,
   "id": "9131bcf0-e2ac-489b-ac60-ab69b8feda22",
   "metadata": {},
   "outputs": [],
   "source": [
    "## Database Declarations\n",
    "sec = ADatabase(\"sec\")\n",
    "market = ADatabase(\"market\")\n",
    "fred = ADatabase(\"fred\")"
   ]
  },
  {
   "cell_type": "code",
   "execution_count": 5,
   "id": "5c9457f1-0ce5-4904-af4e-6fcbb2e6b67b",
   "metadata": {},
   "outputs": [],
   "source": [
    "## Retrieve existing stocks \n",
    "market.connect()\n",
    "index = market.retrieve(\"ticker_overview\")\n",
    "market.disconnect()\n",
    "sic_codes = pd.read_csv(\"../../csv_files/sic_codes.csv\").rename(columns={\"SIC Code\":\"sic_code\",\"Office\":\"office\"}).dropna()\n",
    "index[\"sic_code\"] = index[\"sic_code\"].fillna(0).astype(int)\n",
    "sic_codes[\"sic_code\"] = sic_codes[\"sic_code\"].fillna(0).astype(int)\n",
    "index = index.merge(sic_codes[[\"sic_code\",\"office\"]],on=\"sic_code\")"
   ]
  },
  {
   "cell_type": "code",
   "execution_count": 6,
   "id": "a4179cff-dd72-4218-9d7a-7e01333a3a58",
   "metadata": {},
   "outputs": [],
   "source": [
    "## Retrieve previously calculated Macro Projections\n",
    "fred.connect()\n",
    "sp500 = p.lower_column(fred.retrieve(\"sp500_projections\").rename(columns={\"prediction\":\"sp500_prediction\"}))\n",
    "sp500 = p.utc_date(sp500)\n",
    "interest_rates = p.lower_column(fred.retrieve(\"market_yield\").rename(columns={\"value\":\"rf\"}))\n",
    "interest_rates = p.utc_date(interest_rates)\n",
    "interest_rates[\"rf\"] = interest_rates[\"rf\"].replace(\".\",0)\n",
    "interest_rates[\"rf\"] = [float(x) / 100 for x in interest_rates[\"rf\"]]\n",
    "fred.disconnect()\n",
    "macro = sp500.merge(interest_rates,on=\"date\",how=\"left\")"
   ]
  },
  {
   "cell_type": "code",
   "execution_count": 7,
   "id": "635c8aca-eddc-4b55-a8c3-e351e27a11e9",
   "metadata": {
    "scrolled": true
   },
   "outputs": [
    {
     "name": "stderr",
     "output_type": "stream",
     "text": [
      "100%|█████████████████████████████████████████████████████████████████████████████████████████████████████████████████████████████████████████████████████████████| 7/7 [00:00<00:00, 17.00it/s]\n"
     ]
    }
   ],
   "source": [
    "## Retrieve and set up factors for modeling\n",
    "\n",
    "## Feel free to add additional tickers you would like to use for modeling\n",
    "factors = [\"AMZN\",\"NVDA\",\"AAPL\",\"META\",\"GOOGL\",\"TSLA\",\"MSFT\"]\n",
    "market.connect()\n",
    "factors_df = []\n",
    "for ticker in tqdm(factors):\n",
    "    try:\n",
    "        price = p.lower_column(market.query(\"prices\",{\"ticker\":ticker}))\n",
    "        price = p.utc_date(price)\n",
    "        price.sort_values(\"date\")\n",
    "        price[\"adjclose\"] = price[\"adjclose\"].shift(60)\n",
    "        factors_df.append(price)\n",
    "    except Exception as e:\n",
    "        print(ticker,str(e))\n",
    "        continue\n",
    "market.disconnect()\n",
    "factors_df = pd.concat(factors_df).sort_values(\"date\").pivot_table(index=[\"date\"],columns=\"ticker\",values=\"adjclose\").reset_index()"
   ]
  },
  {
   "cell_type": "code",
   "execution_count": 8,
   "id": "043a2be6-8132-4f8e-bfb7-e6d62d7bc8ec",
   "metadata": {},
   "outputs": [],
   "source": [
    "## Defining years for modeling and backtesting feel free to change these\n",
    "model_start = 2015\n",
    "model_end = 2022\n",
    "backtest_end = 2026"
   ]
  },
  {
   "cell_type": "code",
   "execution_count": 9,
   "id": "0f877ba0-a338-475c-a1d7-f4882b2c1fa7",
   "metadata": {
    "scrolled": true
   },
   "outputs": [
    {
     "name": "stderr",
     "output_type": "stream",
     "text": [
      "  0%|▋                                                                                                                                                        | 21/4327 [00:02<09:28,  7.57it/s]E:\\projects\\orivault\\financial_common\\risk\\single_index_capm.py:18: FutureWarning: The default fill_method='pad' in Series.pct_change is deprecated and will be removed in a future version. Either fill in any non-leading NA values prior to calling pct_change or specify 'fill_method=None' to not fill NA values.\n",
      "  df[\"historical_return\"] = df[\"adjclose\"].pct_change(60)\n",
      "  9%|█████████████▎                                                                                                                                          | 380/4327 [00:53<10:50,  6.07it/s]E:\\projects\\orivault\\financial_common\\risk\\single_index_capm.py:18: FutureWarning: The default fill_method='pad' in Series.pct_change is deprecated and will be removed in a future version. Either fill in any non-leading NA values prior to calling pct_change or specify 'fill_method=None' to not fill NA values.\n",
      "  df[\"historical_return\"] = df[\"adjclose\"].pct_change(60)\n",
      " 10%|███████████████▉                                                                                                                                        | 452/4327 [01:04<09:43,  6.64it/s]E:\\projects\\orivault\\financial_common\\risk\\single_index_capm.py:18: FutureWarning: The default fill_method='pad' in Series.pct_change is deprecated and will be removed in a future version. Either fill in any non-leading NA values prior to calling pct_change or specify 'fill_method=None' to not fill NA values.\n",
      "  df[\"historical_return\"] = df[\"adjclose\"].pct_change(60)\n",
      " 18%|███████████████████████████▎                                                                                                                            | 779/4327 [01:53<09:25,  6.27it/s]E:\\projects\\orivault\\financial_common\\risk\\single_index_capm.py:18: FutureWarning: The default fill_method='pad' in Series.pct_change is deprecated and will be removed in a future version. Either fill in any non-leading NA values prior to calling pct_change or specify 'fill_method=None' to not fill NA values.\n",
      "  df[\"historical_return\"] = df[\"adjclose\"].pct_change(60)\n",
      " 28%|█████████████████████████████████████████▌                                                                                                             | 1191/4327 [02:57<07:00,  7.47it/s]E:\\projects\\orivault\\financial_common\\risk\\single_index_capm.py:18: FutureWarning: The default fill_method='pad' in Series.pct_change is deprecated and will be removed in a future version. Either fill in any non-leading NA values prior to calling pct_change or specify 'fill_method=None' to not fill NA values.\n",
      "  df[\"historical_return\"] = df[\"adjclose\"].pct_change(60)\n",
      " 30%|█████████████████████████████████████████████▍                                                                                                         | 1301/4327 [03:14<09:22,  5.38it/s]E:\\projects\\orivault\\financial_common\\risk\\single_index_capm.py:18: FutureWarning: The default fill_method='pad' in Series.pct_change is deprecated and will be removed in a future version. Either fill in any non-leading NA values prior to calling pct_change or specify 'fill_method=None' to not fill NA values.\n",
      "  df[\"historical_return\"] = df[\"adjclose\"].pct_change(60)\n",
      " 30%|█████████████████████████████████████████████▋                                                                                                         | 1310/4327 [03:15<07:46,  6.47it/s]E:\\projects\\orivault\\financial_common\\risk\\single_index_capm.py:18: FutureWarning: The default fill_method='pad' in Series.pct_change is deprecated and will be removed in a future version. Either fill in any non-leading NA values prior to calling pct_change or specify 'fill_method=None' to not fill NA values.\n",
      "  df[\"historical_return\"] = df[\"adjclose\"].pct_change(60)\n",
      " 39%|██████████████████████████████████████████████████████████▏                                                                                            | 1666/4327 [04:13<08:33,  5.18it/s]E:\\projects\\orivault\\financial_common\\risk\\single_index_capm.py:18: FutureWarning: The default fill_method='pad' in Series.pct_change is deprecated and will be removed in a future version. Either fill in any non-leading NA values prior to calling pct_change or specify 'fill_method=None' to not fill NA values.\n",
      "  df[\"historical_return\"] = df[\"adjclose\"].pct_change(60)\n",
      " 40%|████████████████████████████████████████████████████████████▋                                                                                          | 1738/4327 [04:24<04:00, 10.78it/s]E:\\projects\\orivault\\financial_common\\risk\\single_index_capm.py:18: FutureWarning: The default fill_method='pad' in Series.pct_change is deprecated and will be removed in a future version. Either fill in any non-leading NA values prior to calling pct_change or specify 'fill_method=None' to not fill NA values.\n",
      "  df[\"historical_return\"] = df[\"adjclose\"].pct_change(60)\n",
      " 58%|████████████████████████████████████████████████████████████████████████████████████████                                                               | 2524/4327 [06:31<05:36,  5.35it/s]E:\\projects\\orivault\\financial_common\\risk\\single_index_capm.py:18: FutureWarning: The default fill_method='pad' in Series.pct_change is deprecated and will be removed in a future version. Either fill in any non-leading NA values prior to calling pct_change or specify 'fill_method=None' to not fill NA values.\n",
      "  df[\"historical_return\"] = df[\"adjclose\"].pct_change(60)\n",
      " 62%|████████████████████████████████████████████████████████████████████████████████████████████▉                                                          | 2663/4327 [06:59<05:16,  5.25it/s]E:\\projects\\orivault\\financial_common\\risk\\single_index_capm.py:18: FutureWarning: The default fill_method='pad' in Series.pct_change is deprecated and will be removed in a future version. Either fill in any non-leading NA values prior to calling pct_change or specify 'fill_method=None' to not fill NA values.\n",
      "  df[\"historical_return\"] = df[\"adjclose\"].pct_change(60)\n",
      " 63%|██████████████████████████████████████████████████████████████████████████████████████████████▍                                                        | 2706/4327 [07:08<07:06,  3.80it/s]E:\\projects\\orivault\\financial_common\\risk\\single_index_capm.py:18: FutureWarning: The default fill_method='pad' in Series.pct_change is deprecated and will be removed in a future version. Either fill in any non-leading NA values prior to calling pct_change or specify 'fill_method=None' to not fill NA values.\n",
      "  df[\"historical_return\"] = df[\"adjclose\"].pct_change(60)\n",
      " 71%|███████████████████████████████████████████████████████████████████████████████████████████████████████████▊                                           | 3089/4327 [08:13<04:10,  4.94it/s]E:\\projects\\orivault\\financial_common\\risk\\single_index_capm.py:18: FutureWarning: The default fill_method='pad' in Series.pct_change is deprecated and will be removed in a future version. Either fill in any non-leading NA values prior to calling pct_change or specify 'fill_method=None' to not fill NA values.\n",
      "  df[\"historical_return\"] = df[\"adjclose\"].pct_change(60)\n",
      " 75%|█████████████████████████████████████████████████████████████████████████████████████████████████████████████████▊                                     | 3260/4327 [08:42<03:15,  5.47it/s]E:\\projects\\orivault\\financial_common\\risk\\single_index_capm.py:18: FutureWarning: The default fill_method='pad' in Series.pct_change is deprecated and will be removed in a future version. Either fill in any non-leading NA values prior to calling pct_change or specify 'fill_method=None' to not fill NA values.\n",
      "  df[\"historical_return\"] = df[\"adjclose\"].pct_change(60)\n",
      " 76%|███████████████████████████████████████████████████████████████████████████████████████████████████████████████████▏                                   | 3301/4327 [08:49<02:43,  6.27it/s]E:\\projects\\orivault\\financial_common\\risk\\single_index_capm.py:18: FutureWarning: The default fill_method='pad' in Series.pct_change is deprecated and will be removed in a future version. Either fill in any non-leading NA values prior to calling pct_change or specify 'fill_method=None' to not fill NA values.\n",
      "  df[\"historical_return\"] = df[\"adjclose\"].pct_change(60)\n",
      " 82%|███████████████████████████████████████████████████████████████████████████████████████████████████████████████████████████▎                           | 3534/4327 [09:30<02:30,  5.27it/s]E:\\projects\\orivault\\financial_common\\risk\\single_index_capm.py:18: FutureWarning: The default fill_method='pad' in Series.pct_change is deprecated and will be removed in a future version. Either fill in any non-leading NA values prior to calling pct_change or specify 'fill_method=None' to not fill NA values.\n",
      "  df[\"historical_return\"] = df[\"adjclose\"].pct_change(60)\n",
      " 83%|█████████████████████████████████████████████████████████████████████████████████████████████████████████████████████████████▊                         | 3604/4327 [09:42<02:23,  5.03it/s]E:\\projects\\orivault\\financial_common\\risk\\single_index_capm.py:18: FutureWarning: The default fill_method='pad' in Series.pct_change is deprecated and will be removed in a future version. Either fill in any non-leading NA values prior to calling pct_change or specify 'fill_method=None' to not fill NA values.\n",
      "  df[\"historical_return\"] = df[\"adjclose\"].pct_change(60)\n",
      " 85%|████████████████████████████████████████████████████████████████████████████████████████████████████████████████████████████████▎                      | 3676/4327 [09:55<02:19,  4.68it/s]E:\\projects\\orivault\\financial_common\\risk\\single_index_capm.py:18: FutureWarning: The default fill_method='pad' in Series.pct_change is deprecated and will be removed in a future version. Either fill in any non-leading NA values prior to calling pct_change or specify 'fill_method=None' to not fill NA values.\n",
      "  df[\"historical_return\"] = df[\"adjclose\"].pct_change(60)\n",
      " 86%|█████████████████████████████████████████████████████████████████████████████████████████████████████████████████████████████████▎                     | 3706/4327 [10:01<02:21,  4.40it/s]E:\\projects\\orivault\\financial_common\\risk\\single_index_capm.py:18: FutureWarning: The default fill_method='pad' in Series.pct_change is deprecated and will be removed in a future version. Either fill in any non-leading NA values prior to calling pct_change or specify 'fill_method=None' to not fill NA values.\n",
      "  df[\"historical_return\"] = df[\"adjclose\"].pct_change(60)\n",
      " 91%|█████████████████████████████████████████████████████████████████████████████████████████████████████████████████████████████████████████▉             | 3951/4327 [10:42<01:14,  5.03it/s]E:\\projects\\orivault\\financial_common\\risk\\single_index_capm.py:18: FutureWarning: The default fill_method='pad' in Series.pct_change is deprecated and will be removed in a future version. Either fill in any non-leading NA values prior to calling pct_change or specify 'fill_method=None' to not fill NA values.\n",
      "  df[\"historical_return\"] = df[\"adjclose\"].pct_change(60)\n",
      " 95%|███████████████████████████████████████████████████████████████████████████████████████████████████████████████████████████████████████████████        | 4100/4327 [11:09<00:43,  5.27it/s]E:\\projects\\orivault\\financial_common\\risk\\single_index_capm.py:18: FutureWarning: The default fill_method='pad' in Series.pct_change is deprecated and will be removed in a future version. Either fill in any non-leading NA values prior to calling pct_change or specify 'fill_method=None' to not fill NA values.\n",
      "  df[\"historical_return\"] = df[\"adjclose\"].pct_change(60)\n",
      " 96%|████████████████████████████████████████████████████████████████████████████████████████████████████████████████████████████████████████████████▊      | 4150/4327 [11:18<00:35,  4.99it/s]E:\\projects\\orivault\\financial_common\\risk\\single_index_capm.py:18: FutureWarning: The default fill_method='pad' in Series.pct_change is deprecated and will be removed in a future version. Either fill in any non-leading NA values prior to calling pct_change or specify 'fill_method=None' to not fill NA values.\n",
      "  df[\"historical_return\"] = df[\"adjclose\"].pct_change(60)\n",
      " 96%|█████████████████████████████████████████████████████████████████████████████████████████████████████████████████████████████████████████████████▎     | 4165/4327 [11:21<00:35,  4.57it/s]E:\\projects\\orivault\\financial_common\\risk\\single_index_capm.py:18: FutureWarning: The default fill_method='pad' in Series.pct_change is deprecated and will be removed in a future version. Either fill in any non-leading NA values prior to calling pct_change or specify 'fill_method=None' to not fill NA values.\n",
      "  df[\"historical_return\"] = df[\"adjclose\"].pct_change(60)\n",
      " 98%|███████████████████████████████████████████████████████████████████████████████████████████████████████████████████████████████████████████████████▍   | 4224/4327 [11:32<00:17,  5.78it/s]E:\\projects\\orivault\\financial_common\\risk\\single_index_capm.py:18: FutureWarning: The default fill_method='pad' in Series.pct_change is deprecated and will be removed in a future version. Either fill in any non-leading NA values prior to calling pct_change or specify 'fill_method=None' to not fill NA values.\n",
      "  df[\"historical_return\"] = df[\"adjclose\"].pct_change(60)\n",
      " 98%|████████████████████████████████████████████████████████████████████████████████████████████████████████████████████████████████████████████████████   | 4243/4327 [11:36<00:18,  4.63it/s]E:\\projects\\orivault\\financial_common\\risk\\single_index_capm.py:18: FutureWarning: The default fill_method='pad' in Series.pct_change is deprecated and will be removed in a future version. Either fill in any non-leading NA values prior to calling pct_change or specify 'fill_method=None' to not fill NA values.\n",
      "  df[\"historical_return\"] = df[\"adjclose\"].pct_change(60)\n",
      " 98%|████████████████████████████████████████████████████████████████████████████████████████████████████████████████████████████████████████████████████▏  | 4245/4327 [11:36<00:18,  4.50it/s]E:\\projects\\orivault\\financial_common\\risk\\single_index_capm.py:18: FutureWarning: The default fill_method='pad' in Series.pct_change is deprecated and will be removed in a future version. Either fill in any non-leading NA values prior to calling pct_change or specify 'fill_method=None' to not fill NA values.\n",
      "  df[\"historical_return\"] = df[\"adjclose\"].pct_change(60)\n",
      "100%|███████████████████████████████████████████████████████████████████████████████████████████████████████████████████████████████████████████████████████| 4327/4327 [11:48<00:00,  6.11it/s]\n"
     ]
    }
   ],
   "source": [
    "market.connect()\n",
    "prices = []\n",
    "\n",
    "for ticker in tqdm(index[\"ticker\"]): \n",
    "    try:## price prep\n",
    "        price = market.query(\"prices\", {\"ticker\": ticker})\n",
    "        if price.index.size > 150:\n",
    "            price = p.lower_column(price)\n",
    "            price = p.utc_date(price)\n",
    "        \n",
    "            price.sort_values(\"date\", inplace=True)\n",
    "            ## factor merge and indicator calculations\n",
    "            price = factors_df.merge(price[[\"date\", \"ticker\", \"adjclose\", \"adjhigh\", \"adjlow\", \"adjvolume\"]], on=\"date\", how=\"left\")\n",
    "            price = p.additional_date_columns(price)\n",
    "            price = Indicator.ROLLING_DOLLAR_VOLUME.calculate(price)\n",
    "            \n",
    "            price[\"y\"] = price[\"adjclose\"].shift(-60)\n",
    "    \n",
    "            ## subsetting training and modeling data\n",
    "            training_data = price[(price[\"year\"] >= model_start) & (price[\"year\"] < model_end)].dropna(subset=factors).dropna()\n",
    "            sim = price[(price[\"year\"] >= model_end - 1) & (price[\"year\"] < backtest_end)].dropna(subset=factors)\n",
    "            if training_data.index.size >200 and sim.index.size >200:\n",
    "                ## Modeling and Projections\n",
    "                model = XGBRegressor()\n",
    "                model.fit(training_data[factors], training_data[\"y\"])\n",
    "                sim[\"prediction\"] = model.predict(sim[factors])\n",
    "        \n",
    "                ## Risk Application\n",
    "                sim = sim.merge(macro, on=\"date\", how=\"left\")\n",
    "                sim = SingleIndexCAPM.apply(sim)\n",
    "                for member in RiskType:\n",
    "                    sim = member.apply(sim)\n",
    "                \n",
    "                prices.append(sim)\n",
    "    except Exception as e:\n",
    "        # Print the exception message for debugging, continue processing the next ticker\n",
    "        print(str(e))\n",
    "        continue\n",
    "\n",
    "market.disconnect()"
   ]
  },
  {
   "cell_type": "code",
   "execution_count": 10,
   "id": "fb63bbf6-0639-445b-aef4-44998e4f17fb",
   "metadata": {},
   "outputs": [
    {
     "data": {
      "text/plain": [
       "Index(['date', 'AAPL', 'AMZN', 'GOOGL', 'META', 'MSFT', 'NVDA', 'TSLA',\n",
       "       'ticker', 'adjclose', 'adjhigh', 'adjlow', 'adjvolume', 'year', 'month',\n",
       "       'quarter', 'week', 'reference_price', 'reference_volume',\n",
       "       'reference_high', 'reference_low', 'rolling_dollar_volume', 'y',\n",
       "       'realtime_start', 'realtime_end', 'rf', 'factor', 'risk', 'sigma',\n",
       "       'coefficient_of_variation', 'drawdown', 'market_cap', 'office',\n",
       "       'sic_description', 'sell_price', 'sell_date'],\n",
       "      dtype='object')"
      ]
     },
     "execution_count": 10,
     "metadata": {},
     "output_type": "execute_result"
    }
   ],
   "source": [
    "## getting names\n",
    "simulation = pd.concat(prices).merge(index[[\"ticker\",\"market_cap\",\"office\",\"sic_description\"]],on=\"ticker\",how=\"left\")\n",
    "simulation[\"market_cap\"] = simulation[\"market_cap\"].astype(float)\n",
    "## subsetting backtesting data\n",
    "simulation = simulation[(simulation[\"year\"]>=model_end) & (simulation[\"year\"]<backtest_end)].dropna(subset=\"factor\")\n",
    "tickers = list(simulation[simulation[\"year\"]==model_end][\"ticker\"].unique())\n",
    "simulation = simulation[simulation[\"ticker\"].isin(tickers)]\n",
    "\n",
    "simulation.sort_values(\"date\", inplace=True)\n",
    "simulation[\"sell_price\"] = simulation[\"adjclose\"]\n",
    "simulation[\"sell_date\"] = simulation[\"date\"]\n",
    "simulation.columns"
   ]
  },
  {
   "cell_type": "code",
   "execution_count": 11,
   "id": "abd94941-a4e3-4bd2-96d6-ebd19bca227b",
   "metadata": {},
   "outputs": [],
   "source": [
    "## Defining Benchmark\n",
    "market.connect()\n",
    "benchmark = market.query(\"prices\",{\"ticker\":\"JPM\"})\n",
    "market.disconnect()\n",
    "benchmark = Benchmark.convert_to_benchmark(benchmark,\"adjclose\")"
   ]
  },
  {
   "cell_type": "code",
   "execution_count": 12,
   "id": "b6a92ff2-3d69-40c0-b1ba-1d850d42380c",
   "metadata": {},
   "outputs": [],
   "source": [
    "portfolios = PortfolioSelection.generate_possible_portfolios(group_percentages=[0.01])"
   ]
  },
  {
   "cell_type": "code",
   "execution_count": null,
   "id": "ad842794-ccc3-4eb6-a545-008d8a5996a2",
   "metadata": {
    "scrolled": true
   },
   "outputs": [
    {
     "name": "stderr",
     "output_type": "stream",
     "text": [
      " 68%|██████████████████████████████████████████████████████████████████████████████████████████████████████▊                                                | 196/288 [27:18<1:22:14, 53.63s/it]"
     ]
    }
   ],
   "source": [
    "run = True\n",
    "if run:\n",
    "    analysises = []\n",
    "    for portfolio in tqdm(portfolios):\n",
    "        try:\n",
    "            trades = portfolio.trades(simulation.copy())\n",
    "            performance = portfolio.portfolio(trades.copy(),benchmark.copy())\n",
    "            metrics = Metrics.performance(trades,performance)\n",
    "            results = {**portfolio.to_dict(),**metrics.copy()}\n",
    "            results[\"portfolio\"] = portfolio\n",
    "            analysises.append(results)\n",
    "        except Exception as e:\n",
    "            print(str(e))\n",
    "            continue"
   ]
  },
  {
   "cell_type": "code",
   "execution_count": null,
   "id": "836b13ed-c3d4-4e53-a62b-9163a7fdb56e",
   "metadata": {},
   "outputs": [],
   "source": [
    "a = pd.DataFrame(analysises)\n",
    "a.columns"
   ]
  },
  {
   "cell_type": "code",
   "execution_count": null,
   "id": "8800b80f-e77d-4382-9dd6-c50988b545fb",
   "metadata": {},
   "outputs": [],
   "source": [
    "a[\"color\"] = [\"blue\" if x == \"top\" else \"red\" if x == \"bottom\"  else \"green\" for x in a[\"selection_type\"]]\n",
    "a[\"return_to_risk\"] = a[\"pnl\"] / a[\"portfolio_std\"]"
   ]
  },
  {
   "cell_type": "code",
   "execution_count": null,
   "id": "1c9898c5-47de-4f97-959e-3e0d93206c69",
   "metadata": {},
   "outputs": [],
   "source": [
    "fig, axes = plt.subplots(1, 2, figsize=(12, 6), sharey=True)\n",
    "\n",
    "# Titles for each subplot\n",
    "titles = [\"Long\", \"Short\"]\n",
    "\n",
    "# Iterate over directions and corresponding axes\n",
    "for i, position_type in enumerate([\"long\", \"short\"]):\n",
    "    d_analysis = a[a[\"position_type\"] == position_type]\n",
    "    axes[i].scatter(\n",
    "        d_analysis[\"portfolio_std\"],\n",
    "        d_analysis[\"pnl\"],\n",
    "        c=d_analysis[\"color\"],\n",
    "        s=50,\n",
    "        alpha=0.8,\n",
    "        edgecolors=\"w\",\n",
    "    )\n",
    "    axes[i].set_title(titles[i])\n",
    "    axes[i].set_xlabel(\"return_to_risk\")\n",
    "    axes[i].set_ylabel(\"sharpe_ratio\" if i == 0 else \"\")  # Only label y-axis on the first plot\n",
    "\n",
    "# Adjust layout for better spacing\n",
    "plt.tight_layout()\n",
    "\n",
    "# Show the combined plot\n",
    "plt.show()"
   ]
  },
  {
   "cell_type": "code",
   "execution_count": null,
   "id": "36cf02b0-947e-445b-9f63-ff00e556ff0b",
   "metadata": {},
   "outputs": [],
   "source": [
    "a.groupby(\"pnl\").first().reset_index().drop(\"date\",axis=1).sort_values(\"pnl\",ascending=False).head(20)"
   ]
  },
  {
   "cell_type": "code",
   "execution_count": null,
   "id": "d9547ac4-1502-48ff-a25b-196a89099c71",
   "metadata": {},
   "outputs": [],
   "source": [
    "top = a.sort_values(\"pnl\",ascending=False).head(1).to_dict(\"records\")[0]\n",
    "top"
   ]
  },
  {
   "cell_type": "code",
   "execution_count": null,
   "id": "4931e115-868a-471c-8605-105bd078e343",
   "metadata": {},
   "outputs": [],
   "source": [
    "pm = top[\"portfolio\"]\n",
    "trades = pm.trades(simulation.copy()).merge(index[[\"ticker\",\"office\",\"sic_description\"]],on=\"ticker\",how=\"left\")\n",
    "trades = p.additional_date_columns(trades)\n",
    "portfolio = pm.portfolio(trades.copy(),benchmark.copy())\n",
    "portfolio = p.additional_date_columns(portfolio)"
   ]
  },
  {
   "cell_type": "code",
   "execution_count": null,
   "id": "597bcabe-1a9d-4b72-a2fa-4f84dc767e26",
   "metadata": {},
   "outputs": [],
   "source": [
    "portfolio['Year-Quarter'] = portfolio[\"year\"].astype(str) + \"q\" + portfolio[\"quarter\"].astype(str)\n",
    "ax = portfolio[[\"Year-Quarter\",\"pnl\",\"benchmark_pnl\"]].set_index(\"Year-Quarter\").plot(\n",
    "    kind=\"line\",\n",
    "    figsize=(12, 6),\n",
    "    title=\"Mean Returns by Exposure per Year and Quarter\"\n",
    ")\n",
    "\n",
    "# Set y-axis to have more precise ticks\n",
    "ax.tick_params(axis='y', direction='in', length=6)  # Adjust y-tick direction and length\n",
    "ax.yaxis.set_major_formatter(plt.FuncFormatter(lambda x, _: f'{x:.4f}'))  # Format y-ticks with 4 decimal places\n",
    "\n",
    "# Move y-ticks to the right side\n",
    "ax.yaxis.set_tick_params(which='both', direction='inout', length=6, labelleft=False, labelright=True)\n",
    "\n",
    "# Optionally adjust the number of ticks for better precision\n",
    "ax.yaxis.set_major_locator(plt.MaxNLocator(integer=False, prune='both'))\n",
    "\n",
    "# Add grid lines\n",
    "ax.grid(True, which='both', axis='both', linestyle='--', linewidth=0.7)\n",
    "\n",
    "# Display the plot\n",
    "plt.tight_layout()\n",
    "plt.show()"
   ]
  },
  {
   "cell_type": "code",
   "execution_count": null,
   "id": "5e259941-c727-4c51-a808-89a341d84710",
   "metadata": {},
   "outputs": [],
   "source": [
    "trades[[\"office\",\"return\"]].groupby(\"office\").mean().sort_values(\"return\",ascending=False)"
   ]
  }
 ],
 "metadata": {
  "kernelspec": {
   "display_name": "Python 3 (ipykernel)",
   "language": "python",
   "name": "python3"
  },
  "language_info": {
   "codemirror_mode": {
    "name": "ipython",
    "version": 3
   },
   "file_extension": ".py",
   "mimetype": "text/x-python",
   "name": "python",
   "nbconvert_exporter": "python",
   "pygments_lexer": "ipython3",
   "version": "3.11.9"
  }
 },
 "nbformat": 4,
 "nbformat_minor": 5
}
