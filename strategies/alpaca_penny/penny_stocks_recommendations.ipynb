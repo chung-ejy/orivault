{
 "cells": [
  {
   "cell_type": "code",
   "execution_count": 37,
   "id": "246c49f1-95ae-48c8-a1c2-a5c621cc768f",
   "metadata": {},
   "outputs": [],
   "source": [
    "## PATH settings\n",
    "import os\n",
    "import sys\n",
    "project_root = os.path.abspath(os.path.join(os.getcwd(), '../../'))\n",
    "sys.path.append(project_root)\n",
    "COMMON_PATH = os.path.join(project_root, 'common')"
   ]
  },
  {
   "cell_type": "code",
   "execution_count": 38,
   "id": "b3f7ffcc-42d9-4090-99b3-6479955e1a5f",
   "metadata": {},
   "outputs": [],
   "source": [
    "## Bespoke class imports\n",
    "from common.database.adatabase import ADatabase\n",
    "from common.processor.processor import Processor as p\n",
    "from common.extractor.alpaca_extractor import AlpacaExtractor\n",
    "from financial_common.indicator.indicator import Indicator\n",
    "from financial_common.risk.benchmark import Benchmark\n",
    "from financial_common.portfolio_management.kpi import KPI\n",
    "from financial_common.metric.metric import Metric\n",
    "from financial_common.portfolio_management.portfolio import Portfolio\n",
    "import numpy as np\n",
    "import matplotlib.pyplot as plt"
   ]
  },
  {
   "cell_type": "code",
   "execution_count": 39,
   "id": "5e602193-3097-4687-bd19-00f3b8bff5d4",
   "metadata": {},
   "outputs": [],
   "source": [
    "## Import standard packages\n",
    "from datetime import timedelta, datetime\n",
    "import matplotlib.pyplot as plt\n",
    "from tqdm import tqdm\n",
    "import pandas as pd\n",
    "from time import sleep\n",
    "import copy"
   ]
  },
  {
   "cell_type": "code",
   "execution_count": 40,
   "id": "01317ec8-a56f-4e96-907f-3b07b4d80013",
   "metadata": {},
   "outputs": [],
   "source": [
    "orivault = ADatabase(\"ori\")\n",
    "alp = AlpacaExtractor(paper=False)"
   ]
  },
  {
   "cell_type": "code",
   "execution_count": 41,
   "id": "98afb993-65eb-4107-9d6d-4139059fbfb4",
   "metadata": {},
   "outputs": [
    {
     "data": {
      "text/plain": [
       "{'ranking_metric': 'roc',\n",
       " 'timeframe': 'DAY',\n",
       " 'position_type': 'long',\n",
       " 'grouping_type': 'STANDARD_DEV',\n",
       " 'selection_type': 'bottom_blacklist',\n",
       " 'allocation_type': 'risk',\n",
       " 'risk_type': 'coefficient_of_variation',\n",
       " 'selection_percentage': 1,\n",
       " 'stoploss': 1,\n",
       " 'num_of_groups': 1,\n",
       " 'max_price': 1.0,\n",
       " 'min_price': 0.1,\n",
       " 'max_market_cap': 1000000,\n",
       " 'min_market_cap': 10000,\n",
       " 'rolling_window': 10,\n",
       " 'leverage': 1,\n",
       " 'date': Timestamp('2025-03-14 00:00:00'),\n",
       " 'pnl': 1.0399155845575527,\n",
       " 'raw_pnl': 1.074481883477311,\n",
       " 'downside': 1.003024196303915,\n",
       " 'coefficient_of_variation': 74.19476962085422,\n",
       " 'portfolio_std': 0.014016022825755354,\n",
       " 'sharpe_ratio': 2.7798101461288307,\n",
       " 'tracking_error': 0.022069624622821006,\n",
       " 'information_ratio': 1.7654075737708579}"
      ]
     },
     "execution_count": 41,
     "metadata": {},
     "output_type": "execute_result"
    }
   ],
   "source": [
    "orivault.connect()\n",
    "portfolio_dictionary = orivault.retrieve(\"results\").to_dict(\"records\")[0]\n",
    "orivault.disconnect()\n",
    "portfolio_dictionary"
   ]
  },
  {
   "cell_type": "code",
   "execution_count": 42,
   "id": "e4015f5d-7678-4cf4-9ea3-488ec8de82db",
   "metadata": {},
   "outputs": [
    {
     "data": {
      "text/plain": [
       "{'ranking_metric': 'roc',\n",
       " 'timeframe': 'DAY',\n",
       " 'position_type': 'long',\n",
       " 'grouping_type': 'STANDARD_DEV',\n",
       " 'selection_type': 'bottom_blacklist',\n",
       " 'allocation_type': 'risk',\n",
       " 'risk_type': 'coefficient_of_variation',\n",
       " 'selection_percentage': 1.0,\n",
       " 'stoploss': 1.0,\n",
       " 'num_of_groups': 1,\n",
       " 'max_price': 1.0,\n",
       " 'min_price': 0.1,\n",
       " 'max_market_cap': 1000000.0,\n",
       " 'min_market_cap': 10000.0,\n",
       " 'rolling_window': 10,\n",
       " 'leverage': 1}"
      ]
     },
     "execution_count": 42,
     "metadata": {},
     "output_type": "execute_result"
    }
   ],
   "source": [
    "pm = Portfolio.from_dict(portfolio_dictionary)\n",
    "pm.to_dict()"
   ]
  },
  {
   "cell_type": "code",
   "execution_count": 43,
   "id": "1e37c28f-be14-4d2d-b2fa-d36cbd588168",
   "metadata": {},
   "outputs": [
    {
     "name": "stdout",
     "output_type": "stream",
     "text": [
      "'SVA'\n",
      "'WTGUU'\n"
     ]
    }
   ],
   "source": [
    "## Retrieve existing stocks \n",
    "index = alp.assets().sort_values(\"ticker\")\n",
    "tickers = index[\"ticker\"].values\n",
    "tickers_per_batch = int(1000)\n",
    "batchs = [tickers[i:i + tickers_per_batch] for i in range(0, len(tickers), tickers_per_batch)]\n",
    "bars = []\n",
    "[bars.append(alp.latest_bars_bulk(batch)) for batch in batchs]\n",
    "todays_bar = pd.concat(bars)\n",
    "index = index.merge(todays_bar,on=\"ticker\",how=\"left\")"
   ]
  },
  {
   "cell_type": "code",
   "execution_count": 44,
   "id": "8489095c-b17a-41ac-80a0-f4c315737be8",
   "metadata": {},
   "outputs": [
    {
     "name": "stdout",
     "output_type": "stream",
     "text": [
      "2025-04-26 14:45:51.010543-04:00 2025-05-26 14:45:51.010543-04:00\n"
     ]
    }
   ],
   "source": [
    "end = alp.clock() - timedelta(days=1)\n",
    "start = (end - timedelta(days=pm.rolling_window*3))\n",
    "print(start,end)"
   ]
  },
  {
   "cell_type": "code",
   "execution_count": 45,
   "id": "ca22f01d-5461-4703-a9ec-73a74fa20aa8",
   "metadata": {},
   "outputs": [
    {
     "name": "stdout",
     "output_type": "stream",
     "text": [
      "50\n"
     ]
    }
   ],
   "source": [
    "tickers_per_batch = int(10000/(pm.rolling_window*4)/5)\n",
    "print(tickers_per_batch)"
   ]
  },
  {
   "cell_type": "code",
   "execution_count": 46,
   "id": "42a9639a-fc62-46cf-9b14-dc8f58ee7316",
   "metadata": {},
   "outputs": [],
   "source": [
    "relevant_tickers = index[(index[\"adjclose\"]>=pm.min_price) & (index[\"adjclose\"]<=pm.max_price)][\"ticker\"]\n",
    "batchs = [relevant_tickers[i:i + tickers_per_batch] for i in range(0, len(relevant_tickers), tickers_per_batch)]"
   ]
  },
  {
   "cell_type": "code",
   "execution_count": 47,
   "id": "09587a4a-c54f-458c-ac5f-bca6b33405ff",
   "metadata": {},
   "outputs": [
    {
     "name": "stderr",
     "output_type": "stream",
     "text": [
      " 85%|███████████████████████████████████████████████████████████████████████████████████████████████████████████████████████████████████████████████████████████████████████████████████▍                                | 11/13 [00:07<00:01,  1.35it/s]"
     ]
    },
    {
     "name": "stdout",
     "output_type": "stream",
     "text": [
      "'UYSCR'\n"
     ]
    },
    {
     "name": "stderr",
     "output_type": "stream",
     "text": [
      "100%|████████████████████████████████████████████████████████████████████████████████████████████████████████████████████████████████████████████████████████████████████████████████████████████████████████████████████| 13/13 [00:09<00:00,  1.42it/s]\n"
     ]
    }
   ],
   "source": [
    "prices = []\n",
    "for batch in tqdm(batchs):\n",
    "    try:\n",
    "        tickers_data = alp.prices_bulk(batch,start,end)\n",
    "        for ticker in batch:\n",
    "            try:\n",
    "                price = tickers_data[tickers_data[\"ticker\"] == ticker].copy()\n",
    "                price = p.lower_column(price)\n",
    "                price = p.utc_date(price)\n",
    "                price.sort_values(\"date\", inplace=True)\n",
    "                price = p.additional_date_columns(price)\n",
    "                price[\"market_cap\"] = price[\"adjclose\"] * price[\"volume\"]\n",
    "                if price[(price[\"adjclose\"]<=pm.max_price) & (price[\"adjclose\"]>=pm.min_price)].index.size > 0:\n",
    "                    price[\"standard_dev\"] = 1\n",
    "                    price[\"coefficient_of_variation\"] = 1\n",
    "                    price = Indicator.indicator_type_factory(pm.ranking_metric).calculate(price,timeframe=pm.rolling_window,live=True)\n",
    "                    prices.append(price)\n",
    "            except Exception as e:\n",
    "                print(str(e))\n",
    "    except Exception as e:\n",
    "        print(str(e))"
   ]
  },
  {
   "cell_type": "code",
   "execution_count": 48,
   "id": "2212583d-6a1c-4721-a689-1bcaad1d5b2d",
   "metadata": {},
   "outputs": [
    {
     "data": {
      "text/html": [
       "<div>\n",
       "<style scoped>\n",
       "    .dataframe tbody tr th:only-of-type {\n",
       "        vertical-align: middle;\n",
       "    }\n",
       "\n",
       "    .dataframe tbody tr th {\n",
       "        vertical-align: top;\n",
       "    }\n",
       "\n",
       "    .dataframe thead th {\n",
       "        text-align: right;\n",
       "    }\n",
       "</style>\n",
       "<table border=\"1\" class=\"dataframe\">\n",
       "  <thead>\n",
       "    <tr style=\"text-align: right;\">\n",
       "      <th></th>\n",
       "      <th>year</th>\n",
       "      <th>day</th>\n",
       "      <th>ticker</th>\n",
       "      <th>date</th>\n",
       "      <th>adjclose</th>\n",
       "      <th>high</th>\n",
       "      <th>low</th>\n",
       "      <th>volume</th>\n",
       "      <th>month</th>\n",
       "      <th>quarter</th>\n",
       "      <th>...</th>\n",
       "      <th>adjclose_test</th>\n",
       "      <th>high_test</th>\n",
       "      <th>low_test</th>\n",
       "      <th>volume_test</th>\n",
       "      <th>roc</th>\n",
       "      <th>group_percentile</th>\n",
       "      <th>rank_percentile</th>\n",
       "      <th>major_key</th>\n",
       "      <th>position_type</th>\n",
       "      <th>weight</th>\n",
       "    </tr>\n",
       "  </thead>\n",
       "  <tbody>\n",
       "    <tr>\n",
       "      <th>19</th>\n",
       "      <td>2025</td>\n",
       "      <td>143</td>\n",
       "      <td>CHACR</td>\n",
       "      <td>2025-05-23 00:00:00+00:00</td>\n",
       "      <td>0.21</td>\n",
       "      <td>0.21</td>\n",
       "      <td>0.21</td>\n",
       "      <td>500000</td>\n",
       "      <td>5</td>\n",
       "      <td>2</td>\n",
       "      <td>...</td>\n",
       "      <td>0.2</td>\n",
       "      <td>0.2145</td>\n",
       "      <td>0.2</td>\n",
       "      <td>1144200.0</td>\n",
       "      <td>NaN</td>\n",
       "      <td>1</td>\n",
       "      <td>1000</td>\n",
       "      <td>2025_143_1</td>\n",
       "      <td>1.0</td>\n",
       "      <td>1.0</td>\n",
       "    </tr>\n",
       "  </tbody>\n",
       "</table>\n",
       "<p>1 rows × 25 columns</p>\n",
       "</div>"
      ],
      "text/plain": [
       "    year  day ticker                      date  adjclose  high   low  volume  \\\n",
       "19  2025  143  CHACR 2025-05-23 00:00:00+00:00      0.21  0.21  0.21  500000   \n",
       "\n",
       "    month  quarter  ...  adjclose_test  high_test  low_test  volume_test  roc  \\\n",
       "19      5        2  ...            0.2     0.2145       0.2    1144200.0  NaN   \n",
       "\n",
       "    group_percentile  rank_percentile   major_key  position_type  weight  \n",
       "19                 1             1000  2025_143_1            1.0     1.0  \n",
       "\n",
       "[1 rows x 25 columns]"
      ]
     },
     "execution_count": 48,
     "metadata": {},
     "output_type": "execute_result"
    }
   ],
   "source": [
    "simulation = pd.concat(prices)\n",
    "simulation.sort_values(\"date\", inplace=True)\n",
    "trades = pm.recs(simulation.copy())\n",
    "trades"
   ]
  }
 ],
 "metadata": {
  "kernelspec": {
   "display_name": "Python 3 (ipykernel)",
   "language": "python",
   "name": "python3"
  },
  "language_info": {
   "codemirror_mode": {
    "name": "ipython",
    "version": 3
   },
   "file_extension": ".py",
   "mimetype": "text/x-python",
   "name": "python",
   "nbconvert_exporter": "python",
   "pygments_lexer": "ipython3",
   "version": "3.11.9"
  }
 },
 "nbformat": 4,
 "nbformat_minor": 5
}
