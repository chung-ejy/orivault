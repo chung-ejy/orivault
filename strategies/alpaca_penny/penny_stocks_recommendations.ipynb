{
 "cells": [
  {
   "cell_type": "code",
   "execution_count": 1,
   "id": "246c49f1-95ae-48c8-a1c2-a5c621cc768f",
   "metadata": {},
   "outputs": [],
   "source": [
    "## PATH settings\n",
    "import os\n",
    "import sys\n",
    "project_root = os.path.abspath(os.path.join(os.getcwd(), '../../'))\n",
    "sys.path.append(project_root)\n",
    "COMMON_PATH = os.path.join(project_root, 'common')"
   ]
  },
  {
   "cell_type": "code",
   "execution_count": 2,
   "id": "b3f7ffcc-42d9-4090-99b3-6479955e1a5f",
   "metadata": {},
   "outputs": [],
   "source": [
    "## Bespoke class imports\n",
    "from common.database.adatabase import ADatabase\n",
    "from common.processor.processor import Processor as p\n",
    "from common.processor.utils import Utils\n",
    "from common.extractor.alpaca_extractor import AlpacaExtractor\n",
    "from financial_common.indicator.indicator import Indicator\n",
    "from financial_common.risk.benchmark import Benchmark\n",
    "from financial_common.portfolio_management.kpi import KPI\n",
    "from financial_common.metric.metric import Metric\n",
    "from financial_common.portfolio_management.portfolio import Portfolio\n",
    "import numpy as np\n",
    "import matplotlib.pyplot as plt"
   ]
  },
  {
   "cell_type": "code",
   "execution_count": 3,
   "id": "5e602193-3097-4687-bd19-00f3b8bff5d4",
   "metadata": {},
   "outputs": [],
   "source": [
    "## Import standard packages\n",
    "from datetime import timedelta, datetime\n",
    "import matplotlib.pyplot as plt\n",
    "from tqdm import tqdm\n",
    "import pandas as pd\n",
    "from time import sleep\n",
    "import copy"
   ]
  },
  {
   "cell_type": "code",
   "execution_count": 4,
   "id": "01317ec8-a56f-4e96-907f-3b07b4d80013",
   "metadata": {},
   "outputs": [],
   "source": [
    "orivault = ADatabase(\"ori\")\n",
    "alp = AlpacaExtractor(paper=False)"
   ]
  },
  {
   "cell_type": "code",
   "execution_count": 5,
   "id": "98afb993-65eb-4107-9d6d-4139059fbfb4",
   "metadata": {},
   "outputs": [],
   "source": [
    "orivault.connect()\n",
    "portfolio_dictionary = orivault.retrieve(\"results\").to_dict(\"records\")[0]\n",
    "orivault.disconnect()"
   ]
  },
  {
   "cell_type": "code",
   "execution_count": 6,
   "id": "e4015f5d-7678-4cf4-9ea3-488ec8de82db",
   "metadata": {},
   "outputs": [
    {
     "name": "stdout",
     "output_type": "stream",
     "text": [
      "{'ranking_metric': 'option_price', 'timeframe': 'DAY', 'position_type': 'long', 'grouping_type': 'STANDARD_DEV', 'selection_type': 'top_blacklist', 'allocation_type': 'equal', 'risk_type': 'coefficient_of_variation', 'selection_percentage': 1, 'stoploss': 1, 'num_of_groups': 1, 'max_price': 1, 'min_price': 0.01, 'max_market_cap': 10000000, 'min_market_cap': 1000000, 'rolling_window': 10, 'leverage': 1, 'date': Timestamp('2024-12-30 00:00:00'), 'pnl': 1.041653163680667, 'raw_pnl': 143295.63041874088, 'downside': 0.9996193642038371, 'coefficient_of_variation': 89.50161860539842, 'portfolio_std': 0.011638372354730109, 'sharpe_ratio': -107.27934517411298, 'tracking_error': 0.32759544812677793, 'information_ratio': -3.811276903410329}\n"
     ]
    }
   ],
   "source": [
    "pm = Portfolio.from_dict(portfolio_dictionary)\n",
    "print(portfolio_dictionary)"
   ]
  },
  {
   "cell_type": "code",
   "execution_count": 7,
   "id": "1e37c28f-be14-4d2d-b2fa-d36cbd588168",
   "metadata": {},
   "outputs": [
    {
     "name": "stdout",
     "output_type": "stream",
     "text": [
      "'BRKC'\n",
      "'CRCL'\n",
      "'EPEM'\n",
      "'EPIN'\n",
      "'FFUT'\n",
      "'GPZ'\n",
      "'IAUI'\n",
      "'KOID'\n",
      "'SVA'\n",
      "'TACOW'\n"
     ]
    }
   ],
   "source": [
    "## Retrieve existing stocks \n",
    "index = alp.assets().sort_values(\"ticker\")\n",
    "tickers = index[\"ticker\"].values\n",
    "tickers_per_batch = int(1000)\n",
    "batchs = [tickers[i:i + tickers_per_batch] for i in range(0, len(tickers), tickers_per_batch)]\n",
    "bars = []\n",
    "[bars.append(alp.latest_bars_bulk(batch)) for batch in batchs]\n",
    "todays_bar = pd.concat(bars)\n",
    "index = index.merge(todays_bar,on=\"ticker\",how=\"left\")"
   ]
  },
  {
   "cell_type": "code",
   "execution_count": 8,
   "id": "8489095c-b17a-41ac-80a0-f4c315737be8",
   "metadata": {},
   "outputs": [
    {
     "name": "stdout",
     "output_type": "stream",
     "text": [
      "2025-05-05 16:00:00-04:00 2025-06-04 16:00:00-04:00\n"
     ]
    }
   ],
   "source": [
    "end = Utils.last_weekday(alp.clock())\n",
    "start = (end - timedelta(days=pm.rolling_window*3))\n",
    "print(start,end)"
   ]
  },
  {
   "cell_type": "code",
   "execution_count": 9,
   "id": "ca22f01d-5461-4703-a9ec-73a74fa20aa8",
   "metadata": {},
   "outputs": [
    {
     "name": "stdout",
     "output_type": "stream",
     "text": [
      "50\n"
     ]
    }
   ],
   "source": []
  },
  {
   "cell_type": "code",
   "execution_count": 10,
   "id": "42a9639a-fc62-46cf-9b14-dc8f58ee7316",
   "metadata": {},
   "outputs": [],
   "source": []
  },
  {
   "cell_type": "code",
   "execution_count": 13,
   "id": "09587a4a-c54f-458c-ac5f-bca6b33405ff",
   "metadata": {},
   "outputs": [
    {
     "name": "stderr",
     "output_type": "stream",
     "text": [
      " 12%|███████████████████▍                                                                                                                                               | 27/227 [01:05<07:57,  2.39s/it]"
     ]
    },
    {
     "name": "stdout",
     "output_type": "stream",
     "text": [
      "'BRKC'\n"
     ]
    },
    {
     "name": "stderr",
     "output_type": "stream",
     "text": [
      " 19%|███████████████████████████████▌                                                                                                                                   | 44/227 [01:48<08:03,  2.64s/it]"
     ]
    },
    {
     "name": "stdout",
     "output_type": "stream",
     "text": [
      "'CRCL'\n"
     ]
    },
    {
     "name": "stderr",
     "output_type": "stream",
     "text": [
      " 28%|█████████████████████████████████████████████▏                                                                                                                     | 63/227 [02:36<07:01,  2.57s/it]"
     ]
    },
    {
     "name": "stdout",
     "output_type": "stream",
     "text": [
      "'EPEM'\n",
      "'EPIN'\n"
     ]
    },
    {
     "name": "stderr",
     "output_type": "stream",
     "text": [
      " 32%|███████████████████████████████████████████████████▋                                                                                                               | 72/227 [02:59<06:25,  2.49s/it]"
     ]
    },
    {
     "name": "stdout",
     "output_type": "stream",
     "text": [
      "'FFUT'\n"
     ]
    },
    {
     "name": "stderr",
     "output_type": "stream",
     "text": [
      " 38%|██████████████████████████████████████████████████████████████▍                                                                                                    | 87/227 [03:36<05:50,  2.50s/it]"
     ]
    },
    {
     "name": "stdout",
     "output_type": "stream",
     "text": [
      "'GPZ'\n"
     ]
    },
    {
     "name": "stderr",
     "output_type": "stream",
     "text": [
      " 43%|█████████████████████████████████████████████████████████████████████▋                                                                                             | 97/227 [04:01<05:18,  2.45s/it]"
     ]
    },
    {
     "name": "stdout",
     "output_type": "stream",
     "text": [
      "'IAUI'\n"
     ]
    },
    {
     "name": "stderr",
     "output_type": "stream",
     "text": [
      " 51%|██████████████████████████████████████████████████████████████████████████████████                                                                                | 115/227 [04:46<04:38,  2.49s/it]"
     ]
    },
    {
     "name": "stdout",
     "output_type": "stream",
     "text": [
      "'KOID'\n"
     ]
    },
    {
     "name": "stderr",
     "output_type": "stream",
     "text": [
      " 85%|█████████████████████████████████████████████████████████████████████████████████████████████████████████████████████████████████████████                         | 192/227 [07:58<01:29,  2.55s/it]"
     ]
    },
    {
     "name": "stdout",
     "output_type": "stream",
     "text": [
      "'SVA'\n"
     ]
    },
    {
     "name": "stderr",
     "output_type": "stream",
     "text": [
      " 85%|██████████████████████████████████████████████████████████████████████████████████████████████████████████████████████████████████████████▍                       | 194/227 [08:03<01:21,  2.47s/it]"
     ]
    },
    {
     "name": "stdout",
     "output_type": "stream",
     "text": [
      "'TACO'\n",
      "'TACOW'\n"
     ]
    },
    {
     "name": "stderr",
     "output_type": "stream",
     "text": [
      " 87%|████████████████████████████████████████████████████████████████████████████████████████████████████████████████████████████████████████████▌                     | 197/227 [08:11<01:15,  2.51s/it]"
     ]
    },
    {
     "name": "stdout",
     "output_type": "stream",
     "text": [
      "'TGE'\n"
     ]
    },
    {
     "name": "stderr",
     "output_type": "stream",
     "text": [
      " 92%|█████████████████████████████████████████████████████████████████████████████████████████████████████████████████████████████████████████████████████▏            | 209/227 [08:40<00:44,  2.48s/it]"
     ]
    },
    {
     "name": "stdout",
     "output_type": "stream",
     "text": [
      "'VBIX'\n"
     ]
    },
    {
     "name": "stderr",
     "output_type": "stream",
     "text": [
      "100%|██████████████████████████████████████████████████████████████████████████████████████████████████████████████████████████████████████████████████████████████████| 227/227 [09:23<00:00,  2.48s/it]\n"
     ]
    }
   ],
   "source": [
    "prices = []\n",
    "for batch in tqdm(batchs):\n",
    "    try:\n",
    "        tickers_data = alp.prices_bulk(batch,start,end)\n",
    "        for ticker in batch:\n",
    "            try:\n",
    "                price = tickers_data[tickers_data[\"ticker\"] == ticker].copy()\n",
    "                price = p.lower_column(price)\n",
    "                price = p.utc_date(price)\n",
    "                price.sort_values(\"date\", inplace=True)\n",
    "                price = p.additional_date_columns(price)\n",
    "                price[\"coefficient_of_variation\"] = 1\n",
    "                price[\"dividend\"] = 0\n",
    "                if price.index.size > pm.rolling_window:\n",
    "                    for member in Metric:\n",
    "                        price = member.calculate(price,timeframe=pm.rolling_window,live=True)\n",
    "                    for member in Indicator:\n",
    "                        price = member.calculate(price,timeframe=pm.rolling_window,live=True)\n",
    "                prices.append(price)\n",
    "            except Exception as e:\n",
    "                print(str(e))\n",
    "    except Exception as e:\n",
    "        print(str(e))"
   ]
  },
  {
   "cell_type": "code",
   "execution_count": 14,
   "id": "2212583d-6a1c-4721-a689-1bcaad1d5b2d",
   "metadata": {},
   "outputs": [
    {
     "data": {
      "text/plain": [
       "[{'year': 2025,\n",
       "  'day': 155,\n",
       "  'ticker': 'HBIO',\n",
       "  'date': Timestamp('2025-06-04 00:00:00+0000', tz='UTC'),\n",
       "  'open': 0.401,\n",
       "  'adjclose': 0.4103,\n",
       "  'high': 0.43,\n",
       "  'low': 0.37,\n",
       "  'volume': 3640659,\n",
       "  'month': 6,\n",
       "  'quarter': 2,\n",
       "  'week': 23,\n",
       "  'weekday': 2,\n",
       "  'risk': 1,\n",
       "  'dividend': 0.0,\n",
       "  'adjclose_test': 0.4211,\n",
       "  'high_test': 0.4689,\n",
       "  'low_test': 0.4,\n",
       "  'volume_test': 5857199.0,\n",
       "  'average_return': 0.20509097328650433,\n",
       "  'standard_dev': 0.1087848212451228,\n",
       "  'market_cap': 1493762.3877,\n",
       "  'simple_moving_average': 0.40242000000000006,\n",
       "  'drawdown': 0.6334389471118694,\n",
       "  'distance': 1.980023985198164,\n",
       "  'cooked_return': 57.650238884309715,\n",
       "  'next_close': nan,\n",
       "  'next_open': nan,\n",
       "  'price_to_return': 196.2153641144579,\n",
       "  'optimal': nan,\n",
       "  'adr': 0.2660360527092268,\n",
       "  'sma': -0.019205459419936455,\n",
       "  'ema': -0.0024404441314580527,\n",
       "  'bollinger_upper': 1.5110642029984054,\n",
       "  'bollinger_lower': 0.4505248781617218,\n",
       "  'momentum': 0.07390000000000002,\n",
       "  'roc': -0.02564711469959624,\n",
       "  'williams_r': -80.58690744920993,\n",
       "  'obv': 602569891.0,\n",
       "  'vwap': 0.6533095111060772,\n",
       "  'market_impact': 968546.549620321,\n",
       "  'atr': 0.12902999999999998,\n",
       "  'volume_price': 3.10826918766756,\n",
       "  'option_price': 0.3752938514275831,\n",
       "  'group_percentile': 1,\n",
       "  'rank_percentile': 5,\n",
       "  'major_key': '2025_155_1',\n",
       "  'position_type': 1.0,\n",
       "  'weight': 1.0}]"
      ]
     },
     "execution_count": 14,
     "metadata": {},
     "output_type": "execute_result"
    }
   ],
   "source": [
    "simulation = pd.concat(prices)\n",
    "simulation.sort_values(\"date\", inplace=True)\n",
    "trades = pm.recs(simulation.copy())\n",
    "trades.to_dict(\"records\")"
   ]
  }
 ],
 "metadata": {
  "kernelspec": {
   "display_name": "Python 3 (ipykernel)",
   "language": "python",
   "name": "python3"
  },
  "language_info": {
   "codemirror_mode": {
    "name": "ipython",
    "version": 3
   },
   "file_extension": ".py",
   "mimetype": "text/x-python",
   "name": "python",
   "nbconvert_exporter": "python",
   "pygments_lexer": "ipython3",
   "version": "3.11.0"
  }
 },
 "nbformat": 4,
 "nbformat_minor": 5
}
