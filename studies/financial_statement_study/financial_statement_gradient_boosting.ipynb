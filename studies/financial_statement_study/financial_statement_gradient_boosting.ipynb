{
 "cells": [
  {
   "cell_type": "code",
   "execution_count": 1,
   "id": "16989731-6c5a-4d33-92da-7556bcee1fcc",
   "metadata": {},
   "outputs": [],
   "source": [
    "## PATH settings\n",
    "import os\n",
    "import sys\n",
    "project_root = os.path.abspath(os.path.join(os.getcwd(), '../../'))\n",
    "sys.path.append(project_root)\n",
    "COMMON_PATH = os.path.join(project_root, 'common')"
   ]
  },
  {
   "cell_type": "code",
   "execution_count": 2,
   "id": "73094c60-497a-45ac-bd01-8db8578730b7",
   "metadata": {},
   "outputs": [],
   "source": [
    "## Bespoke class imports\n",
    "from common.database.adatabase import ADatabase\n",
    "from common.processor.processor import Processor as p\n",
    "from financial_common.risk.rolling_factor_analysis import RollingFactorAnalysis\n",
    "from financial_common.risk.single_index_capm import SingleIndexCAPM\n",
    "from financial_common.indicator.indicator import Indicator\n",
    "from financial_common.risk.benchmark import Benchmark\n",
    "from financial_common.portfolio_management.metrics import Metrics\n",
    "from financial_common.portfolio_management.portfolio_selection import PortfolioSelection\n",
    "from financial_common.risk.risk_type import RiskType\n",
    "import numpy as np"
   ]
  },
  {
   "cell_type": "code",
   "execution_count": 3,
   "id": "d04c2c49-144d-4ff3-acf0-e1ff11afa8a8",
   "metadata": {},
   "outputs": [],
   "source": [
    "## Import standard packages\n",
    "from xgboost import XGBRegressor\n",
    "from datetime import timedelta\n",
    "import matplotlib.pyplot as plt\n",
    "from tqdm import tqdm\n",
    "import pandas as pd\n",
    "from time import sleep"
   ]
  },
  {
   "cell_type": "code",
   "execution_count": 4,
   "id": "9131bcf0-e2ac-489b-ac60-ab69b8feda22",
   "metadata": {},
   "outputs": [],
   "source": [
    "sec = ADatabase(\"sec\")\n",
    "market = ADatabase(\"market\")\n",
    "fred = ADatabase(\"fred\")"
   ]
  },
  {
   "cell_type": "code",
   "execution_count": 5,
   "id": "a4179cff-dd72-4218-9d7a-7e01333a3a58",
   "metadata": {},
   "outputs": [],
   "source": [
    "## Retrieve existing stocks \n",
    "market.connect()\n",
    "index = market.retrieve(\"ticker_overview\")\n",
    "market.disconnect()\n",
    "sic_codes = pd.read_csv(\"../../csv_files/sic_codes.csv\").rename(columns={\"SIC Code\":\"sic_code\",\"Office\":\"office\"}).dropna()\n",
    "index[\"sic_code\"] = index[\"sic_code\"].fillna(0).astype(int)\n",
    "sic_codes[\"sic_code\"] = sic_codes[\"sic_code\"].fillna(0).astype(int)\n",
    "index = index.merge(sic_codes[[\"sic_code\",\"office\"]],on=\"sic_code\")\n",
    "\n",
    "## Retrieve previously calculated Macro Projections\n",
    "fred.connect()\n",
    "sp500 = p.lower_column(fred.retrieve(\"sp500_projections\").rename(columns={\"prediction\":\"sp500_prediction\"}))\n",
    "sp500 = p.utc_date(sp500)\n",
    "interest_rates = p.lower_column(fred.retrieve(\"market_yield\").rename(columns={\"value\":\"rf\"}))\n",
    "interest_rates = p.utc_date(interest_rates)\n",
    "interest_rates[\"rf\"] = interest_rates[\"rf\"].replace(\".\",0)\n",
    "interest_rates[\"rf\"] = [float(x) / 100 for x in interest_rates[\"rf\"]]\n",
    "fred.disconnect()\n",
    "macro = sp500.merge(interest_rates,on=\"date\",how=\"left\")\n",
    "macro = p.utc_date(macro)"
   ]
  },
  {
   "cell_type": "code",
   "execution_count": 6,
   "id": "fa7d5ea3-1219-4acb-8928-3f9219aa70c9",
   "metadata": {},
   "outputs": [],
   "source": [
    "factors = [\"assets\",\"liabilities\",\"revenue\",\"reference_price\"]"
   ]
  },
  {
   "cell_type": "code",
   "execution_count": 7,
   "id": "635c8aca-eddc-4b55-a8c3-e351e27a11e9",
   "metadata": {
    "scrolled": true
   },
   "outputs": [
    {
     "name": "stderr",
     "output_type": "stream",
     "text": [
      "4327it [04:45, 15.15it/s]\n"
     ]
    }
   ],
   "source": [
    "market.connect()\n",
    "sec.connect()\n",
    "factors_df = []\n",
    "for row in tqdm(index.iterrows()):\n",
    "    try:\n",
    "        ticker = row[1][\"ticker\"]\n",
    "        cik = int(row[1][\"cik\"])\n",
    "        price = market.query(\"prices\",{\"ticker\":ticker})\n",
    "        filings = sec.query(\"filings\",{\"cik\":cik})\n",
    "        if price.index.size > 0 and filings.index.size > 0:\n",
    "            price = p.utc_date(price)\n",
    "            price = p.additional_date_columns(price)\n",
    "            price.sort_values(\"date\",inplace=True)\n",
    "            price = Indicator.ROLLING_DOLLAR_VOLUME.calculate(price)\n",
    "            filings = p.utc_date(filings)\n",
    "            filings = p.lower_column(filings)\n",
    "            filings = p.additional_date_columns(filings)\n",
    "            ticker_factors = filings.drop([\"date\",\"month\",\"week\",\"cik\"],axis=1).groupby([\"year\",\"quarter\"]).mean().reset_index()\n",
    "            price = price.drop([\"date\",\"ticker\"],axis=1).groupby([\"year\",\"quarter\"]).mean().reset_index()\n",
    "            ticker_factors = ticker_factors.merge(price,on=[\"year\",\"quarter\"],how=\"left\")\n",
    "            ticker_factors = ticker_factors.ffill()\n",
    "            ticker_factors[\"year\"] = ticker_factors[\"year\"] + 1\n",
    "            if ticker_factors.index.size > 0:\n",
    "                ticker_factors[\"ticker\"] = ticker\n",
    "                ticker_factors[\"reference_price\"] = ticker_factors[\"adjclose\"].shift(1)\n",
    "                ticker_factors[\"y\"] = ticker_factors[\"adjclose\"].shift(-1)\n",
    "                factors_df.append(ticker_factors[[\"year\",\"quarter\",\"ticker\",\"adjclose\",\"rolling_dollar_volume\",\"y\"]+factors])\n",
    "    except Exception as e:\n",
    "        print(ticker,str(e))\n",
    "        continue\n",
    "sec.disconnect()\n",
    "market.disconnect()\n",
    "factors_df = pd.concat(factors_df).sort_values([\"year\",\"quarter\"])"
   ]
  },
  {
   "cell_type": "code",
   "execution_count": 8,
   "id": "990d4999-cc4d-4264-b239-10fb0f4773af",
   "metadata": {},
   "outputs": [],
   "source": [
    "model_start = 2015\n",
    "model_end = 2022\n",
    "backtest_end = 2026\n",
    "model = XGBRegressor(booster=\"gbtree\",random_state=42)\n",
    "factors_df = factors_df.dropna(subset=factors)\n",
    "training_data = factors_df[(factors_df[\"year\"]>=model_start) & (factors_df[\"year\"]<model_end)].dropna()\n",
    "sim = factors_df[(factors_df[\"year\"]>=model_end-1) & (factors_df[\"year\"]<backtest_end)].dropna(subset=factors)\n",
    "model.fit(training_data[factors],training_data[\"y\"])\n",
    "sim[\"prediction\"] = model.predict(sim[factors])\n",
    "sim = sim[[\"ticker\",\"year\",\"quarter\",\"prediction\"]]"
   ]
  },
  {
   "cell_type": "code",
   "execution_count": 9,
   "id": "0f877ba0-a338-475c-a1d7-f4882b2c1fa7",
   "metadata": {
    "scrolled": true
   },
   "outputs": [
    {
     "name": "stderr",
     "output_type": "stream",
     "text": [
      "  0%|▌                                                                                                                                                        | 15/4327 [00:01<07:34,  9.50it/s]"
     ]
    },
    {
     "name": "stdout",
     "output_type": "stream",
     "text": [
      "'date'\n"
     ]
    },
    {
     "name": "stderr",
     "output_type": "stream",
     "text": [
      "  1%|█▏                                                                                                                                                       | 34/4327 [00:03<06:53, 10.39it/s]"
     ]
    },
    {
     "name": "stdout",
     "output_type": "stream",
     "text": [
      "'date'\n"
     ]
    },
    {
     "name": "stderr",
     "output_type": "stream",
     "text": [
      "  3%|████▏                                                                                                                                                   | 119/4327 [00:13<06:21, 11.03it/s]"
     ]
    },
    {
     "name": "stdout",
     "output_type": "stream",
     "text": [
      "'date'\n"
     ]
    },
    {
     "name": "stderr",
     "output_type": "stream",
     "text": [
      " 12%|█████████████████▉                                                                                                                                      | 512/4327 [01:00<05:24, 11.74it/s]"
     ]
    },
    {
     "name": "stdout",
     "output_type": "stream",
     "text": [
      "'date'\n",
      "'date'\n"
     ]
    },
    {
     "name": "stderr",
     "output_type": "stream",
     "text": [
      " 12%|██████████████████▌                                                                                                                                     | 529/4327 [01:02<07:11,  8.79it/s]"
     ]
    },
    {
     "name": "stdout",
     "output_type": "stream",
     "text": [
      "'date'\n"
     ]
    },
    {
     "name": "stderr",
     "output_type": "stream",
     "text": [
      " 13%|███████████████████▏                                                                                                                                    | 547/4327 [01:04<05:53, 10.68it/s]"
     ]
    },
    {
     "name": "stdout",
     "output_type": "stream",
     "text": [
      "'date'\n"
     ]
    },
    {
     "name": "stderr",
     "output_type": "stream",
     "text": [
      " 15%|██████████████████████                                                                                                                                  | 629/4327 [01:14<06:10,  9.98it/s]"
     ]
    },
    {
     "name": "stdout",
     "output_type": "stream",
     "text": [
      "'date'\n",
      "'date'\n"
     ]
    },
    {
     "name": "stderr",
     "output_type": "stream",
     "text": [
      " 18%|███████████████████████████▎                                                                                                                            | 777/4327 [01:32<06:07,  9.65it/s]"
     ]
    },
    {
     "name": "stdout",
     "output_type": "stream",
     "text": [
      "'date'\n"
     ]
    },
    {
     "name": "stderr",
     "output_type": "stream",
     "text": [
      " 19%|█████████████████████████████▌                                                                                                                          | 842/4327 [01:41<07:35,  7.65it/s]"
     ]
    },
    {
     "name": "stdout",
     "output_type": "stream",
     "text": [
      "'date'\n"
     ]
    },
    {
     "name": "stderr",
     "output_type": "stream",
     "text": [
      " 20%|██████████████████████████████▍                                                                                                                         | 865/4327 [01:44<07:05,  8.14it/s]"
     ]
    },
    {
     "name": "stdout",
     "output_type": "stream",
     "text": [
      "'date'\n"
     ]
    },
    {
     "name": "stderr",
     "output_type": "stream",
     "text": [
      " 22%|████████████████████████████████▊                                                                                                                       | 935/4327 [01:53<05:45,  9.83it/s]"
     ]
    },
    {
     "name": "stdout",
     "output_type": "stream",
     "text": [
      "'date'\n"
     ]
    },
    {
     "name": "stderr",
     "output_type": "stream",
     "text": [
      " 23%|██████████████████████████████████▌                                                                                                                     | 985/4327 [02:00<06:27,  8.63it/s]"
     ]
    },
    {
     "name": "stdout",
     "output_type": "stream",
     "text": [
      "'date'\n",
      "'date'\n"
     ]
    },
    {
     "name": "stderr",
     "output_type": "stream",
     "text": [
      " 25%|█████████████████████████████████████▉                                                                                                                 | 1088/4327 [02:15<06:21,  8.50it/s]"
     ]
    },
    {
     "name": "stdout",
     "output_type": "stream",
     "text": [
      "'date'\n"
     ]
    },
    {
     "name": "stderr",
     "output_type": "stream",
     "text": [
      " 38%|█████████████████████████████████████████████████████████▍                                                                                             | 1647/4327 [03:28<03:42, 12.06it/s]"
     ]
    },
    {
     "name": "stdout",
     "output_type": "stream",
     "text": [
      "'date'\n"
     ]
    },
    {
     "name": "stderr",
     "output_type": "stream",
     "text": [
      " 41%|█████████████████████████████████████████████████████████████▎                                                                                         | 1757/4327 [03:42<05:11,  8.26it/s]"
     ]
    },
    {
     "name": "stdout",
     "output_type": "stream",
     "text": [
      "'date'\n"
     ]
    },
    {
     "name": "stderr",
     "output_type": "stream",
     "text": [
      " 42%|███████████████████████████████████████████████████████████████                                                                                        | 1806/4327 [03:48<04:26,  9.45it/s]"
     ]
    },
    {
     "name": "stdout",
     "output_type": "stream",
     "text": [
      "'date'\n"
     ]
    },
    {
     "name": "stderr",
     "output_type": "stream",
     "text": [
      " 44%|██████████████████████████████████████████████████████████████████▌                                                                                    | 1909/4327 [04:02<04:22,  9.22it/s]"
     ]
    },
    {
     "name": "stdout",
     "output_type": "stream",
     "text": [
      "'date'\n"
     ]
    },
    {
     "name": "stderr",
     "output_type": "stream",
     "text": [
      " 52%|███████████████████████████████████████████████████████████████████████████████                                                                        | 2265/4327 [04:50<03:14, 10.63it/s]"
     ]
    },
    {
     "name": "stdout",
     "output_type": "stream",
     "text": [
      "'date'\n"
     ]
    },
    {
     "name": "stderr",
     "output_type": "stream",
     "text": [
      " 53%|███████████████████████████████████████████████████████████████████████████████▌                                                                       | 2279/4327 [04:52<02:50, 12.01it/s]"
     ]
    },
    {
     "name": "stdout",
     "output_type": "stream",
     "text": [
      "'date'\n",
      "'date'\n"
     ]
    },
    {
     "name": "stderr",
     "output_type": "stream",
     "text": [
      " 58%|███████████████████████████████████████████████████████████████████████████████████████▍                                                               | 2506/4327 [05:22<05:45,  5.27it/s]"
     ]
    },
    {
     "name": "stdout",
     "output_type": "stream",
     "text": [
      "'date'\n"
     ]
    },
    {
     "name": "stderr",
     "output_type": "stream",
     "text": [
      " 59%|█████████████████████████████████████████████████████████████████████████████████████████                                                              | 2552/4327 [05:28<02:49, 10.50it/s]"
     ]
    },
    {
     "name": "stdout",
     "output_type": "stream",
     "text": [
      "'date'\n",
      "'date'\n"
     ]
    },
    {
     "name": "stderr",
     "output_type": "stream",
     "text": [
      " 62%|█████████████████████████████████████████████████████████████████████████████████████████████▋                                                         | 2683/4327 [05:46<02:51,  9.60it/s]"
     ]
    },
    {
     "name": "stdout",
     "output_type": "stream",
     "text": [
      "'date'\n"
     ]
    },
    {
     "name": "stderr",
     "output_type": "stream",
     "text": [
      " 64%|████████████████████████████████████████████████████████████████████████████████████████████████▎                                                      | 2759/4327 [05:55<02:21, 11.08it/s]"
     ]
    },
    {
     "name": "stdout",
     "output_type": "stream",
     "text": [
      "'date'\n"
     ]
    },
    {
     "name": "stderr",
     "output_type": "stream",
     "text": [
      " 70%|█████████████████████████████████████████████████████████████████████████████████████████████████████████▋                                             | 3030/4327 [06:31<02:18,  9.34it/s]"
     ]
    },
    {
     "name": "stdout",
     "output_type": "stream",
     "text": [
      "'date'\n"
     ]
    },
    {
     "name": "stderr",
     "output_type": "stream",
     "text": [
      " 82%|████████████████████████████████████████████████████████████████████████████████████████████████████████████████████████████▎                          | 3561/4327 [07:28<00:48, 15.75it/s]"
     ]
    },
    {
     "name": "stdout",
     "output_type": "stream",
     "text": [
      "'date'\n"
     ]
    },
    {
     "name": "stderr",
     "output_type": "stream",
     "text": [
      " 84%|███████████████████████████████████████████████████████████████████████████████████████████████████████████████████████████████▎                       | 3647/4327 [07:35<00:50, 13.47it/s]"
     ]
    },
    {
     "name": "stdout",
     "output_type": "stream",
     "text": [
      "'date'\n"
     ]
    },
    {
     "name": "stderr",
     "output_type": "stream",
     "text": [
      " 87%|██████████████████████████████████████████████████████████████████████████████████████████████████████████████████████████████████▉                    | 3752/4327 [07:45<00:40, 14.11it/s]"
     ]
    },
    {
     "name": "stdout",
     "output_type": "stream",
     "text": [
      "'date'\n"
     ]
    },
    {
     "name": "stderr",
     "output_type": "stream",
     "text": [
      " 92%|██████████████████████████████████████████████████████████████████████████████████████████████████████████████████████████████████████████▌            | 3969/4327 [08:06<00:28, 12.76it/s]"
     ]
    },
    {
     "name": "stdout",
     "output_type": "stream",
     "text": [
      "'date'\n"
     ]
    },
    {
     "name": "stderr",
     "output_type": "stream",
     "text": [
      " 98%|███████████████████████████████████████████████████████████████████████████████████████████████████████████████████████████████████████████████████▎   | 4222/4327 [08:30<00:08, 12.63it/s]"
     ]
    },
    {
     "name": "stdout",
     "output_type": "stream",
     "text": [
      "'date'\n"
     ]
    },
    {
     "name": "stderr",
     "output_type": "stream",
     "text": [
      "100%|███████████████████████████████████████████████████████████████████████████████████████████████████████████████████████████████████████████████████████| 4327/4327 [08:39<00:00,  8.33it/s]\n"
     ]
    }
   ],
   "source": [
    "market.connect()\n",
    "prices = []\n",
    "for ticker in tqdm(index[\"ticker\"]):\n",
    "    try:\n",
    "        price = p.utc_date(market.query(\"prices\",{\"ticker\":ticker}))\n",
    "        price = p.additional_date_columns(market.query(\"prices\",{\"ticker\":ticker}))\n",
    "        price.sort_values(\"date\",inplace=True)\n",
    "        price = price.merge(sim,on=[\"year\",\"quarter\",\"ticker\"],how=\"left\")\n",
    "        price = p.utc_date(price)\n",
    "        price = price.merge(macro,on=\"date\",how=\"left\")\n",
    "        price[\"factor\"] = price[\"prediction\"] / price[\"adjclose\"] - 1\n",
    "        price = SingleIndexCAPM.apply(price)\n",
    "        for member in RiskType:\n",
    "            price = member.apply(price)\n",
    "        prices.append(price)\n",
    "    except Exception as e:\n",
    "        print(str(e))\n",
    "        continue\n",
    "market.disconnect()"
   ]
  },
  {
   "cell_type": "code",
   "execution_count": 10,
   "id": "31941a64-38c4-4616-8dcf-e7a70d5987cf",
   "metadata": {},
   "outputs": [],
   "source": [
    "sim = pd.concat(prices)"
   ]
  },
  {
   "cell_type": "code",
   "execution_count": 11,
   "id": "1397bd57-8758-4eed-aed0-f9dae259b678",
   "metadata": {},
   "outputs": [
    {
     "data": {
      "text/plain": [
       "Index(['date', 'close', 'high', 'low', 'open', 'volume', 'adjclose', 'adjhigh',\n",
       "       'adjlow', 'adjopen', 'adjvolume', 'divcash', 'splitfactor', 'ticker',\n",
       "       'year', 'month', 'quarter', 'week', 'realtime_start', 'realtime_end',\n",
       "       'rf', 'factor', 'risk', 'sigma', 'coefficient_of_variation', 'drawdown',\n",
       "       'office', 'market_cap', 'sic_description'],\n",
       "      dtype='object')"
      ]
     },
     "execution_count": 11,
     "metadata": {},
     "output_type": "execute_result"
    }
   ],
   "source": [
    "## getting names\n",
    "simulation = pd.concat(prices).merge(index[[\"ticker\",\"office\",\"market_cap\",\"sic_description\"]],on=\"ticker\",how=\"left\")\n",
    "simulation[\"market_cap\"] = simulation[\"market_cap\"].astype(float)\n",
    "## subsetting backtesting data\n",
    "simulation = simulation[(simulation[\"year\"]>=model_end) & (simulation[\"year\"]<backtest_end)].dropna(subset=\"factor\")\n",
    "tickers = list(simulation[simulation[\"year\"]==model_end][\"ticker\"].unique())\n",
    "simulation = simulation[simulation[\"ticker\"].isin(tickers)]\n",
    "\n",
    "simulation.sort_values(\"date\", inplace=True)\n",
    "simulation.columns"
   ]
  },
  {
   "cell_type": "code",
   "execution_count": 12,
   "id": "6ed16a90-2e22-4801-ba0f-27be1b70db4e",
   "metadata": {},
   "outputs": [],
   "source": [
    "portfolios = PortfolioSelection.generate_possible_portfolios(group_percentages=[0.01])"
   ]
  },
  {
   "cell_type": "code",
   "execution_count": 13,
   "id": "953a0a5f-607d-41b7-91de-7b633013bc3e",
   "metadata": {},
   "outputs": [],
   "source": [
    "## Defining Benchmark\n",
    "market.connect()\n",
    "benchmark = market.query(\"prices\",{\"ticker\":\"JPM\"})\n",
    "market.disconnect()\n",
    "benchmark = Benchmark.convert_to_benchmark(benchmark,\"adjclose\")"
   ]
  },
  {
   "cell_type": "code",
   "execution_count": 14,
   "id": "77503bfe-13cf-4b3f-b975-a6d519b71862",
   "metadata": {
    "scrolled": true
   },
   "outputs": [
    {
     "name": "stderr",
     "output_type": "stream",
     "text": [
      "100%|███████████████████████████████████████████████████████████████████████████████████████████████████████████████████████████████████████████████████████| 288/288 [2:22:14<00:00, 29.64s/it]\n"
     ]
    }
   ],
   "source": [
    "run = True\n",
    "if run:\n",
    "    analysises = []\n",
    "    for portfolio in tqdm(portfolios):\n",
    "        try:\n",
    "            trades = portfolio.trades(simulation.copy())\n",
    "            performance = portfolio.portfolio(trades.copy(),benchmark.copy())\n",
    "            metrics = Metrics.performance(trades,performance)\n",
    "            results = {**portfolio.to_dict(),**metrics.copy()}\n",
    "            results[\"portfolio\"] = portfolio\n",
    "            analysises.append(results)\n",
    "        except Exception as e:\n",
    "            print(str(e))\n",
    "            continue"
   ]
  },
  {
   "cell_type": "code",
   "execution_count": 15,
   "id": "52720f5f-bd79-4d9c-ba27-08401d6e7cf1",
   "metadata": {
    "scrolled": true
   },
   "outputs": [],
   "source": [
    "a = pd.DataFrame(analysises)"
   ]
  },
  {
   "cell_type": "code",
   "execution_count": 16,
   "id": "ffdcee08-f13c-497c-a627-b89480f8f437",
   "metadata": {},
   "outputs": [],
   "source": [
    "a[\"color\"] = [\"blue\" if x == \"top\" else \"red\" if x == \"bottom\"  else \"green\" for x in a[\"selection_type\"]]\n",
    "a[\"return_to_risk\"] = a[\"pnl\"] / a[\"portfolio_std\"]"
   ]
  },
  {
   "cell_type": "code",
   "execution_count": 17,
   "id": "643181bd-7445-4a3c-a4d8-cb3ffb7b420a",
   "metadata": {},
   "outputs": [
    {
     "data": {
      "image/png": "[encoded data removed]",
      "text/plain": [
       "<Figure size 1200x600 with 2 Axes>"
      ]
     },
     "metadata": {},
     "output_type": "display_data"
    }
   ],
   "source": [
    "fig, axes = plt.subplots(1, 2, figsize=(12, 6), sharey=True)\n",
    "\n",
    "# Titles for each subplot\n",
    "titles = [\"Long\", \"Short\"]\n",
    "\n",
    "# Iterate over directions and corresponding axes\n",
    "for i, position_type in enumerate([\"long\", \"short\"]):\n",
    "    d_analysis = a[a[\"position_type\"] == position_type]\n",
    "    axes[i].scatter(\n",
    "        d_analysis[\"portfolio_std\"],\n",
    "        d_analysis[\"pnl\"],\n",
    "        c=d_analysis[\"color\"],\n",
    "        s=50,\n",
    "        alpha=0.8,\n",
    "        edgecolors=\"w\",\n",
    "    )\n",
    "    axes[i].set_title(titles[i])\n",
    "    axes[i].set_xlabel(\"return_to_risk\")\n",
    "    axes[i].set_ylabel(\"sharpe_ratio\" if i == 0 else \"\")  # Only label y-axis on the first plot\n",
    "\n",
    "# Adjust layout for better spacing\n",
    "plt.tight_layout()\n",
    "\n",
    "# Show the combined plot\n",
    "plt.show()"
   ]
  },
  {
   "cell_type": "code",
   "execution_count": 18,
   "id": "735ed1bc-01f2-4e36-acb7-cab72ad2757f",
   "metadata": {},
   "outputs": [
    {
     "data": {
      "text/html": [
       "<div>\n",
       "<style scoped>\n",
       "    .dataframe tbody tr th:only-of-type {\n",
       "        vertical-align: middle;\n",
       "    }\n",
       "\n",
       "    .dataframe tbody tr th {\n",
       "        vertical-align: top;\n",
       "    }\n",
       "\n",
       "    .dataframe thead th {\n",
       "        text-align: right;\n",
       "    }\n",
       "</style>\n",
       "<table border=\"1\" class=\"dataframe\">\n",
       "  <thead>\n",
       "    <tr style=\"text-align: right;\">\n",
       "      <th></th>\n",
       "      <th>pnl</th>\n",
       "      <th>timeframe</th>\n",
       "      <th>ranking_metric</th>\n",
       "      <th>position_type</th>\n",
       "      <th>grouping_type</th>\n",
       "      <th>selection_type</th>\n",
       "      <th>allocation_type</th>\n",
       "      <th>risk_type</th>\n",
       "      <th>selection_percentage</th>\n",
       "      <th>coefficient_of_variation</th>\n",
       "      <th>portfolio_std</th>\n",
       "      <th>average_gain</th>\n",
       "      <th>average_loss</th>\n",
       "      <th>win_loss_ratio</th>\n",
       "      <th>weekly_return</th>\n",
       "      <th>sharpe_ratio</th>\n",
       "      <th>portfolio</th>\n",
       "      <th>color</th>\n",
       "      <th>return_to_risk</th>\n",
       "    </tr>\n",
       "  </thead>\n",
       "  <tbody>\n",
       "    <tr>\n",
       "      <th>149</th>\n",
       "      <td>4.052196</td>\n",
       "      <td>week</td>\n",
       "      <td>factor</td>\n",
       "      <td>short</td>\n",
       "      <td>OFFICE</td>\n",
       "      <td>top</td>\n",
       "      <td>equal</td>\n",
       "      <td>coefficient_of_variation</td>\n",
       "      <td>0.01</td>\n",
       "      <td>5.075938</td>\n",
       "      <td>0.798315</td>\n",
       "      <td>1.069655</td>\n",
       "      <td>0.926105</td>\n",
       "      <td>0.578318</td>\n",
       "      <td>1.009122</td>\n",
       "      <td>3.014897</td>\n",
       "      <td>&lt;financial_common.portfolio_management.portfol...</td>\n",
       "      <td>blue</td>\n",
       "      <td>5.075938</td>\n",
       "    </tr>\n",
       "    <tr>\n",
       "      <th>148</th>\n",
       "      <td>3.202360</td>\n",
       "      <td>month</td>\n",
       "      <td>factor</td>\n",
       "      <td>short</td>\n",
       "      <td>OFFICE</td>\n",
       "      <td>top</td>\n",
       "      <td>equal</td>\n",
       "      <td>coefficient_of_variation</td>\n",
       "      <td>0.01</td>\n",
       "      <td>5.061285</td>\n",
       "      <td>0.632717</td>\n",
       "      <td>1.182686</td>\n",
       "      <td>0.821917</td>\n",
       "      <td>0.587537</td>\n",
       "      <td>1.033882</td>\n",
       "      <td>2.298245</td>\n",
       "      <td>&lt;financial_common.portfolio_management.portfol...</td>\n",
       "      <td>blue</td>\n",
       "      <td>5.061285</td>\n",
       "    </tr>\n",
       "    <tr>\n",
       "      <th>147</th>\n",
       "      <td>2.599433</td>\n",
       "      <td>quarter</td>\n",
       "      <td>factor</td>\n",
       "      <td>short</td>\n",
       "      <td>OFFICE</td>\n",
       "      <td>top</td>\n",
       "      <td>equal</td>\n",
       "      <td>coefficient_of_variation</td>\n",
       "      <td>0.01</td>\n",
       "      <td>5.959209</td>\n",
       "      <td>0.436204</td>\n",
       "      <td>1.330487</td>\n",
       "      <td>0.653394</td>\n",
       "      <td>0.631579</td>\n",
       "      <td>1.081032</td>\n",
       "      <td>1.590372</td>\n",
       "      <td>&lt;financial_common.portfolio_management.portfol...</td>\n",
       "      <td>blue</td>\n",
       "      <td>5.959209</td>\n",
       "    </tr>\n",
       "    <tr>\n",
       "      <th>146</th>\n",
       "      <td>2.415498</td>\n",
       "      <td>week</td>\n",
       "      <td>factor</td>\n",
       "      <td>short</td>\n",
       "      <td>OFFICE</td>\n",
       "      <td>bottom</td>\n",
       "      <td>equal</td>\n",
       "      <td>coefficient_of_variation</td>\n",
       "      <td>0.01</td>\n",
       "      <td>5.935560</td>\n",
       "      <td>0.406954</td>\n",
       "      <td>1.066986</td>\n",
       "      <td>0.925117</td>\n",
       "      <td>0.572154</td>\n",
       "      <td>1.006288</td>\n",
       "      <td>1.892448</td>\n",
       "      <td>&lt;financial_common.portfolio_management.portfol...</td>\n",
       "      <td>red</td>\n",
       "      <td>5.935560</td>\n",
       "    </tr>\n",
       "    <tr>\n",
       "      <th>145</th>\n",
       "      <td>1.995872</td>\n",
       "      <td>month</td>\n",
       "      <td>factor</td>\n",
       "      <td>short</td>\n",
       "      <td>OFFICE</td>\n",
       "      <td>bottom</td>\n",
       "      <td>equal</td>\n",
       "      <td>coefficient_of_variation</td>\n",
       "      <td>0.01</td>\n",
       "      <td>5.772353</td>\n",
       "      <td>0.345764</td>\n",
       "      <td>1.160234</td>\n",
       "      <td>0.816192</td>\n",
       "      <td>0.599407</td>\n",
       "      <td>1.022413</td>\n",
       "      <td>0.716240</td>\n",
       "      <td>&lt;financial_common.portfolio_management.portfol...</td>\n",
       "      <td>red</td>\n",
       "      <td>5.772353</td>\n",
       "    </tr>\n",
       "    <tr>\n",
       "      <th>144</th>\n",
       "      <td>1.906643</td>\n",
       "      <td>quarter</td>\n",
       "      <td>factor</td>\n",
       "      <td>short</td>\n",
       "      <td>OFFICE</td>\n",
       "      <td>bottom</td>\n",
       "      <td>equal</td>\n",
       "      <td>coefficient_of_variation</td>\n",
       "      <td>0.01</td>\n",
       "      <td>5.808067</td>\n",
       "      <td>0.328275</td>\n",
       "      <td>1.288186</td>\n",
       "      <td>0.683465</td>\n",
       "      <td>0.618421</td>\n",
       "      <td>1.057437</td>\n",
       "      <td>0.002855</td>\n",
       "      <td>&lt;financial_common.portfolio_management.portfol...</td>\n",
       "      <td>red</td>\n",
       "      <td>5.808067</td>\n",
       "    </tr>\n",
       "    <tr>\n",
       "      <th>143</th>\n",
       "      <td>1.238291</td>\n",
       "      <td>month</td>\n",
       "      <td>factor</td>\n",
       "      <td>short</td>\n",
       "      <td>SIC_DESCRIPTION</td>\n",
       "      <td>bottom</td>\n",
       "      <td>equal</td>\n",
       "      <td>coefficient_of_variation</td>\n",
       "      <td>0.01</td>\n",
       "      <td>16.678071</td>\n",
       "      <td>0.074247</td>\n",
       "      <td>1.102250</td>\n",
       "      <td>0.894817</td>\n",
       "      <td>0.540771</td>\n",
       "      <td>1.006991</td>\n",
       "      <td>-6.868071</td>\n",
       "      <td>&lt;financial_common.portfolio_management.portfol...</td>\n",
       "      <td>red</td>\n",
       "      <td>16.678071</td>\n",
       "    </tr>\n",
       "    <tr>\n",
       "      <th>142</th>\n",
       "      <td>1.230717</td>\n",
       "      <td>quarter</td>\n",
       "      <td>factor</td>\n",
       "      <td>long</td>\n",
       "      <td>SIC_DESCRIPTION</td>\n",
       "      <td>mixed</td>\n",
       "      <td>equal</td>\n",
       "      <td>coefficient_of_variation</td>\n",
       "      <td>0.01</td>\n",
       "      <td>18.146736</td>\n",
       "      <td>0.067820</td>\n",
       "      <td>1.177776</td>\n",
       "      <td>0.826876</td>\n",
       "      <td>0.544547</td>\n",
       "      <td>1.017958</td>\n",
       "      <td>-9.952613</td>\n",
       "      <td>&lt;financial_common.portfolio_management.portfol...</td>\n",
       "      <td>green</td>\n",
       "      <td>18.146736</td>\n",
       "    </tr>\n",
       "    <tr>\n",
       "      <th>141</th>\n",
       "      <td>1.217342</td>\n",
       "      <td>week</td>\n",
       "      <td>factor</td>\n",
       "      <td>short</td>\n",
       "      <td>SIC_DESCRIPTION</td>\n",
       "      <td>bottom</td>\n",
       "      <td>equal</td>\n",
       "      <td>coefficient_of_variation</td>\n",
       "      <td>0.01</td>\n",
       "      <td>20.165137</td>\n",
       "      <td>0.060369</td>\n",
       "      <td>1.042204</td>\n",
       "      <td>0.956927</td>\n",
       "      <td>0.518402</td>\n",
       "      <td>1.001135</td>\n",
       "      <td>-7.090064</td>\n",
       "      <td>&lt;financial_common.portfolio_management.portfol...</td>\n",
       "      <td>red</td>\n",
       "      <td>20.165137</td>\n",
       "    </tr>\n",
       "    <tr>\n",
       "      <th>140</th>\n",
       "      <td>1.194607</td>\n",
       "      <td>month</td>\n",
       "      <td>factor</td>\n",
       "      <td>long</td>\n",
       "      <td>SIC_DESCRIPTION</td>\n",
       "      <td>mixed</td>\n",
       "      <td>equal</td>\n",
       "      <td>coefficient_of_variation</td>\n",
       "      <td>0.01</td>\n",
       "      <td>18.958960</td>\n",
       "      <td>0.063010</td>\n",
       "      <td>1.097616</td>\n",
       "      <td>0.899486</td>\n",
       "      <td>0.536621</td>\n",
       "      <td>1.005807</td>\n",
       "      <td>-8.786131</td>\n",
       "      <td>&lt;financial_common.portfolio_management.portfol...</td>\n",
       "      <td>green</td>\n",
       "      <td>18.958960</td>\n",
       "    </tr>\n",
       "    <tr>\n",
       "      <th>139</th>\n",
       "      <td>1.188329</td>\n",
       "      <td>quarter</td>\n",
       "      <td>factor</td>\n",
       "      <td>short</td>\n",
       "      <td>SIC_DESCRIPTION</td>\n",
       "      <td>bottom</td>\n",
       "      <td>equal</td>\n",
       "      <td>coefficient_of_variation</td>\n",
       "      <td>0.01</td>\n",
       "      <td>14.662822</td>\n",
       "      <td>0.081044</td>\n",
       "      <td>1.178412</td>\n",
       "      <td>0.817307</td>\n",
       "      <td>0.548199</td>\n",
       "      <td>1.015265</td>\n",
       "      <td>-8.851730</td>\n",
       "      <td>&lt;financial_common.portfolio_management.portfol...</td>\n",
       "      <td>red</td>\n",
       "      <td>14.662822</td>\n",
       "    </tr>\n",
       "    <tr>\n",
       "      <th>138</th>\n",
       "      <td>1.181925</td>\n",
       "      <td>month</td>\n",
       "      <td>factor</td>\n",
       "      <td>short</td>\n",
       "      <td>OFFICE</td>\n",
       "      <td>mixed</td>\n",
       "      <td>equal</td>\n",
       "      <td>coefficient_of_variation</td>\n",
       "      <td>0.01</td>\n",
       "      <td>9.366480</td>\n",
       "      <td>0.126187</td>\n",
       "      <td>1.170030</td>\n",
       "      <td>0.832474</td>\n",
       "      <td>0.511869</td>\n",
       "      <td>1.005259</td>\n",
       "      <td>-4.487771</td>\n",
       "      <td>&lt;financial_common.portfolio_management.portfol...</td>\n",
       "      <td>green</td>\n",
       "      <td>9.366480</td>\n",
       "    </tr>\n",
       "    <tr>\n",
       "      <th>137</th>\n",
       "      <td>1.160217</td>\n",
       "      <td>week</td>\n",
       "      <td>factor</td>\n",
       "      <td>short</td>\n",
       "      <td>OFFICE</td>\n",
       "      <td>top</td>\n",
       "      <td>risk</td>\n",
       "      <td>coefficient_of_variation</td>\n",
       "      <td>0.01</td>\n",
       "      <td>30.984815</td>\n",
       "      <td>0.037445</td>\n",
       "      <td>1.004098</td>\n",
       "      <td>0.995786</td>\n",
       "      <td>0.581218</td>\n",
       "      <td>1.000617</td>\n",
       "      <td>-12.956260</td>\n",
       "      <td>&lt;financial_common.portfolio_management.portfol...</td>\n",
       "      <td>blue</td>\n",
       "      <td>30.984815</td>\n",
       "    </tr>\n",
       "    <tr>\n",
       "      <th>136</th>\n",
       "      <td>1.152529</td>\n",
       "      <td>quarter</td>\n",
       "      <td>factor</td>\n",
       "      <td>short</td>\n",
       "      <td>OFFICE</td>\n",
       "      <td>mixed</td>\n",
       "      <td>equal</td>\n",
       "      <td>coefficient_of_variation</td>\n",
       "      <td>0.01</td>\n",
       "      <td>6.293895</td>\n",
       "      <td>0.183119</td>\n",
       "      <td>1.306888</td>\n",
       "      <td>0.712928</td>\n",
       "      <td>0.513158</td>\n",
       "      <td>1.017723</td>\n",
       "      <td>-4.113053</td>\n",
       "      <td>&lt;financial_common.portfolio_management.portfol...</td>\n",
       "      <td>green</td>\n",
       "      <td>6.293895</td>\n",
       "    </tr>\n",
       "    <tr>\n",
       "      <th>135</th>\n",
       "      <td>1.143234</td>\n",
       "      <td>week</td>\n",
       "      <td>factor</td>\n",
       "      <td>short</td>\n",
       "      <td>OFFICE</td>\n",
       "      <td>top</td>\n",
       "      <td>risk</td>\n",
       "      <td>drawdown</td>\n",
       "      <td>0.01</td>\n",
       "      <td>38.095569</td>\n",
       "      <td>0.030010</td>\n",
       "      <td>1.004039</td>\n",
       "      <td>0.995677</td>\n",
       "      <td>0.578318</td>\n",
       "      <td>1.000513</td>\n",
       "      <td>-16.732155</td>\n",
       "      <td>&lt;financial_common.portfolio_management.portfol...</td>\n",
       "      <td>blue</td>\n",
       "      <td>38.095569</td>\n",
       "    </tr>\n",
       "    <tr>\n",
       "      <th>134</th>\n",
       "      <td>1.115335</td>\n",
       "      <td>week</td>\n",
       "      <td>factor</td>\n",
       "      <td>long</td>\n",
       "      <td>SIC_DESCRIPTION</td>\n",
       "      <td>mixed</td>\n",
       "      <td>equal</td>\n",
       "      <td>coefficient_of_variation</td>\n",
       "      <td>0.01</td>\n",
       "      <td>27.386329</td>\n",
       "      <td>0.040726</td>\n",
       "      <td>1.040105</td>\n",
       "      <td>0.959303</td>\n",
       "      <td>0.514374</td>\n",
       "      <td>1.000865</td>\n",
       "      <td>-13.014405</td>\n",
       "      <td>&lt;financial_common.portfolio_management.portfol...</td>\n",
       "      <td>green</td>\n",
       "      <td>27.386329</td>\n",
       "    </tr>\n",
       "    <tr>\n",
       "      <th>133</th>\n",
       "      <td>1.115262</td>\n",
       "      <td>month</td>\n",
       "      <td>factor</td>\n",
       "      <td>short</td>\n",
       "      <td>OFFICE</td>\n",
       "      <td>top</td>\n",
       "      <td>risk</td>\n",
       "      <td>coefficient_of_variation</td>\n",
       "      <td>0.01</td>\n",
       "      <td>30.801294</td>\n",
       "      <td>0.036208</td>\n",
       "      <td>1.011539</td>\n",
       "      <td>0.990325</td>\n",
       "      <td>0.590504</td>\n",
       "      <td>1.002852</td>\n",
       "      <td>-17.481075</td>\n",
       "      <td>&lt;financial_common.portfolio_management.portfol...</td>\n",
       "      <td>blue</td>\n",
       "      <td>30.801294</td>\n",
       "    </tr>\n",
       "    <tr>\n",
       "      <th>132</th>\n",
       "      <td>1.088939</td>\n",
       "      <td>week</td>\n",
       "      <td>factor</td>\n",
       "      <td>short</td>\n",
       "      <td>OFFICE</td>\n",
       "      <td>top</td>\n",
       "      <td>rank</td>\n",
       "      <td>coefficient_of_variation</td>\n",
       "      <td>0.01</td>\n",
       "      <td>59.215573</td>\n",
       "      <td>0.018389</td>\n",
       "      <td>1.003611</td>\n",
       "      <td>0.995562</td>\n",
       "      <td>0.578318</td>\n",
       "      <td>1.000217</td>\n",
       "      <td>-30.257706</td>\n",
       "      <td>&lt;financial_common.portfolio_management.portfol...</td>\n",
       "      <td>blue</td>\n",
       "      <td>59.215573</td>\n",
       "    </tr>\n",
       "    <tr>\n",
       "      <th>131</th>\n",
       "      <td>1.088571</td>\n",
       "      <td>week</td>\n",
       "      <td>factor</td>\n",
       "      <td>short</td>\n",
       "      <td>OFFICE</td>\n",
       "      <td>mixed</td>\n",
       "      <td>market_cap</td>\n",
       "      <td>coefficient_of_variation</td>\n",
       "      <td>0.01</td>\n",
       "      <td>43.881693</td>\n",
       "      <td>0.024807</td>\n",
       "      <td>1.003095</td>\n",
       "      <td>0.997969</td>\n",
       "      <td>0.486222</td>\n",
       "      <td>1.000461</td>\n",
       "      <td>-22.444845</td>\n",
       "      <td>&lt;financial_common.portfolio_management.portfol...</td>\n",
       "      <td>green</td>\n",
       "      <td>43.881693</td>\n",
       "    </tr>\n",
       "    <tr>\n",
       "      <th>130</th>\n",
       "      <td>1.073055</td>\n",
       "      <td>quarter</td>\n",
       "      <td>factor</td>\n",
       "      <td>short</td>\n",
       "      <td>OFFICE</td>\n",
       "      <td>top</td>\n",
       "      <td>risk</td>\n",
       "      <td>drawdown</td>\n",
       "      <td>0.01</td>\n",
       "      <td>58.427210</td>\n",
       "      <td>0.018366</td>\n",
       "      <td>1.019599</td>\n",
       "      <td>0.980763</td>\n",
       "      <td>0.631579</td>\n",
       "      <td>1.005291</td>\n",
       "      <td>-45.337347</td>\n",
       "      <td>&lt;financial_common.portfolio_management.portfol...</td>\n",
       "      <td>blue</td>\n",
       "      <td>58.427210</td>\n",
       "    </tr>\n",
       "  </tbody>\n",
       "</table>\n",
       "</div>"
      ],
      "text/plain": [
       "          pnl timeframe ranking_metric position_type    grouping_type  \\\n",
       "149  4.052196      week         factor         short           OFFICE   \n",
       "148  3.202360     month         factor         short           OFFICE   \n",
       "147  2.599433   quarter         factor         short           OFFICE   \n",
       "146  2.415498      week         factor         short           OFFICE   \n",
       "145  1.995872     month         factor         short           OFFICE   \n",
       "144  1.906643   quarter         factor         short           OFFICE   \n",
       "143  1.238291     month         factor         short  SIC_DESCRIPTION   \n",
       "142  1.230717   quarter         factor          long  SIC_DESCRIPTION   \n",
       "141  1.217342      week         factor         short  SIC_DESCRIPTION   \n",
       "140  1.194607     month         factor          long  SIC_DESCRIPTION   \n",
       "139  1.188329   quarter         factor         short  SIC_DESCRIPTION   \n",
       "138  1.181925     month         factor         short           OFFICE   \n",
       "137  1.160217      week         factor         short           OFFICE   \n",
       "136  1.152529   quarter         factor         short           OFFICE   \n",
       "135  1.143234      week         factor         short           OFFICE   \n",
       "134  1.115335      week         factor          long  SIC_DESCRIPTION   \n",
       "133  1.115262     month         factor         short           OFFICE   \n",
       "132  1.088939      week         factor         short           OFFICE   \n",
       "131  1.088571      week         factor         short           OFFICE   \n",
       "130  1.073055   quarter         factor         short           OFFICE   \n",
       "\n",
       "    selection_type allocation_type                 risk_type  \\\n",
       "149            top           equal  coefficient_of_variation   \n",
       "148            top           equal  coefficient_of_variation   \n",
       "147            top           equal  coefficient_of_variation   \n",
       "146         bottom           equal  coefficient_of_variation   \n",
       "145         bottom           equal  coefficient_of_variation   \n",
       "144         bottom           equal  coefficient_of_variation   \n",
       "143         bottom           equal  coefficient_of_variation   \n",
       "142          mixed           equal  coefficient_of_variation   \n",
       "141         bottom           equal  coefficient_of_variation   \n",
       "140          mixed           equal  coefficient_of_variation   \n",
       "139         bottom           equal  coefficient_of_variation   \n",
       "138          mixed           equal  coefficient_of_variation   \n",
       "137            top            risk  coefficient_of_variation   \n",
       "136          mixed           equal  coefficient_of_variation   \n",
       "135            top            risk                  drawdown   \n",
       "134          mixed           equal  coefficient_of_variation   \n",
       "133            top            risk  coefficient_of_variation   \n",
       "132            top            rank  coefficient_of_variation   \n",
       "131          mixed      market_cap  coefficient_of_variation   \n",
       "130            top            risk                  drawdown   \n",
       "\n",
       "     selection_percentage  coefficient_of_variation  portfolio_std  \\\n",
       "149                  0.01                  5.075938       0.798315   \n",
       "148                  0.01                  5.061285       0.632717   \n",
       "147                  0.01                  5.959209       0.436204   \n",
       "146                  0.01                  5.935560       0.406954   \n",
       "145                  0.01                  5.772353       0.345764   \n",
       "144                  0.01                  5.808067       0.328275   \n",
       "143                  0.01                 16.678071       0.074247   \n",
       "142                  0.01                 18.146736       0.067820   \n",
       "141                  0.01                 20.165137       0.060369   \n",
       "140                  0.01                 18.958960       0.063010   \n",
       "139                  0.01                 14.662822       0.081044   \n",
       "138                  0.01                  9.366480       0.126187   \n",
       "137                  0.01                 30.984815       0.037445   \n",
       "136                  0.01                  6.293895       0.183119   \n",
       "135                  0.01                 38.095569       0.030010   \n",
       "134                  0.01                 27.386329       0.040726   \n",
       "133                  0.01                 30.801294       0.036208   \n",
       "132                  0.01                 59.215573       0.018389   \n",
       "131                  0.01                 43.881693       0.024807   \n",
       "130                  0.01                 58.427210       0.018366   \n",
       "\n",
       "     average_gain  average_loss  win_loss_ratio  weekly_return  sharpe_ratio  \\\n",
       "149      1.069655      0.926105        0.578318       1.009122      3.014897   \n",
       "148      1.182686      0.821917        0.587537       1.033882      2.298245   \n",
       "147      1.330487      0.653394        0.631579       1.081032      1.590372   \n",
       "146      1.066986      0.925117        0.572154       1.006288      1.892448   \n",
       "145      1.160234      0.816192        0.599407       1.022413      0.716240   \n",
       "144      1.288186      0.683465        0.618421       1.057437      0.002855   \n",
       "143      1.102250      0.894817        0.540771       1.006991     -6.868071   \n",
       "142      1.177776      0.826876        0.544547       1.017958     -9.952613   \n",
       "141      1.042204      0.956927        0.518402       1.001135     -7.090064   \n",
       "140      1.097616      0.899486        0.536621       1.005807     -8.786131   \n",
       "139      1.178412      0.817307        0.548199       1.015265     -8.851730   \n",
       "138      1.170030      0.832474        0.511869       1.005259     -4.487771   \n",
       "137      1.004098      0.995786        0.581218       1.000617    -12.956260   \n",
       "136      1.306888      0.712928        0.513158       1.017723     -4.113053   \n",
       "135      1.004039      0.995677        0.578318       1.000513    -16.732155   \n",
       "134      1.040105      0.959303        0.514374       1.000865    -13.014405   \n",
       "133      1.011539      0.990325        0.590504       1.002852    -17.481075   \n",
       "132      1.003611      0.995562        0.578318       1.000217    -30.257706   \n",
       "131      1.003095      0.997969        0.486222       1.000461    -22.444845   \n",
       "130      1.019599      0.980763        0.631579       1.005291    -45.337347   \n",
       "\n",
       "                                             portfolio  color  return_to_risk  \n",
       "149  <financial_common.portfolio_management.portfol...   blue        5.075938  \n",
       "148  <financial_common.portfolio_management.portfol...   blue        5.061285  \n",
       "147  <financial_common.portfolio_management.portfol...   blue        5.959209  \n",
       "146  <financial_common.portfolio_management.portfol...    red        5.935560  \n",
       "145  <financial_common.portfolio_management.portfol...    red        5.772353  \n",
       "144  <financial_common.portfolio_management.portfol...    red        5.808067  \n",
       "143  <financial_common.portfolio_management.portfol...    red       16.678071  \n",
       "142  <financial_common.portfolio_management.portfol...  green       18.146736  \n",
       "141  <financial_common.portfolio_management.portfol...    red       20.165137  \n",
       "140  <financial_common.portfolio_management.portfol...  green       18.958960  \n",
       "139  <financial_common.portfolio_management.portfol...    red       14.662822  \n",
       "138  <financial_common.portfolio_management.portfol...  green        9.366480  \n",
       "137  <financial_common.portfolio_management.portfol...   blue       30.984815  \n",
       "136  <financial_common.portfolio_management.portfol...  green        6.293895  \n",
       "135  <financial_common.portfolio_management.portfol...   blue       38.095569  \n",
       "134  <financial_common.portfolio_management.portfol...  green       27.386329  \n",
       "133  <financial_common.portfolio_management.portfol...   blue       30.801294  \n",
       "132  <financial_common.portfolio_management.portfol...   blue       59.215573  \n",
       "131  <financial_common.portfolio_management.portfol...  green       43.881693  \n",
       "130  <financial_common.portfolio_management.portfol...   blue       58.427210  "
      ]
     },
     "execution_count": 18,
     "metadata": {},
     "output_type": "execute_result"
    }
   ],
   "source": [
    "a.groupby(\"pnl\").first().reset_index().drop(\"date\",axis=1).sort_values(\"pnl\",ascending=False).head(20)"
   ]
  },
  {
   "cell_type": "code",
   "execution_count": 24,
   "id": "fb63bbf6-0639-445b-aef4-44998e4f17fb",
   "metadata": {},
   "outputs": [
    {
     "data": {
      "text/plain": [
       "{'timeframe': 'week',\n",
       " 'ranking_metric': 'factor',\n",
       " 'position_type': 'short',\n",
       " 'grouping_type': 'OFFICE',\n",
       " 'selection_type': 'top',\n",
       " 'allocation_type': 'equal',\n",
       " 'risk_type': 'coefficient_of_variation',\n",
       " 'selection_percentage': 0.01,\n",
       " 'date': Timestamp('2025-03-20 00:00:00+0000', tz='UTC'),\n",
       " 'pnl': 4.052196443708743,\n",
       " 'coefficient_of_variation': 5.075938080443135,\n",
       " 'portfolio_std': 0.798314790190463,\n",
       " 'average_gain': 1.0696546784441592,\n",
       " 'average_loss': 0.9261047404222081,\n",
       " 'win_loss_ratio': 0.5783176214648296,\n",
       " 'weekly_return': 1.0091221991404866,\n",
       " 'sharpe_ratio': 3.0148969617147516,\n",
       " 'portfolio': <financial_common.portfolio_management.portfolio.Portfolio at 0x2358104f3d0>,\n",
       " 'color': 'blue',\n",
       " 'return_to_risk': 5.075938080443135}"
      ]
     },
     "execution_count": 24,
     "metadata": {},
     "output_type": "execute_result"
    }
   ],
   "source": [
    "top = a.sort_values(\"pnl\",ascending=False).head(1).to_dict(\"records\")[0]\n",
    "top"
   ]
  },
  {
   "cell_type": "code",
   "execution_count": 25,
   "id": "1bef746e-1a59-467c-8252-15d65257bddd",
   "metadata": {},
   "outputs": [],
   "source": [
    "pm = top[\"portfolio\"]\n",
    "trades = pm.trades(simulation.copy()).merge(index[[\"ticker\",\"office\",\"sic_description\"]],on=\"ticker\",how=\"left\")\n",
    "trades = p.additional_date_columns(trades)\n",
    "portfolio = pm.portfolio(trades.copy(),benchmark.copy())\n",
    "portfolio = p.additional_date_columns(portfolio)"
   ]
  },
  {
   "cell_type": "code",
   "execution_count": 26,
   "id": "fa25dd38-54ef-46d7-870c-3600752c58f0",
   "metadata": {},
   "outputs": [
    {
     "data": {
      "image/png": "[encoded data removed]",
      "text/plain": [
       "<Figure size 1200x600 with 1 Axes>"
      ]
     },
     "metadata": {},
     "output_type": "display_data"
    }
   ],
   "source": [
    "portfolio['Year-Quarter'] = portfolio[\"year\"].astype(str) + \"q\" + portfolio[\"quarter\"].astype(str)\n",
    "ax = portfolio[[\"Year-Quarter\",\"pnl\",\"benchmark_pnl\"]].set_index(\"Year-Quarter\").plot(\n",
    "    kind=\"line\",\n",
    "    figsize=(12, 6),\n",
    "    title=\"Mean Returns by Exposure per Year and Quarter\"\n",
    ")\n",
    "\n",
    "# Set y-axis to have more precise ticks\n",
    "ax.tick_params(axis='y', direction='in', length=6)  # Adjust y-tick direction and length\n",
    "ax.yaxis.set_major_formatter(plt.FuncFormatter(lambda x, _: f'{x:.4f}'))  # Format y-ticks with 4 decimal places\n",
    "\n",
    "# Move y-ticks to the right side\n",
    "ax.yaxis.set_tick_params(which='both', direction='inout', length=6, labelleft=False, labelright=True)\n",
    "\n",
    "# Optionally adjust the number of ticks for better precision\n",
    "ax.yaxis.set_major_locator(plt.MaxNLocator(integer=False, prune='both'))\n",
    "\n",
    "# Add grid lines\n",
    "ax.grid(True, which='both', axis='both', linestyle='--', linewidth=0.7)\n",
    "\n",
    "# Display the plot\n",
    "plt.tight_layout()\n",
    "plt.show()"
   ]
  },
  {
   "cell_type": "code",
   "execution_count": 27,
   "id": "29ff3a2d-fa01-47bb-8c97-ce149d488acf",
   "metadata": {},
   "outputs": [
    {
     "data": {
      "text/html": [
       "<div>\n",
       "<style scoped>\n",
       "    .dataframe tbody tr th:only-of-type {\n",
       "        vertical-align: middle;\n",
       "    }\n",
       "\n",
       "    .dataframe tbody tr th {\n",
       "        vertical-align: top;\n",
       "    }\n",
       "\n",
       "    .dataframe thead th {\n",
       "        text-align: right;\n",
       "    }\n",
       "</style>\n",
       "<table border=\"1\" class=\"dataframe\">\n",
       "  <thead>\n",
       "    <tr style=\"text-align: right;\">\n",
       "      <th></th>\n",
       "      <th>date</th>\n",
       "      <th>return</th>\n",
       "      <th>pnl</th>\n",
       "      <th>benchmark</th>\n",
       "      <th>benchmark_pnl</th>\n",
       "      <th>year</th>\n",
       "      <th>month</th>\n",
       "      <th>quarter</th>\n",
       "      <th>week</th>\n",
       "      <th>Year-Quarter</th>\n",
       "    </tr>\n",
       "  </thead>\n",
       "  <tbody>\n",
       "    <tr>\n",
       "      <th>159</th>\n",
       "      <td>2025-02-21 00:00:00+00:00</td>\n",
       "      <td>1.052896</td>\n",
       "      <td>3.990817</td>\n",
       "      <td>264.24</td>\n",
       "      <td>1.819044</td>\n",
       "      <td>2025</td>\n",
       "      <td>2</td>\n",
       "      <td>1</td>\n",
       "      <td>8</td>\n",
       "      <td>2025q1</td>\n",
       "    </tr>\n",
       "    <tr>\n",
       "      <th>160</th>\n",
       "      <td>2025-02-28 00:00:00+00:00</td>\n",
       "      <td>1.041221</td>\n",
       "      <td>4.155324</td>\n",
       "      <td>264.65</td>\n",
       "      <td>1.821867</td>\n",
       "      <td>2025</td>\n",
       "      <td>2</td>\n",
       "      <td>1</td>\n",
       "      <td>9</td>\n",
       "      <td>2025q1</td>\n",
       "    </tr>\n",
       "    <tr>\n",
       "      <th>161</th>\n",
       "      <td>2025-03-07 00:00:00+00:00</td>\n",
       "      <td>0.994718</td>\n",
       "      <td>4.133377</td>\n",
       "      <td>242.28</td>\n",
       "      <td>1.667870</td>\n",
       "      <td>2025</td>\n",
       "      <td>3</td>\n",
       "      <td>1</td>\n",
       "      <td>10</td>\n",
       "      <td>2025q1</td>\n",
       "    </tr>\n",
       "    <tr>\n",
       "      <th>162</th>\n",
       "      <td>2025-03-14 00:00:00+00:00</td>\n",
       "      <td>0.985367</td>\n",
       "      <td>4.072892</td>\n",
       "      <td>232.44</td>\n",
       "      <td>1.600131</td>\n",
       "      <td>2025</td>\n",
       "      <td>3</td>\n",
       "      <td>1</td>\n",
       "      <td>11</td>\n",
       "      <td>2025q1</td>\n",
       "    </tr>\n",
       "    <tr>\n",
       "      <th>163</th>\n",
       "      <td>2025-03-20 00:00:00+00:00</td>\n",
       "      <td>0.994919</td>\n",
       "      <td>4.052196</td>\n",
       "      <td>239.01</td>\n",
       "      <td>1.645360</td>\n",
       "      <td>2025</td>\n",
       "      <td>3</td>\n",
       "      <td>1</td>\n",
       "      <td>12</td>\n",
       "      <td>2025q1</td>\n",
       "    </tr>\n",
       "  </tbody>\n",
       "</table>\n",
       "</div>"
      ],
      "text/plain": [
       "                         date    return       pnl  benchmark  benchmark_pnl  \\\n",
       "159 2025-02-21 00:00:00+00:00  1.052896  3.990817     264.24       1.819044   \n",
       "160 2025-02-28 00:00:00+00:00  1.041221  4.155324     264.65       1.821867   \n",
       "161 2025-03-07 00:00:00+00:00  0.994718  4.133377     242.28       1.667870   \n",
       "162 2025-03-14 00:00:00+00:00  0.985367  4.072892     232.44       1.600131   \n",
       "163 2025-03-20 00:00:00+00:00  0.994919  4.052196     239.01       1.645360   \n",
       "\n",
       "     year  month  quarter  week Year-Quarter  \n",
       "159  2025      2        1     8       2025q1  \n",
       "160  2025      2        1     9       2025q1  \n",
       "161  2025      3        1    10       2025q1  \n",
       "162  2025      3        1    11       2025q1  \n",
       "163  2025      3        1    12       2025q1  "
      ]
     },
     "execution_count": 27,
     "metadata": {},
     "output_type": "execute_result"
    }
   ],
   "source": [
    "portfolio.tail()"
   ]
  },
  {
   "cell_type": "code",
   "execution_count": 28,
   "id": "36cf02b0-947e-445b-9f63-ff00e556ff0b",
   "metadata": {},
   "outputs": [
    {
     "ename": "KeyError",
     "evalue": "\"['office'] not in index\"",
     "output_type": "error",
     "traceback": [
      "\u001b[31m---------------------------------------------------------------------------\u001b[39m",
      "\u001b[31mKeyError\u001b[39m                                  Traceback (most recent call last)",
      "\u001b[36mCell\u001b[39m\u001b[36m \u001b[39m\u001b[32mIn[28]\u001b[39m\u001b[32m, line 1\u001b[39m\n\u001b[32m----> \u001b[39m\u001b[32m1\u001b[39m \u001b[43mtrades\u001b[49m\u001b[43m[\u001b[49m\u001b[43m[\u001b[49m\u001b[33;43m\"\u001b[39;49m\u001b[33;43moffice\u001b[39;49m\u001b[33;43m\"\u001b[39;49m\u001b[43m,\u001b[49m\u001b[33;43m\"\u001b[39;49m\u001b[33;43mreturn\u001b[39;49m\u001b[33;43m\"\u001b[39;49m\u001b[43m]\u001b[49m\u001b[43m]\u001b[49m.groupby(\u001b[33m\"\u001b[39m\u001b[33moffice\u001b[39m\u001b[33m\"\u001b[39m).mean().sort_values(\u001b[33m\"\u001b[39m\u001b[33mreturn\u001b[39m\u001b[33m\"\u001b[39m,ascending=\u001b[38;5;28;01mFalse\u001b[39;00m).tail(\u001b[32m20\u001b[39m)\n",
      "\u001b[36mFile \u001b[39m\u001b[32mE:\\projects\\orivault\\venv\\Lib\\site-packages\\pandas\\core\\frame.py:4108\u001b[39m, in \u001b[36mDataFrame.__getitem__\u001b[39m\u001b[34m(self, key)\u001b[39m\n\u001b[32m   4106\u001b[39m     \u001b[38;5;28;01mif\u001b[39;00m is_iterator(key):\n\u001b[32m   4107\u001b[39m         key = \u001b[38;5;28mlist\u001b[39m(key)\n\u001b[32m-> \u001b[39m\u001b[32m4108\u001b[39m     indexer = \u001b[38;5;28;43mself\u001b[39;49m\u001b[43m.\u001b[49m\u001b[43mcolumns\u001b[49m\u001b[43m.\u001b[49m\u001b[43m_get_indexer_strict\u001b[49m\u001b[43m(\u001b[49m\u001b[43mkey\u001b[49m\u001b[43m,\u001b[49m\u001b[43m \u001b[49m\u001b[33;43m\"\u001b[39;49m\u001b[33;43mcolumns\u001b[39;49m\u001b[33;43m\"\u001b[39;49m\u001b[43m)\u001b[49m[\u001b[32m1\u001b[39m]\n\u001b[32m   4110\u001b[39m \u001b[38;5;66;03m# take() does not accept boolean indexers\u001b[39;00m\n\u001b[32m   4111\u001b[39m \u001b[38;5;28;01mif\u001b[39;00m \u001b[38;5;28mgetattr\u001b[39m(indexer, \u001b[33m\"\u001b[39m\u001b[33mdtype\u001b[39m\u001b[33m\"\u001b[39m, \u001b[38;5;28;01mNone\u001b[39;00m) == \u001b[38;5;28mbool\u001b[39m:\n",
      "\u001b[36mFile \u001b[39m\u001b[32mE:\\projects\\orivault\\venv\\Lib\\site-packages\\pandas\\core\\indexes\\base.py:6200\u001b[39m, in \u001b[36mIndex._get_indexer_strict\u001b[39m\u001b[34m(self, key, axis_name)\u001b[39m\n\u001b[32m   6197\u001b[39m \u001b[38;5;28;01melse\u001b[39;00m:\n\u001b[32m   6198\u001b[39m     keyarr, indexer, new_indexer = \u001b[38;5;28mself\u001b[39m._reindex_non_unique(keyarr)\n\u001b[32m-> \u001b[39m\u001b[32m6200\u001b[39m \u001b[38;5;28;43mself\u001b[39;49m\u001b[43m.\u001b[49m\u001b[43m_raise_if_missing\u001b[49m\u001b[43m(\u001b[49m\u001b[43mkeyarr\u001b[49m\u001b[43m,\u001b[49m\u001b[43m \u001b[49m\u001b[43mindexer\u001b[49m\u001b[43m,\u001b[49m\u001b[43m \u001b[49m\u001b[43maxis_name\u001b[49m\u001b[43m)\u001b[49m\n\u001b[32m   6202\u001b[39m keyarr = \u001b[38;5;28mself\u001b[39m.take(indexer)\n\u001b[32m   6203\u001b[39m \u001b[38;5;28;01mif\u001b[39;00m \u001b[38;5;28misinstance\u001b[39m(key, Index):\n\u001b[32m   6204\u001b[39m     \u001b[38;5;66;03m# GH 42790 - Preserve name from an Index\u001b[39;00m\n",
      "\u001b[36mFile \u001b[39m\u001b[32mE:\\projects\\orivault\\venv\\Lib\\site-packages\\pandas\\core\\indexes\\base.py:6252\u001b[39m, in \u001b[36mIndex._raise_if_missing\u001b[39m\u001b[34m(self, key, indexer, axis_name)\u001b[39m\n\u001b[32m   6249\u001b[39m     \u001b[38;5;28;01mraise\u001b[39;00m \u001b[38;5;167;01mKeyError\u001b[39;00m(\u001b[33mf\u001b[39m\u001b[33m\"\u001b[39m\u001b[33mNone of [\u001b[39m\u001b[38;5;132;01m{\u001b[39;00mkey\u001b[38;5;132;01m}\u001b[39;00m\u001b[33m] are in the [\u001b[39m\u001b[38;5;132;01m{\u001b[39;00maxis_name\u001b[38;5;132;01m}\u001b[39;00m\u001b[33m]\u001b[39m\u001b[33m\"\u001b[39m)\n\u001b[32m   6251\u001b[39m not_found = \u001b[38;5;28mlist\u001b[39m(ensure_index(key)[missing_mask.nonzero()[\u001b[32m0\u001b[39m]].unique())\n\u001b[32m-> \u001b[39m\u001b[32m6252\u001b[39m \u001b[38;5;28;01mraise\u001b[39;00m \u001b[38;5;167;01mKeyError\u001b[39;00m(\u001b[33mf\u001b[39m\u001b[33m\"\u001b[39m\u001b[38;5;132;01m{\u001b[39;00mnot_found\u001b[38;5;132;01m}\u001b[39;00m\u001b[33m not in index\u001b[39m\u001b[33m\"\u001b[39m)\n",
      "\u001b[31mKeyError\u001b[39m: \"['office'] not in index\""
     ]
    }
   ],
   "source": [
    "trades[[\"office\",\"return\"]].groupby(\"office\").mean().sort_values(\"return\",ascending=False).tail(20)"
   ]
  }
 ],
 "metadata": {
  "kernelspec": {
   "display_name": "Python 3 (ipykernel)",
   "language": "python",
   "name": "python3"
  },
  "language_info": {
   "codemirror_mode": {
    "name": "ipython",
    "version": 3
   },
   "file_extension": ".py",
   "mimetype": "text/x-python",
   "name": "python",
   "nbconvert_exporter": "python",
   "pygments_lexer": "ipython3",
   "version": "3.11.9"
  }
 },
 "nbformat": 4,
 "nbformat_minor": 5
}
