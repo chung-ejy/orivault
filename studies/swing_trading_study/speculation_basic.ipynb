{
 "cells": [
  {
   "cell_type": "code",
   "execution_count": 1,
   "id": "246c49f1-95ae-48c8-a1c2-a5c621cc768f",
   "metadata": {},
   "outputs": [],
   "source": [
    "## PATH settings\n",
    "import os\n",
    "import sys\n",
    "project_root = os.path.abspath(os.path.join(os.getcwd(), '../../'))\n",
    "sys.path.append(project_root)\n",
    "COMMON_PATH = os.path.join(project_root, 'common')"
   ]
  },
  {
   "cell_type": "code",
   "execution_count": 2,
   "id": "b3f7ffcc-42d9-4090-99b3-6479955e1a5f",
   "metadata": {},
   "outputs": [],
   "source": [
    "## Bespoke class imports\n",
    "from common.database.adatabase import ADatabase\n",
    "from common.processor.processor import Processor as p\n",
    "from financial_common.risk.rolling_factor_analysis import RollingFactorAnalysis\n",
    "from financial_common.risk.single_index_capm import SingleIndexCAPM\n",
    "from financial_common.indicator.indicator import Indicator\n",
    "from financial_common.risk.benchmark import Benchmark\n",
    "from financial_common.portfolio_management.kpi import KPI\n",
    "from financial_common.metric.metric import Metric\n",
    "from financial_common.portfolio_management.portfolio_selection import PortfolioSelection\n",
    "from financial_common.risk.risk_type import RiskType\n",
    "import numpy as np\n",
    "import matplotlib.pyplot as plt\n",
    "from mpl_toolkits.mplot3d import Axes3D"
   ]
  },
  {
   "cell_type": "code",
   "execution_count": 3,
   "id": "5e602193-3097-4687-bd19-00f3b8bff5d4",
   "metadata": {},
   "outputs": [],
   "source": [
    "## Import standard packages\n",
    "from datetime import timedelta\n",
    "import matplotlib.pyplot as plt\n",
    "from tqdm import tqdm\n",
    "import pandas as pd\n",
    "from time import sleep\n",
    "import copy"
   ]
  },
  {
   "cell_type": "code",
   "execution_count": 4,
   "id": "01317ec8-a56f-4e96-907f-3b07b4d80013",
   "metadata": {},
   "outputs": [],
   "source": [
    "market = ADatabase(\"market\")\n",
    "fred = ADatabase(\"fred\")\n",
    "orivault = ADatabase(\"ori\")"
   ]
  },
  {
   "cell_type": "code",
   "execution_count": 23,
   "id": "1e37c28f-be14-4d2d-b2fa-d36cbd588168",
   "metadata": {},
   "outputs": [],
   "source": [
    "## Retrieve existing stocks \n",
    "market.connect()\n",
    "index = market.retrieve(\"index\")\n",
    "market.disconnect()\n",
    "# index = pd.read_html(\"https://en.wikipedia.org/wiki/List_of_S%26P_500_companies\",attrs={\"id\":\"constituents\"})[0].rename(columns={\"Symbol\":\"ticker\"})\n",
    "# index"
   ]
  },
  {
   "cell_type": "code",
   "execution_count": 24,
   "id": "06a6d3b3-44e8-4c3c-b39d-074c98f8ab76",
   "metadata": {},
   "outputs": [],
   "source": [
    "## Defining Benchmark\n",
    "market.connect()\n",
    "benchmark = market.query(\"prices\",{\"ticker\":\"JPM\"})\n",
    "market.disconnect()\n",
    "benchmark = Benchmark.convert_to_benchmark(benchmark,\"adjclose\")"
   ]
  },
  {
   "cell_type": "code",
   "execution_count": 25,
   "id": "09587a4a-c54f-458c-ac5f-bca6b33405ff",
   "metadata": {},
   "outputs": [
    {
     "name": "stderr",
     "output_type": "stream",
     "text": [
      " 19%|███████████████████████████████████▊                                                                                                                                                      | 2170/11261 [00:53<03:42, 40.86it/s]"
     ]
    },
    {
     "name": "stdout",
     "output_type": "stream",
     "text": [
      "index 0 is out of bounds for axis 0 with size 0\n"
     ]
    },
    {
     "name": "stderr",
     "output_type": "stream",
     "text": [
      " 30%|████████████████████████████████████████████████████████                                                                                                                                  | 3394/11261 [01:25<03:29, 37.50it/s]"
     ]
    },
    {
     "name": "stdout",
     "output_type": "stream",
     "text": [
      "index 0 is out of bounds for axis 0 with size 0\n"
     ]
    },
    {
     "name": "stderr",
     "output_type": "stream",
     "text": [
      " 45%|███████████████████████████████████████████████████████████████████████████████████▏                                                                                                      | 5038/11261 [02:09<02:55, 35.37it/s]"
     ]
    },
    {
     "name": "stdout",
     "output_type": "stream",
     "text": [
      "index 0 is out of bounds for axis 0 with size 0\n"
     ]
    },
    {
     "name": "stderr",
     "output_type": "stream",
     "text": [
      " 46%|██████████████████████████████████████████████████████████████████████████████████████                                                                                                    | 5212/11261 [02:14<02:24, 41.72it/s]"
     ]
    },
    {
     "name": "stdout",
     "output_type": "stream",
     "text": [
      "index 0 is out of bounds for axis 0 with size 0\n"
     ]
    },
    {
     "name": "stderr",
     "output_type": "stream",
     "text": [
      " 48%|█████████████████████████████████████████████████████████████████████████████████████████▍                                                                                                | 5418/11261 [02:19<02:12, 44.01it/s]"
     ]
    },
    {
     "name": "stdout",
     "output_type": "stream",
     "text": [
      "index 0 is out of bounds for axis 0 with size 0\n"
     ]
    },
    {
     "name": "stderr",
     "output_type": "stream",
     "text": [
      " 48%|█████████████████████████████████████████████████████████████████████████████████████████▊                                                                                                | 5437/11261 [02:19<02:27, 39.56it/s]"
     ]
    },
    {
     "name": "stdout",
     "output_type": "stream",
     "text": [
      "index 0 is out of bounds for axis 0 with size 0\n"
     ]
    },
    {
     "name": "stderr",
     "output_type": "stream",
     "text": [
      " 51%|██████████████████████████████████████████████████████████████████████████████████████████████▍                                                                                           | 5720/11261 [02:27<02:18, 40.07it/s]"
     ]
    },
    {
     "name": "stdout",
     "output_type": "stream",
     "text": [
      "index 0 is out of bounds for axis 0 with size 0\n"
     ]
    },
    {
     "name": "stderr",
     "output_type": "stream",
     "text": [
      " 78%|█████████████████████████████████████████████████████████████████████████████████████████████████████████████████████████████████████████████████                                         | 8781/11261 [03:43<01:00, 40.74it/s]"
     ]
    },
    {
     "name": "stdout",
     "output_type": "stream",
     "text": [
      "index 0 is out of bounds for axis 0 with size 0\n"
     ]
    },
    {
     "name": "stderr",
     "output_type": "stream",
     "text": [
      " 87%|█████████████████████████████████████████████████████████████████████████████████████████████████████████████████████████████████████████████████████████████████▉                        | 9807/11261 [04:10<00:35, 41.02it/s]"
     ]
    },
    {
     "name": "stdout",
     "output_type": "stream",
     "text": [
      "index 0 is out of bounds for axis 0 with size 0\n"
     ]
    },
    {
     "name": "stderr",
     "output_type": "stream",
     "text": [
      " 91%|███████████████████████████████████████████████████████████████████████████████████████████████████████████████████████████████████████████████████████████████████████▊                 | 10217/11261 [04:22<00:21, 48.98it/s]"
     ]
    },
    {
     "name": "stdout",
     "output_type": "stream",
     "text": [
      "index 0 is out of bounds for axis 0 with size 0\n"
     ]
    },
    {
     "name": "stderr",
     "output_type": "stream",
     "text": [
      "100%|█████████████████████████████████████████████████████████████████████████████████████████████████████████████████████████████████████████████████████████████████████████████████████████| 11261/11261 [04:47<00:00, 39.20it/s]\n"
     ]
    }
   ],
   "source": [
    "rolling_window = 10\n",
    "market.connect()\n",
    "prices = []\n",
    "skips = 1\n",
    "for ticker in tqdm(index[\"ticker\"][::skips]): \n",
    "    try:\n",
    "        price = market.query(\"prices\", {\"ticker\": ticker})\n",
    "        if price.index.size > 150:\n",
    "            price = p.lower_column(price)\n",
    "            price = p.utc_date(price)\n",
    "            price.sort_values(\"date\", inplace=True)\n",
    "            price = p.additional_date_columns(price)\n",
    "            dividends = market.query(\"dividends\",{\"ticker\":ticker})\n",
    "            if dividends.index.size > 0:\n",
    "                dividends = p.utc_date(dividends)\n",
    "                price = price.merge(dividends,on=[\"date\",\"ticker\"])\n",
    "                price[\"dividend\"] = price[\"rate\"].ffill().fillna(0)\n",
    "            else:\n",
    "                price[\"dividend\"] = 0\n",
    "            price = Metric.DISTANCE.calculate(price,timeframe=rolling_window)\n",
    "            price = Metric.COOKED_RETURN.calculate(price,timeframe=rolling_window)\n",
    "            price = Metric.NEXT_CLOSE.calculate(price,timeframe=rolling_window)\n",
    "            price = Indicator.EMACorr.calculate(price,timeframe=rolling_window)\n",
    "            price = RiskType.COEFFICIENT_OF_VARIATION.apply(price)\n",
    "            prices.append(price.dropna())\n",
    "    except Exception as e:\n",
    "        print(str(e))\n",
    "        continue\n",
    "market.disconnect()"
   ]
  },
  {
   "cell_type": "code",
   "execution_count": 26,
   "id": "2212583d-6a1c-4721-a689-1bcaad1d5b2d",
   "metadata": {},
   "outputs": [],
   "source": [
    "model_end = 2024\n",
    "backtest_end = 2025\n",
    "simulation = pd.concat(prices)\n",
    "simulation = simulation[(simulation[\"year\"]>=model_end) & (simulation[\"year\"]<backtest_end)]\n",
    "simulation.sort_values(\"date\", inplace=True)"
   ]
  },
  {
   "cell_type": "code",
   "execution_count": 29,
   "id": "eb7133b8-a899-4282-b201-f5e8869ad634",
   "metadata": {},
   "outputs": [
    {
     "data": {
      "text/plain": [
       "8"
      ]
     },
     "execution_count": 29,
     "metadata": {},
     "output_type": "execute_result"
    }
   ],
   "source": [
    "portfolios = PortfolioSelection.generate_possible_portfolios(\n",
    "                                                            ranking_metrics=[\n",
    "                                                                \"ema_corr\"\n",
    "                                                            ]\n",
    "                                                            ,num_of_groups=[3]\n",
    "                                                            ,group_percentages=[1]\n",
    "                                                            ,max_prices=[5]\n",
    "                                                            ,min_prices=[1]\n",
    "                                                            ,stoplosses=[0.05]\n",
    "                                                            ,rolling_windows=[rolling_window]\n",
    "                                                            ,leverages=[4]\n",
    "                                                            )\n",
    "filtered_portfolios = []\n",
    "for portfolio in portfolios:\n",
    "        if portfolio.timeframe.value == \"day\"  and \"blacklist\" in portfolio.selection_type.label  and portfolio.allocation_type.label == \"risk\" \\\n",
    "            and (\"distance\" in portfolio.grouping_type.value or \"cooked\" in portfolio.grouping_type.value)   and portfolio.max_price > portfolio.min_price:\n",
    "            filtered_portfolios.append(portfolio)\n",
    "len(filtered_portfolios)"
   ]
  },
  {
   "cell_type": "code",
   "execution_count": 30,
   "id": "42cd7230-3773-4cfc-bfce-31664263cfa1",
   "metadata": {
    "scrolled": true
   },
   "outputs": [
    {
     "name": "stderr",
     "output_type": "stream",
     "text": [
      "100%|█████████████████████████████████████████████████████████████████████████████████████████████████████████████████████████████████████████████████████████████████████████████████████████████████| 8/8 [00:16<00:00,  2.06s/it]\n"
     ]
    }
   ],
   "source": [
    "analysises = []\n",
    "portfolio_value = 10\n",
    "for portfolio in tqdm(filtered_portfolios):\n",
    "    try:\n",
    "        trades = portfolio.trades(simulation.copy())\n",
    "        performance = portfolio.portfolio(trades.copy(),benchmark.copy())\n",
    "        metrics = KPI.performance(trades,performance)\n",
    "        results = {**portfolio.to_dict(),**metrics.copy()}\n",
    "        results[\"portfolio\"] = portfolio\n",
    "        analysises.append(results)\n",
    "    except Exception as e:\n",
    "        print(str(e))\n",
    "        continue"
   ]
  },
  {
   "cell_type": "code",
   "execution_count": 31,
   "id": "17210ee4-6797-4bc2-842b-541b4c21027c",
   "metadata": {},
   "outputs": [],
   "source": [
    "a = pd.DataFrame(analysises)"
   ]
  },
  {
   "cell_type": "code",
   "execution_count": 32,
   "id": "cb3307ce-09a2-4d09-9be1-7965c1fcd8d6",
   "metadata": {},
   "outputs": [
    {
     "data": {
      "text/html": [
       "<div>\n",
       "<style scoped>\n",
       "    .dataframe tbody tr th:only-of-type {\n",
       "        vertical-align: middle;\n",
       "    }\n",
       "\n",
       "    .dataframe tbody tr th {\n",
       "        vertical-align: top;\n",
       "    }\n",
       "\n",
       "    .dataframe thead th {\n",
       "        text-align: right;\n",
       "    }\n",
       "</style>\n",
       "<table border=\"1\" class=\"dataframe\">\n",
       "  <thead>\n",
       "    <tr style=\"text-align: right;\">\n",
       "      <th></th>\n",
       "      <th>ranking_metric</th>\n",
       "      <th>position_type</th>\n",
       "      <th>grouping_type</th>\n",
       "      <th>selection_type</th>\n",
       "      <th>allocation_type</th>\n",
       "      <th>num_of_groups</th>\n",
       "      <th>max_price</th>\n",
       "      <th>min_price</th>\n",
       "      <th>leverage</th>\n",
       "      <th>pnl</th>\n",
       "      <th>raw_pnl</th>\n",
       "      <th>downside</th>\n",
       "      <th>coefficient_of_variation</th>\n",
       "      <th>portfolio_std</th>\n",
       "      <th>sharpe_ratio</th>\n",
       "      <th>tracking_error</th>\n",
       "      <th>information_ratio</th>\n",
       "    </tr>\n",
       "  </thead>\n",
       "  <tbody>\n",
       "    <tr>\n",
       "      <th>0</th>\n",
       "      <td>ema_corr</td>\n",
       "      <td>long</td>\n",
       "      <td>DISTANCE</td>\n",
       "      <td>top_blacklist</td>\n",
       "      <td>risk</td>\n",
       "      <td>3</td>\n",
       "      <td>5</td>\n",
       "      <td>1</td>\n",
       "      <td>4</td>\n",
       "      <td>5.706571e+12</td>\n",
       "      <td>1.859837e+13</td>\n",
       "      <td>0.8</td>\n",
       "      <td>9.644829</td>\n",
       "      <td>5.916716e+11</td>\n",
       "      <td>9.644829</td>\n",
       "      <td>5.916716e+11</td>\n",
       "      <td>9.644829</td>\n",
       "    </tr>\n",
       "    <tr>\n",
       "      <th>1</th>\n",
       "      <td>ema_corr</td>\n",
       "      <td>short</td>\n",
       "      <td>DISTANCE</td>\n",
       "      <td>top_blacklist</td>\n",
       "      <td>risk</td>\n",
       "      <td>3</td>\n",
       "      <td>5</td>\n",
       "      <td>1</td>\n",
       "      <td>4</td>\n",
       "      <td>2.025153e+10</td>\n",
       "      <td>3.739603e+10</td>\n",
       "      <td>0.8</td>\n",
       "      <td>7.127565</td>\n",
       "      <td>2.841297e+09</td>\n",
       "      <td>7.127565</td>\n",
       "      <td>2.841297e+09</td>\n",
       "      <td>7.127565</td>\n",
       "    </tr>\n",
       "    <tr>\n",
       "      <th>5</th>\n",
       "      <td>ema_corr</td>\n",
       "      <td>short</td>\n",
       "      <td>COOKED_RETURN</td>\n",
       "      <td>top_blacklist</td>\n",
       "      <td>risk</td>\n",
       "      <td>3</td>\n",
       "      <td>5</td>\n",
       "      <td>1</td>\n",
       "      <td>4</td>\n",
       "      <td>8.773128e+09</td>\n",
       "      <td>1.543324e+10</td>\n",
       "      <td>0.8</td>\n",
       "      <td>6.313425</td>\n",
       "      <td>1.389599e+09</td>\n",
       "      <td>6.313425</td>\n",
       "      <td>1.389599e+09</td>\n",
       "      <td>6.313425</td>\n",
       "    </tr>\n",
       "    <tr>\n",
       "      <th>3</th>\n",
       "      <td>ema_corr</td>\n",
       "      <td>short</td>\n",
       "      <td>DISTANCE</td>\n",
       "      <td>bottom_blacklist</td>\n",
       "      <td>risk</td>\n",
       "      <td>3</td>\n",
       "      <td>5</td>\n",
       "      <td>1</td>\n",
       "      <td>4</td>\n",
       "      <td>8.513281e+07</td>\n",
       "      <td>1.633930e+08</td>\n",
       "      <td>0.8</td>\n",
       "      <td>4.215205</td>\n",
       "      <td>2.019660e+07</td>\n",
       "      <td>4.215205</td>\n",
       "      <td>2.019660e+07</td>\n",
       "      <td>4.215205</td>\n",
       "    </tr>\n",
       "    <tr>\n",
       "      <th>2</th>\n",
       "      <td>ema_corr</td>\n",
       "      <td>long</td>\n",
       "      <td>DISTANCE</td>\n",
       "      <td>bottom_blacklist</td>\n",
       "      <td>risk</td>\n",
       "      <td>3</td>\n",
       "      <td>5</td>\n",
       "      <td>1</td>\n",
       "      <td>4</td>\n",
       "      <td>1.109155e+07</td>\n",
       "      <td>9.686079e+07</td>\n",
       "      <td>0.8</td>\n",
       "      <td>9.248053</td>\n",
       "      <td>1.199339e+06</td>\n",
       "      <td>9.248052</td>\n",
       "      <td>1.199339e+06</td>\n",
       "      <td>9.248053</td>\n",
       "    </tr>\n",
       "    <tr>\n",
       "      <th>4</th>\n",
       "      <td>ema_corr</td>\n",
       "      <td>long</td>\n",
       "      <td>COOKED_RETURN</td>\n",
       "      <td>top_blacklist</td>\n",
       "      <td>risk</td>\n",
       "      <td>3</td>\n",
       "      <td>5</td>\n",
       "      <td>1</td>\n",
       "      <td>4</td>\n",
       "      <td>2.462032e+06</td>\n",
       "      <td>9.838744e+06</td>\n",
       "      <td>0.8</td>\n",
       "      <td>8.075091</td>\n",
       "      <td>3.048922e+05</td>\n",
       "      <td>8.075087</td>\n",
       "      <td>3.048921e+05</td>\n",
       "      <td>8.075088</td>\n",
       "    </tr>\n",
       "    <tr>\n",
       "      <th>6</th>\n",
       "      <td>ema_corr</td>\n",
       "      <td>long</td>\n",
       "      <td>COOKED_RETURN</td>\n",
       "      <td>bottom_blacklist</td>\n",
       "      <td>risk</td>\n",
       "      <td>3</td>\n",
       "      <td>5</td>\n",
       "      <td>1</td>\n",
       "      <td>4</td>\n",
       "      <td>2.240315e+03</td>\n",
       "      <td>5.246070e+03</td>\n",
       "      <td>0.8</td>\n",
       "      <td>4.543898</td>\n",
       "      <td>4.930382e+02</td>\n",
       "      <td>4.541005</td>\n",
       "      <td>4.929358e+02</td>\n",
       "      <td>4.541949</td>\n",
       "    </tr>\n",
       "    <tr>\n",
       "      <th>7</th>\n",
       "      <td>ema_corr</td>\n",
       "      <td>short</td>\n",
       "      <td>COOKED_RETURN</td>\n",
       "      <td>bottom_blacklist</td>\n",
       "      <td>risk</td>\n",
       "      <td>3</td>\n",
       "      <td>5</td>\n",
       "      <td>1</td>\n",
       "      <td>4</td>\n",
       "      <td>2.117270e+03</td>\n",
       "      <td>2.595432e+03</td>\n",
       "      <td>0.8</td>\n",
       "      <td>4.041340</td>\n",
       "      <td>5.239029e+02</td>\n",
       "      <td>4.038618</td>\n",
       "      <td>5.238173e+02</td>\n",
       "      <td>4.039278</td>\n",
       "    </tr>\n",
       "  </tbody>\n",
       "</table>\n",
       "</div>"
      ],
      "text/plain": [
       "  ranking_metric position_type  grouping_type    selection_type  \\\n",
       "0       ema_corr          long       DISTANCE     top_blacklist   \n",
       "1       ema_corr         short       DISTANCE     top_blacklist   \n",
       "5       ema_corr         short  COOKED_RETURN     top_blacklist   \n",
       "3       ema_corr         short       DISTANCE  bottom_blacklist   \n",
       "2       ema_corr          long       DISTANCE  bottom_blacklist   \n",
       "4       ema_corr          long  COOKED_RETURN     top_blacklist   \n",
       "6       ema_corr          long  COOKED_RETURN  bottom_blacklist   \n",
       "7       ema_corr         short  COOKED_RETURN  bottom_blacklist   \n",
       "\n",
       "  allocation_type  num_of_groups  max_price  min_price  leverage  \\\n",
       "0            risk              3          5          1         4   \n",
       "1            risk              3          5          1         4   \n",
       "5            risk              3          5          1         4   \n",
       "3            risk              3          5          1         4   \n",
       "2            risk              3          5          1         4   \n",
       "4            risk              3          5          1         4   \n",
       "6            risk              3          5          1         4   \n",
       "7            risk              3          5          1         4   \n",
       "\n",
       "            pnl       raw_pnl  downside  coefficient_of_variation  \\\n",
       "0  5.706571e+12  1.859837e+13       0.8                  9.644829   \n",
       "1  2.025153e+10  3.739603e+10       0.8                  7.127565   \n",
       "5  8.773128e+09  1.543324e+10       0.8                  6.313425   \n",
       "3  8.513281e+07  1.633930e+08       0.8                  4.215205   \n",
       "2  1.109155e+07  9.686079e+07       0.8                  9.248053   \n",
       "4  2.462032e+06  9.838744e+06       0.8                  8.075091   \n",
       "6  2.240315e+03  5.246070e+03       0.8                  4.543898   \n",
       "7  2.117270e+03  2.595432e+03       0.8                  4.041340   \n",
       "\n",
       "   portfolio_std  sharpe_ratio  tracking_error  information_ratio  \n",
       "0   5.916716e+11      9.644829    5.916716e+11           9.644829  \n",
       "1   2.841297e+09      7.127565    2.841297e+09           7.127565  \n",
       "5   1.389599e+09      6.313425    1.389599e+09           6.313425  \n",
       "3   2.019660e+07      4.215205    2.019660e+07           4.215205  \n",
       "2   1.199339e+06      9.248052    1.199339e+06           9.248053  \n",
       "4   3.048922e+05      8.075087    3.048921e+05           8.075088  \n",
       "6   4.930382e+02      4.541005    4.929358e+02           4.541949  \n",
       "7   5.239029e+02      4.038618    5.238173e+02           4.039278  "
      ]
     },
     "execution_count": 32,
     "metadata": {},
     "output_type": "execute_result"
    }
   ],
   "source": [
    "metric = \"raw_pnl\"\n",
    "dropped_columns = [\"date\",\"risk_type\",\"timeframe\",\"selection_percentage\",\"stoploss\",\"rolling_window\",\"portfolio\"]\n",
    "filtered_a = a.drop(dropped_columns,axis=1).sort_values(metric,ascending=False)\n",
    "top = a.sort_values(metric,ascending=False).head(20).to_dict(\"records\")[0]\n",
    "filtered_a.head(20)"
   ]
  },
  {
   "cell_type": "code",
   "execution_count": null,
   "id": "eee3b894-703e-46bd-9f14-3216ab7f4267",
   "metadata": {},
   "outputs": [],
   "source": [
    "# orivault.cloud_connect()\n",
    "# orivault.drop(\"results\")\n",
    "# orivault.store(\"results\",pd.DataFrame([top]).drop(\"portfolio\",axis=1))\n",
    "# orivault.disconnect()"
   ]
  },
  {
   "cell_type": "code",
   "execution_count": 33,
   "id": "c49245a2-f372-487a-9ec0-824f0319adc6",
   "metadata": {},
   "outputs": [],
   "source": [
    "a[\"color\"] = [\"blue\" if x == \"top\" else \"red\" if x == \"bottom\"  else \"green\" for x in a[\"selection_type\"]]\n",
    "a[\"return_to_risk\"] = a[\"pnl\"] / a[\"portfolio_std\"]"
   ]
  },
  {
   "cell_type": "code",
   "execution_count": 34,
   "id": "d0b82c5c-903b-45b2-8fd6-93ed5e7baafd",
   "metadata": {},
   "outputs": [
    {
     "data": {
      "image/png": "[encoded data removed]",
      "text/plain": [
       "<Figure size 1200x600 with 2 Axes>"
      ]
     },
     "metadata": {},
     "output_type": "display_data"
    }
   ],
   "source": [
    "fig, axes = plt.subplots(1, 2, figsize=(12, 6), sharey=True)\n",
    "\n",
    "# Titles for each subplot\n",
    "titles = [\"Long\", \"Short\"]\n",
    "\n",
    "# Iterate over directions and corresponding axes\n",
    "for i, position_type in enumerate([\"long\", \"short\"]):\n",
    "    d_analysis = a[a[\"position_type\"] == position_type]\n",
    "    axes[i].scatter(\n",
    "        d_analysis[\"portfolio_std\"],\n",
    "        d_analysis[\"pnl\"],\n",
    "        c=d_analysis[\"color\"],\n",
    "        alpha=0.8,\n",
    "        edgecolors=\"w\",\n",
    "    )\n",
    "    axes[i].set_title(titles[i])\n",
    "    axes[i].set_xlabel(\"return_to_risk\")\n",
    "    axes[i].set_ylabel(\"sharpe_ratio\" if i == 0 else \"\")  # Only label y-axis on the first plot\n",
    "\n",
    "# Adjust layout for better spacing\n",
    "plt.tight_layout()\n",
    "\n",
    "# Show the combined plot\n",
    "plt.show()"
   ]
  },
  {
   "cell_type": "code",
   "execution_count": 35,
   "id": "b234db94-0cf4-400f-a020-67a4d052f7c0",
   "metadata": {},
   "outputs": [],
   "source": [
    "pm = top[\"portfolio\"]\n",
    "trades = pm.trades(simulation.copy())\n",
    "trades = p.additional_date_columns(trades)\n",
    "portfolio = pm.portfolio(trades.copy(),benchmark.copy())\n",
    "portfolio = p.additional_date_columns(portfolio)"
   ]
  },
  {
   "cell_type": "code",
   "execution_count": 36,
   "id": "cb463876-33a8-4186-b257-2bff9bc367b0",
   "metadata": {},
   "outputs": [
    {
     "data": {
      "image/png": "[encoded data removed]",
      "text/plain": [
       "<Figure size 640x480 with 1 Axes>"
      ]
     },
     "metadata": {},
     "output_type": "display_data"
    }
   ],
   "source": [
    "portfolio[\"weekday\"] = portfolio[\"date\"].dt.weekday\n",
    "averaged_portfolio = portfolio.groupby(\"week\").agg({\"weighted_return\":\"mean\",\"return\":\"mean\"}).reset_index()\n",
    "averaged_portfolio[\"pv\"] = averaged_portfolio[\"weighted_return\"].cumprod()\n",
    "plt.plot(averaged_portfolio[\"pv\"])\n",
    "plt.show()"
   ]
  },
  {
   "cell_type": "code",
   "execution_count": 37,
   "id": "0e6822cf-c157-4ded-9464-7913982a0fb6",
   "metadata": {},
   "outputs": [
    {
     "data": {
      "image/png": "[encoded data removed]",
      "text/plain": [
       "<Figure size 1200x600 with 1 Axes>"
      ]
     },
     "metadata": {},
     "output_type": "display_data"
    }
   ],
   "source": [
    "portfolio['Year-Month'] = portfolio[\"year\"].astype(str) + \"m\" + portfolio[pm.timeframe.value].astype(str)\n",
    "ax = portfolio[[\"Year-Month\",\"raw_pnl\",\"benchmark_pnl\"]].set_index(\"Year-Month\").plot(\n",
    "    kind=\"line\",\n",
    "    figsize=(12, 6),\n",
    "    title=\"Mean Returns by Exposure per Year and Quarter\"\n",
    ")\n",
    "\n",
    "# Set y-axis to have more precise ticks\n",
    "ax.tick_params(axis='y', direction='in', length=6)  # Adjust y-tick direction and length\n",
    "ax.yaxis.set_major_formatter(plt.FuncFormatter(lambda x, _: f'{x:.4f}'))  # Format y-ticks with 4 decimal places\n",
    "\n",
    "# Move y-ticks to the right side\n",
    "ax.yaxis.set_tick_params(which='both', direction='inout', length=6, labelleft=False, labelright=True)\n",
    "\n",
    "# Optionally adjust the number of ticks for better precision\n",
    "ax.yaxis.set_major_locator(plt.MaxNLocator(integer=False, prune='both'))\n",
    "\n",
    "# Add grid lines\n",
    "ax.grid(True, which='both', axis='both', linestyle='--', linewidth=0.7)\n",
    "\n",
    "# Display the plot\n",
    "plt.tight_layout()\n",
    "plt.show()"
   ]
  },
  {
   "cell_type": "code",
   "execution_count": 38,
   "id": "e0b25cda-add7-4959-b688-17694e72e7d6",
   "metadata": {},
   "outputs": [
    {
     "data": {
      "text/html": [
       "<div>\n",
       "<style scoped>\n",
       "    .dataframe tbody tr th:only-of-type {\n",
       "        vertical-align: middle;\n",
       "    }\n",
       "\n",
       "    .dataframe tbody tr th {\n",
       "        vertical-align: top;\n",
       "    }\n",
       "\n",
       "    .dataframe thead th {\n",
       "        text-align: right;\n",
       "    }\n",
       "</style>\n",
       "<table border=\"1\" class=\"dataframe\">\n",
       "  <thead>\n",
       "    <tr style=\"text-align: right;\">\n",
       "      <th></th>\n",
       "      <th>return</th>\n",
       "    </tr>\n",
       "    <tr>\n",
       "      <th>ticker</th>\n",
       "      <th></th>\n",
       "    </tr>\n",
       "  </thead>\n",
       "  <tbody>\n",
       "    <tr>\n",
       "      <th>BNZI</th>\n",
       "      <td>1.474702</td>\n",
       "    </tr>\n",
       "    <tr>\n",
       "      <th>PULM</th>\n",
       "      <td>0.945662</td>\n",
       "    </tr>\n",
       "    <tr>\n",
       "      <th>CTM</th>\n",
       "      <td>0.915646</td>\n",
       "    </tr>\n",
       "    <tr>\n",
       "      <th>MNPR</th>\n",
       "      <td>0.905854</td>\n",
       "    </tr>\n",
       "    <tr>\n",
       "      <th>XTLB</th>\n",
       "      <td>0.900441</td>\n",
       "    </tr>\n",
       "    <tr>\n",
       "      <th>...</th>\n",
       "      <td>...</td>\n",
       "    </tr>\n",
       "    <tr>\n",
       "      <th>LMFA</th>\n",
       "      <td>-0.127406</td>\n",
       "    </tr>\n",
       "    <tr>\n",
       "      <th>LOBO</th>\n",
       "      <td>-0.129235</td>\n",
       "    </tr>\n",
       "    <tr>\n",
       "      <th>XYLO</th>\n",
       "      <td>-0.133386</td>\n",
       "    </tr>\n",
       "    <tr>\n",
       "      <th>BKHAR</th>\n",
       "      <td>-0.140752</td>\n",
       "    </tr>\n",
       "    <tr>\n",
       "      <th>HYMC</th>\n",
       "      <td>-0.149141</td>\n",
       "    </tr>\n",
       "  </tbody>\n",
       "</table>\n",
       "<p>429 rows × 1 columns</p>\n",
       "</div>"
      ],
      "text/plain": [
       "          return\n",
       "ticker          \n",
       "BNZI    1.474702\n",
       "PULM    0.945662\n",
       "CTM     0.915646\n",
       "MNPR    0.905854\n",
       "XTLB    0.900441\n",
       "...          ...\n",
       "LMFA   -0.127406\n",
       "LOBO   -0.129235\n",
       "XYLO   -0.133386\n",
       "BKHAR  -0.140752\n",
       "HYMC   -0.149141\n",
       "\n",
       "[429 rows x 1 columns]"
      ]
     },
     "execution_count": 38,
     "metadata": {},
     "output_type": "execute_result"
    }
   ],
   "source": [
    "trades[[\"ticker\",\"return\"]].groupby(\"ticker\").mean().sort_values(\"return\",ascending=False)"
   ]
  },
  {
   "cell_type": "code",
   "execution_count": 39,
   "id": "5723e18a-3802-43a0-b551-30bc0c255a9d",
   "metadata": {},
   "outputs": [
    {
     "data": {
      "text/html": [
       "<div>\n",
       "<style scoped>\n",
       "    .dataframe tbody tr th:only-of-type {\n",
       "        vertical-align: middle;\n",
       "    }\n",
       "\n",
       "    .dataframe tbody tr th {\n",
       "        vertical-align: top;\n",
       "    }\n",
       "\n",
       "    .dataframe thead th {\n",
       "        text-align: right;\n",
       "    }\n",
       "</style>\n",
       "<table border=\"1\" class=\"dataframe\">\n",
       "  <thead>\n",
       "    <tr style=\"text-align: right;\">\n",
       "      <th></th>\n",
       "      <th>index</th>\n",
       "      <th>year</th>\n",
       "      <th>day</th>\n",
       "      <th>date</th>\n",
       "      <th>weighted_return</th>\n",
       "      <th>return</th>\n",
       "      <th>pnl</th>\n",
       "      <th>raw_pnl</th>\n",
       "      <th>benchmark</th>\n",
       "      <th>benchmark_pnl</th>\n",
       "      <th>month</th>\n",
       "      <th>quarter</th>\n",
       "      <th>week</th>\n",
       "      <th>weekday</th>\n",
       "      <th>Year-Month</th>\n",
       "    </tr>\n",
       "  </thead>\n",
       "  <tbody>\n",
       "    <tr>\n",
       "      <th>0</th>\n",
       "      <td>0</td>\n",
       "      <td>2024</td>\n",
       "      <td>2</td>\n",
       "      <td>2024-01-02 00:00:00+00:00</td>\n",
       "      <td>1.396767</td>\n",
       "      <td>1.396767</td>\n",
       "      <td>1.396767e+00</td>\n",
       "      <td>1.396767e+00</td>\n",
       "      <td>166.11</td>\n",
       "      <td>1.000000</td>\n",
       "      <td>1</td>\n",
       "      <td>1</td>\n",
       "      <td>1</td>\n",
       "      <td>1</td>\n",
       "      <td>2024m2</td>\n",
       "    </tr>\n",
       "    <tr>\n",
       "      <th>1</th>\n",
       "      <td>1</td>\n",
       "      <td>2024</td>\n",
       "      <td>3</td>\n",
       "      <td>2024-01-03 00:00:00+00:00</td>\n",
       "      <td>1.005260</td>\n",
       "      <td>1.005260</td>\n",
       "      <td>1.404114e+00</td>\n",
       "      <td>1.404114e+00</td>\n",
       "      <td>165.39</td>\n",
       "      <td>0.995666</td>\n",
       "      <td>1</td>\n",
       "      <td>1</td>\n",
       "      <td>1</td>\n",
       "      <td>2</td>\n",
       "      <td>2024m3</td>\n",
       "    </tr>\n",
       "    <tr>\n",
       "      <th>2</th>\n",
       "      <td>2</td>\n",
       "      <td>2024</td>\n",
       "      <td>4</td>\n",
       "      <td>2024-01-04 00:00:00+00:00</td>\n",
       "      <td>0.976586</td>\n",
       "      <td>0.976586</td>\n",
       "      <td>1.371237e+00</td>\n",
       "      <td>1.371237e+00</td>\n",
       "      <td>166.48</td>\n",
       "      <td>1.002227</td>\n",
       "      <td>1</td>\n",
       "      <td>1</td>\n",
       "      <td>1</td>\n",
       "      <td>3</td>\n",
       "      <td>2024m4</td>\n",
       "    </tr>\n",
       "    <tr>\n",
       "      <th>3</th>\n",
       "      <td>3</td>\n",
       "      <td>2024</td>\n",
       "      <td>5</td>\n",
       "      <td>2024-01-05 00:00:00+00:00</td>\n",
       "      <td>1.435970</td>\n",
       "      <td>1.435970</td>\n",
       "      <td>1.969055e+00</td>\n",
       "      <td>1.969055e+00</td>\n",
       "      <td>167.32</td>\n",
       "      <td>1.007284</td>\n",
       "      <td>1</td>\n",
       "      <td>1</td>\n",
       "      <td>1</td>\n",
       "      <td>4</td>\n",
       "      <td>2024m5</td>\n",
       "    </tr>\n",
       "    <tr>\n",
       "      <th>4</th>\n",
       "      <td>4</td>\n",
       "      <td>2024</td>\n",
       "      <td>8</td>\n",
       "      <td>2024-01-08 00:00:00+00:00</td>\n",
       "      <td>1.093187</td>\n",
       "      <td>1.093187</td>\n",
       "      <td>2.152546e+00</td>\n",
       "      <td>2.152546e+00</td>\n",
       "      <td>167.07</td>\n",
       "      <td>1.005779</td>\n",
       "      <td>1</td>\n",
       "      <td>1</td>\n",
       "      <td>2</td>\n",
       "      <td>0</td>\n",
       "      <td>2024m8</td>\n",
       "    </tr>\n",
       "    <tr>\n",
       "      <th>...</th>\n",
       "      <td>...</td>\n",
       "      <td>...</td>\n",
       "      <td>...</td>\n",
       "      <td>...</td>\n",
       "      <td>...</td>\n",
       "      <td>...</td>\n",
       "      <td>...</td>\n",
       "      <td>...</td>\n",
       "      <td>...</td>\n",
       "      <td>...</td>\n",
       "      <td>...</td>\n",
       "      <td>...</td>\n",
       "      <td>...</td>\n",
       "      <td>...</td>\n",
       "      <td>...</td>\n",
       "    </tr>\n",
       "    <tr>\n",
       "      <th>247</th>\n",
       "      <td>247</td>\n",
       "      <td>2024</td>\n",
       "      <td>359</td>\n",
       "      <td>2024-12-24 00:00:00+00:00</td>\n",
       "      <td>1.329612</td>\n",
       "      <td>1.329612</td>\n",
       "      <td>2.396820e+12</td>\n",
       "      <td>7.811511e+12</td>\n",
       "      <td>239.46</td>\n",
       "      <td>1.441575</td>\n",
       "      <td>12</td>\n",
       "      <td>4</td>\n",
       "      <td>52</td>\n",
       "      <td>1</td>\n",
       "      <td>2024m359</td>\n",
       "    </tr>\n",
       "    <tr>\n",
       "      <th>248</th>\n",
       "      <td>248</td>\n",
       "      <td>2024</td>\n",
       "      <td>361</td>\n",
       "      <td>2024-12-26 00:00:00+00:00</td>\n",
       "      <td>0.972274</td>\n",
       "      <td>0.972274</td>\n",
       "      <td>2.330366e+12</td>\n",
       "      <td>7.594931e+12</td>\n",
       "      <td>240.28</td>\n",
       "      <td>1.446511</td>\n",
       "      <td>12</td>\n",
       "      <td>4</td>\n",
       "      <td>52</td>\n",
       "      <td>3</td>\n",
       "      <td>2024m361</td>\n",
       "    </tr>\n",
       "    <tr>\n",
       "      <th>249</th>\n",
       "      <td>249</td>\n",
       "      <td>2024</td>\n",
       "      <td>362</td>\n",
       "      <td>2024-12-27 00:00:00+00:00</td>\n",
       "      <td>1.832672</td>\n",
       "      <td>1.832672</td>\n",
       "      <td>4.270797e+12</td>\n",
       "      <td>1.391902e+13</td>\n",
       "      <td>238.34</td>\n",
       "      <td>1.434832</td>\n",
       "      <td>12</td>\n",
       "      <td>4</td>\n",
       "      <td>52</td>\n",
       "      <td>4</td>\n",
       "      <td>2024m362</td>\n",
       "    </tr>\n",
       "    <tr>\n",
       "      <th>250</th>\n",
       "      <td>250</td>\n",
       "      <td>2024</td>\n",
       "      <td>365</td>\n",
       "      <td>2024-12-30 00:00:00+00:00</td>\n",
       "      <td>0.997677</td>\n",
       "      <td>0.997677</td>\n",
       "      <td>4.260876e+12</td>\n",
       "      <td>1.388668e+13</td>\n",
       "      <td>236.51</td>\n",
       "      <td>1.423816</td>\n",
       "      <td>12</td>\n",
       "      <td>4</td>\n",
       "      <td>1</td>\n",
       "      <td>0</td>\n",
       "      <td>2024m365</td>\n",
       "    </tr>\n",
       "    <tr>\n",
       "      <th>251</th>\n",
       "      <td>251</td>\n",
       "      <td>2024</td>\n",
       "      <td>366</td>\n",
       "      <td>2024-12-31 00:00:00+00:00</td>\n",
       "      <td>1.339295</td>\n",
       "      <td>1.339295</td>\n",
       "      <td>5.706571e+12</td>\n",
       "      <td>1.859837e+13</td>\n",
       "      <td>236.90</td>\n",
       "      <td>1.426163</td>\n",
       "      <td>12</td>\n",
       "      <td>4</td>\n",
       "      <td>1</td>\n",
       "      <td>1</td>\n",
       "      <td>2024m366</td>\n",
       "    </tr>\n",
       "  </tbody>\n",
       "</table>\n",
       "<p>252 rows × 15 columns</p>\n",
       "</div>"
      ],
      "text/plain": [
       "     index  year  day                      date  weighted_return    return  \\\n",
       "0        0  2024    2 2024-01-02 00:00:00+00:00         1.396767  1.396767   \n",
       "1        1  2024    3 2024-01-03 00:00:00+00:00         1.005260  1.005260   \n",
       "2        2  2024    4 2024-01-04 00:00:00+00:00         0.976586  0.976586   \n",
       "3        3  2024    5 2024-01-05 00:00:00+00:00         1.435970  1.435970   \n",
       "4        4  2024    8 2024-01-08 00:00:00+00:00         1.093187  1.093187   \n",
       "..     ...   ...  ...                       ...              ...       ...   \n",
       "247    247  2024  359 2024-12-24 00:00:00+00:00         1.329612  1.329612   \n",
       "248    248  2024  361 2024-12-26 00:00:00+00:00         0.972274  0.972274   \n",
       "249    249  2024  362 2024-12-27 00:00:00+00:00         1.832672  1.832672   \n",
       "250    250  2024  365 2024-12-30 00:00:00+00:00         0.997677  0.997677   \n",
       "251    251  2024  366 2024-12-31 00:00:00+00:00         1.339295  1.339295   \n",
       "\n",
       "              pnl       raw_pnl  benchmark  benchmark_pnl  month  quarter  \\\n",
       "0    1.396767e+00  1.396767e+00     166.11       1.000000      1        1   \n",
       "1    1.404114e+00  1.404114e+00     165.39       0.995666      1        1   \n",
       "2    1.371237e+00  1.371237e+00     166.48       1.002227      1        1   \n",
       "3    1.969055e+00  1.969055e+00     167.32       1.007284      1        1   \n",
       "4    2.152546e+00  2.152546e+00     167.07       1.005779      1        1   \n",
       "..            ...           ...        ...            ...    ...      ...   \n",
       "247  2.396820e+12  7.811511e+12     239.46       1.441575     12        4   \n",
       "248  2.330366e+12  7.594931e+12     240.28       1.446511     12        4   \n",
       "249  4.270797e+12  1.391902e+13     238.34       1.434832     12        4   \n",
       "250  4.260876e+12  1.388668e+13     236.51       1.423816     12        4   \n",
       "251  5.706571e+12  1.859837e+13     236.90       1.426163     12        4   \n",
       "\n",
       "     week  weekday Year-Month  \n",
       "0       1        1     2024m2  \n",
       "1       1        2     2024m3  \n",
       "2       1        3     2024m4  \n",
       "3       1        4     2024m5  \n",
       "4       2        0     2024m8  \n",
       "..    ...      ...        ...  \n",
       "247    52        1   2024m359  \n",
       "248    52        3   2024m361  \n",
       "249    52        4   2024m362  \n",
       "250     1        0   2024m365  \n",
       "251     1        1   2024m366  \n",
       "\n",
       "[252 rows x 15 columns]"
      ]
     },
     "execution_count": 39,
     "metadata": {},
     "output_type": "execute_result"
    }
   ],
   "source": [
    "portfolio.sort_values(\"date\")"
   ]
  },
  {
   "cell_type": "code",
   "execution_count": 40,
   "id": "ade9fb1b-5b1d-4dcd-8706-82fa610ae6eb",
   "metadata": {},
   "outputs": [
    {
     "ename": "KeyError",
     "evalue": "'cooked_return'",
     "output_type": "error",
     "traceback": [
      "\u001b[31m---------------------------------------------------------------------------\u001b[39m",
      "\u001b[31mKeyError\u001b[39m                                  Traceback (most recent call last)",
      "\u001b[36mFile \u001b[39m\u001b[32mE:\\projects\\orivault\\venv\\Lib\\site-packages\\pandas\\core\\indexes\\base.py:3805\u001b[39m, in \u001b[36mIndex.get_loc\u001b[39m\u001b[34m(self, key)\u001b[39m\n\u001b[32m   3804\u001b[39m \u001b[38;5;28;01mtry\u001b[39;00m:\n\u001b[32m-> \u001b[39m\u001b[32m3805\u001b[39m     \u001b[38;5;28;01mreturn\u001b[39;00m \u001b[38;5;28;43mself\u001b[39;49m\u001b[43m.\u001b[49m\u001b[43m_engine\u001b[49m\u001b[43m.\u001b[49m\u001b[43mget_loc\u001b[49m\u001b[43m(\u001b[49m\u001b[43mcasted_key\u001b[49m\u001b[43m)\u001b[49m\n\u001b[32m   3806\u001b[39m \u001b[38;5;28;01mexcept\u001b[39;00m \u001b[38;5;167;01mKeyError\u001b[39;00m \u001b[38;5;28;01mas\u001b[39;00m err:\n",
      "\u001b[36mFile \u001b[39m\u001b[32mindex.pyx:167\u001b[39m, in \u001b[36mpandas._libs.index.IndexEngine.get_loc\u001b[39m\u001b[34m()\u001b[39m\n",
      "\u001b[36mFile \u001b[39m\u001b[32mindex.pyx:196\u001b[39m, in \u001b[36mpandas._libs.index.IndexEngine.get_loc\u001b[39m\u001b[34m()\u001b[39m\n",
      "\u001b[36mFile \u001b[39m\u001b[32mpandas\\\\_libs\\\\hashtable_class_helper.pxi:7081\u001b[39m, in \u001b[36mpandas._libs.hashtable.PyObjectHashTable.get_item\u001b[39m\u001b[34m()\u001b[39m\n",
      "\u001b[36mFile \u001b[39m\u001b[32mpandas\\\\_libs\\\\hashtable_class_helper.pxi:7089\u001b[39m, in \u001b[36mpandas._libs.hashtable.PyObjectHashTable.get_item\u001b[39m\u001b[34m()\u001b[39m\n",
      "\u001b[31mKeyError\u001b[39m: 'cooked_return'",
      "\nThe above exception was the direct cause of the following exception:\n",
      "\u001b[31mKeyError\u001b[39m                                  Traceback (most recent call last)",
      "\u001b[36mCell\u001b[39m\u001b[36m \u001b[39m\u001b[32mIn[40]\u001b[39m\u001b[32m, line 1\u001b[39m\n\u001b[32m----> \u001b[39m\u001b[32m1\u001b[39m plt.scatter(\u001b[43mtrades\u001b[49m\u001b[43m[\u001b[49m\u001b[33;43m\"\u001b[39;49m\u001b[33;43mcooked_return\u001b[39;49m\u001b[33;43m\"\u001b[39;49m\u001b[43m]\u001b[49m,trades[\u001b[33m\"\u001b[39m\u001b[33mreturn\u001b[39m\u001b[33m\"\u001b[39m],s=\u001b[32m10\u001b[39m,c=trades[\u001b[33m\"\u001b[39m\u001b[33mgroup_percentile\u001b[39m\u001b[33m\"\u001b[39m].astype(\u001b[38;5;28mint\u001b[39m)*\u001b[32m10\u001b[39m,cmap=\u001b[33m\"\u001b[39m\u001b[33mPastel2\u001b[39m\u001b[33m\"\u001b[39m)\n\u001b[32m      2\u001b[39m plt.show()\n",
      "\u001b[36mFile \u001b[39m\u001b[32mE:\\projects\\orivault\\venv\\Lib\\site-packages\\pandas\\core\\frame.py:4102\u001b[39m, in \u001b[36mDataFrame.__getitem__\u001b[39m\u001b[34m(self, key)\u001b[39m\n\u001b[32m   4100\u001b[39m \u001b[38;5;28;01mif\u001b[39;00m \u001b[38;5;28mself\u001b[39m.columns.nlevels > \u001b[32m1\u001b[39m:\n\u001b[32m   4101\u001b[39m     \u001b[38;5;28;01mreturn\u001b[39;00m \u001b[38;5;28mself\u001b[39m._getitem_multilevel(key)\n\u001b[32m-> \u001b[39m\u001b[32m4102\u001b[39m indexer = \u001b[38;5;28;43mself\u001b[39;49m\u001b[43m.\u001b[49m\u001b[43mcolumns\u001b[49m\u001b[43m.\u001b[49m\u001b[43mget_loc\u001b[49m\u001b[43m(\u001b[49m\u001b[43mkey\u001b[49m\u001b[43m)\u001b[49m\n\u001b[32m   4103\u001b[39m \u001b[38;5;28;01mif\u001b[39;00m is_integer(indexer):\n\u001b[32m   4104\u001b[39m     indexer = [indexer]\n",
      "\u001b[36mFile \u001b[39m\u001b[32mE:\\projects\\orivault\\venv\\Lib\\site-packages\\pandas\\core\\indexes\\base.py:3812\u001b[39m, in \u001b[36mIndex.get_loc\u001b[39m\u001b[34m(self, key)\u001b[39m\n\u001b[32m   3807\u001b[39m     \u001b[38;5;28;01mif\u001b[39;00m \u001b[38;5;28misinstance\u001b[39m(casted_key, \u001b[38;5;28mslice\u001b[39m) \u001b[38;5;129;01mor\u001b[39;00m (\n\u001b[32m   3808\u001b[39m         \u001b[38;5;28misinstance\u001b[39m(casted_key, abc.Iterable)\n\u001b[32m   3809\u001b[39m         \u001b[38;5;129;01mand\u001b[39;00m \u001b[38;5;28many\u001b[39m(\u001b[38;5;28misinstance\u001b[39m(x, \u001b[38;5;28mslice\u001b[39m) \u001b[38;5;28;01mfor\u001b[39;00m x \u001b[38;5;129;01min\u001b[39;00m casted_key)\n\u001b[32m   3810\u001b[39m     ):\n\u001b[32m   3811\u001b[39m         \u001b[38;5;28;01mraise\u001b[39;00m InvalidIndexError(key)\n\u001b[32m-> \u001b[39m\u001b[32m3812\u001b[39m     \u001b[38;5;28;01mraise\u001b[39;00m \u001b[38;5;167;01mKeyError\u001b[39;00m(key) \u001b[38;5;28;01mfrom\u001b[39;00m\u001b[38;5;250m \u001b[39m\u001b[34;01merr\u001b[39;00m\n\u001b[32m   3813\u001b[39m \u001b[38;5;28;01mexcept\u001b[39;00m \u001b[38;5;167;01mTypeError\u001b[39;00m:\n\u001b[32m   3814\u001b[39m     \u001b[38;5;66;03m# If we have a listlike key, _check_indexing_error will raise\u001b[39;00m\n\u001b[32m   3815\u001b[39m     \u001b[38;5;66;03m#  InvalidIndexError. Otherwise we fall through and re-raise\u001b[39;00m\n\u001b[32m   3816\u001b[39m     \u001b[38;5;66;03m#  the TypeError.\u001b[39;00m\n\u001b[32m   3817\u001b[39m     \u001b[38;5;28mself\u001b[39m._check_indexing_error(key)\n",
      "\u001b[31mKeyError\u001b[39m: 'cooked_return'"
     ]
    }
   ],
   "source": [
    "plt.scatter(trades[\"cooked_return\"],trades[\"return\"],s=10,c=trades[\"group_percentile\"].astype(int)*10,cmap=\"Pastel2\")\n",
    "plt.show()"
   ]
  },
  {
   "cell_type": "code",
   "execution_count": null,
   "id": "d65cc637-6989-4e10-b319-f83bf377b0f9",
   "metadata": {},
   "outputs": [],
   "source": [
    "trades.tail(20)"
   ]
  }
 ],
 "metadata": {
  "kernelspec": {
   "display_name": "Python 3 (ipykernel)",
   "language": "python",
   "name": "python3"
  },
  "language_info": {
   "codemirror_mode": {
    "name": "ipython",
    "version": 3
   },
   "file_extension": ".py",
   "mimetype": "text/x-python",
   "name": "python",
   "nbconvert_exporter": "python",
   "pygments_lexer": "ipython3",
   "version": "3.11.9"
  }
 },
 "nbformat": 4,
 "nbformat_minor": 5
}
