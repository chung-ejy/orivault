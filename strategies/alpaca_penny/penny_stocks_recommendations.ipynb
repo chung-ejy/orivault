{
 "cells": [
  {
   "cell_type": "code",
   "execution_count": 74,
   "id": "246c49f1-95ae-48c8-a1c2-a5c621cc768f",
   "metadata": {},
   "outputs": [],
   "source": [
    "## PATH settings\n",
    "import os\n",
    "import sys\n",
    "project_root = os.path.abspath(os.path.join(os.getcwd(), '../../'))\n",
    "sys.path.append(project_root)\n",
    "COMMON_PATH = os.path.join(project_root, 'common')"
   ]
  },
  {
   "cell_type": "code",
   "execution_count": 75,
   "id": "b3f7ffcc-42d9-4090-99b3-6479955e1a5f",
   "metadata": {},
   "outputs": [],
   "source": [
    "## Bespoke class imports\n",
    "from common.database.adatabase import ADatabase\n",
    "from common.processor.processor import Processor as p\n",
    "from common.extractor.alpaca_extractor import AlpacaExtractor\n",
    "from financial_common.indicator.indicator import Indicator\n",
    "from financial_common.risk.benchmark import Benchmark\n",
    "from financial_common.portfolio_management.kpi import KPI\n",
    "from financial_common.metric.metric import Metric\n",
    "from financial_common.portfolio_management.portfolio import Portfolio\n",
    "import numpy as np\n",
    "import matplotlib.pyplot as plt"
   ]
  },
  {
   "cell_type": "code",
   "execution_count": 76,
   "id": "5e602193-3097-4687-bd19-00f3b8bff5d4",
   "metadata": {},
   "outputs": [],
   "source": [
    "## Import standard packages\n",
    "from datetime import timedelta, datetime\n",
    "import matplotlib.pyplot as plt\n",
    "from tqdm import tqdm\n",
    "import pandas as pd\n",
    "from time import sleep\n",
    "import copy"
   ]
  },
  {
   "cell_type": "code",
   "execution_count": 77,
   "id": "01317ec8-a56f-4e96-907f-3b07b4d80013",
   "metadata": {},
   "outputs": [],
   "source": [
    "orivault = ADatabase(\"ori\")\n",
    "alp = AlpacaExtractor(paper=False)"
   ]
  },
  {
   "cell_type": "code",
   "execution_count": 78,
   "id": "98afb993-65eb-4107-9d6d-4139059fbfb4",
   "metadata": {},
   "outputs": [
    {
     "data": {
      "text/plain": [
       "{'ranking_metric': 'roc',\n",
       " 'timeframe': 'DAY',\n",
       " 'position_type': 'long',\n",
       " 'grouping_type': 'STANDARD_DEV',\n",
       " 'selection_type': 'bottom_blacklist',\n",
       " 'allocation_type': 'risk',\n",
       " 'risk_type': 'coefficient_of_variation',\n",
       " 'selection_percentage': 1,\n",
       " 'stoploss': 1,\n",
       " 'num_of_groups': 1,\n",
       " 'max_price': 0.1,\n",
       " 'min_price': 0.01,\n",
       " 'max_market_cap': 1000000,\n",
       " 'min_market_cap': 10000,\n",
       " 'rolling_window': 10,\n",
       " 'leverage': 1,\n",
       " 'date': Timestamp('2025-03-14 00:00:00'),\n",
       " 'pnl': 6.695519929884597,\n",
       " 'raw_pnl': 10.373208896269675,\n",
       " 'downside': 1.4242520632259887,\n",
       " 'coefficient_of_variation': 3.1651236135779435,\n",
       " 'portfolio_std': 2.115405509333582,\n",
       " 'sharpe_ratio': 2.6919501734589018,\n",
       " 'tracking_error': 2.1151877769808967,\n",
       " 'information_ratio': 2.6922272763482797}"
      ]
     },
     "execution_count": 78,
     "metadata": {},
     "output_type": "execute_result"
    }
   ],
   "source": [
    "orivault.connect()\n",
    "portfolio_dictionary = orivault.retrieve(\"results\").to_dict(\"records\")[0]\n",
    "orivault.disconnect()\n",
    "portfolio_dictionary"
   ]
  },
  {
   "cell_type": "code",
   "execution_count": 79,
   "id": "e4015f5d-7678-4cf4-9ea3-488ec8de82db",
   "metadata": {},
   "outputs": [
    {
     "data": {
      "text/plain": [
       "{'ranking_metric': 'roc',\n",
       " 'timeframe': 'DAY',\n",
       " 'position_type': 'long',\n",
       " 'grouping_type': 'STANDARD_DEV',\n",
       " 'selection_type': 'bottom_blacklist',\n",
       " 'allocation_type': 'risk',\n",
       " 'risk_type': 'coefficient_of_variation',\n",
       " 'selection_percentage': 1.0,\n",
       " 'stoploss': 1.0,\n",
       " 'num_of_groups': 1,\n",
       " 'max_price': 0.1,\n",
       " 'min_price': 0.01,\n",
       " 'max_market_cap': 1000000.0,\n",
       " 'min_market_cap': 10000.0,\n",
       " 'rolling_window': 10,\n",
       " 'leverage': 1}"
      ]
     },
     "execution_count": 79,
     "metadata": {},
     "output_type": "execute_result"
    }
   ],
   "source": [
    "pm = Portfolio.from_dict(portfolio_dictionary)\n",
    "pm.to_dict()"
   ]
  },
  {
   "cell_type": "code",
   "execution_count": 80,
   "id": "1e37c28f-be14-4d2d-b2fa-d36cbd588168",
   "metadata": {},
   "outputs": [
    {
     "name": "stdout",
     "output_type": "stream",
     "text": [
      "'SVA'\n"
     ]
    }
   ],
   "source": [
    "## Retrieve existing stocks \n",
    "index = alp.assets().sort_values(\"ticker\")\n",
    "tickers = index[\"ticker\"].values\n",
    "tickers_per_batch = int(1000)\n",
    "batchs = [tickers[i:i + tickers_per_batch] for i in range(0, len(tickers), tickers_per_batch)]\n",
    "bars = []\n",
    "[bars.append(alp.latest_bars_bulk(batch)) for batch in batchs]\n",
    "todays_bar = pd.concat(bars)\n",
    "index = index.merge(todays_bar,on=\"ticker\",how=\"left\")"
   ]
  },
  {
   "cell_type": "code",
   "execution_count": 81,
   "id": "8489095c-b17a-41ac-80a0-f4c315737be8",
   "metadata": {},
   "outputs": [
    {
     "name": "stdout",
     "output_type": "stream",
     "text": [
      "2025-04-25 07:52:13.148982-04:00 2025-05-25 07:52:13.148982-04:00\n"
     ]
    }
   ],
   "source": [
    "end = alp.clock() - timedelta(days=1)\n",
    "start = (end - timedelta(days=pm.rolling_window*3))\n",
    "print(start,end)"
   ]
  },
  {
   "cell_type": "code",
   "execution_count": 82,
   "id": "ca22f01d-5461-4703-a9ec-73a74fa20aa8",
   "metadata": {},
   "outputs": [
    {
     "name": "stdout",
     "output_type": "stream",
     "text": [
      "50\n"
     ]
    }
   ],
   "source": [
    "tickers_per_batch = int(10000/(pm.rolling_window*4)/5)\n",
    "print(tickers_per_batch)"
   ]
  },
  {
   "cell_type": "code",
   "execution_count": 83,
   "id": "42a9639a-fc62-46cf-9b14-dc8f58ee7316",
   "metadata": {},
   "outputs": [],
   "source": [
    "relevant_tickers = index[(index[\"adjclose\"]>=pm.min_price) & (index[\"adjclose\"]<=pm.max_price)][\"ticker\"]\n",
    "batchs = [relevant_tickers[i:i + tickers_per_batch] for i in range(0, len(relevant_tickers), tickers_per_batch)]"
   ]
  },
  {
   "cell_type": "code",
   "execution_count": 84,
   "id": "09587a4a-c54f-458c-ac5f-bca6b33405ff",
   "metadata": {},
   "outputs": [
    {
     "name": "stderr",
     "output_type": "stream",
     "text": [
      "100%|███████████████████████████████████████████████████████████████████████████████████████████████████████████████████████████████████████████████████████████████████████████████████████████████████████████████████████| 4/4 [00:02<00:00,  1.36it/s]\n"
     ]
    }
   ],
   "source": [
    "prices = []\n",
    "for batch in tqdm(batchs):\n",
    "    try:\n",
    "        tickers_data = alp.prices_bulk(batch,start,end)\n",
    "        for ticker in batch:\n",
    "            try:\n",
    "                price = tickers_data[tickers_data[\"ticker\"] == ticker].copy()\n",
    "                bar = todays_bar[todays_bar[\"ticker\"]==ticker][[\"date\",\"ticker\",\"adjclose\",\"high\",\"low\",\"volume\"]].copy()\n",
    "                price = p.lower_column(price)\n",
    "                price = pd.concat([price,bar])\n",
    "                price = p.utc_date(price)\n",
    "                price.sort_values(\"date\", inplace=True)\n",
    "                price = p.additional_date_columns(price)\n",
    "                price[\"market_cap\"] = price[\"adjclose\"] * price[\"volume\"]\n",
    "                if price[(price[\"adjclose\"]<=pm.max_price) & (price[\"adjclose\"]>=pm.min_price)].index.size > 0:\n",
    "                    price[\"standard_dev\"] = 1\n",
    "                    price[\"coefficient_of_variation\"] = 1\n",
    "                    price = Indicator.indicator_type_factory(pm.ranking_metric).calculate(price,timeframe=pm.rolling_window,live=True)\n",
    "                    prices.append(price)\n",
    "            except Exception as e:\n",
    "                print(str(e))\n",
    "    except Exception as e:\n",
    "        print(str(e))"
   ]
  },
  {
   "cell_type": "code",
   "execution_count": 85,
   "id": "2212583d-6a1c-4721-a689-1bcaad1d5b2d",
   "metadata": {},
   "outputs": [
    {
     "data": {
      "text/html": [
       "<div>\n",
       "<style scoped>\n",
       "    .dataframe tbody tr th:only-of-type {\n",
       "        vertical-align: middle;\n",
       "    }\n",
       "\n",
       "    .dataframe tbody tr th {\n",
       "        vertical-align: top;\n",
       "    }\n",
       "\n",
       "    .dataframe thead th {\n",
       "        text-align: right;\n",
       "    }\n",
       "</style>\n",
       "<table border=\"1\" class=\"dataframe\">\n",
       "  <thead>\n",
       "    <tr style=\"text-align: right;\">\n",
       "      <th></th>\n",
       "      <th>year</th>\n",
       "      <th>day</th>\n",
       "      <th>ticker</th>\n",
       "      <th>date</th>\n",
       "      <th>adjclose</th>\n",
       "      <th>high</th>\n",
       "      <th>low</th>\n",
       "      <th>volume</th>\n",
       "      <th>month</th>\n",
       "      <th>quarter</th>\n",
       "      <th>...</th>\n",
       "      <th>weekday</th>\n",
       "      <th>market_cap</th>\n",
       "      <th>standard_dev</th>\n",
       "      <th>risk</th>\n",
       "      <th>roc</th>\n",
       "      <th>group_percentile</th>\n",
       "      <th>rank_percentile</th>\n",
       "      <th>major_key</th>\n",
       "      <th>position_type</th>\n",
       "      <th>weight</th>\n",
       "    </tr>\n",
       "  </thead>\n",
       "  <tbody>\n",
       "    <tr>\n",
       "      <th>19</th>\n",
       "      <td>2025</td>\n",
       "      <td>143</td>\n",
       "      <td>LYRA</td>\n",
       "      <td>2025-05-23 00:00:00+00:00</td>\n",
       "      <td>0.0918</td>\n",
       "      <td>0.0967</td>\n",
       "      <td>0.088</td>\n",
       "      <td>999767</td>\n",
       "      <td>5</td>\n",
       "      <td>2</td>\n",
       "      <td>...</td>\n",
       "      <td>4</td>\n",
       "      <td>91778.6106</td>\n",
       "      <td>1</td>\n",
       "      <td>1</td>\n",
       "      <td>-0.065173</td>\n",
       "      <td>1</td>\n",
       "      <td>815</td>\n",
       "      <td>2025_143_1</td>\n",
       "      <td>1.0</td>\n",
       "      <td>1.0</td>\n",
       "    </tr>\n",
       "  </tbody>\n",
       "</table>\n",
       "<p>1 rows × 21 columns</p>\n",
       "</div>"
      ],
      "text/plain": [
       "    year  day ticker                      date  adjclose    high    low  \\\n",
       "19  2025  143   LYRA 2025-05-23 00:00:00+00:00    0.0918  0.0967  0.088   \n",
       "\n",
       "    volume  month  quarter  ...  weekday  market_cap  standard_dev  risk  \\\n",
       "19  999767      5        2  ...        4  91778.6106             1     1   \n",
       "\n",
       "         roc  group_percentile rank_percentile   major_key position_type  \\\n",
       "19 -0.065173                 1             815  2025_143_1           1.0   \n",
       "\n",
       "    weight  \n",
       "19     1.0  \n",
       "\n",
       "[1 rows x 21 columns]"
      ]
     },
     "execution_count": 85,
     "metadata": {},
     "output_type": "execute_result"
    }
   ],
   "source": [
    "simulation = pd.concat(prices)\n",
    "simulation.sort_values(\"date\", inplace=True)\n",
    "trades = pm.recs(simulation.copy())\n",
    "trades"
   ]
  },
  {
   "cell_type": "code",
   "execution_count": 86,
   "id": "b6f53213-3eed-4f2a-bdfb-04fa4371a05c",
   "metadata": {},
   "outputs": [
    {
     "data": {
      "text/plain": [
       "dict_keys([])"
      ]
     },
     "execution_count": 86,
     "metadata": {},
     "output_type": "execute_result"
    }
   ],
   "source": [
    "options = alp.call_options(\"GDHG\",datetime(2025,5,23))\n",
    "options"
   ]
  },
  {
   "cell_type": "code",
   "execution_count": 87,
   "id": "64711a5e-b2ef-4be8-b386-ac83faa0e159",
   "metadata": {},
   "outputs": [],
   "source": [
    "orivault.connect()\n",
    "orivault.drop(\"recommendations\")\n",
    "orivault.store(\"recommendations\",trades)\n",
    "orivault.disconnect()"
   ]
  }
 ],
 "metadata": {
  "kernelspec": {
   "display_name": "Python 3 (ipykernel)",
   "language": "python",
   "name": "python3"
  },
  "language_info": {
   "codemirror_mode": {
    "name": "ipython",
    "version": 3
   },
   "file_extension": ".py",
   "mimetype": "text/x-python",
   "name": "python",
   "nbconvert_exporter": "python",
   "pygments_lexer": "ipython3",
   "version": "3.11.9"
  }
 },
 "nbformat": 4,
 "nbformat_minor": 5
}
