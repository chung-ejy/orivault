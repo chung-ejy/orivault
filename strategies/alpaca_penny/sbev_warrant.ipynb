{
 "cells": [
  {
   "cell_type": "code",
   "execution_count": 2,
   "id": "532e9841-08b8-44d2-a99e-b1740f641763",
   "metadata": {},
   "outputs": [],
   "source": [
    "## PATH settings\n",
    "import os\n",
    "import sys\n",
    "project_root = os.path.abspath(os.path.join(os.getcwd(), '../../'))\n",
    "sys.path.append(project_root)\n",
    "COMMON_PATH = os.path.join(project_root, 'common')"
   ]
  },
  {
   "cell_type": "code",
   "execution_count": 10,
   "id": "ba4b7bd4-db81-407c-9d88-af9855f4c44a",
   "metadata": {},
   "outputs": [],
   "source": [
    "import pandas as pd\n",
    "from common.extractor.alpaca_extractor import AlpacaExtractor\n",
    "from datetime import datetime\n",
    "import numpy as np\n",
    "from scipy.stats import norm"
   ]
  },
  {
   "cell_type": "code",
   "execution_count": 4,
   "id": "c6d7858e-972c-48b9-a995-1617bd75a7cc",
   "metadata": {},
   "outputs": [],
   "source": [
    "alp = AlpacaExtractor()"
   ]
  },
  {
   "cell_type": "code",
   "execution_count": 30,
   "id": "819657aa-daae-42a0-ae04-cbf8631e68cd",
   "metadata": {},
   "outputs": [],
   "source": [
    "ticker_prices = alp.prices(\"SBEV\",datetime(2020,1,1),datetime(2025,5,1))\n",
    "warrant_prices = alp.prices(\"SBEV.WS\",datetime(2024,5,1),datetime(2025,5,1))"
   ]
  },
  {
   "cell_type": "code",
   "execution_count": 13,
   "id": "ce140d99-9abe-4be1-b5dc-c42459329531",
   "metadata": {},
   "outputs": [
    {
     "name": "stdout",
     "output_type": "stream",
     "text": [
      "Estimated warrant price using Black-Scholes: $0.0000\n"
     ]
    }
   ],
   "source": [
    "# Black-Scholes formula\n",
    "def black_scholes(S, K, T, r, sigma, option_type=\"call\"):\n",
    "    \"\"\"\n",
    "    S: Current stock price\n",
    "    K: Strike price\n",
    "    T: Time to expiration (in years)\n",
    "    r: Risk-free interest rate\n",
    "    sigma: Volatility of the underlying asset\n",
    "    option_type: \"call\" for warrants\n",
    "    \n",
    "    Returns: Black-Scholes price\n",
    "    \"\"\"\n",
    "    d1 = (np.log(S / K) + (r + (sigma ** 2) / 2) * T) / (sigma * np.sqrt(T))\n",
    "    d2 = d1 - sigma * np.sqrt(T)\n",
    "    \n",
    "    if option_type == \"call\":\n",
    "        price = S * norm.cdf(d1) - K * np.exp(-r * T) * norm.cdf(d2)\n",
    "    else:\n",
    "        price = K * np.exp(-r * T) * norm.cdf(-d2) - S * norm.cdf(-d1)\n",
    "    \n",
    "    return price\n",
    "\n",
    "# Inputs\n",
    "S = 3.58  # Current stock price (SBEV)\n",
    "K = 184   # Strike price\n",
    "T = 1     # Time to expiration (assume 1 year)\n",
    "r = 0.05  # Risk-free rate (5%)\n",
    "sigma = 0.50  # Estimated volatility (50%)\n",
    "\n",
    "# Calculate warrant price (adjusting for 1/40th per unit)\n",
    "warrant_price = black_scholes(S, K, T, r, sigma, \"call\") / 40\n",
    "\n",
    "print(f\"Estimated warrant price using Black-Scholes: ${warrant_price:.4f}\")"
   ]
  },
  {
   "cell_type": "code",
   "execution_count": 31,
   "id": "93aae44f-e84e-41bb-be7e-23d633cf4e9b",
   "metadata": {},
   "outputs": [
    {
     "name": "stdout",
     "output_type": "stream",
     "text": [
      "9.554391249983976\n"
     ]
    }
   ],
   "source": [
    "ticker_prices[\"returns\"] = ticker_prices[\"adjclose\"].pct_change()\n",
    "sigma = np.std(ticker_prices[\"returns\"].dropna()) * np.sqrt(252)\n",
    "\n",
    "warrant_price = black_scholes(514,184,1,0.0,sigma,\"call\")/40\n",
    "print(warrant_price)"
   ]
  }
 ],
 "metadata": {
  "kernelspec": {
   "display_name": "Python 3 (ipykernel)",
   "language": "python",
   "name": "python3"
  },
  "language_info": {
   "codemirror_mode": {
    "name": "ipython",
    "version": 3
   },
   "file_extension": ".py",
   "mimetype": "text/x-python",
   "name": "python",
   "nbconvert_exporter": "python",
   "pygments_lexer": "ipython3",
   "version": "3.11.0"
  }
 },
 "nbformat": 4,
 "nbformat_minor": 5
}
