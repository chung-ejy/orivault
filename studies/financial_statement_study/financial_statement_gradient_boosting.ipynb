{
 "cells": [
  {
   "cell_type": "code",
   "execution_count": 1,
   "id": "16989731-6c5a-4d33-92da-7556bcee1fcc",
   "metadata": {},
   "outputs": [],
   "source": [
    "## PATH settings\n",
    "import os\n",
    "import sys\n",
    "project_root = os.path.abspath(os.path.join(os.getcwd(), '../../'))\n",
    "sys.path.append(project_root)\n",
    "COMMON_PATH = os.path.join(project_root, 'common')"
   ]
  },
  {
   "cell_type": "code",
   "execution_count": 2,
   "id": "73094c60-497a-45ac-bd01-8db8578730b7",
   "metadata": {},
   "outputs": [],
   "source": [
    "## Bespoke class imports\n",
    "from common.database.adatabase import ADatabase\n",
    "from common.processor.processor import Processor as p\n",
    "from financial_common.risk.rolling_factor_analysis import RollingFactorAnalysis\n",
    "from financial_common.risk.single_index_capm import SingleIndexCAPM\n",
    "from financial_common.indicator.indicator import Indicator\n",
    "from financial_common.risk.benchmark import Benchmark\n",
    "from financial_common.portfolio_management.metrics import Metrics\n",
    "from financial_common.portfolio_management.portfolio_selection import PortfolioSelection\n",
    "from financial_common.risk.risk_type import RiskType\n",
    "import numpy as np"
   ]
  },
  {
   "cell_type": "code",
   "execution_count": 3,
   "id": "d04c2c49-144d-4ff3-acf0-e1ff11afa8a8",
   "metadata": {},
   "outputs": [],
   "source": [
    "## Import standard packages\n",
    "from xgboost import XGBRegressor\n",
    "from datetime import timedelta\n",
    "import matplotlib.pyplot as plt\n",
    "from tqdm import tqdm\n",
    "import pandas as pd\n",
    "from time import sleep"
   ]
  },
  {
   "cell_type": "code",
   "execution_count": 4,
   "id": "9131bcf0-e2ac-489b-ac60-ab69b8feda22",
   "metadata": {},
   "outputs": [],
   "source": [
    "sec = ADatabase(\"sec\")\n",
    "market = ADatabase(\"market\")\n",
    "fred = ADatabase(\"fred\")"
   ]
  },
  {
   "cell_type": "code",
   "execution_count": 5,
   "id": "a4179cff-dd72-4218-9d7a-7e01333a3a58",
   "metadata": {},
   "outputs": [],
   "source": [
    "## Retrieve existing stocks \n",
    "market.connect()\n",
    "index = market.retrieve(\"ticker_overview\")\n",
    "market.disconnect()\n",
    "sic_codes = pd.read_csv(\"../../csv_files/sic_codes.csv\").rename(columns={\"SIC Code\":\"sic_code\",\"Office\":\"office\"}).dropna()\n",
    "index[\"sic_code\"] = index[\"sic_code\"].fillna(0).astype(int)\n",
    "sic_codes[\"sic_code\"] = sic_codes[\"sic_code\"].fillna(0).astype(int)\n",
    "index = index.merge(sic_codes[[\"sic_code\",\"office\"]],on=\"sic_code\")\n",
    "\n",
    "## Retrieve previously calculated Macro Projections\n",
    "fred.connect()\n",
    "sp500 = p.lower_column(fred.retrieve(\"sp500_projections\").rename(columns={\"prediction\":\"sp500_prediction\"}))\n",
    "sp500 = p.utc_date(sp500)\n",
    "interest_rates = p.lower_column(fred.retrieve(\"market_yield\").rename(columns={\"value\":\"rf\"}))\n",
    "interest_rates = p.utc_date(interest_rates)\n",
    "interest_rates[\"rf\"] = interest_rates[\"rf\"].replace(\".\",0)\n",
    "interest_rates[\"rf\"] = [float(x) / 100 for x in interest_rates[\"rf\"]]\n",
    "fred.disconnect()\n",
    "macro = sp500.merge(interest_rates,on=\"date\",how=\"left\")\n",
    "macro = p.utc_date(macro)"
   ]
  },
  {
   "cell_type": "code",
   "execution_count": 6,
   "id": "fa7d5ea3-1219-4acb-8928-3f9219aa70c9",
   "metadata": {},
   "outputs": [],
   "source": [
    "factors = [\"assets\",\"liabilities\",\"revenue\",\"reference_price\"]"
   ]
  },
  {
   "cell_type": "code",
   "execution_count": 7,
   "id": "635c8aca-eddc-4b55-a8c3-e351e27a11e9",
   "metadata": {
    "scrolled": true
   },
   "outputs": [
    {
     "name": "stderr",
     "output_type": "stream",
     "text": [
      "4327it [03:56, 18.31it/s]\n"
     ]
    }
   ],
   "source": [
    "market.connect()\n",
    "sec.connect()\n",
    "factors_df = []\n",
    "for row in tqdm(index.iterrows()):\n",
    "    try:\n",
    "        ticker = row[1][\"ticker\"]\n",
    "        cik = int(row[1][\"cik\"])\n",
    "        price = market.query(\"prices\",{\"ticker\":ticker})\n",
    "        filings = sec.query(\"filings\",{\"cik\":cik})\n",
    "        if price.index.size > 0 and filings.index.size > 0:\n",
    "            price = p.utc_date(price)\n",
    "            price = p.additional_date_columns(price)\n",
    "            price.sort_values(\"date\",inplace=True)\n",
    "            price = Indicator.ROLLING_DOLLAR_VOLUME.calculate(price)\n",
    "            filings = p.utc_date(filings)\n",
    "            filings = p.lower_column(filings)\n",
    "            filings = p.additional_date_columns(filings)\n",
    "            ticker_factors = filings.drop([\"date\",\"month\",\"week\",\"cik\"],axis=1).groupby([\"year\",\"quarter\"]).mean().reset_index()\n",
    "            price = price.drop([\"date\",\"ticker\"],axis=1).groupby([\"year\",\"quarter\"]).mean().reset_index()\n",
    "            ticker_factors = ticker_factors.merge(price,on=[\"year\",\"quarter\"],how=\"left\")\n",
    "            ticker_factors = ticker_factors.ffill()\n",
    "            ticker_factors[\"year\"] = ticker_factors[\"year\"] + 1\n",
    "            if ticker_factors.index.size > 0:\n",
    "                ticker_factors[\"ticker\"] = ticker\n",
    "                ticker_factors[\"reference_price\"] = ticker_factors[\"adjclose\"].shift(1)\n",
    "                ticker_factors[\"y\"] = ticker_factors[\"adjclose\"].shift(-1)\n",
    "                factors_df.append(ticker_factors[[\"year\",\"quarter\",\"ticker\",\"adjclose\",\"rolling_dollar_volume\",\"y\"]+factors])\n",
    "    except Exception as e:\n",
    "        print(ticker,str(e))\n",
    "        continue\n",
    "sec.disconnect()\n",
    "market.disconnect()\n",
    "factors_df = pd.concat(factors_df).sort_values([\"year\",\"quarter\"])"
   ]
  },
  {
   "cell_type": "code",
   "execution_count": 8,
   "id": "990d4999-cc4d-4264-b239-10fb0f4773af",
   "metadata": {},
   "outputs": [],
   "source": [
    "model_start = 2015\n",
    "model_end = 2022\n",
    "backtest_end = 2026\n",
    "model = XGBRegressor(booster=\"gbtree\",random_state=42)\n",
    "factors_df = factors_df.dropna(subset=factors)\n",
    "training_data = factors_df[(factors_df[\"year\"]>=model_start) & (factors_df[\"year\"]<model_end)].dropna()\n",
    "sim = factors_df[(factors_df[\"year\"]>=model_end-1) & (factors_df[\"year\"]<backtest_end)].dropna(subset=factors)\n",
    "model.fit(training_data[factors],training_data[\"y\"])\n",
    "sim[\"prediction\"] = model.predict(sim[factors])\n",
    "sim = sim[[\"ticker\",\"year\",\"quarter\",\"prediction\"]]"
   ]
  },
  {
   "cell_type": "code",
   "execution_count": 9,
   "id": "0f877ba0-a338-475c-a1d7-f4882b2c1fa7",
   "metadata": {
    "scrolled": true
   },
   "outputs": [
    {
     "name": "stderr",
     "output_type": "stream",
     "text": [
      " 12%|██████████████████▊                                                                                                                                       | 53/433 [00:05<00:38,  9.99it/s]"
     ]
    },
    {
     "name": "stdout",
     "output_type": "stream",
     "text": [
      "'date'\n"
     ]
    },
    {
     "name": "stderr",
     "output_type": "stream",
     "text": [
      " 20%|██████████████████████████████▏                                                                                                                           | 85/433 [00:08<00:28, 12.17it/s]"
     ]
    },
    {
     "name": "stdout",
     "output_type": "stream",
     "text": [
      "'date'\n"
     ]
    },
    {
     "name": "stderr",
     "output_type": "stream",
     "text": [
      " 59%|██████████████████████████████████████████████████████████████████████████████████████████▊                                                              | 257/433 [00:24<00:13, 13.17it/s]"
     ]
    },
    {
     "name": "stdout",
     "output_type": "stream",
     "text": [
      "'date'\n"
     ]
    },
    {
     "name": "stderr",
     "output_type": "stream",
     "text": [
      "100%|█████████████████████████████████████████████████████████████████████████████████████████████████████████████████████████████████████████████████████████| 433/433 [00:41<00:00, 10.33it/s]\n"
     ]
    }
   ],
   "source": [
    "market.connect()\n",
    "prices = []\n",
    "for ticker in tqdm(index[\"ticker\"]):\n",
    "    try:\n",
    "        price = p.utc_date(market.query(\"prices\",{\"ticker\":ticker}))\n",
    "        price = p.additional_date_columns(market.query(\"prices\",{\"ticker\":ticker}))\n",
    "        price.sort_values(\"date\",inplace=True)\n",
    "        price = price.merge(sim,on=[\"year\",\"quarter\",\"ticker\"],how=\"left\")\n",
    "        price = p.utc_date(price)\n",
    "        price = price.merge(macro,on=\"date\",how=\"left\")\n",
    "        price[\"factor\"] = price[\"prediction\"] / price[\"adjclose\"] - 1\n",
    "        price = SingleIndexCAPM.apply(price)\n",
    "        for member in RiskType:\n",
    "            price = member.apply(price)\n",
    "        prices.append(price)\n",
    "    except Exception as e:\n",
    "        print(str(e))\n",
    "        continue\n",
    "market.disconnect()"
   ]
  },
  {
   "cell_type": "code",
   "execution_count": 10,
   "id": "31941a64-38c4-4616-8dcf-e7a70d5987cf",
   "metadata": {},
   "outputs": [],
   "source": [
    "sim = pd.concat(prices)"
   ]
  },
  {
   "cell_type": "code",
   "execution_count": 11,
   "id": "1397bd57-8758-4eed-aed0-f9dae259b678",
   "metadata": {},
   "outputs": [
    {
     "data": {
      "text/plain": [
       "Index(['date', 'close', 'high', 'low', 'open', 'volume', 'adjclose', 'adjhigh',\n",
       "       'adjlow', 'adjopen', 'adjvolume', 'divcash', 'splitfactor', 'ticker',\n",
       "       'year', 'month', 'quarter', 'week', 'realtime_start', 'realtime_end',\n",
       "       'rf', 'factor', 'risk', 'sigma', 'coefficient_of_variation', 'drawdown',\n",
       "       'office', 'market_cap', 'sic_description'],\n",
       "      dtype='object')"
      ]
     },
     "execution_count": 11,
     "metadata": {},
     "output_type": "execute_result"
    }
   ],
   "source": [
    "## getting names\n",
    "simulation = pd.concat(prices).merge(index[[\"ticker\",\"office\",\"market_cap\",\"sic_description\"]],on=\"ticker\",how=\"left\")\n",
    "simulation[\"market_cap\"] = simulation[\"market_cap\"].astype(float)\n",
    "## subsetting backtesting data\n",
    "simulation = simulation[(simulation[\"year\"]>=model_end) & (simulation[\"year\"]<backtest_end)].dropna(subset=\"factor\")\n",
    "tickers = list(simulation[simulation[\"year\"]==model_end][\"ticker\"].unique())\n",
    "simulation = simulation[simulation[\"ticker\"].isin(tickers)]\n",
    "\n",
    "simulation.sort_values(\"date\", inplace=True)\n",
    "simulation.columns"
   ]
  },
  {
   "cell_type": "code",
   "execution_count": 12,
   "id": "6ed16a90-2e22-4801-ba0f-27be1b70db4e",
   "metadata": {},
   "outputs": [],
   "source": [
    "portfolios = PortfolioSelection.generate_possible_portfolios(group_percentages=[0.01])"
   ]
  },
  {
   "cell_type": "code",
   "execution_count": 13,
   "id": "953a0a5f-607d-41b7-91de-7b633013bc3e",
   "metadata": {},
   "outputs": [],
   "source": [
    "## Defining Benchmark\n",
    "market.connect()\n",
    "benchmark = market.query(\"prices\",{\"ticker\":\"JPM\"})\n",
    "market.disconnect()\n",
    "benchmark = Benchmark.convert_to_benchmark(benchmark,\"adjclose\")"
   ]
  },
  {
   "cell_type": "code",
   "execution_count": null,
   "id": "77503bfe-13cf-4b3f-b975-a6d519b71862",
   "metadata": {
    "scrolled": true
   },
   "outputs": [
    {
     "name": "stderr",
     "output_type": "stream",
     "text": [
      "  1%|█▍                                                                                                                                                         | 2/216 [00:00<00:13, 16.22it/s]"
     ]
    },
    {
     "name": "stdout",
     "output_type": "stream",
     "text": [
      "\"Column(s) ['equal'] do not exist\"\n",
      "\"Column(s) ['equal'] do not exist\"\n",
      "\"Column(s) ['equal'] do not exist\"\n",
      "\"Column(s) ['equal'] do not exist\"\n"
     ]
    },
    {
     "name": "stderr",
     "output_type": "stream",
     "text": [
      "  6%|█████████▉                                                                                                                                                | 14/216 [00:10<02:25,  1.39it/s]"
     ]
    },
    {
     "name": "stdout",
     "output_type": "stream",
     "text": [
      "\"Column(s) ['equal'] do not exist\"\n",
      "\"Column(s) ['equal'] do not exist\"\n",
      "\"Column(s) ['equal'] do not exist\"\n"
     ]
    },
    {
     "name": "stderr",
     "output_type": "stream",
     "text": [
      "  7%|███████████▍                                                                                                                                              | 16/216 [00:10<01:32,  2.15it/s]"
     ]
    },
    {
     "name": "stdout",
     "output_type": "stream",
     "text": [
      "\"Column(s) ['equal'] do not exist\"\n"
     ]
    },
    {
     "name": "stderr",
     "output_type": "stream",
     "text": [
      " 12%|██████████████████▌                                                                                                                                       | 26/216 [00:17<01:27,  2.18it/s]"
     ]
    },
    {
     "name": "stdout",
     "output_type": "stream",
     "text": [
      "\"Column(s) ['equal'] do not exist\"\n",
      "\"Column(s) ['equal'] do not exist\"\n",
      "\"Column(s) ['equal'] do not exist\"\n",
      "\"Column(s) ['equal'] do not exist\"\n"
     ]
    },
    {
     "name": "stderr",
     "output_type": "stream",
     "text": [
      " 18%|███████████████████████████                                                                                                                               | 38/216 [00:24<01:25,  2.07it/s]"
     ]
    },
    {
     "name": "stdout",
     "output_type": "stream",
     "text": [
      "\"Column(s) ['equal'] do not exist\"\n",
      "\"Column(s) ['equal'] do not exist\"\n",
      "\"Column(s) ['equal'] do not exist\"\n"
     ]
    },
    {
     "name": "stderr",
     "output_type": "stream",
     "text": [
      " 19%|████████████████████████████▌                                                                                                                             | 40/216 [00:24<00:57,  3.05it/s]"
     ]
    },
    {
     "name": "stdout",
     "output_type": "stream",
     "text": [
      "\"Column(s) ['equal'] do not exist\"\n"
     ]
    },
    {
     "name": "stderr",
     "output_type": "stream",
     "text": [
      " 23%|███████████████████████████████████▋                                                                                                                      | 50/216 [00:27<00:30,  5.40it/s]"
     ]
    },
    {
     "name": "stdout",
     "output_type": "stream",
     "text": [
      "\"Column(s) ['equal'] do not exist\"\n",
      "\"Column(s) ['equal'] do not exist\"\n",
      "\"Column(s) ['equal'] do not exist\"\n"
     ]
    },
    {
     "name": "stderr",
     "output_type": "stream",
     "text": [
      " 24%|█████████████████████████████████████                                                                                                                     | 52/216 [00:27<00:23,  7.02it/s]"
     ]
    },
    {
     "name": "stdout",
     "output_type": "stream",
     "text": [
      "\"Column(s) ['equal'] do not exist\"\n"
     ]
    },
    {
     "name": "stderr",
     "output_type": "stream",
     "text": [
      " 29%|████████████████████████████████████████████▏                                                                                                             | 62/216 [00:29<00:25,  6.13it/s]"
     ]
    },
    {
     "name": "stdout",
     "output_type": "stream",
     "text": [
      "\"Column(s) ['equal'] do not exist\"\n",
      "\"Column(s) ['equal'] do not exist\"\n",
      "\"Column(s) ['equal'] do not exist\"\n"
     ]
    },
    {
     "name": "stderr",
     "output_type": "stream",
     "text": [
      " 30%|█████████████████████████████████████████████▋                                                                                                            | 64/216 [00:29<00:19,  7.83it/s]"
     ]
    },
    {
     "name": "stdout",
     "output_type": "stream",
     "text": [
      "\"Column(s) ['equal'] do not exist\"\n"
     ]
    },
    {
     "name": "stderr",
     "output_type": "stream",
     "text": [
      " 34%|████████████████████████████████████████████████████▊                                                                                                     | 74/216 [00:31<00:19,  7.23it/s]"
     ]
    },
    {
     "name": "stdout",
     "output_type": "stream",
     "text": [
      "\"Column(s) ['equal'] do not exist\"\n",
      "\"Column(s) ['equal'] do not exist\"\n",
      "\"Column(s) ['equal'] do not exist\"\n"
     ]
    },
    {
     "name": "stderr",
     "output_type": "stream",
     "text": [
      " 35%|██████████████████████████████████████████████████████▏                                                                                                   | 76/216 [00:31<00:15,  8.83it/s]"
     ]
    },
    {
     "name": "stdout",
     "output_type": "stream",
     "text": [
      "\"Column(s) ['equal'] do not exist\"\n"
     ]
    },
    {
     "name": "stderr",
     "output_type": "stream",
     "text": [
      " 36%|██████████████████████████████████████████████████████▉                                                                                                   | 77/216 [00:34<01:40,  1.39it/s]"
     ]
    }
   ],
   "source": [
    "run = True\n",
    "if run:\n",
    "    analysises = []\n",
    "    for portfolio in tqdm(portfolios):\n",
    "        try:\n",
    "            trades = portfolio.trades(simulation.copy())\n",
    "            performance = portfolio.portfolio(trades.copy(),benchmark.copy())\n",
    "            metrics = Metrics.performance(trades,performance)\n",
    "            results = {**portfolio.to_dict(),**metrics.copy()}\n",
    "            results[\"portfolio\"] = portfolio\n",
    "            analysises.append(results)\n",
    "        except Exception as e:\n",
    "            print(str(e))\n",
    "            continue"
   ]
  },
  {
   "cell_type": "code",
   "execution_count": null,
   "id": "52720f5f-bd79-4d9c-ba27-08401d6e7cf1",
   "metadata": {
    "scrolled": true
   },
   "outputs": [],
   "source": [
    "a = pd.DataFrame(analysises)"
   ]
  },
  {
   "cell_type": "code",
   "execution_count": null,
   "id": "ffdcee08-f13c-497c-a627-b89480f8f437",
   "metadata": {},
   "outputs": [],
   "source": [
    "a[\"color\"] = [\"blue\" if x == \"top\" else \"red\" if x == \"bottom\"  else \"green\" for x in a[\"selection_type\"]]\n",
    "a[\"return_to_risk\"] = a[\"pnl\"] / a[\"portfolio_std\"]"
   ]
  },
  {
   "cell_type": "code",
   "execution_count": null,
   "id": "643181bd-7445-4a3c-a4d8-cb3ffb7b420a",
   "metadata": {},
   "outputs": [],
   "source": [
    "fig, axes = plt.subplots(1, 2, figsize=(12, 6), sharey=True)\n",
    "\n",
    "# Titles for each subplot\n",
    "titles = [\"Long\", \"Short\"]\n",
    "\n",
    "# Iterate over directions and corresponding axes\n",
    "for i, position_type in enumerate([\"long\", \"short\"]):\n",
    "    d_analysis = a[a[\"position_type\"] == position_type]\n",
    "    axes[i].scatter(\n",
    "        d_analysis[\"portfolio_std\"],\n",
    "        d_analysis[\"pnl\"],\n",
    "        c=d_analysis[\"color\"],\n",
    "        s=50,\n",
    "        alpha=0.8,\n",
    "        edgecolors=\"w\",\n",
    "    )\n",
    "    axes[i].set_title(titles[i])\n",
    "    axes[i].set_xlabel(\"return_to_risk\")\n",
    "    axes[i].set_ylabel(\"sharpe_ratio\" if i == 0 else \"\")  # Only label y-axis on the first plot\n",
    "\n",
    "# Adjust layout for better spacing\n",
    "plt.tight_layout()\n",
    "\n",
    "# Show the combined plot\n",
    "plt.show()"
   ]
  },
  {
   "cell_type": "code",
   "execution_count": null,
   "id": "735ed1bc-01f2-4e36-acb7-cab72ad2757f",
   "metadata": {},
   "outputs": [],
   "source": [
    "a.groupby(\"pnl\").first().reset_index().drop(\"date\",axis=1).sort_values(\"pnl\",ascending=False).head(20)"
   ]
  },
  {
   "cell_type": "code",
   "execution_count": null,
   "id": "fb63bbf6-0639-445b-aef4-44998e4f17fb",
   "metadata": {},
   "outputs": [],
   "source": [
    "top = a.sort_values(\"weekly_return\",ascending=False).head(1).to_dict(\"records\")[0]\n",
    "top"
   ]
  },
  {
   "cell_type": "code",
   "execution_count": null,
   "id": "1bef746e-1a59-467c-8252-15d65257bddd",
   "metadata": {},
   "outputs": [],
   "source": [
    "pm = top[\"portfolio\"]\n",
    "trades = pm.trades(simulation.copy()).merge(index[[\"ticker\",\"office\",\"sic_description\"]],on=\"ticker\",how=\"left\")\n",
    "trades = p.additional_date_columns(trades)\n",
    "portfolio = pm.portfolio(trades.copy(),benchmark.copy())\n",
    "portfolio = p.additional_date_columns(portfolio)"
   ]
  },
  {
   "cell_type": "code",
   "execution_count": null,
   "id": "fa25dd38-54ef-46d7-870c-3600752c58f0",
   "metadata": {},
   "outputs": [],
   "source": [
    "portfolio['Year-Quarter'] = portfolio[\"year\"].astype(str) + \"q\" + portfolio[\"quarter\"].astype(str)\n",
    "ax = portfolio[[\"Year-Quarter\",\"pnl\",\"benchmark_pnl\"]].set_index(\"Year-Quarter\").plot(\n",
    "    kind=\"line\",\n",
    "    figsize=(12, 6),\n",
    "    title=\"Mean Returns by Exposure per Year and Quarter\"\n",
    ")\n",
    "\n",
    "# Set y-axis to have more precise ticks\n",
    "ax.tick_params(axis='y', direction='in', length=6)  # Adjust y-tick direction and length\n",
    "ax.yaxis.set_major_formatter(plt.FuncFormatter(lambda x, _: f'{x:.4f}'))  # Format y-ticks with 4 decimal places\n",
    "\n",
    "# Move y-ticks to the right side\n",
    "ax.yaxis.set_tick_params(which='both', direction='inout', length=6, labelleft=False, labelright=True)\n",
    "\n",
    "# Optionally adjust the number of ticks for better precision\n",
    "ax.yaxis.set_major_locator(plt.MaxNLocator(integer=False, prune='both'))\n",
    "\n",
    "# Add grid lines\n",
    "ax.grid(True, which='both', axis='both', linestyle='--', linewidth=0.7)\n",
    "\n",
    "# Display the plot\n",
    "plt.tight_layout()\n",
    "plt.show()"
   ]
  },
  {
   "cell_type": "code",
   "execution_count": null,
   "id": "29ff3a2d-fa01-47bb-8c97-ce149d488acf",
   "metadata": {},
   "outputs": [],
   "source": [
    "portfolio.tail()"
   ]
  },
  {
   "cell_type": "code",
   "execution_count": null,
   "id": "36cf02b0-947e-445b-9f63-ff00e556ff0b",
   "metadata": {},
   "outputs": [],
   "source": [
    "trades[[\"office\",\"return\"]].groupby(\"office\").mean().sort_values(\"return\",ascending=False).tail(20)"
   ]
  }
 ],
 "metadata": {
  "kernelspec": {
   "display_name": "Python 3 (ipykernel)",
   "language": "python",
   "name": "python3"
  },
  "language_info": {
   "codemirror_mode": {
    "name": "ipython",
    "version": 3
   },
   "file_extension": ".py",
   "mimetype": "text/x-python",
   "name": "python",
   "nbconvert_exporter": "python",
   "pygments_lexer": "ipython3",
   "version": "3.11.9"
  }
 },
 "nbformat": 4,
 "nbformat_minor": 5
}
