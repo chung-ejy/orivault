{
 "cells": [
  {
   "cell_type": "code",
   "execution_count": 2,
   "id": "246c49f1-95ae-48c8-a1c2-a5c621cc768f",
   "metadata": {},
   "outputs": [],
   "source": [
    "## PATH settings\n",
    "import os\n",
    "import sys\n",
    "project_root = os.path.abspath(os.path.join(os.getcwd(), '../../'))\n",
    "sys.path.append(project_root)\n",
    "COMMON_PATH = os.path.join(project_root, 'common')"
   ]
  },
  {
   "cell_type": "code",
   "execution_count": 3,
   "id": "b3f7ffcc-42d9-4090-99b3-6479955e1a5f",
   "metadata": {},
   "outputs": [],
   "source": [
    "## Bespoke class imports\n",
    "from common.database.adatabase import ADatabase\n",
    "from common.processor.processor import Processor as p\n",
    "from financial_common.risk.rolling_factor_analysis import RollingFactorAnalysis\n",
    "from financial_common.risk.single_index_capm import SingleIndexCAPM\n",
    "from financial_common.indicator.indicator import Indicator\n",
    "from financial_common.risk.benchmark import Benchmark\n",
    "from financial_common.portfolio_management.kpi import KPI\n",
    "from financial_common.metric.metric import Metric\n",
    "from financial_common.portfolio_management.portfolio_selection import PortfolioSelection\n",
    "from financial_common.risk.risk_type import RiskType\n",
    "import numpy as np\n",
    "import matplotlib.pyplot as plt\n",
    "from mpl_toolkits.mplot3d import Axes3D"
   ]
  },
  {
   "cell_type": "code",
   "execution_count": 4,
   "id": "5e602193-3097-4687-bd19-00f3b8bff5d4",
   "metadata": {},
   "outputs": [],
   "source": [
    "## Import standard packages\n",
    "from datetime import timedelta\n",
    "import matplotlib.pyplot as plt\n",
    "from tqdm import tqdm\n",
    "import pandas as pd\n",
    "from time import sleep\n",
    "import copy"
   ]
  },
  {
   "cell_type": "code",
   "execution_count": 5,
   "id": "01317ec8-a56f-4e96-907f-3b07b4d80013",
   "metadata": {},
   "outputs": [],
   "source": [
    "market = ADatabase(\"market\")\n",
    "fred = ADatabase(\"fred\")\n",
    "orivault = ADatabase(\"ori\")"
   ]
  },
  {
   "cell_type": "code",
   "execution_count": 6,
   "id": "1e37c28f-be14-4d2d-b2fa-d36cbd588168",
   "metadata": {},
   "outputs": [],
   "source": [
    "## Retrieve existing stocks \n",
    "market.connect()\n",
    "index = market.retrieve(\"index\")\n",
    "market.disconnect()"
   ]
  },
  {
   "cell_type": "code",
   "execution_count": 7,
   "id": "06a6d3b3-44e8-4c3c-b39d-074c98f8ab76",
   "metadata": {},
   "outputs": [],
   "source": [
    "## Defining Benchmark\n",
    "market.connect()\n",
    "benchmark = market.query(\"prices\",{\"ticker\":\"JPM\"})\n",
    "market.disconnect()\n",
    "benchmark = Benchmark.convert_to_benchmark(benchmark,\"adjclose\")"
   ]
  },
  {
   "cell_type": "code",
   "execution_count": 111,
   "id": "eb7133b8-a899-4282-b201-f5e8869ad634",
   "metadata": {},
   "outputs": [],
   "source": [
    "portfolios = PortfolioSelection.generate_possible_portfolios(num_of_groups=[1,5,10])\n",
    "filtered_portfolios = []\n",
    "for portfolio in portfolios:\n",
    "        if portfolio.timeframe.value == \"week\" and portfolio.position_type.label == \"long\" and portfolio.selection_type.label != \"long_short\" and portfolio.allocation_type.label == \"equal\":\n",
    "            filtered_portfolios.append(portfolio)"
   ]
  },
  {
   "cell_type": "code",
   "execution_count": 112,
   "id": "6a55fbeb-3aa8-48f1-a53b-419d0e725239",
   "metadata": {},
   "outputs": [
    {
     "data": {
      "text/plain": [
       "810"
      ]
     },
     "execution_count": 112,
     "metadata": {},
     "output_type": "execute_result"
    }
   ],
   "source": [
    "additional_portfolios = []\n",
    "for portfolio in filtered_portfolios:\n",
    "    for member in Indicator:\n",
    "        if member.label != \"optimal\":\n",
    "            pm = copy.deepcopy(portfolio)\n",
    "            pm.ranking_metric = member.label\n",
    "            additional_portfolios.append(pm)\n",
    "len(additional_portfolios)"
   ]
  },
  {
   "cell_type": "code",
   "execution_count": 86,
   "id": "09587a4a-c54f-458c-ac5f-bca6b33405ff",
   "metadata": {},
   "outputs": [
    {
     "name": "stderr",
     "output_type": "stream",
     "text": [
      "100%|█████████████████████████████████████████████████████████████████████████████████████████████████████████████████████████████████████████████████████| 11261/11261 [02:38<00:00, 71.24it/s]\n"
     ]
    }
   ],
   "source": [
    "rolling_window = 20\n",
    "market.connect()\n",
    "prices = []\n",
    "for ticker in tqdm(index[\"ticker\"]): \n",
    "    try:\n",
    "        price = market.query(\"prices\", {\"ticker\": ticker})\n",
    "        if price.index.size > 150:\n",
    "            price = p.lower_column(price)\n",
    "            price = p.utc_date(price)\n",
    "            price.sort_values(\"date\", inplace=True)\n",
    "            price = p.additional_date_columns(price)\n",
    "            for member in Metric:\n",
    "                price = member.calculate(price,timeframe=rolling_window)\n",
    "            for member in Indicator:\n",
    "                price = member.calculate(price,timeframe=rolling_window)\n",
    "            for member in RiskType:\n",
    "                price = member.apply(price)\n",
    "            prices.append(price.dropna())\n",
    "    except Exception as e:\n",
    "        print(str(e))\n",
    "        continue\n",
    "market.disconnect()"
   ]
  },
  {
   "cell_type": "code",
   "execution_count": 87,
   "id": "2212583d-6a1c-4721-a689-1bcaad1d5b2d",
   "metadata": {},
   "outputs": [],
   "source": [
    "model_end = 2020\n",
    "backtest_end = 2026\n",
    "simulation = pd.concat(prices)\n",
    "simulation = simulation[(simulation[\"year\"]>=model_end) & (simulation[\"year\"]<backtest_end)]\n",
    "simulation.sort_values(\"date\", inplace=True)"
   ]
  },
  {
   "cell_type": "code",
   "execution_count": null,
   "id": "42cd7230-3773-4cfc-bfce-31664263cfa1",
   "metadata": {
    "scrolled": true
   },
   "outputs": [
    {
     "name": "stderr",
     "output_type": "stream",
     "text": [
      "  0%|                                                                                                                                                                     | 0/3 [00:00<?, ?it/s]\n",
      "  0%|                                                                                                                                                                     | 0/3 [00:00<?, ?it/s]\u001b[A\n",
      " 33%|████████████████████████████████████████████████████▎                                                                                                        | 1/3 [01:26<02:52, 86.34s/it]\u001b[A"
     ]
    }
   ],
   "source": [
    "analysises = []\n",
    "for min_price in tqdm([0,1,10]):\n",
    "    for max_price in tqdm([1,10,50]):\n",
    "        filtered_simulation = simulation[(simulation[\"adjclose\"]<=max_price) & (simulation[\"adjclose\"]>=min_price)].copy()\n",
    "        if filtered_simulation.index.size > 0:\n",
    "            for portfolio in additional_portfolios:\n",
    "                try:\n",
    "                    trades = portfolio.trades(filtered_simulation.copy())\n",
    "                    performance = portfolio.portfolio(trades.copy(),benchmark.copy())\n",
    "                    metrics = KPI.performance(trades,performance)\n",
    "                    results = {**portfolio.to_dict(),**metrics.copy()}\n",
    "                    results[\"portfolio\"] = portfolio\n",
    "                    results[\"rolling_window\"] = rolling_window\n",
    "                    results[\"max_price\"] = max_price\n",
    "                    results[\"min_price\"] = min_price\n",
    "                    analysises.append(results)\n",
    "                except Exception as e:\n",
    "                    print(str(e))\n",
    "                    continue"
   ]
  },
  {
   "cell_type": "code",
   "execution_count": null,
   "id": "17210ee4-6797-4bc2-842b-541b4c21027c",
   "metadata": {},
   "outputs": [],
   "source": [
    "a = pd.DataFrame(analysises)"
   ]
  },
  {
   "cell_type": "code",
   "execution_count": null,
   "id": "cb3307ce-09a2-4d09-9be1-7965c1fcd8d6",
   "metadata": {},
   "outputs": [],
   "source": [
    "metric = \"raw_pnl\"\n",
    "filtered_a = a.drop([\"date\",\"risk_type\",\"timeframe\",\"allocation_type\",\"selection_percentage\"],axis=1).sort_values(metric,ascending=False)\n",
    "top = a.sort_values(metric,ascending=False).head(20).to_dict(\"records\")[0]\n",
    "filtered_a.head(20)"
   ]
  },
  {
   "cell_type": "code",
   "execution_count": null,
   "id": "eee3b894-703e-46bd-9f14-3216ab7f4267",
   "metadata": {},
   "outputs": [],
   "source": [
    "# orivault.cloud_connect()\n",
    "# orivault.drop(\"results\")\n",
    "# orivault.store(\"results\",pd.DataFrame([top]).drop(\"portfolio\",axis=1))\n",
    "# orivault.disconnect()"
   ]
  },
  {
   "cell_type": "code",
   "execution_count": null,
   "id": "c49245a2-f372-487a-9ec0-824f0319adc6",
   "metadata": {},
   "outputs": [],
   "source": [
    "a[\"color\"] = [\"blue\" if x == \"top\" else \"red\" if x == \"bottom\"  else \"green\" for x in a[\"selection_type\"]]\n",
    "a[\"return_to_risk\"] = a[\"pnl\"] / a[\"portfolio_std\"]"
   ]
  },
  {
   "cell_type": "code",
   "execution_count": null,
   "id": "d0b82c5c-903b-45b2-8fd6-93ed5e7baafd",
   "metadata": {},
   "outputs": [],
   "source": [
    "fig, axes = plt.subplots(1, 2, figsize=(12, 6), sharey=True)\n",
    "\n",
    "# Titles for each subplot\n",
    "titles = [\"Long\", \"Short\"]\n",
    "\n",
    "# Iterate over directions and corresponding axes\n",
    "for i, position_type in enumerate([\"long\", \"short\"]):\n",
    "    d_analysis = a[a[\"position_type\"] == position_type]\n",
    "    axes[i].scatter(\n",
    "        d_analysis[\"portfolio_std\"],\n",
    "        d_analysis[\"pnl\"],\n",
    "        c=d_analysis[\"color\"],\n",
    "        alpha=0.8,\n",
    "        edgecolors=\"w\",\n",
    "    )\n",
    "    axes[i].set_title(titles[i])\n",
    "    axes[i].set_xlabel(\"return_to_risk\")\n",
    "    axes[i].set_ylabel(\"sharpe_ratio\" if i == 0 else \"\")  # Only label y-axis on the first plot\n",
    "\n",
    "# Adjust layout for better spacing\n",
    "plt.tight_layout()\n",
    "\n",
    "# Show the combined plot\n",
    "plt.show()"
   ]
  },
  {
   "cell_type": "code",
   "execution_count": null,
   "id": "b234db94-0cf4-400f-a020-67a4d052f7c0",
   "metadata": {},
   "outputs": [],
   "source": [
    "pm = top[\"portfolio\"]\n",
    "filtered_simulation = simulation[(simulation[\"adjclose\"]<=top[\"max_price\"]) & (simulation[\"adjclose\"]>=top[\"min_price\"])]\n",
    "trades = pm.trades(filtered_simulation.copy())\n",
    "trades = p.additional_date_columns(trades)\n",
    "portfolio = pm.portfolio(trades.copy(),benchmark.copy())\n",
    "portfolio = p.additional_date_columns(portfolio)"
   ]
  },
  {
   "cell_type": "code",
   "execution_count": null,
   "id": "0e6822cf-c157-4ded-9464-7913982a0fb6",
   "metadata": {},
   "outputs": [],
   "source": [
    "portfolio['Year-Month'] = portfolio[\"year\"].astype(str) + \"m\" + portfolio[\"month\"].astype(str)\n",
    "ax = portfolio[[\"Year-Month\",\"raw_pnl\",\"benchmark_pnl\"]].set_index(\"Year-Month\").plot(\n",
    "    kind=\"line\",\n",
    "    figsize=(12, 6),\n",
    "    title=\"Mean Returns by Exposure per Year and Quarter\"\n",
    ")\n",
    "\n",
    "# Set y-axis to have more precise ticks\n",
    "ax.tick_params(axis='y', direction='in', length=6)  # Adjust y-tick direction and length\n",
    "ax.yaxis.set_major_formatter(plt.FuncFormatter(lambda x, _: f'{x:.4f}'))  # Format y-ticks with 4 decimal places\n",
    "\n",
    "# Move y-ticks to the right side\n",
    "ax.yaxis.set_tick_params(which='both', direction='inout', length=6, labelleft=False, labelright=True)\n",
    "\n",
    "# Optionally adjust the number of ticks for better precision\n",
    "ax.yaxis.set_major_locator(plt.MaxNLocator(integer=False, prune='both'))\n",
    "\n",
    "# Add grid lines\n",
    "ax.grid(True, which='both', axis='both', linestyle='--', linewidth=0.7)\n",
    "\n",
    "# Display the plot\n",
    "plt.tight_layout()\n",
    "plt.show()"
   ]
  },
  {
   "cell_type": "code",
   "execution_count": null,
   "id": "e0b25cda-add7-4959-b688-17694e72e7d6",
   "metadata": {},
   "outputs": [],
   "source": [
    "trades[[\"group_percentile\",\"return\"]].groupby(\"group_percentile\").mean().sort_values(\"return\",ascending=False)"
   ]
  },
  {
   "cell_type": "code",
   "execution_count": null,
   "id": "5723e18a-3802-43a0-b551-30bc0c255a9d",
   "metadata": {},
   "outputs": [],
   "source": [
    "len(filtered_simulation[\"ticker\"].unique())"
   ]
  },
  {
   "cell_type": "code",
   "execution_count": null,
   "id": "ade9fb1b-5b1d-4dcd-8706-82fa610ae6eb",
   "metadata": {},
   "outputs": [],
   "source": [
    "trades.sort_values([\"date\",\"group_percentile\"],ascending=False).dropna().head(40)"
   ]
  },
  {
   "cell_type": "code",
   "execution_count": null,
   "id": "4c48655c-8859-4605-9c69-3bcbf82e7dd2",
   "metadata": {},
   "outputs": [],
   "source": [
    "portfolio.sort_values(\"date\",ascending=False).head(40)"
   ]
  }
 ],
 "metadata": {
  "kernelspec": {
   "display_name": "Python 3 (ipykernel)",
   "language": "python",
   "name": "python3"
  },
  "language_info": {
   "codemirror_mode": {
    "name": "ipython",
    "version": 3
   },
   "file_extension": ".py",
   "mimetype": "text/x-python",
   "name": "python",
   "nbconvert_exporter": "python",
   "pygments_lexer": "ipython3",
   "version": "3.11.9"
  }
 },
 "nbformat": 4,
 "nbformat_minor": 5
}
