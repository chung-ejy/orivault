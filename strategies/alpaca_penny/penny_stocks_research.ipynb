{
 "cells": [
  {
   "cell_type": "code",
   "execution_count": 84,
   "id": "246c49f1-95ae-48c8-a1c2-a5c621cc768f",
   "metadata": {},
   "outputs": [
    {
     "name": "stdout",
     "output_type": "stream",
     "text": [
      "The autoreload extension is already loaded. To reload it, use:\n",
      "  %reload_ext autoreload\n"
     ]
    }
   ],
   "source": [
    "## PATH settings\n",
    "import os\n",
    "import sys\n",
    "project_root = os.path.abspath(os.path.join(os.getcwd(), '../../'))\n",
    "sys.path.append(project_root)\n",
    "COMMON_PATH = os.path.join(project_root, 'common')\n",
    "%load_ext autoreload\n",
    "%autoreload 2"
   ]
  },
  {
   "cell_type": "code",
   "execution_count": 85,
   "id": "b3f7ffcc-42d9-4090-99b3-6479955e1a5f",
   "metadata": {},
   "outputs": [],
   "source": [
    "## Bespoke class imports\n",
    "from common.database.adatabase import ADatabase\n",
    "from common.processor.processor import Processor as p\n",
    "from financial_common.risk.benchmark import Benchmark\n",
    "from financial_common.portfolio_management.kpi import KPI\n",
    "from financial_common.metric.metric import Metric\n",
    "from financial_common.portfolio_management.portfolio_selection import PortfolioSelection\n",
    "from financial_common.risk.risk_type import RiskType\n",
    "from financial_common.indicator.indicator import Indicator\n",
    "import numpy as np\n",
    "import matplotlib.pyplot as plt\n",
    "from mpl_toolkits.mplot3d import Axes3D\n",
    "from scipy.stats.mstats import winsorize"
   ]
  },
  {
   "cell_type": "code",
   "execution_count": 86,
   "id": "5e602193-3097-4687-bd19-00f3b8bff5d4",
   "metadata": {},
   "outputs": [],
   "source": [
    "## Import standard packages\n",
    "from datetime import timedelta, datetime, timezone\n",
    "import matplotlib.pyplot as plt\n",
    "from tqdm import tqdm\n",
    "import pandas as pd\n",
    "from time import sleep\n",
    "import copy"
   ]
  },
  {
   "cell_type": "code",
   "execution_count": 87,
   "id": "01317ec8-a56f-4e96-907f-3b07b4d80013",
   "metadata": {},
   "outputs": [],
   "source": [
    "market = ADatabase(\"market\")\n",
    "fred = ADatabase(\"fred\")\n",
    "orivault = ADatabase(\"ori\")"
   ]
  },
  {
   "cell_type": "code",
   "execution_count": 88,
   "id": "1e37c28f-be14-4d2d-b2fa-d36cbd588168",
   "metadata": {},
   "outputs": [],
   "source": [
    "## Retrieve existing stocks \n",
    "market.connect()\n",
    "index = market.retrieve(\"index\")\n",
    "market.disconnect()"
   ]
  },
  {
   "cell_type": "code",
   "execution_count": 89,
   "id": "06a6d3b3-44e8-4c3c-b39d-074c98f8ab76",
   "metadata": {},
   "outputs": [],
   "source": [
    "## Defining Benchmark\n",
    "market.connect()\n",
    "benchmark = market.query(\"prices\",{\"ticker\":\"JPM\"})\n",
    "market.disconnect()\n",
    "benchmark = Benchmark.convert_to_benchmark(benchmark,\"adjclose\")"
   ]
  },
  {
   "cell_type": "code",
   "execution_count": 191,
   "id": "09587a4a-c54f-458c-ac5f-bca6b33405ff",
   "metadata": {},
   "outputs": [
    {
     "name": "stderr",
     "output_type": "stream",
     "text": [
      "100%|██████████████████████████████████████████████████████████████████████████████████████████████████████████████████████████████████████████████| 11273/11273 [02:55<00:00, 64.25it/s]\n"
     ]
    }
   ],
   "source": [
    "rolling_window = 10\n",
    "market.connect()\n",
    "prices = []\n",
    "skips = 1\n",
    "model_end = 2021\n",
    "backtest_end = 2025\n",
    "for ticker in tqdm(index[\"ticker\"][::skips]): \n",
    "    try:\n",
    "        price = market.query(\"prices\", {\"ticker\": ticker})\n",
    "        if price.index.size > 150:\n",
    "            price = p.lower_column(price)\n",
    "            price = p.utc_date(price)\n",
    "            price = p.additional_date_columns(price)\n",
    "            price = price[(price[\"date\"]>=datetime(model_end-1,12,31,tzinfo=timezone.utc)-timedelta(days=rolling_window*2)) & (price[\"year\"]<backtest_end)]\n",
    "            price.sort_values(\"date\", inplace=True)\n",
    "            price[\"dividend\"] = 0\n",
    "            price[\"coefficient_of_variation\"] = 1\n",
    "            price = Metric.MARKETCAP.calculate(price,timeframe=rolling_window,live=False)\n",
    "            price = Metric.STANDARD_DEV.calculate(price,timeframe=rolling_window)\n",
    "            price = Metric.NEXT_CLOSE.calculate(price,timeframe=rolling_window)\n",
    "            price = Metric.NEXT_OPEN.calculate(price,timeframe=rolling_window)\n",
    "            prices.append(price.dropna())\n",
    "    except Exception as e:\n",
    "        print(str(e))\n",
    "        continue\n",
    "market.disconnect()"
   ]
  },
  {
   "cell_type": "code",
   "execution_count": 192,
   "id": "eb7133b8-a899-4282-b201-f5e8869ad634",
   "metadata": {},
   "outputs": [],
   "source": [
    "portfolios = PortfolioSelection.generate_possible_portfolios(\n",
    "                                                            ranking_metrics=[\n",
    "                                                                \"option_price\"\n",
    "                                                            ]\n",
    "                                                            ,num_of_groups=[1]\n",
    "                                                            ,group_percentages=[1]\n",
    "                                                            ,max_prices=[1]\n",
    "                                                            ,min_prices=[0.1]\n",
    "                                                            ,max_market_caps = [10000000]\n",
    "                                                            ,min_market_caps = [1000000]\n",
    "                                                            ,stoplosses=[1]\n",
    "                                                            ,rolling_windows=[rolling_window]\n",
    "                                                            ,leverages=[1]\n",
    "                                                            )\n",
    "filtered_portfolios = []\n",
    "for portfolio in portfolios:\n",
    "    if portfolio.timeframe.value == \"day\" and \"blacklist\" in portfolio.selection_type.label \\\n",
    "        and portfolio.allocation_type.label == \"equal\" \\\n",
    "        and portfolio.ranking_metric != \"optimal\" \\\n",
    "        and portfolio.grouping_type.value == \"standard_dev\" \\\n",
    "        and portfolio.position_type.label == \"long\" and portfolio.max_price > portfolio.min_price:\n",
    "        filtered_portfolios.append(portfolio)"
   ]
  },
  {
   "cell_type": "code",
   "execution_count": 193,
   "id": "42cd7230-3773-4cfc-bfce-31664263cfa1",
   "metadata": {
    "scrolled": true
   },
   "outputs": [
    {
     "name": "stderr",
     "output_type": "stream",
     "text": [
      "100%|██████████████████████████████████████████████████████████████████████████████████████████████████████████████████████████████████████████████████████| 2/2 [02:14<00:00, 67.20s/it]\n"
     ]
    }
   ],
   "source": [
    "from financial_common.indicator.indicator import Indicator\n",
    "analysises = []\n",
    "for portfolio in tqdm(filtered_portfolios):\n",
    "    try:\n",
    "        indicator_class = Indicator.indicator_type_factory(portfolio.ranking_metric)\n",
    "        simulation = pd.concat(prices)\n",
    "        simulation = simulation.sort_values(\"date\")\n",
    "        simulation = simulation.groupby(\"ticker\").apply(lambda x: indicator_class.calculate(x, portfolio.rolling_window,live=False)).reset_index(drop=True).dropna()\n",
    "        trades = portfolio.trades(simulation.copy())\n",
    "        trades = p.additional_date_columns(trades)\n",
    "        trades.sort_values(\"date\")\n",
    "        performance = portfolio.portfolio(trades.copy(),benchmark.copy())\n",
    "        metrics = KPI.performance(trades,performance)\n",
    "        results = {**portfolio.to_dict(),**metrics.copy()}\n",
    "        results[\"portfolio\"] = portfolio\n",
    "        analysises.append(results)\n",
    "    except Exception as e:\n",
    "        print(str(e))\n",
    "        continue"
   ]
  },
  {
   "cell_type": "code",
   "execution_count": 194,
   "id": "17210ee4-6797-4bc2-842b-541b4c21027c",
   "metadata": {},
   "outputs": [],
   "source": [
    "a = pd.DataFrame(analysises)"
   ]
  },
  {
   "cell_type": "code",
   "execution_count": 195,
   "id": "cb3307ce-09a2-4d09-9be1-7965c1fcd8d6",
   "metadata": {},
   "outputs": [
    {
     "data": {
      "text/html": [
       "<div>\n",
       "<style scoped>\n",
       "    .dataframe tbody tr th:only-of-type {\n",
       "        vertical-align: middle;\n",
       "    }\n",
       "\n",
       "    .dataframe tbody tr th {\n",
       "        vertical-align: top;\n",
       "    }\n",
       "\n",
       "    .dataframe thead th {\n",
       "        text-align: right;\n",
       "    }\n",
       "</style>\n",
       "<table border=\"1\" class=\"dataframe\">\n",
       "  <thead>\n",
       "    <tr style=\"text-align: right;\">\n",
       "      <th></th>\n",
       "      <th>ranking_metric</th>\n",
       "      <th>position_type</th>\n",
       "      <th>grouping_type</th>\n",
       "      <th>selection_type</th>\n",
       "      <th>allocation_type</th>\n",
       "      <th>stoploss</th>\n",
       "      <th>num_of_groups</th>\n",
       "      <th>max_price</th>\n",
       "      <th>min_price</th>\n",
       "      <th>leverage</th>\n",
       "      <th>pnl</th>\n",
       "      <th>raw_pnl</th>\n",
       "      <th>downside</th>\n",
       "      <th>coefficient_of_variation</th>\n",
       "      <th>portfolio_std</th>\n",
       "      <th>sharpe_ratio</th>\n",
       "      <th>tracking_error</th>\n",
       "      <th>information_ratio</th>\n",
       "    </tr>\n",
       "  </thead>\n",
       "  <tbody>\n",
       "    <tr>\n",
       "      <th>0</th>\n",
       "      <td>option_price</td>\n",
       "      <td>long</td>\n",
       "      <td>STANDARD_DEV</td>\n",
       "      <td>top_blacklist</td>\n",
       "      <td>equal</td>\n",
       "      <td>1</td>\n",
       "      <td>1</td>\n",
       "      <td>1</td>\n",
       "      <td>0.1</td>\n",
       "      <td>1</td>\n",
       "      <td>1.034666</td>\n",
       "      <td>77491.041724</td>\n",
       "      <td>0.999602</td>\n",
       "      <td>102.423573</td>\n",
       "      <td>0.010102</td>\n",
       "      <td>-84.458442</td>\n",
       "      <td>0.268290</td>\n",
       "      <td>-3.180081</td>\n",
       "    </tr>\n",
       "    <tr>\n",
       "      <th>1</th>\n",
       "      <td>option_price</td>\n",
       "      <td>long</td>\n",
       "      <td>STANDARD_DEV</td>\n",
       "      <td>bottom_blacklist</td>\n",
       "      <td>equal</td>\n",
       "      <td>1</td>\n",
       "      <td>1</td>\n",
       "      <td>1</td>\n",
       "      <td>0.1</td>\n",
       "      <td>1</td>\n",
       "      <td>1.013138</td>\n",
       "      <td>3.442896</td>\n",
       "      <td>0.999770</td>\n",
       "      <td>230.932954</td>\n",
       "      <td>0.004387</td>\n",
       "      <td>-199.380497</td>\n",
       "      <td>0.271491</td>\n",
       "      <td>-3.221880</td>\n",
       "    </tr>\n",
       "  </tbody>\n",
       "</table>\n",
       "</div>"
      ],
      "text/plain": [
       "  ranking_metric position_type grouping_type    selection_type  \\\n",
       "0   option_price          long  STANDARD_DEV     top_blacklist   \n",
       "1   option_price          long  STANDARD_DEV  bottom_blacklist   \n",
       "\n",
       "  allocation_type  stoploss  num_of_groups  max_price  min_price  leverage  \\\n",
       "0           equal         1              1          1        0.1         1   \n",
       "1           equal         1              1          1        0.1         1   \n",
       "\n",
       "        pnl       raw_pnl  downside  coefficient_of_variation  portfolio_std  \\\n",
       "0  1.034666  77491.041724  0.999602                102.423573       0.010102   \n",
       "1  1.013138      3.442896  0.999770                230.932954       0.004387   \n",
       "\n",
       "   sharpe_ratio  tracking_error  information_ratio  \n",
       "0    -84.458442        0.268290          -3.180081  \n",
       "1   -199.380497        0.271491          -3.221880  "
      ]
     },
     "execution_count": 195,
     "metadata": {},
     "output_type": "execute_result"
    }
   ],
   "source": [
    "metric = \"raw_pnl\"\n",
    "dropped_columns = [\"date\",\"risk_type\",\"max_market_cap\",\"min_market_cap\",\"timeframe\",\"selection_percentage\",\"rolling_window\",\"portfolio\"]\n",
    "filtered_a = a.drop(dropped_columns,axis=1).sort_values(metric,ascending=False)\n",
    "top = a.sort_values(metric,ascending=False).head(20).to_dict(\"records\")[0]\n",
    "filtered_a.head(20)"
   ]
  },
  {
   "cell_type": "code",
   "execution_count": 196,
   "id": "b234db94-0cf4-400f-a020-67a4d052f7c0",
   "metadata": {},
   "outputs": [],
   "source": [
    "pm = top[\"portfolio\"]\n",
    "trades = pm.trades(simulation.copy())\n",
    "trades = p.additional_date_columns(trades).sort_values(\"date\")\n",
    "portfolio = pm.portfolio(trades,benchmark)\n",
    "trades[\"derpclose\"] = trades[\"adjclose\"].round(1)"
   ]
  },
  {
   "cell_type": "code",
   "execution_count": 197,
   "id": "34f1412c-48a8-4860-8248-2e3ac3965d7e",
   "metadata": {},
   "outputs": [
    {
     "data": {
      "text/html": [
       "<div>\n",
       "<style scoped>\n",
       "    .dataframe tbody tr th:only-of-type {\n",
       "        vertical-align: middle;\n",
       "    }\n",
       "\n",
       "    .dataframe tbody tr th {\n",
       "        vertical-align: top;\n",
       "    }\n",
       "\n",
       "    .dataframe thead th {\n",
       "        text-align: right;\n",
       "    }\n",
       "</style>\n",
       "<table border=\"1\" class=\"dataframe\">\n",
       "  <thead>\n",
       "    <tr style=\"text-align: right;\">\n",
       "      <th></th>\n",
       "      <th>adjclose</th>\n",
       "      <th>option_price</th>\n",
       "      <th>unweighted_return</th>\n",
       "    </tr>\n",
       "  </thead>\n",
       "  <tbody>\n",
       "    <tr>\n",
       "      <th>adjclose</th>\n",
       "      <td>1.000000</td>\n",
       "      <td>-0.122992</td>\n",
       "      <td>0.008516</td>\n",
       "    </tr>\n",
       "    <tr>\n",
       "      <th>option_price</th>\n",
       "      <td>-0.122992</td>\n",
       "      <td>1.000000</td>\n",
       "      <td>0.026281</td>\n",
       "    </tr>\n",
       "    <tr>\n",
       "      <th>unweighted_return</th>\n",
       "      <td>0.008516</td>\n",
       "      <td>0.026281</td>\n",
       "      <td>1.000000</td>\n",
       "    </tr>\n",
       "  </tbody>\n",
       "</table>\n",
       "</div>"
      ],
      "text/plain": [
       "                   adjclose  option_price  unweighted_return\n",
       "adjclose           1.000000     -0.122992           0.008516\n",
       "option_price      -0.122992      1.000000           0.026281\n",
       "unweighted_return  0.008516      0.026281           1.000000"
      ]
     },
     "execution_count": 197,
     "metadata": {},
     "output_type": "execute_result"
    }
   ],
   "source": [
    "trades[[\"adjclose\",\"option_price\",\"unweighted_return\"]].corr()"
   ]
  },
  {
   "cell_type": "code",
   "execution_count": 198,
   "id": "34b91a3e-9aa5-418a-bf8d-7b2375e6b659",
   "metadata": {},
   "outputs": [
    {
     "data": {
      "text/plain": [
       "derpclose\n",
       "0.2    0.993155\n",
       "0.6    1.000510\n",
       "0.5    1.001848\n",
       "1.0    1.005289\n",
       "0.4    1.010281\n",
       "0.7    1.019484\n",
       "0.9    1.023111\n",
       "0.3    1.053662\n",
       "0.1    1.080104\n",
       "0.8    1.095663\n",
       "Name: unweighted_return, dtype: float64"
      ]
     },
     "execution_count": 198,
     "metadata": {},
     "output_type": "execute_result"
    }
   ],
   "source": [
    "trades.groupby(\"derpclose\")[\"unweighted_return\"].mean().sort_values().tail(50)"
   ]
  },
  {
   "cell_type": "code",
   "execution_count": 204,
   "id": "136c89ed-0b0d-401f-bac3-7141ca0102f5",
   "metadata": {},
   "outputs": [
    {
     "data": {
      "image/png": "[encoded data removed]",
      "text/plain": [
       "<Figure size 640x480 with 1 Axes>"
      ]
     },
     "metadata": {},
     "output_type": "display_data"
    }
   ],
   "source": [
    "portfolio[\"weekday\"] = portfolio[\"date\"].dt.weekday\n",
    "portfolio[\"month\"] = portfolio[\"date\"].dt.month\n",
    "portfolio[\"week\"] = [x.week for x in portfolio[\"date\"]]\n",
    "portfolio[\"month_day\"] = portfolio[\"date\"].dt.day\n",
    "\n",
    "metric = \"month_day\"\n",
    "view = portfolio.groupby(metric).mean().reset_index().sort_values(metric)\n",
    "view[\"raw_pnl\"] = view[\"weighted_return\"].cumprod()\n",
    "plt.plot(view[metric],view[\"raw_pnl\"])\n",
    "plt.show()"
   ]
  },
  {
   "cell_type": "code",
   "execution_count": 205,
   "id": "035be375-d0e9-4bd0-aebd-c5e5df566a35",
   "metadata": {},
   "outputs": [
    {
     "data": {
      "image/png": "[encoded data removed]",
      "text/plain": [
       "<Figure size 640x480 with 1 Axes>"
      ]
     },
     "metadata": {},
     "output_type": "display_data"
    }
   ],
   "source": [
    "plt.scatter(trades[\"market_cap\"],trades[\"option_price\"],s=1)\n",
    "plt.show()"
   ]
  },
  {
   "cell_type": "code",
   "execution_count": 206,
   "id": "eee3b894-703e-46bd-9f14-3216ab7f4267",
   "metadata": {},
   "outputs": [],
   "source": [
    "orivault.connect()\n",
    "orivault.drop(\"results\")\n",
    "orivault.store(\"results\",pd.DataFrame([top]).drop(\"portfolio\",axis=1))\n",
    "orivault.disconnect()"
   ]
  }
 ],
 "metadata": {
  "kernelspec": {
   "display_name": "Python 3 (ipykernel)",
   "language": "python",
   "name": "python3"
  },
  "language_info": {
   "codemirror_mode": {
    "name": "ipython",
    "version": 3
   },
   "file_extension": ".py",
   "mimetype": "text/x-python",
   "name": "python",
   "nbconvert_exporter": "python",
   "pygments_lexer": "ipython3",
   "version": "3.11.0"
  }
 },
 "nbformat": 4,
 "nbformat_minor": 5
}
