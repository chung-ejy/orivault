{
 "cells": [
  {
   "cell_type": "code",
   "execution_count": 1,
   "id": "0646663a-1afe-4cbc-a33d-e018d7933d9e",
   "metadata": {},
   "outputs": [],
   "source": [
    "## PATH settings\n",
    "import os\n",
    "import sys\n",
    "project_root = os.path.abspath(os.path.join(os.getcwd(), '../../'))\n",
    "sys.path.append(project_root)\n",
    "COMMON_PATH = os.path.join(project_root, 'common')\n",
    "from common.extractor.alpaca_extractor import AlpacaExtractor\n",
    "from common.processor.utils import Utils\n",
    "from datetime import timedelta\n",
    "from piboufilings import get_filings\n",
    "import pandas as pd\n",
    "from tqdm import tqdm\n",
    "import matplotlib.pyplot as plt\n",
    "import requests as r\n",
    "from common.database.adatabase import ADatabase"
   ]
  },
  {
   "cell_type": "code",
   "execution_count": 2,
   "id": "83d416e0-1ed4-4170-9d7b-534af9419d93",
   "metadata": {},
   "outputs": [],
   "source": [
    "alp = AlpacaExtractor(paper=False)"
   ]
  },
  {
   "cell_type": "code",
   "execution_count": 3,
   "id": "53fb6ffd-2530-474f-915a-ddde2d18e528",
   "metadata": {},
   "outputs": [
    {
     "name": "stderr",
     "output_type": "stream",
     "text": [
      " 14%|██████████████████████████████▌                                                                                                                                                                                       | 1/7 [00:05<00:31,  5.23s/it]"
     ]
    },
    {
     "name": "stdout",
     "output_type": "stream",
     "text": [
      "cannot access local variable 'all_parsed_dataframes' where it is not associated with a value\n"
     ]
    },
    {
     "name": "stderr",
     "output_type": "stream",
     "text": [
      "\n",
      "Processing CIKs for 13F-HR:   0%|                                                                                                                                                                                                  | 0/1 [00:00<?, ?it/s]\u001b[A\n",
      "Processing CIKs for 13F-HR: 100%|██████████████████████████████████████████████████████████████████████████████████████████████████████████████████████████████████████████████████████████████████████████████████████████| 1/1 [00:05<00:00,  5.32s/it]\u001b[A\n",
      " 43%|███████████████████████████████████████████████████████████████████████████████████████████▋                                                                                                                          | 3/7 [00:20<00:27,  6.90s/it]"
     ]
    },
    {
     "name": "stdout",
     "output_type": "stream",
     "text": [
      "cannot access local variable 'all_parsed_dataframes' where it is not associated with a value\n"
     ]
    },
    {
     "name": "stderr",
     "output_type": "stream",
     "text": [
      " 57%|██████████████████████████████████████████████████████████████████████████████████████████████████████████████████████████▎                                                                                           | 4/7 [00:26<00:19,  6.35s/it]"
     ]
    },
    {
     "name": "stdout",
     "output_type": "stream",
     "text": [
      "cannot access local variable 'all_parsed_dataframes' where it is not associated with a value\n"
     ]
    },
    {
     "name": "stderr",
     "output_type": "stream",
     "text": [
      " 71%|████████████████████████████████████████████████████████████████████████████████████████████████████████████████████████████████████████████████████████▊                                                             | 5/7 [00:32<00:12,  6.14s/it]"
     ]
    },
    {
     "name": "stdout",
     "output_type": "stream",
     "text": [
      "cannot access local variable 'all_parsed_dataframes' where it is not associated with a value\n"
     ]
    },
    {
     "name": "stderr",
     "output_type": "stream",
     "text": [
      " 86%|███████████████████████████████████████████████████████████████████████████████████████████████████████████████████████████████████████████████████████████████████████████████████████▍                              | 6/7 [00:37<00:05,  5.90s/it]"
     ]
    },
    {
     "name": "stdout",
     "output_type": "stream",
     "text": [
      "cannot access local variable 'all_parsed_dataframes' where it is not associated with a value\n"
     ]
    },
    {
     "name": "stderr",
     "output_type": "stream",
     "text": [
      "100%|██████████████████████████████████████████████████████████████████████████████████████████████████████████████████████████████████████████████████████████████████████████████████████████████████████████████████████| 7/7 [00:43<00:00,  6.23s/it]"
     ]
    },
    {
     "name": "stdout",
     "output_type": "stream",
     "text": [
      "cannot access local variable 'all_parsed_dataframes' where it is not associated with a value\n"
     ]
    },
    {
     "name": "stderr",
     "output_type": "stream",
     "text": [
      "\n"
     ]
    }
   ],
   "source": [
    "ams = pd.read_csv(\"asset_management.csv\",delimiter=\"\\t\").dropna()\n",
    "ams[\"CIK\"] = [str((int(x[:-2]))) for x in ams[\"CIK\"].astype(str)]\n",
    "ams[\"CIK\"] = ams[\"CIK\"].astype(str).str.zfill(10)\n",
    "holdings = []\n",
    "for cik in tqdm(ams[\"CIK\"].unique()):\n",
    "    try:\n",
    "        holding = list(get_filings(\n",
    "            cik=cik, #\n",
    "            form_type=[\"13F-HR\"],\n",
    "            start_year=2025, \n",
    "            end_year = 2026,\n",
    "            user_agent=\"chung.ejy@gmail.com\"\n",
    "        ).values())[0]\n",
    "        holding[\"cik\"] = cik\n",
    "        holdings.append(holding)\n",
    "    except Exception as e:\n",
    "        print(str(e))"
   ]
  },
  {
   "cell_type": "code",
   "execution_count": 4,
   "id": "035f8c70-70f0-4986-9fae-d0ef221eb8e2",
   "metadata": {},
   "outputs": [],
   "source": [
    "a = pd.concat(holdings)"
   ]
  },
  {
   "cell_type": "code",
   "execution_count": 5,
   "id": "c49c6786-dfd3-4fac-bd97-77acdc6ac54d",
   "metadata": {},
   "outputs": [
    {
     "data": {
      "text/plain": [
       "Index(['ACCESSION_NUMBER', 'CONFORMED_DATE', 'NAME_OF_ISSUER',\n",
       "       'TITLE_OF_CLASS', 'CUSIP', 'SHARE_VALUE', 'SHARE_AMOUNT', 'SH_PRN',\n",
       "       'PUT_CALL', 'DISCRETION', 'SOLE_VOTING_AUTHORITY',\n",
       "       'SHARED_VOTING_AUTHORITY', 'NONE_VOTING_AUTHORITY', 'CREATED_AT',\n",
       "       'UPDATED_AT', 'cik'],\n",
       "      dtype='object')"
      ]
     },
     "execution_count": 5,
     "metadata": {},
     "output_type": "execute_result"
    }
   ],
   "source": [
    "a.columns"
   ]
  },
  {
   "cell_type": "code",
   "execution_count": 18,
   "id": "376699c7-833c-489c-b797-6ec3efee315e",
   "metadata": {},
   "outputs": [
    {
     "name": "stdout",
     "output_type": "stream",
     "text": [
      "2025-03-31 00:00:00\n"
     ]
    }
   ],
   "source": [
    "current = a[a[\"CONFORMED_DATE\"]==a[\"CONFORMED_DATE\"].max()]\n",
    "print(current[\"CONFORMED_DATE\"].max())\n",
    "securities = current[[\"NAME_OF_ISSUER\",\"TITLE_OF_CLASS\",\"SHARE_VALUE\",\"SHARE_AMOUNT\"]].groupby([\"NAME_OF_ISSUER\",\"TITLE_OF_CLASS\"]).mean().reset_index()"
   ]
  },
  {
   "cell_type": "code",
   "execution_count": 7,
   "id": "8b75aa72-44cc-46a4-bf6a-88ee0da7e917",
   "metadata": {},
   "outputs": [],
   "source": [
    "securities[\"share_price\"] = securities[\"SHARE_VALUE\"] / securities[\"SHARE_AMOUNT\"]\n",
    "securities[\"weight\"] = securities[\"SHARE_VALUE\"] / securities[\"SHARE_VALUE\"].sum()"
   ]
  },
  {
   "cell_type": "code",
   "execution_count": 8,
   "id": "dea613cb-6266-471f-a6b7-353f7830c2bb",
   "metadata": {},
   "outputs": [],
   "source": [
    "def get_ticker(company_name):\n",
    "    yfinance = \"https://query2.finance.yahoo.com/v1/finance/search\"\n",
    "    user_agent = 'Mozilla/5.0 (Windows NT 10.0; Win64; x64) AppleWebKit/537.36 (KHTML, like Gecko) Chrome/108.0.0.0 Safari/537.36'\n",
    "    params = {\"q\": company_name, \"quotes_count\": 1, \"country\": \"United States\"}\n",
    "\n",
    "    res = r.get(url=yfinance, params=params, headers={'User-Agent': user_agent})\n",
    "    data = res.json()\n",
    "\n",
    "    company_code = data['quotes'][0]['symbol']\n",
    "    return company_code"
   ]
  },
  {
   "cell_type": "code",
   "execution_count": 9,
   "id": "4be2e7ec-9891-4d1e-b914-5dd96818b842",
   "metadata": {},
   "outputs": [
    {
     "name": "stderr",
     "output_type": "stream",
     "text": [
      "100%|████████████████████████████████████████████████████████████████████████████████████████████████████████████████████████████████████████████████████████████████████████████████████████████████████████████████| 4280/4280 [14:08<00:00,  5.04it/s]\n"
     ]
    }
   ],
   "source": [
    "tickers = []\n",
    "for company in tqdm(securities[\"NAME_OF_ISSUER\"]):\n",
    "    try:\n",
    "        cleaned = \" \".join(company.split(\" \")[:-1])\n",
    "        results = get_ticker(cleaned)\n",
    "        tickers.append({\"NAME_OF_ISSUER\":company,\"ticker\":results})\n",
    "    except:\n",
    "        tickers.append({\"NAME_OF_ISSUER\":company,\"ticker\":None})"
   ]
  },
  {
   "cell_type": "code",
   "execution_count": 10,
   "id": "0e4c8519-ec91-4819-b398-bdfd66daf184",
   "metadata": {
    "scrolled": true
   },
   "outputs": [],
   "source": [
    "tickers_df = pd.DataFrame(tickers)\n",
    "ticker_dict = tickers_df.set_index(\"NAME_OF_ISSUER\")[\"ticker\"].to_dict()"
   ]
  },
  {
   "cell_type": "code",
   "execution_count": 11,
   "id": "4a80ac9c-bd97-4174-910d-78fa4d53157a",
   "metadata": {},
   "outputs": [],
   "source": [
    "securities[\"ticker\"] = securities[\"NAME_OF_ISSUER\"].apply(lambda x: ticker_dict[x])"
   ]
  },
  {
   "cell_type": "code",
   "execution_count": 12,
   "id": "bdabe1bc-b805-4ec5-aef8-03d6c7385ef8",
   "metadata": {},
   "outputs": [
    {
     "data": {
      "text/html": [
       "<div>\n",
       "<style scoped>\n",
       "    .dataframe tbody tr th:only-of-type {\n",
       "        vertical-align: middle;\n",
       "    }\n",
       "\n",
       "    .dataframe tbody tr th {\n",
       "        vertical-align: top;\n",
       "    }\n",
       "\n",
       "    .dataframe thead th {\n",
       "        text-align: right;\n",
       "    }\n",
       "</style>\n",
       "<table border=\"1\" class=\"dataframe\">\n",
       "  <thead>\n",
       "    <tr style=\"text-align: right;\">\n",
       "      <th></th>\n",
       "      <th>NAME_OF_ISSUER</th>\n",
       "      <th>TITLE_OF_CLASS</th>\n",
       "      <th>SHARE_VALUE</th>\n",
       "      <th>SHARE_AMOUNT</th>\n",
       "      <th>share_price</th>\n",
       "      <th>weight</th>\n",
       "      <th>ticker</th>\n",
       "    </tr>\n",
       "  </thead>\n",
       "  <tbody>\n",
       "    <tr>\n",
       "      <th>0</th>\n",
       "      <td>1 800 FLOWERS COM INC</td>\n",
       "      <td>CL A</td>\n",
       "      <td>1947804.8</td>\n",
       "      <td>330136.4</td>\n",
       "      <td>5.9</td>\n",
       "      <td>0.000002</td>\n",
       "      <td>None</td>\n",
       "    </tr>\n",
       "    <tr>\n",
       "      <th>1</th>\n",
       "      <td>10X GENOMICS INC</td>\n",
       "      <td>CL A COM</td>\n",
       "      <td>19412178.0</td>\n",
       "      <td>2223617.2</td>\n",
       "      <td>8.73</td>\n",
       "      <td>0.000021</td>\n",
       "      <td>TXG</td>\n",
       "    </tr>\n",
       "    <tr>\n",
       "      <th>2</th>\n",
       "      <td>1ST SOURCE CORP</td>\n",
       "      <td>COM</td>\n",
       "      <td>12776540.4</td>\n",
       "      <td>213618.8</td>\n",
       "      <td>59.81</td>\n",
       "      <td>0.000014</td>\n",
       "      <td>SRCE</td>\n",
       "    </tr>\n",
       "    <tr>\n",
       "      <th>3</th>\n",
       "      <td>1STDIBS COM INC</td>\n",
       "      <td>COM</td>\n",
       "      <td>1524723.0</td>\n",
       "      <td>501553.666667</td>\n",
       "      <td>3.04</td>\n",
       "      <td>0.000002</td>\n",
       "      <td>None</td>\n",
       "    </tr>\n",
       "    <tr>\n",
       "      <th>4</th>\n",
       "      <td>2SEVENTY BIO INC</td>\n",
       "      <td>COMMON STOCK</td>\n",
       "      <td>4642725.666667</td>\n",
       "      <td>939823.0</td>\n",
       "      <td>4.94</td>\n",
       "      <td>0.000005</td>\n",
       "      <td>TSVT</td>\n",
       "    </tr>\n",
       "    <tr>\n",
       "      <th>...</th>\n",
       "      <td>...</td>\n",
       "      <td>...</td>\n",
       "      <td>...</td>\n",
       "      <td>...</td>\n",
       "      <td>...</td>\n",
       "      <td>...</td>\n",
       "      <td>...</td>\n",
       "    </tr>\n",
       "    <tr>\n",
       "      <th>4275</th>\n",
       "      <td>ZUMIEZ INC</td>\n",
       "      <td>COM</td>\n",
       "      <td>5445893.666667</td>\n",
       "      <td>365741.666667</td>\n",
       "      <td>14.890001</td>\n",
       "      <td>0.000006</td>\n",
       "      <td>ZUMZ</td>\n",
       "    </tr>\n",
       "    <tr>\n",
       "      <th>4276</th>\n",
       "      <td>ZURA BIO LTD</td>\n",
       "      <td>CLASS A ORD SHS</td>\n",
       "      <td>362128.0</td>\n",
       "      <td>280719.333333</td>\n",
       "      <td>1.29</td>\n",
       "      <td>0.0</td>\n",
       "      <td>ZURA</td>\n",
       "    </tr>\n",
       "    <tr>\n",
       "      <th>4277</th>\n",
       "      <td>ZURN ELKAY WATER SOLNS CORP</td>\n",
       "      <td>COM</td>\n",
       "      <td>104618720.6</td>\n",
       "      <td>3172186.8</td>\n",
       "      <td>32.98</td>\n",
       "      <td>0.000111</td>\n",
       "      <td>None</td>\n",
       "    </tr>\n",
       "    <tr>\n",
       "      <th>4278</th>\n",
       "      <td>ZYMEWORKS INC</td>\n",
       "      <td>COM</td>\n",
       "      <td>4209091.6</td>\n",
       "      <td>353408.2</td>\n",
       "      <td>11.91</td>\n",
       "      <td>0.000004</td>\n",
       "      <td>ZYME</td>\n",
       "    </tr>\n",
       "    <tr>\n",
       "      <th>4279</th>\n",
       "      <td>ZYNEX INC</td>\n",
       "      <td>COM</td>\n",
       "      <td>769168.0</td>\n",
       "      <td>349621.666667</td>\n",
       "      <td>2.200001</td>\n",
       "      <td>0.000001</td>\n",
       "      <td>ZYXI</td>\n",
       "    </tr>\n",
       "  </tbody>\n",
       "</table>\n",
       "<p>4280 rows × 7 columns</p>\n",
       "</div>"
      ],
      "text/plain": [
       "                   NAME_OF_ISSUER   TITLE_OF_CLASS     SHARE_VALUE  \\\n",
       "0           1 800 FLOWERS COM INC             CL A       1947804.8   \n",
       "1                10X GENOMICS INC         CL A COM      19412178.0   \n",
       "2                 1ST SOURCE CORP              COM      12776540.4   \n",
       "3                 1STDIBS COM INC              COM       1524723.0   \n",
       "4                2SEVENTY BIO INC     COMMON STOCK  4642725.666667   \n",
       "...                           ...              ...             ...   \n",
       "4275                   ZUMIEZ INC              COM  5445893.666667   \n",
       "4276                 ZURA BIO LTD  CLASS A ORD SHS        362128.0   \n",
       "4277  ZURN ELKAY WATER SOLNS CORP              COM     104618720.6   \n",
       "4278                ZYMEWORKS INC              COM       4209091.6   \n",
       "4279                    ZYNEX INC              COM        769168.0   \n",
       "\n",
       "       SHARE_AMOUNT  share_price    weight ticker  \n",
       "0          330136.4          5.9  0.000002   None  \n",
       "1         2223617.2         8.73  0.000021    TXG  \n",
       "2          213618.8        59.81  0.000014   SRCE  \n",
       "3     501553.666667         3.04  0.000002   None  \n",
       "4          939823.0         4.94  0.000005   TSVT  \n",
       "...             ...          ...       ...    ...  \n",
       "4275  365741.666667    14.890001  0.000006   ZUMZ  \n",
       "4276  280719.333333         1.29       0.0   ZURA  \n",
       "4277      3172186.8        32.98  0.000111   None  \n",
       "4278       353408.2        11.91  0.000004   ZYME  \n",
       "4279  349621.666667     2.200001  0.000001   ZYXI  \n",
       "\n",
       "[4280 rows x 7 columns]"
      ]
     },
     "execution_count": 12,
     "metadata": {},
     "output_type": "execute_result"
    }
   ],
   "source": [
    "securities"
   ]
  },
  {
   "cell_type": "code",
   "execution_count": 13,
   "id": "952a3086-9375-4fb1-b5c4-9a8246d4eb0b",
   "metadata": {},
   "outputs": [],
   "source": [
    "securities[\"cs\"] = [\"COM\" in x for x in securities[\"TITLE_OF_CLASS\"]]"
   ]
  },
  {
   "cell_type": "code",
   "execution_count": 16,
   "id": "8324b35d-4ed8-4d79-b56d-32ecd85988cb",
   "metadata": {},
   "outputs": [],
   "source": [
    "okie = securities[securities[\"cs\"]==True][[\"NAME_OF_ISSUER\",\"ticker\",\"TITLE_OF_CLASS\",\"share_price\",\"SHARE_VALUE\"]]"
   ]
  },
  {
   "cell_type": "code",
   "execution_count": 17,
   "id": "1d665d99-b4f3-4b63-801d-d958e2188559",
   "metadata": {},
   "outputs": [],
   "source": [
    "ori = ADatabase(\"ori\")\n",
    "ori.connect()\n",
    "ori.drop(\"ams\")\n",
    "ori.store(\"ams\",okie)\n",
    "ori.disconnect()"
   ]
  },
  {
   "cell_type": "code",
   "execution_count": null,
   "id": "c9c98334-e5bc-4158-9f72-d29489f8ac69",
   "metadata": {},
   "outputs": [],
   "source": []
  }
 ],
 "metadata": {
  "kernelspec": {
   "display_name": "Python 3 (ipykernel)",
   "language": "python",
   "name": "python3"
  },
  "language_info": {
   "codemirror_mode": {
    "name": "ipython",
    "version": 3
   },
   "file_extension": ".py",
   "mimetype": "text/x-python",
   "name": "python",
   "nbconvert_exporter": "python",
   "pygments_lexer": "ipython3",
   "version": "3.11.9"
  }
 },
 "nbformat": 4,
 "nbformat_minor": 5
}
