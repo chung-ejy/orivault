{
 "cells": [
  {
   "cell_type": "code",
   "execution_count": 1,
   "id": "73094c60-497a-45ac-bd01-8db8578730b7",
   "metadata": {},
   "outputs": [],
   "source": [
    "import pandas as pd\n",
    "from database.adatabase import ADatabase\n",
    "from xgboost import XGBRegressor\n",
    "import matplotlib.pyplot as plt\n",
    "from tqdm import tqdm\n",
    "from processor.processor import Processor as p\n",
    "from asset.exposure import Exposure\n",
    "from equations.capm import CAPM\n",
    "from sklearn.preprocessing import normalize\n",
    "import yfinance as yf\n",
    "from datetime import datetime, timedelta\n",
    "from dotenv import load_dotenv\n",
    "load_dotenv()\n",
    "import os\n",
    "from time import sleep\n",
    "import requests as r\n",
    "import yfinance as yf\n",
    "import numpy as np\n",
    "import pandas_datareader.data as web"
   ]
  },
  {
   "cell_type": "code",
   "execution_count": 2,
   "id": "9131bcf0-e2ac-489b-ac60-ab69b8feda22",
   "metadata": {},
   "outputs": [],
   "source": [
    "sec = ADatabase(\"sec\")\n",
    "market = ADatabase(\"market\")\n",
    "fred = ADatabase(\"fred\")"
   ]
  },
  {
   "cell_type": "code",
   "execution_count": 3,
   "id": "a4179cff-dd72-4218-9d7a-7e01333a3a58",
   "metadata": {},
   "outputs": [],
   "source": [
    "market.connect()\n",
    "index = market.retrieve(\"index\")\n",
    "market.disconnect()\n",
    "factors = [\"assets\",\"liabilities\",\"reference_price\"]\n",
    "fred.connect()\n",
    "sp500 = p.column_date_processing(fred.retrieve(\"sp500_projections\").rename(columns={\"prediction\":\"sp500_prediction\"}))\n",
    "interest_rates = p.column_date_processing(fred.retrieve(\"market_yield\").rename(columns={\"value\":\"rf\"}))\n",
    "interest_rates[\"rf\"] = interest_rates[\"rf\"].replace(\".\",0)\n",
    "interest_rates[\"rf\"] = [float(x) / 100 for x in interest_rates[\"rf\"]]\n",
    "fred.disconnect\n",
    "macro = sp500.merge(interest_rates,on=\"date\",how=\"left\")"
   ]
  },
  {
   "cell_type": "code",
   "execution_count": 4,
   "id": "4038c683-fd64-4985-a812-8a833803d272",
   "metadata": {},
   "outputs": [
    {
     "data": {
      "text/html": [
       "<div>\n",
       "<style scoped>\n",
       "    .dataframe tbody tr th:only-of-type {\n",
       "        vertical-align: middle;\n",
       "    }\n",
       "\n",
       "    .dataframe tbody tr th {\n",
       "        vertical-align: top;\n",
       "    }\n",
       "\n",
       "    .dataframe thead th {\n",
       "        text-align: right;\n",
       "    }\n",
       "</style>\n",
       "<table border=\"1\" class=\"dataframe\">\n",
       "  <thead>\n",
       "    <tr style=\"text-align: right;\">\n",
       "      <th></th>\n",
       "      <th>ticker</th>\n",
       "      <th>name</th>\n",
       "      <th>market</th>\n",
       "      <th>locale</th>\n",
       "      <th>primary_exchange</th>\n",
       "      <th>type</th>\n",
       "      <th>active</th>\n",
       "      <th>currency_name</th>\n",
       "      <th>cik</th>\n",
       "      <th>composite_figi</th>\n",
       "      <th>share_class_figi</th>\n",
       "      <th>last_updated_utc</th>\n",
       "    </tr>\n",
       "  </thead>\n",
       "  <tbody>\n",
       "    <tr>\n",
       "      <th>0</th>\n",
       "      <td>A</td>\n",
       "      <td>Agilent Technologies Inc.</td>\n",
       "      <td>stocks</td>\n",
       "      <td>us</td>\n",
       "      <td>XNYS</td>\n",
       "      <td>CS</td>\n",
       "      <td>True</td>\n",
       "      <td>usd</td>\n",
       "      <td>0001090872</td>\n",
       "      <td>BBG000C2V3D6</td>\n",
       "      <td>BBG001SCTQY4</td>\n",
       "      <td>2025-02-27T00:00:00Z</td>\n",
       "    </tr>\n",
       "    <tr>\n",
       "      <th>1</th>\n",
       "      <td>AA</td>\n",
       "      <td>Alcoa Corporation</td>\n",
       "      <td>stocks</td>\n",
       "      <td>us</td>\n",
       "      <td>XNYS</td>\n",
       "      <td>CS</td>\n",
       "      <td>True</td>\n",
       "      <td>usd</td>\n",
       "      <td>0001675149</td>\n",
       "      <td>BBG00B3T3HD3</td>\n",
       "      <td>BBG00B3T3HF1</td>\n",
       "      <td>2025-03-21T00:00:00Z</td>\n",
       "    </tr>\n",
       "    <tr>\n",
       "      <th>2</th>\n",
       "      <td>AACT</td>\n",
       "      <td>Ares Acquisition Corporation II</td>\n",
       "      <td>stocks</td>\n",
       "      <td>us</td>\n",
       "      <td>XNYS</td>\n",
       "      <td>CS</td>\n",
       "      <td>True</td>\n",
       "      <td>usd</td>\n",
       "      <td>0001853138</td>\n",
       "      <td>NaN</td>\n",
       "      <td>NaN</td>\n",
       "      <td>2025-03-21T00:00:00Z</td>\n",
       "    </tr>\n",
       "    <tr>\n",
       "      <th>3</th>\n",
       "      <td>AAL</td>\n",
       "      <td>American Airlines Group Inc.</td>\n",
       "      <td>stocks</td>\n",
       "      <td>us</td>\n",
       "      <td>XNAS</td>\n",
       "      <td>CS</td>\n",
       "      <td>True</td>\n",
       "      <td>usd</td>\n",
       "      <td>0000006201</td>\n",
       "      <td>BBG005P7Q881</td>\n",
       "      <td>BBG005P7Q907</td>\n",
       "      <td>2024-05-17T00:00:00Z</td>\n",
       "    </tr>\n",
       "    <tr>\n",
       "      <th>4</th>\n",
       "      <td>AAM</td>\n",
       "      <td>AA Mission Acquisition Corp.</td>\n",
       "      <td>stocks</td>\n",
       "      <td>us</td>\n",
       "      <td>XNYS</td>\n",
       "      <td>CS</td>\n",
       "      <td>True</td>\n",
       "      <td>usd</td>\n",
       "      <td>0002012964</td>\n",
       "      <td>NaN</td>\n",
       "      <td>NaN</td>\n",
       "      <td>2025-03-21T00:00:00Z</td>\n",
       "    </tr>\n",
       "    <tr>\n",
       "      <th>...</th>\n",
       "      <td>...</td>\n",
       "      <td>...</td>\n",
       "      <td>...</td>\n",
       "      <td>...</td>\n",
       "      <td>...</td>\n",
       "      <td>...</td>\n",
       "      <td>...</td>\n",
       "      <td>...</td>\n",
       "      <td>...</td>\n",
       "      <td>...</td>\n",
       "      <td>...</td>\n",
       "      <td>...</td>\n",
       "    </tr>\n",
       "    <tr>\n",
       "      <th>5116</th>\n",
       "      <td>ZVSA</td>\n",
       "      <td>ZyVersa Therapeutics, Inc. Common Stock</td>\n",
       "      <td>stocks</td>\n",
       "      <td>us</td>\n",
       "      <td>XNAS</td>\n",
       "      <td>CS</td>\n",
       "      <td>True</td>\n",
       "      <td>usd</td>\n",
       "      <td>0001859007</td>\n",
       "      <td>BBG01137LPK6</td>\n",
       "      <td>BBG01137LQD2</td>\n",
       "      <td>2025-03-21T00:00:00Z</td>\n",
       "    </tr>\n",
       "    <tr>\n",
       "      <th>5117</th>\n",
       "      <td>ZWS</td>\n",
       "      <td>Zurn Elkay Water Solutions Corporation</td>\n",
       "      <td>stocks</td>\n",
       "      <td>us</td>\n",
       "      <td>XNYS</td>\n",
       "      <td>CS</td>\n",
       "      <td>True</td>\n",
       "      <td>usd</td>\n",
       "      <td>0001439288</td>\n",
       "      <td>BBG000H8R0N8</td>\n",
       "      <td>BBG001T36GB5</td>\n",
       "      <td>2025-03-21T00:00:00Z</td>\n",
       "    </tr>\n",
       "    <tr>\n",
       "      <th>5118</th>\n",
       "      <td>ZYBT</td>\n",
       "      <td>Zhengye Biotechnology Holding Limited Ordinary...</td>\n",
       "      <td>stocks</td>\n",
       "      <td>us</td>\n",
       "      <td>XNAS</td>\n",
       "      <td>CS</td>\n",
       "      <td>True</td>\n",
       "      <td>usd</td>\n",
       "      <td>0001975641</td>\n",
       "      <td>NaN</td>\n",
       "      <td>NaN</td>\n",
       "      <td>2025-03-21T00:00:00Z</td>\n",
       "    </tr>\n",
       "    <tr>\n",
       "      <th>5119</th>\n",
       "      <td>ZYME</td>\n",
       "      <td>Zymeworks Inc.</td>\n",
       "      <td>stocks</td>\n",
       "      <td>us</td>\n",
       "      <td>XNAS</td>\n",
       "      <td>CS</td>\n",
       "      <td>True</td>\n",
       "      <td>usd</td>\n",
       "      <td>0001937653</td>\n",
       "      <td>BBG019XSYC89</td>\n",
       "      <td>BBG019XSYC98</td>\n",
       "      <td>2025-03-21T00:00:00Z</td>\n",
       "    </tr>\n",
       "    <tr>\n",
       "      <th>5120</th>\n",
       "      <td>ZYXI</td>\n",
       "      <td>ZYNEX INC</td>\n",
       "      <td>stocks</td>\n",
       "      <td>us</td>\n",
       "      <td>XNAS</td>\n",
       "      <td>CS</td>\n",
       "      <td>True</td>\n",
       "      <td>usd</td>\n",
       "      <td>0000846475</td>\n",
       "      <td>BBG000BJBXZ2</td>\n",
       "      <td>BBG001S7T7V0</td>\n",
       "      <td>2025-03-21T00:00:00Z</td>\n",
       "    </tr>\n",
       "  </tbody>\n",
       "</table>\n",
       "<p>5121 rows × 12 columns</p>\n",
       "</div>"
      ],
      "text/plain": [
       "     ticker                                               name  market locale  \\\n",
       "0         A                          Agilent Technologies Inc.  stocks     us   \n",
       "1        AA                                  Alcoa Corporation  stocks     us   \n",
       "2      AACT                    Ares Acquisition Corporation II  stocks     us   \n",
       "3       AAL                       American Airlines Group Inc.  stocks     us   \n",
       "4       AAM                       AA Mission Acquisition Corp.  stocks     us   \n",
       "...     ...                                                ...     ...    ...   \n",
       "5116   ZVSA            ZyVersa Therapeutics, Inc. Common Stock  stocks     us   \n",
       "5117    ZWS             Zurn Elkay Water Solutions Corporation  stocks     us   \n",
       "5118   ZYBT  Zhengye Biotechnology Holding Limited Ordinary...  stocks     us   \n",
       "5119   ZYME                                     Zymeworks Inc.  stocks     us   \n",
       "5120   ZYXI                                          ZYNEX INC  stocks     us   \n",
       "\n",
       "     primary_exchange type  active currency_name         cik composite_figi  \\\n",
       "0                XNYS   CS    True           usd  0001090872   BBG000C2V3D6   \n",
       "1                XNYS   CS    True           usd  0001675149   BBG00B3T3HD3   \n",
       "2                XNYS   CS    True           usd  0001853138            NaN   \n",
       "3                XNAS   CS    True           usd  0000006201   BBG005P7Q881   \n",
       "4                XNYS   CS    True           usd  0002012964            NaN   \n",
       "...               ...  ...     ...           ...         ...            ...   \n",
       "5116             XNAS   CS    True           usd  0001859007   BBG01137LPK6   \n",
       "5117             XNYS   CS    True           usd  0001439288   BBG000H8R0N8   \n",
       "5118             XNAS   CS    True           usd  0001975641            NaN   \n",
       "5119             XNAS   CS    True           usd  0001937653   BBG019XSYC89   \n",
       "5120             XNAS   CS    True           usd  0000846475   BBG000BJBXZ2   \n",
       "\n",
       "     share_class_figi      last_updated_utc  \n",
       "0        BBG001SCTQY4  2025-02-27T00:00:00Z  \n",
       "1        BBG00B3T3HF1  2025-03-21T00:00:00Z  \n",
       "2                 NaN  2025-03-21T00:00:00Z  \n",
       "3        BBG005P7Q907  2024-05-17T00:00:00Z  \n",
       "4                 NaN  2025-03-21T00:00:00Z  \n",
       "...               ...                   ...  \n",
       "5116     BBG01137LQD2  2025-03-21T00:00:00Z  \n",
       "5117     BBG001T36GB5  2025-03-21T00:00:00Z  \n",
       "5118              NaN  2025-03-21T00:00:00Z  \n",
       "5119     BBG019XSYC98  2025-03-21T00:00:00Z  \n",
       "5120     BBG001S7T7V0  2025-03-21T00:00:00Z  \n",
       "\n",
       "[5121 rows x 12 columns]"
      ]
     },
     "execution_count": 4,
     "metadata": {},
     "output_type": "execute_result"
    }
   ],
   "source": [
    "index"
   ]
  },
  {
   "cell_type": "code",
   "execution_count": 24,
   "id": "635c8aca-eddc-4b55-a8c3-e351e27a11e9",
   "metadata": {
    "scrolled": true
   },
   "outputs": [
    {
     "name": "stderr",
     "output_type": "stream",
     "text": [
      "19it [00:00, 22.82it/s]"
     ]
    },
    {
     "name": "stdout",
     "output_type": "stream",
     "text": [
      "ABC cannot convert float NaN to integer\n"
     ]
    },
    {
     "name": "stderr",
     "output_type": "stream",
     "text": [
      "47it [00:02, 26.90it/s]"
     ]
    },
    {
     "name": "stdout",
     "output_type": "stream",
     "text": [
      "ACCS cannot convert float NaN to integer\n"
     ]
    },
    {
     "name": "stderr",
     "output_type": "stream",
     "text": [
      "94it [00:04, 20.93it/s]"
     ]
    },
    {
     "name": "stdout",
     "output_type": "stream",
     "text": [
      "ADS cannot convert float NaN to integer\n"
     ]
    },
    {
     "name": "stderr",
     "output_type": "stream",
     "text": [
      "156it [00:07, 24.96it/s]"
     ]
    },
    {
     "name": "stdout",
     "output_type": "stream",
     "text": [
      "AHS cannot convert float NaN to integer\n",
      "AIFE cannot convert float NaN to integer\n"
     ]
    },
    {
     "name": "stderr",
     "output_type": "stream",
     "text": [
      "300it [00:14, 25.66it/s]"
     ]
    },
    {
     "name": "stdout",
     "output_type": "stream",
     "text": [
      "ANTM cannot convert float NaN to integer\n"
     ]
    },
    {
     "name": "stderr",
     "output_type": "stream",
     "text": [
      "847it [00:41, 23.96it/s]"
     ]
    },
    {
     "name": "stdout",
     "output_type": "stream",
     "text": [
      "CBG cannot convert float NaN to integer\n"
     ]
    },
    {
     "name": "stderr",
     "output_type": "stream",
     "text": [
      "921it [00:45, 18.80it/s]"
     ]
    },
    {
     "name": "stdout",
     "output_type": "stream",
     "text": [
      "CFI cannot convert float NaN to integer\n"
     ]
    },
    {
     "name": "stderr",
     "output_type": "stream",
     "text": [
      "1438it [01:11, 20.59it/s]"
     ]
    },
    {
     "name": "stdout",
     "output_type": "stream",
     "text": [
      "DVLT cannot convert float NaN to integer\n"
     ]
    },
    {
     "name": "stderr",
     "output_type": "stream",
     "text": [
      "1530it [01:16, 24.48it/s]"
     ]
    },
    {
     "name": "stdout",
     "output_type": "stream",
     "text": [
      "ELY cannot convert float NaN to integer\n"
     ]
    },
    {
     "name": "stderr",
     "output_type": "stream",
     "text": [
      "1652it [01:22, 21.27it/s]"
     ]
    },
    {
     "name": "stdout",
     "output_type": "stream",
     "text": [
      "EXOZ cannot convert float NaN to integer\n"
     ]
    },
    {
     "name": "stderr",
     "output_type": "stream",
     "text": [
      "1679it [01:24, 24.60it/s]"
     ]
    },
    {
     "name": "stdout",
     "output_type": "stream",
     "text": [
      "FBHS cannot convert float NaN to integer\n"
     ]
    },
    {
     "name": "stderr",
     "output_type": "stream",
     "text": [
      "1817it [01:31, 21.83it/s]"
     ]
    },
    {
     "name": "stdout",
     "output_type": "stream",
     "text": [
      "FRBA cannot convert float NaN to integer\n"
     ]
    },
    {
     "name": "stderr",
     "output_type": "stream",
     "text": [
      "2117it [01:47, 19.81it/s]"
     ]
    },
    {
     "name": "stdout",
     "output_type": "stream",
     "text": [
      "HCN cannot convert float NaN to integer\n"
     ]
    },
    {
     "name": "stderr",
     "output_type": "stream",
     "text": [
      "2213it [01:53, 22.00it/s]"
     ]
    },
    {
     "name": "stdout",
     "output_type": "stream",
     "text": [
      "HSC cannot convert float NaN to integer\n"
     ]
    },
    {
     "name": "stderr",
     "output_type": "stream",
     "text": [
      "2372it [02:01, 20.57it/s]"
     ]
    },
    {
     "name": "stdout",
     "output_type": "stream",
     "text": [
      "INT cannot convert float NaN to integer\n"
     ]
    },
    {
     "name": "stderr",
     "output_type": "stream",
     "text": [
      "3050it [02:38, 20.73it/s]"
     ]
    },
    {
     "name": "stdout",
     "output_type": "stream",
     "text": [
      "MSG cannot convert float NaN to integer\n"
     ]
    },
    {
     "name": "stderr",
     "output_type": "stream",
     "text": [
      "3082it [02:40, 22.12it/s]"
     ]
    },
    {
     "name": "stdout",
     "output_type": "stream",
     "text": [
      "MTVA cannot convert float NaN to integer\n"
     ]
    },
    {
     "name": "stderr",
     "output_type": "stream",
     "text": [
      "3145it [02:43, 26.03it/s]"
     ]
    },
    {
     "name": "stdout",
     "output_type": "stream",
     "text": [
      "NCR cannot convert float NaN to integer\n"
     ]
    },
    {
     "name": "stderr",
     "output_type": "stream",
     "text": [
      "3609it [03:09, 17.55it/s]"
     ]
    },
    {
     "name": "stdout",
     "output_type": "stream",
     "text": [
      "PKI cannot convert float NaN to integer\n"
     ]
    },
    {
     "name": "stderr",
     "output_type": "stream",
     "text": [
      "3794it [03:19, 24.19it/s]"
     ]
    },
    {
     "name": "stdout",
     "output_type": "stream",
     "text": [
      "QVCGA cannot convert float NaN to integer\n",
      "QVCGB cannot convert float NaN to integer\n"
     ]
    },
    {
     "name": "stderr",
     "output_type": "stream",
     "text": [
      "4180it [03:41, 21.11it/s]"
     ]
    },
    {
     "name": "stdout",
     "output_type": "stream",
     "text": [
      "SLF cannot convert float NaN to integer\n"
     ]
    },
    {
     "name": "stderr",
     "output_type": "stream",
     "text": [
      "4232it [03:44, 25.12it/s]"
     ]
    },
    {
     "name": "stdout",
     "output_type": "stream",
     "text": [
      "SNE cannot convert float NaN to integer\n"
     ]
    },
    {
     "name": "stderr",
     "output_type": "stream",
     "text": [
      "4317it [03:48, 17.82it/s]"
     ]
    },
    {
     "name": "stdout",
     "output_type": "stream",
     "text": [
      "SSBI cannot convert float NaN to integer\n"
     ]
    },
    {
     "name": "stderr",
     "output_type": "stream",
     "text": [
      "4443it [03:55, 26.13it/s]"
     ]
    },
    {
     "name": "stdout",
     "output_type": "stream",
     "text": [
      "TBI cannot convert float NaN to integer\n"
     ]
    },
    {
     "name": "stderr",
     "output_type": "stream",
     "text": [
      "4452it [03:56, 20.44it/s]"
     ]
    },
    {
     "name": "stdout",
     "output_type": "stream",
     "text": [
      "TCK cannot convert float NaN to integer\n"
     ]
    },
    {
     "name": "stderr",
     "output_type": "stream",
     "text": [
      "4567it [04:03, 27.78it/s]"
     ]
    },
    {
     "name": "stdout",
     "output_type": "stream",
     "text": [
      "TOWN cannot convert float NaN to integer\n"
     ]
    },
    {
     "name": "stderr",
     "output_type": "stream",
     "text": [
      "4787it [04:16, 24.27it/s]"
     ]
    },
    {
     "name": "stdout",
     "output_type": "stream",
     "text": [
      "VEC cannot convert float NaN to integer\n"
     ]
    },
    {
     "name": "stderr",
     "output_type": "stream",
     "text": [
      "5121it [04:35, 18.60it/s]\n"
     ]
    }
   ],
   "source": [
    "market.connect()\n",
    "sec.connect()\n",
    "factors_df = []\n",
    "for row in tqdm(index.iterrows()):\n",
    "    try:\n",
    "        ticker = row[1][\"ticker\"]\n",
    "        cik = int(row[1][\"cik\"])\n",
    "        price = market.query(\"prices\",{\"ticker\":ticker})\n",
    "        filings = sec.query(\"filings\",{\"cik\":cik})\n",
    "        if price.index.size > 0 and filings.index.size > 0:\n",
    "            price = p.column_date_processing(price)\n",
    "            price.sort_values(\"date\",inplace=True)\n",
    "            price[\"year\"] = [x.year for x in price[\"date\"]]\n",
    "            price[\"quarter\"] = [x.quarter for x in price[\"date\"]]\n",
    "            filings = p.column_date_processing(filings).dropna()\n",
    "            filings[\"year\"] = [x.year + 1 for x in filings[\"date\"]]\n",
    "            filings[\"quarter\"] = [x.quarter for x in filings[\"date\"]]\n",
    "            # filings[\"year\"] = [x.year if x.quarter < 4 else x.year + 1 for x in filings[\"date\"]]\n",
    "            # filings[\"quarter\"] = [x.quarter + 1 if x.quarter < 4 else 1 for x in filings[\"date\"]]\n",
    "            ticker_factors = filings.drop([\"date\",\"cik\"],axis=1).groupby([\"year\",\"quarter\"]).mean().reset_index()\n",
    "            price = price.drop([\"date\",\"ticker\"],axis=1).groupby([\"year\",\"quarter\"]).mean().reset_index()\n",
    "            ticker_factors = ticker_factors.merge(price,on=[\"year\",\"quarter\"],how=\"left\")\n",
    "            if ticker_factors.index.size > 0:\n",
    "                ticker_factors[\"ticker\"] = ticker\n",
    "                ticker_factors[\"reference_price\"] = ticker_factors[\"adjclose\"].shift(1)\n",
    "                ticker_factors[\"y\"] = ticker_factors[\"adjclose\"].shift(-1)\n",
    "                factors_df.append(ticker_factors[[\"year\",\"quarter\",\"ticker\",\"adjclose\",\"y\"]+factors])\n",
    "    except Exception as e:\n",
    "        print(ticker,str(e))\n",
    "        continue\n",
    "sec.disconnect()\n",
    "market.disconnect()\n",
    "factors_df = pd.concat(factors_df).sort_values([\"year\",\"quarter\"])"
   ]
  },
  {
   "cell_type": "code",
   "execution_count": 26,
   "id": "990d4999-cc4d-4264-b239-10fb0f4773af",
   "metadata": {},
   "outputs": [],
   "source": [
    "model_start = 2015\n",
    "model_end = 2022\n",
    "backtest_end = 2026\n",
    "model = XGBRegressor(booster=\"gbtree\",random_state=42)\n",
    "factors_df = factors_df.dropna(subset=factors)\n",
    "training_data = factors_df[(factors_df[\"year\"]>=model_start) & (factors_df[\"year\"]<model_end)].dropna()\n",
    "sim = factors_df[(factors_df[\"year\"]>=model_end-1) & (factors_df[\"year\"]<backtest_end)].dropna(subset=factors)\n",
    "model.fit(training_data[factors],training_data[\"y\"])\n",
    "sim[\"prediction\"] = model.predict(sim[factors])\n",
    "sim = sim[[\"year\",\"quarter\",\"ticker\",\"prediction\"]]"
   ]
  },
  {
   "cell_type": "code",
   "execution_count": 27,
   "id": "0f877ba0-a338-475c-a1d7-f4882b2c1fa7",
   "metadata": {
    "scrolled": true
   },
   "outputs": [
    {
     "name": "stderr",
     "output_type": "stream",
     "text": [
      "  0%|▎                                                                                                                                                       | 12/5121 [00:00<05:52, 14.49it/s]"
     ]
    },
    {
     "name": "stdout",
     "output_type": "stream",
     "text": [
      "'date'\n"
     ]
    },
    {
     "name": "stderr",
     "output_type": "stream",
     "text": [
      "  0%|▌                                                                                                                                                       | 19/5121 [00:01<05:37, 15.10it/s]"
     ]
    },
    {
     "name": "stdout",
     "output_type": "stream",
     "text": [
      "'date'\n"
     ]
    },
    {
     "name": "stderr",
     "output_type": "stream",
     "text": [
      "  1%|█▏                                                                                                                                                      | 38/5121 [00:02<04:11, 20.18it/s]"
     ]
    },
    {
     "name": "stdout",
     "output_type": "stream",
     "text": [
      "'date'\n"
     ]
    },
    {
     "name": "stderr",
     "output_type": "stream",
     "text": [
      "  2%|██▊                                                                                                                                                     | 94/5121 [00:06<04:59, 16.76it/s]"
     ]
    },
    {
     "name": "stdout",
     "output_type": "stream",
     "text": [
      "'date'\n"
     ]
    },
    {
     "name": "stderr",
     "output_type": "stream",
     "text": [
      "  3%|████▏                                                                                                                                                  | 143/5121 [00:09<04:37, 17.94it/s]"
     ]
    },
    {
     "name": "stdout",
     "output_type": "stream",
     "text": [
      "'date'\n"
     ]
    },
    {
     "name": "stderr",
     "output_type": "stream",
     "text": [
      "  6%|████████▊                                                                                                                                              | 298/5121 [00:19<04:26, 18.07it/s]"
     ]
    },
    {
     "name": "stdout",
     "output_type": "stream",
     "text": [
      "'date'\n"
     ]
    },
    {
     "name": "stderr",
     "output_type": "stream",
     "text": [
      " 11%|█████████████████▏                                                                                                                                     | 583/5121 [00:38<03:34, 21.18it/s]"
     ]
    },
    {
     "name": "stdout",
     "output_type": "stream",
     "text": [
      "'date'\n",
      "'date'\n"
     ]
    },
    {
     "name": "stderr",
     "output_type": "stream",
     "text": [
      " 12%|█████████████████▊                                                                                                                                     | 603/5121 [00:40<05:18, 14.18it/s]"
     ]
    },
    {
     "name": "stdout",
     "output_type": "stream",
     "text": [
      "'date'\n"
     ]
    },
    {
     "name": "stderr",
     "output_type": "stream",
     "text": [
      " 12%|██████████████████▎                                                                                                                                    | 623/5121 [00:41<03:55, 19.07it/s]"
     ]
    },
    {
     "name": "stdout",
     "output_type": "stream",
     "text": [
      "'date'\n"
     ]
    },
    {
     "name": "stderr",
     "output_type": "stream",
     "text": [
      " 14%|█████████████████████▎                                                                                                                                 | 722/5121 [00:47<03:36, 20.28it/s]"
     ]
    },
    {
     "name": "stdout",
     "output_type": "stream",
     "text": [
      "'date'\n",
      "'date'\n"
     ]
    },
    {
     "name": "stderr",
     "output_type": "stream",
     "text": [
      " 17%|██████████████████████████▎                                                                                                                            | 894/5121 [00:59<03:58, 17.70it/s]"
     ]
    },
    {
     "name": "stdout",
     "output_type": "stream",
     "text": [
      "'date'\n"
     ]
    },
    {
     "name": "stderr",
     "output_type": "stream",
     "text": [
      " 20%|█████████████████████████████▍                                                                                                                        | 1005/5121 [01:07<04:10, 16.42it/s]"
     ]
    },
    {
     "name": "stdout",
     "output_type": "stream",
     "text": [
      "'date'\n"
     ]
    },
    {
     "name": "stderr",
     "output_type": "stream",
     "text": [
      " 21%|███████████████████████████████▉                                                                                                                      | 1091/5121 [01:13<04:21, 15.43it/s]"
     ]
    },
    {
     "name": "stdout",
     "output_type": "stream",
     "text": [
      "'date'\n"
     ]
    },
    {
     "name": "stderr",
     "output_type": "stream",
     "text": [
      " 22%|█████████████████████████████████▌                                                                                                                    | 1147/5121 [01:17<03:09, 20.98it/s]"
     ]
    },
    {
     "name": "stdout",
     "output_type": "stream",
     "text": [
      "'date'\n",
      "'date'\n"
     ]
    },
    {
     "name": "stderr",
     "output_type": "stream",
     "text": [
      " 25%|████████████████████████████████████▉                                                                                                                 | 1260/5121 [01:25<04:00, 16.03it/s]"
     ]
    },
    {
     "name": "stdout",
     "output_type": "stream",
     "text": [
      "'date'\n"
     ]
    },
    {
     "name": "stderr",
     "output_type": "stream",
     "text": [
      " 30%|████████████████████████████████████████████▊                                                                                                         | 1531/5121 [01:46<03:46, 15.87it/s]"
     ]
    },
    {
     "name": "stdout",
     "output_type": "stream",
     "text": [
      "'date'\n"
     ]
    },
    {
     "name": "stderr",
     "output_type": "stream",
     "text": [
      " 33%|█████████████████████████████████████████████████▏                                                                                                    | 1680/5121 [01:56<03:17, 17.45it/s]"
     ]
    },
    {
     "name": "stdout",
     "output_type": "stream",
     "text": [
      "'date'\n"
     ]
    },
    {
     "name": "stderr",
     "output_type": "stream",
     "text": [
      " 38%|████████████████████████████████████████████████████████▍                                                                                             | 1926/5121 [02:14<02:38, 20.20it/s]"
     ]
    },
    {
     "name": "stdout",
     "output_type": "stream",
     "text": [
      "'date'\n"
     ]
    },
    {
     "name": "stderr",
     "output_type": "stream",
     "text": [
      " 41%|████████████████████████████████████████████████████████████▊                                                                                         | 2075/5121 [02:24<03:07, 16.28it/s]"
     ]
    },
    {
     "name": "stdout",
     "output_type": "stream",
     "text": [
      "'date'\n"
     ]
    },
    {
     "name": "stderr",
     "output_type": "stream",
     "text": [
      " 42%|██████████████████████████████████████████████████████████████▎                                                                                       | 2128/5121 [02:28<03:57, 12.58it/s]"
     ]
    },
    {
     "name": "stdout",
     "output_type": "stream",
     "text": [
      "'date'\n"
     ]
    },
    {
     "name": "stderr",
     "output_type": "stream",
     "text": [
      " 43%|████████████████████████████████████████████████████████████████▊                                                                                     | 2213/5121 [02:34<02:25, 20.05it/s]"
     ]
    },
    {
     "name": "stdout",
     "output_type": "stream",
     "text": [
      "'date'\n"
     ]
    },
    {
     "name": "stderr",
     "output_type": "stream",
     "text": [
      " 44%|█████████████████████████████████████████████████████████████████▉                                                                                    | 2250/5121 [02:36<03:10, 15.04it/s]"
     ]
    },
    {
     "name": "stdout",
     "output_type": "stream",
     "text": [
      "'date'\n"
     ]
    },
    {
     "name": "stderr",
     "output_type": "stream",
     "text": [
      " 46%|█████████████████████████████████████████████████████████████████████▌                                                                                | 2375/5121 [02:44<02:29, 18.42it/s]"
     ]
    },
    {
     "name": "stdout",
     "output_type": "stream",
     "text": [
      "'date'\n"
     ]
    },
    {
     "name": "stderr",
     "output_type": "stream",
     "text": [
      " 52%|██████████████████████████████████████████████████████████████████████████████                                                                        | 2667/5121 [03:03<02:52, 14.26it/s]"
     ]
    },
    {
     "name": "stdout",
     "output_type": "stream",
     "text": [
      "'date'\n"
     ]
    },
    {
     "name": "stderr",
     "output_type": "stream",
     "text": [
      " 52%|██████████████████████████████████████████████████████████████████████████████▌                                                                       | 2682/5121 [03:04<01:44, 23.32it/s]"
     ]
    },
    {
     "name": "stdout",
     "output_type": "stream",
     "text": [
      "'date'\n",
      "'date'\n"
     ]
    },
    {
     "name": "stderr",
     "output_type": "stream",
     "text": [
      " 58%|██████████████████████████████████████████████████████████████████████████████████████▍                                                               | 2952/5121 [03:21<01:49, 19.72it/s]"
     ]
    },
    {
     "name": "stdout",
     "output_type": "stream",
     "text": [
      "'date'\n"
     ]
    },
    {
     "name": "stderr",
     "output_type": "stream",
     "text": [
      " 59%|███████████████████████████████████████████████████████████████████████████████████████▉                                                              | 3003/5121 [03:25<01:51, 18.97it/s]"
     ]
    },
    {
     "name": "stdout",
     "output_type": "stream",
     "text": [
      "'date'\n",
      "'date'\n",
      "'date'\n"
     ]
    },
    {
     "name": "stderr",
     "output_type": "stream",
     "text": [
      " 60%|█████████████████████████████████████████████████████████████████████████████████████████▎                                                            | 3049/5121 [03:28<01:52, 18.45it/s]"
     ]
    },
    {
     "name": "stdout",
     "output_type": "stream",
     "text": [
      "'date'\n"
     ]
    },
    {
     "name": "stderr",
     "output_type": "stream",
     "text": [
      " 61%|████████████████████████████████████████████████████████████████████████████████████████████                                                          | 3145/5121 [03:35<01:36, 20.46it/s]"
     ]
    },
    {
     "name": "stdout",
     "output_type": "stream",
     "text": [
      "'date'\n"
     ]
    },
    {
     "name": "stderr",
     "output_type": "stream",
     "text": [
      " 62%|████████████████████████████████████████████████████████████████████████████████████████████▋                                                         | 3163/5121 [03:36<02:14, 14.52it/s]"
     ]
    },
    {
     "name": "stdout",
     "output_type": "stream",
     "text": [
      "'date'\n"
     ]
    },
    {
     "name": "stderr",
     "output_type": "stream",
     "text": [
      " 64%|███████████████████████████████████████████████████████████████████████████████████████████████▎                                                      | 3253/5121 [03:43<02:02, 15.21it/s]"
     ]
    },
    {
     "name": "stdout",
     "output_type": "stream",
     "text": [
      "'date'\n"
     ]
    },
    {
     "name": "stderr",
     "output_type": "stream",
     "text": [
      " 70%|████████████████████████████████████████████████████████████████████████████████████████████████████████▌                                             | 3570/5121 [04:06<02:10, 11.93it/s]"
     ]
    },
    {
     "name": "stdout",
     "output_type": "stream",
     "text": [
      "'date'\n"
     ]
    },
    {
     "name": "stderr",
     "output_type": "stream",
     "text": [
      " 70%|█████████████████████████████████████████████████████████████████████████████████████████████████████████▋                                            | 3610/5121 [04:08<01:38, 15.34it/s]"
     ]
    },
    {
     "name": "stdout",
     "output_type": "stream",
     "text": [
      "'date'\n"
     ]
    },
    {
     "name": "stderr",
     "output_type": "stream",
     "text": [
      " 84%|█████████████████████████████████████████████████████████████████████████████████████████████████████████████████████████████▊                        | 4296/5121 [04:55<00:50, 16.26it/s]"
     ]
    },
    {
     "name": "stdout",
     "output_type": "stream",
     "text": [
      "'date'\n"
     ]
    },
    {
     "name": "stderr",
     "output_type": "stream",
     "text": [
      " 86%|█████████████████████████████████████████████████████████████████████████████████████████████████████████████████████████████████▋                    | 4429/5121 [05:05<00:38, 17.85it/s]"
     ]
    },
    {
     "name": "stdout",
     "output_type": "stream",
     "text": [
      "'date'\n"
     ]
    },
    {
     "name": "stderr",
     "output_type": "stream",
     "text": [
      " 87%|██████████████████████████████████████████████████████████████████████████████████████████████████████████████████████████████████▍                   | 4453/5121 [05:06<00:36, 18.41it/s]"
     ]
    },
    {
     "name": "stdout",
     "output_type": "stream",
     "text": [
      "'date'\n"
     ]
    },
    {
     "name": "stderr",
     "output_type": "stream",
     "text": [
      " 89%|█████████████████████████████████████████████████████████████████████████████████████████████████████████████████████████████████████▋                | 4563/5121 [05:14<00:25, 21.83it/s]"
     ]
    },
    {
     "name": "stdout",
     "output_type": "stream",
     "text": [
      "'date'\n"
     ]
    },
    {
     "name": "stderr",
     "output_type": "stream",
     "text": [
      " 92%|█████████████████████████████████████████████████████████████████████████████████████████████████████████████████████████████████████████▌            | 4696/5121 [05:23<00:27, 15.40it/s]"
     ]
    },
    {
     "name": "stdout",
     "output_type": "stream",
     "text": [
      "'date'\n"
     ]
    },
    {
     "name": "stderr",
     "output_type": "stream",
     "text": [
      " 93%|████████████████████████████████████████████████████████████████████████████████████████████████████████████████████████████████████████████          | 4783/5121 [05:30<00:18, 18.51it/s]"
     ]
    },
    {
     "name": "stdout",
     "output_type": "stream",
     "text": [
      "'date'\n"
     ]
    },
    {
     "name": "stderr",
     "output_type": "stream",
     "text": [
      " 98%|██████████████████████████████████████████████████████████████████████████████████████████████████████████████████████████████████████████████████▎   | 4996/5121 [05:44<00:08, 14.16it/s]"
     ]
    },
    {
     "name": "stdout",
     "output_type": "stream",
     "text": [
      "'date'\n"
     ]
    },
    {
     "name": "stderr",
     "output_type": "stream",
     "text": [
      "100%|██████████████████████████████████████████████████████████████████████████████████████████████████████████████████████████████████████████████████████| 5121/5121 [05:51<00:00, 14.56it/s]\n"
     ]
    }
   ],
   "source": [
    "market.connect()\n",
    "prices = []\n",
    "for ticker in tqdm(index[\"ticker\"]):\n",
    "    try:\n",
    "        price = p.column_date_processing(market.query(\"prices\",{\"ticker\":ticker}))\n",
    "        price.sort_values(\"date\",inplace=True)\n",
    "        price[\"year\"] = [x.year for x in price[\"date\"]]\n",
    "        price[\"quarter\"] = [x.quarter for x in price[\"date\"]]\n",
    "        price.sort_values(\"date\",inplace=True)\n",
    "        price = price.merge(sim[[\"year\",\"quarter\",\"ticker\",\"prediction\"]],on=[\"year\",\"quarter\",\"ticker\"],how=\"left\").merge(macro,on=\"date\",how=\"left\")\n",
    "        price[\"factor\"] = price[\"prediction\"] / price[\"adjclose\"] - 1\n",
    "        price = CAPM.apply(price)\n",
    "        prices.append(price)\n",
    "    except Exception as e:\n",
    "        print(str(e))\n",
    "        continue\n",
    "market.disconnect()"
   ]
  },
  {
   "cell_type": "code",
   "execution_count": 111,
   "id": "0541359a-ecd0-46c3-905c-3b71143cf93c",
   "metadata": {},
   "outputs": [],
   "source": [
    "simulation = pd.concat(prices).merge(index,on=\"ticker\",how=\"left\")\n",
    "#.merge(market_caps_df,on=\"ticker\",how=\"left\")\n",
    "simulation[\"year\"] = simulation[\"date\"].dt.year\n",
    "simulation[\"quarter\"] = simulation[\"date\"].dt.quarter\n",
    "simulation = simulation[(simulation[\"year\"]>=model_end) & (simulation[\"year\"]<backtest_end)].dropna()\n",
    "tickers = list(simulation[simulation[\"year\"]==model_end][\"ticker\"].unique())\n",
    "simulation = simulation[simulation[\"ticker\"].isin(tickers)]\n",
    "simulation[\"market_cap\"] = simulation[\"adjclose\"] * simulation[\"adjvolume\"]\n",
    "simulation[\"market_cap_rank\"] = simulation.groupby([\"year\",\"quarter\"])[\"market_cap\"].rank(ascending=False,pct=True)\n",
    "simulation[\"market_cap_rank\"] = [round(x*100/10) for x in simulation[\"market_cap_rank\"]]\n",
    "simulation[\"rank\"] = simulation.groupby([\"date\", \"market_cap_rank\"])[\"factor\"].rank(method=\"dense\", ascending=False).astype(int)\n",
    "\n",
    "# Calculate the total number of ranks for each sector and date\n",
    "simulation[\"total_ranks\"] = simulation.groupby([\"date\", \"market_cap_rank\"])[\"rank\"].transform(\"max\")\n",
    "\n",
    "# Assign exposure based on rank\n",
    "simulation[\"exposure\"] = simulation.apply(\n",
    "    lambda x: 1 if x[\"rank\"] <= x[\"total_ranks\"] * 0.50 else -1,\n",
    "    axis=1\n",
    ")\n",
    "\n",
    "# Cleanup: Drop the total_ranks column if not needed\n",
    "simulation.drop(columns=[\"total_ranks\"], inplace=True)\n",
    "\n",
    "# Sorting by date for further processing\n",
    "simulation.sort_values(\"date\", inplace=True)\n",
    "simulation[\"sell_price\"] = simulation[\"adjclose\"]\n",
    "simulation[\"sell_date\"] = simulation[\"date\"]\n",
    "simulation.sort_values(\"date\",inplace=True)"
   ]
  },
  {
   "cell_type": "code",
   "execution_count": 112,
   "id": "a31fcc36-6855-4fd4-88b1-f88fc90e9b3c",
   "metadata": {},
   "outputs": [],
   "source": [
    "benchmark = macro.copy()\n",
    "benchmark[\"year\"] = benchmark[\"date\"].dt.year\n",
    "benchmark[\"quarter\"] = benchmark[\"date\"].dt.quarter\n",
    "benchmark = benchmark[(benchmark[\"year\"]>=model_end) & (benchmark[\"year\"]<backtest_end)].drop([x for x in benchmark.columns if \"real\" in x],axis=1).groupby([\"year\",\"quarter\"]).mean().reset_index()\n",
    "benchmark[\"sp500\"] = (benchmark[\"sp500\"] - benchmark[\"sp500\"].iloc[0]) /benchmark[\"sp500\"].iloc[0]\n",
    "benchmark[\"rf\"] = (benchmark[\"rf\"] - benchmark[\"rf\"].iloc[0]) /benchmark[\"rf\"].iloc[0]\n",
    "benchmark[\"sp500_prediction\"] = (benchmark[\"sp500_prediction\"] - benchmark[\"sp500_prediction\"].iloc[0]) /benchmark[\"sp500_prediction\"].iloc[0]\n",
    "benchmark.dropna(inplace=True)"
   ]
  },
  {
   "cell_type": "code",
   "execution_count": 113,
   "id": "0986d675-16a3-4949-8a6b-0be95b4c101e",
   "metadata": {},
   "outputs": [],
   "source": [
    "def rank_list(value,i):\n",
    "    # Ensure i is a non-negative integer\n",
    "    if value == 0:\n",
    "        if i < 0:\n",
    "            raise ValueError(\"The number of integers, i, must be non-negative.\")\n",
    "        \n",
    "        if i % 2 == 0:\n",
    "            # Even number of elements: Symmetric around 0\n",
    "            return list(range(-i // 2, i // 2))\n",
    "        else:\n",
    "            # Odd number of elements: Includes 0\n",
    "            return list(range(-i // 2, i // 2 + 1))\n",
    "    if value == -1:\n",
    "        return list(range(-1,-i-1,-1))\n",
    "    else:\n",
    "        return list(range(0,i,1))"
   ]
  },
  {
   "cell_type": "code",
   "execution_count": 114,
   "id": "d32f6b4b-70f7-4456-943d-06253cf5565c",
   "metadata": {},
   "outputs": [],
   "source": [
    "filtered_columns = [\"year\",\"quarter\",\"date\",\"sell_date\",\"market_cap_rank\",\"ticker\",\"rank\",\"exposure\",\"adjclose\",\"sell_price\"]\n",
    "agg_query = {\"date\":\"first\",\"sell_date\":\"last\",\"market_cap_rank\":\"first\",\"exposure\":\"first\",\"rank\":\"first\",\"adjclose\":\"first\",\"sell_price\":\"last\"}"
   ]
  },
  {
   "cell_type": "code",
   "execution_count": 172,
   "id": "bca0d2e8-21ea-4703-9126-aaf7e9813a75",
   "metadata": {
    "scrolled": true
   },
   "outputs": [
    {
     "name": "stderr",
     "output_type": "stream",
     "text": [
      "100%|████████████████████████████████████████████████████████████████████████████████████████████████████████████████████████████████████████████████████████| 2/2 [1:05:01<00:00, 1950.72s/it]\n"
     ]
    }
   ],
   "source": [
    "run = True\n",
    "num_tickers = len(list(simulation[\"ticker\"].unique()))\n",
    "stock_steps = 0.01\n",
    "stock_cap = 0.1\n",
    "num_stocks = [i for i in range(0,int(num_tickers*stock_cap),int(num_tickers*stock_steps)) if i != 0]\n",
    "num_stocks.append(1)\n",
    "index_steps = 1\n",
    "analysises = []\n",
    "market_cap_maxes = [i for i in range(0,10,index_steps) if i != 0]\n",
    "for direction in tqdm([1,-1]):\n",
    "    for value in [1,0,-1]:\n",
    "        for maximum_index in market_cap_maxes:\n",
    "            minimum_indexes = [i for i in range(0,maximum_index,index_steps)]\n",
    "            for minimum_index in minimum_indexes:\n",
    "                for num_stocks_per_industry in num_stocks:\n",
    "                    try:\n",
    "                        parameters = {\n",
    "                            \"direction\":direction,\n",
    "                            \"val\":value,\n",
    "                            \"mini\": minimum_index,\n",
    "                            \"maxi\": maximum_index,\n",
    "                            \"stacks\": num_stocks_per_industry\n",
    "                        }\n",
    "                        stacks = rank_list(value,num_stocks_per_industry)\n",
    "                        filtered_simulation = simulation[(simulation[\"market_cap_rank\"]<=maximum_index) & (simulation[\"market_cap_rank\"]>=minimum_index)].copy()\n",
    "                        trades = filtered_simulation[filtered_columns].groupby([\"year\",\"quarter\",\"ticker\"]).agg(agg_query).copy().reset_index()\n",
    "                        trades = trades.sort_values(\"rank\",ascending=True).groupby([\"year\",\"quarter\",\"market_cap_rank\"]).nth(stacks).reset_index()\n",
    "                        trades[\"return\"] = (trades[\"sell_price\"] - trades[\"adjclose\"])/trades[\"adjclose\"]\n",
    "                        trades[\"return\"] = trades[\"return\"] * trades[\"exposure\"] * direction\n",
    "                        analysis = trades[[\"year\",\"quarter\",\"exposure\",\"return\"]].groupby([\"year\",\"quarter\",\"exposure\"]).mean().pivot_table(index=[\"year\",\"quarter\"],columns=\"exposure\",values=\"return\").reset_index()\n",
    "                        portfolio = trades[[\"year\",\"quarter\",\"return\"]].groupby([\"year\",\"quarter\"]).mean().reset_index().sort_values([\"year\",\"quarter\"])\n",
    "                        portfolio[\"return\"] = portfolio[\"return\"] + 1\n",
    "                        portfolio[\"return\"] = portfolio[\"return\"].cumprod() - 1\n",
    "                        portfolio['Year-Quarter'] = portfolio[\"year\"].astype(str) + \"q\" + portfolio[\"quarter\"].astype(str)\n",
    "                        portfolio = portfolio.merge(benchmark,on=[\"year\",\"quarter\"],how=\"left\")\n",
    "                        portfolio[\"sharpe\"] = portfolio[\"return\"] - portfolio[\"rf\"] / portfolio[\"return\"].std()\n",
    "                        parameters[\"risk\"] = portfolio[\"return\"].std()\n",
    "                        parameters[\"sharpe\"] = portfolio[\"sharpe\"].iloc[-1]\n",
    "                        parameters[\"return\"] = portfolio[\"return\"].iloc[-1]\n",
    "                        analysises.append(parameters)\n",
    "                    except Exception as e:\n",
    "                        print(str(e))\n",
    "                        continue"
   ]
  },
  {
   "cell_type": "code",
   "execution_count": 173,
   "id": "52720f5f-bd79-4d9c-ba27-08401d6e7cf1",
   "metadata": {
    "scrolled": true
   },
   "outputs": [],
   "source": [
    "a = pd.DataFrame(analysises)\n",
    "a[\"color\"] = [\"blue\" if x == 1 else \"red\" if x == -1  else \"green\" for x in a[\"val\"]]\n",
    "a[\"return_to_risk\"] = a[\"return\"] / a[\"risk\"]"
   ]
  },
  {
   "cell_type": "code",
   "execution_count": 175,
   "id": "ffdcee08-f13c-497c-a627-b89480f8f437",
   "metadata": {},
   "outputs": [
    {
     "data": {
      "text/html": [
       "<div>\n",
       "<style scoped>\n",
       "    .dataframe tbody tr th:only-of-type {\n",
       "        vertical-align: middle;\n",
       "    }\n",
       "\n",
       "    .dataframe tbody tr th {\n",
       "        vertical-align: top;\n",
       "    }\n",
       "\n",
       "    .dataframe thead th {\n",
       "        text-align: right;\n",
       "    }\n",
       "</style>\n",
       "<table border=\"1\" class=\"dataframe\">\n",
       "  <thead>\n",
       "    <tr style=\"text-align: right;\">\n",
       "      <th></th>\n",
       "      <th>direction</th>\n",
       "      <th>val</th>\n",
       "      <th>mini</th>\n",
       "      <th>maxi</th>\n",
       "      <th>stacks</th>\n",
       "      <th>risk</th>\n",
       "      <th>sharpe</th>\n",
       "      <th>return</th>\n",
       "      <th>color</th>\n",
       "      <th>return_to_risk</th>\n",
       "    </tr>\n",
       "  </thead>\n",
       "  <tbody>\n",
       "    <tr>\n",
       "      <th>2848</th>\n",
       "      <td>-1</td>\n",
       "      <td>-1</td>\n",
       "      <td>5</td>\n",
       "      <td>8</td>\n",
       "      <td>1</td>\n",
       "      <td>4.006594</td>\n",
       "      <td>7.319660</td>\n",
       "      <td>7.641753</td>\n",
       "      <td>red</td>\n",
       "      <td>1.907294</td>\n",
       "    </tr>\n",
       "    <tr>\n",
       "      <th>43</th>\n",
       "      <td>1</td>\n",
       "      <td>1</td>\n",
       "      <td>0</td>\n",
       "      <td>3</td>\n",
       "      <td>1</td>\n",
       "      <td>2.207723</td>\n",
       "      <td>6.738000</td>\n",
       "      <td>7.322538</td>\n",
       "      <td>blue</td>\n",
       "      <td>3.316783</td>\n",
       "    </tr>\n",
       "    <tr>\n",
       "      <th>2276</th>\n",
       "      <td>-1</td>\n",
       "      <td>0</td>\n",
       "      <td>5</td>\n",
       "      <td>7</td>\n",
       "      <td>1</td>\n",
       "      <td>2.172595</td>\n",
       "      <td>5.730949</td>\n",
       "      <td>6.324938</td>\n",
       "      <td>green</td>\n",
       "      <td>2.911237</td>\n",
       "    </tr>\n",
       "    <tr>\n",
       "      <th>219</th>\n",
       "      <td>1</td>\n",
       "      <td>1</td>\n",
       "      <td>4</td>\n",
       "      <td>6</td>\n",
       "      <td>1</td>\n",
       "      <td>2.807948</td>\n",
       "      <td>5.549026</td>\n",
       "      <td>6.008613</td>\n",
       "      <td>blue</td>\n",
       "      <td>2.139859</td>\n",
       "    </tr>\n",
       "    <tr>\n",
       "      <th>1781</th>\n",
       "      <td>-1</td>\n",
       "      <td>1</td>\n",
       "      <td>5</td>\n",
       "      <td>7</td>\n",
       "      <td>1</td>\n",
       "      <td>1.456154</td>\n",
       "      <td>4.480558</td>\n",
       "      <td>5.366795</td>\n",
       "      <td>blue</td>\n",
       "      <td>3.685596</td>\n",
       "    </tr>\n",
       "    <tr>\n",
       "      <th>120</th>\n",
       "      <td>1</td>\n",
       "      <td>1</td>\n",
       "      <td>0</td>\n",
       "      <td>5</td>\n",
       "      <td>1</td>\n",
       "      <td>1.574758</td>\n",
       "      <td>3.013267</td>\n",
       "      <td>3.832756</td>\n",
       "      <td>blue</td>\n",
       "      <td>2.433870</td>\n",
       "    </tr>\n",
       "    <tr>\n",
       "      <th>2342</th>\n",
       "      <td>-1</td>\n",
       "      <td>0</td>\n",
       "      <td>4</td>\n",
       "      <td>8</td>\n",
       "      <td>1</td>\n",
       "      <td>1.202899</td>\n",
       "      <td>2.674641</td>\n",
       "      <td>3.747464</td>\n",
       "      <td>green</td>\n",
       "      <td>3.115362</td>\n",
       "    </tr>\n",
       "    <tr>\n",
       "      <th>714</th>\n",
       "      <td>1</td>\n",
       "      <td>0</td>\n",
       "      <td>4</td>\n",
       "      <td>6</td>\n",
       "      <td>1</td>\n",
       "      <td>1.570375</td>\n",
       "      <td>2.729294</td>\n",
       "      <td>3.551071</td>\n",
       "      <td>green</td>\n",
       "      <td>2.261289</td>\n",
       "    </tr>\n",
       "    <tr>\n",
       "      <th>2837</th>\n",
       "      <td>-1</td>\n",
       "      <td>-1</td>\n",
       "      <td>4</td>\n",
       "      <td>8</td>\n",
       "      <td>1</td>\n",
       "      <td>2.007813</td>\n",
       "      <td>2.841503</td>\n",
       "      <td>3.484241</td>\n",
       "      <td>red</td>\n",
       "      <td>1.735342</td>\n",
       "    </tr>\n",
       "    <tr>\n",
       "      <th>21</th>\n",
       "      <td>1</td>\n",
       "      <td>1</td>\n",
       "      <td>0</td>\n",
       "      <td>2</td>\n",
       "      <td>1</td>\n",
       "      <td>1.215161</td>\n",
       "      <td>2.321769</td>\n",
       "      <td>3.383767</td>\n",
       "      <td>blue</td>\n",
       "      <td>2.784625</td>\n",
       "    </tr>\n",
       "    <tr>\n",
       "      <th>131</th>\n",
       "      <td>1</td>\n",
       "      <td>1</td>\n",
       "      <td>1</td>\n",
       "      <td>5</td>\n",
       "      <td>1</td>\n",
       "      <td>1.479730</td>\n",
       "      <td>2.510136</td>\n",
       "      <td>3.382253</td>\n",
       "      <td>blue</td>\n",
       "      <td>2.285724</td>\n",
       "    </tr>\n",
       "    <tr>\n",
       "      <th>2738</th>\n",
       "      <td>-1</td>\n",
       "      <td>-1</td>\n",
       "      <td>2</td>\n",
       "      <td>7</td>\n",
       "      <td>1</td>\n",
       "      <td>1.535715</td>\n",
       "      <td>2.250278</td>\n",
       "      <td>3.090602</td>\n",
       "      <td>red</td>\n",
       "      <td>2.012485</td>\n",
       "    </tr>\n",
       "    <tr>\n",
       "      <th>2771</th>\n",
       "      <td>-1</td>\n",
       "      <td>-1</td>\n",
       "      <td>5</td>\n",
       "      <td>7</td>\n",
       "      <td>1</td>\n",
       "      <td>2.430819</td>\n",
       "      <td>2.479685</td>\n",
       "      <td>3.010575</td>\n",
       "      <td>red</td>\n",
       "      <td>1.238502</td>\n",
       "    </tr>\n",
       "    <tr>\n",
       "      <th>615</th>\n",
       "      <td>1</td>\n",
       "      <td>0</td>\n",
       "      <td>0</td>\n",
       "      <td>5</td>\n",
       "      <td>1</td>\n",
       "      <td>1.047994</td>\n",
       "      <td>1.716867</td>\n",
       "      <td>2.948266</td>\n",
       "      <td>green</td>\n",
       "      <td>2.813248</td>\n",
       "    </tr>\n",
       "    <tr>\n",
       "      <th>2353</th>\n",
       "      <td>-1</td>\n",
       "      <td>0</td>\n",
       "      <td>5</td>\n",
       "      <td>8</td>\n",
       "      <td>1</td>\n",
       "      <td>0.988004</td>\n",
       "      <td>1.627901</td>\n",
       "      <td>2.934067</td>\n",
       "      <td>green</td>\n",
       "      <td>2.969691</td>\n",
       "    </tr>\n",
       "    <tr>\n",
       "      <th>2727</th>\n",
       "      <td>-1</td>\n",
       "      <td>-1</td>\n",
       "      <td>1</td>\n",
       "      <td>7</td>\n",
       "      <td>1</td>\n",
       "      <td>1.043147</td>\n",
       "      <td>1.685408</td>\n",
       "      <td>2.922528</td>\n",
       "      <td>red</td>\n",
       "      <td>2.801646</td>\n",
       "    </tr>\n",
       "    <tr>\n",
       "      <th>2749</th>\n",
       "      <td>-1</td>\n",
       "      <td>-1</td>\n",
       "      <td>3</td>\n",
       "      <td>7</td>\n",
       "      <td>1</td>\n",
       "      <td>1.559881</td>\n",
       "      <td>1.995247</td>\n",
       "      <td>2.822552</td>\n",
       "      <td>red</td>\n",
       "      <td>1.809466</td>\n",
       "    </tr>\n",
       "    <tr>\n",
       "      <th>538</th>\n",
       "      <td>1</td>\n",
       "      <td>0</td>\n",
       "      <td>0</td>\n",
       "      <td>3</td>\n",
       "      <td>1</td>\n",
       "      <td>0.878790</td>\n",
       "      <td>1.310083</td>\n",
       "      <td>2.778576</td>\n",
       "      <td>green</td>\n",
       "      <td>3.161819</td>\n",
       "    </tr>\n",
       "    <tr>\n",
       "      <th>2760</th>\n",
       "      <td>-1</td>\n",
       "      <td>-1</td>\n",
       "      <td>4</td>\n",
       "      <td>7</td>\n",
       "      <td>1</td>\n",
       "      <td>1.915008</td>\n",
       "      <td>2.091933</td>\n",
       "      <td>2.765819</td>\n",
       "      <td>red</td>\n",
       "      <td>1.444286</td>\n",
       "    </tr>\n",
       "    <tr>\n",
       "      <th>241</th>\n",
       "      <td>1</td>\n",
       "      <td>1</td>\n",
       "      <td>0</td>\n",
       "      <td>7</td>\n",
       "      <td>1</td>\n",
       "      <td>1.372859</td>\n",
       "      <td>1.728101</td>\n",
       "      <td>2.668108</td>\n",
       "      <td>blue</td>\n",
       "      <td>1.943468</td>\n",
       "    </tr>\n",
       "  </tbody>\n",
       "</table>\n",
       "</div>"
      ],
      "text/plain": [
       "      direction  val  mini  maxi  stacks      risk    sharpe    return  color  \\\n",
       "2848         -1   -1     5     8       1  4.006594  7.319660  7.641753    red   \n",
       "43            1    1     0     3       1  2.207723  6.738000  7.322538   blue   \n",
       "2276         -1    0     5     7       1  2.172595  5.730949  6.324938  green   \n",
       "219           1    1     4     6       1  2.807948  5.549026  6.008613   blue   \n",
       "1781         -1    1     5     7       1  1.456154  4.480558  5.366795   blue   \n",
       "120           1    1     0     5       1  1.574758  3.013267  3.832756   blue   \n",
       "2342         -1    0     4     8       1  1.202899  2.674641  3.747464  green   \n",
       "714           1    0     4     6       1  1.570375  2.729294  3.551071  green   \n",
       "2837         -1   -1     4     8       1  2.007813  2.841503  3.484241    red   \n",
       "21            1    1     0     2       1  1.215161  2.321769  3.383767   blue   \n",
       "131           1    1     1     5       1  1.479730  2.510136  3.382253   blue   \n",
       "2738         -1   -1     2     7       1  1.535715  2.250278  3.090602    red   \n",
       "2771         -1   -1     5     7       1  2.430819  2.479685  3.010575    red   \n",
       "615           1    0     0     5       1  1.047994  1.716867  2.948266  green   \n",
       "2353         -1    0     5     8       1  0.988004  1.627901  2.934067  green   \n",
       "2727         -1   -1     1     7       1  1.043147  1.685408  2.922528    red   \n",
       "2749         -1   -1     3     7       1  1.559881  1.995247  2.822552    red   \n",
       "538           1    0     0     3       1  0.878790  1.310083  2.778576  green   \n",
       "2760         -1   -1     4     7       1  1.915008  2.091933  2.765819    red   \n",
       "241           1    1     0     7       1  1.372859  1.728101  2.668108   blue   \n",
       "\n",
       "      return_to_risk  \n",
       "2848        1.907294  \n",
       "43          3.316783  \n",
       "2276        2.911237  \n",
       "219         2.139859  \n",
       "1781        3.685596  \n",
       "120         2.433870  \n",
       "2342        3.115362  \n",
       "714         2.261289  \n",
       "2837        1.735342  \n",
       "21          2.784625  \n",
       "131         2.285724  \n",
       "2738        2.012485  \n",
       "2771        1.238502  \n",
       "615         2.813248  \n",
       "2353        2.969691  \n",
       "2727        2.801646  \n",
       "2749        1.809466  \n",
       "538         3.161819  \n",
       "2760        1.444286  \n",
       "241         1.943468  "
      ]
     },
     "execution_count": 175,
     "metadata": {},
     "output_type": "execute_result"
    }
   ],
   "source": [
    "a.sort_values(\"return\",ascending=False).head(20)"
   ]
  },
  {
   "cell_type": "code",
   "execution_count": 196,
   "id": "735ed1bc-01f2-4e36-acb7-cab72ad2757f",
   "metadata": {},
   "outputs": [
    {
     "data": {
      "image/png": "[encoded data removed]",
      "text/plain": [
       "<Figure size 1200x600 with 2 Axes>"
      ]
     },
     "metadata": {},
     "output_type": "display_data"
    }
   ],
   "source": [
    "view = a[a[\"stacks\"]>1]\n",
    "fig, axes = plt.subplots(1, 2, figsize=(12, 6), sharey=True)\n",
    "\n",
    "# Titles for each subplot\n",
    "titles = [\"Direction: 1\", \"Direction: -1\"]\n",
    "\n",
    "# Iterate over directions and corresponding axes\n",
    "for i, direction in enumerate([1, -1]):\n",
    "    d_analysis = view[view[\"direction\"] == direction]\n",
    "    axes[i].scatter(\n",
    "        d_analysis[\"risk\"],\n",
    "        d_analysis[\"return\"],\n",
    "        c=d_analysis[\"color\"],\n",
    "        s=d_analysis[\"stacks\"]/10,\n",
    "        alpha=0.8,\n",
    "        edgecolors=\"w\",\n",
    "    )\n",
    "    axes[i].set_title(titles[i])\n",
    "    axes[i].set_xlabel(\"Sharpe Ratio\")\n",
    "    axes[i].set_ylabel(\"Return\" if i == 0 else \"\")  # Only label y-axis on the first plot\n",
    "\n",
    "# Adjust layout for better spacing\n",
    "plt.tight_layout()\n",
    "\n",
    "# Show the combined plot\n",
    "plt.show()"
   ]
  },
  {
   "cell_type": "code",
   "execution_count": 231,
   "id": "fb63bbf6-0639-445b-aef4-44998e4f17fb",
   "metadata": {},
   "outputs": [
    {
     "name": "stdout",
     "output_type": "stream",
     "text": [
      "direction                1\n",
      "val                      1\n",
      "mini                     0\n",
      "maxi                     3\n",
      "stacks                   1\n",
      "risk              2.207723\n",
      "sharpe               6.738\n",
      "return            7.322538\n",
      "color                 blue\n",
      "return_to_risk    3.316783\n",
      "Name: 43, dtype: object\n"
     ]
    }
   ],
   "source": [
    "top = a[a[\"direction\"]==1].sort_values(\"return\",ascending=False).iloc[0]\n",
    "print(top)\n",
    "direction = top[\"direction\"].item()\n",
    "value = top[\"val\"].item()\n",
    "maximum_index = top[\"maxi\"].item()\n",
    "minimum_index = top[\"mini\"].item()\n",
    "num_stocks_per_industry = top[\"stacks\"].item()\n",
    "stacks = rank_list(value,num_stocks_per_industry)"
   ]
  },
  {
   "cell_type": "code",
   "execution_count": 232,
   "id": "1bef746e-1a59-467c-8252-15d65257bddd",
   "metadata": {},
   "outputs": [],
   "source": [
    "stacks = rank_list(value,num_stocks_per_industry)\n",
    "filtered_simulation = simulation[(simulation[\"market_cap_rank\"]<=maximum_index) & (simulation[\"market_cap_rank\"]>=minimum_index)].copy()\n",
    "trades = filtered_simulation[filtered_columns].groupby([\"year\",\"quarter\",\"ticker\"]).agg(agg_query).copy().reset_index()\n",
    "trades = trades.sort_values(\"rank\",ascending=True).groupby([\"year\",\"quarter\",\"market_cap_rank\"]).nth(stacks).reset_index()\n",
    "trades[\"return\"] = (trades[\"sell_price\"] - trades[\"adjclose\"])/trades[\"adjclose\"]\n",
    "trades[\"return\"] = trades[\"return\"] * trades[\"exposure\"] * direction \n",
    "trades = trades.merge(index[[\"ticker\",\"name\"]],on=\"ticker\",how=\"left\")\n",
    "trades[\"count\"] = 1\n",
    "analysis = trades[[\"year\",\"quarter\",\"exposure\",\"return\"]].groupby([\"year\",\"quarter\",\"exposure\"]).mean().pivot_table(index=[\"year\",\"quarter\"],columns=\"exposure\",values=\"return\").reset_index()\n",
    "portfolio = trades[[\"year\",\"quarter\",\"return\"]].groupby([\"year\",\"quarter\"]).mean().reset_index().sort_values([\"year\",\"quarter\"])\n",
    "portfolio[\"return\"] = portfolio[\"return\"] + 1\n",
    "portfolio[\"return\"] = portfolio[\"return\"].cumprod() - 1\n",
    "portfolio['Year-Quarter'] = portfolio[\"year\"].astype(str) + \"q\" + portfolio[\"quarter\"].astype(str)\n",
    "portfolio = portfolio.merge(benchmark,on=[\"year\",\"quarter\"],how=\"left\")"
   ]
  },
  {
   "cell_type": "code",
   "execution_count": 233,
   "id": "fa25dd38-54ef-46d7-870c-3600752c58f0",
   "metadata": {},
   "outputs": [
    {
     "data": {
      "text/html": [
       "<div>\n",
       "<style scoped>\n",
       "    .dataframe tbody tr th:only-of-type {\n",
       "        vertical-align: middle;\n",
       "    }\n",
       "\n",
       "    .dataframe tbody tr th {\n",
       "        vertical-align: top;\n",
       "    }\n",
       "\n",
       "    .dataframe thead th {\n",
       "        text-align: right;\n",
       "    }\n",
       "</style>\n",
       "<table border=\"1\" class=\"dataframe\">\n",
       "  <thead>\n",
       "    <tr style=\"text-align: right;\">\n",
       "      <th></th>\n",
       "      <th></th>\n",
       "      <th>return</th>\n",
       "      <th>count</th>\n",
       "      <th>adjclose</th>\n",
       "    </tr>\n",
       "    <tr>\n",
       "      <th>name</th>\n",
       "      <th>ticker</th>\n",
       "      <th></th>\n",
       "      <th></th>\n",
       "      <th></th>\n",
       "    </tr>\n",
       "  </thead>\n",
       "  <tbody>\n",
       "    <tr>\n",
       "      <th>CommScope Holding Company, Inc.</th>\n",
       "      <th>COMM</th>\n",
       "      <td>2.491429</td>\n",
       "      <td>1</td>\n",
       "      <td>1.750000</td>\n",
       "    </tr>\n",
       "    <tr>\n",
       "      <th>Archer Aviation Inc.</th>\n",
       "      <th>ACHR</th>\n",
       "      <td>2.282828</td>\n",
       "      <td>1</td>\n",
       "      <td>2.970000</td>\n",
       "    </tr>\n",
       "    <tr>\n",
       "      <th>Firefly Neuroscience, Inc. Common Stock</th>\n",
       "      <th>AIFF</th>\n",
       "      <td>1.473016</td>\n",
       "      <td>1</td>\n",
       "      <td>3.150000</td>\n",
       "    </tr>\n",
       "    <tr>\n",
       "      <th>C4 Therapeutics, Inc.</th>\n",
       "      <th>CCCC</th>\n",
       "      <td>1.414530</td>\n",
       "      <td>1</td>\n",
       "      <td>2.340000</td>\n",
       "    </tr>\n",
       "    <tr>\n",
       "      <th>Neuronetics, Inc. Common Stock</th>\n",
       "      <th>STIM</th>\n",
       "      <td>1.162393</td>\n",
       "      <td>1</td>\n",
       "      <td>2.340000</td>\n",
       "    </tr>\n",
       "    <tr>\n",
       "      <th>National CineMedia, Inc.</th>\n",
       "      <th>NCMI</th>\n",
       "      <td>1.076177</td>\n",
       "      <td>1</td>\n",
       "      <td>2.061000</td>\n",
       "    </tr>\n",
       "    <tr>\n",
       "      <th>TeraWulf Inc. Common Stock</th>\n",
       "      <th>WULF</th>\n",
       "      <td>0.915638</td>\n",
       "      <td>2</td>\n",
       "      <td>1.815000</td>\n",
       "    </tr>\n",
       "    <tr>\n",
       "      <th>Carvana Co.</th>\n",
       "      <th>CVNA</th>\n",
       "      <td>0.859155</td>\n",
       "      <td>2</td>\n",
       "      <td>15.580000</td>\n",
       "    </tr>\n",
       "    <tr>\n",
       "      <th>Banzai International, Inc. Class A Common Stock</th>\n",
       "      <th>BNZI</th>\n",
       "      <td>0.448155</td>\n",
       "      <td>1</td>\n",
       "      <td>5.690000</td>\n",
       "    </tr>\n",
       "    <tr>\n",
       "      <th>Immunic, Inc. Common Stock</th>\n",
       "      <th>IMUX</th>\n",
       "      <td>0.354025</td>\n",
       "      <td>1</td>\n",
       "      <td>10.310000</td>\n",
       "    </tr>\n",
       "    <tr>\n",
       "      <th>Adial Pharmaceuticals, Inc</th>\n",
       "      <th>ADIL</th>\n",
       "      <td>0.278970</td>\n",
       "      <td>1</td>\n",
       "      <td>2.330000</td>\n",
       "    </tr>\n",
       "    <tr>\n",
       "      <th>Vistra Corp.</th>\n",
       "      <th>VST</th>\n",
       "      <td>0.126791</td>\n",
       "      <td>1</td>\n",
       "      <td>122.149368</td>\n",
       "    </tr>\n",
       "    <tr>\n",
       "      <th>Coinbase Global, Inc. Class A Common Stock</th>\n",
       "      <th>COIN</th>\n",
       "      <td>0.124823</td>\n",
       "      <td>1</td>\n",
       "      <td>63.610000</td>\n",
       "    </tr>\n",
       "    <tr>\n",
       "      <th>iBio, Inc. Common Stock</th>\n",
       "      <th>IBIO</th>\n",
       "      <td>0.121622</td>\n",
       "      <td>1</td>\n",
       "      <td>29.600000</td>\n",
       "    </tr>\n",
       "    <tr>\n",
       "      <th>N2OFF, Inc. Common Stock</th>\n",
       "      <th>NITO</th>\n",
       "      <td>0.093458</td>\n",
       "      <td>1</td>\n",
       "      <td>1.070000</td>\n",
       "    </tr>\n",
       "    <tr>\n",
       "      <th>AGNC Investment Corp. Common Stock</th>\n",
       "      <th>AGNC</th>\n",
       "      <td>0.063811</td>\n",
       "      <td>1</td>\n",
       "      <td>8.136236</td>\n",
       "    </tr>\n",
       "    <tr>\n",
       "      <th>MARA Holdings, Inc. Common Stock</th>\n",
       "      <th>MARA</th>\n",
       "      <td>0.060159</td>\n",
       "      <td>2</td>\n",
       "      <td>17.040000</td>\n",
       "    </tr>\n",
       "    <tr>\n",
       "      <th>Microvast Holdings, Inc. Common Stock</th>\n",
       "      <th>MVST</th>\n",
       "      <td>0.008969</td>\n",
       "      <td>1</td>\n",
       "      <td>2.230000</td>\n",
       "    </tr>\n",
       "    <tr>\n",
       "      <th>AppTech Payments Corp. Common Stock</th>\n",
       "      <th>APCX</th>\n",
       "      <td>0.000000</td>\n",
       "      <td>1</td>\n",
       "      <td>2.760000</td>\n",
       "    </tr>\n",
       "    <tr>\n",
       "      <th>Vivos Therapeutics, Inc. Common Stock</th>\n",
       "      <th>VVOS</th>\n",
       "      <td>0.000000</td>\n",
       "      <td>1</td>\n",
       "      <td>4.130000</td>\n",
       "    </tr>\n",
       "    <tr>\n",
       "      <th>Addentax Group Corp. Common Stock</th>\n",
       "      <th>ATXG</th>\n",
       "      <td>0.000000</td>\n",
       "      <td>1</td>\n",
       "      <td>34.400000</td>\n",
       "    </tr>\n",
       "    <tr>\n",
       "      <th>VYNE Therapeutics Inc. Common Stock</th>\n",
       "      <th>VYNE</th>\n",
       "      <td>0.000000</td>\n",
       "      <td>1</td>\n",
       "      <td>2.770000</td>\n",
       "    </tr>\n",
       "    <tr>\n",
       "      <th>Target Hospitality Corp. Common Stock</th>\n",
       "      <th>TH</th>\n",
       "      <td>0.000000</td>\n",
       "      <td>1</td>\n",
       "      <td>5.050000</td>\n",
       "    </tr>\n",
       "    <tr>\n",
       "      <th>Safety Shot, Inc. Common Stock</th>\n",
       "      <th>SHOT</th>\n",
       "      <td>0.000000</td>\n",
       "      <td>1</td>\n",
       "      <td>0.550000</td>\n",
       "    </tr>\n",
       "    <tr>\n",
       "      <th>Phio Pharmaceuticals Corp. Common Stock</th>\n",
       "      <th>PHIO</th>\n",
       "      <td>0.000000</td>\n",
       "      <td>1</td>\n",
       "      <td>2.230000</td>\n",
       "    </tr>\n",
       "    <tr>\n",
       "      <th>Oric Pharmaceuticals, Inc. Common Stock</th>\n",
       "      <th>ORIC</th>\n",
       "      <td>0.000000</td>\n",
       "      <td>1</td>\n",
       "      <td>4.760000</td>\n",
       "    </tr>\n",
       "    <tr>\n",
       "      <th>Annovis Bio, Inc.</th>\n",
       "      <th>ANVS</th>\n",
       "      <td>0.000000</td>\n",
       "      <td>1</td>\n",
       "      <td>11.100000</td>\n",
       "    </tr>\n",
       "    <tr>\n",
       "      <th>Eton Pharmaceutcials, Inc. Common Stock</th>\n",
       "      <th>ETON</th>\n",
       "      <td>0.000000</td>\n",
       "      <td>1</td>\n",
       "      <td>3.030000</td>\n",
       "    </tr>\n",
       "    <tr>\n",
       "      <th>Nixxy, Inc. Common Stock</th>\n",
       "      <th>NIXX</th>\n",
       "      <td>0.000000</td>\n",
       "      <td>1</td>\n",
       "      <td>2.700000</td>\n",
       "    </tr>\n",
       "    <tr>\n",
       "      <th>Mesa Air Group, Inc. Common Stock</th>\n",
       "      <th>MESA</th>\n",
       "      <td>0.000000</td>\n",
       "      <td>1</td>\n",
       "      <td>0.960000</td>\n",
       "    </tr>\n",
       "    <tr>\n",
       "      <th>Benitec Biopharma Inc. Common Stock</th>\n",
       "      <th>BNTC</th>\n",
       "      <td>0.000000</td>\n",
       "      <td>1</td>\n",
       "      <td>6.120000</td>\n",
       "    </tr>\n",
       "    <tr>\n",
       "      <th>Intelligent Protection Management Corp. Common Stock</th>\n",
       "      <th>IPM</th>\n",
       "      <td>0.000000</td>\n",
       "      <td>1</td>\n",
       "      <td>2.230000</td>\n",
       "    </tr>\n",
       "    <tr>\n",
       "      <th>Kodiak Sciences Inc Common Stock</th>\n",
       "      <th>KOD</th>\n",
       "      <td>0.000000</td>\n",
       "      <td>1</td>\n",
       "      <td>7.530000</td>\n",
       "    </tr>\n",
       "    <tr>\n",
       "      <th>United Rentals, Inc.</th>\n",
       "      <th>URI</th>\n",
       "      <td>-0.005998</td>\n",
       "      <td>1</td>\n",
       "      <td>440.604975</td>\n",
       "    </tr>\n",
       "    <tr>\n",
       "      <th>GoPro, Inc.</th>\n",
       "      <th>GPRO</th>\n",
       "      <td>-0.014803</td>\n",
       "      <td>1</td>\n",
       "      <td>6.080000</td>\n",
       "    </tr>\n",
       "    <tr>\n",
       "      <th>Lyft, Inc. Class A Common Stock</th>\n",
       "      <th>LYFT</th>\n",
       "      <td>-0.022997</td>\n",
       "      <td>1</td>\n",
       "      <td>13.480000</td>\n",
       "    </tr>\n",
       "    <tr>\n",
       "      <th>Plug Power Inc.</th>\n",
       "      <th>PLUG</th>\n",
       "      <td>-0.037767</td>\n",
       "      <td>1</td>\n",
       "      <td>12.180000</td>\n",
       "    </tr>\n",
       "    <tr>\n",
       "      <th>MongoDB, Inc. Class A</th>\n",
       "      <th>MDB</th>\n",
       "      <td>-0.065287</td>\n",
       "      <td>1</td>\n",
       "      <td>383.690000</td>\n",
       "    </tr>\n",
       "    <tr>\n",
       "      <th>Riot Platforms, Inc. Common Stock</th>\n",
       "      <th>RIOT</th>\n",
       "      <td>-0.069041</td>\n",
       "      <td>1</td>\n",
       "      <td>22.740000</td>\n",
       "    </tr>\n",
       "    <tr>\n",
       "      <th>ON Semiconductor Corp</th>\n",
       "      <th>ON</th>\n",
       "      <td>-0.071767</td>\n",
       "      <td>1</td>\n",
       "      <td>73.850000</td>\n",
       "    </tr>\n",
       "  </tbody>\n",
       "</table>\n",
       "</div>"
      ],
      "text/plain": [
       "                                                             return  count  \\\n",
       "name                                               ticker                    \n",
       "CommScope Holding Company, Inc.                    COMM    2.491429      1   \n",
       "Archer Aviation Inc.                               ACHR    2.282828      1   \n",
       "Firefly Neuroscience, Inc. Common Stock            AIFF    1.473016      1   \n",
       "C4 Therapeutics, Inc.                              CCCC    1.414530      1   \n",
       "Neuronetics, Inc. Common Stock                     STIM    1.162393      1   \n",
       "National CineMedia, Inc.                           NCMI    1.076177      1   \n",
       "TeraWulf Inc. Common Stock                         WULF    0.915638      2   \n",
       "Carvana Co.                                        CVNA    0.859155      2   \n",
       "Banzai International, Inc. Class A Common Stock    BNZI    0.448155      1   \n",
       "Immunic, Inc. Common Stock                         IMUX    0.354025      1   \n",
       "Adial Pharmaceuticals, Inc                         ADIL    0.278970      1   \n",
       "Vistra Corp.                                       VST     0.126791      1   \n",
       "Coinbase Global, Inc. Class A Common Stock         COIN    0.124823      1   \n",
       "iBio, Inc. Common Stock                            IBIO    0.121622      1   \n",
       "N2OFF, Inc. Common Stock                           NITO    0.093458      1   \n",
       "AGNC Investment Corp. Common Stock                 AGNC    0.063811      1   \n",
       "MARA Holdings, Inc. Common Stock                   MARA    0.060159      2   \n",
       "Microvast Holdings, Inc. Common Stock              MVST    0.008969      1   \n",
       "AppTech Payments Corp. Common Stock                APCX    0.000000      1   \n",
       "Vivos Therapeutics, Inc. Common Stock              VVOS    0.000000      1   \n",
       "Addentax Group Corp. Common Stock                  ATXG    0.000000      1   \n",
       "VYNE Therapeutics Inc. Common Stock                VYNE    0.000000      1   \n",
       "Target Hospitality Corp. Common Stock              TH      0.000000      1   \n",
       "Safety Shot, Inc. Common Stock                     SHOT    0.000000      1   \n",
       "Phio Pharmaceuticals Corp. Common Stock            PHIO    0.000000      1   \n",
       "Oric Pharmaceuticals, Inc. Common Stock            ORIC    0.000000      1   \n",
       "Annovis Bio, Inc.                                  ANVS    0.000000      1   \n",
       "Eton Pharmaceutcials, Inc. Common Stock            ETON    0.000000      1   \n",
       "Nixxy, Inc. Common Stock                           NIXX    0.000000      1   \n",
       "Mesa Air Group, Inc. Common Stock                  MESA    0.000000      1   \n",
       "Benitec Biopharma Inc. Common Stock                BNTC    0.000000      1   \n",
       "Intelligent Protection Management Corp. Common ... IPM     0.000000      1   \n",
       "Kodiak Sciences Inc Common Stock                   KOD     0.000000      1   \n",
       "United Rentals, Inc.                               URI    -0.005998      1   \n",
       "GoPro, Inc.                                        GPRO   -0.014803      1   \n",
       "Lyft, Inc. Class A Common Stock                    LYFT   -0.022997      1   \n",
       "Plug Power Inc.                                    PLUG   -0.037767      1   \n",
       "MongoDB, Inc. Class A                              MDB    -0.065287      1   \n",
       "Riot Platforms, Inc. Common Stock                  RIOT   -0.069041      1   \n",
       "ON Semiconductor Corp                              ON     -0.071767      1   \n",
       "\n",
       "                                                             adjclose  \n",
       "name                                               ticker              \n",
       "CommScope Holding Company, Inc.                    COMM      1.750000  \n",
       "Archer Aviation Inc.                               ACHR      2.970000  \n",
       "Firefly Neuroscience, Inc. Common Stock            AIFF      3.150000  \n",
       "C4 Therapeutics, Inc.                              CCCC      2.340000  \n",
       "Neuronetics, Inc. Common Stock                     STIM      2.340000  \n",
       "National CineMedia, Inc.                           NCMI      2.061000  \n",
       "TeraWulf Inc. Common Stock                         WULF      1.815000  \n",
       "Carvana Co.                                        CVNA     15.580000  \n",
       "Banzai International, Inc. Class A Common Stock    BNZI      5.690000  \n",
       "Immunic, Inc. Common Stock                         IMUX     10.310000  \n",
       "Adial Pharmaceuticals, Inc                         ADIL      2.330000  \n",
       "Vistra Corp.                                       VST     122.149368  \n",
       "Coinbase Global, Inc. Class A Common Stock         COIN     63.610000  \n",
       "iBio, Inc. Common Stock                            IBIO     29.600000  \n",
       "N2OFF, Inc. Common Stock                           NITO      1.070000  \n",
       "AGNC Investment Corp. Common Stock                 AGNC      8.136236  \n",
       "MARA Holdings, Inc. Common Stock                   MARA     17.040000  \n",
       "Microvast Holdings, Inc. Common Stock              MVST      2.230000  \n",
       "AppTech Payments Corp. Common Stock                APCX      2.760000  \n",
       "Vivos Therapeutics, Inc. Common Stock              VVOS      4.130000  \n",
       "Addentax Group Corp. Common Stock                  ATXG     34.400000  \n",
       "VYNE Therapeutics Inc. Common Stock                VYNE      2.770000  \n",
       "Target Hospitality Corp. Common Stock              TH        5.050000  \n",
       "Safety Shot, Inc. Common Stock                     SHOT      0.550000  \n",
       "Phio Pharmaceuticals Corp. Common Stock            PHIO      2.230000  \n",
       "Oric Pharmaceuticals, Inc. Common Stock            ORIC      4.760000  \n",
       "Annovis Bio, Inc.                                  ANVS     11.100000  \n",
       "Eton Pharmaceutcials, Inc. Common Stock            ETON      3.030000  \n",
       "Nixxy, Inc. Common Stock                           NIXX      2.700000  \n",
       "Mesa Air Group, Inc. Common Stock                  MESA      0.960000  \n",
       "Benitec Biopharma Inc. Common Stock                BNTC      6.120000  \n",
       "Intelligent Protection Management Corp. Common ... IPM       2.230000  \n",
       "Kodiak Sciences Inc Common Stock                   KOD       7.530000  \n",
       "United Rentals, Inc.                               URI     440.604975  \n",
       "GoPro, Inc.                                        GPRO      6.080000  \n",
       "Lyft, Inc. Class A Common Stock                    LYFT     13.480000  \n",
       "Plug Power Inc.                                    PLUG     12.180000  \n",
       "MongoDB, Inc. Class A                              MDB     383.690000  \n",
       "Riot Platforms, Inc. Common Stock                  RIOT     22.740000  \n",
       "ON Semiconductor Corp                              ON       73.850000  "
      ]
     },
     "execution_count": 233,
     "metadata": {},
     "output_type": "execute_result"
    }
   ],
   "source": [
    "trades.groupby([\"name\",\"ticker\"]).agg({\"return\":\"mean\",\"count\":\"sum\",\"adjclose\":\"mean\"}).sort_values(\"return\",ascending=False).head(40)"
   ]
  },
  {
   "cell_type": "code",
   "execution_count": 242,
   "id": "29ff3a2d-fa01-47bb-8c97-ce149d488acf",
   "metadata": {},
   "outputs": [
    {
     "data": {
      "text/html": [
       "<div>\n",
       "<style scoped>\n",
       "    .dataframe tbody tr th:only-of-type {\n",
       "        vertical-align: middle;\n",
       "    }\n",
       "\n",
       "    .dataframe tbody tr th {\n",
       "        vertical-align: top;\n",
       "    }\n",
       "\n",
       "    .dataframe thead th {\n",
       "        text-align: right;\n",
       "    }\n",
       "</style>\n",
       "<table border=\"1\" class=\"dataframe\">\n",
       "  <thead>\n",
       "    <tr style=\"text-align: right;\">\n",
       "      <th></th>\n",
       "      <th>index</th>\n",
       "      <th>year</th>\n",
       "      <th>quarter</th>\n",
       "      <th>ticker</th>\n",
       "      <th>date</th>\n",
       "      <th>sell_date</th>\n",
       "      <th>market_cap_rank</th>\n",
       "      <th>exposure</th>\n",
       "      <th>rank</th>\n",
       "      <th>adjclose</th>\n",
       "      <th>sell_price</th>\n",
       "      <th>return</th>\n",
       "      <th>name</th>\n",
       "      <th>count</th>\n",
       "    </tr>\n",
       "  </thead>\n",
       "  <tbody>\n",
       "    <tr>\n",
       "      <th>47</th>\n",
       "      <td>987</td>\n",
       "      <td>2022</td>\n",
       "      <td>1</td>\n",
       "      <td>RIOT</td>\n",
       "      <td>2022-01-03</td>\n",
       "      <td>2022-03-31</td>\n",
       "      <td>1</td>\n",
       "      <td>1</td>\n",
       "      <td>1</td>\n",
       "      <td>22.74</td>\n",
       "      <td>21.17</td>\n",
       "      <td>-0.069041</td>\n",
       "      <td>Riot Platforms, Inc. Common Stock</td>\n",
       "      <td>1</td>\n",
       "    </tr>\n",
       "    <tr>\n",
       "      <th>30</th>\n",
       "      <td>581</td>\n",
       "      <td>2022</td>\n",
       "      <td>1</td>\n",
       "      <td>IMUX</td>\n",
       "      <td>2022-01-04</td>\n",
       "      <td>2022-02-01</td>\n",
       "      <td>3</td>\n",
       "      <td>1</td>\n",
       "      <td>1</td>\n",
       "      <td>10.31</td>\n",
       "      <td>13.96</td>\n",
       "      <td>0.354025</td>\n",
       "      <td>Immunic, Inc. Common Stock</td>\n",
       "      <td>1</td>\n",
       "    </tr>\n",
       "    <tr>\n",
       "      <th>46</th>\n",
       "      <td>730</td>\n",
       "      <td>2022</td>\n",
       "      <td>1</td>\n",
       "      <td>MGLD</td>\n",
       "      <td>2022-03-11</td>\n",
       "      <td>2022-03-14</td>\n",
       "      <td>0</td>\n",
       "      <td>1</td>\n",
       "      <td>1</td>\n",
       "      <td>4.11</td>\n",
       "      <td>3.39</td>\n",
       "      <td>-0.175182</td>\n",
       "      <td>The Marygold Companies, Inc.</td>\n",
       "      <td>1</td>\n",
       "    </tr>\n",
       "    <tr>\n",
       "      <th>42</th>\n",
       "      <td>860</td>\n",
       "      <td>2022</td>\n",
       "      <td>1</td>\n",
       "      <td>ORIC</td>\n",
       "      <td>2022-03-22</td>\n",
       "      <td>2022-03-22</td>\n",
       "      <td>2</td>\n",
       "      <td>1</td>\n",
       "      <td>1</td>\n",
       "      <td>4.76</td>\n",
       "      <td>4.76</td>\n",
       "      <td>0.000000</td>\n",
       "      <td>Oric Pharmaceuticals, Inc. Common Stock</td>\n",
       "      <td>1</td>\n",
       "    </tr>\n",
       "    <tr>\n",
       "      <th>36</th>\n",
       "      <td>2067</td>\n",
       "      <td>2022</td>\n",
       "      <td>2</td>\n",
       "      <td>MARA</td>\n",
       "      <td>2022-04-01</td>\n",
       "      <td>2022-06-30</td>\n",
       "      <td>1</td>\n",
       "      <td>1</td>\n",
       "      <td>1</td>\n",
       "      <td>28.54</td>\n",
       "      <td>5.34</td>\n",
       "      <td>-0.812894</td>\n",
       "      <td>MARA Holdings, Inc. Common Stock</td>\n",
       "      <td>1</td>\n",
       "    </tr>\n",
       "    <tr>\n",
       "      <th>49</th>\n",
       "      <td>2374</td>\n",
       "      <td>2022</td>\n",
       "      <td>2</td>\n",
       "      <td>RH</td>\n",
       "      <td>2022-04-01</td>\n",
       "      <td>2022-06-30</td>\n",
       "      <td>0</td>\n",
       "      <td>1</td>\n",
       "      <td>1</td>\n",
       "      <td>320.54</td>\n",
       "      <td>212.26</td>\n",
       "      <td>-0.337805</td>\n",
       "      <td>RH</td>\n",
       "      <td>1</td>\n",
       "    </tr>\n",
       "    <tr>\n",
       "      <th>33</th>\n",
       "      <td>2004</td>\n",
       "      <td>2022</td>\n",
       "      <td>2</td>\n",
       "      <td>KOD</td>\n",
       "      <td>2022-06-01</td>\n",
       "      <td>2022-06-01</td>\n",
       "      <td>3</td>\n",
       "      <td>1</td>\n",
       "      <td>1</td>\n",
       "      <td>7.53</td>\n",
       "      <td>7.53</td>\n",
       "      <td>0.000000</td>\n",
       "      <td>Kodiak Sciences Inc Common Stock</td>\n",
       "      <td>1</td>\n",
       "    </tr>\n",
       "    <tr>\n",
       "      <th>7</th>\n",
       "      <td>1958</td>\n",
       "      <td>2022</td>\n",
       "      <td>2</td>\n",
       "      <td>IPM</td>\n",
       "      <td>2022-06-10</td>\n",
       "      <td>2022-06-10</td>\n",
       "      <td>2</td>\n",
       "      <td>1</td>\n",
       "      <td>1</td>\n",
       "      <td>2.23</td>\n",
       "      <td>2.23</td>\n",
       "      <td>0.000000</td>\n",
       "      <td>Intelligent Protection Management Corp. Common...</td>\n",
       "      <td>1</td>\n",
       "    </tr>\n",
       "    <tr>\n",
       "      <th>5</th>\n",
       "      <td>3054</td>\n",
       "      <td>2022</td>\n",
       "      <td>3</td>\n",
       "      <td>CVNA</td>\n",
       "      <td>2022-07-01</td>\n",
       "      <td>2022-09-30</td>\n",
       "      <td>0</td>\n",
       "      <td>1</td>\n",
       "      <td>1</td>\n",
       "      <td>21.87</td>\n",
       "      <td>20.30</td>\n",
       "      <td>-0.071788</td>\n",
       "      <td>Carvana Co.</td>\n",
       "      <td>1</td>\n",
       "    </tr>\n",
       "    <tr>\n",
       "      <th>41</th>\n",
       "      <td>3487</td>\n",
       "      <td>2022</td>\n",
       "      <td>3</td>\n",
       "      <td>MARA</td>\n",
       "      <td>2022-07-01</td>\n",
       "      <td>2022-09-30</td>\n",
       "      <td>2</td>\n",
       "      <td>1</td>\n",
       "      <td>1</td>\n",
       "      <td>5.54</td>\n",
       "      <td>10.71</td>\n",
       "      <td>0.933213</td>\n",
       "      <td>MARA Holdings, Inc. Common Stock</td>\n",
       "      <td>1</td>\n",
       "    </tr>\n",
       "    <tr>\n",
       "      <th>40</th>\n",
       "      <td>3483</td>\n",
       "      <td>2022</td>\n",
       "      <td>3</td>\n",
       "      <td>LYFT</td>\n",
       "      <td>2022-07-01</td>\n",
       "      <td>2022-09-30</td>\n",
       "      <td>1</td>\n",
       "      <td>1</td>\n",
       "      <td>1</td>\n",
       "      <td>13.48</td>\n",
       "      <td>13.17</td>\n",
       "      <td>-0.022997</td>\n",
       "      <td>Lyft, Inc. Class A Common Stock</td>\n",
       "      <td>1</td>\n",
       "    </tr>\n",
       "    <tr>\n",
       "      <th>20</th>\n",
       "      <td>3156</td>\n",
       "      <td>2022</td>\n",
       "      <td>3</td>\n",
       "      <td>ETON</td>\n",
       "      <td>2022-07-18</td>\n",
       "      <td>2022-07-18</td>\n",
       "      <td>3</td>\n",
       "      <td>1</td>\n",
       "      <td>1</td>\n",
       "      <td>3.03</td>\n",
       "      <td>3.03</td>\n",
       "      <td>0.000000</td>\n",
       "      <td>Eton Pharmaceutcials, Inc. Common Stock</td>\n",
       "      <td>1</td>\n",
       "    </tr>\n",
       "    <tr>\n",
       "      <th>12</th>\n",
       "      <td>4264</td>\n",
       "      <td>2022</td>\n",
       "      <td>4</td>\n",
       "      <td>ATXG</td>\n",
       "      <td>2022-10-06</td>\n",
       "      <td>2022-10-06</td>\n",
       "      <td>2</td>\n",
       "      <td>1</td>\n",
       "      <td>1</td>\n",
       "      <td>34.40</td>\n",
       "      <td>34.40</td>\n",
       "      <td>0.000000</td>\n",
       "      <td>Addentax Group Corp. Common Stock</td>\n",
       "      <td>1</td>\n",
       "    </tr>\n",
       "    <tr>\n",
       "      <th>31</th>\n",
       "      <td>4570</td>\n",
       "      <td>2022</td>\n",
       "      <td>4</td>\n",
       "      <td>EPIX</td>\n",
       "      <td>2022-10-26</td>\n",
       "      <td>2022-11-01</td>\n",
       "      <td>0</td>\n",
       "      <td>1</td>\n",
       "      <td>1</td>\n",
       "      <td>4.82</td>\n",
       "      <td>3.60</td>\n",
       "      <td>-0.253112</td>\n",
       "      <td>ESSA Pharma Inc. Common Stock</td>\n",
       "      <td>1</td>\n",
       "    </tr>\n",
       "    <tr>\n",
       "      <th>9</th>\n",
       "      <td>4259</td>\n",
       "      <td>2022</td>\n",
       "      <td>4</td>\n",
       "      <td>ATNM</td>\n",
       "      <td>2022-10-31</td>\n",
       "      <td>2022-11-22</td>\n",
       "      <td>1</td>\n",
       "      <td>1</td>\n",
       "      <td>1</td>\n",
       "      <td>13.54</td>\n",
       "      <td>10.24</td>\n",
       "      <td>-0.243722</td>\n",
       "      <td>Actinium Pharmaceuticals, Inc</td>\n",
       "      <td>1</td>\n",
       "    </tr>\n",
       "    <tr>\n",
       "      <th>3</th>\n",
       "      <td>4221</td>\n",
       "      <td>2022</td>\n",
       "      <td>4</td>\n",
       "      <td>APCX</td>\n",
       "      <td>2022-12-22</td>\n",
       "      <td>2022-12-22</td>\n",
       "      <td>3</td>\n",
       "      <td>1</td>\n",
       "      <td>1</td>\n",
       "      <td>2.76</td>\n",
       "      <td>2.76</td>\n",
       "      <td>0.000000</td>\n",
       "      <td>AppTech Payments Corp. Common Stock</td>\n",
       "      <td>1</td>\n",
       "    </tr>\n",
       "    <tr>\n",
       "      <th>44</th>\n",
       "      <td>6638</td>\n",
       "      <td>2023</td>\n",
       "      <td>1</td>\n",
       "      <td>PLUG</td>\n",
       "      <td>2023-01-03</td>\n",
       "      <td>2023-03-31</td>\n",
       "      <td>0</td>\n",
       "      <td>1</td>\n",
       "      <td>1</td>\n",
       "      <td>12.18</td>\n",
       "      <td>11.72</td>\n",
       "      <td>-0.037767</td>\n",
       "      <td>Plug Power Inc.</td>\n",
       "      <td>1</td>\n",
       "    </tr>\n",
       "    <tr>\n",
       "      <th>27</th>\n",
       "      <td>6486</td>\n",
       "      <td>2023</td>\n",
       "      <td>1</td>\n",
       "      <td>MULN</td>\n",
       "      <td>2023-01-03</td>\n",
       "      <td>2023-03-31</td>\n",
       "      <td>2</td>\n",
       "      <td>1</td>\n",
       "      <td>1</td>\n",
       "      <td>43402500.00</td>\n",
       "      <td>17725500.00</td>\n",
       "      <td>-0.591602</td>\n",
       "      <td>Mullen Automotive, Inc. Common Stock</td>\n",
       "      <td>1</td>\n",
       "    </tr>\n",
       "    <tr>\n",
       "      <th>11</th>\n",
       "      <td>6187</td>\n",
       "      <td>2023</td>\n",
       "      <td>1</td>\n",
       "      <td>GPRO</td>\n",
       "      <td>2023-01-30</td>\n",
       "      <td>2023-02-15</td>\n",
       "      <td>3</td>\n",
       "      <td>1</td>\n",
       "      <td>1</td>\n",
       "      <td>6.08</td>\n",
       "      <td>5.99</td>\n",
       "      <td>-0.014803</td>\n",
       "      <td>GoPro, Inc.</td>\n",
       "      <td>1</td>\n",
       "    </tr>\n",
       "    <tr>\n",
       "      <th>51</th>\n",
       "      <td>6258</td>\n",
       "      <td>2023</td>\n",
       "      <td>1</td>\n",
       "      <td>IBIO</td>\n",
       "      <td>2023-02-17</td>\n",
       "      <td>2023-02-21</td>\n",
       "      <td>1</td>\n",
       "      <td>1</td>\n",
       "      <td>1</td>\n",
       "      <td>29.60</td>\n",
       "      <td>33.20</td>\n",
       "      <td>0.121622</td>\n",
       "      <td>iBio, Inc. Common Stock</td>\n",
       "      <td>1</td>\n",
       "    </tr>\n",
       "  </tbody>\n",
       "</table>\n",
       "</div>"
      ],
      "text/plain": [
       "    index  year  quarter ticker       date  sell_date  market_cap_rank  \\\n",
       "47    987  2022        1   RIOT 2022-01-03 2022-03-31                1   \n",
       "30    581  2022        1   IMUX 2022-01-04 2022-02-01                3   \n",
       "46    730  2022        1   MGLD 2022-03-11 2022-03-14                0   \n",
       "42    860  2022        1   ORIC 2022-03-22 2022-03-22                2   \n",
       "36   2067  2022        2   MARA 2022-04-01 2022-06-30                1   \n",
       "49   2374  2022        2     RH 2022-04-01 2022-06-30                0   \n",
       "33   2004  2022        2    KOD 2022-06-01 2022-06-01                3   \n",
       "7    1958  2022        2    IPM 2022-06-10 2022-06-10                2   \n",
       "5    3054  2022        3   CVNA 2022-07-01 2022-09-30                0   \n",
       "41   3487  2022        3   MARA 2022-07-01 2022-09-30                2   \n",
       "40   3483  2022        3   LYFT 2022-07-01 2022-09-30                1   \n",
       "20   3156  2022        3   ETON 2022-07-18 2022-07-18                3   \n",
       "12   4264  2022        4   ATXG 2022-10-06 2022-10-06                2   \n",
       "31   4570  2022        4   EPIX 2022-10-26 2022-11-01                0   \n",
       "9    4259  2022        4   ATNM 2022-10-31 2022-11-22                1   \n",
       "3    4221  2022        4   APCX 2022-12-22 2022-12-22                3   \n",
       "44   6638  2023        1   PLUG 2023-01-03 2023-03-31                0   \n",
       "27   6486  2023        1   MULN 2023-01-03 2023-03-31                2   \n",
       "11   6187  2023        1   GPRO 2023-01-30 2023-02-15                3   \n",
       "51   6258  2023        1   IBIO 2023-02-17 2023-02-21                1   \n",
       "\n",
       "    exposure  rank     adjclose   sell_price    return  \\\n",
       "47         1     1        22.74        21.17 -0.069041   \n",
       "30         1     1        10.31        13.96  0.354025   \n",
       "46         1     1         4.11         3.39 -0.175182   \n",
       "42         1     1         4.76         4.76  0.000000   \n",
       "36         1     1        28.54         5.34 -0.812894   \n",
       "49         1     1       320.54       212.26 -0.337805   \n",
       "33         1     1         7.53         7.53  0.000000   \n",
       "7          1     1         2.23         2.23  0.000000   \n",
       "5          1     1        21.87        20.30 -0.071788   \n",
       "41         1     1         5.54        10.71  0.933213   \n",
       "40         1     1        13.48        13.17 -0.022997   \n",
       "20         1     1         3.03         3.03  0.000000   \n",
       "12         1     1        34.40        34.40  0.000000   \n",
       "31         1     1         4.82         3.60 -0.253112   \n",
       "9          1     1        13.54        10.24 -0.243722   \n",
       "3          1     1         2.76         2.76  0.000000   \n",
       "44         1     1        12.18        11.72 -0.037767   \n",
       "27         1     1  43402500.00  17725500.00 -0.591602   \n",
       "11         1     1         6.08         5.99 -0.014803   \n",
       "51         1     1        29.60        33.20  0.121622   \n",
       "\n",
       "                                                 name  count  \n",
       "47                  Riot Platforms, Inc. Common Stock      1  \n",
       "30                         Immunic, Inc. Common Stock      1  \n",
       "46                       The Marygold Companies, Inc.      1  \n",
       "42            Oric Pharmaceuticals, Inc. Common Stock      1  \n",
       "36                   MARA Holdings, Inc. Common Stock      1  \n",
       "49                                                 RH      1  \n",
       "33                   Kodiak Sciences Inc Common Stock      1  \n",
       "7   Intelligent Protection Management Corp. Common...      1  \n",
       "5                                         Carvana Co.      1  \n",
       "41                   MARA Holdings, Inc. Common Stock      1  \n",
       "40                    Lyft, Inc. Class A Common Stock      1  \n",
       "20            Eton Pharmaceutcials, Inc. Common Stock      1  \n",
       "12                  Addentax Group Corp. Common Stock      1  \n",
       "31                      ESSA Pharma Inc. Common Stock      1  \n",
       "9                       Actinium Pharmaceuticals, Inc      1  \n",
       "3                 AppTech Payments Corp. Common Stock      1  \n",
       "44                                    Plug Power Inc.      1  \n",
       "27               Mullen Automotive, Inc. Common Stock      1  \n",
       "11                                        GoPro, Inc.      1  \n",
       "51                            iBio, Inc. Common Stock      1  "
      ]
     },
     "execution_count": 242,
     "metadata": {},
     "output_type": "execute_result"
    }
   ],
   "source": [
    "trades.sort_values(\"date\",ascending=True).head(20)"
   ]
  },
  {
   "cell_type": "code",
   "execution_count": 235,
   "id": "36cf02b0-947e-445b-9f63-ff00e556ff0b",
   "metadata": {},
   "outputs": [
    {
     "data": {
      "image/png": "[encoded data removed]",
      "text/plain": [
       "<Figure size 1200x600 with 1 Axes>"
      ]
     },
     "metadata": {},
     "output_type": "display_data"
    }
   ],
   "source": [
    "analysis['Year-Quarter'] = analysis[\"year\"].astype(str) + \"q\" + analysis[\"quarter\"].astype(str)\n",
    "\n",
    "# Reset index for plotting\n",
    "analysis.drop([\"year\",\"quarter\"],axis=1,inplace=True)\n",
    "analysis.reset_index(drop=True, inplace=True)\n",
    "\n",
    "# Plot a bar chart\n",
    "analysis.set_index(\"Year-Quarter\").plot(\n",
    "    kind=\"bar\",\n",
    "    figsize=(12, 6),\n",
    "    title=\"Mean Returns by Exposure per Year and Quarter\"\n",
    ")\n",
    "\n",
    "# Customize the plot\n",
    "plt.xlabel(\"Year, Quarter\")\n",
    "plt.ylabel(\"Mean Return\")\n",
    "plt.xticks(rotation=45, ha='right')  # Rotate x-axis labels for better readability\n",
    "plt.legend(title=\"Exposure\")\n",
    "plt.tight_layout()\n",
    "\n",
    "# Show the plot\n",
    "plt.show()\n"
   ]
  },
  {
   "cell_type": "code",
   "execution_count": 236,
   "id": "2d80d54c-8bd8-4174-9215-f8c9e516e4cb",
   "metadata": {},
   "outputs": [
    {
     "data": {
      "image/png": "[encoded data removed]",
      "text/plain": [
       "<Figure size 1200x600 with 1 Axes>"
      ]
     },
     "metadata": {},
     "output_type": "display_data"
    }
   ],
   "source": [
    "# Create the plot\n",
    "ax = portfolio.drop([\"date\", \"year\", \"quarter\"], axis=1).set_index(\"Year-Quarter\").plot(\n",
    "    kind=\"line\",\n",
    "    figsize=(12, 6),\n",
    "    title=\"Mean Returns by Exposure per Year and Quarter\"\n",
    ")\n",
    "\n",
    "# Set y-axis to have more precise ticks\n",
    "ax.tick_params(axis='y', direction='in', length=6)  # Adjust y-tick direction and length\n",
    "ax.yaxis.set_major_formatter(plt.FuncFormatter(lambda x, _: f'{x:.4f}'))  # Format y-ticks with 4 decimal places\n",
    "\n",
    "# Move y-ticks to the right side\n",
    "ax.yaxis.set_tick_params(which='both', direction='inout', length=6, labelleft=False, labelright=True)\n",
    "\n",
    "# Optionally adjust the number of ticks for better precision\n",
    "ax.yaxis.set_major_locator(plt.MaxNLocator(integer=False, prune='both'))\n",
    "\n",
    "# Add grid lines\n",
    "ax.grid(True, which='both', axis='both', linestyle='--', linewidth=0.7)\n",
    "\n",
    "# Display the plot\n",
    "plt.tight_layout()\n",
    "plt.show()\n"
   ]
  },
  {
   "cell_type": "code",
   "execution_count": 243,
   "id": "828e4d63-decf-47e6-94db-55f6073afe90",
   "metadata": {},
   "outputs": [
    {
     "data": {
      "text/html": [
       "<div>\n",
       "<style scoped>\n",
       "    .dataframe tbody tr th:only-of-type {\n",
       "        vertical-align: middle;\n",
       "    }\n",
       "\n",
       "    .dataframe tbody tr th {\n",
       "        vertical-align: top;\n",
       "    }\n",
       "\n",
       "    .dataframe thead th {\n",
       "        text-align: right;\n",
       "    }\n",
       "</style>\n",
       "<table border=\"1\" class=\"dataframe\">\n",
       "  <thead>\n",
       "    <tr style=\"text-align: right;\">\n",
       "      <th></th>\n",
       "      <th>year</th>\n",
       "      <th>quarter</th>\n",
       "      <th>return</th>\n",
       "      <th>Year-Quarter</th>\n",
       "      <th>date</th>\n",
       "      <th>sp500</th>\n",
       "      <th>sp500_prediction</th>\n",
       "      <th>rf</th>\n",
       "    </tr>\n",
       "  </thead>\n",
       "  <tbody>\n",
       "    <tr>\n",
       "      <th>0</th>\n",
       "      <td>2022</td>\n",
       "      <td>1</td>\n",
       "      <td>0.027450</td>\n",
       "      <td>2022q1</td>\n",
       "      <td>2022-02-15 16:38:42.580645120</td>\n",
       "      <td>0.000000</td>\n",
       "      <td>0.000000</td>\n",
       "      <td>0.000000</td>\n",
       "    </tr>\n",
       "    <tr>\n",
       "      <th>1</th>\n",
       "      <td>2022</td>\n",
       "      <td>2</td>\n",
       "      <td>-0.268121</td>\n",
       "      <td>2022q2</td>\n",
       "      <td>2022-05-16 08:07:44.516129024</td>\n",
       "      <td>-0.080242</td>\n",
       "      <td>-0.001327</td>\n",
       "      <td>0.503017</td>\n",
       "    </tr>\n",
       "    <tr>\n",
       "      <th>2</th>\n",
       "      <td>2022</td>\n",
       "      <td>3</td>\n",
       "      <td>-0.114714</td>\n",
       "      <td>2022q3</td>\n",
       "      <td>2022-08-16 15:45:00.000000000</td>\n",
       "      <td>-0.108315</td>\n",
       "      <td>-0.000272</td>\n",
       "      <td>0.589384</td>\n",
       "    </tr>\n",
       "    <tr>\n",
       "      <th>3</th>\n",
       "      <td>2022</td>\n",
       "      <td>4</td>\n",
       "      <td>-0.224674</td>\n",
       "      <td>2022q4</td>\n",
       "      <td>2022-11-15 05:42:51.428571392</td>\n",
       "      <td>-0.137075</td>\n",
       "      <td>0.007780</td>\n",
       "      <td>0.899023</td>\n",
       "    </tr>\n",
       "    <tr>\n",
       "      <th>4</th>\n",
       "      <td>2023</td>\n",
       "      <td>1</td>\n",
       "      <td>-0.325961</td>\n",
       "      <td>2023q1</td>\n",
       "      <td>2023-02-16 02:42:34.838709760</td>\n",
       "      <td>-0.103899</td>\n",
       "      <td>0.004773</td>\n",
       "      <td>0.868810</td>\n",
       "    </tr>\n",
       "  </tbody>\n",
       "</table>\n",
       "</div>"
      ],
      "text/plain": [
       "   year  quarter    return Year-Quarter                          date  \\\n",
       "0  2022        1  0.027450       2022q1 2022-02-15 16:38:42.580645120   \n",
       "1  2022        2 -0.268121       2022q2 2022-05-16 08:07:44.516129024   \n",
       "2  2022        3 -0.114714       2022q3 2022-08-16 15:45:00.000000000   \n",
       "3  2022        4 -0.224674       2022q4 2022-11-15 05:42:51.428571392   \n",
       "4  2023        1 -0.325961       2023q1 2023-02-16 02:42:34.838709760   \n",
       "\n",
       "      sp500  sp500_prediction        rf  \n",
       "0  0.000000          0.000000  0.000000  \n",
       "1 -0.080242         -0.001327  0.503017  \n",
       "2 -0.108315         -0.000272  0.589384  \n",
       "3 -0.137075          0.007780  0.899023  \n",
       "4 -0.103899          0.004773  0.868810  "
      ]
     },
     "execution_count": 243,
     "metadata": {},
     "output_type": "execute_result"
    }
   ],
   "source": [
    "portfolio.head()"
   ]
  },
  {
   "cell_type": "code",
   "execution_count": 241,
   "id": "597bcabe-1a9d-4b72-a2fa-4f84dc767e26",
   "metadata": {},
   "outputs": [
    {
     "data": {
      "text/html": [
       "<div>\n",
       "<style scoped>\n",
       "    .dataframe tbody tr th:only-of-type {\n",
       "        vertical-align: middle;\n",
       "    }\n",
       "\n",
       "    .dataframe tbody tr th {\n",
       "        vertical-align: top;\n",
       "    }\n",
       "\n",
       "    .dataframe thead th {\n",
       "        text-align: right;\n",
       "    }\n",
       "</style>\n",
       "<table border=\"1\" class=\"dataframe\">\n",
       "  <thead>\n",
       "    <tr style=\"text-align: right;\">\n",
       "      <th></th>\n",
       "      <th></th>\n",
       "      <th></th>\n",
       "      <th>return</th>\n",
       "    </tr>\n",
       "    <tr>\n",
       "      <th>year</th>\n",
       "      <th>quarter</th>\n",
       "      <th>market_cap_rank</th>\n",
       "      <th></th>\n",
       "    </tr>\n",
       "  </thead>\n",
       "  <tbody>\n",
       "    <tr>\n",
       "      <th rowspan=\"16\" valign=\"top\">2022</th>\n",
       "      <th rowspan=\"4\" valign=\"top\">1</th>\n",
       "      <th>0</th>\n",
       "      <td>-0.175182</td>\n",
       "    </tr>\n",
       "    <tr>\n",
       "      <th>1</th>\n",
       "      <td>-0.069041</td>\n",
       "    </tr>\n",
       "    <tr>\n",
       "      <th>2</th>\n",
       "      <td>0.000000</td>\n",
       "    </tr>\n",
       "    <tr>\n",
       "      <th>3</th>\n",
       "      <td>0.354025</td>\n",
       "    </tr>\n",
       "    <tr>\n",
       "      <th rowspan=\"4\" valign=\"top\">2</th>\n",
       "      <th>0</th>\n",
       "      <td>-0.337805</td>\n",
       "    </tr>\n",
       "    <tr>\n",
       "      <th>1</th>\n",
       "      <td>-0.812894</td>\n",
       "    </tr>\n",
       "    <tr>\n",
       "      <th>2</th>\n",
       "      <td>0.000000</td>\n",
       "    </tr>\n",
       "    <tr>\n",
       "      <th>3</th>\n",
       "      <td>0.000000</td>\n",
       "    </tr>\n",
       "    <tr>\n",
       "      <th rowspan=\"4\" valign=\"top\">3</th>\n",
       "      <th>0</th>\n",
       "      <td>-0.071788</td>\n",
       "    </tr>\n",
       "    <tr>\n",
       "      <th>1</th>\n",
       "      <td>-0.022997</td>\n",
       "    </tr>\n",
       "    <tr>\n",
       "      <th>2</th>\n",
       "      <td>0.933213</td>\n",
       "    </tr>\n",
       "    <tr>\n",
       "      <th>3</th>\n",
       "      <td>0.000000</td>\n",
       "    </tr>\n",
       "    <tr>\n",
       "      <th rowspan=\"4\" valign=\"top\">4</th>\n",
       "      <th>0</th>\n",
       "      <td>-0.253112</td>\n",
       "    </tr>\n",
       "    <tr>\n",
       "      <th>1</th>\n",
       "      <td>-0.243722</td>\n",
       "    </tr>\n",
       "    <tr>\n",
       "      <th>2</th>\n",
       "      <td>0.000000</td>\n",
       "    </tr>\n",
       "    <tr>\n",
       "      <th>3</th>\n",
       "      <td>0.000000</td>\n",
       "    </tr>\n",
       "    <tr>\n",
       "      <th rowspan=\"16\" valign=\"top\">2023</th>\n",
       "      <th rowspan=\"4\" valign=\"top\">1</th>\n",
       "      <th>0</th>\n",
       "      <td>-0.037767</td>\n",
       "    </tr>\n",
       "    <tr>\n",
       "      <th>1</th>\n",
       "      <td>0.121622</td>\n",
       "    </tr>\n",
       "    <tr>\n",
       "      <th>2</th>\n",
       "      <td>-0.591602</td>\n",
       "    </tr>\n",
       "    <tr>\n",
       "      <th>3</th>\n",
       "      <td>-0.014803</td>\n",
       "    </tr>\n",
       "    <tr>\n",
       "      <th rowspan=\"4\" valign=\"top\">2</th>\n",
       "      <th>0</th>\n",
       "      <td>0.124823</td>\n",
       "    </tr>\n",
       "    <tr>\n",
       "      <th>1</th>\n",
       "      <td>1.790097</td>\n",
       "    </tr>\n",
       "    <tr>\n",
       "      <th>2</th>\n",
       "      <td>0.000000</td>\n",
       "    </tr>\n",
       "    <tr>\n",
       "      <th>3</th>\n",
       "      <td>1.076177</td>\n",
       "    </tr>\n",
       "    <tr>\n",
       "      <th rowspan=\"4\" valign=\"top\">3</th>\n",
       "      <th>0</th>\n",
       "      <td>-0.456250</td>\n",
       "    </tr>\n",
       "    <tr>\n",
       "      <th>1</th>\n",
       "      <td>-0.005998</td>\n",
       "    </tr>\n",
       "    <tr>\n",
       "      <th>2</th>\n",
       "      <td>0.000000</td>\n",
       "    </tr>\n",
       "    <tr>\n",
       "      <th>3</th>\n",
       "      <td>0.008969</td>\n",
       "    </tr>\n",
       "    <tr>\n",
       "      <th rowspan=\"4\" valign=\"top\">4</th>\n",
       "      <th>0</th>\n",
       "      <td>1.414530</td>\n",
       "    </tr>\n",
       "    <tr>\n",
       "      <th>1</th>\n",
       "      <td>-0.136842</td>\n",
       "    </tr>\n",
       "    <tr>\n",
       "      <th>2</th>\n",
       "      <td>0.000000</td>\n",
       "    </tr>\n",
       "    <tr>\n",
       "      <th>3</th>\n",
       "      <td>1.000000</td>\n",
       "    </tr>\n",
       "    <tr>\n",
       "      <th rowspan=\"16\" valign=\"top\">2024</th>\n",
       "      <th rowspan=\"4\" valign=\"top\">1</th>\n",
       "      <th>0</th>\n",
       "      <td>-0.065287</td>\n",
       "    </tr>\n",
       "    <tr>\n",
       "      <th>1</th>\n",
       "      <td>0.063811</td>\n",
       "    </tr>\n",
       "    <tr>\n",
       "      <th>2</th>\n",
       "      <td>0.000000</td>\n",
       "    </tr>\n",
       "    <tr>\n",
       "      <th>3</th>\n",
       "      <td>0.000000</td>\n",
       "    </tr>\n",
       "    <tr>\n",
       "      <th rowspan=\"4\" valign=\"top\">2</th>\n",
       "      <th>0</th>\n",
       "      <td>-0.071767</td>\n",
       "    </tr>\n",
       "    <tr>\n",
       "      <th>1</th>\n",
       "      <td>0.278970</td>\n",
       "    </tr>\n",
       "    <tr>\n",
       "      <th>2</th>\n",
       "      <td>0.831276</td>\n",
       "    </tr>\n",
       "    <tr>\n",
       "      <th>3</th>\n",
       "      <td>-0.374233</td>\n",
       "    </tr>\n",
       "    <tr>\n",
       "      <th rowspan=\"4\" valign=\"top\">3</th>\n",
       "      <th>0</th>\n",
       "      <td>0.448155</td>\n",
       "    </tr>\n",
       "    <tr>\n",
       "      <th>1</th>\n",
       "      <td>0.000000</td>\n",
       "    </tr>\n",
       "    <tr>\n",
       "      <th>2</th>\n",
       "      <td>2.491429</td>\n",
       "    </tr>\n",
       "    <tr>\n",
       "      <th>3</th>\n",
       "      <td>-0.476744</td>\n",
       "    </tr>\n",
       "    <tr>\n",
       "      <th rowspan=\"4\" valign=\"top\">4</th>\n",
       "      <th>0</th>\n",
       "      <td>0.126791</td>\n",
       "    </tr>\n",
       "    <tr>\n",
       "      <th>1</th>\n",
       "      <td>0.000000</td>\n",
       "    </tr>\n",
       "    <tr>\n",
       "      <th>2</th>\n",
       "      <td>2.282828</td>\n",
       "    </tr>\n",
       "    <tr>\n",
       "      <th>3</th>\n",
       "      <td>0.000000</td>\n",
       "    </tr>\n",
       "    <tr>\n",
       "      <th rowspan=\"4\" valign=\"top\">2025</th>\n",
       "      <th rowspan=\"4\" valign=\"top\">1</th>\n",
       "      <th>0</th>\n",
       "      <td>0.093458</td>\n",
       "    </tr>\n",
       "    <tr>\n",
       "      <th>1</th>\n",
       "      <td>1.473016</td>\n",
       "    </tr>\n",
       "    <tr>\n",
       "      <th>2</th>\n",
       "      <td>0.000000</td>\n",
       "    </tr>\n",
       "    <tr>\n",
       "      <th>3</th>\n",
       "      <td>1.162393</td>\n",
       "    </tr>\n",
       "  </tbody>\n",
       "</table>\n",
       "</div>"
      ],
      "text/plain": [
       "                                return\n",
       "year quarter market_cap_rank          \n",
       "2022 1       0               -0.175182\n",
       "             1               -0.069041\n",
       "             2                0.000000\n",
       "             3                0.354025\n",
       "     2       0               -0.337805\n",
       "             1               -0.812894\n",
       "             2                0.000000\n",
       "             3                0.000000\n",
       "     3       0               -0.071788\n",
       "             1               -0.022997\n",
       "             2                0.933213\n",
       "             3                0.000000\n",
       "     4       0               -0.253112\n",
       "             1               -0.243722\n",
       "             2                0.000000\n",
       "             3                0.000000\n",
       "2023 1       0               -0.037767\n",
       "             1                0.121622\n",
       "             2               -0.591602\n",
       "             3               -0.014803\n",
       "     2       0                0.124823\n",
       "             1                1.790097\n",
       "             2                0.000000\n",
       "             3                1.076177\n",
       "     3       0               -0.456250\n",
       "             1               -0.005998\n",
       "             2                0.000000\n",
       "             3                0.008969\n",
       "     4       0                1.414530\n",
       "             1               -0.136842\n",
       "             2                0.000000\n",
       "             3                1.000000\n",
       "2024 1       0               -0.065287\n",
       "             1                0.063811\n",
       "             2                0.000000\n",
       "             3                0.000000\n",
       "     2       0               -0.071767\n",
       "             1                0.278970\n",
       "             2                0.831276\n",
       "             3               -0.374233\n",
       "     3       0                0.448155\n",
       "             1                0.000000\n",
       "             2                2.491429\n",
       "             3               -0.476744\n",
       "     4       0                0.126791\n",
       "             1                0.000000\n",
       "             2                2.282828\n",
       "             3                0.000000\n",
       "2025 1       0                0.093458\n",
       "             1                1.473016\n",
       "             2                0.000000\n",
       "             3                1.162393"
      ]
     },
     "execution_count": 241,
     "metadata": {},
     "output_type": "execute_result"
    }
   ],
   "source": [
    "trades.groupby([\"year\",\"quarter\",\"market_cap_rank\"]).agg({\"return\":\"mean\"})"
   ]
  },
  {
   "cell_type": "code",
   "execution_count": 239,
   "id": "250be8ba-64cc-489a-b69b-9a2660d181b2",
   "metadata": {},
   "outputs": [
    {
     "data": {
      "text/html": [
       "<div>\n",
       "<style scoped>\n",
       "    .dataframe tbody tr th:only-of-type {\n",
       "        vertical-align: middle;\n",
       "    }\n",
       "\n",
       "    .dataframe tbody tr th {\n",
       "        vertical-align: top;\n",
       "    }\n",
       "\n",
       "    .dataframe thead th {\n",
       "        text-align: right;\n",
       "    }\n",
       "</style>\n",
       "<table border=\"1\" class=\"dataframe\">\n",
       "  <thead>\n",
       "    <tr style=\"text-align: right;\">\n",
       "      <th></th>\n",
       "      <th>market_cap_rank</th>\n",
       "      <th>ticker</th>\n",
       "      <th>rank</th>\n",
       "    </tr>\n",
       "  </thead>\n",
       "  <tbody>\n",
       "    <tr>\n",
       "      <th>355828</th>\n",
       "      <td>7</td>\n",
       "      <td>AEON</td>\n",
       "      <td>1</td>\n",
       "    </tr>\n",
       "    <tr>\n",
       "      <th>8081957</th>\n",
       "      <td>1</td>\n",
       "      <td>LCID</td>\n",
       "      <td>1</td>\n",
       "    </tr>\n",
       "    <tr>\n",
       "      <th>2868563</th>\n",
       "      <td>6</td>\n",
       "      <td>CHRS</td>\n",
       "      <td>1</td>\n",
       "    </tr>\n",
       "    <tr>\n",
       "      <th>13795159</th>\n",
       "      <td>5</td>\n",
       "      <td>TLRY</td>\n",
       "      <td>1</td>\n",
       "    </tr>\n",
       "    <tr>\n",
       "      <th>10412564</th>\n",
       "      <td>2</td>\n",
       "      <td>OPEN</td>\n",
       "      <td>1</td>\n",
       "    </tr>\n",
       "    <tr>\n",
       "      <th>11399736</th>\n",
       "      <td>0</td>\n",
       "      <td>PSTV</td>\n",
       "      <td>1</td>\n",
       "    </tr>\n",
       "    <tr>\n",
       "      <th>5905583</th>\n",
       "      <td>4</td>\n",
       "      <td>GCTK</td>\n",
       "      <td>1</td>\n",
       "    </tr>\n",
       "    <tr>\n",
       "      <th>14911735</th>\n",
       "      <td>9</td>\n",
       "      <td>VYNE</td>\n",
       "      <td>1</td>\n",
       "    </tr>\n",
       "    <tr>\n",
       "      <th>5032571</th>\n",
       "      <td>10</td>\n",
       "      <td>EVTV</td>\n",
       "      <td>1</td>\n",
       "    </tr>\n",
       "    <tr>\n",
       "      <th>3826143</th>\n",
       "      <td>8</td>\n",
       "      <td>CVM</td>\n",
       "      <td>1</td>\n",
       "    </tr>\n",
       "    <tr>\n",
       "      <th>9857725</th>\n",
       "      <td>3</td>\n",
       "      <td>NOVA</td>\n",
       "      <td>1</td>\n",
       "    </tr>\n",
       "    <tr>\n",
       "      <th>14113776</th>\n",
       "      <td>0</td>\n",
       "      <td>TTD</td>\n",
       "      <td>2</td>\n",
       "    </tr>\n",
       "    <tr>\n",
       "      <th>12497853</th>\n",
       "      <td>6</td>\n",
       "      <td>SGMO</td>\n",
       "      <td>2</td>\n",
       "    </tr>\n",
       "    <tr>\n",
       "      <th>12425942</th>\n",
       "      <td>4</td>\n",
       "      <td>SES</td>\n",
       "      <td>2</td>\n",
       "    </tr>\n",
       "    <tr>\n",
       "      <th>11089189</th>\n",
       "      <td>2</td>\n",
       "      <td>PLUG</td>\n",
       "      <td>2</td>\n",
       "    </tr>\n",
       "    <tr>\n",
       "      <th>9747927</th>\n",
       "      <td>9</td>\n",
       "      <td>NITO</td>\n",
       "      <td>2</td>\n",
       "    </tr>\n",
       "    <tr>\n",
       "      <th>15080211</th>\n",
       "      <td>8</td>\n",
       "      <td>WHLR</td>\n",
       "      <td>2</td>\n",
       "    </tr>\n",
       "    <tr>\n",
       "      <th>6803736</th>\n",
       "      <td>10</td>\n",
       "      <td>HSDT</td>\n",
       "      <td>2</td>\n",
       "    </tr>\n",
       "    <tr>\n",
       "      <th>951455</th>\n",
       "      <td>3</td>\n",
       "      <td>APDN</td>\n",
       "      <td>2</td>\n",
       "    </tr>\n",
       "    <tr>\n",
       "      <th>10445667</th>\n",
       "      <td>7</td>\n",
       "      <td>OPTT</td>\n",
       "      <td>2</td>\n",
       "    </tr>\n",
       "  </tbody>\n",
       "</table>\n",
       "</div>"
      ],
      "text/plain": [
       "          market_cap_rank ticker  rank\n",
       "355828                  7   AEON     1\n",
       "8081957                 1   LCID     1\n",
       "2868563                 6   CHRS     1\n",
       "13795159                5   TLRY     1\n",
       "10412564                2   OPEN     1\n",
       "11399736                0   PSTV     1\n",
       "5905583                 4   GCTK     1\n",
       "14911735                9   VYNE     1\n",
       "5032571                10   EVTV     1\n",
       "3826143                 8    CVM     1\n",
       "9857725                 3   NOVA     1\n",
       "14113776                0    TTD     2\n",
       "12497853                6   SGMO     2\n",
       "12425942                4    SES     2\n",
       "11089189                2   PLUG     2\n",
       "9747927                 9   NITO     2\n",
       "15080211                8   WHLR     2\n",
       "6803736                10   HSDT     2\n",
       "951455                  3   APDN     2\n",
       "10445667                7   OPTT     2"
      ]
     },
     "execution_count": 239,
     "metadata": {},
     "output_type": "execute_result"
    }
   ],
   "source": [
    "simulation[simulation[\"date\"]==simulation[\"date\"].max()].sort_values(\"rank\",ascending=True).head(20)[[\"market_cap_rank\",\"ticker\",\"rank\"]]"
   ]
  },
  {
   "cell_type": "code",
   "execution_count": 240,
   "id": "e77f5aff-5704-4c5e-a187-06b3228d042d",
   "metadata": {},
   "outputs": [
    {
     "data": {
      "text/html": [
       "<div>\n",
       "<style scoped>\n",
       "    .dataframe tbody tr th:only-of-type {\n",
       "        vertical-align: middle;\n",
       "    }\n",
       "\n",
       "    .dataframe tbody tr th {\n",
       "        vertical-align: top;\n",
       "    }\n",
       "\n",
       "    .dataframe thead th {\n",
       "        text-align: right;\n",
       "    }\n",
       "</style>\n",
       "<table border=\"1\" class=\"dataframe\">\n",
       "  <thead>\n",
       "    <tr style=\"text-align: right;\">\n",
       "      <th></th>\n",
       "      <th>market_cap</th>\n",
       "    </tr>\n",
       "    <tr>\n",
       "      <th>ticker</th>\n",
       "      <th></th>\n",
       "    </tr>\n",
       "  </thead>\n",
       "  <tbody>\n",
       "    <tr>\n",
       "      <th>TSLA</th>\n",
       "      <td>2.475185e+10</td>\n",
       "    </tr>\n",
       "    <tr>\n",
       "      <th>NVDA</th>\n",
       "      <td>2.267234e+10</td>\n",
       "    </tr>\n",
       "    <tr>\n",
       "      <th>AAPL</th>\n",
       "      <td>1.173512e+10</td>\n",
       "    </tr>\n",
       "    <tr>\n",
       "      <th>MSFT</th>\n",
       "      <td>8.499891e+09</td>\n",
       "    </tr>\n",
       "    <tr>\n",
       "      <th>META</th>\n",
       "      <td>6.751847e+09</td>\n",
       "    </tr>\n",
       "    <tr>\n",
       "      <th>GOOGL</th>\n",
       "      <td>4.176898e+09</td>\n",
       "    </tr>\n",
       "    <tr>\n",
       "      <th>GOOG</th>\n",
       "      <td>3.189125e+09</td>\n",
       "    </tr>\n",
       "    <tr>\n",
       "      <th>NFLX</th>\n",
       "      <td>2.688189e+09</td>\n",
       "    </tr>\n",
       "    <tr>\n",
       "      <th>SMCI</th>\n",
       "      <td>2.052979e+09</td>\n",
       "    </tr>\n",
       "    <tr>\n",
       "      <th>XOM</th>\n",
       "      <td>1.867909e+09</td>\n",
       "    </tr>\n",
       "    <tr>\n",
       "      <th>PLTR</th>\n",
       "      <td>1.836544e+09</td>\n",
       "    </tr>\n",
       "    <tr>\n",
       "      <th>UNH</th>\n",
       "      <td>1.784392e+09</td>\n",
       "    </tr>\n",
       "    <tr>\n",
       "      <th>COIN</th>\n",
       "      <td>1.767248e+09</td>\n",
       "    </tr>\n",
       "    <tr>\n",
       "      <th>MSTR</th>\n",
       "      <td>1.725219e+09</td>\n",
       "    </tr>\n",
       "    <tr>\n",
       "      <th>JPM</th>\n",
       "      <td>1.703921e+09</td>\n",
       "    </tr>\n",
       "    <tr>\n",
       "      <th>V</th>\n",
       "      <td>1.645090e+09</td>\n",
       "    </tr>\n",
       "    <tr>\n",
       "      <th>ADBE</th>\n",
       "      <td>1.551751e+09</td>\n",
       "    </tr>\n",
       "    <tr>\n",
       "      <th>CRM</th>\n",
       "      <td>1.511277e+09</td>\n",
       "    </tr>\n",
       "    <tr>\n",
       "      <th>BAC</th>\n",
       "      <td>1.495653e+09</td>\n",
       "    </tr>\n",
       "    <tr>\n",
       "      <th>MU</th>\n",
       "      <td>1.495262e+09</td>\n",
       "    </tr>\n",
       "  </tbody>\n",
       "</table>\n",
       "</div>"
      ],
      "text/plain": [
       "          market_cap\n",
       "ticker              \n",
       "TSLA    2.475185e+10\n",
       "NVDA    2.267234e+10\n",
       "AAPL    1.173512e+10\n",
       "MSFT    8.499891e+09\n",
       "META    6.751847e+09\n",
       "GOOGL   4.176898e+09\n",
       "GOOG    3.189125e+09\n",
       "NFLX    2.688189e+09\n",
       "SMCI    2.052979e+09\n",
       "XOM     1.867909e+09\n",
       "PLTR    1.836544e+09\n",
       "UNH     1.784392e+09\n",
       "COIN    1.767248e+09\n",
       "MSTR    1.725219e+09\n",
       "JPM     1.703921e+09\n",
       "V       1.645090e+09\n",
       "ADBE    1.551751e+09\n",
       "CRM     1.511277e+09\n",
       "BAC     1.495653e+09\n",
       "MU      1.495262e+09"
      ]
     },
     "execution_count": 240,
     "metadata": {},
     "output_type": "execute_result"
    }
   ],
   "source": [
    "simulation.groupby(\"ticker\").agg({\"market_cap\":\"mean\"}).sort_values(\"market_cap\",ascending=False).head(20)"
   ]
  },
  {
   "cell_type": "code",
   "execution_count": 227,
   "id": "c6425210-3798-45f9-a21f-415d13c2a210",
   "metadata": {},
   "outputs": [
    {
     "name": "stdout",
     "output_type": "stream",
     "text": [
      "4.289717553646794\n"
     ]
    }
   ],
   "source": [
    "print(((macro[\"sp500\"].pct_change().cumsum().iloc[-1]+1) ** (1/6))/macro[\"sp500\"].pct_change().cumsum().std())"
   ]
  }
 ],
 "metadata": {
  "kernelspec": {
   "display_name": "Python 3 (ipykernel)",
   "language": "python",
   "name": "python3"
  },
  "language_info": {
   "codemirror_mode": {
    "name": "ipython",
    "version": 3
   },
   "file_extension": ".py",
   "mimetype": "text/x-python",
   "name": "python",
   "nbconvert_exporter": "python",
   "pygments_lexer": "ipython3",
   "version": "3.11.9"
  }
 },
 "nbformat": 4,
 "nbformat_minor": 5
}
