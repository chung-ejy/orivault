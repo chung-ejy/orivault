{
 "cells": [
  {
   "cell_type": "code",
   "execution_count": 34,
   "id": "73094c60-497a-45ac-bd01-8db8578730b7",
   "metadata": {},
   "outputs": [],
   "source": [
    "import pandas as pd\n",
    "from database.adatabase import ADatabase\n",
    "from xgboost import XGBRegressor\n",
    "import matplotlib.pyplot as plt\n",
    "from tqdm import tqdm\n",
    "from processor.processor import Processor as p\n",
    "from asset.exposure import Exposure\n",
    "from equations.capm import CAPM\n",
    "from sklearn.preprocessing import normalize\n",
    "from datetime import timedelta\n",
    "import yfinance as yf\n",
    "import warnings\n",
    "from time import sleep\n",
    "warnings.simplefilter(action=\"ignore\")\n",
    "from indicator.indicator import Indicator\n",
    "from scipy.stats.mstats import winsorize"
   ]
  },
  {
   "cell_type": "code",
   "execution_count": 2,
   "id": "9131bcf0-e2ac-489b-ac60-ab69b8feda22",
   "metadata": {},
   "outputs": [],
   "source": [
    "sec = ADatabase(\"sec\")\n",
    "market = ADatabase(\"market\")\n",
    "fred = ADatabase(\"fred\")"
   ]
  },
  {
   "cell_type": "code",
   "execution_count": 3,
   "id": "a4179cff-dd72-4218-9d7a-7e01333a3a58",
   "metadata": {},
   "outputs": [],
   "source": [
    "market.connect()\n",
    "index = market.retrieve(\"index\")\n",
    "market.disconnect()\n",
    "factors = [\"AMZN\",\"NVDA\",\"AAPL\",\"META\",\"GOOGL\",\"TSLA\",\"MSFT\"]\n",
    "fred.connect()\n",
    "sp500 = p.column_date_processing(fred.retrieve(\"sp500_projections\").rename(columns={\"prediction\":\"sp500_prediction\"}))\n",
    "interest_rates = p.column_date_processing(fred.retrieve(\"market_yield\").rename(columns={\"value\":\"rf\"}))\n",
    "interest_rates[\"rf\"] = interest_rates[\"rf\"].replace(\".\",0)\n",
    "interest_rates[\"rf\"] = [float(x) / 100 for x in interest_rates[\"rf\"]]\n",
    "fred.disconnect\n",
    "macro = sp500.merge(interest_rates,on=\"date\",how=\"left\")"
   ]
  },
  {
   "cell_type": "code",
   "execution_count": 4,
   "id": "635c8aca-eddc-4b55-a8c3-e351e27a11e9",
   "metadata": {
    "scrolled": true
   },
   "outputs": [
    {
     "name": "stderr",
     "output_type": "stream",
     "text": [
      "100%|████████████████████████████████████████████████████████████████████████████████████████████████████████████████████████████████████████████████████████████| 7/7 [00:00<00:00, 20.17it/s]\n"
     ]
    }
   ],
   "source": [
    "market.connect()\n",
    "factors_df = []\n",
    "for ticker in tqdm(factors):\n",
    "    try:\n",
    "        price = p.column_date_processing(market.query(\"prices\",{\"ticker\":ticker}))\n",
    "        price.sort_values(\"date\")\n",
    "        price[\"adjclose\"] = price[\"adjclose\"].shift(60)\n",
    "        factors_df.append(price)\n",
    "    except Exception as e:\n",
    "        print(ticker,str(e))\n",
    "        continue\n",
    "market.disconnect()\n",
    "factors_df = pd.concat(factors_df).sort_values(\"date\").pivot_table(index=[\"date\"],columns=\"ticker\",values=\"adjclose\").reset_index()"
   ]
  },
  {
   "cell_type": "code",
   "execution_count": 5,
   "id": "043a2be6-8132-4f8e-bfb7-e6d62d7bc8ec",
   "metadata": {},
   "outputs": [],
   "source": [
    "model_start = 2015\n",
    "model_end = 2022\n",
    "backtest_end = 2026"
   ]
  },
  {
   "cell_type": "code",
   "execution_count": 6,
   "id": "0f877ba0-a338-475c-a1d7-f4882b2c1fa7",
   "metadata": {},
   "outputs": [
    {
     "name": "stderr",
     "output_type": "stream",
     "text": [
      "  0%|▍                                                                                                                                                       | 13/5121 [00:01<12:54,  6.60it/s]"
     ]
    },
    {
     "name": "stdout",
     "output_type": "stream",
     "text": [
      "index 0 is out of bounds for axis 0 with size 0\n",
      "'date'\n"
     ]
    },
    {
     "name": "stderr",
     "output_type": "stream",
     "text": [
      "  0%|▌                                                                                                                                                       | 19/5121 [00:02<09:54,  8.59it/s]"
     ]
    },
    {
     "name": "stdout",
     "output_type": "stream",
     "text": [
      "'date'\n"
     ]
    },
    {
     "name": "stderr",
     "output_type": "stream",
     "text": [
      "  1%|▊                                                                                                                                                       | 28/5121 [00:03<09:45,  8.70it/s]"
     ]
    },
    {
     "name": "stdout",
     "output_type": "stream",
     "text": [
      "index 0 is out of bounds for axis 0 with size 0\n"
     ]
    },
    {
     "name": "stderr",
     "output_type": "stream",
     "text": [
      "  1%|█▏                                                                                                                                                      | 38/5121 [00:04<08:52,  9.54it/s]"
     ]
    },
    {
     "name": "stdout",
     "output_type": "stream",
     "text": [
      "'date'\n"
     ]
    },
    {
     "name": "stderr",
     "output_type": "stream",
     "text": [
      "  1%|█▉                                                                                                                                                      | 67/5121 [00:09<10:39,  7.90it/s]"
     ]
    },
    {
     "name": "stdout",
     "output_type": "stream",
     "text": [
      "index 0 is out of bounds for axis 0 with size 0\n"
     ]
    },
    {
     "name": "stderr",
     "output_type": "stream",
     "text": [
      "  2%|██▋                                                                                                                                                     | 91/5121 [00:12<12:54,  6.50it/s]"
     ]
    },
    {
     "name": "stdout",
     "output_type": "stream",
     "text": [
      "'date'\n"
     ]
    },
    {
     "name": "stderr",
     "output_type": "stream",
     "text": [
      "  2%|███                                                                                                                                                    | 102/5121 [00:14<10:07,  8.26it/s]"
     ]
    },
    {
     "name": "stdout",
     "output_type": "stream",
     "text": [
      "index 0 is out of bounds for axis 0 with size 0\n"
     ]
    },
    {
     "name": "stderr",
     "output_type": "stream",
     "text": [
      "  3%|███▉                                                                                                                                                   | 134/5121 [00:18<12:30,  6.65it/s]"
     ]
    },
    {
     "name": "stdout",
     "output_type": "stream",
     "text": [
      "index 0 is out of bounds for axis 0 with size 0\n"
     ]
    },
    {
     "name": "stderr",
     "output_type": "stream",
     "text": [
      "  3%|████▏                                                                                                                                                  | 141/5121 [00:19<09:50,  8.43it/s]"
     ]
    },
    {
     "name": "stdout",
     "output_type": "stream",
     "text": [
      "'date'\n"
     ]
    },
    {
     "name": "stderr",
     "output_type": "stream",
     "text": [
      "  3%|████▌                                                                                                                                                  | 154/5121 [00:21<10:27,  7.91it/s]"
     ]
    },
    {
     "name": "stdout",
     "output_type": "stream",
     "text": [
      "index 0 is out of bounds for axis 0 with size 0\n"
     ]
    },
    {
     "name": "stderr",
     "output_type": "stream",
     "text": [
      "  3%|████▋                                                                                                                                                  | 159/5121 [00:22<07:16, 11.36it/s]"
     ]
    },
    {
     "name": "stdout",
     "output_type": "stream",
     "text": [
      "index 0 is out of bounds for axis 0 with size 0\n",
      "index 0 is out of bounds for axis 0 with size 0\n"
     ]
    },
    {
     "name": "stderr",
     "output_type": "stream",
     "text": [
      "  4%|█████▋                                                                                                                                                 | 195/5121 [00:27<08:59,  9.14it/s]"
     ]
    },
    {
     "name": "stdout",
     "output_type": "stream",
     "text": [
      "index 0 is out of bounds for axis 0 with size 0\n"
     ]
    },
    {
     "name": "stderr",
     "output_type": "stream",
     "text": [
      "  6%|████████▊                                                                                                                                              | 297/5121 [00:42<09:01,  8.91it/s]"
     ]
    },
    {
     "name": "stdout",
     "output_type": "stream",
     "text": [
      "'date'\n"
     ]
    },
    {
     "name": "stderr",
     "output_type": "stream",
     "text": [
      "  8%|███████████▌                                                                                                                                           | 394/5121 [00:58<08:50,  8.91it/s]"
     ]
    },
    {
     "name": "stdout",
     "output_type": "stream",
     "text": [
      "index 0 is out of bounds for axis 0 with size 0\n"
     ]
    },
    {
     "name": "stderr",
     "output_type": "stream",
     "text": [
      "  9%|█████████████▊                                                                                                                                         | 468/5121 [01:10<12:49,  6.05it/s]"
     ]
    },
    {
     "name": "stdout",
     "output_type": "stream",
     "text": [
      "index 0 is out of bounds for axis 0 with size 0\n"
     ]
    },
    {
     "name": "stderr",
     "output_type": "stream",
     "text": [
      " 10%|██████████████▉                                                                                                                                        | 508/5121 [01:17<09:30,  8.08it/s]"
     ]
    },
    {
     "name": "stdout",
     "output_type": "stream",
     "text": [
      "index 0 is out of bounds for axis 0 with size 0\n"
     ]
    },
    {
     "name": "stderr",
     "output_type": "stream",
     "text": [
      " 10%|███████████████▊                                                                                                                                       | 535/5121 [01:21<11:44,  6.51it/s]"
     ]
    },
    {
     "name": "stdout",
     "output_type": "stream",
     "text": [
      "index 0 is out of bounds for axis 0 with size 0\n"
     ]
    },
    {
     "name": "stderr",
     "output_type": "stream",
     "text": [
      " 11%|████████████████▋                                                                                                                                      | 568/5121 [01:27<11:44,  6.46it/s]"
     ]
    },
    {
     "name": "stdout",
     "output_type": "stream",
     "text": [
      "index 0 is out of bounds for axis 0 with size 0\n"
     ]
    },
    {
     "name": "stderr",
     "output_type": "stream",
     "text": [
      " 11%|█████████████████                                                                                                                                      | 577/5121 [01:29<13:27,  5.63it/s]"
     ]
    },
    {
     "name": "stdout",
     "output_type": "stream",
     "text": [
      "index 0 is out of bounds for axis 0 with size 0\n"
     ]
    },
    {
     "name": "stderr",
     "output_type": "stream",
     "text": [
      " 11%|█████████████████                                                                                                                                      | 579/5121 [01:29<11:58,  6.32it/s]"
     ]
    },
    {
     "name": "stdout",
     "output_type": "stream",
     "text": [
      "'date'\n",
      "'date'\n"
     ]
    },
    {
     "name": "stderr",
     "output_type": "stream",
     "text": [
      " 12%|█████████████████▊                                                                                                                                     | 602/5121 [01:33<09:50,  7.66it/s]"
     ]
    },
    {
     "name": "stdout",
     "output_type": "stream",
     "text": [
      "'date'\n"
     ]
    },
    {
     "name": "stderr",
     "output_type": "stream",
     "text": [
      " 12%|██████████████████▎                                                                                                                                    | 619/5121 [01:35<12:52,  5.83it/s]"
     ]
    },
    {
     "name": "stdout",
     "output_type": "stream",
     "text": [
      "'date'\n"
     ]
    },
    {
     "name": "stderr",
     "output_type": "stream",
     "text": [
      " 12%|██████████████████▍                                                                                                                                    | 625/5121 [01:36<08:01,  9.33it/s]"
     ]
    },
    {
     "name": "stdout",
     "output_type": "stream",
     "text": [
      "index 0 is out of bounds for axis 0 with size 0\n"
     ]
    },
    {
     "name": "stderr",
     "output_type": "stream",
     "text": [
      " 12%|██████████████████▌                                                                                                                                    | 630/5121 [01:37<08:26,  8.87it/s]"
     ]
    },
    {
     "name": "stdout",
     "output_type": "stream",
     "text": [
      "index 0 is out of bounds for axis 0 with size 0\n"
     ]
    },
    {
     "name": "stderr",
     "output_type": "stream",
     "text": [
      " 13%|███████████████████▋                                                                                                                                   | 668/5121 [01:43<09:55,  7.48it/s]"
     ]
    },
    {
     "name": "stdout",
     "output_type": "stream",
     "text": [
      "index 0 is out of bounds for axis 0 with size 0\n"
     ]
    },
    {
     "name": "stderr",
     "output_type": "stream",
     "text": [
      " 14%|████████████████████▍                                                                                                                                  | 695/5121 [01:48<09:48,  7.52it/s]"
     ]
    },
    {
     "name": "stdout",
     "output_type": "stream",
     "text": [
      "index 0 is out of bounds for axis 0 with size 0\n"
     ]
    },
    {
     "name": "stderr",
     "output_type": "stream",
     "text": [
      " 14%|█████████████████████▏                                                                                                                                 | 717/5121 [01:51<09:40,  7.58it/s]"
     ]
    },
    {
     "name": "stdout",
     "output_type": "stream",
     "text": [
      "index 0 is out of bounds for axis 0 with size 0\n"
     ]
    },
    {
     "name": "stderr",
     "output_type": "stream",
     "text": [
      " 14%|█████████████████████▏                                                                                                                                 | 719/5121 [01:51<09:46,  7.51it/s]"
     ]
    },
    {
     "name": "stdout",
     "output_type": "stream",
     "text": [
      "'date'\n",
      "'date'\n"
     ]
    },
    {
     "name": "stderr",
     "output_type": "stream",
     "text": [
      " 16%|████████████████████████                                                                                                                               | 814/5121 [02:06<11:54,  6.03it/s]"
     ]
    },
    {
     "name": "stdout",
     "output_type": "stream",
     "text": [
      "index 0 is out of bounds for axis 0 with size 0\n"
     ]
    },
    {
     "name": "stderr",
     "output_type": "stream",
     "text": [
      " 16%|████████████████████████▍                                                                                                                              | 829/5121 [02:09<12:37,  5.67it/s]"
     ]
    },
    {
     "name": "stdout",
     "output_type": "stream",
     "text": [
      "index 0 is out of bounds for axis 0 with size 0\n"
     ]
    },
    {
     "name": "stderr",
     "output_type": "stream",
     "text": [
      " 16%|████████████████████████▉                                                                                                                              | 844/5121 [02:11<09:45,  7.31it/s]"
     ]
    },
    {
     "name": "stdout",
     "output_type": "stream",
     "text": [
      "index 0 is out of bounds for axis 0 with size 0\n"
     ]
    },
    {
     "name": "stderr",
     "output_type": "stream",
     "text": [
      " 17%|█████████████████████████▌                                                                                                                             | 868/5121 [02:15<08:23,  8.44it/s]"
     ]
    },
    {
     "name": "stdout",
     "output_type": "stream",
     "text": [
      "index 0 is out of bounds for axis 0 with size 0\n"
     ]
    },
    {
     "name": "stderr",
     "output_type": "stream",
     "text": [
      " 17%|██████████████████████████▎                                                                                                                            | 894/5121 [02:19<08:09,  8.64it/s]"
     ]
    },
    {
     "name": "stdout",
     "output_type": "stream",
     "text": [
      "'date'\n"
     ]
    },
    {
     "name": "stderr",
     "output_type": "stream",
     "text": [
      " 18%|██████████████████████████▊                                                                                                                            | 910/5121 [02:21<09:31,  7.37it/s]"
     ]
    },
    {
     "name": "stdout",
     "output_type": "stream",
     "text": [
      "index 0 is out of bounds for axis 0 with size 0\n"
     ]
    },
    {
     "name": "stderr",
     "output_type": "stream",
     "text": [
      " 18%|███████████████████████████▏                                                                                                                           | 922/5121 [02:24<13:16,  5.27it/s]"
     ]
    },
    {
     "name": "stdout",
     "output_type": "stream",
     "text": [
      "index 0 is out of bounds for axis 0 with size 0\n"
     ]
    },
    {
     "name": "stderr",
     "output_type": "stream",
     "text": [
      " 18%|███████████████████████████▋                                                                                                                           | 939/5121 [02:26<06:59,  9.96it/s]"
     ]
    },
    {
     "name": "stdout",
     "output_type": "stream",
     "text": [
      "index 0 is out of bounds for axis 0 with size 0\n",
      "index 0 is out of bounds for axis 0 with size 0\n"
     ]
    },
    {
     "name": "stderr",
     "output_type": "stream",
     "text": [
      " 19%|█████████████████████████████                                                                                                                          | 986/5121 [02:34<09:00,  7.65it/s]"
     ]
    },
    {
     "name": "stdout",
     "output_type": "stream",
     "text": [
      "index 0 is out of bounds for axis 0 with size 0\n"
     ]
    },
    {
     "name": "stderr",
     "output_type": "stream",
     "text": [
      " 20%|█████████████████████████████▍                                                                                                                        | 1003/5121 [02:37<13:02,  5.26it/s]"
     ]
    },
    {
     "name": "stdout",
     "output_type": "stream",
     "text": [
      "'date'\n"
     ]
    },
    {
     "name": "stderr",
     "output_type": "stream",
     "text": [
      " 21%|██████████████████████████████▉                                                                                                                       | 1055/5121 [02:46<11:03,  6.13it/s]"
     ]
    },
    {
     "name": "stdout",
     "output_type": "stream",
     "text": [
      "index 0 is out of bounds for axis 0 with size 0\n"
     ]
    },
    {
     "name": "stderr",
     "output_type": "stream",
     "text": [
      " 21%|███████████████████████████████▉                                                                                                                      | 1090/5121 [02:52<09:02,  7.43it/s]"
     ]
    },
    {
     "name": "stdout",
     "output_type": "stream",
     "text": [
      "'date'\n"
     ]
    },
    {
     "name": "stderr",
     "output_type": "stream",
     "text": [
      " 21%|████████████████████████████████                                                                                                                      | 1095/5121 [02:53<12:44,  5.26it/s]"
     ]
    },
    {
     "name": "stdout",
     "output_type": "stream",
     "text": [
      "index 0 is out of bounds for axis 0 with size 0\n"
     ]
    },
    {
     "name": "stderr",
     "output_type": "stream",
     "text": [
      " 22%|█████████████████████████████████▍                                                                                                                    | 1143/5121 [03:00<08:43,  7.60it/s]"
     ]
    },
    {
     "name": "stdout",
     "output_type": "stream",
     "text": [
      "'date'\n",
      "'date'\n"
     ]
    },
    {
     "name": "stderr",
     "output_type": "stream",
     "text": [
      " 23%|██████████████████████████████████▌                                                                                                                   | 1179/5121 [03:06<12:22,  5.31it/s]"
     ]
    },
    {
     "name": "stdout",
     "output_type": "stream",
     "text": [
      "index 0 is out of bounds for axis 0 with size 0\n"
     ]
    },
    {
     "name": "stderr",
     "output_type": "stream",
     "text": [
      " 25%|████████████████████████████████████▉                                                                                                                 | 1260/5121 [03:20<08:58,  7.17it/s]"
     ]
    },
    {
     "name": "stdout",
     "output_type": "stream",
     "text": [
      "'date'\n"
     ]
    },
    {
     "name": "stderr",
     "output_type": "stream",
     "text": [
      " 25%|█████████████████████████████████████▎                                                                                                                | 1272/5121 [03:22<11:16,  5.69it/s]"
     ]
    },
    {
     "name": "stdout",
     "output_type": "stream",
     "text": [
      "index 0 is out of bounds for axis 0 with size 0\n"
     ]
    },
    {
     "name": "stderr",
     "output_type": "stream",
     "text": [
      " 26%|██████████████████████████████████████▊                                                                                                               | 1327/5121 [03:32<07:35,  8.33it/s]"
     ]
    },
    {
     "name": "stdout",
     "output_type": "stream",
     "text": [
      "index 0 is out of bounds for axis 0 with size 0\n"
     ]
    },
    {
     "name": "stderr",
     "output_type": "stream",
     "text": [
      " 26%|███████████████████████████████████████                                                                                                               | 1335/5121 [03:33<13:08,  4.80it/s]"
     ]
    },
    {
     "name": "stdout",
     "output_type": "stream",
     "text": [
      "index 0 is out of bounds for axis 0 with size 0\n"
     ]
    },
    {
     "name": "stderr",
     "output_type": "stream",
     "text": [
      " 27%|████████████████████████████████████████                                                                                                              | 1368/5121 [03:39<11:21,  5.51it/s]"
     ]
    },
    {
     "name": "stdout",
     "output_type": "stream",
     "text": [
      "index 0 is out of bounds for axis 0 with size 0\n"
     ]
    },
    {
     "name": "stderr",
     "output_type": "stream",
     "text": [
      " 27%|████████████████████████████████████████▏                                                                                                             | 1371/5121 [03:40<11:11,  5.58it/s]"
     ]
    },
    {
     "name": "stdout",
     "output_type": "stream",
     "text": [
      "index 0 is out of bounds for axis 0 with size 0\n"
     ]
    },
    {
     "name": "stderr",
     "output_type": "stream",
     "text": [
      " 27%|████████████████████████████████████████▉                                                                                                             | 1399/5121 [03:44<07:56,  7.82it/s]"
     ]
    },
    {
     "name": "stdout",
     "output_type": "stream",
     "text": [
      "index 0 is out of bounds for axis 0 with size 0\n"
     ]
    },
    {
     "name": "stderr",
     "output_type": "stream",
     "text": [
      " 28%|██████████████████████████████████████████▎                                                                                                           | 1446/5121 [03:51<08:21,  7.33it/s]"
     ]
    },
    {
     "name": "stdout",
     "output_type": "stream",
     "text": [
      "index 0 is out of bounds for axis 0 with size 0\n"
     ]
    },
    {
     "name": "stderr",
     "output_type": "stream",
     "text": [
      " 28%|██████████████████████████████████████████▍                                                                                                           | 1450/5121 [03:52<08:13,  7.44it/s]"
     ]
    },
    {
     "name": "stdout",
     "output_type": "stream",
     "text": [
      "index 0 is out of bounds for axis 0 with size 0\n"
     ]
    },
    {
     "name": "stderr",
     "output_type": "stream",
     "text": [
      " 29%|██████████████████████████████████████████▉                                                                                                           | 1465/5121 [03:54<08:55,  6.83it/s]"
     ]
    },
    {
     "name": "stdout",
     "output_type": "stream",
     "text": [
      "index 0 is out of bounds for axis 0 with size 0\n"
     ]
    },
    {
     "name": "stderr",
     "output_type": "stream",
     "text": [
      " 29%|███████████████████████████████████████████▉                                                                                                          | 1502/5121 [04:00<07:30,  8.04it/s]"
     ]
    },
    {
     "name": "stdout",
     "output_type": "stream",
     "text": [
      "index 0 is out of bounds for axis 0 with size 0\n"
     ]
    },
    {
     "name": "stderr",
     "output_type": "stream",
     "text": [
      " 30%|████████████████████████████████████████████▍                                                                                                         | 1518/5121 [04:03<12:52,  4.67it/s]"
     ]
    },
    {
     "name": "stdout",
     "output_type": "stream",
     "text": [
      "index 0 is out of bounds for axis 0 with size 0\n"
     ]
    },
    {
     "name": "stderr",
     "output_type": "stream",
     "text": [
      " 30%|████████████████████████████████████████████▊                                                                                                         | 1530/5121 [04:05<06:03,  9.87it/s]"
     ]
    },
    {
     "name": "stdout",
     "output_type": "stream",
     "text": [
      "'date'\n"
     ]
    },
    {
     "name": "stderr",
     "output_type": "stream",
     "text": [
      " 31%|██████████████████████████████████████████████                                                                                                        | 1574/5121 [04:13<07:35,  7.78it/s]"
     ]
    },
    {
     "name": "stdout",
     "output_type": "stream",
     "text": [
      "index 0 is out of bounds for axis 0 with size 0\n"
     ]
    },
    {
     "name": "stderr",
     "output_type": "stream",
     "text": [
      " 32%|████████████████████████████████████████████████▎                                                                                                     | 1650/5121 [04:25<07:36,  7.61it/s]"
     ]
    },
    {
     "name": "stdout",
     "output_type": "stream",
     "text": [
      "index 0 is out of bounds for axis 0 with size 0\n",
      "index 0 is out of bounds for axis 0 with size 0\n"
     ]
    },
    {
     "name": "stderr",
     "output_type": "stream",
     "text": [
      " 33%|████████████████████████████████████████████████▊                                                                                                     | 1666/5121 [04:28<08:11,  7.04it/s]"
     ]
    },
    {
     "name": "stdout",
     "output_type": "stream",
     "text": [
      "index 0 is out of bounds for axis 0 with size 0\n"
     ]
    },
    {
     "name": "stderr",
     "output_type": "stream",
     "text": [
      " 33%|█████████████████████████████████████████████████                                                                                                     | 1676/5121 [04:30<09:37,  5.97it/s]"
     ]
    },
    {
     "name": "stdout",
     "output_type": "stream",
     "text": [
      "index 0 is out of bounds for axis 0 with size 0\n",
      "'date'\n"
     ]
    },
    {
     "name": "stderr",
     "output_type": "stream",
     "text": [
      " 34%|██████████████████████████████████████████████████▊                                                                                                   | 1733/5121 [04:40<07:51,  7.19it/s]"
     ]
    },
    {
     "name": "stdout",
     "output_type": "stream",
     "text": [
      "index 0 is out of bounds for axis 0 with size 0\n"
     ]
    },
    {
     "name": "stderr",
     "output_type": "stream",
     "text": [
      " 34%|███████████████████████████████████████████████████▍                                                                                                  | 1754/5121 [04:43<11:38,  4.82it/s]"
     ]
    },
    {
     "name": "stdout",
     "output_type": "stream",
     "text": [
      "index 0 is out of bounds for axis 0 with size 0\n"
     ]
    },
    {
     "name": "stderr",
     "output_type": "stream",
     "text": [
      " 34%|███████████████████████████████████████████████████▋                                                                                                  | 1765/5121 [04:45<09:43,  5.75it/s]"
     ]
    },
    {
     "name": "stdout",
     "output_type": "stream",
     "text": [
      "index 0 is out of bounds for axis 0 with size 0\n"
     ]
    },
    {
     "name": "stderr",
     "output_type": "stream",
     "text": [
      " 35%|████████████████████████████████████████████████████▏                                                                                                 | 1781/5121 [04:47<07:15,  7.68it/s]"
     ]
    },
    {
     "name": "stdout",
     "output_type": "stream",
     "text": [
      "index 0 is out of bounds for axis 0 with size 0\n"
     ]
    },
    {
     "name": "stderr",
     "output_type": "stream",
     "text": [
      " 36%|██████████████████████████████████████████████████████▋                                                                                               | 1869/5121 [05:04<08:12,  6.60it/s]"
     ]
    },
    {
     "name": "stdout",
     "output_type": "stream",
     "text": [
      "index 0 is out of bounds for axis 0 with size 0\n"
     ]
    },
    {
     "name": "stderr",
     "output_type": "stream",
     "text": [
      " 37%|███████████████████████████████████████████████████████▊                                                                                              | 1904/5121 [05:10<07:18,  7.33it/s]"
     ]
    },
    {
     "name": "stdout",
     "output_type": "stream",
     "text": [
      "index 0 is out of bounds for axis 0 with size 0\n"
     ]
    },
    {
     "name": "stderr",
     "output_type": "stream",
     "text": [
      " 38%|████████████████████████████████████████████████████████▎                                                                                             | 1924/5121 [05:12<06:14,  8.55it/s]"
     ]
    },
    {
     "name": "stdout",
     "output_type": "stream",
     "text": [
      "'date'\n"
     ]
    },
    {
     "name": "stderr",
     "output_type": "stream",
     "text": [
      " 38%|████████████████████████████████████████████████████████▍                                                                                             | 1926/5121 [05:13<06:41,  7.95it/s]"
     ]
    },
    {
     "name": "stdout",
     "output_type": "stream",
     "text": [
      "index 0 is out of bounds for axis 0 with size 0\n"
     ]
    },
    {
     "name": "stderr",
     "output_type": "stream",
     "text": [
      " 38%|█████████████████████████████████████████████████████████▌                                                                                            | 1964/5121 [05:19<08:01,  6.55it/s]"
     ]
    },
    {
     "name": "stdout",
     "output_type": "stream",
     "text": [
      "index 0 is out of bounds for axis 0 with size 0\n"
     ]
    },
    {
     "name": "stderr",
     "output_type": "stream",
     "text": [
      " 39%|██████████████████████████████████████████████████████████▎                                                                                           | 1991/5121 [05:23<06:36,  7.89it/s]"
     ]
    },
    {
     "name": "stdout",
     "output_type": "stream",
     "text": [
      "index 0 is out of bounds for axis 0 with size 0\n"
     ]
    },
    {
     "name": "stderr",
     "output_type": "stream",
     "text": [
      " 40%|███████████████████████████████████████████████████████████▉                                                                                          | 2045/5121 [05:32<05:39,  9.05it/s]"
     ]
    },
    {
     "name": "stdout",
     "output_type": "stream",
     "text": [
      "index 0 is out of bounds for axis 0 with size 0\n"
     ]
    },
    {
     "name": "stderr",
     "output_type": "stream",
     "text": [
      " 40%|████████████████████████████████████████████████████████████▍                                                                                         | 2062/5121 [05:35<06:22,  8.00it/s]"
     ]
    },
    {
     "name": "stdout",
     "output_type": "stream",
     "text": [
      "index 0 is out of bounds for axis 0 with size 0\n"
     ]
    },
    {
     "name": "stderr",
     "output_type": "stream",
     "text": [
      " 40%|████████████████████████████████████████████████████████████▌                                                                                         | 2068/5121 [05:36<08:33,  5.95it/s]"
     ]
    },
    {
     "name": "stdout",
     "output_type": "stream",
     "text": [
      "index 0 is out of bounds for axis 0 with size 0\n"
     ]
    },
    {
     "name": "stderr",
     "output_type": "stream",
     "text": [
      " 40%|████████████████████████████████████████████████████████████▋                                                                                         | 2074/5121 [05:37<07:55,  6.41it/s]"
     ]
    },
    {
     "name": "stdout",
     "output_type": "stream",
     "text": [
      "'date'\n"
     ]
    },
    {
     "name": "stderr",
     "output_type": "stream",
     "text": [
      " 41%|█████████████████████████████████████████████████████████████▊                                                                                        | 2111/5121 [05:43<07:14,  6.93it/s]"
     ]
    },
    {
     "name": "stdout",
     "output_type": "stream",
     "text": [
      "index 0 is out of bounds for axis 0 with size 0\n"
     ]
    },
    {
     "name": "stderr",
     "output_type": "stream",
     "text": [
      " 41%|█████████████████████████████████████████████████████████████▉                                                                                        | 2115/5121 [05:44<08:48,  5.69it/s]"
     ]
    },
    {
     "name": "stdout",
     "output_type": "stream",
     "text": [
      "index 0 is out of bounds for axis 0 with size 0\n"
     ]
    },
    {
     "name": "stderr",
     "output_type": "stream",
     "text": [
      " 41%|██████████████████████████████████████████████████████████████▏                                                                                       | 2125/5121 [05:45<09:07,  5.47it/s]"
     ]
    },
    {
     "name": "stdout",
     "output_type": "stream",
     "text": [
      "'date'\n"
     ]
    },
    {
     "name": "stderr",
     "output_type": "stream",
     "text": [
      " 42%|██████████████████████████████████████████████████████████████▉                                                                                       | 2148/5121 [05:49<06:59,  7.09it/s]"
     ]
    },
    {
     "name": "stdout",
     "output_type": "stream",
     "text": [
      "index 0 is out of bounds for axis 0 with size 0\n"
     ]
    },
    {
     "name": "stderr",
     "output_type": "stream",
     "text": [
      " 42%|███████████████████████████████████████████████████████████████                                                                                       | 2152/5121 [05:50<05:46,  8.57it/s]"
     ]
    },
    {
     "name": "stdout",
     "output_type": "stream",
     "text": [
      "index 0 is out of bounds for axis 0 with size 0\n"
     ]
    },
    {
     "name": "stderr",
     "output_type": "stream",
     "text": [
      " 42%|███████████████████████████████████████████████████████████████▍                                                                                      | 2166/5121 [05:52<06:51,  7.18it/s]"
     ]
    },
    {
     "name": "stdout",
     "output_type": "stream",
     "text": [
      "index 0 is out of bounds for axis 0 with size 0\n"
     ]
    },
    {
     "name": "stderr",
     "output_type": "stream",
     "text": [
      " 43%|████████████████████████████████████████████████████████████████▋                                                                                     | 2209/5121 [06:00<09:34,  5.07it/s]"
     ]
    },
    {
     "name": "stdout",
     "output_type": "stream",
     "text": [
      "'date'\n"
     ]
    },
    {
     "name": "stderr",
     "output_type": "stream",
     "text": [
      " 43%|████████████████████████████████████████████████████████████████▉                                                                                     | 2218/5121 [06:01<06:21,  7.61it/s]"
     ]
    },
    {
     "name": "stdout",
     "output_type": "stream",
     "text": [
      "index 0 is out of bounds for axis 0 with size 0\n"
     ]
    },
    {
     "name": "stderr",
     "output_type": "stream",
     "text": [
      " 43%|█████████████████████████████████████████████████████████████████                                                                                     | 2221/5121 [06:01<08:57,  5.39it/s]"
     ]
    },
    {
     "name": "stdout",
     "output_type": "stream",
     "text": [
      "index 0 is out of bounds for axis 0 with size 0\n"
     ]
    },
    {
     "name": "stderr",
     "output_type": "stream",
     "text": [
      " 44%|█████████████████████████████████████████████████████████████████▊                                                                                    | 2245/5121 [06:05<09:11,  5.22it/s]"
     ]
    },
    {
     "name": "stdout",
     "output_type": "stream",
     "text": [
      "index 0 is out of bounds for axis 0 with size 0\n"
     ]
    },
    {
     "name": "stderr",
     "output_type": "stream",
     "text": [
      " 44%|█████████████████████████████████████████████████████████████████▊                                                                                    | 2247/5121 [06:06<08:13,  5.83it/s]"
     ]
    },
    {
     "name": "stdout",
     "output_type": "stream",
     "text": [
      "'date'\n"
     ]
    },
    {
     "name": "stderr",
     "output_type": "stream",
     "text": [
      " 46%|████████████████████████████████████████████████████████████████████▉                                                                                 | 2354/5121 [06:23<06:13,  7.42it/s]"
     ]
    },
    {
     "name": "stdout",
     "output_type": "stream",
     "text": [
      "index 0 is out of bounds for axis 0 with size 0\n"
     ]
    },
    {
     "name": "stderr",
     "output_type": "stream",
     "text": [
      " 46%|█████████████████████████████████████████████████████████████████████                                                                                 | 2359/5121 [06:24<05:24,  8.51it/s]"
     ]
    },
    {
     "name": "stdout",
     "output_type": "stream",
     "text": [
      "index 0 is out of bounds for axis 0 with size 0\n"
     ]
    },
    {
     "name": "stderr",
     "output_type": "stream",
     "text": [
      " 46%|█████████████████████████████████████████████████████████████████████▎                                                                                | 2368/5121 [06:25<06:46,  6.76it/s]"
     ]
    },
    {
     "name": "stdout",
     "output_type": "stream",
     "text": [
      "index 0 is out of bounds for axis 0 with size 0\n"
     ]
    },
    {
     "name": "stderr",
     "output_type": "stream",
     "text": [
      " 46%|█████████████████████████████████████████████████████████████████████▍                                                                                | 2372/5121 [06:26<07:53,  5.81it/s]"
     ]
    },
    {
     "name": "stdout",
     "output_type": "stream",
     "text": [
      "'date'\n"
     ]
    },
    {
     "name": "stderr",
     "output_type": "stream",
     "text": [
      " 48%|███████████████████████████████████████████████████████████████████████▉                                                                              | 2454/5121 [06:39<07:39,  5.81it/s]"
     ]
    },
    {
     "name": "stdout",
     "output_type": "stream",
     "text": [
      "index 0 is out of bounds for axis 0 with size 0\n"
     ]
    },
    {
     "name": "stderr",
     "output_type": "stream",
     "text": [
      " 48%|████████████████████████████████████████████████████████████████████████▌                                                                             | 2476/5121 [06:43<05:26,  8.09it/s]"
     ]
    },
    {
     "name": "stdout",
     "output_type": "stream",
     "text": [
      "index 0 is out of bounds for axis 0 with size 0\n"
     ]
    },
    {
     "name": "stderr",
     "output_type": "stream",
     "text": [
      " 49%|█████████████████████████████████████████████████████████████████████████▏                                                                            | 2497/5121 [06:46<04:27,  9.81it/s]"
     ]
    },
    {
     "name": "stdout",
     "output_type": "stream",
     "text": [
      "index 0 is out of bounds for axis 0 with size 0\n"
     ]
    },
    {
     "name": "stderr",
     "output_type": "stream",
     "text": [
      " 49%|█████████████████████████████████████████████████████████████████████████▊                                                                            | 2520/5121 [06:50<05:21,  8.09it/s]"
     ]
    },
    {
     "name": "stdout",
     "output_type": "stream",
     "text": [
      "index 0 is out of bounds for axis 0 with size 0\n"
     ]
    },
    {
     "name": "stderr",
     "output_type": "stream",
     "text": [
      " 49%|██████████████████████████████████████████████████████████████████████████▏                                                                           | 2531/5121 [06:52<08:35,  5.03it/s]"
     ]
    },
    {
     "name": "stdout",
     "output_type": "stream",
     "text": [
      "index 0 is out of bounds for axis 0 with size 0\n"
     ]
    },
    {
     "name": "stderr",
     "output_type": "stream",
     "text": [
      " 50%|██████████████████████████████████████████████████████████████████████████▉                                                                           | 2559/5121 [06:56<08:09,  5.24it/s]"
     ]
    },
    {
     "name": "stdout",
     "output_type": "stream",
     "text": [
      "index 0 is out of bounds for axis 0 with size 0\n"
     ]
    },
    {
     "name": "stderr",
     "output_type": "stream",
     "text": [
      " 50%|███████████████████████████████████████████████████████████████████████████▏                                                                          | 2568/5121 [06:58<06:59,  6.08it/s]"
     ]
    },
    {
     "name": "stdout",
     "output_type": "stream",
     "text": [
      "index 0 is out of bounds for axis 0 with size 0\n"
     ]
    },
    {
     "name": "stderr",
     "output_type": "stream",
     "text": [
      " 50%|███████████████████████████████████████████████████████████████████████████▋                                                                          | 2586/5121 [07:01<08:41,  4.86it/s]"
     ]
    },
    {
     "name": "stdout",
     "output_type": "stream",
     "text": [
      "index 0 is out of bounds for axis 0 with size 0\n"
     ]
    },
    {
     "name": "stderr",
     "output_type": "stream",
     "text": [
      " 52%|██████████████████████████████████████████████████████████████████████████████                                                                        | 2663/5121 [07:14<07:01,  5.83it/s]"
     ]
    },
    {
     "name": "stdout",
     "output_type": "stream",
     "text": [
      "'date'\n"
     ]
    },
    {
     "name": "stderr",
     "output_type": "stream",
     "text": [
      " 52%|██████████████████████████████████████████████████████████████████████████████▌                                                                       | 2682/5121 [07:17<03:40, 11.07it/s]"
     ]
    },
    {
     "name": "stdout",
     "output_type": "stream",
     "text": [
      "'date'\n",
      "'date'\n"
     ]
    },
    {
     "name": "stderr",
     "output_type": "stream",
     "text": [
      " 53%|███████████████████████████████████████████████████████████████████████████████▊                                                                      | 2726/5121 [07:24<08:18,  4.81it/s]"
     ]
    },
    {
     "name": "stdout",
     "output_type": "stream",
     "text": [
      "index 0 is out of bounds for axis 0 with size 0\n"
     ]
    },
    {
     "name": "stderr",
     "output_type": "stream",
     "text": [
      " 54%|████████████████████████████████████████████████████████████████████████████████▌                                                                     | 2750/5121 [07:28<04:50,  8.15it/s]"
     ]
    },
    {
     "name": "stdout",
     "output_type": "stream",
     "text": [
      "index 0 is out of bounds for axis 0 with size 0\n"
     ]
    },
    {
     "name": "stderr",
     "output_type": "stream",
     "text": [
      " 54%|█████████████████████████████████████████████████████████████████████████████████▏                                                                    | 2770/5121 [07:32<05:44,  6.83it/s]"
     ]
    },
    {
     "name": "stdout",
     "output_type": "stream",
     "text": [
      "index 0 is out of bounds for axis 0 with size 0\n"
     ]
    },
    {
     "name": "stderr",
     "output_type": "stream",
     "text": [
      " 54%|█████████████████████████████████████████████████████████████████████████████████▌                                                                    | 2785/5121 [07:34<03:57,  9.86it/s]"
     ]
    },
    {
     "name": "stdout",
     "output_type": "stream",
     "text": [
      "index 0 is out of bounds for axis 0 with size 0\n"
     ]
    },
    {
     "name": "stderr",
     "output_type": "stream",
     "text": [
      " 55%|██████████████████████████████████████████████████████████████████████████████████▍                                                                   | 2815/5121 [07:38<04:38,  8.28it/s]"
     ]
    },
    {
     "name": "stdout",
     "output_type": "stream",
     "text": [
      "index 0 is out of bounds for axis 0 with size 0\n"
     ]
    },
    {
     "name": "stderr",
     "output_type": "stream",
     "text": [
      " 55%|███████████████████████████████████████████████████████████████████████████████████                                                                   | 2837/5121 [07:42<05:39,  6.73it/s]"
     ]
    },
    {
     "name": "stdout",
     "output_type": "stream",
     "text": [
      "index 0 is out of bounds for axis 0 with size 0\n"
     ]
    },
    {
     "name": "stderr",
     "output_type": "stream",
     "text": [
      " 56%|███████████████████████████████████████████████████████████████████████████████████▎                                                                  | 2844/5121 [07:44<06:15,  6.06it/s]"
     ]
    },
    {
     "name": "stdout",
     "output_type": "stream",
     "text": [
      "index 0 is out of bounds for axis 0 with size 0\n"
     ]
    },
    {
     "name": "stderr",
     "output_type": "stream",
     "text": [
      " 56%|███████████████████████████████████████████████████████████████████████████████████▍                                                                  | 2848/5121 [07:44<04:14,  8.95it/s]"
     ]
    },
    {
     "name": "stdout",
     "output_type": "stream",
     "text": [
      "index 0 is out of bounds for axis 0 with size 0\n"
     ]
    },
    {
     "name": "stderr",
     "output_type": "stream",
     "text": [
      " 56%|████████████████████████████████████████████████████████████████████████████████████                                                                  | 2870/5121 [07:48<07:35,  4.94it/s]"
     ]
    },
    {
     "name": "stdout",
     "output_type": "stream",
     "text": [
      "index 0 is out of bounds for axis 0 with size 0\n"
     ]
    },
    {
     "name": "stderr",
     "output_type": "stream",
     "text": [
      " 56%|████████████████████████████████████████████████████████████████████████████████████▏                                                                 | 2874/5121 [07:48<05:21,  6.98it/s]"
     ]
    },
    {
     "name": "stdout",
     "output_type": "stream",
     "text": [
      "index 0 is out of bounds for axis 0 with size 0\n"
     ]
    },
    {
     "name": "stderr",
     "output_type": "stream",
     "text": [
      " 56%|████████████████████████████████████████████████████████████████████████████████████▍                                                                 | 2881/5121 [07:49<04:22,  8.53it/s]"
     ]
    },
    {
     "name": "stdout",
     "output_type": "stream",
     "text": [
      "index 0 is out of bounds for axis 0 with size 0\n"
     ]
    },
    {
     "name": "stderr",
     "output_type": "stream",
     "text": [
      " 57%|██████████████████████████████████████████████████████████████████████████████████████                                                                | 2938/5121 [07:59<05:40,  6.40it/s]"
     ]
    },
    {
     "name": "stdout",
     "output_type": "stream",
     "text": [
      "index 0 is out of bounds for axis 0 with size 0\n"
     ]
    },
    {
     "name": "stderr",
     "output_type": "stream",
     "text": [
      " 58%|██████████████████████████████████████████████████████████████████████████████████████▍                                                               | 2951/5121 [08:01<04:08,  8.72it/s]"
     ]
    },
    {
     "name": "stdout",
     "output_type": "stream",
     "text": [
      "'date'\n"
     ]
    },
    {
     "name": "stderr",
     "output_type": "stream",
     "text": [
      " 58%|██████████████████████████████████████████████████████████████████████████████████████▋                                                               | 2960/5121 [08:02<04:11,  8.60it/s]"
     ]
    },
    {
     "name": "stdout",
     "output_type": "stream",
     "text": [
      "index 0 is out of bounds for axis 0 with size 0\n"
     ]
    },
    {
     "name": "stderr",
     "output_type": "stream",
     "text": [
      " 59%|███████████████████████████████████████████████████████████████████████████████████████▉                                                              | 3002/5121 [08:09<03:40,  9.62it/s]"
     ]
    },
    {
     "name": "stdout",
     "output_type": "stream",
     "text": [
      "'date'\n",
      "'date'\n",
      "'date'\n"
     ]
    },
    {
     "name": "stderr",
     "output_type": "stream",
     "text": [
      " 59%|████████████████████████████████████████████████████████████████████████████████████████▊                                                             | 3030/5121 [08:14<04:37,  7.53it/s]"
     ]
    },
    {
     "name": "stdout",
     "output_type": "stream",
     "text": [
      "index 0 is out of bounds for axis 0 with size 0\n"
     ]
    },
    {
     "name": "stderr",
     "output_type": "stream",
     "text": [
      " 60%|█████████████████████████████████████████████████████████████████████████████████████████▎                                                            | 3048/5121 [08:17<04:10,  8.27it/s]"
     ]
    },
    {
     "name": "stdout",
     "output_type": "stream",
     "text": [
      "'date'\n"
     ]
    },
    {
     "name": "stderr",
     "output_type": "stream",
     "text": [
      " 60%|█████████████████████████████████████████████████████████████████████████████████████████▎                                                            | 3050/5121 [08:17<05:15,  6.57it/s]"
     ]
    },
    {
     "name": "stdout",
     "output_type": "stream",
     "text": [
      "index 0 is out of bounds for axis 0 with size 0\n"
     ]
    },
    {
     "name": "stderr",
     "output_type": "stream",
     "text": [
      " 60%|█████████████████████████████████████████████████████████████████████████████████████████▌                                                            | 3057/5121 [08:18<05:10,  6.64it/s]"
     ]
    },
    {
     "name": "stdout",
     "output_type": "stream",
     "text": [
      "index 0 is out of bounds for axis 0 with size 0\n"
     ]
    },
    {
     "name": "stderr",
     "output_type": "stream",
     "text": [
      " 60%|██████████████████████████████████████████████████████████████████████████████████████████▏                                                           | 3077/5121 [08:21<06:57,  4.90it/s]"
     ]
    },
    {
     "name": "stdout",
     "output_type": "stream",
     "text": [
      "index 0 is out of bounds for axis 0 with size 0\n",
      "index 0 is out of bounds for axis 0 with size 0\n"
     ]
    },
    {
     "name": "stderr",
     "output_type": "stream",
     "text": [
      " 60%|██████████████████████████████████████████████████████████████████████████████████████████▋                                                           | 3098/5121 [08:25<04:34,  7.36it/s]"
     ]
    },
    {
     "name": "stdout",
     "output_type": "stream",
     "text": [
      "index 0 is out of bounds for axis 0 with size 0\n"
     ]
    },
    {
     "name": "stderr",
     "output_type": "stream",
     "text": [
      " 61%|███████████████████████████████████████████████████████████████████████████████████████████▉                                                          | 3138/5121 [08:32<03:36,  9.17it/s]"
     ]
    },
    {
     "name": "stdout",
     "output_type": "stream",
     "text": [
      "index 0 is out of bounds for axis 0 with size 0\n"
     ]
    },
    {
     "name": "stderr",
     "output_type": "stream",
     "text": [
      " 61%|████████████████████████████████████████████████████████████████████████████████████████████                                                          | 3142/5121 [08:33<04:39,  7.07it/s]"
     ]
    },
    {
     "name": "stdout",
     "output_type": "stream",
     "text": [
      "'date'\n"
     ]
    },
    {
     "name": "stderr",
     "output_type": "stream",
     "text": [
      " 62%|████████████████████████████████████████████████████████████████████████████████████████████▎                                                         | 3153/5121 [08:34<05:43,  5.73it/s]"
     ]
    },
    {
     "name": "stdout",
     "output_type": "stream",
     "text": [
      "index 0 is out of bounds for axis 0 with size 0\n"
     ]
    },
    {
     "name": "stderr",
     "output_type": "stream",
     "text": [
      " 62%|████████████████████████████████████████████████████████████████████████████████████████████▌                                                         | 3162/5121 [08:36<04:24,  7.40it/s]"
     ]
    },
    {
     "name": "stdout",
     "output_type": "stream",
     "text": [
      "'date'\n"
     ]
    },
    {
     "name": "stderr",
     "output_type": "stream",
     "text": [
      " 63%|██████████████████████████████████████████████████████████████████████████████████████████████▎                                                       | 3218/5121 [08:45<04:12,  7.53it/s]"
     ]
    },
    {
     "name": "stdout",
     "output_type": "stream",
     "text": [
      "index 0 is out of bounds for axis 0 with size 0\n"
     ]
    },
    {
     "name": "stderr",
     "output_type": "stream",
     "text": [
      " 63%|██████████████████████████████████████████████████████████████████████████████████████████████▍                                                       | 3222/5121 [08:46<05:25,  5.83it/s]"
     ]
    },
    {
     "name": "stdout",
     "output_type": "stream",
     "text": [
      "index 0 is out of bounds for axis 0 with size 0\n"
     ]
    },
    {
     "name": "stderr",
     "output_type": "stream",
     "text": [
      " 63%|██████████████████████████████████████████████████████████████████████████████████████████████▋                                                       | 3233/5121 [08:48<03:55,  8.01it/s]"
     ]
    },
    {
     "name": "stdout",
     "output_type": "stream",
     "text": [
      "index 0 is out of bounds for axis 0 with size 0\n"
     ]
    },
    {
     "name": "stderr",
     "output_type": "stream",
     "text": [
      " 64%|███████████████████████████████████████████████████████████████████████████████████████████████▎                                                      | 3252/5121 [08:50<03:36,  8.62it/s]"
     ]
    },
    {
     "name": "stdout",
     "output_type": "stream",
     "text": [
      "'date'\n"
     ]
    },
    {
     "name": "stderr",
     "output_type": "stream",
     "text": [
      " 64%|███████████████████████████████████████████████████████████████████████████████████████████████▌                                                      | 3261/5121 [08:52<05:18,  5.85it/s]"
     ]
    },
    {
     "name": "stdout",
     "output_type": "stream",
     "text": [
      "index 0 is out of bounds for axis 0 with size 0\n"
     ]
    },
    {
     "name": "stderr",
     "output_type": "stream",
     "text": [
      " 64%|███████████████████████████████████████████████████████████████████████████████████████████████▉                                                      | 3277/5121 [08:54<03:46,  8.15it/s]"
     ]
    },
    {
     "name": "stdout",
     "output_type": "stream",
     "text": [
      "index 0 is out of bounds for axis 0 with size 0\n"
     ]
    },
    {
     "name": "stderr",
     "output_type": "stream",
     "text": [
      " 65%|█████████████████████████████████████████████████████████████████████████████████████████████████▋                                                    | 3336/5121 [09:04<03:00,  9.87it/s]"
     ]
    },
    {
     "name": "stdout",
     "output_type": "stream",
     "text": [
      "index 0 is out of bounds for axis 0 with size 0\n"
     ]
    },
    {
     "name": "stderr",
     "output_type": "stream",
     "text": [
      " 66%|███████████████████████████████████████████████████████████████████████████████████████████████████▋                                                  | 3404/5121 [09:15<03:58,  7.19it/s]"
     ]
    },
    {
     "name": "stdout",
     "output_type": "stream",
     "text": [
      "index 0 is out of bounds for axis 0 with size 0\n"
     ]
    },
    {
     "name": "stderr",
     "output_type": "stream",
     "text": [
      " 70%|████████████████████████████████████████████████████████████████████████████████████████████████████████▌                                             | 3568/5121 [09:42<04:53,  5.29it/s]"
     ]
    },
    {
     "name": "stdout",
     "output_type": "stream",
     "text": [
      "'date'\n"
     ]
    },
    {
     "name": "stderr",
     "output_type": "stream",
     "text": [
      " 70%|█████████████████████████████████████████████████████████████████████████████████████████████████████████                                             | 3587/5121 [09:45<02:55,  8.76it/s]"
     ]
    },
    {
     "name": "stdout",
     "output_type": "stream",
     "text": [
      "index 0 is out of bounds for axis 0 with size 0\n"
     ]
    },
    {
     "name": "stderr",
     "output_type": "stream",
     "text": [
      " 70%|█████████████████████████████████████████████████████████████████████████████████████████████████████████▋                                            | 3607/5121 [09:49<04:43,  5.34it/s]"
     ]
    },
    {
     "name": "stdout",
     "output_type": "stream",
     "text": [
      "'date'\n"
     ]
    },
    {
     "name": "stderr",
     "output_type": "stream",
     "text": [
      " 71%|██████████████████████████████████████████████████████████████████████████████████████████████████████████                                            | 3622/5121 [09:51<03:35,  6.96it/s]"
     ]
    },
    {
     "name": "stdout",
     "output_type": "stream",
     "text": [
      "index 0 is out of bounds for axis 0 with size 0\n"
     ]
    },
    {
     "name": "stderr",
     "output_type": "stream",
     "text": [
      " 71%|██████████████████████████████████████████████████████████████████████████████████████████████████████████▎                                           | 3628/5121 [09:52<03:29,  7.11it/s]"
     ]
    },
    {
     "name": "stdout",
     "output_type": "stream",
     "text": [
      "index 0 is out of bounds for axis 0 with size 0\n"
     ]
    },
    {
     "name": "stderr",
     "output_type": "stream",
     "text": [
      " 71%|██████████████████████████████████████████████████████████████████████████████████████████████████████████▍                                           | 3633/5121 [09:53<04:33,  5.44it/s]"
     ]
    },
    {
     "name": "stdout",
     "output_type": "stream",
     "text": [
      "index 0 is out of bounds for axis 0 with size 0\n"
     ]
    },
    {
     "name": "stderr",
     "output_type": "stream",
     "text": [
      " 71%|██████████████████████████████████████████████████████████████████████████████████████████████████████████▊                                           | 3647/5121 [09:55<03:29,  7.02it/s]"
     ]
    },
    {
     "name": "stdout",
     "output_type": "stream",
     "text": [
      "index 0 is out of bounds for axis 0 with size 0\n"
     ]
    },
    {
     "name": "stderr",
     "output_type": "stream",
     "text": [
      " 72%|███████████████████████████████████████████████████████████████████████████████████████████████████████████▎                                          | 3662/5121 [09:57<03:55,  6.19it/s]"
     ]
    },
    {
     "name": "stdout",
     "output_type": "stream",
     "text": [
      "index 0 is out of bounds for axis 0 with size 0\n"
     ]
    },
    {
     "name": "stderr",
     "output_type": "stream",
     "text": [
      " 72%|████████████████████████████████████████████████████████████████████████████████████████████████████████████▎                                         | 3696/5121 [10:03<02:50,  8.33it/s]"
     ]
    },
    {
     "name": "stdout",
     "output_type": "stream",
     "text": [
      "index 0 is out of bounds for axis 0 with size 0\n"
     ]
    },
    {
     "name": "stderr",
     "output_type": "stream",
     "text": [
      " 73%|█████████████████████████████████████████████████████████████████████████████████████████████████████████████▊                                        | 3750/5121 [10:12<04:02,  5.66it/s]"
     ]
    },
    {
     "name": "stdout",
     "output_type": "stream",
     "text": [
      "index 0 is out of bounds for axis 0 with size 0\n"
     ]
    },
    {
     "name": "stderr",
     "output_type": "stream",
     "text": [
      " 74%|███████████████████████████████████████████████████████████████████████████████████████████████████████████████▎                                      | 3799/5121 [10:20<03:24,  6.47it/s]"
     ]
    },
    {
     "name": "stdout",
     "output_type": "stream",
     "text": [
      "index 0 is out of bounds for axis 0 with size 0\n"
     ]
    },
    {
     "name": "stderr",
     "output_type": "stream",
     "text": [
      " 74%|███████████████████████████████████████████████████████████████████████████████████████████████████████████████▎                                      | 3802/5121 [10:20<02:45,  7.95it/s]"
     ]
    },
    {
     "name": "stdout",
     "output_type": "stream",
     "text": [
      "index 0 is out of bounds for axis 0 with size 0\n"
     ]
    },
    {
     "name": "stderr",
     "output_type": "stream",
     "text": [
      " 75%|████████████████████████████████████████████████████████████████████████████████████████████████████████████████                                      | 3827/5121 [10:24<03:16,  6.60it/s]"
     ]
    },
    {
     "name": "stdout",
     "output_type": "stream",
     "text": [
      "index 0 is out of bounds for axis 0 with size 0\n",
      "index 0 is out of bounds for axis 0 with size 0\n"
     ]
    },
    {
     "name": "stderr",
     "output_type": "stream",
     "text": [
      " 76%|█████████████████████████████████████████████████████████████████████████████████████████████████████████████████▊                                    | 3885/5121 [10:33<03:42,  5.55it/s]"
     ]
    },
    {
     "name": "stdout",
     "output_type": "stream",
     "text": [
      "index 0 is out of bounds for axis 0 with size 0\n"
     ]
    },
    {
     "name": "stderr",
     "output_type": "stream",
     "text": [
      " 76%|█████████████████████████████████████████████████████████████████████████████████████████████████████████████████▊                                    | 3887/5121 [10:34<04:03,  5.06it/s]"
     ]
    },
    {
     "name": "stdout",
     "output_type": "stream",
     "text": [
      "index 0 is out of bounds for axis 0 with size 0\n"
     ]
    },
    {
     "name": "stderr",
     "output_type": "stream",
     "text": [
      " 77%|██████████████████████████████████████████████████████████████████████████████████████████████████████████████████▊                                   | 3918/5121 [10:39<03:21,  5.98it/s]"
     ]
    },
    {
     "name": "stdout",
     "output_type": "stream",
     "text": [
      "index 0 is out of bounds for axis 0 with size 0\n"
     ]
    },
    {
     "name": "stderr",
     "output_type": "stream",
     "text": [
      " 78%|█████████████████████████████████████████████████████████████████████████████████████████████████████████████████████▏                                | 4001/5121 [10:51<02:49,  6.62it/s]"
     ]
    },
    {
     "name": "stdout",
     "output_type": "stream",
     "text": [
      "index 0 is out of bounds for axis 0 with size 0\n"
     ]
    },
    {
     "name": "stderr",
     "output_type": "stream",
     "text": [
      " 78%|█████████████████████████████████████████████████████████████████████████████████████████████████████████████████████▎                                | 4007/5121 [10:52<02:15,  8.24it/s]"
     ]
    },
    {
     "name": "stdout",
     "output_type": "stream",
     "text": [
      "index 0 is out of bounds for axis 0 with size 0\n"
     ]
    },
    {
     "name": "stderr",
     "output_type": "stream",
     "text": [
      " 80%|███████████████████████████████████████████████████████████████████████████████████████████████████████████████████████▌                              | 4081/5121 [11:04<02:24,  7.18it/s]"
     ]
    },
    {
     "name": "stdout",
     "output_type": "stream",
     "text": [
      "index 0 is out of bounds for axis 0 with size 0\n"
     ]
    },
    {
     "name": "stderr",
     "output_type": "stream",
     "text": [
      " 80%|███████████████████████████████████████████████████████████████████████████████████████████████████████████████████████▊                              | 4091/5121 [11:05<01:52,  9.16it/s]"
     ]
    },
    {
     "name": "stdout",
     "output_type": "stream",
     "text": [
      "index 0 is out of bounds for axis 0 with size 0\n"
     ]
    },
    {
     "name": "stderr",
     "output_type": "stream",
     "text": [
      " 81%|█████████████████████████████████████████████████████████████████████████████████████████████████████████████████████████▍                            | 4144/5121 [11:14<02:27,  6.64it/s]"
     ]
    },
    {
     "name": "stdout",
     "output_type": "stream",
     "text": [
      "index 0 is out of bounds for axis 0 with size 0\n"
     ]
    },
    {
     "name": "stderr",
     "output_type": "stream",
     "text": [
      " 81%|█████████████████████████████████████████████████████████████████████████████████████████████████████████████████████████▋                            | 4156/5121 [11:16<02:30,  6.42it/s]"
     ]
    },
    {
     "name": "stdout",
     "output_type": "stream",
     "text": [
      "index 0 is out of bounds for axis 0 with size 0\n"
     ]
    },
    {
     "name": "stderr",
     "output_type": "stream",
     "text": [
      " 83%|███████████████████████████████████████████████████████████████████████████████████████████████████████████████████████████▊                          | 4228/5121 [11:27<02:00,  7.42it/s]"
     ]
    },
    {
     "name": "stdout",
     "output_type": "stream",
     "text": [
      "index 0 is out of bounds for axis 0 with size 0\n"
     ]
    },
    {
     "name": "stderr",
     "output_type": "stream",
     "text": [
      " 84%|█████████████████████████████████████████████████████████████████████████████████████████████████████████████████████████████▉                        | 4298/5121 [11:38<01:43,  7.99it/s]"
     ]
    },
    {
     "name": "stdout",
     "output_type": "stream",
     "text": [
      "'date'\n"
     ]
    },
    {
     "name": "stderr",
     "output_type": "stream",
     "text": [
      " 85%|██████████████████████████████████████████████████████████████████████████████████████████████████████████████████████████████▊                       | 4330/5121 [11:43<02:35,  5.10it/s]"
     ]
    },
    {
     "name": "stdout",
     "output_type": "stream",
     "text": [
      "index 0 is out of bounds for axis 0 with size 0\n",
      "index 0 is out of bounds for axis 0 with size 0\n"
     ]
    },
    {
     "name": "stderr",
     "output_type": "stream",
     "text": [
      " 86%|████████████████████████████████████████████████████████████████████████████████████████████████████████████████████████████████▎                     | 4380/5121 [11:51<02:07,  5.83it/s]"
     ]
    },
    {
     "name": "stdout",
     "output_type": "stream",
     "text": [
      "index 0 is out of bounds for axis 0 with size 0\n"
     ]
    },
    {
     "name": "stderr",
     "output_type": "stream",
     "text": [
      " 86%|█████████████████████████████████████████████████████████████████████████████████████████████████████████████████████████████████▋                    | 4427/5121 [11:59<01:39,  6.98it/s]"
     ]
    },
    {
     "name": "stdout",
     "output_type": "stream",
     "text": [
      "'date'\n"
     ]
    },
    {
     "name": "stderr",
     "output_type": "stream",
     "text": [
      " 87%|█████████████████████████████████████████████████████████████████████████████████████████████████████████████████████████████████▊                    | 4430/5121 [11:59<01:39,  6.96it/s]"
     ]
    },
    {
     "name": "stdout",
     "output_type": "stream",
     "text": [
      "index 0 is out of bounds for axis 0 with size 0\n"
     ]
    },
    {
     "name": "stderr",
     "output_type": "stream",
     "text": [
      " 87%|█████████████████████████████████████████████████████████████████████████████████████████████████████████████████████████████████▉                    | 4435/5121 [12:00<01:42,  6.71it/s]"
     ]
    },
    {
     "name": "stdout",
     "output_type": "stream",
     "text": [
      "index 0 is out of bounds for axis 0 with size 0\n"
     ]
    },
    {
     "name": "stderr",
     "output_type": "stream",
     "text": [
      " 87%|██████████████████████████████████████████████████████████████████████████████████████████████████████████████████████████████████▍                   | 4452/5121 [12:02<01:24,  7.96it/s]"
     ]
    },
    {
     "name": "stdout",
     "output_type": "stream",
     "text": [
      "'date'\n"
     ]
    },
    {
     "name": "stderr",
     "output_type": "stream",
     "text": [
      " 87%|██████████████████████████████████████████████████████████████████████████████████████████████████████████████████████████████████▌                   | 4457/5121 [12:03<01:49,  6.04it/s]"
     ]
    },
    {
     "name": "stdout",
     "output_type": "stream",
     "text": [
      "index 0 is out of bounds for axis 0 with size 0\n"
     ]
    },
    {
     "name": "stderr",
     "output_type": "stream",
     "text": [
      " 88%|████████████████████████████████████████████████████████████████████████████████████████████████████████████████████████████████████                  | 4509/5121 [12:12<01:44,  5.85it/s]"
     ]
    },
    {
     "name": "stdout",
     "output_type": "stream",
     "text": [
      "index 0 is out of bounds for axis 0 with size 0\n"
     ]
    },
    {
     "name": "stderr",
     "output_type": "stream",
     "text": [
      " 89%|█████████████████████████████████████████████████████████████████████████████████████████████████████████████████████████████████████▎                | 4550/5121 [12:19<01:12,  7.88it/s]"
     ]
    },
    {
     "name": "stdout",
     "output_type": "stream",
     "text": [
      "index 0 is out of bounds for axis 0 with size 0\n"
     ]
    },
    {
     "name": "stderr",
     "output_type": "stream",
     "text": [
      " 89%|█████████████████████████████████████████████████████████████████████████████████████████████████████████████████████████████████████▌                | 4558/5121 [12:20<01:01,  9.11it/s]"
     ]
    },
    {
     "name": "stdout",
     "output_type": "stream",
     "text": [
      "index 0 is out of bounds for axis 0 with size 0\n"
     ]
    },
    {
     "name": "stderr",
     "output_type": "stream",
     "text": [
      " 89%|█████████████████████████████████████████████████████████████████████████████████████████████████████████████████████████████████████▌                | 4560/5121 [12:20<01:07,  8.33it/s]"
     ]
    },
    {
     "name": "stdout",
     "output_type": "stream",
     "text": [
      "'date'\n"
     ]
    },
    {
     "name": "stderr",
     "output_type": "stream",
     "text": [
      " 90%|███████████████████████████████████████████████████████████████████████████████████████████████████████████████████████████████████████▌              | 4626/5121 [12:31<01:21,  6.06it/s]"
     ]
    },
    {
     "name": "stdout",
     "output_type": "stream",
     "text": [
      "index 0 is out of bounds for axis 0 with size 0\n",
      "index 0 is out of bounds for axis 0 with size 0\n"
     ]
    },
    {
     "name": "stderr",
     "output_type": "stream",
     "text": [
      " 90%|███████████████████████████████████████████████████████████████████████████████████████████████████████████████████████████████████████▋              | 4632/5121 [12:32<01:22,  5.91it/s]"
     ]
    },
    {
     "name": "stdout",
     "output_type": "stream",
     "text": [
      "index 0 is out of bounds for axis 0 with size 0\n"
     ]
    },
    {
     "name": "stderr",
     "output_type": "stream",
     "text": [
      " 91%|████████████████████████████████████████████████████████████████████████████████████████████████████████████████████████████████████████▏             | 4649/5121 [12:35<01:14,  6.32it/s]"
     ]
    },
    {
     "name": "stdout",
     "output_type": "stream",
     "text": [
      "index 0 is out of bounds for axis 0 with size 0\n"
     ]
    },
    {
     "name": "stderr",
     "output_type": "stream",
     "text": [
      " 92%|█████████████████████████████████████████████████████████████████████████████████████████████████████████████████████████████████████████▎            | 4686/5121 [12:41<01:40,  4.33it/s]"
     ]
    },
    {
     "name": "stdout",
     "output_type": "stream",
     "text": [
      "index 0 is out of bounds for axis 0 with size 0\n"
     ]
    },
    {
     "name": "stderr",
     "output_type": "stream",
     "text": [
      " 92%|█████████████████████████████████████████████████████████████████████████████████████████████████████████████████████████████████████████▍            | 4694/5121 [12:43<01:24,  5.05it/s]"
     ]
    },
    {
     "name": "stdout",
     "output_type": "stream",
     "text": [
      "'date'\n"
     ]
    },
    {
     "name": "stderr",
     "output_type": "stream",
     "text": [
      " 93%|███████████████████████████████████████████████████████████████████████████████████████████████████████████████████████████████████████████▉          | 4779/5121 [12:57<00:41,  8.20it/s]"
     ]
    },
    {
     "name": "stdout",
     "output_type": "stream",
     "text": [
      "index 0 is out of bounds for axis 0 with size 0\n"
     ]
    },
    {
     "name": "stderr",
     "output_type": "stream",
     "text": [
      " 93%|████████████████████████████████████████████████████████████████████████████████████████████████████████████████████████████████████████████          | 4781/5121 [12:58<00:48,  7.00it/s]"
     ]
    },
    {
     "name": "stdout",
     "output_type": "stream",
     "text": [
      "'date'\n"
     ]
    },
    {
     "name": "stderr",
     "output_type": "stream",
     "text": [
      " 94%|████████████████████████████████████████████████████████████████████████████████████████████████████████████████████████████████████████████▎         | 4789/5121 [12:58<00:35,  9.42it/s]"
     ]
    },
    {
     "name": "stdout",
     "output_type": "stream",
     "text": [
      "index 0 is out of bounds for axis 0 with size 0\n"
     ]
    },
    {
     "name": "stderr",
     "output_type": "stream",
     "text": [
      " 94%|████████████████████████████████████████████████████████████████████████████████████████████████████████████████████████████████████████████▌         | 4800/5121 [13:00<00:40,  8.02it/s]"
     ]
    },
    {
     "name": "stdout",
     "output_type": "stream",
     "text": [
      "index 0 is out of bounds for axis 0 with size 0\n"
     ]
    },
    {
     "name": "stderr",
     "output_type": "stream",
     "text": [
      " 96%|████████████████████████████████████████████████████████████████████████████████████████████████████████████████████████████████████████████████▎     | 4926/5121 [13:20<00:29,  6.60it/s]"
     ]
    },
    {
     "name": "stdout",
     "output_type": "stream",
     "text": [
      "index 0 is out of bounds for axis 0 with size 0\n"
     ]
    },
    {
     "name": "stderr",
     "output_type": "stream",
     "text": [
      " 96%|████████████████████████████████████████████████████████████████████████████████████████████████████████████████████████████████████████████████▌     | 4936/5121 [13:22<00:25,  7.30it/s]"
     ]
    },
    {
     "name": "stdout",
     "output_type": "stream",
     "text": [
      "index 0 is out of bounds for axis 0 with size 0\n"
     ]
    },
    {
     "name": "stderr",
     "output_type": "stream",
     "text": [
      " 97%|█████████████████████████████████████████████████████████████████████████████████████████████████████████████████████████████████████████████████     | 4952/5121 [13:25<00:34,  4.89it/s]"
     ]
    },
    {
     "name": "stdout",
     "output_type": "stream",
     "text": [
      "index 0 is out of bounds for axis 0 with size 0\n"
     ]
    },
    {
     "name": "stderr",
     "output_type": "stream",
     "text": [
      " 98%|██████████████████████████████████████████████████████████████████████████████████████████████████████████████████████████████████████████████████▎   | 4995/5121 [13:32<00:19,  6.58it/s]"
     ]
    },
    {
     "name": "stdout",
     "output_type": "stream",
     "text": [
      "'date'\n"
     ]
    },
    {
     "name": "stderr",
     "output_type": "stream",
     "text": [
      " 98%|███████████████████████████████████████████████████████████████████████████████████████████████████████████████████████████████████████████████████▍  | 5032/5121 [13:39<00:12,  7.24it/s]"
     ]
    },
    {
     "name": "stdout",
     "output_type": "stream",
     "text": [
      "index 0 is out of bounds for axis 0 with size 0\n"
     ]
    },
    {
     "name": "stderr",
     "output_type": "stream",
     "text": [
      " 99%|████████████████████████████████████████████████████████████████████████████████████████████████████████████████████████████████████████████████████▏ | 5059/5121 [13:43<00:08,  7.21it/s]"
     ]
    },
    {
     "name": "stdout",
     "output_type": "stream",
     "text": [
      "index 0 is out of bounds for axis 0 with size 0\n"
     ]
    },
    {
     "name": "stderr",
     "output_type": "stream",
     "text": [
      " 99%|████████████████████████████████████████████████████████████████████████████████████████████████████████████████████████████████████████████████████▍ | 5067/5121 [13:44<00:05,  9.20it/s]"
     ]
    },
    {
     "name": "stdout",
     "output_type": "stream",
     "text": [
      "index 0 is out of bounds for axis 0 with size 0\n"
     ]
    },
    {
     "name": "stderr",
     "output_type": "stream",
     "text": [
      " 99%|████████████████████████████████████████████████████████████████████████████████████████████████████████████████████████████████████████████████████▌ | 5073/5121 [13:45<00:04, 10.36it/s]"
     ]
    },
    {
     "name": "stdout",
     "output_type": "stream",
     "text": [
      "index 0 is out of bounds for axis 0 with size 0\n"
     ]
    },
    {
     "name": "stderr",
     "output_type": "stream",
     "text": [
      " 99%|████████████████████████████████████████████████████████████████████████████████████████████████████████████████████████████████████████████████████▊ | 5081/5121 [13:46<00:04,  9.42it/s]"
     ]
    },
    {
     "name": "stdout",
     "output_type": "stream",
     "text": [
      "index 0 is out of bounds for axis 0 with size 0\n"
     ]
    },
    {
     "name": "stderr",
     "output_type": "stream",
     "text": [
      "100%|█████████████████████████████████████████████████████████████████████████████████████████████████████████████████████████████████████████████████████▋| 5110/5121 [13:49<00:01,  9.99it/s]"
     ]
    },
    {
     "name": "stdout",
     "output_type": "stream",
     "text": [
      "index 0 is out of bounds for axis 0 with size 0\n"
     ]
    },
    {
     "name": "stderr",
     "output_type": "stream",
     "text": [
      "100%|█████████████████████████████████████████████████████████████████████████████████████████████████████████████████████████████████████████████████████▉| 5120/5121 [13:51<00:00,  8.31it/s]"
     ]
    },
    {
     "name": "stdout",
     "output_type": "stream",
     "text": [
      "index 0 is out of bounds for axis 0 with size 0\n"
     ]
    },
    {
     "name": "stderr",
     "output_type": "stream",
     "text": [
      "100%|██████████████████████████████████████████████████████████████████████████████████████████████████████████████████████████████████████████████████████| 5121/5121 [13:51<00:00,  6.16it/s]\n"
     ]
    }
   ],
   "source": [
    "market.connect()\n",
    "prices = []\n",
    "for ticker in tqdm(index[\"ticker\"]):\n",
    "    try:\n",
    "        price = p.column_date_processing(market.query(\"prices\",{\"ticker\":ticker}))\n",
    "        price.sort_values(\"date\",inplace=True)\n",
    "        price = factors_df.merge(price[[\"date\",\"ticker\",\"adjclose\",\"high\",\"low\",\"volume\"]],on=\"date\",how=\"left\")\n",
    "        price = p.additional_date_cols(price)\n",
    "        price[\"quarter\"] = price[\"date\"].dt.quarter\n",
    "        price = Indicator.calculate_indicators(price)\n",
    "        price[\"y\"] = price[\"adjclose\"].shift(-60)\n",
    "        training_data = price[(price[\"year\"]>=model_start) & (price[\"year\"] < model_end)].dropna(subset=factors).dropna()\n",
    "        sim = price[(price[\"year\"]>=model_end-1) & (price[\"year\"]<backtest_end)].dropna(subset=factors)\n",
    "        model = XGBRegressor()\n",
    "        model.fit(training_data[factors],training_data[\"y\"])\n",
    "        sim[\"prediction\"] = model.predict(sim[factors])\n",
    "        sim = sim.merge(macro,on=\"date\",how=\"left\")\n",
    "        sim = CAPM.apply(sim)\n",
    "        prices.append(sim)\n",
    "    except Exception as e:\n",
    "        print(str(e))\n",
    "        continue\n",
    "market.disconnect()"
   ]
  },
  {
   "cell_type": "code",
   "execution_count": 7,
   "id": "fb63bbf6-0639-445b-aef4-44998e4f17fb",
   "metadata": {},
   "outputs": [],
   "source": [
    "simulation = pd.concat(prices).merge(index,on=\"ticker\",how=\"left\")\n",
    "simulation = simulation[(simulation[\"year\"]>=model_end) & (simulation[\"year\"]<backtest_end)].dropna(subset=\"factor\")\n",
    "tickers = list(simulation[simulation[\"year\"]==model_end][\"ticker\"].unique())\n",
    "simulation = simulation[simulation[\"ticker\"].isin(tickers)]\n",
    "simulation[\"market_cap_rank\"] = simulation.groupby([\"year\"])[\"market_cap\"].rank(pct=True).round(1)\n",
    "simulation[\"rank\"] = simulation.groupby([\"date\", \"market_cap_rank\"])[\"factor\"].rank(method=\"dense\", ascending=False).astype(int)\n",
    "\n",
    "# Calculate the total number of ranks for each sector and date\n",
    "simulation[\"total_ranks\"] = simulation.groupby([\"date\", \"market_cap_rank\"])[\"rank\"].transform(\"max\")\n",
    "\n",
    "# Assign exposure based on rank\n",
    "simulation[\"exposure\"] = simulation.apply(\n",
    "    lambda x: 1 if x[\"rank\"] <= x[\"total_ranks\"] * 0.50 else -1,\n",
    "    axis=1\n",
    ")\n",
    "\n",
    "# Cleanup: Drop the total_ranks column if not needed\n",
    "simulation.drop(columns=[\"total_ranks\"], inplace=True)\n",
    "\n",
    "# Sorting by date for further processing\n",
    "simulation.sort_values(\"date\", inplace=True)\n",
    "simulation[\"sell_price\"] = simulation[\"adjclose\"]\n",
    "simulation[\"sell_date\"] = simulation[\"date\"]"
   ]
  },
  {
   "cell_type": "code",
   "execution_count": 8,
   "id": "bb8c4411-1e27-4d49-ba9a-4001f7f97208",
   "metadata": {},
   "outputs": [
    {
     "data": {
      "text/plain": [
       "Index(['date', 'AAPL', 'AMZN', 'GOOGL', 'META', 'MSFT', 'NVDA', 'TSLA',\n",
       "       'ticker', 'adjclose', 'high', 'low', 'volume', 'year', 'month', 'week',\n",
       "       'quarter', 'reference_price', 'reference_volume', 'reference_high',\n",
       "       'reference_low', 'adr', 'sma', 'ema', 'std', 'bollinger_upper',\n",
       "       'bollinger_lower', 'pct_change', 'coev', 'market_cap', 'atr',\n",
       "       'momentum', 'roc', 'williams_r', 'obv', 'vwap', 'market_impact',\n",
       "       'rogan', 'y', 'realtime_start', 'realtime_end', 'rf', 'factor', 'risk',\n",
       "       'sigma', 'name', 'market', 'locale', 'primary_exchange', 'type',\n",
       "       'active', 'currency_name', 'cik', 'composite_figi', 'share_class_figi',\n",
       "       'last_updated_utc', 'market_cap_rank', 'rank', 'exposure', 'sell_price',\n",
       "       'sell_date'],\n",
       "      dtype='object')"
      ]
     },
     "execution_count": 8,
     "metadata": {},
     "output_type": "execute_result"
    }
   ],
   "source": [
    "simulation.columns"
   ]
  },
  {
   "cell_type": "code",
   "execution_count": 9,
   "id": "abd94941-a4e3-4bd2-96d6-ebd19bca227b",
   "metadata": {},
   "outputs": [],
   "source": [
    "benchmark = macro.copy()\n",
    "benchmark[\"year\"] = benchmark[\"date\"].dt.year\n",
    "benchmark[\"quarter\"] = benchmark[\"date\"].dt.quarter\n",
    "benchmark = benchmark[(benchmark[\"year\"]>=model_end) & (benchmark[\"year\"]<backtest_end)].drop([x for x in benchmark.columns if \"real\" in x],axis=1).groupby([\"year\",\"quarter\"]).mean().reset_index()\n",
    "benchmark[\"sp500\"] = (benchmark[\"sp500\"] - benchmark[\"sp500\"].iloc[0]) /benchmark[\"sp500\"].iloc[0]\n",
    "benchmark[\"rf\"] = (benchmark[\"rf\"] - benchmark[\"rf\"].iloc[0]) /benchmark[\"rf\"].iloc[0]\n",
    "benchmark[\"sp500_prediction\"] = (benchmark[\"sp500_prediction\"] - benchmark[\"sp500_prediction\"].iloc[0]) /benchmark[\"sp500_prediction\"].iloc[0]\n",
    "benchmark.dropna(inplace=True)"
   ]
  },
  {
   "cell_type": "code",
   "execution_count": 10,
   "id": "14482271-5bd0-4d7c-b0aa-af35a29f04ff",
   "metadata": {},
   "outputs": [],
   "source": [
    "def rank_list(value,i):\n",
    "    # Ensure i is a non-negative integer\n",
    "    if value == 0:\n",
    "        if i < 0:\n",
    "            raise ValueError(\"The number of integers, i, must be non-negative.\")\n",
    "        \n",
    "        if i % 2 == 0:\n",
    "            # Even number of elements: Symmetric around 0\n",
    "            return list(range(-i // 2, i // 2))\n",
    "        else:\n",
    "            # Odd number of elements: Includes 0\n",
    "            return list(range(-i // 2, i // 2 + 1))\n",
    "    if value == -1:\n",
    "        return list(range(-1,-i-1,-1))\n",
    "    else:\n",
    "        return list(range(0,i+1,1))"
   ]
  },
  {
   "cell_type": "code",
   "execution_count": 11,
   "id": "4c5dfbe0-896b-4cf9-9730-6eb72b21b3a2",
   "metadata": {},
   "outputs": [],
   "source": [
    "filtered_columns = [\"year\",\"quarter\",\"date\",\"sell_date\",\"market_cap_rank\",\"ticker\",\"rank\",\"exposure\",\"adjclose\",\"sell_price\"]\n",
    "agg_query = {\"date\":\"first\",\"sell_date\":\"last\",\"market_cap_rank\":\"first\",\"exposure\":\"first\",\"rank\":\"first\",\"adjclose\":\"first\",\"sell_price\":\"last\"}"
   ]
  },
  {
   "cell_type": "code",
   "execution_count": 12,
   "id": "fb5664ef-d9a5-4c4e-9989-c8c46c5146d9",
   "metadata": {},
   "outputs": [
    {
     "data": {
      "text/html": [
       "<div>\n",
       "<style scoped>\n",
       "    .dataframe tbody tr th:only-of-type {\n",
       "        vertical-align: middle;\n",
       "    }\n",
       "\n",
       "    .dataframe tbody tr th {\n",
       "        vertical-align: top;\n",
       "    }\n",
       "\n",
       "    .dataframe thead th {\n",
       "        text-align: right;\n",
       "    }\n",
       "</style>\n",
       "<table border=\"1\" class=\"dataframe\">\n",
       "  <thead>\n",
       "    <tr style=\"text-align: right;\">\n",
       "      <th></th>\n",
       "      <th>date</th>\n",
       "      <th>AAPL</th>\n",
       "      <th>AMZN</th>\n",
       "      <th>GOOGL</th>\n",
       "      <th>META</th>\n",
       "      <th>MSFT</th>\n",
       "      <th>NVDA</th>\n",
       "      <th>TSLA</th>\n",
       "      <th>ticker</th>\n",
       "      <th>adjclose</th>\n",
       "      <th>...</th>\n",
       "      <th>currency_name</th>\n",
       "      <th>cik</th>\n",
       "      <th>composite_figi</th>\n",
       "      <th>share_class_figi</th>\n",
       "      <th>last_updated_utc</th>\n",
       "      <th>market_cap_rank</th>\n",
       "      <th>rank</th>\n",
       "      <th>exposure</th>\n",
       "      <th>sell_price</th>\n",
       "      <th>sell_date</th>\n",
       "    </tr>\n",
       "  </thead>\n",
       "  <tbody>\n",
       "    <tr>\n",
       "      <th>4417337</th>\n",
       "      <td>2025-03-20 00:00:00+00:00</td>\n",
       "      <td>249.515987</td>\n",
       "      <td>223.29</td>\n",
       "      <td>188.282975</td>\n",
       "      <td>595.055839</td>\n",
       "      <td>436.160049</td>\n",
       "      <td>130.66871</td>\n",
       "      <td>436.17</td>\n",
       "      <td>VTVT</td>\n",
       "      <td>17.605</td>\n",
       "      <td>...</td>\n",
       "      <td>usd</td>\n",
       "      <td>0001641489</td>\n",
       "      <td>BBG009DT9XJ0</td>\n",
       "      <td>BBG009DT9XK8</td>\n",
       "      <td>2025-03-21T00:00:00Z</td>\n",
       "      <td>0.2</td>\n",
       "      <td>186</td>\n",
       "      <td>1</td>\n",
       "      <td>17.605</td>\n",
       "      <td>2025-03-20 00:00:00+00:00</td>\n",
       "    </tr>\n",
       "    <tr>\n",
       "      <th>4573083</th>\n",
       "      <td>2025-03-20 00:00:00+00:00</td>\n",
       "      <td>249.515987</td>\n",
       "      <td>223.29</td>\n",
       "      <td>188.282975</td>\n",
       "      <td>595.055839</td>\n",
       "      <td>436.160049</td>\n",
       "      <td>130.66871</td>\n",
       "      <td>436.17</td>\n",
       "      <td>XRAY</td>\n",
       "      <td>15.600</td>\n",
       "      <td>...</td>\n",
       "      <td>usd</td>\n",
       "      <td>0000818479</td>\n",
       "      <td>BBG000BX57K1</td>\n",
       "      <td>BBG001S5XLV8</td>\n",
       "      <td>2025-03-21T00:00:00Z</td>\n",
       "      <td>0.8</td>\n",
       "      <td>29</td>\n",
       "      <td>1</td>\n",
       "      <td>15.600</td>\n",
       "      <td>2025-03-20 00:00:00+00:00</td>\n",
       "    </tr>\n",
       "    <tr>\n",
       "      <th>3495488</th>\n",
       "      <td>2025-03-20 00:00:00+00:00</td>\n",
       "      <td>249.515987</td>\n",
       "      <td>223.29</td>\n",
       "      <td>188.282975</td>\n",
       "      <td>595.055839</td>\n",
       "      <td>436.160049</td>\n",
       "      <td>130.66871</td>\n",
       "      <td>436.17</td>\n",
       "      <td>RF</td>\n",
       "      <td>21.680</td>\n",
       "      <td>...</td>\n",
       "      <td>usd</td>\n",
       "      <td>0001281761</td>\n",
       "      <td>BBG000Q3JN03</td>\n",
       "      <td>BBG001SM4KY2</td>\n",
       "      <td>2025-03-21T00:00:00Z</td>\n",
       "      <td>0.9</td>\n",
       "      <td>286</td>\n",
       "      <td>-1</td>\n",
       "      <td>21.680</td>\n",
       "      <td>2025-03-20 00:00:00+00:00</td>\n",
       "    </tr>\n",
       "    <tr>\n",
       "      <th>1372115</th>\n",
       "      <td>2025-03-20 00:00:00+00:00</td>\n",
       "      <td>249.515987</td>\n",
       "      <td>223.29</td>\n",
       "      <td>188.282975</td>\n",
       "      <td>595.055839</td>\n",
       "      <td>436.160049</td>\n",
       "      <td>130.66871</td>\n",
       "      <td>436.17</td>\n",
       "      <td>ELA</td>\n",
       "      <td>5.440</td>\n",
       "      <td>...</td>\n",
       "      <td>usd</td>\n",
       "      <td>0000701719</td>\n",
       "      <td>BBG000G9WBK0</td>\n",
       "      <td>BBG001S684B4</td>\n",
       "      <td>2025-03-21T00:00:00Z</td>\n",
       "      <td>0.1</td>\n",
       "      <td>361</td>\n",
       "      <td>-1</td>\n",
       "      <td>5.440</td>\n",
       "      <td>2025-03-20 00:00:00+00:00</td>\n",
       "    </tr>\n",
       "    <tr>\n",
       "      <th>4628180</th>\n",
       "      <td>2025-03-20 00:00:00+00:00</td>\n",
       "      <td>249.515987</td>\n",
       "      <td>223.29</td>\n",
       "      <td>188.282975</td>\n",
       "      <td>595.055839</td>\n",
       "      <td>436.160049</td>\n",
       "      <td>130.66871</td>\n",
       "      <td>436.17</td>\n",
       "      <td>ZYXI</td>\n",
       "      <td>2.570</td>\n",
       "      <td>...</td>\n",
       "      <td>usd</td>\n",
       "      <td>0000846475</td>\n",
       "      <td>BBG000BJBXZ2</td>\n",
       "      <td>BBG001S7T7V0</td>\n",
       "      <td>2025-03-21T00:00:00Z</td>\n",
       "      <td>0.2</td>\n",
       "      <td>134</td>\n",
       "      <td>1</td>\n",
       "      <td>2.570</td>\n",
       "      <td>2025-03-20 00:00:00+00:00</td>\n",
       "    </tr>\n",
       "  </tbody>\n",
       "</table>\n",
       "<p>5 rows × 61 columns</p>\n",
       "</div>"
      ],
      "text/plain": [
       "                             date        AAPL    AMZN       GOOGL        META  \\\n",
       "4417337 2025-03-20 00:00:00+00:00  249.515987  223.29  188.282975  595.055839   \n",
       "4573083 2025-03-20 00:00:00+00:00  249.515987  223.29  188.282975  595.055839   \n",
       "3495488 2025-03-20 00:00:00+00:00  249.515987  223.29  188.282975  595.055839   \n",
       "1372115 2025-03-20 00:00:00+00:00  249.515987  223.29  188.282975  595.055839   \n",
       "4628180 2025-03-20 00:00:00+00:00  249.515987  223.29  188.282975  595.055839   \n",
       "\n",
       "               MSFT       NVDA    TSLA ticker  adjclose  ...  currency_name  \\\n",
       "4417337  436.160049  130.66871  436.17   VTVT    17.605  ...            usd   \n",
       "4573083  436.160049  130.66871  436.17   XRAY    15.600  ...            usd   \n",
       "3495488  436.160049  130.66871  436.17     RF    21.680  ...            usd   \n",
       "1372115  436.160049  130.66871  436.17    ELA     5.440  ...            usd   \n",
       "4628180  436.160049  130.66871  436.17   ZYXI     2.570  ...            usd   \n",
       "\n",
       "                cik  composite_figi  share_class_figi      last_updated_utc  \\\n",
       "4417337  0001641489    BBG009DT9XJ0      BBG009DT9XK8  2025-03-21T00:00:00Z   \n",
       "4573083  0000818479    BBG000BX57K1      BBG001S5XLV8  2025-03-21T00:00:00Z   \n",
       "3495488  0001281761    BBG000Q3JN03      BBG001SM4KY2  2025-03-21T00:00:00Z   \n",
       "1372115  0000701719    BBG000G9WBK0      BBG001S684B4  2025-03-21T00:00:00Z   \n",
       "4628180  0000846475    BBG000BJBXZ2      BBG001S7T7V0  2025-03-21T00:00:00Z   \n",
       "\n",
       "         market_cap_rank  rank  exposure  sell_price                 sell_date  \n",
       "4417337              0.2   186         1      17.605 2025-03-20 00:00:00+00:00  \n",
       "4573083              0.8    29         1      15.600 2025-03-20 00:00:00+00:00  \n",
       "3495488              0.9   286        -1      21.680 2025-03-20 00:00:00+00:00  \n",
       "1372115              0.1   361        -1       5.440 2025-03-20 00:00:00+00:00  \n",
       "4628180              0.2   134         1       2.570 2025-03-20 00:00:00+00:00  \n",
       "\n",
       "[5 rows x 61 columns]"
      ]
     },
     "execution_count": 12,
     "metadata": {},
     "output_type": "execute_result"
    }
   ],
   "source": [
    "simulation.tail()"
   ]
  },
  {
   "cell_type": "code",
   "execution_count": 47,
   "id": "ad842794-ccc3-4eb6-a545-008d8a5996a2",
   "metadata": {
    "scrolled": true
   },
   "outputs": [
    {
     "name": "stderr",
     "output_type": "stream",
     "text": [
      "  0%|                                                                                                                                                                    | 0/2 [00:00<?, ?it/s]\n",
      "  0%|                                                                                                                                                                    | 0/3 [00:00<?, ?it/s]\u001b[A\n",
      "\n",
      "  0%|                                                                                                                                                                    | 0/1 [00:00<?, ?it/s]\u001b[A\u001b[A\n",
      "\n",
      "100%|████████████████████████████████████████████████████████████████████████████████████████████████████████████████████████████████████████████████████████████| 1/1 [00:02<00:00,  2.70s/it]\u001b[A\u001b[A\n",
      "\n",
      " 33%|████████████████████████████████████████████████████                                                                                                        | 1/3 [00:02<00:05,  2.70s/it]\u001b[A\n",
      "\n",
      "  0%|                                                                                                                                                                    | 0/1 [00:00<?, ?it/s]\u001b[A\u001b[A\n",
      "\n",
      "100%|████████████████████████████████████████████████████████████████████████████████████████████████████████████████████████████████████████████████████████████| 1/1 [00:02<00:00,  2.68s/it]\u001b[A\u001b[A\n",
      "\n",
      " 67%|████████████████████████████████████████████████████████████████████████████████████████████████████████                                                    | 2/3 [00:05<00:02,  2.69s/it]\u001b[A\n",
      "\n",
      "  0%|                                                                                                                                                                    | 0/1 [00:00<?, ?it/s]\u001b[A\u001b[A\n",
      "\n",
      "100%|████████████████████████████████████████████████████████████████████████████████████████████████████████████████████████████████████████████████████████████| 1/1 [00:02<00:00,  2.66s/it]\u001b[A\u001b[A\n",
      "\n",
      "100%|████████████████████████████████████████████████████████████████████████████████████████████████████████████████████████████████████████████████████████████| 3/3 [00:08<00:00,  2.69s/it]\u001b[A\n",
      " 50%|██████████████████████████████████████████████████████████████████████████████                                                                              | 1/2 [00:08<00:08,  8.06s/it]\n",
      "  0%|                                                                                                                                                                    | 0/3 [00:00<?, ?it/s]\u001b[A\n",
      "\n",
      "  0%|                                                                                                                                                                    | 0/1 [00:00<?, ?it/s]\u001b[A\u001b[A\n",
      "\n",
      "100%|████████████████████████████████████████████████████████████████████████████████████████████████████████████████████████████████████████████████████████████| 1/1 [00:02<00:00,  2.70s/it]\u001b[A\u001b[A\n",
      "\n",
      " 33%|████████████████████████████████████████████████████                                                                                                        | 1/3 [00:02<00:05,  2.70s/it]\u001b[A\n",
      "\n",
      "  0%|                                                                                                                                                                    | 0/1 [00:00<?, ?it/s]\u001b[A\u001b[A\n",
      "\n",
      "100%|████████████████████████████████████████████████████████████████████████████████████████████████████████████████████████████████████████████████████████████| 1/1 [00:02<00:00,  2.75s/it]\u001b[A\u001b[A\n",
      "\n",
      " 67%|████████████████████████████████████████████████████████████████████████████████████████████████████████                                                    | 2/3 [00:05<00:02,  2.73s/it]\u001b[A\n",
      "\n",
      "  0%|                                                                                                                                                                    | 0/1 [00:00<?, ?it/s]\u001b[A\u001b[A\n",
      "\n",
      "100%|████████████████████████████████████████████████████████████████████████████████████████████████████████████████████████████████████████████████████████████| 1/1 [00:02<00:00,  2.94s/it]\u001b[A\u001b[A\n",
      "\n",
      "100%|████████████████████████████████████████████████████████████████████████████████████████████████████████████████████████████████████████████████████████████| 3/3 [00:08<00:00,  2.80s/it]\u001b[A\n",
      "100%|████████████████████████████████████████████████████████████████████████████████████████████████████████████████████████████████████████████████████████████| 2/2 [00:16<00:00,  8.23s/it]\n"
     ]
    }
   ],
   "source": [
    "run = True\n",
    "if run:\n",
    "    analysises = []\n",
    "    for direction in tqdm([1,-1]):\n",
    "        for value in tqdm([1,0,-1]):\n",
    "            for maximum_index in tqdm([1]):\n",
    "                for minimum_index in [0]:\n",
    "                    for num_stocks_per_industry in [1,5]:\n",
    "                        try:\n",
    "                            parameters = {\n",
    "                                \"direction\":direction,\n",
    "                                \"val\":value,\n",
    "                                \"maxi\": maximum_index,\n",
    "                                \"mini\": minimum_index,\n",
    "                                \"stacks\": num_stocks_per_industry\n",
    "                            }\n",
    "                            stacks = rank_list(value,num_stocks_per_industry)\n",
    "                            # max_cap = simulation.sort_values(\"market_cap\")[\"market_cap\"].unique()[-maximum_index]\n",
    "                            # min_cap = simulation.sort_values(\"market_cap\")[\"market_cap\"].unique()[minimum_index]\n",
    "                            # filtered_simulation = simulation[(simulation[\"market_cap\"]<=max_cap) & (simulation[\"market_cap\"]>=min_cap)].copy()\n",
    "                            trades = simulation[filtered_columns].groupby([\"year\",\"quarter\",\"ticker\"]).agg(agg_query).reset_index()\n",
    "                            trades = trades.sort_values(\"rank\",ascending=True).groupby([\"year\",\"quarter\",\"market_cap_rank\"]).nth(stacks).reset_index()\n",
    "                            trades[\"return\"] = (trades[\"sell_price\"] - trades[\"adjclose\"])/trades[\"adjclose\"]\n",
    "                            trades[\"return\"] = trades[\"return\"] * trades[\"exposure\"] * direction \n",
    "                            trades[\"return\"] = winsorize(trades[\"return\"],[0.05,0.05])\n",
    "                            analysis = trades[[\"year\",\"quarter\",\"exposure\",\"return\"]].groupby([\"year\",\"quarter\",\"exposure\"]).mean().pivot_table(index=[\"year\",\"quarter\"],columns=\"exposure\",values=\"return\").reset_index()\n",
    "                            portfolio = trades[[\"year\",\"quarter\",\"return\"]].groupby([\"year\",\"quarter\"]).mean().reset_index().sort_values([\"year\",\"quarter\"])\n",
    "                            portfolio[\"return\"] = portfolio[\"return\"] + 1\n",
    "                            portfolio[\"return\"] = portfolio[\"return\"].cumprod() - 1\n",
    "                            portfolio['Year-Quarter'] = portfolio[\"year\"].astype(str) + \"q\" + portfolio[\"quarter\"].astype(str)\n",
    "                            portfolio = portfolio.merge(benchmark,on=[\"year\",\"quarter\"],how=\"left\")\n",
    "                            portfolio[\"sharpe\"] = portfolio[\"return\"] - portfolio[\"rf\"] / portfolio[\"return\"].std()\n",
    "                            parameters[\"risk\"] = portfolio[\"return\"].std()\n",
    "                            parameters[\"sharpe\"] = portfolio[\"sharpe\"].iloc[-1]\n",
    "                            parameters[\"return\"] = portfolio[\"return\"].iloc[-1]\n",
    "                            analysises.append(parameters)\n",
    "                        except Exception as e:\n",
    "                            print(str(e))\n",
    "                            continue"
   ]
  },
  {
   "cell_type": "code",
   "execution_count": 48,
   "id": "836b13ed-c3d4-4e53-a62b-9163a7fdb56e",
   "metadata": {},
   "outputs": [],
   "source": [
    "a = pd.DataFrame(analysises)\n",
    "a[\"color\"] = [\"blue\" if x == 1 else \"red\" if x == -1  else \"green\" for x in a[\"val\"]]\n",
    "a[\"return_to_risk\"] = a[\"return\"] / a[\"risk\"]"
   ]
  },
  {
   "cell_type": "code",
   "execution_count": 49,
   "id": "1c9898c5-47de-4f97-959e-3e0d93206c69",
   "metadata": {},
   "outputs": [
    {
     "data": {
      "image/png": "[encoded data removed]",
      "text/plain": [
       "<Figure size 1200x600 with 2 Axes>"
      ]
     },
     "metadata": {},
     "output_type": "display_data"
    }
   ],
   "source": [
    "fig, axes = plt.subplots(1, 2, figsize=(12, 6), sharey=True)\n",
    "\n",
    "# Titles for each subplot\n",
    "titles = [\"Direction: 1\", \"Direction: -1\"]\n",
    "\n",
    "# Iterate over directions and corresponding axes\n",
    "for i, direction in enumerate([1, -1]):\n",
    "    d_analysis = a[a[\"direction\"] == direction]\n",
    "    axes[i].scatter(\n",
    "        d_analysis[\"sharpe\"],\n",
    "        d_analysis[\"return\"],\n",
    "        c=d_analysis[\"color\"],\n",
    "        s=d_analysis[\"stacks\"] * 2,\n",
    "        alpha=0.8,\n",
    "        edgecolors=\"w\",\n",
    "    )\n",
    "    axes[i].set_title(titles[i])\n",
    "    axes[i].set_xlabel(\"Sharpe Ratio\")\n",
    "    axes[i].set_ylabel(\"Return\" if i == 0 else \"\")  # Only label y-axis on the first plot\n",
    "\n",
    "# Adjust layout for better spacing\n",
    "plt.tight_layout()\n",
    "\n",
    "# Show the combined plot\n",
    "plt.show()"
   ]
  },
  {
   "cell_type": "code",
   "execution_count": 50,
   "id": "36cf02b0-947e-445b-9f63-ff00e556ff0b",
   "metadata": {},
   "outputs": [
    {
     "data": {
      "text/html": [
       "<div>\n",
       "<style scoped>\n",
       "    .dataframe tbody tr th:only-of-type {\n",
       "        vertical-align: middle;\n",
       "    }\n",
       "\n",
       "    .dataframe tbody tr th {\n",
       "        vertical-align: top;\n",
       "    }\n",
       "\n",
       "    .dataframe thead th {\n",
       "        text-align: right;\n",
       "    }\n",
       "</style>\n",
       "<table border=\"1\" class=\"dataframe\">\n",
       "  <thead>\n",
       "    <tr style=\"text-align: right;\">\n",
       "      <th></th>\n",
       "      <th>direction</th>\n",
       "      <th>val</th>\n",
       "      <th>maxi</th>\n",
       "      <th>mini</th>\n",
       "      <th>stacks</th>\n",
       "      <th>risk</th>\n",
       "      <th>sharpe</th>\n",
       "      <th>return</th>\n",
       "      <th>color</th>\n",
       "      <th>return_to_risk</th>\n",
       "    </tr>\n",
       "  </thead>\n",
       "  <tbody>\n",
       "    <tr>\n",
       "      <th>6</th>\n",
       "      <td>-1</td>\n",
       "      <td>1</td>\n",
       "      <td>1</td>\n",
       "      <td>0</td>\n",
       "      <td>1</td>\n",
       "      <td>2.081120</td>\n",
       "      <td>6.448520</td>\n",
       "      <td>7.068618</td>\n",
       "      <td>blue</td>\n",
       "      <td>3.396545</td>\n",
       "    </tr>\n",
       "    <tr>\n",
       "      <th>7</th>\n",
       "      <td>-1</td>\n",
       "      <td>1</td>\n",
       "      <td>1</td>\n",
       "      <td>0</td>\n",
       "      <td>5</td>\n",
       "      <td>0.908782</td>\n",
       "      <td>1.642666</td>\n",
       "      <td>3.062696</td>\n",
       "      <td>blue</td>\n",
       "      <td>3.370111</td>\n",
       "    </tr>\n",
       "    <tr>\n",
       "      <th>5</th>\n",
       "      <td>1</td>\n",
       "      <td>-1</td>\n",
       "      <td>1</td>\n",
       "      <td>0</td>\n",
       "      <td>5</td>\n",
       "      <td>0.533377</td>\n",
       "      <td>-0.674757</td>\n",
       "      <td>1.744729</td>\n",
       "      <td>red</td>\n",
       "      <td>3.271102</td>\n",
       "    </tr>\n",
       "    <tr>\n",
       "      <th>4</th>\n",
       "      <td>1</td>\n",
       "      <td>-1</td>\n",
       "      <td>1</td>\n",
       "      <td>0</td>\n",
       "      <td>1</td>\n",
       "      <td>0.234227</td>\n",
       "      <td>-5.080341</td>\n",
       "      <td>0.429271</td>\n",
       "      <td>red</td>\n",
       "      <td>1.832716</td>\n",
       "    </tr>\n",
       "    <tr>\n",
       "      <th>8</th>\n",
       "      <td>-1</td>\n",
       "      <td>0</td>\n",
       "      <td>1</td>\n",
       "      <td>0</td>\n",
       "      <td>1</td>\n",
       "      <td>0.180604</td>\n",
       "      <td>-6.791216</td>\n",
       "      <td>0.354235</td>\n",
       "      <td>green</td>\n",
       "      <td>1.961392</td>\n",
       "    </tr>\n",
       "    <tr>\n",
       "      <th>9</th>\n",
       "      <td>-1</td>\n",
       "      <td>0</td>\n",
       "      <td>1</td>\n",
       "      <td>0</td>\n",
       "      <td>5</td>\n",
       "      <td>0.101882</td>\n",
       "      <td>-12.316284</td>\n",
       "      <td>0.350339</td>\n",
       "      <td>green</td>\n",
       "      <td>3.438683</td>\n",
       "    </tr>\n",
       "    <tr>\n",
       "      <th>3</th>\n",
       "      <td>1</td>\n",
       "      <td>0</td>\n",
       "      <td>1</td>\n",
       "      <td>0</td>\n",
       "      <td>5</td>\n",
       "      <td>0.074573</td>\n",
       "      <td>-17.600066</td>\n",
       "      <td>-0.294971</td>\n",
       "      <td>green</td>\n",
       "      <td>-3.955449</td>\n",
       "    </tr>\n",
       "    <tr>\n",
       "      <th>2</th>\n",
       "      <td>1</td>\n",
       "      <td>0</td>\n",
       "      <td>1</td>\n",
       "      <td>0</td>\n",
       "      <td>1</td>\n",
       "      <td>0.144450</td>\n",
       "      <td>-9.263451</td>\n",
       "      <td>-0.329562</td>\n",
       "      <td>green</td>\n",
       "      <td>-2.281497</td>\n",
       "    </tr>\n",
       "    <tr>\n",
       "      <th>10</th>\n",
       "      <td>-1</td>\n",
       "      <td>-1</td>\n",
       "      <td>1</td>\n",
       "      <td>0</td>\n",
       "      <td>1</td>\n",
       "      <td>0.317701</td>\n",
       "      <td>-4.832620</td>\n",
       "      <td>-0.770636</td>\n",
       "      <td>red</td>\n",
       "      <td>-2.425661</td>\n",
       "    </tr>\n",
       "    <tr>\n",
       "      <th>11</th>\n",
       "      <td>-1</td>\n",
       "      <td>-1</td>\n",
       "      <td>1</td>\n",
       "      <td>0</td>\n",
       "      <td>5</td>\n",
       "      <td>0.250405</td>\n",
       "      <td>-5.940331</td>\n",
       "      <td>-0.786680</td>\n",
       "      <td>red</td>\n",
       "      <td>-3.141636</td>\n",
       "    </tr>\n",
       "    <tr>\n",
       "      <th>1</th>\n",
       "      <td>1</td>\n",
       "      <td>1</td>\n",
       "      <td>1</td>\n",
       "      <td>0</td>\n",
       "      <td>5</td>\n",
       "      <td>0.230368</td>\n",
       "      <td>-6.437421</td>\n",
       "      <td>-0.835531</td>\n",
       "      <td>blue</td>\n",
       "      <td>-3.626938</td>\n",
       "    </tr>\n",
       "    <tr>\n",
       "      <th>0</th>\n",
       "      <td>1</td>\n",
       "      <td>1</td>\n",
       "      <td>1</td>\n",
       "      <td>0</td>\n",
       "      <td>1</td>\n",
       "      <td>0.262954</td>\n",
       "      <td>-5.848190</td>\n",
       "      <td>-0.940501</td>\n",
       "      <td>blue</td>\n",
       "      <td>-3.576671</td>\n",
       "    </tr>\n",
       "  </tbody>\n",
       "</table>\n",
       "</div>"
      ],
      "text/plain": [
       "    direction  val  maxi  mini  stacks      risk     sharpe    return  color  \\\n",
       "6          -1    1     1     0       1  2.081120   6.448520  7.068618   blue   \n",
       "7          -1    1     1     0       5  0.908782   1.642666  3.062696   blue   \n",
       "5           1   -1     1     0       5  0.533377  -0.674757  1.744729    red   \n",
       "4           1   -1     1     0       1  0.234227  -5.080341  0.429271    red   \n",
       "8          -1    0     1     0       1  0.180604  -6.791216  0.354235  green   \n",
       "9          -1    0     1     0       5  0.101882 -12.316284  0.350339  green   \n",
       "3           1    0     1     0       5  0.074573 -17.600066 -0.294971  green   \n",
       "2           1    0     1     0       1  0.144450  -9.263451 -0.329562  green   \n",
       "10         -1   -1     1     0       1  0.317701  -4.832620 -0.770636    red   \n",
       "11         -1   -1     1     0       5  0.250405  -5.940331 -0.786680    red   \n",
       "1           1    1     1     0       5  0.230368  -6.437421 -0.835531   blue   \n",
       "0           1    1     1     0       1  0.262954  -5.848190 -0.940501   blue   \n",
       "\n",
       "    return_to_risk  \n",
       "6         3.396545  \n",
       "7         3.370111  \n",
       "5         3.271102  \n",
       "4         1.832716  \n",
       "8         1.961392  \n",
       "9         3.438683  \n",
       "3        -3.955449  \n",
       "2        -2.281497  \n",
       "10       -2.425661  \n",
       "11       -3.141636  \n",
       "1        -3.626938  \n",
       "0        -3.576671  "
      ]
     },
     "execution_count": 50,
     "metadata": {},
     "output_type": "execute_result"
    }
   ],
   "source": [
    "a.sort_values(\"return\",ascending=False).head(20)"
   ]
  },
  {
   "cell_type": "code",
   "execution_count": 64,
   "id": "d9547ac4-1502-48ff-a25b-196a89099c71",
   "metadata": {},
   "outputs": [],
   "source": [
    "value = 1\n",
    "direction = -1\n",
    "maximum_index = 1\n",
    "minimum_index = 0\n",
    "num_stocks_per_industry = 1\n",
    "stacks = rank_list(value,num_stocks_per_industry)"
   ]
  },
  {
   "cell_type": "code",
   "execution_count": 73,
   "id": "d22253c4-e658-4883-8ad9-c9b92b8f3fe7",
   "metadata": {},
   "outputs": [],
   "source": [
    "stacks = rank_list(value,num_stocks_per_industry)\n",
    "# max_cap = simulation.sort_values(\"market_cap\")[\"market_cap\"].unique()[-maximum_index]\n",
    "# min_cap = simulation.sort_values(\"market_cap\")[\"market_cap\"].unique()[minimum_index]\n",
    "# filtered_simulation = simulation[(simulation[\"market_cap\"]<=max_cap) & (simulation[\"market_cap\"]>=min_cap)].copy()\n",
    "trades = simulation[filtered_columns].groupby([\"year\",\"quarter\",\"ticker\"]).agg(agg_query).reset_index()\n",
    "trades = trades.sort_values(\"rank\",ascending=True).groupby([\"year\",\"quarter\",\"market_cap_rank\"]).nth(stacks).reset_index()\n",
    "trades[\"return\"] = (trades[\"sell_price\"] - trades[\"adjclose\"])/trades[\"adjclose\"]\n",
    "trades[\"return\"] = trades[\"return\"] * trades[\"exposure\"] * direction \n",
    "trades[\"return\"] = winsorize(trades[\"return\"],[0.05,0.05])\n",
    "trades = trades.merge(index[[\"ticker\",\"name\"]],how=\"left\",on=\"ticker\")\n",
    "analysis = trades[[\"year\",\"quarter\",\"exposure\",\"return\"]].groupby([\"year\",\"quarter\",\"exposure\"]).mean().pivot_table(index=[\"year\",\"quarter\"],columns=\"exposure\",values=\"return\").reset_index()\n",
    "portfolio = trades[[\"year\",\"quarter\",\"return\"]].groupby([\"year\",\"quarter\"]).mean().reset_index().sort_values([\"year\",\"quarter\"])\n",
    "portfolio[\"return\"] = portfolio[\"return\"] + 1\n",
    "portfolio[\"return\"] = portfolio[\"return\"].cumprod() - 1\n",
    "portfolio['Year-Quarter'] = portfolio[\"year\"].astype(str) + \"q\" + portfolio[\"quarter\"].astype(str)\n",
    "portfolio = portfolio.merge(benchmark,on=[\"year\",\"quarter\"],how=\"left\")"
   ]
  },
  {
   "cell_type": "code",
   "execution_count": 74,
   "id": "2d80d54c-8bd8-4174-9215-f8c9e516e4cb",
   "metadata": {},
   "outputs": [
    {
     "data": {
      "image/png": "[encoded data removed]",
      "text/plain": [
       "<Figure size 1200x600 with 1 Axes>"
      ]
     },
     "metadata": {},
     "output_type": "display_data"
    }
   ],
   "source": [
    "analysis['Year-Quarter'] = analysis[\"year\"].astype(str) + \"q\" + analysis[\"quarter\"].astype(str)\n",
    "\n",
    "# Reset index for plotting\n",
    "analysis.drop([\"year\",\"quarter\"],axis=1,inplace=True)\n",
    "analysis.reset_index(drop=True, inplace=True)\n",
    "\n",
    "# Plot a bar chart\n",
    "analysis.set_index(\"Year-Quarter\").plot(\n",
    "    kind=\"bar\",\n",
    "    figsize=(12, 6),\n",
    "    title=\"Mean Returns by Exposure per Year and Quarter\"\n",
    ")\n",
    "\n",
    "# Customize the plot\n",
    "plt.xlabel(\"Year, Quarter\")\n",
    "plt.ylabel(\"Mean Return\")\n",
    "plt.xticks(rotation=45, ha='right')  # Rotate x-axis labels for better readability\n",
    "plt.legend(title=\"Exposure\")\n",
    "plt.tight_layout()\n",
    "\n",
    "# Show the plot\n",
    "plt.show()\n"
   ]
  },
  {
   "cell_type": "code",
   "execution_count": 75,
   "id": "597bcabe-1a9d-4b72-a2fa-4f84dc767e26",
   "metadata": {},
   "outputs": [
    {
     "data": {
      "image/png": "[encoded data removed]",
      "text/plain": [
       "<Figure size 1200x600 with 1 Axes>"
      ]
     },
     "metadata": {},
     "output_type": "display_data"
    }
   ],
   "source": [
    "# Create the plot\n",
    "ax = portfolio.drop([\"date\", \"year\", \"quarter\"], axis=1).set_index(\"Year-Quarter\").plot(\n",
    "    kind=\"line\",\n",
    "    figsize=(12, 6),\n",
    "    title=\"Mean Returns by Exposure per Year and Quarter\"\n",
    ")\n",
    "\n",
    "# Set y-axis to have more precise ticks\n",
    "ax.tick_params(axis='y', direction='in', length=6)  # Adjust y-tick direction and length\n",
    "ax.yaxis.set_major_formatter(plt.FuncFormatter(lambda x, _: f'{x:.4f}'))  # Format y-ticks with 4 decimal places\n",
    "\n",
    "# Move y-ticks to the right side\n",
    "ax.yaxis.set_tick_params(which='both', direction='inout', length=6, labelleft=False, labelright=True)\n",
    "\n",
    "# Optionally adjust the number of ticks for better precision\n",
    "ax.yaxis.set_major_locator(plt.MaxNLocator(integer=False, prune='both'))\n",
    "\n",
    "# Add grid lines\n",
    "ax.grid(True, which='both', axis='both', linestyle='--', linewidth=0.7)\n",
    "\n",
    "# Display the plot\n",
    "plt.tight_layout()\n",
    "plt.show()"
   ]
  },
  {
   "cell_type": "code",
   "execution_count": 76,
   "id": "9023efb8-dc7b-4dd5-b693-25897a415d0a",
   "metadata": {},
   "outputs": [
    {
     "data": {
      "text/html": [
       "<div>\n",
       "<style scoped>\n",
       "    .dataframe tbody tr th:only-of-type {\n",
       "        vertical-align: middle;\n",
       "    }\n",
       "\n",
       "    .dataframe tbody tr th {\n",
       "        vertical-align: top;\n",
       "    }\n",
       "\n",
       "    .dataframe thead th {\n",
       "        text-align: right;\n",
       "    }\n",
       "</style>\n",
       "<table border=\"1\" class=\"dataframe\">\n",
       "  <thead>\n",
       "    <tr style=\"text-align: right;\">\n",
       "      <th></th>\n",
       "      <th>year</th>\n",
       "      <th>quarter</th>\n",
       "      <th>return</th>\n",
       "      <th>Year-Quarter</th>\n",
       "      <th>date</th>\n",
       "      <th>sp500</th>\n",
       "      <th>sp500_prediction</th>\n",
       "      <th>rf</th>\n",
       "    </tr>\n",
       "  </thead>\n",
       "  <tbody>\n",
       "    <tr>\n",
       "      <th>8</th>\n",
       "      <td>2024</td>\n",
       "      <td>1</td>\n",
       "      <td>2.532875</td>\n",
       "      <td>2024q1</td>\n",
       "      <td>2024-02-14 09:50:09.836065536+00:00</td>\n",
       "      <td>0.118437</td>\n",
       "      <td>0.006260</td>\n",
       "      <td>1.130250</td>\n",
       "    </tr>\n",
       "    <tr>\n",
       "      <th>9</th>\n",
       "      <td>2024</td>\n",
       "      <td>2</td>\n",
       "      <td>3.390335</td>\n",
       "      <td>2024q2</td>\n",
       "      <td>2024-05-14 06:05:42.857142784+00:00</td>\n",
       "      <td>0.175358</td>\n",
       "      <td>0.009472</td>\n",
       "      <td>1.280080</td>\n",
       "    </tr>\n",
       "    <tr>\n",
       "      <th>10</th>\n",
       "      <td>2024</td>\n",
       "      <td>3</td>\n",
       "      <td>4.489923</td>\n",
       "      <td>2024q3</td>\n",
       "      <td>2024-08-15 01:52:30+00:00</td>\n",
       "      <td>0.241857</td>\n",
       "      <td>0.007774</td>\n",
       "      <td>1.026871</td>\n",
       "    </tr>\n",
       "    <tr>\n",
       "      <th>11</th>\n",
       "      <td>2024</td>\n",
       "      <td>4</td>\n",
       "      <td>4.804789</td>\n",
       "      <td>2024q4</td>\n",
       "      <td>2024-11-14 06:45:00+00:00</td>\n",
       "      <td>0.323305</td>\n",
       "      <td>0.009181</td>\n",
       "      <td>1.122809</td>\n",
       "    </tr>\n",
       "    <tr>\n",
       "      <th>12</th>\n",
       "      <td>2025</td>\n",
       "      <td>1</td>\n",
       "      <td>7.318715</td>\n",
       "      <td>2025q1</td>\n",
       "      <td>2025-02-10 18:06:47.547169792+00:00</td>\n",
       "      <td>0.326711</td>\n",
       "      <td>0.002789</td>\n",
       "      <td>1.290498</td>\n",
       "    </tr>\n",
       "  </tbody>\n",
       "</table>\n",
       "</div>"
      ],
      "text/plain": [
       "    year  quarter    return Year-Quarter                                date  \\\n",
       "8   2024        1  2.532875       2024q1 2024-02-14 09:50:09.836065536+00:00   \n",
       "9   2024        2  3.390335       2024q2 2024-05-14 06:05:42.857142784+00:00   \n",
       "10  2024        3  4.489923       2024q3           2024-08-15 01:52:30+00:00   \n",
       "11  2024        4  4.804789       2024q4           2024-11-14 06:45:00+00:00   \n",
       "12  2025        1  7.318715       2025q1 2025-02-10 18:06:47.547169792+00:00   \n",
       "\n",
       "       sp500  sp500_prediction        rf  \n",
       "8   0.118437          0.006260  1.130250  \n",
       "9   0.175358          0.009472  1.280080  \n",
       "10  0.241857          0.007774  1.026871  \n",
       "11  0.323305          0.009181  1.122809  \n",
       "12  0.326711          0.002789  1.290498  "
      ]
     },
     "execution_count": 76,
     "metadata": {},
     "output_type": "execute_result"
    }
   ],
   "source": [
    "portfolio.tail()"
   ]
  },
  {
   "cell_type": "code",
   "execution_count": 77,
   "id": "5e259941-c727-4c51-a808-89a341d84710",
   "metadata": {},
   "outputs": [
    {
     "data": {
      "text/html": [
       "<div>\n",
       "<style scoped>\n",
       "    .dataframe tbody tr th:only-of-type {\n",
       "        vertical-align: middle;\n",
       "    }\n",
       "\n",
       "    .dataframe tbody tr th {\n",
       "        vertical-align: top;\n",
       "    }\n",
       "\n",
       "    .dataframe thead th {\n",
       "        text-align: right;\n",
       "    }\n",
       "</style>\n",
       "<table border=\"1\" class=\"dataframe\">\n",
       "  <thead>\n",
       "    <tr style=\"text-align: right;\">\n",
       "      <th></th>\n",
       "      <th></th>\n",
       "      <th></th>\n",
       "      <th></th>\n",
       "      <th>return</th>\n",
       "    </tr>\n",
       "    <tr>\n",
       "      <th>year</th>\n",
       "      <th>quarter</th>\n",
       "      <th>exposure</th>\n",
       "      <th>market_cap_rank</th>\n",
       "      <th></th>\n",
       "    </tr>\n",
       "  </thead>\n",
       "  <tbody>\n",
       "    <tr>\n",
       "      <th rowspan=\"11\" valign=\"top\">2024</th>\n",
       "      <th rowspan=\"11\" valign=\"top\">4</th>\n",
       "      <th rowspan=\"11\" valign=\"top\">1</th>\n",
       "      <th>0.0</th>\n",
       "      <td>-0.372465</td>\n",
       "    </tr>\n",
       "    <tr>\n",
       "      <th>0.1</th>\n",
       "      <td>-0.505115</td>\n",
       "    </tr>\n",
       "    <tr>\n",
       "      <th>0.2</th>\n",
       "      <td>-0.185820</td>\n",
       "    </tr>\n",
       "    <tr>\n",
       "      <th>0.3</th>\n",
       "      <td>-0.270367</td>\n",
       "    </tr>\n",
       "    <tr>\n",
       "      <th>0.4</th>\n",
       "      <td>0.222714</td>\n",
       "    </tr>\n",
       "    <tr>\n",
       "      <th>0.5</th>\n",
       "      <td>0.418873</td>\n",
       "    </tr>\n",
       "    <tr>\n",
       "      <th>0.6</th>\n",
       "      <td>0.260065</td>\n",
       "    </tr>\n",
       "    <tr>\n",
       "      <th>0.7</th>\n",
       "      <td>0.315273</td>\n",
       "    </tr>\n",
       "    <tr>\n",
       "      <th>0.8</th>\n",
       "      <td>-0.002425</td>\n",
       "    </tr>\n",
       "    <tr>\n",
       "      <th>0.9</th>\n",
       "      <td>0.438000</td>\n",
       "    </tr>\n",
       "    <tr>\n",
       "      <th>1.0</th>\n",
       "      <td>0.312155</td>\n",
       "    </tr>\n",
       "    <tr>\n",
       "      <th rowspan=\"11\" valign=\"top\">2025</th>\n",
       "      <th rowspan=\"11\" valign=\"top\">1</th>\n",
       "      <th rowspan=\"11\" valign=\"top\">1</th>\n",
       "      <th>0.0</th>\n",
       "      <td>0.385562</td>\n",
       "    </tr>\n",
       "    <tr>\n",
       "      <th>0.1</th>\n",
       "      <td>0.495134</td>\n",
       "    </tr>\n",
       "    <tr>\n",
       "      <th>0.2</th>\n",
       "      <td>0.406665</td>\n",
       "    </tr>\n",
       "    <tr>\n",
       "      <th>0.3</th>\n",
       "      <td>0.147770</td>\n",
       "    </tr>\n",
       "    <tr>\n",
       "      <th>0.4</th>\n",
       "      <td>0.416904</td>\n",
       "    </tr>\n",
       "    <tr>\n",
       "      <th>0.5</th>\n",
       "      <td>0.559129</td>\n",
       "    </tr>\n",
       "    <tr>\n",
       "      <th>0.6</th>\n",
       "      <td>0.517687</td>\n",
       "    </tr>\n",
       "    <tr>\n",
       "      <th>0.7</th>\n",
       "      <td>0.334072</td>\n",
       "    </tr>\n",
       "    <tr>\n",
       "      <th>0.8</th>\n",
       "      <td>0.741933</td>\n",
       "    </tr>\n",
       "    <tr>\n",
       "      <th>0.9</th>\n",
       "      <td>0.666703</td>\n",
       "    </tr>\n",
       "    <tr>\n",
       "      <th>1.0</th>\n",
       "      <td>0.092299</td>\n",
       "    </tr>\n",
       "  </tbody>\n",
       "</table>\n",
       "</div>"
      ],
      "text/plain": [
       "                                         return\n",
       "year quarter exposure market_cap_rank          \n",
       "2024 4       1        0.0             -0.372465\n",
       "                      0.1             -0.505115\n",
       "                      0.2             -0.185820\n",
       "                      0.3             -0.270367\n",
       "                      0.4              0.222714\n",
       "                      0.5              0.418873\n",
       "                      0.6              0.260065\n",
       "                      0.7              0.315273\n",
       "                      0.8             -0.002425\n",
       "                      0.9              0.438000\n",
       "                      1.0              0.312155\n",
       "2025 1       1        0.0              0.385562\n",
       "                      0.1              0.495134\n",
       "                      0.2              0.406665\n",
       "                      0.3              0.147770\n",
       "                      0.4              0.416904\n",
       "                      0.5              0.559129\n",
       "                      0.6              0.517687\n",
       "                      0.7              0.334072\n",
       "                      0.8              0.741933\n",
       "                      0.9              0.666703\n",
       "                      1.0              0.092299"
      ]
     },
     "execution_count": 77,
     "metadata": {},
     "output_type": "execute_result"
    }
   ],
   "source": [
    "trades.groupby([\"year\",\"quarter\",\"exposure\",\"market_cap_rank\"]).agg({\"return\":\"mean\"}).tail(22)"
   ]
  },
  {
   "cell_type": "code",
   "execution_count": 78,
   "id": "89a36070-10bd-46ba-ac0f-1e580a1b03ca",
   "metadata": {},
   "outputs": [
    {
     "data": {
      "text/html": [
       "<div>\n",
       "<style scoped>\n",
       "    .dataframe tbody tr th:only-of-type {\n",
       "        vertical-align: middle;\n",
       "    }\n",
       "\n",
       "    .dataframe tbody tr th {\n",
       "        vertical-align: top;\n",
       "    }\n",
       "\n",
       "    .dataframe thead th {\n",
       "        text-align: right;\n",
       "    }\n",
       "</style>\n",
       "<table border=\"1\" class=\"dataframe\">\n",
       "  <thead>\n",
       "    <tr style=\"text-align: right;\">\n",
       "      <th></th>\n",
       "      <th>index</th>\n",
       "      <th>year</th>\n",
       "      <th>quarter</th>\n",
       "      <th>ticker</th>\n",
       "      <th>date</th>\n",
       "      <th>sell_date</th>\n",
       "      <th>market_cap_rank</th>\n",
       "      <th>exposure</th>\n",
       "      <th>rank</th>\n",
       "      <th>adjclose</th>\n",
       "      <th>sell_price</th>\n",
       "      <th>return</th>\n",
       "      <th>name</th>\n",
       "    </tr>\n",
       "  </thead>\n",
       "  <tbody>\n",
       "    <tr>\n",
       "      <th>268</th>\n",
       "      <td>51980</td>\n",
       "      <td>2025</td>\n",
       "      <td>1</td>\n",
       "      <td>CISO</td>\n",
       "      <td>2025-01-02 00:00:00+00:00</td>\n",
       "      <td>2025-03-20 00:00:00+00:00</td>\n",
       "      <td>0.1</td>\n",
       "      <td>1</td>\n",
       "      <td>2</td>\n",
       "      <td>3.0300</td>\n",
       "      <td>0.4800</td>\n",
       "      <td>0.780546</td>\n",
       "      <td>CISO Global, Inc. Common Stock</td>\n",
       "    </tr>\n",
       "    <tr>\n",
       "      <th>197</th>\n",
       "      <td>53089</td>\n",
       "      <td>2025</td>\n",
       "      <td>1</td>\n",
       "      <td>IDAI</td>\n",
       "      <td>2025-01-02 00:00:00+00:00</td>\n",
       "      <td>2025-03-20 00:00:00+00:00</td>\n",
       "      <td>0.8</td>\n",
       "      <td>1</td>\n",
       "      <td>2</td>\n",
       "      <td>10.2450</td>\n",
       "      <td>2.1500</td>\n",
       "      <td>0.780546</td>\n",
       "      <td>T Stamp Inc. Class A Common Stock</td>\n",
       "    </tr>\n",
       "    <tr>\n",
       "      <th>149</th>\n",
       "      <td>53665</td>\n",
       "      <td>2025</td>\n",
       "      <td>1</td>\n",
       "      <td>MNTS</td>\n",
       "      <td>2025-01-02 00:00:00+00:00</td>\n",
       "      <td>2025-03-20 00:00:00+00:00</td>\n",
       "      <td>0.9</td>\n",
       "      <td>1</td>\n",
       "      <td>2</td>\n",
       "      <td>8.2100</td>\n",
       "      <td>1.9300</td>\n",
       "      <td>0.764921</td>\n",
       "      <td>Momentus Inc. Class A Common Stock</td>\n",
       "    </tr>\n",
       "    <tr>\n",
       "      <th>145</th>\n",
       "      <td>53944</td>\n",
       "      <td>2025</td>\n",
       "      <td>1</td>\n",
       "      <td>NXU</td>\n",
       "      <td>2025-01-02 00:00:00+00:00</td>\n",
       "      <td>2025-03-20 00:00:00+00:00</td>\n",
       "      <td>0.5</td>\n",
       "      <td>1</td>\n",
       "      <td>2</td>\n",
       "      <td>0.9400</td>\n",
       "      <td>0.2550</td>\n",
       "      <td>0.728723</td>\n",
       "      <td>Nxu, Inc. Class A Common Stock</td>\n",
       "    </tr>\n",
       "    <tr>\n",
       "      <th>74</th>\n",
       "      <td>54875</td>\n",
       "      <td>2025</td>\n",
       "      <td>1</td>\n",
       "      <td>TANH</td>\n",
       "      <td>2025-01-02 00:00:00+00:00</td>\n",
       "      <td>2025-03-20 00:00:00+00:00</td>\n",
       "      <td>0.8</td>\n",
       "      <td>1</td>\n",
       "      <td>1</td>\n",
       "      <td>8.6120</td>\n",
       "      <td>2.5550</td>\n",
       "      <td>0.703321</td>\n",
       "      <td>Tantech Holdings Ltd. Common Stock</td>\n",
       "    </tr>\n",
       "    <tr>\n",
       "      <th>226</th>\n",
       "      <td>52853</td>\n",
       "      <td>2025</td>\n",
       "      <td>1</td>\n",
       "      <td>GNPX</td>\n",
       "      <td>2025-01-02 00:00:00+00:00</td>\n",
       "      <td>2025-03-20 00:00:00+00:00</td>\n",
       "      <td>0.6</td>\n",
       "      <td>1</td>\n",
       "      <td>2</td>\n",
       "      <td>0.9009</td>\n",
       "      <td>0.3754</td>\n",
       "      <td>0.583306</td>\n",
       "      <td>Genprex, Inc. Common Stock</td>\n",
       "    </tr>\n",
       "    <tr>\n",
       "      <th>84</th>\n",
       "      <td>52463</td>\n",
       "      <td>2025</td>\n",
       "      <td>1</td>\n",
       "      <td>ENSC</td>\n",
       "      <td>2025-01-02 00:00:00+00:00</td>\n",
       "      <td>2025-03-20 00:00:00+00:00</td>\n",
       "      <td>0.9</td>\n",
       "      <td>1</td>\n",
       "      <td>1</td>\n",
       "      <td>8.2500</td>\n",
       "      <td>3.5600</td>\n",
       "      <td>0.568485</td>\n",
       "      <td>Ensysce Biosciences, Inc. Common Stock</td>\n",
       "    </tr>\n",
       "    <tr>\n",
       "      <th>43</th>\n",
       "      <td>52887</td>\n",
       "      <td>2025</td>\n",
       "      <td>1</td>\n",
       "      <td>GRI</td>\n",
       "      <td>2025-01-02 00:00:00+00:00</td>\n",
       "      <td>2025-03-20 00:00:00+00:00</td>\n",
       "      <td>0.7</td>\n",
       "      <td>1</td>\n",
       "      <td>1</td>\n",
       "      <td>14.4500</td>\n",
       "      <td>7.0000</td>\n",
       "      <td>0.515571</td>\n",
       "      <td>GRI Bio, Inc. Common Stock</td>\n",
       "    </tr>\n",
       "    <tr>\n",
       "      <th>176</th>\n",
       "      <td>54380</td>\n",
       "      <td>2025</td>\n",
       "      <td>1</td>\n",
       "      <td>RDGT</td>\n",
       "      <td>2025-01-02 00:00:00+00:00</td>\n",
       "      <td>2025-03-20 00:00:00+00:00</td>\n",
       "      <td>0.0</td>\n",
       "      <td>1</td>\n",
       "      <td>2</td>\n",
       "      <td>1.8300</td>\n",
       "      <td>0.8926</td>\n",
       "      <td>0.512240</td>\n",
       "      <td>Ridgetech, Inc. Ordinary Shares</td>\n",
       "    </tr>\n",
       "    <tr>\n",
       "      <th>229</th>\n",
       "      <td>52897</td>\n",
       "      <td>2025</td>\n",
       "      <td>1</td>\n",
       "      <td>GRYP</td>\n",
       "      <td>2025-01-02 00:00:00+00:00</td>\n",
       "      <td>2025-03-20 00:00:00+00:00</td>\n",
       "      <td>0.2</td>\n",
       "      <td>1</td>\n",
       "      <td>2</td>\n",
       "      <td>0.3992</td>\n",
       "      <td>0.1980</td>\n",
       "      <td>0.504008</td>\n",
       "      <td>Gryphon Digital Mining, Inc Common Stock</td>\n",
       "    </tr>\n",
       "    <tr>\n",
       "      <th>5</th>\n",
       "      <td>52692</td>\n",
       "      <td>2025</td>\n",
       "      <td>1</td>\n",
       "      <td>FOXO</td>\n",
       "      <td>2025-01-02 00:00:00+00:00</td>\n",
       "      <td>2025-03-20 00:00:00+00:00</td>\n",
       "      <td>0.6</td>\n",
       "      <td>1</td>\n",
       "      <td>1</td>\n",
       "      <td>0.2900</td>\n",
       "      <td>0.1589</td>\n",
       "      <td>0.452069</td>\n",
       "      <td>FOXO Technologies Inc.</td>\n",
       "    </tr>\n",
       "    <tr>\n",
       "      <th>61</th>\n",
       "      <td>51496</td>\n",
       "      <td>2025</td>\n",
       "      <td>1</td>\n",
       "      <td>ASTI</td>\n",
       "      <td>2025-01-02 00:00:00+00:00</td>\n",
       "      <td>2025-03-20 00:00:00+00:00</td>\n",
       "      <td>0.4</td>\n",
       "      <td>1</td>\n",
       "      <td>1</td>\n",
       "      <td>3.1000</td>\n",
       "      <td>1.7600</td>\n",
       "      <td>0.432258</td>\n",
       "      <td>Ascent Solar Technologies, Inc. Common Stock</td>\n",
       "    </tr>\n",
       "    <tr>\n",
       "      <th>205</th>\n",
       "      <td>51264</td>\n",
       "      <td>2025</td>\n",
       "      <td>1</td>\n",
       "      <td>AGFY</td>\n",
       "      <td>2025-01-02 00:00:00+00:00</td>\n",
       "      <td>2025-03-20 00:00:00+00:00</td>\n",
       "      <td>0.4</td>\n",
       "      <td>1</td>\n",
       "      <td>2</td>\n",
       "      <td>32.2500</td>\n",
       "      <td>19.3000</td>\n",
       "      <td>0.401550</td>\n",
       "      <td>Agrify Corporation Common Stock</td>\n",
       "    </tr>\n",
       "    <tr>\n",
       "      <th>63</th>\n",
       "      <td>51515</td>\n",
       "      <td>2025</td>\n",
       "      <td>1</td>\n",
       "      <td>ATNF</td>\n",
       "      <td>2025-01-02 00:00:00+00:00</td>\n",
       "      <td>2025-03-20 00:00:00+00:00</td>\n",
       "      <td>0.5</td>\n",
       "      <td>1</td>\n",
       "      <td>1</td>\n",
       "      <td>1.7200</td>\n",
       "      <td>1.0500</td>\n",
       "      <td>0.389535</td>\n",
       "      <td>180 Life Sciences Corp. Common Stock</td>\n",
       "    </tr>\n",
       "    <tr>\n",
       "      <th>28</th>\n",
       "      <td>53099</td>\n",
       "      <td>2025</td>\n",
       "      <td>1</td>\n",
       "      <td>IFBD</td>\n",
       "      <td>2025-01-02 00:00:00+00:00</td>\n",
       "      <td>2025-03-20 00:00:00+00:00</td>\n",
       "      <td>0.2</td>\n",
       "      <td>1</td>\n",
       "      <td>1</td>\n",
       "      <td>2.3600</td>\n",
       "      <td>1.6300</td>\n",
       "      <td>0.309322</td>\n",
       "      <td>Infobird Co., Ltd Ordinary Shares</td>\n",
       "    </tr>\n",
       "    <tr>\n",
       "      <th>39</th>\n",
       "      <td>54549</td>\n",
       "      <td>2025</td>\n",
       "      <td>1</td>\n",
       "      <td>SBFM</td>\n",
       "      <td>2025-01-02 00:00:00+00:00</td>\n",
       "      <td>2025-03-20 00:00:00+00:00</td>\n",
       "      <td>0.3</td>\n",
       "      <td>1</td>\n",
       "      <td>1</td>\n",
       "      <td>3.1300</td>\n",
       "      <td>2.2300</td>\n",
       "      <td>0.287540</td>\n",
       "      <td>Sunshine Biopharma Inc.</td>\n",
       "    </tr>\n",
       "    <tr>\n",
       "      <th>77</th>\n",
       "      <td>54898</td>\n",
       "      <td>2025</td>\n",
       "      <td>1</td>\n",
       "      <td>TCRT</td>\n",
       "      <td>2025-01-02 00:00:00+00:00</td>\n",
       "      <td>2025-03-20 00:00:00+00:00</td>\n",
       "      <td>0.0</td>\n",
       "      <td>1</td>\n",
       "      <td>1</td>\n",
       "      <td>1.9700</td>\n",
       "      <td>1.4600</td>\n",
       "      <td>0.258883</td>\n",
       "      <td>Alaunos Therapeutics, Inc. Common Stock</td>\n",
       "    </tr>\n",
       "    <tr>\n",
       "      <th>80</th>\n",
       "      <td>52467</td>\n",
       "      <td>2025</td>\n",
       "      <td>1</td>\n",
       "      <td>ENTO</td>\n",
       "      <td>2025-01-02 00:00:00+00:00</td>\n",
       "      <td>2025-03-20 00:00:00+00:00</td>\n",
       "      <td>0.1</td>\n",
       "      <td>1</td>\n",
       "      <td>1</td>\n",
       "      <td>0.6480</td>\n",
       "      <td>0.5121</td>\n",
       "      <td>0.209722</td>\n",
       "      <td>Entero Therapeutics, Inc. Common Stock</td>\n",
       "    </tr>\n",
       "    <tr>\n",
       "      <th>57</th>\n",
       "      <td>55133</td>\n",
       "      <td>2025</td>\n",
       "      <td>1</td>\n",
       "      <td>UPST</td>\n",
       "      <td>2025-01-02 00:00:00+00:00</td>\n",
       "      <td>2025-03-20 00:00:00+00:00</td>\n",
       "      <td>1.0</td>\n",
       "      <td>1</td>\n",
       "      <td>1</td>\n",
       "      <td>60.8000</td>\n",
       "      <td>49.7000</td>\n",
       "      <td>0.182566</td>\n",
       "      <td>Upstart Holdings, Inc. Common stock</td>\n",
       "    </tr>\n",
       "    <tr>\n",
       "      <th>285</th>\n",
       "      <td>51788</td>\n",
       "      <td>2025</td>\n",
       "      <td>1</td>\n",
       "      <td>BTCT</td>\n",
       "      <td>2025-01-02 00:00:00+00:00</td>\n",
       "      <td>2025-03-20 00:00:00+00:00</td>\n",
       "      <td>0.7</td>\n",
       "      <td>1</td>\n",
       "      <td>2</td>\n",
       "      <td>5.4400</td>\n",
       "      <td>4.6100</td>\n",
       "      <td>0.152574</td>\n",
       "      <td>BTC Digital Ltd. Ordinary Shares</td>\n",
       "    </tr>\n",
       "    <tr>\n",
       "      <th>174</th>\n",
       "      <td>53780</td>\n",
       "      <td>2025</td>\n",
       "      <td>1</td>\n",
       "      <td>NBY</td>\n",
       "      <td>2025-01-02 00:00:00+00:00</td>\n",
       "      <td>2025-03-20 00:00:00+00:00</td>\n",
       "      <td>0.3</td>\n",
       "      <td>1</td>\n",
       "      <td>2</td>\n",
       "      <td>0.6250</td>\n",
       "      <td>0.6200</td>\n",
       "      <td>0.008000</td>\n",
       "      <td>NovaBay Pharmaceuticals, Inc.</td>\n",
       "    </tr>\n",
       "    <tr>\n",
       "      <th>214</th>\n",
       "      <td>54721</td>\n",
       "      <td>2025</td>\n",
       "      <td>1</td>\n",
       "      <td>SNOW</td>\n",
       "      <td>2025-01-02 00:00:00+00:00</td>\n",
       "      <td>2025-03-20 00:00:00+00:00</td>\n",
       "      <td>1.0</td>\n",
       "      <td>1</td>\n",
       "      <td>2</td>\n",
       "      <td>157.5100</td>\n",
       "      <td>157.1900</td>\n",
       "      <td>0.002032</td>\n",
       "      <td>Snowflake Inc.</td>\n",
       "    </tr>\n",
       "  </tbody>\n",
       "</table>\n",
       "</div>"
      ],
      "text/plain": [
       "     index  year  quarter ticker                      date  \\\n",
       "268  51980  2025        1   CISO 2025-01-02 00:00:00+00:00   \n",
       "197  53089  2025        1   IDAI 2025-01-02 00:00:00+00:00   \n",
       "149  53665  2025        1   MNTS 2025-01-02 00:00:00+00:00   \n",
       "145  53944  2025        1    NXU 2025-01-02 00:00:00+00:00   \n",
       "74   54875  2025        1   TANH 2025-01-02 00:00:00+00:00   \n",
       "226  52853  2025        1   GNPX 2025-01-02 00:00:00+00:00   \n",
       "84   52463  2025        1   ENSC 2025-01-02 00:00:00+00:00   \n",
       "43   52887  2025        1    GRI 2025-01-02 00:00:00+00:00   \n",
       "176  54380  2025        1   RDGT 2025-01-02 00:00:00+00:00   \n",
       "229  52897  2025        1   GRYP 2025-01-02 00:00:00+00:00   \n",
       "5    52692  2025        1   FOXO 2025-01-02 00:00:00+00:00   \n",
       "61   51496  2025        1   ASTI 2025-01-02 00:00:00+00:00   \n",
       "205  51264  2025        1   AGFY 2025-01-02 00:00:00+00:00   \n",
       "63   51515  2025        1   ATNF 2025-01-02 00:00:00+00:00   \n",
       "28   53099  2025        1   IFBD 2025-01-02 00:00:00+00:00   \n",
       "39   54549  2025        1   SBFM 2025-01-02 00:00:00+00:00   \n",
       "77   54898  2025        1   TCRT 2025-01-02 00:00:00+00:00   \n",
       "80   52467  2025        1   ENTO 2025-01-02 00:00:00+00:00   \n",
       "57   55133  2025        1   UPST 2025-01-02 00:00:00+00:00   \n",
       "285  51788  2025        1   BTCT 2025-01-02 00:00:00+00:00   \n",
       "174  53780  2025        1    NBY 2025-01-02 00:00:00+00:00   \n",
       "214  54721  2025        1   SNOW 2025-01-02 00:00:00+00:00   \n",
       "\n",
       "                    sell_date  market_cap_rank  exposure  rank  adjclose  \\\n",
       "268 2025-03-20 00:00:00+00:00              0.1         1     2    3.0300   \n",
       "197 2025-03-20 00:00:00+00:00              0.8         1     2   10.2450   \n",
       "149 2025-03-20 00:00:00+00:00              0.9         1     2    8.2100   \n",
       "145 2025-03-20 00:00:00+00:00              0.5         1     2    0.9400   \n",
       "74  2025-03-20 00:00:00+00:00              0.8         1     1    8.6120   \n",
       "226 2025-03-20 00:00:00+00:00              0.6         1     2    0.9009   \n",
       "84  2025-03-20 00:00:00+00:00              0.9         1     1    8.2500   \n",
       "43  2025-03-20 00:00:00+00:00              0.7         1     1   14.4500   \n",
       "176 2025-03-20 00:00:00+00:00              0.0         1     2    1.8300   \n",
       "229 2025-03-20 00:00:00+00:00              0.2         1     2    0.3992   \n",
       "5   2025-03-20 00:00:00+00:00              0.6         1     1    0.2900   \n",
       "61  2025-03-20 00:00:00+00:00              0.4         1     1    3.1000   \n",
       "205 2025-03-20 00:00:00+00:00              0.4         1     2   32.2500   \n",
       "63  2025-03-20 00:00:00+00:00              0.5         1     1    1.7200   \n",
       "28  2025-03-20 00:00:00+00:00              0.2         1     1    2.3600   \n",
       "39  2025-03-20 00:00:00+00:00              0.3         1     1    3.1300   \n",
       "77  2025-03-20 00:00:00+00:00              0.0         1     1    1.9700   \n",
       "80  2025-03-20 00:00:00+00:00              0.1         1     1    0.6480   \n",
       "57  2025-03-20 00:00:00+00:00              1.0         1     1   60.8000   \n",
       "285 2025-03-20 00:00:00+00:00              0.7         1     2    5.4400   \n",
       "174 2025-03-20 00:00:00+00:00              0.3         1     2    0.6250   \n",
       "214 2025-03-20 00:00:00+00:00              1.0         1     2  157.5100   \n",
       "\n",
       "     sell_price    return                                          name  \n",
       "268      0.4800  0.780546                CISO Global, Inc. Common Stock  \n",
       "197      2.1500  0.780546             T Stamp Inc. Class A Common Stock  \n",
       "149      1.9300  0.764921            Momentus Inc. Class A Common Stock  \n",
       "145      0.2550  0.728723                Nxu, Inc. Class A Common Stock  \n",
       "74       2.5550  0.703321            Tantech Holdings Ltd. Common Stock  \n",
       "226      0.3754  0.583306                    Genprex, Inc. Common Stock  \n",
       "84       3.5600  0.568485        Ensysce Biosciences, Inc. Common Stock  \n",
       "43       7.0000  0.515571                    GRI Bio, Inc. Common Stock  \n",
       "176      0.8926  0.512240               Ridgetech, Inc. Ordinary Shares  \n",
       "229      0.1980  0.504008      Gryphon Digital Mining, Inc Common Stock  \n",
       "5        0.1589  0.452069                        FOXO Technologies Inc.  \n",
       "61       1.7600  0.432258  Ascent Solar Technologies, Inc. Common Stock  \n",
       "205     19.3000  0.401550               Agrify Corporation Common Stock  \n",
       "63       1.0500  0.389535          180 Life Sciences Corp. Common Stock  \n",
       "28       1.6300  0.309322             Infobird Co., Ltd Ordinary Shares  \n",
       "39       2.2300  0.287540                       Sunshine Biopharma Inc.  \n",
       "77       1.4600  0.258883       Alaunos Therapeutics, Inc. Common Stock  \n",
       "80       0.5121  0.209722        Entero Therapeutics, Inc. Common Stock  \n",
       "57      49.7000  0.182566           Upstart Holdings, Inc. Common stock  \n",
       "285      4.6100  0.152574              BTC Digital Ltd. Ordinary Shares  \n",
       "174      0.6200  0.008000                 NovaBay Pharmaceuticals, Inc.  \n",
       "214    157.1900  0.002032                                Snowflake Inc.  "
      ]
     },
     "execution_count": 78,
     "metadata": {},
     "output_type": "execute_result"
    }
   ],
   "source": [
    "trades[trades[\"year\"]==2025].sort_values(\"return\",ascending=False)"
   ]
  },
  {
   "cell_type": "code",
   "execution_count": 79,
   "id": "2d987850-5137-4841-b3a6-c43d5908c34f",
   "metadata": {},
   "outputs": [
    {
     "name": "stdout",
     "output_type": "stream",
     "text": [
      "4.289717553646794\n"
     ]
    }
   ],
   "source": [
    "print(((macro[\"sp500\"].pct_change().cumsum().iloc[-1]+1) ** (1/6))/macro[\"sp500\"].pct_change().cumsum().std())"
   ]
  }
 ],
 "metadata": {
  "kernelspec": {
   "display_name": "Python 3 (ipykernel)",
   "language": "python",
   "name": "python3"
  },
  "language_info": {
   "codemirror_mode": {
    "name": "ipython",
    "version": 3
   },
   "file_extension": ".py",
   "mimetype": "text/x-python",
   "name": "python",
   "nbconvert_exporter": "python",
   "pygments_lexer": "ipython3",
   "version": "3.11.9"
  }
 },
 "nbformat": 4,
 "nbformat_minor": 5
}
