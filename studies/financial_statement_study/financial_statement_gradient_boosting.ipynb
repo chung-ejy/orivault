{
 "cells": [
  {
   "cell_type": "code",
   "execution_count": 1,
   "id": "16989731-6c5a-4d33-92da-7556bcee1fcc",
   "metadata": {},
   "outputs": [],
   "source": [
    "## PATH settings\n",
    "import os\n",
    "import sys\n",
    "project_root = os.path.abspath(os.path.join(os.getcwd(), '../../'))\n",
    "sys.path.append(project_root)\n",
    "COMMON_PATH = os.path.join(project_root, 'common')"
   ]
  },
  {
   "cell_type": "code",
   "execution_count": 2,
   "id": "73094c60-497a-45ac-bd01-8db8578730b7",
   "metadata": {},
   "outputs": [],
   "source": [
    "## Bespoke class imports\n",
    "from common.database.adatabase import ADatabase\n",
    "from common.processor.processor import Processor as p\n",
    "from financial_common.risk.rolling_factor_analysis import RollingFactorAnalysis\n",
    "from financial_common.risk.single_index_capm import SingleIndexCAPM\n",
    "from financial_common.indicator.indicator import Indicator\n",
    "from financial_common.risk.benchmark import Benchmark\n",
    "from financial_common.portfolio_management.kpi import KPI\n",
    "from financial_common.metric.metric import Metric\n",
    "from financial_common.portfolio_management.portfolio_selection import PortfolioSelection\n",
    "from financial_common.risk.risk_type import RiskType\n",
    "import numpy as np"
   ]
  },
  {
   "cell_type": "code",
   "execution_count": 3,
   "id": "d04c2c49-144d-4ff3-acf0-e1ff11afa8a8",
   "metadata": {},
   "outputs": [],
   "source": [
    "## Import standard packages\n",
    "from xgboost import XGBRegressor\n",
    "from datetime import timedelta\n",
    "import matplotlib.pyplot as plt\n",
    "from tqdm import tqdm\n",
    "import pandas as pd\n",
    "from time import sleep"
   ]
  },
  {
   "cell_type": "code",
   "execution_count": 4,
   "id": "9131bcf0-e2ac-489b-ac60-ab69b8feda22",
   "metadata": {},
   "outputs": [],
   "source": [
    "sec = ADatabase(\"sec\")\n",
    "market = ADatabase(\"market\")\n",
    "fred = ADatabase(\"fred\")"
   ]
  },
  {
   "cell_type": "code",
   "execution_count": 5,
   "id": "a4179cff-dd72-4218-9d7a-7e01333a3a58",
   "metadata": {},
   "outputs": [],
   "source": [
    "## Retrieve existing stocks \n",
    "market.connect()\n",
    "index = market.retrieve(\"ticker_overview\")\n",
    "market.disconnect()\n",
    "\n",
    "## Retrieve previously calculated Macro Projections\n",
    "fred.connect()\n",
    "sp500 = p.lower_column(fred.retrieve(\"sp500_projections\").rename(columns={\"prediction\":\"sp500_prediction\"}))\n",
    "sp500 = p.utc_date(sp500)\n",
    "interest_rates = p.lower_column(fred.retrieve(\"market_yield\").rename(columns={\"value\":\"rf\"}))\n",
    "interest_rates = p.utc_date(interest_rates)\n",
    "interest_rates[\"rf\"] = interest_rates[\"rf\"].replace(\".\",0)\n",
    "interest_rates[\"rf\"] = [float(x) / 100 for x in interest_rates[\"rf\"]]\n",
    "fred.disconnect()\n",
    "macro = sp500.merge(interest_rates,on=\"date\",how=\"left\")\n",
    "macro = p.utc_date(macro)"
   ]
  },
  {
   "cell_type": "code",
   "execution_count": 6,
   "id": "fa7d5ea3-1219-4acb-8928-3f9219aa70c9",
   "metadata": {},
   "outputs": [],
   "source": [
    "factors = [\"assets\",\"liabilities\",\"reference_price\"]"
   ]
  },
  {
   "cell_type": "code",
   "execution_count": 8,
   "id": "635c8aca-eddc-4b55-a8c3-e351e27a11e9",
   "metadata": {
    "scrolled": true
   },
   "outputs": [
    {
     "name": "stderr",
     "output_type": "stream",
     "text": [
      " 24%|████████████████████████████████████████▉                                                                                                                               | 1038/4266 [00:26<01:29, 35.92it/s]"
     ]
    },
    {
     "name": "stdout",
     "output_type": "stream",
     "text": [
      "GBFH cannot convert float NaN to integer\n"
     ]
    },
    {
     "name": "stderr",
     "output_type": "stream",
     "text": [
      " 79%|████████████████████████████████████████████████████████████████████████████████████████████████████████████████████████████████████▊                                   | 3374/4266 [01:31<00:21, 40.81it/s]"
     ]
    },
    {
     "name": "stdout",
     "output_type": "stream",
     "text": [
      "TOWN cannot convert float NaN to integer\n"
     ]
    },
    {
     "name": "stderr",
     "output_type": "stream",
     "text": [
      "100%|████████████████████████████████████████████████████████████████████████████████████████████████████████████████████████████████████████████████████████████████████████| 4266/4266 [01:53<00:00, 37.47it/s]\n"
     ]
    }
   ],
   "source": [
    "market.connect()\n",
    "sec.connect()\n",
    "factors_df = []\n",
    "rolling_window = 100\n",
    "skips = 1\n",
    "for ticker in tqdm(index[\"ticker\"][::skips]):\n",
    "    try:\n",
    "        cik = int(index[index[\"ticker\"]==ticker].iloc[0][\"cik\"])\n",
    "        price = market.query(\"prices\",{\"ticker\":ticker})\n",
    "        filings = sec.query(\"filings\",{\"cik\":cik})\n",
    "        if price.index.size > 0 and filings.index.size > 0:\n",
    "            price = p.utc_date(price)\n",
    "            price = p.additional_date_columns(price)\n",
    "            price.sort_values(\"date\",inplace=True)\n",
    "            price = Metric.STANDARD_DEV.calculate(price,timeframe=rolling_window)\n",
    "            filings = p.utc_date(filings)\n",
    "            filings = p.lower_column(filings)\n",
    "            filings = p.additional_date_columns(filings)\n",
    "            ticker_factors = filings.drop([\"date\",\"month\",\"week\",\"cik\"],axis=1).groupby([\"year\",\"quarter\"]).mean().reset_index()\n",
    "            price = price.drop([\"date\",\"ticker\"],axis=1).groupby([\"year\",\"quarter\"]).mean().reset_index()\n",
    "            ticker_factors = ticker_factors.merge(price,on=[\"year\",\"quarter\"],how=\"left\")\n",
    "            ticker_factors = ticker_factors.ffill()\n",
    "            ticker_factors[\"year\"] = ticker_factors[\"year\"] + 1\n",
    "            if ticker_factors.index.size > 0:\n",
    "                ticker_factors[\"ticker\"] = ticker\n",
    "                ticker_factors[\"reference_price\"] = ticker_factors[\"adjclose\"].shift(1)\n",
    "                ticker_factors[\"y\"] = ticker_factors[\"adjclose\"].shift(-1)\n",
    "                factors_df.append(ticker_factors[[\"year\",\"quarter\",\"ticker\",\"adjclose\",\"standard_dev\",\"y\"]+factors])\n",
    "    except Exception as e:\n",
    "        print(ticker,str(e))\n",
    "        continue\n",
    "sec.disconnect()\n",
    "market.disconnect()\n",
    "factors_df = pd.concat(factors_df).sort_values([\"year\",\"quarter\"])"
   ]
  },
  {
   "cell_type": "code",
   "execution_count": 9,
   "id": "990d4999-cc4d-4264-b239-10fb0f4773af",
   "metadata": {},
   "outputs": [],
   "source": [
    "model_start = 2018\n",
    "model_end = 2024\n",
    "backtest_end = 2026\n",
    "model = XGBRegressor(booster=\"gbtree\",random_state=42)\n",
    "factors_df = factors_df.dropna(subset=factors)\n",
    "training_data = factors_df[(factors_df[\"year\"]>=model_start) & (factors_df[\"year\"]<model_end)].dropna()\n",
    "sim = factors_df[(factors_df[\"year\"]>=model_end-1) & (factors_df[\"year\"]<backtest_end)].dropna(subset=factors)\n",
    "model.fit(training_data[factors],training_data[\"y\"])\n",
    "sim[\"prediction\"] = model.predict(sim[factors])\n",
    "sim = sim[[\"ticker\",\"year\",\"quarter\",\"prediction\"]]"
   ]
  },
  {
   "cell_type": "code",
   "execution_count": 10,
   "id": "0f877ba0-a338-475c-a1d7-f4882b2c1fa7",
   "metadata": {
    "scrolled": true
   },
   "outputs": [
    {
     "name": "stderr",
     "output_type": "stream",
     "text": [
      "  0%|▏                                                                                                                                                                          | 6/4266 [00:00<02:31, 28.07it/s]"
     ]
    },
    {
     "name": "stdout",
     "output_type": "stream",
     "text": [
      "'date'\n"
     ]
    },
    {
     "name": "stderr",
     "output_type": "stream",
     "text": [
      "  8%|█████████████▋                                                                                                                                                           | 344/4266 [00:13<02:26, 26.81it/s]"
     ]
    },
    {
     "name": "stdout",
     "output_type": "stream",
     "text": [
      "'date'\n"
     ]
    },
    {
     "name": "stderr",
     "output_type": "stream",
     "text": [
      " 12%|███████████████████▌                                                                                                                                                     | 495/4266 [00:18<01:56, 32.45it/s]"
     ]
    },
    {
     "name": "stdout",
     "output_type": "stream",
     "text": [
      "'date'\n"
     ]
    },
    {
     "name": "stderr",
     "output_type": "stream",
     "text": [
      " 14%|████████████████████████▍                                                                                                                                                | 616/4266 [00:23<02:01, 30.05it/s]"
     ]
    },
    {
     "name": "stdout",
     "output_type": "stream",
     "text": [
      "'date'\n"
     ]
    },
    {
     "name": "stderr",
     "output_type": "stream",
     "text": [
      " 19%|███████████████████████████████▌                                                                                                                                         | 796/4266 [00:30<01:58, 29.24it/s]"
     ]
    },
    {
     "name": "stdout",
     "output_type": "stream",
     "text": [
      "index 0 is out of bounds for axis 0 with size 0\n"
     ]
    },
    {
     "name": "stderr",
     "output_type": "stream",
     "text": [
      " 21%|██████████████████████████████████▋                                                                                                                                      | 877/4266 [00:33<01:55, 29.36it/s]"
     ]
    },
    {
     "name": "stdout",
     "output_type": "stream",
     "text": [
      "'date'\n"
     ]
    },
    {
     "name": "stderr",
     "output_type": "stream",
     "text": [
      " 22%|████████████████████████████████████▎                                                                                                                                    | 918/4266 [00:34<01:56, 28.85it/s]"
     ]
    },
    {
     "name": "stdout",
     "output_type": "stream",
     "text": [
      "'date'\n"
     ]
    },
    {
     "name": "stderr",
     "output_type": "stream",
     "text": [
      " 31%|████████████████████████████████████████████████████▊                                                                                                                   | 1340/4266 [00:51<01:39, 29.50it/s]"
     ]
    },
    {
     "name": "stdout",
     "output_type": "stream",
     "text": [
      "'date'\n"
     ]
    },
    {
     "name": "stderr",
     "output_type": "stream",
     "text": [
      " 57%|███████████████████████████████████████████████████████████████████████████████████████████████▊                                                                        | 2433/4266 [01:34<01:02, 29.17it/s]"
     ]
    },
    {
     "name": "stdout",
     "output_type": "stream",
     "text": [
      "'date'\n"
     ]
    },
    {
     "name": "stderr",
     "output_type": "stream",
     "text": [
      " 67%|████████████████████████████████████████████████████████████████████████████████████████████████████████████████▌                                                       | 2857/4266 [01:51<01:16, 18.54it/s]"
     ]
    },
    {
     "name": "stdout",
     "output_type": "stream",
     "text": [
      "index 0 is out of bounds for axis 0 with size 0\n"
     ]
    },
    {
     "name": "stderr",
     "output_type": "stream",
     "text": [
      " 70%|█████████████████████████████████████████████████████████████████████████████████████████████████████████████████████▏                                                  | 2977/4266 [01:55<00:49, 26.18it/s]"
     ]
    },
    {
     "name": "stdout",
     "output_type": "stream",
     "text": [
      "'date'\n"
     ]
    },
    {
     "name": "stderr",
     "output_type": "stream",
     "text": [
      " 70%|██████████████████████████████████████████████████████████████████████████████████████████████████████████████████████                                                  | 2998/4266 [01:56<00:42, 29.67it/s]"
     ]
    },
    {
     "name": "stdout",
     "output_type": "stream",
     "text": [
      "'date'\n"
     ]
    },
    {
     "name": "stderr",
     "output_type": "stream",
     "text": [
      " 73%|██████████████████████████████████████████████████████████████████████████████████████████████████████████████████████████▌                                             | 3111/4266 [02:00<00:39, 29.10it/s]"
     ]
    },
    {
     "name": "stdout",
     "output_type": "stream",
     "text": [
      "'date'\n"
     ]
    },
    {
     "name": "stderr",
     "output_type": "stream",
     "text": [
      " 78%|██████████████████████████████████████████████████████████████████████████████████████████████████████████████████████████████████▉                                     | 3325/4266 [02:09<00:33, 27.85it/s]"
     ]
    },
    {
     "name": "stdout",
     "output_type": "stream",
     "text": [
      "'date'\n"
     ]
    },
    {
     "name": "stderr",
     "output_type": "stream",
     "text": [
      " 79%|████████████████████████████████████████████████████████████████████████████████████████████████████████████████████████████████████▊                                   | 3374/4266 [02:12<00:31, 28.05it/s]"
     ]
    },
    {
     "name": "stdout",
     "output_type": "stream",
     "text": [
      "'date'\n"
     ]
    },
    {
     "name": "stderr",
     "output_type": "stream",
     "text": [
      " 80%|██████████████████████████████████████████████████████████████████████████████████████████████████████████████████████████████████████▎                                 | 3411/4266 [02:13<00:30, 28.04it/s]"
     ]
    },
    {
     "name": "stdout",
     "output_type": "stream",
     "text": [
      "'date'\n"
     ]
    },
    {
     "name": "stderr",
     "output_type": "stream",
     "text": [
      " 81%|███████████████████████████████████████████████████████████████████████████████████████████████████████████████████████████████████████▎                                | 3436/4266 [02:14<00:29, 28.37it/s]"
     ]
    },
    {
     "name": "stdout",
     "output_type": "stream",
     "text": [
      "'date'\n"
     ]
    },
    {
     "name": "stderr",
     "output_type": "stream",
     "text": [
      " 87%|██████████████████████████████████████████████████████████████████████████████████████████████████████████████████████████████████████████████████                      | 3710/4266 [02:24<00:18, 30.73it/s]"
     ]
    },
    {
     "name": "stdout",
     "output_type": "stream",
     "text": [
      "'date'\n"
     ]
    },
    {
     "name": "stderr",
     "output_type": "stream",
     "text": [
      " 87%|██████████████████████████████████████████████████████████████████████████████████████████████████████████████████████████████████████████████████▋                     | 3725/4266 [02:25<00:16, 33.07it/s]"
     ]
    },
    {
     "name": "stdout",
     "output_type": "stream",
     "text": [
      "'date'\n",
      "'date'\n"
     ]
    },
    {
     "name": "stderr",
     "output_type": "stream",
     "text": [
      " 89%|████████████████████████████████████████████████████████████████████████████████████████████████████████████████████████████████████████████████████▉                   | 3783/4266 [02:27<00:14, 34.15it/s]"
     ]
    },
    {
     "name": "stdout",
     "output_type": "stream",
     "text": [
      "'date'\n",
      "'date'\n"
     ]
    },
    {
     "name": "stderr",
     "output_type": "stream",
     "text": [
      " 98%|███████████████████████████████████████████████████████████████████████████████████████████████████████████████████████████████████████████████████████████████████▊    | 4160/4266 [02:42<00:03, 29.98it/s]"
     ]
    },
    {
     "name": "stdout",
     "output_type": "stream",
     "text": [
      "'date'\n"
     ]
    },
    {
     "name": "stderr",
     "output_type": "stream",
     "text": [
      " 99%|██████████████████████████████████████████████████████████████████████████████████████████████████████████████████████████████████████████████████████████████████████▌ | 4230/4266 [02:44<00:01, 26.44it/s]"
     ]
    },
    {
     "name": "stdout",
     "output_type": "stream",
     "text": [
      "'date'\n"
     ]
    },
    {
     "name": "stderr",
     "output_type": "stream",
     "text": [
      "100%|████████████████████████████████████████████████████████████████████████████████████████████████████████████████████████████████████████████████████████████████████████| 4266/4266 [02:46<00:00, 25.65it/s]\n"
     ]
    }
   ],
   "source": [
    "market.connect()\n",
    "prices = []\n",
    "for ticker in tqdm(index[\"ticker\"][::skips]):\n",
    "    try:\n",
    "        price = p.utc_date(market.query(\"prices\",{\"ticker\":ticker}))\n",
    "        price = p.additional_date_columns(price)\n",
    "        dividends = market.query(\"dividends\",{\"ticker\":ticker})\n",
    "        if dividends.index.size > 0:\n",
    "            dividends = p.utc_date(dividends)\n",
    "            price = price.merge(dividends,on=[\"date\",\"ticker\"])\n",
    "            price[\"dividend\"] = price[\"rate\"].ffill().fillna(0)\n",
    "        else:\n",
    "            price[\"dividend\"] = 0\n",
    "        price.sort_values(\"date\",inplace=True)\n",
    "        price = price.merge(sim,on=[\"year\",\"quarter\",\"ticker\"],how=\"left\")\n",
    "        price = p.utc_date(price)\n",
    "        price = price.merge(macro,on=\"date\",how=\"left\")\n",
    "        price[\"factor\"] = price[\"prediction\"] / price[\"adjclose\"] - 1\n",
    "        price = SingleIndexCAPM.apply(price)\n",
    "        for member in Metric:\n",
    "            price = member.calculate(price,timeframe=rolling_window)\n",
    "        for member in RiskType:\n",
    "            price = member.apply(price)\n",
    "        prices.append(price)\n",
    "    except Exception as e:\n",
    "        print(str(e))\n",
    "        continue\n",
    "market.disconnect()"
   ]
  },
  {
   "cell_type": "code",
   "execution_count": 11,
   "id": "31941a64-38c4-4616-8dcf-e7a70d5987cf",
   "metadata": {},
   "outputs": [],
   "source": [
    "sim = pd.concat(prices)"
   ]
  },
  {
   "cell_type": "code",
   "execution_count": 12,
   "id": "1397bd57-8758-4eed-aed0-f9dae259b678",
   "metadata": {},
   "outputs": [
    {
     "data": {
      "text/plain": [
       "Index(['date', 'adjclose', 'high', 'low', 'volume', 'ticker', 'year', 'month',\n",
       "       'quarter', 'week', 'day', 'rate', 'dividend', 'realtime_start',\n",
       "       'realtime_end', 'rf', 'factor', 'risk', 'sigma', 'reference_price',\n",
       "       'reference_volume', 'reference_high', 'reference_low', 'average_return',\n",
       "       'standard_dev', 'rolling_dollar_volume', 'simple_moving_average',\n",
       "       'drawdown', 'distance', 'next_close', 'coefficient_of_variation'],\n",
       "      dtype='object')"
      ]
     },
     "execution_count": 12,
     "metadata": {},
     "output_type": "execute_result"
    }
   ],
   "source": [
    "## getting names\n",
    "simulation = pd.concat(prices)\n",
    "simulation = simulation[(simulation[\"year\"]>=model_end) & (simulation[\"year\"]<backtest_end)].dropna(subset=\"factor\")\n",
    "simulation.sort_values(\"date\", inplace=True)\n",
    "simulation.columns"
   ]
  },
  {
   "cell_type": "code",
   "execution_count": 13,
   "id": "671ce1a7-878b-4f52-bc8e-42ff471cc1ea",
   "metadata": {},
   "outputs": [
    {
     "data": {
      "text/plain": [
       "1966"
      ]
     },
     "execution_count": 13,
     "metadata": {},
     "output_type": "execute_result"
    }
   ],
   "source": [
    "len(simulation[\"ticker\"].unique())"
   ]
  },
  {
   "cell_type": "code",
   "execution_count": 14,
   "id": "6ed16a90-2e22-4801-ba0f-27be1b70db4e",
   "metadata": {},
   "outputs": [
    {
     "name": "stdout",
     "output_type": "stream",
     "text": [
      "42\n"
     ]
    }
   ],
   "source": [
    "portfolios = PortfolioSelection.generate_possible_portfolios(\n",
    "                                    ranking_metrics=[\"factor\"],\n",
    "                                    group_percentages=[0.01],\n",
    "                                    num_of_groups=[10],\n",
    "                                    max_prices=[10000],\n",
    "                                    min_prices=[0],\n",
    "                                    stoplosses=[1],\n",
    "                                    rolling_windows=[100]\n",
    "                                )\n",
    "portfolios = [\n",
    "    x for x in portfolios if x.position_type.label == \"long\" \n",
    "                and x.max_price > x.min_price \n",
    "                and x.timeframe.value == \"quarter\"\n",
    "]\n",
    "print(len(portfolios))"
   ]
  },
  {
   "cell_type": "code",
   "execution_count": 15,
   "id": "953a0a5f-607d-41b7-91de-7b633013bc3e",
   "metadata": {},
   "outputs": [],
   "source": [
    "## Defining Benchmark\n",
    "market.connect()\n",
    "benchmark = market.query(\"prices\",{\"ticker\":\"JPM\"})\n",
    "market.disconnect()\n",
    "benchmark = Benchmark.convert_to_benchmark(benchmark,\"adjclose\")"
   ]
  },
  {
   "cell_type": "code",
   "execution_count": 16,
   "id": "77503bfe-13cf-4b3f-b975-a6d519b71862",
   "metadata": {
    "scrolled": true
   },
   "outputs": [
    {
     "name": "stderr",
     "output_type": "stream",
     "text": [
      "100%|████████████████████████████████████████████████████████████████████████████████████████████████████████████████████████████████████████████████████████████████████████████| 42/42 [00:18<00:00,  2.25it/s]\n"
     ]
    }
   ],
   "source": [
    "run = True\n",
    "if run:\n",
    "    analysises = []\n",
    "    for portfolio in tqdm(portfolios):\n",
    "        try:\n",
    "            trades = portfolio.trades(simulation.copy())\n",
    "            performance = portfolio.portfolio(trades.copy(),benchmark.copy())\n",
    "            metrics = KPI.performance(trades,performance)\n",
    "            results = {**portfolio.to_dict(),**metrics.copy()}\n",
    "            results[\"portfolio\"] = portfolio\n",
    "            analysises.append(results)\n",
    "        except Exception as e:\n",
    "            print(str(e))\n",
    "            continue"
   ]
  },
  {
   "cell_type": "code",
   "execution_count": 17,
   "id": "52720f5f-bd79-4d9c-ba27-08401d6e7cf1",
   "metadata": {
    "scrolled": true
   },
   "outputs": [],
   "source": [
    "a = pd.DataFrame(analysises)"
   ]
  },
  {
   "cell_type": "code",
   "execution_count": 18,
   "id": "ffdcee08-f13c-497c-a627-b89480f8f437",
   "metadata": {},
   "outputs": [],
   "source": [
    "a[\"color\"] = [\"blue\" if \"top\" in x  else \"red\" if \"bottom\" in x else \"green\" for x in a[\"selection_type\"]]\n",
    "a[\"return_to_risk\"] = a[\"pnl\"] / a[\"portfolio_std\"]"
   ]
  },
  {
   "cell_type": "code",
   "execution_count": 19,
   "id": "643181bd-7445-4a3c-a4d8-cb3ffb7b420a",
   "metadata": {},
   "outputs": [
    {
     "data": {
      "image/png": "[encoded data removed]",
      "text/plain": [
       "<Figure size 1200x600 with 2 Axes>"
      ]
     },
     "metadata": {},
     "output_type": "display_data"
    }
   ],
   "source": [
    "fig, axes = plt.subplots(1, 2, figsize=(12, 6), sharey=True)\n",
    "\n",
    "# Titles for each subplot\n",
    "titles = [\"Long\", \"Short\"]\n",
    "\n",
    "# Iterate over directions and corresponding axes\n",
    "for i, position_type in enumerate([\"long\", \"short\"]):\n",
    "    d_analysis = a[a[\"position_type\"] == position_type]\n",
    "    axes[i].scatter(\n",
    "        d_analysis[\"portfolio_std\"],\n",
    "        d_analysis[\"pnl\"],\n",
    "        c=d_analysis[\"color\"],\n",
    "        s=50,\n",
    "        alpha=0.8,\n",
    "        edgecolors=\"w\",\n",
    "    )\n",
    "    axes[i].set_title(titles[i])\n",
    "    axes[i].set_xlabel(\"return_to_risk\")\n",
    "    axes[i].set_ylabel(\"sharpe_ratio\" if i == 0 else \"\")  # Only label y-axis on the first plot\n",
    "\n",
    "# Adjust layout for better spacing\n",
    "plt.tight_layout()\n",
    "\n",
    "# Show the combined plot\n",
    "plt.show()"
   ]
  },
  {
   "cell_type": "code",
   "execution_count": 20,
   "id": "735ed1bc-01f2-4e36-acb7-cab72ad2757f",
   "metadata": {},
   "outputs": [
    {
     "data": {
      "text/html": [
       "<div>\n",
       "<style scoped>\n",
       "    .dataframe tbody tr th:only-of-type {\n",
       "        vertical-align: middle;\n",
       "    }\n",
       "\n",
       "    .dataframe tbody tr th {\n",
       "        vertical-align: top;\n",
       "    }\n",
       "\n",
       "    .dataframe thead th {\n",
       "        text-align: right;\n",
       "    }\n",
       "</style>\n",
       "<table border=\"1\" class=\"dataframe\">\n",
       "  <thead>\n",
       "    <tr style=\"text-align: right;\">\n",
       "      <th></th>\n",
       "      <th>grouping_type</th>\n",
       "      <th>selection_type</th>\n",
       "      <th>max_price</th>\n",
       "      <th>min_price</th>\n",
       "      <th>rolling_window</th>\n",
       "      <th>pnl</th>\n",
       "      <th>raw_pnl</th>\n",
       "      <th>downside</th>\n",
       "      <th>coefficient_of_variation</th>\n",
       "      <th>portfolio_std</th>\n",
       "      <th>average_gain</th>\n",
       "      <th>average_loss</th>\n",
       "      <th>win_loss_ratio</th>\n",
       "      <th>weekly_return</th>\n",
       "      <th>sharpe_ratio</th>\n",
       "      <th>portfolio</th>\n",
       "      <th>color</th>\n",
       "      <th>return_to_risk</th>\n",
       "    </tr>\n",
       "  </thead>\n",
       "  <tbody>\n",
       "    <tr>\n",
       "      <th>5</th>\n",
       "      <td>STANDARD_DEV</td>\n",
       "      <td>bottom_blacklist</td>\n",
       "      <td>10000</td>\n",
       "      <td>0</td>\n",
       "      <td>100</td>\n",
       "      <td>1.750250</td>\n",
       "      <td>1.750250</td>\n",
       "      <td>0.677827</td>\n",
       "      <td>2.789501</td>\n",
       "      <td>0.627442</td>\n",
       "      <td>2.327044</td>\n",
       "      <td>0.649919</td>\n",
       "      <td>0.38</td>\n",
       "      <td>1.287227</td>\n",
       "      <td>0.844351</td>\n",
       "      <td>&lt;financial_common.portfolio_management.portfol...</td>\n",
       "      <td>red</td>\n",
       "      <td>2.789501</td>\n",
       "    </tr>\n",
       "    <tr>\n",
       "      <th>2</th>\n",
       "      <td>STANDARD_DEV</td>\n",
       "      <td>bottom</td>\n",
       "      <td>10000</td>\n",
       "      <td>0</td>\n",
       "      <td>100</td>\n",
       "      <td>1.750250</td>\n",
       "      <td>1.750250</td>\n",
       "      <td>0.677827</td>\n",
       "      <td>2.789501</td>\n",
       "      <td>0.627442</td>\n",
       "      <td>2.327044</td>\n",
       "      <td>0.649919</td>\n",
       "      <td>0.38</td>\n",
       "      <td>1.287227</td>\n",
       "      <td>0.844351</td>\n",
       "      <td>&lt;financial_common.portfolio_management.portfol...</td>\n",
       "      <td>red</td>\n",
       "      <td>2.789501</td>\n",
       "    </tr>\n",
       "    <tr>\n",
       "      <th>27</th>\n",
       "      <td>DRAWDOWN</td>\n",
       "      <td>long_short</td>\n",
       "      <td>10000</td>\n",
       "      <td>0</td>\n",
       "      <td>100</td>\n",
       "      <td>1.249975</td>\n",
       "      <td>1.245195</td>\n",
       "      <td>0.992359</td>\n",
       "      <td>15.501632</td>\n",
       "      <td>0.080635</td>\n",
       "      <td>1.321570</td>\n",
       "      <td>0.722993</td>\n",
       "      <td>0.54</td>\n",
       "      <td>1.046224</td>\n",
       "      <td>0.365928</td>\n",
       "      <td>&lt;financial_common.portfolio_management.portfol...</td>\n",
       "      <td>green</td>\n",
       "      <td>15.501632</td>\n",
       "    </tr>\n",
       "    <tr>\n",
       "      <th>39</th>\n",
       "      <td>DIVIDEND</td>\n",
       "      <td>long_short</td>\n",
       "      <td>10000</td>\n",
       "      <td>0</td>\n",
       "      <td>100</td>\n",
       "      <td>1.095925</td>\n",
       "      <td>1.128270</td>\n",
       "      <td>0.873951</td>\n",
       "      <td>15.711226</td>\n",
       "      <td>0.069754</td>\n",
       "      <td>1.455281</td>\n",
       "      <td>0.543748</td>\n",
       "      <td>0.53</td>\n",
       "      <td>1.026860</td>\n",
       "      <td>-1.785468</td>\n",
       "      <td>&lt;financial_common.portfolio_management.portfol...</td>\n",
       "      <td>green</td>\n",
       "      <td>15.711226</td>\n",
       "    </tr>\n",
       "    <tr>\n",
       "      <th>9</th>\n",
       "      <td>AVERAGE_RETURN</td>\n",
       "      <td>long_short</td>\n",
       "      <td>10000</td>\n",
       "      <td>0</td>\n",
       "      <td>100</td>\n",
       "      <td>0.997838</td>\n",
       "      <td>1.100950</td>\n",
       "      <td>0.918860</td>\n",
       "      <td>18.680657</td>\n",
       "      <td>0.053416</td>\n",
       "      <td>1.345212</td>\n",
       "      <td>0.657935</td>\n",
       "      <td>0.50</td>\n",
       "      <td>1.001573</td>\n",
       "      <td>-4.167905</td>\n",
       "      <td>&lt;financial_common.portfolio_management.portfol...</td>\n",
       "      <td>green</td>\n",
       "      <td>18.680657</td>\n",
       "    </tr>\n",
       "    <tr>\n",
       "      <th>15</th>\n",
       "      <td>ROLLING_DOLLAR_VOLUME</td>\n",
       "      <td>long_short</td>\n",
       "      <td>10000</td>\n",
       "      <td>0</td>\n",
       "      <td>100</td>\n",
       "      <td>0.859355</td>\n",
       "      <td>0.879750</td>\n",
       "      <td>0.899246</td>\n",
       "      <td>18.281155</td>\n",
       "      <td>0.047008</td>\n",
       "      <td>1.431711</td>\n",
       "      <td>0.581131</td>\n",
       "      <td>0.46</td>\n",
       "      <td>0.972398</td>\n",
       "      <td>-7.682022</td>\n",
       "      <td>&lt;financial_common.portfolio_management.portfol...</td>\n",
       "      <td>green</td>\n",
       "      <td>18.281155</td>\n",
       "    </tr>\n",
       "    <tr>\n",
       "      <th>33</th>\n",
       "      <td>DISTANCE</td>\n",
       "      <td>long_short</td>\n",
       "      <td>10000</td>\n",
       "      <td>0</td>\n",
       "      <td>100</td>\n",
       "      <td>0.847604</td>\n",
       "      <td>0.887334</td>\n",
       "      <td>0.797050</td>\n",
       "      <td>13.632361</td>\n",
       "      <td>0.062176</td>\n",
       "      <td>1.410603</td>\n",
       "      <td>0.573078</td>\n",
       "      <td>0.48</td>\n",
       "      <td>0.975090</td>\n",
       "      <td>-5.996928</td>\n",
       "      <td>&lt;financial_common.portfolio_management.portfol...</td>\n",
       "      <td>green</td>\n",
       "      <td>13.632361</td>\n",
       "    </tr>\n",
       "    <tr>\n",
       "      <th>21</th>\n",
       "      <td>SIMPLE_MOVING_AVERAGE</td>\n",
       "      <td>long_short</td>\n",
       "      <td>10000</td>\n",
       "      <td>0</td>\n",
       "      <td>100</td>\n",
       "      <td>0.803760</td>\n",
       "      <td>0.839499</td>\n",
       "      <td>0.853197</td>\n",
       "      <td>11.246081</td>\n",
       "      <td>0.071470</td>\n",
       "      <td>1.468274</td>\n",
       "      <td>0.543897</td>\n",
       "      <td>0.45</td>\n",
       "      <td>0.959867</td>\n",
       "      <td>-5.830523</td>\n",
       "      <td>&lt;financial_common.portfolio_management.portfol...</td>\n",
       "      <td>green</td>\n",
       "      <td>11.246081</td>\n",
       "    </tr>\n",
       "    <tr>\n",
       "      <th>3</th>\n",
       "      <td>STANDARD_DEV</td>\n",
       "      <td>long_short</td>\n",
       "      <td>10000</td>\n",
       "      <td>0</td>\n",
       "      <td>100</td>\n",
       "      <td>0.714877</td>\n",
       "      <td>0.719783</td>\n",
       "      <td>0.835058</td>\n",
       "      <td>8.119910</td>\n",
       "      <td>0.088040</td>\n",
       "      <td>1.318264</td>\n",
       "      <td>0.557846</td>\n",
       "      <td>0.50</td>\n",
       "      <td>0.938055</td>\n",
       "      <td>-5.742752</td>\n",
       "      <td>&lt;financial_common.portfolio_management.portfol...</td>\n",
       "      <td>green</td>\n",
       "      <td>8.119910</td>\n",
       "    </tr>\n",
       "    <tr>\n",
       "      <th>8</th>\n",
       "      <td>AVERAGE_RETURN</td>\n",
       "      <td>bottom</td>\n",
       "      <td>10000</td>\n",
       "      <td>0</td>\n",
       "      <td>100</td>\n",
       "      <td>0.664432</td>\n",
       "      <td>0.664432</td>\n",
       "      <td>0.735003</td>\n",
       "      <td>5.713179</td>\n",
       "      <td>0.116298</td>\n",
       "      <td>1.468702</td>\n",
       "      <td>0.631806</td>\n",
       "      <td>0.36</td>\n",
       "      <td>0.933089</td>\n",
       "      <td>-4.781127</td>\n",
       "      <td>&lt;financial_common.portfolio_management.portfol...</td>\n",
       "      <td>red</td>\n",
       "      <td>5.713179</td>\n",
       "    </tr>\n",
       "    <tr>\n",
       "      <th>11</th>\n",
       "      <td>AVERAGE_RETURN</td>\n",
       "      <td>bottom_blacklist</td>\n",
       "      <td>10000</td>\n",
       "      <td>0</td>\n",
       "      <td>100</td>\n",
       "      <td>0.664432</td>\n",
       "      <td>0.664432</td>\n",
       "      <td>0.735003</td>\n",
       "      <td>5.713179</td>\n",
       "      <td>0.116298</td>\n",
       "      <td>1.468702</td>\n",
       "      <td>0.631806</td>\n",
       "      <td>0.36</td>\n",
       "      <td>0.933089</td>\n",
       "      <td>-4.781127</td>\n",
       "      <td>&lt;financial_common.portfolio_management.portfol...</td>\n",
       "      <td>red</td>\n",
       "      <td>5.713179</td>\n",
       "    </tr>\n",
       "    <tr>\n",
       "      <th>6</th>\n",
       "      <td>AVERAGE_RETURN</td>\n",
       "      <td>mixed</td>\n",
       "      <td>10000</td>\n",
       "      <td>0</td>\n",
       "      <td>100</td>\n",
       "      <td>0.659195</td>\n",
       "      <td>0.669069</td>\n",
       "      <td>0.778894</td>\n",
       "      <td>4.380487</td>\n",
       "      <td>0.150484</td>\n",
       "      <td>1.447013</td>\n",
       "      <td>0.646224</td>\n",
       "      <td>0.35</td>\n",
       "      <td>0.926500</td>\n",
       "      <td>-3.729780</td>\n",
       "      <td>&lt;financial_common.portfolio_management.portfol...</td>\n",
       "      <td>green</td>\n",
       "      <td>4.380487</td>\n",
       "    </tr>\n",
       "    <tr>\n",
       "      <th>10</th>\n",
       "      <td>AVERAGE_RETURN</td>\n",
       "      <td>top_blacklist</td>\n",
       "      <td>10000</td>\n",
       "      <td>0</td>\n",
       "      <td>100</td>\n",
       "      <td>0.636057</td>\n",
       "      <td>0.636057</td>\n",
       "      <td>0.733162</td>\n",
       "      <td>2.848374</td>\n",
       "      <td>0.223305</td>\n",
       "      <td>1.444026</td>\n",
       "      <td>0.659122</td>\n",
       "      <td>0.34</td>\n",
       "      <td>0.925990</td>\n",
       "      <td>-2.617100</td>\n",
       "      <td>&lt;financial_common.portfolio_management.portfol...</td>\n",
       "      <td>blue</td>\n",
       "      <td>2.848374</td>\n",
       "    </tr>\n",
       "    <tr>\n",
       "      <th>7</th>\n",
       "      <td>AVERAGE_RETURN</td>\n",
       "      <td>top</td>\n",
       "      <td>10000</td>\n",
       "      <td>0</td>\n",
       "      <td>100</td>\n",
       "      <td>0.636057</td>\n",
       "      <td>0.636057</td>\n",
       "      <td>0.733162</td>\n",
       "      <td>2.848374</td>\n",
       "      <td>0.223305</td>\n",
       "      <td>1.444026</td>\n",
       "      <td>0.659122</td>\n",
       "      <td>0.34</td>\n",
       "      <td>0.925990</td>\n",
       "      <td>-2.617100</td>\n",
       "      <td>&lt;financial_common.portfolio_management.portfol...</td>\n",
       "      <td>blue</td>\n",
       "      <td>2.848374</td>\n",
       "    </tr>\n",
       "    <tr>\n",
       "      <th>0</th>\n",
       "      <td>STANDARD_DEV</td>\n",
       "      <td>mixed</td>\n",
       "      <td>10000</td>\n",
       "      <td>0</td>\n",
       "      <td>100</td>\n",
       "      <td>0.621969</td>\n",
       "      <td>0.939236</td>\n",
       "      <td>0.646123</td>\n",
       "      <td>3.001505</td>\n",
       "      <td>0.207219</td>\n",
       "      <td>1.487713</td>\n",
       "      <td>0.627767</td>\n",
       "      <td>0.36</td>\n",
       "      <td>0.937348</td>\n",
       "      <td>-2.888251</td>\n",
       "      <td>&lt;financial_common.portfolio_management.portfol...</td>\n",
       "      <td>green</td>\n",
       "      <td>3.001505</td>\n",
       "    </tr>\n",
       "    <tr>\n",
       "      <th>38</th>\n",
       "      <td>DIVIDEND</td>\n",
       "      <td>bottom</td>\n",
       "      <td>10000</td>\n",
       "      <td>0</td>\n",
       "      <td>100</td>\n",
       "      <td>0.611847</td>\n",
       "      <td>0.611847</td>\n",
       "      <td>0.614760</td>\n",
       "      <td>3.184899</td>\n",
       "      <td>0.192109</td>\n",
       "      <td>2.333790</td>\n",
       "      <td>0.530925</td>\n",
       "      <td>0.26</td>\n",
       "      <td>0.999670</td>\n",
       "      <td>-3.168114</td>\n",
       "      <td>&lt;financial_common.portfolio_management.portfol...</td>\n",
       "      <td>red</td>\n",
       "      <td>3.184899</td>\n",
       "    </tr>\n",
       "    <tr>\n",
       "      <th>41</th>\n",
       "      <td>DIVIDEND</td>\n",
       "      <td>bottom_blacklist</td>\n",
       "      <td>10000</td>\n",
       "      <td>0</td>\n",
       "      <td>100</td>\n",
       "      <td>0.611847</td>\n",
       "      <td>0.611847</td>\n",
       "      <td>0.614760</td>\n",
       "      <td>3.184899</td>\n",
       "      <td>0.192109</td>\n",
       "      <td>2.333790</td>\n",
       "      <td>0.530925</td>\n",
       "      <td>0.26</td>\n",
       "      <td>0.999670</td>\n",
       "      <td>-3.168114</td>\n",
       "      <td>&lt;financial_common.portfolio_management.portfol...</td>\n",
       "      <td>red</td>\n",
       "      <td>3.184899</td>\n",
       "    </tr>\n",
       "    <tr>\n",
       "      <th>25</th>\n",
       "      <td>DRAWDOWN</td>\n",
       "      <td>top</td>\n",
       "      <td>10000</td>\n",
       "      <td>0</td>\n",
       "      <td>100</td>\n",
       "      <td>0.592305</td>\n",
       "      <td>0.592305</td>\n",
       "      <td>0.785298</td>\n",
       "      <td>2.884928</td>\n",
       "      <td>0.205310</td>\n",
       "      <td>1.296219</td>\n",
       "      <td>0.688143</td>\n",
       "      <td>0.36</td>\n",
       "      <td>0.907050</td>\n",
       "      <td>-3.059587</td>\n",
       "      <td>&lt;financial_common.portfolio_management.portfol...</td>\n",
       "      <td>blue</td>\n",
       "      <td>2.884928</td>\n",
       "    </tr>\n",
       "    <tr>\n",
       "      <th>28</th>\n",
       "      <td>DRAWDOWN</td>\n",
       "      <td>top_blacklist</td>\n",
       "      <td>10000</td>\n",
       "      <td>0</td>\n",
       "      <td>100</td>\n",
       "      <td>0.592305</td>\n",
       "      <td>0.592305</td>\n",
       "      <td>0.785298</td>\n",
       "      <td>2.884928</td>\n",
       "      <td>0.205310</td>\n",
       "      <td>1.296219</td>\n",
       "      <td>0.688143</td>\n",
       "      <td>0.36</td>\n",
       "      <td>0.907050</td>\n",
       "      <td>-3.059587</td>\n",
       "      <td>&lt;financial_common.portfolio_management.portfol...</td>\n",
       "      <td>blue</td>\n",
       "      <td>2.884928</td>\n",
       "    </tr>\n",
       "    <tr>\n",
       "      <th>23</th>\n",
       "      <td>SIMPLE_MOVING_AVERAGE</td>\n",
       "      <td>bottom_blacklist</td>\n",
       "      <td>10000</td>\n",
       "      <td>0</td>\n",
       "      <td>100</td>\n",
       "      <td>0.571184</td>\n",
       "      <td>0.571184</td>\n",
       "      <td>0.537075</td>\n",
       "      <td>2.140285</td>\n",
       "      <td>0.266873</td>\n",
       "      <td>1.842928</td>\n",
       "      <td>0.555293</td>\n",
       "      <td>0.32</td>\n",
       "      <td>0.967336</td>\n",
       "      <td>-2.432933</td>\n",
       "      <td>&lt;financial_common.portfolio_management.portfol...</td>\n",
       "      <td>red</td>\n",
       "      <td>2.140285</td>\n",
       "    </tr>\n",
       "  </tbody>\n",
       "</table>\n",
       "</div>"
      ],
      "text/plain": [
       "            grouping_type    selection_type  max_price  min_price  \\\n",
       "5            STANDARD_DEV  bottom_blacklist      10000          0   \n",
       "2            STANDARD_DEV            bottom      10000          0   \n",
       "27               DRAWDOWN        long_short      10000          0   \n",
       "39               DIVIDEND        long_short      10000          0   \n",
       "9          AVERAGE_RETURN        long_short      10000          0   \n",
       "15  ROLLING_DOLLAR_VOLUME        long_short      10000          0   \n",
       "33               DISTANCE        long_short      10000          0   \n",
       "21  SIMPLE_MOVING_AVERAGE        long_short      10000          0   \n",
       "3            STANDARD_DEV        long_short      10000          0   \n",
       "8          AVERAGE_RETURN            bottom      10000          0   \n",
       "11         AVERAGE_RETURN  bottom_blacklist      10000          0   \n",
       "6          AVERAGE_RETURN             mixed      10000          0   \n",
       "10         AVERAGE_RETURN     top_blacklist      10000          0   \n",
       "7          AVERAGE_RETURN               top      10000          0   \n",
       "0            STANDARD_DEV             mixed      10000          0   \n",
       "38               DIVIDEND            bottom      10000          0   \n",
       "41               DIVIDEND  bottom_blacklist      10000          0   \n",
       "25               DRAWDOWN               top      10000          0   \n",
       "28               DRAWDOWN     top_blacklist      10000          0   \n",
       "23  SIMPLE_MOVING_AVERAGE  bottom_blacklist      10000          0   \n",
       "\n",
       "    rolling_window       pnl   raw_pnl  downside  coefficient_of_variation  \\\n",
       "5              100  1.750250  1.750250  0.677827                  2.789501   \n",
       "2              100  1.750250  1.750250  0.677827                  2.789501   \n",
       "27             100  1.249975  1.245195  0.992359                 15.501632   \n",
       "39             100  1.095925  1.128270  0.873951                 15.711226   \n",
       "9              100  0.997838  1.100950  0.918860                 18.680657   \n",
       "15             100  0.859355  0.879750  0.899246                 18.281155   \n",
       "33             100  0.847604  0.887334  0.797050                 13.632361   \n",
       "21             100  0.803760  0.839499  0.853197                 11.246081   \n",
       "3              100  0.714877  0.719783  0.835058                  8.119910   \n",
       "8              100  0.664432  0.664432  0.735003                  5.713179   \n",
       "11             100  0.664432  0.664432  0.735003                  5.713179   \n",
       "6              100  0.659195  0.669069  0.778894                  4.380487   \n",
       "10             100  0.636057  0.636057  0.733162                  2.848374   \n",
       "7              100  0.636057  0.636057  0.733162                  2.848374   \n",
       "0              100  0.621969  0.939236  0.646123                  3.001505   \n",
       "38             100  0.611847  0.611847  0.614760                  3.184899   \n",
       "41             100  0.611847  0.611847  0.614760                  3.184899   \n",
       "25             100  0.592305  0.592305  0.785298                  2.884928   \n",
       "28             100  0.592305  0.592305  0.785298                  2.884928   \n",
       "23             100  0.571184  0.571184  0.537075                  2.140285   \n",
       "\n",
       "    portfolio_std  average_gain  average_loss  win_loss_ratio  weekly_return  \\\n",
       "5        0.627442      2.327044      0.649919            0.38       1.287227   \n",
       "2        0.627442      2.327044      0.649919            0.38       1.287227   \n",
       "27       0.080635      1.321570      0.722993            0.54       1.046224   \n",
       "39       0.069754      1.455281      0.543748            0.53       1.026860   \n",
       "9        0.053416      1.345212      0.657935            0.50       1.001573   \n",
       "15       0.047008      1.431711      0.581131            0.46       0.972398   \n",
       "33       0.062176      1.410603      0.573078            0.48       0.975090   \n",
       "21       0.071470      1.468274      0.543897            0.45       0.959867   \n",
       "3        0.088040      1.318264      0.557846            0.50       0.938055   \n",
       "8        0.116298      1.468702      0.631806            0.36       0.933089   \n",
       "11       0.116298      1.468702      0.631806            0.36       0.933089   \n",
       "6        0.150484      1.447013      0.646224            0.35       0.926500   \n",
       "10       0.223305      1.444026      0.659122            0.34       0.925990   \n",
       "7        0.223305      1.444026      0.659122            0.34       0.925990   \n",
       "0        0.207219      1.487713      0.627767            0.36       0.937348   \n",
       "38       0.192109      2.333790      0.530925            0.26       0.999670   \n",
       "41       0.192109      2.333790      0.530925            0.26       0.999670   \n",
       "25       0.205310      1.296219      0.688143            0.36       0.907050   \n",
       "28       0.205310      1.296219      0.688143            0.36       0.907050   \n",
       "23       0.266873      1.842928      0.555293            0.32       0.967336   \n",
       "\n",
       "    sharpe_ratio                                          portfolio  color  \\\n",
       "5       0.844351  <financial_common.portfolio_management.portfol...    red   \n",
       "2       0.844351  <financial_common.portfolio_management.portfol...    red   \n",
       "27      0.365928  <financial_common.portfolio_management.portfol...  green   \n",
       "39     -1.785468  <financial_common.portfolio_management.portfol...  green   \n",
       "9      -4.167905  <financial_common.portfolio_management.portfol...  green   \n",
       "15     -7.682022  <financial_common.portfolio_management.portfol...  green   \n",
       "33     -5.996928  <financial_common.portfolio_management.portfol...  green   \n",
       "21     -5.830523  <financial_common.portfolio_management.portfol...  green   \n",
       "3      -5.742752  <financial_common.portfolio_management.portfol...  green   \n",
       "8      -4.781127  <financial_common.portfolio_management.portfol...    red   \n",
       "11     -4.781127  <financial_common.portfolio_management.portfol...    red   \n",
       "6      -3.729780  <financial_common.portfolio_management.portfol...  green   \n",
       "10     -2.617100  <financial_common.portfolio_management.portfol...   blue   \n",
       "7      -2.617100  <financial_common.portfolio_management.portfol...   blue   \n",
       "0      -2.888251  <financial_common.portfolio_management.portfol...  green   \n",
       "38     -3.168114  <financial_common.portfolio_management.portfol...    red   \n",
       "41     -3.168114  <financial_common.portfolio_management.portfol...    red   \n",
       "25     -3.059587  <financial_common.portfolio_management.portfol...   blue   \n",
       "28     -3.059587  <financial_common.portfolio_management.portfol...   blue   \n",
       "23     -2.432933  <financial_common.portfolio_management.portfol...    red   \n",
       "\n",
       "    return_to_risk  \n",
       "5         2.789501  \n",
       "2         2.789501  \n",
       "27       15.501632  \n",
       "39       15.711226  \n",
       "9        18.680657  \n",
       "15       18.281155  \n",
       "33       13.632361  \n",
       "21       11.246081  \n",
       "3         8.119910  \n",
       "8         5.713179  \n",
       "11        5.713179  \n",
       "6         4.380487  \n",
       "10        2.848374  \n",
       "7         2.848374  \n",
       "0         3.001505  \n",
       "38        3.184899  \n",
       "41        3.184899  \n",
       "25        2.884928  \n",
       "28        2.884928  \n",
       "23        2.140285  "
      ]
     },
     "execution_count": 20,
     "metadata": {},
     "output_type": "execute_result"
    }
   ],
   "source": [
    "a.drop([\"date\",\"position_type\",\"timeframe\",\"ranking_metric\",\"allocation_type\",\"risk_type\",\"selection_percentage\",\"stoploss\",\"num_of_groups\"],axis=1).sort_values(\"pnl\",ascending=False).head(20)"
   ]
  },
  {
   "cell_type": "code",
   "execution_count": 21,
   "id": "fb63bbf6-0639-445b-aef4-44998e4f17fb",
   "metadata": {},
   "outputs": [
    {
     "data": {
      "text/plain": [
       "{'ranking_metric': 'factor',\n",
       " 'timeframe': 'QUARTER',\n",
       " 'position_type': 'long',\n",
       " 'grouping_type': 'STANDARD_DEV',\n",
       " 'selection_type': 'bottom_blacklist',\n",
       " 'allocation_type': 'equal',\n",
       " 'risk_type': 'coefficient_of_variation',\n",
       " 'selection_percentage': 0.01,\n",
       " 'stoploss': 1,\n",
       " 'num_of_groups': 10,\n",
       " 'max_price': 10000,\n",
       " 'min_price': 0,\n",
       " 'rolling_window': 100,\n",
       " 'date': Timestamp('2025-03-20 00:00:00+0000', tz='UTC'),\n",
       " 'pnl': 1.7502500369771634,\n",
       " 'raw_pnl': 1.7502500369771634,\n",
       " 'downside': 0.6778266695278463,\n",
       " 'coefficient_of_variation': 2.789500918160384,\n",
       " 'portfolio_std': 0.6274420006756677,\n",
       " 'average_gain': 2.3270438922456878,\n",
       " 'average_loss': 0.6499192316189817,\n",
       " 'win_loss_ratio': 0.38,\n",
       " 'weekly_return': 1.28722660265713,\n",
       " 'sharpe_ratio': 0.8443509331795755,\n",
       " 'portfolio': <financial_common.portfolio_management.portfolio.Portfolio at 0x2828b45fe50>,\n",
       " 'color': 'red',\n",
       " 'return_to_risk': 2.789500918160384}"
      ]
     },
     "execution_count": 21,
     "metadata": {},
     "output_type": "execute_result"
    }
   ],
   "source": [
    "top = a.sort_values(\"pnl\",ascending=False).head(1).to_dict(\"records\")[0]\n",
    "top"
   ]
  },
  {
   "cell_type": "code",
   "execution_count": 22,
   "id": "1bef746e-1a59-467c-8252-15d65257bddd",
   "metadata": {},
   "outputs": [],
   "source": [
    "pm = top[\"portfolio\"]\n",
    "trades = pm.trades(simulation.copy())\n",
    "trades = p.additional_date_columns(trades)\n",
    "portfolio = pm.portfolio(trades.copy(),benchmark.copy())\n",
    "portfolio = p.additional_date_columns(portfolio)"
   ]
  },
  {
   "cell_type": "code",
   "execution_count": 23,
   "id": "fa25dd38-54ef-46d7-870c-3600752c58f0",
   "metadata": {},
   "outputs": [
    {
     "data": {
      "image/png": "[encoded data removed]",
      "text/plain": [
       "<Figure size 1200x600 with 1 Axes>"
      ]
     },
     "metadata": {},
     "output_type": "display_data"
    }
   ],
   "source": [
    "portfolio['Year-Quarter'] = portfolio[\"year\"].astype(str) + \"q\" + portfolio[\"quarter\"].astype(str)\n",
    "ax = portfolio[[\"Year-Quarter\",\"pnl\",\"benchmark_pnl\"]].set_index(\"Year-Quarter\").plot(\n",
    "    kind=\"line\",\n",
    "    figsize=(12, 6),\n",
    "    title=\"Mean Returns by Exposure per Year and Quarter\"\n",
    ")\n",
    "\n",
    "# Set y-axis to have more precise ticks\n",
    "ax.tick_params(axis='y', direction='in', length=6)  # Adjust y-tick direction and length\n",
    "ax.yaxis.set_major_formatter(plt.FuncFormatter(lambda x, _: f'{x:.4f}'))  # Format y-ticks with 4 decimal places\n",
    "\n",
    "# Move y-ticks to the right side\n",
    "ax.yaxis.set_tick_params(which='both', direction='inout', length=6, labelleft=False, labelright=True)\n",
    "\n",
    "# Optionally adjust the number of ticks for better precision\n",
    "ax.yaxis.set_major_locator(plt.MaxNLocator(integer=False, prune='both'))\n",
    "\n",
    "# Add grid lines\n",
    "ax.grid(True, which='both', axis='both', linestyle='--', linewidth=0.7)\n",
    "\n",
    "# Display the plot\n",
    "plt.tight_layout()\n",
    "plt.show()"
   ]
  },
  {
   "cell_type": "code",
   "execution_count": 24,
   "id": "29ff3a2d-fa01-47bb-8c97-ce149d488acf",
   "metadata": {},
   "outputs": [
    {
     "data": {
      "text/html": [
       "<div>\n",
       "<style scoped>\n",
       "    .dataframe tbody tr th:only-of-type {\n",
       "        vertical-align: middle;\n",
       "    }\n",
       "\n",
       "    .dataframe tbody tr th {\n",
       "        vertical-align: top;\n",
       "    }\n",
       "\n",
       "    .dataframe thead th {\n",
       "        text-align: right;\n",
       "    }\n",
       "</style>\n",
       "<table border=\"1\" class=\"dataframe\">\n",
       "  <thead>\n",
       "    <tr style=\"text-align: right;\">\n",
       "      <th></th>\n",
       "      <th>index</th>\n",
       "      <th>year</th>\n",
       "      <th>quarter</th>\n",
       "      <th>date</th>\n",
       "      <th>weighted_return</th>\n",
       "      <th>return</th>\n",
       "      <th>pnl</th>\n",
       "      <th>raw_pnl</th>\n",
       "      <th>benchmark</th>\n",
       "      <th>benchmark_pnl</th>\n",
       "      <th>month</th>\n",
       "      <th>week</th>\n",
       "      <th>day</th>\n",
       "      <th>Year-Quarter</th>\n",
       "    </tr>\n",
       "  </thead>\n",
       "  <tbody>\n",
       "    <tr>\n",
       "      <th>0</th>\n",
       "      <td>0</td>\n",
       "      <td>2024</td>\n",
       "      <td>1</td>\n",
       "      <td>2024-03-28 00:00:00+00:00</td>\n",
       "      <td>1.278675</td>\n",
       "      <td>1.278675</td>\n",
       "      <td>1.278675</td>\n",
       "      <td>1.278675</td>\n",
       "      <td>194.54</td>\n",
       "      <td>1.000000</td>\n",
       "      <td>3</td>\n",
       "      <td>13</td>\n",
       "      <td>88</td>\n",
       "      <td>2024q1</td>\n",
       "    </tr>\n",
       "    <tr>\n",
       "      <th>1</th>\n",
       "      <td>1</td>\n",
       "      <td>2024</td>\n",
       "      <td>2</td>\n",
       "      <td>2024-06-28 00:00:00+00:00</td>\n",
       "      <td>1.056256</td>\n",
       "      <td>1.056256</td>\n",
       "      <td>1.350607</td>\n",
       "      <td>1.350607</td>\n",
       "      <td>197.60</td>\n",
       "      <td>1.015729</td>\n",
       "      <td>6</td>\n",
       "      <td>26</td>\n",
       "      <td>180</td>\n",
       "      <td>2024q2</td>\n",
       "    </tr>\n",
       "    <tr>\n",
       "      <th>2</th>\n",
       "      <td>2</td>\n",
       "      <td>2024</td>\n",
       "      <td>3</td>\n",
       "      <td>2024-09-30 00:00:00+00:00</td>\n",
       "      <td>0.702712</td>\n",
       "      <td>0.702712</td>\n",
       "      <td>0.949088</td>\n",
       "      <td>0.949088</td>\n",
       "      <td>207.16</td>\n",
       "      <td>1.064871</td>\n",
       "      <td>9</td>\n",
       "      <td>40</td>\n",
       "      <td>274</td>\n",
       "      <td>2024q3</td>\n",
       "    </tr>\n",
       "    <tr>\n",
       "      <th>3</th>\n",
       "      <td>3</td>\n",
       "      <td>2024</td>\n",
       "      <td>4</td>\n",
       "      <td>2024-12-31 00:00:00+00:00</td>\n",
       "      <td>2.720664</td>\n",
       "      <td>2.720664</td>\n",
       "      <td>2.582150</td>\n",
       "      <td>2.582150</td>\n",
       "      <td>236.90</td>\n",
       "      <td>1.217744</td>\n",
       "      <td>12</td>\n",
       "      <td>1</td>\n",
       "      <td>366</td>\n",
       "      <td>2024q4</td>\n",
       "    </tr>\n",
       "    <tr>\n",
       "      <th>4</th>\n",
       "      <td>4</td>\n",
       "      <td>2025</td>\n",
       "      <td>1</td>\n",
       "      <td>2025-03-20 00:00:00+00:00</td>\n",
       "      <td>0.677827</td>\n",
       "      <td>0.677827</td>\n",
       "      <td>1.750250</td>\n",
       "      <td>1.750250</td>\n",
       "      <td>237.43</td>\n",
       "      <td>1.220469</td>\n",
       "      <td>3</td>\n",
       "      <td>12</td>\n",
       "      <td>79</td>\n",
       "      <td>2025q1</td>\n",
       "    </tr>\n",
       "  </tbody>\n",
       "</table>\n",
       "</div>"
      ],
      "text/plain": [
       "   index  year  quarter                      date  weighted_return    return  \\\n",
       "0      0  2024        1 2024-03-28 00:00:00+00:00         1.278675  1.278675   \n",
       "1      1  2024        2 2024-06-28 00:00:00+00:00         1.056256  1.056256   \n",
       "2      2  2024        3 2024-09-30 00:00:00+00:00         0.702712  0.702712   \n",
       "3      3  2024        4 2024-12-31 00:00:00+00:00         2.720664  2.720664   \n",
       "4      4  2025        1 2025-03-20 00:00:00+00:00         0.677827  0.677827   \n",
       "\n",
       "        pnl   raw_pnl  benchmark  benchmark_pnl  month  week  day Year-Quarter  \n",
       "0  1.278675  1.278675     194.54       1.000000      3    13   88       2024q1  \n",
       "1  1.350607  1.350607     197.60       1.015729      6    26  180       2024q2  \n",
       "2  0.949088  0.949088     207.16       1.064871      9    40  274       2024q3  \n",
       "3  2.582150  2.582150     236.90       1.217744     12     1  366       2024q4  \n",
       "4  1.750250  1.750250     237.43       1.220469      3    12   79       2025q1  "
      ]
     },
     "execution_count": 24,
     "metadata": {},
     "output_type": "execute_result"
    }
   ],
   "source": [
    "portfolio.tail()"
   ]
  },
  {
   "cell_type": "code",
   "execution_count": 25,
   "id": "36cf02b0-947e-445b-9f63-ff00e556ff0b",
   "metadata": {},
   "outputs": [
    {
     "data": {
      "text/html": [
       "<div>\n",
       "<style scoped>\n",
       "    .dataframe tbody tr th:only-of-type {\n",
       "        vertical-align: middle;\n",
       "    }\n",
       "\n",
       "    .dataframe tbody tr th {\n",
       "        vertical-align: top;\n",
       "    }\n",
       "\n",
       "    .dataframe thead th {\n",
       "        text-align: right;\n",
       "    }\n",
       "</style>\n",
       "<table border=\"1\" class=\"dataframe\">\n",
       "  <thead>\n",
       "    <tr style=\"text-align: right;\">\n",
       "      <th></th>\n",
       "      <th>return</th>\n",
       "    </tr>\n",
       "    <tr>\n",
       "      <th>ticker</th>\n",
       "      <th></th>\n",
       "    </tr>\n",
       "  </thead>\n",
       "  <tbody>\n",
       "    <tr>\n",
       "      <th>OMEX</th>\n",
       "      <td>0.824675</td>\n",
       "    </tr>\n",
       "    <tr>\n",
       "      <th>CLDI</th>\n",
       "      <td>0.822860</td>\n",
       "    </tr>\n",
       "    <tr>\n",
       "      <th>UNCY</th>\n",
       "      <td>0.819031</td>\n",
       "    </tr>\n",
       "    <tr>\n",
       "      <th>DVLT</th>\n",
       "      <td>0.758112</td>\n",
       "    </tr>\n",
       "    <tr>\n",
       "      <th>ERNA</th>\n",
       "      <td>0.733333</td>\n",
       "    </tr>\n",
       "    <tr>\n",
       "      <th>SBFM</th>\n",
       "      <td>0.712460</td>\n",
       "    </tr>\n",
       "    <tr>\n",
       "      <th>AMZE</th>\n",
       "      <td>0.692775</td>\n",
       "    </tr>\n",
       "    <tr>\n",
       "      <th>BNZI</th>\n",
       "      <td>0.690323</td>\n",
       "    </tr>\n",
       "    <tr>\n",
       "      <th>OTRK</th>\n",
       "      <td>0.689362</td>\n",
       "    </tr>\n",
       "    <tr>\n",
       "      <th>TIVC</th>\n",
       "      <td>0.653071</td>\n",
       "    </tr>\n",
       "    <tr>\n",
       "      <th>TNON</th>\n",
       "      <td>0.634409</td>\n",
       "    </tr>\n",
       "    <tr>\n",
       "      <th>SHOT</th>\n",
       "      <td>0.620690</td>\n",
       "    </tr>\n",
       "    <tr>\n",
       "      <th>CNSP</th>\n",
       "      <td>0.619333</td>\n",
       "    </tr>\n",
       "    <tr>\n",
       "      <th>FMTO</th>\n",
       "      <td>0.601969</td>\n",
       "    </tr>\n",
       "    <tr>\n",
       "      <th>LIDR</th>\n",
       "      <td>0.584112</td>\n",
       "    </tr>\n",
       "    <tr>\n",
       "      <th>ALLR</th>\n",
       "      <td>0.581151</td>\n",
       "    </tr>\n",
       "    <tr>\n",
       "      <th>XPON</th>\n",
       "      <td>0.510000</td>\n",
       "    </tr>\n",
       "    <tr>\n",
       "      <th>UAVS</th>\n",
       "      <td>0.385294</td>\n",
       "    </tr>\n",
       "    <tr>\n",
       "      <th>BIVI</th>\n",
       "      <td>0.288115</td>\n",
       "    </tr>\n",
       "    <tr>\n",
       "      <th>VLCN</th>\n",
       "      <td>0.070049</td>\n",
       "    </tr>\n",
       "  </tbody>\n",
       "</table>\n",
       "</div>"
      ],
      "text/plain": [
       "          return\n",
       "ticker          \n",
       "OMEX    0.824675\n",
       "CLDI    0.822860\n",
       "UNCY    0.819031\n",
       "DVLT    0.758112\n",
       "ERNA    0.733333\n",
       "SBFM    0.712460\n",
       "AMZE    0.692775\n",
       "BNZI    0.690323\n",
       "OTRK    0.689362\n",
       "TIVC    0.653071\n",
       "TNON    0.634409\n",
       "SHOT    0.620690\n",
       "CNSP    0.619333\n",
       "FMTO    0.601969\n",
       "LIDR    0.584112\n",
       "ALLR    0.581151\n",
       "XPON    0.510000\n",
       "UAVS    0.385294\n",
       "BIVI    0.288115\n",
       "VLCN    0.070049"
      ]
     },
     "execution_count": 25,
     "metadata": {},
     "output_type": "execute_result"
    }
   ],
   "source": [
    "trades[[\"ticker\",\"return\"]].groupby(\"ticker\").mean().sort_values(\"return\",ascending=False).tail(20)"
   ]
  }
 ],
 "metadata": {
  "kernelspec": {
   "display_name": "Python 3 (ipykernel)",
   "language": "python",
   "name": "python3"
  },
  "language_info": {
   "codemirror_mode": {
    "name": "ipython",
    "version": 3
   },
   "file_extension": ".py",
   "mimetype": "text/x-python",
   "name": "python",
   "nbconvert_exporter": "python",
   "pygments_lexer": "ipython3",
   "version": "3.11.9"
  }
 },
 "nbformat": 4,
 "nbformat_minor": 5
}
