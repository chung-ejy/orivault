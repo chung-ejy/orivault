{
 "cells": [
  {
   "cell_type": "code",
   "execution_count": 140,
   "id": "246c49f1-95ae-48c8-a1c2-a5c621cc768f",
   "metadata": {},
   "outputs": [],
   "source": [
    "## PATH settings\n",
    "import os\n",
    "import sys\n",
    "project_root = os.path.abspath(os.path.join(os.getcwd(), '../../'))\n",
    "sys.path.append(project_root)\n",
    "COMMON_PATH = os.path.join(project_root, 'common')"
   ]
  },
  {
   "cell_type": "code",
   "execution_count": 141,
   "id": "b3f7ffcc-42d9-4090-99b3-6479955e1a5f",
   "metadata": {},
   "outputs": [],
   "source": [
    "## Bespoke class imports\n",
    "from common.database.adatabase import ADatabase\n",
    "from common.processor.processor import Processor as p\n",
    "from financial_common.indicator.indicator import Indicator\n",
    "from financial_common.risk.benchmark import Benchmark\n",
    "from financial_common.portfolio_management.kpi import KPI\n",
    "from financial_common.metric.metric import Metric\n",
    "from financial_common.portfolio_management.portfolio_selection import PortfolioSelection\n",
    "from financial_common.risk.risk_type import RiskType\n",
    "import numpy as np\n",
    "import matplotlib.pyplot as plt"
   ]
  },
  {
   "cell_type": "code",
   "execution_count": 142,
   "id": "5e602193-3097-4687-bd19-00f3b8bff5d4",
   "metadata": {},
   "outputs": [],
   "source": [
    "## Import standard packages\n",
    "from datetime import timedelta, datetime\n",
    "import matplotlib.pyplot as plt\n",
    "from tqdm import tqdm\n",
    "import pandas as pd\n",
    "from time import sleep\n",
    "import copy"
   ]
  },
  {
   "cell_type": "code",
   "execution_count": 143,
   "id": "01317ec8-a56f-4e96-907f-3b07b4d80013",
   "metadata": {},
   "outputs": [],
   "source": [
    "market = ADatabase(\"market\")\n",
    "fred = ADatabase(\"fred\")\n",
    "orivault = ADatabase(\"ori\")"
   ]
  },
  {
   "cell_type": "code",
   "execution_count": 144,
   "id": "1e37c28f-be14-4d2d-b2fa-d36cbd588168",
   "metadata": {},
   "outputs": [],
   "source": [
    "## Retrieve existing stocks \n",
    "market.connect()\n",
    "index = market.retrieve(\"index\")\n",
    "market.disconnect()"
   ]
  },
  {
   "cell_type": "code",
   "execution_count": 145,
   "id": "06a6d3b3-44e8-4c3c-b39d-074c98f8ab76",
   "metadata": {},
   "outputs": [],
   "source": [
    "## Defining Benchmark\n",
    "market.connect()\n",
    "benchmark = market.query(\"prices\",{\"ticker\":\"JPM\"})\n",
    "market.disconnect()\n",
    "benchmark = Benchmark.convert_to_benchmark(benchmark,\"adjclose\")"
   ]
  },
  {
   "cell_type": "code",
   "execution_count": 146,
   "id": "09587a4a-c54f-458c-ac5f-bca6b33405ff",
   "metadata": {},
   "outputs": [
    {
     "name": "stderr",
     "output_type": "stream",
     "text": [
      "  2%|█████▏                                                                                                                                                                                                           | 280/11272 [00:05<03:09, 57.91it/s]"
     ]
    },
    {
     "name": "stdout",
     "output_type": "stream",
     "text": [
      "'adjclose'\n"
     ]
    },
    {
     "name": "stderr",
     "output_type": "stream",
     "text": [
      " 15%|███████████████████████████████▌                                                                                                                                                                                | 1713/11272 [00:36<03:04, 51.81it/s]"
     ]
    },
    {
     "name": "stdout",
     "output_type": "stream",
     "text": [
      "'adjclose'\n"
     ]
    },
    {
     "name": "stderr",
     "output_type": "stream",
     "text": [
      " 34%|███████████████████████████████████████████████████████████████████████▌                                                                                                                                        | 3881/11272 [01:25<02:30, 49.03it/s]"
     ]
    },
    {
     "name": "stdout",
     "output_type": "stream",
     "text": [
      "'adjclose'\n"
     ]
    },
    {
     "name": "stderr",
     "output_type": "stream",
     "text": [
      " 37%|█████████████████████████████████████████████████████████████████████████████▊                                                                                                                                  | 4219/11272 [01:33<02:46, 42.33it/s]"
     ]
    },
    {
     "name": "stdout",
     "output_type": "stream",
     "text": [
      "'adjclose'\n",
      "'adjclose'\n"
     ]
    },
    {
     "name": "stderr",
     "output_type": "stream",
     "text": [
      " 45%|█████████████████████████████████████████████████████████████████████████████████████████████▍                                                                                                                  | 5065/11272 [01:56<02:23, 43.20it/s]"
     ]
    },
    {
     "name": "stdout",
     "output_type": "stream",
     "text": [
      "'adjclose'\n"
     ]
    },
    {
     "name": "stderr",
     "output_type": "stream",
     "text": [
      " 45%|██████████████████████████████████████████████████████████████████████████████████████████████▎                                                                                                                 | 5109/11272 [01:57<02:05, 49.24it/s]"
     ]
    },
    {
     "name": "stdout",
     "output_type": "stream",
     "text": [
      "'adjclose'\n"
     ]
    },
    {
     "name": "stderr",
     "output_type": "stream",
     "text": [
      " 47%|████████████████████████████████████████████████████████████████████████████████████████████████▋                                                                                                               | 5243/11272 [02:00<01:52, 53.48it/s]"
     ]
    },
    {
     "name": "stdout",
     "output_type": "stream",
     "text": [
      "'adjclose'\n"
     ]
    },
    {
     "name": "stderr",
     "output_type": "stream",
     "text": [
      " 48%|███████████████████████████████████████████████████████████████████████████████████████████████████▏                                                                                                            | 5377/11272 [02:03<02:27, 40.00it/s]"
     ]
    },
    {
     "name": "stdout",
     "output_type": "stream",
     "text": [
      "'adjclose'\n"
     ]
    },
    {
     "name": "stderr",
     "output_type": "stream",
     "text": [
      "100%|███████████████████████████████████████████████████████████████████████████████████████████████████████████████████████████████████████████████████████████████████████████████████████████████████████████████| 11272/11272 [04:42<00:00, 39.85it/s]\n"
     ]
    }
   ],
   "source": [
    "rolling_window = 10\n",
    "market.connect()\n",
    "prices = []\n",
    "skips = 1\n",
    "model_end = 2021\n",
    "backtest_end = 2026\n",
    "for ticker in tqdm(index[\"ticker\"][::skips]): \n",
    "    try:\n",
    "        price = market.query(\"prices\", {\"ticker\": ticker})\n",
    "        price[\"market_cap\"] = price[\"adjclose\"] * price[\"volume\"]\n",
    "        if price.index.size > 150:\n",
    "            price = p.lower_column(price)\n",
    "            price = p.utc_date(price)\n",
    "            price = p.additional_date_columns(price)\n",
    "            price = price[(price[\"year\"]>=model_end) & (price[\"year\"]<backtest_end)]\n",
    "            price.sort_values(\"date\", inplace=True)\n",
    "            price[\"standard_dev\"] = 1\n",
    "            price[\"coefficient_of_variation\"] = 1\n",
    "            price = Metric.NEXT_CLOSE.calculate(price,timeframe=rolling_window)\n",
    "            price = Metric.NEXT_HIGH.calculate(price,timeframe=rolling_window)\n",
    "            price = Metric.NEXT_LOW.calculate(price,timeframe=rolling_window)\n",
    "            for member in Indicator:\n",
    "                price = member.calculate(price,timeframe=rolling_window)\n",
    "            prices.append(price.dropna())\n",
    "    except Exception as e:\n",
    "        print(str(e))\n",
    "        continue\n",
    "market.disconnect()"
   ]
  },
  {
   "cell_type": "code",
   "execution_count": 147,
   "id": "2212583d-6a1c-4721-a689-1bcaad1d5b2d",
   "metadata": {},
   "outputs": [
    {
     "data": {
      "text/plain": [
       "Index(['date', 'adjclose', 'high', 'low', 'volume', 'ticker', 'market_cap',\n",
       "       'year', 'month', 'quarter', 'week', 'day', 'weekday', 'standard_dev',\n",
       "       'coefficient_of_variation', 'next_close', 'next_high', 'next_low',\n",
       "       'optimal', 'adr', 'sma', 'sma_corr', 'ema', 'ema_corr', 'health_check',\n",
       "       'bollinger_upper', 'bollinger_lower', 'momentum', 'roc', 'williams_r',\n",
       "       'obv', 'vwap', 'market_impact', 'atr'],\n",
       "      dtype='object')"
      ]
     },
     "execution_count": 147,
     "metadata": {},
     "output_type": "execute_result"
    }
   ],
   "source": [
    "simulation = pd.concat(prices)\n",
    "simulation.sort_values(\"date\", inplace=True)\n",
    "simulation.columns"
   ]
  },
  {
   "cell_type": "code",
   "execution_count": 148,
   "id": "eb7133b8-a899-4282-b201-f5e8869ad634",
   "metadata": {},
   "outputs": [],
   "source": [
    "portfolios = PortfolioSelection.generate_possible_portfolios(\n",
    "                                                            ranking_metrics=[\n",
    "                                                                \"ema\",\"sma\",\"roc\",\"health_check\"\n",
    "                                                            ]\n",
    "                                                            ,num_of_groups=[1]\n",
    "                                                            ,group_percentages=[1]\n",
    "                                                            ,max_prices=[0.1]\n",
    "                                                            ,min_prices=[0.01]\n",
    "                                                            ,max_market_caps = [1000]\n",
    "                                                            ,min_market_caps = [0]\n",
    "                                                            ,stoplosses=[1]\n",
    "                                                            ,rolling_windows=[rolling_window]\n",
    "                                                            ,leverages=[1]\n",
    "                                                            )\n",
    "filtered_portfolios = []\n",
    "for portfolio in portfolios:\n",
    "    if portfolio.timeframe.value == \"day\" and \"blacklist\" in portfolio.selection_type.label \\\n",
    "        and portfolio.allocation_type.label == \"risk\" \\\n",
    "        and portfolio.ranking_metric != \"optimal\" \\\n",
    "        and portfolio.position_type.label == \"long\" and (\"standard_dev\" in portfolio.grouping_type.value) \\\n",
    "        and portfolio.max_price > portfolio.min_price:\n",
    "        filtered_portfolios.append(portfolio)"
   ]
  },
  {
   "cell_type": "code",
   "execution_count": 149,
   "id": "42cd7230-3773-4cfc-bfce-31664263cfa1",
   "metadata": {
    "scrolled": true
   },
   "outputs": [
    {
     "name": "stderr",
     "output_type": "stream",
     "text": [
      "100%|███████████████████████████████████████████████████████████████████████████████████████████████████████████████████████████████████████████████████████████████████████████████████████████████████████████████████████| 8/8 [01:55<00:00, 14.48s/it]\n"
     ]
    }
   ],
   "source": [
    "analysises = []\n",
    "for portfolio in tqdm(filtered_portfolios):\n",
    "    try:\n",
    "        trades = portfolio.trades(simulation.copy())\n",
    "        trades = p.additional_date_columns(trades)\n",
    "        trades = trades.groupby(\"weekday\").agg({\"date\":\"last\",\"weighted_return\":\"mean\",\"return\":\"mean\"}).reset_index().sort_values(\"date\")\n",
    "        trades[\"date\"] = trades.apply(lambda row: datetime.strptime(f\"{2025} {10} {row['weekday']+1}\", \"%Y %W %u\"), axis=1)\n",
    "        trades = p.additional_date_columns(trades)\n",
    "        trades.sort_values(\"date\")\n",
    "        performance = portfolio.portfolio(trades.copy(),benchmark.copy())\n",
    "        metrics = KPI.performance(trades,performance)\n",
    "        results = {**portfolio.to_dict(),**metrics.copy()}\n",
    "        results[\"portfolio\"] = portfolio\n",
    "        analysises.append(results)\n",
    "    except Exception as e:\n",
    "        print(str(e))\n",
    "        continue"
   ]
  },
  {
   "cell_type": "code",
   "execution_count": 150,
   "id": "17210ee4-6797-4bc2-842b-541b4c21027c",
   "metadata": {},
   "outputs": [],
   "source": [
    "a = pd.DataFrame(analysises)"
   ]
  },
  {
   "cell_type": "code",
   "execution_count": 151,
   "id": "cb3307ce-09a2-4d09-9be1-7965c1fcd8d6",
   "metadata": {},
   "outputs": [
    {
     "data": {
      "text/html": [
       "<div>\n",
       "<style scoped>\n",
       "    .dataframe tbody tr th:only-of-type {\n",
       "        vertical-align: middle;\n",
       "    }\n",
       "\n",
       "    .dataframe tbody tr th {\n",
       "        vertical-align: top;\n",
       "    }\n",
       "\n",
       "    .dataframe thead th {\n",
       "        text-align: right;\n",
       "    }\n",
       "</style>\n",
       "<table border=\"1\" class=\"dataframe\">\n",
       "  <thead>\n",
       "    <tr style=\"text-align: right;\">\n",
       "      <th></th>\n",
       "      <th>ranking_metric</th>\n",
       "      <th>position_type</th>\n",
       "      <th>grouping_type</th>\n",
       "      <th>selection_type</th>\n",
       "      <th>allocation_type</th>\n",
       "      <th>stoploss</th>\n",
       "      <th>num_of_groups</th>\n",
       "      <th>leverage</th>\n",
       "      <th>pnl</th>\n",
       "      <th>raw_pnl</th>\n",
       "      <th>downside</th>\n",
       "      <th>coefficient_of_variation</th>\n",
       "      <th>portfolio_std</th>\n",
       "      <th>sharpe_ratio</th>\n",
       "      <th>tracking_error</th>\n",
       "      <th>information_ratio</th>\n",
       "    </tr>\n",
       "  </thead>\n",
       "  <tbody>\n",
       "    <tr>\n",
       "      <th>0</th>\n",
       "      <td>ema</td>\n",
       "      <td>long</td>\n",
       "      <td>STANDARD_DEV</td>\n",
       "      <td>top_blacklist</td>\n",
       "      <td>risk</td>\n",
       "      <td>1</td>\n",
       "      <td>1</td>\n",
       "      <td>1</td>\n",
       "      <td>4.195035</td>\n",
       "      <td>5.089982</td>\n",
       "      <td>1.298321</td>\n",
       "      <td>3.660556</td>\n",
       "      <td>1.146010</td>\n",
       "      <td>2.787131</td>\n",
       "      <td>1.146368</td>\n",
       "      <td>2.786263</td>\n",
       "    </tr>\n",
       "    <tr>\n",
       "      <th>2</th>\n",
       "      <td>sma</td>\n",
       "      <td>long</td>\n",
       "      <td>STANDARD_DEV</td>\n",
       "      <td>top_blacklist</td>\n",
       "      <td>risk</td>\n",
       "      <td>1</td>\n",
       "      <td>1</td>\n",
       "      <td>1</td>\n",
       "      <td>4.173592</td>\n",
       "      <td>5.039673</td>\n",
       "      <td>1.299119</td>\n",
       "      <td>3.681172</td>\n",
       "      <td>1.133767</td>\n",
       "      <td>2.798316</td>\n",
       "      <td>1.134314</td>\n",
       "      <td>2.796967</td>\n",
       "    </tr>\n",
       "    <tr>\n",
       "      <th>5</th>\n",
       "      <td>roc</td>\n",
       "      <td>long</td>\n",
       "      <td>STANDARD_DEV</td>\n",
       "      <td>bottom_blacklist</td>\n",
       "      <td>risk</td>\n",
       "      <td>1</td>\n",
       "      <td>1</td>\n",
       "      <td>1</td>\n",
       "      <td>3.455331</td>\n",
       "      <td>4.279436</td>\n",
       "      <td>1.221459</td>\n",
       "      <td>3.912558</td>\n",
       "      <td>0.883139</td>\n",
       "      <td>2.779153</td>\n",
       "      <td>0.883931</td>\n",
       "      <td>2.776662</td>\n",
       "    </tr>\n",
       "    <tr>\n",
       "      <th>7</th>\n",
       "      <td>health_check</td>\n",
       "      <td>long</td>\n",
       "      <td>STANDARD_DEV</td>\n",
       "      <td>bottom_blacklist</td>\n",
       "      <td>risk</td>\n",
       "      <td>1</td>\n",
       "      <td>1</td>\n",
       "      <td>1</td>\n",
       "      <td>2.750063</td>\n",
       "      <td>3.185854</td>\n",
       "      <td>1.217153</td>\n",
       "      <td>4.520726</td>\n",
       "      <td>0.608323</td>\n",
       "      <td>2.875296</td>\n",
       "      <td>0.609468</td>\n",
       "      <td>2.869897</td>\n",
       "    </tr>\n",
       "    <tr>\n",
       "      <th>6</th>\n",
       "      <td>health_check</td>\n",
       "      <td>long</td>\n",
       "      <td>STANDARD_DEV</td>\n",
       "      <td>top_blacklist</td>\n",
       "      <td>risk</td>\n",
       "      <td>1</td>\n",
       "      <td>1</td>\n",
       "      <td>1</td>\n",
       "      <td>0.641519</td>\n",
       "      <td>0.698161</td>\n",
       "      <td>0.892964</td>\n",
       "      <td>6.655734</td>\n",
       "      <td>0.096386</td>\n",
       "      <td>-3.729125</td>\n",
       "      <td>0.094767</td>\n",
       "      <td>-3.792821</td>\n",
       "    </tr>\n",
       "    <tr>\n",
       "      <th>4</th>\n",
       "      <td>roc</td>\n",
       "      <td>long</td>\n",
       "      <td>STANDARD_DEV</td>\n",
       "      <td>top_blacklist</td>\n",
       "      <td>risk</td>\n",
       "      <td>1</td>\n",
       "      <td>1</td>\n",
       "      <td>1</td>\n",
       "      <td>0.536126</td>\n",
       "      <td>0.561147</td>\n",
       "      <td>0.856319</td>\n",
       "      <td>4.301965</td>\n",
       "      <td>0.124624</td>\n",
       "      <td>-3.729854</td>\n",
       "      <td>0.121941</td>\n",
       "      <td>-3.811915</td>\n",
       "    </tr>\n",
       "    <tr>\n",
       "      <th>3</th>\n",
       "      <td>sma</td>\n",
       "      <td>long</td>\n",
       "      <td>STANDARD_DEV</td>\n",
       "      <td>bottom_blacklist</td>\n",
       "      <td>risk</td>\n",
       "      <td>1</td>\n",
       "      <td>1</td>\n",
       "      <td>1</td>\n",
       "      <td>0.435206</td>\n",
       "      <td>0.463192</td>\n",
       "      <td>0.824251</td>\n",
       "      <td>2.854604</td>\n",
       "      <td>0.152458</td>\n",
       "      <td>-3.710853</td>\n",
       "      <td>0.149800</td>\n",
       "      <td>-3.776688</td>\n",
       "    </tr>\n",
       "    <tr>\n",
       "      <th>1</th>\n",
       "      <td>ema</td>\n",
       "      <td>long</td>\n",
       "      <td>STANDARD_DEV</td>\n",
       "      <td>bottom_blacklist</td>\n",
       "      <td>risk</td>\n",
       "      <td>1</td>\n",
       "      <td>1</td>\n",
       "      <td>1</td>\n",
       "      <td>0.436451</td>\n",
       "      <td>0.462161</td>\n",
       "      <td>0.830666</td>\n",
       "      <td>2.839249</td>\n",
       "      <td>0.153721</td>\n",
       "      <td>-3.672263</td>\n",
       "      <td>0.150990</td>\n",
       "      <td>-3.738687</td>\n",
       "    </tr>\n",
       "  </tbody>\n",
       "</table>\n",
       "</div>"
      ],
      "text/plain": [
       "  ranking_metric position_type grouping_type    selection_type  \\\n",
       "0            ema          long  STANDARD_DEV     top_blacklist   \n",
       "2            sma          long  STANDARD_DEV     top_blacklist   \n",
       "5            roc          long  STANDARD_DEV  bottom_blacklist   \n",
       "7   health_check          long  STANDARD_DEV  bottom_blacklist   \n",
       "6   health_check          long  STANDARD_DEV     top_blacklist   \n",
       "4            roc          long  STANDARD_DEV     top_blacklist   \n",
       "3            sma          long  STANDARD_DEV  bottom_blacklist   \n",
       "1            ema          long  STANDARD_DEV  bottom_blacklist   \n",
       "\n",
       "  allocation_type  stoploss  num_of_groups  leverage       pnl   raw_pnl  \\\n",
       "0            risk         1              1         1  4.195035  5.089982   \n",
       "2            risk         1              1         1  4.173592  5.039673   \n",
       "5            risk         1              1         1  3.455331  4.279436   \n",
       "7            risk         1              1         1  2.750063  3.185854   \n",
       "6            risk         1              1         1  0.641519  0.698161   \n",
       "4            risk         1              1         1  0.536126  0.561147   \n",
       "3            risk         1              1         1  0.435206  0.463192   \n",
       "1            risk         1              1         1  0.436451  0.462161   \n",
       "\n",
       "   downside  coefficient_of_variation  portfolio_std  sharpe_ratio  \\\n",
       "0  1.298321                  3.660556       1.146010      2.787131   \n",
       "2  1.299119                  3.681172       1.133767      2.798316   \n",
       "5  1.221459                  3.912558       0.883139      2.779153   \n",
       "7  1.217153                  4.520726       0.608323      2.875296   \n",
       "6  0.892964                  6.655734       0.096386     -3.729125   \n",
       "4  0.856319                  4.301965       0.124624     -3.729854   \n",
       "3  0.824251                  2.854604       0.152458     -3.710853   \n",
       "1  0.830666                  2.839249       0.153721     -3.672263   \n",
       "\n",
       "   tracking_error  information_ratio  \n",
       "0        1.146368           2.786263  \n",
       "2        1.134314           2.796967  \n",
       "5        0.883931           2.776662  \n",
       "7        0.609468           2.869897  \n",
       "6        0.094767          -3.792821  \n",
       "4        0.121941          -3.811915  \n",
       "3        0.149800          -3.776688  \n",
       "1        0.150990          -3.738687  "
      ]
     },
     "execution_count": 151,
     "metadata": {},
     "output_type": "execute_result"
    }
   ],
   "source": [
    "metric = \"raw_pnl\"\n",
    "dropped_columns = [\"date\",\"risk_type\",\"max_price\",\"min_price\",\"max_market_cap\",\"min_market_cap\",\"timeframe\",\"selection_percentage\",\"rolling_window\",\"portfolio\"]\n",
    "filtered_a = a.drop(dropped_columns,axis=1).sort_values(metric,ascending=False)\n",
    "top = a.sort_values(metric,ascending=False).head(20).to_dict(\"records\")[0]\n",
    "filtered_a.head(20)"
   ]
  },
  {
   "cell_type": "code",
   "execution_count": 152,
   "id": "b234db94-0cf4-400f-a020-67a4d052f7c0",
   "metadata": {},
   "outputs": [],
   "source": [
    "pm = top[\"portfolio\"]\n",
    "trades = pm.trades(simulation.copy())\n",
    "trades = p.additional_date_columns(trades)\n",
    "trades = trades.groupby(\"day\").agg({\"date\":\"last\",\"weighted_return\":\"mean\",\"return\":\"mean\",\"market_cap\":\"mean\"}).reset_index().sort_values(\"date\")\n",
    "trades = p.additional_date_columns(trades)\n",
    "portfolio = pm.portfolio(trades.copy(),benchmark.copy())\n",
    "portfolio = p.additional_date_columns(portfolio)"
   ]
  },
  {
   "cell_type": "code",
   "execution_count": 153,
   "id": "cb463876-33a8-4186-b257-2bff9bc367b0",
   "metadata": {},
   "outputs": [
    {
     "data": {
      "image/png": "[encoded data removed]",
      "text/plain": [
       "<Figure size 640x480 with 1 Axes>"
      ]
     },
     "metadata": {},
     "output_type": "display_data"
    }
   ],
   "source": [
    "averaged_portfolio = portfolio.groupby(\"weekday\").agg({\"weighted_return\":\"mean\",\"return\":\"mean\"}).reset_index()\n",
    "averaged_portfolio[\"pv\"] = averaged_portfolio[\"weighted_return\"]\n",
    "plt.plot(averaged_portfolio[\"pv\"])\n",
    "plt.show()"
   ]
  },
  {
   "cell_type": "code",
   "execution_count": 154,
   "id": "eee3b894-703e-46bd-9f14-3216ab7f4267",
   "metadata": {},
   "outputs": [],
   "source": [
    "orivault.connect()\n",
    "orivault.drop(\"results\")\n",
    "orivault.store(\"results\",pd.DataFrame([top]).drop(\"portfolio\",axis=1))\n",
    "orivault.disconnect()"
   ]
  }
 ],
 "metadata": {
  "kernelspec": {
   "display_name": "Python 3 (ipykernel)",
   "language": "python",
   "name": "python3"
  },
  "language_info": {
   "codemirror_mode": {
    "name": "ipython",
    "version": 3
   },
   "file_extension": ".py",
   "mimetype": "text/x-python",
   "name": "python",
   "nbconvert_exporter": "python",
   "pygments_lexer": "ipython3",
   "version": "3.11.9"
  }
 },
 "nbformat": 4,
 "nbformat_minor": 5
}
