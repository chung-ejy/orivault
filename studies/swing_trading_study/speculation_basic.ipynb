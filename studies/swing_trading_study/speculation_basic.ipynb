{
 "cells": [
  {
   "cell_type": "code",
   "execution_count": 1,
   "id": "246c49f1-95ae-48c8-a1c2-a5c621cc768f",
   "metadata": {},
   "outputs": [],
   "source": [
    "## PATH settings\n",
    "import os\n",
    "import sys\n",
    "project_root = os.path.abspath(os.path.join(os.getcwd(), '../../'))\n",
    "sys.path.append(project_root)\n",
    "COMMON_PATH = os.path.join(project_root, 'common')"
   ]
  },
  {
   "cell_type": "code",
   "execution_count": 2,
   "id": "b3f7ffcc-42d9-4090-99b3-6479955e1a5f",
   "metadata": {},
   "outputs": [],
   "source": [
    "## Bespoke class imports\n",
    "from common.database.adatabase import ADatabase\n",
    "from common.processor.processor import Processor as p\n",
    "from financial_common.risk.rolling_factor_analysis import RollingFactorAnalysis\n",
    "from financial_common.risk.single_index_capm import SingleIndexCAPM\n",
    "from financial_common.indicator.indicator import Indicator\n",
    "from financial_common.risk.benchmark import Benchmark\n",
    "from financial_common.portfolio_management.metrics import Metrics\n",
    "from financial_common.portfolio_management.portfolio_selection import PortfolioSelection\n",
    "from financial_common.risk.risk_type import RiskType\n",
    "import numpy as np"
   ]
  },
  {
   "cell_type": "code",
   "execution_count": 3,
   "id": "5e602193-3097-4687-bd19-00f3b8bff5d4",
   "metadata": {},
   "outputs": [],
   "source": [
    "## Import standard packages\n",
    "from datetime import timedelta\n",
    "import matplotlib.pyplot as plt\n",
    "from tqdm import tqdm\n",
    "import pandas as pd\n",
    "from time import sleep\n",
    "import copy"
   ]
  },
  {
   "cell_type": "code",
   "execution_count": 4,
   "id": "01317ec8-a56f-4e96-907f-3b07b4d80013",
   "metadata": {},
   "outputs": [],
   "source": [
    "market = ADatabase(\"market\")\n",
    "fred = ADatabase(\"fred\")"
   ]
  },
  {
   "cell_type": "code",
   "execution_count": 5,
   "id": "1e37c28f-be14-4d2d-b2fa-d36cbd588168",
   "metadata": {},
   "outputs": [],
   "source": [
    "## Retrieve existing stocks \n",
    "market.connect()\n",
    "index = market.retrieve(\"ticker_overview\")\n",
    "market.disconnect()\n",
    "sic_codes = pd.read_csv(\"../../csv_files/sic_codes.csv\").rename(columns={\"SIC Code\":\"sic_code\",\"Office\":\"office\"}).dropna()\n",
    "index[\"sic_code\"] = index[\"sic_code\"].fillna(0).astype(int)\n",
    "sic_codes[\"sic_code\"] = sic_codes[\"sic_code\"].fillna(0).astype(int)\n",
    "index = index.merge(sic_codes[[\"sic_code\",\"office\"]],on=\"sic_code\")"
   ]
  },
  {
   "cell_type": "code",
   "execution_count": 6,
   "id": "2b7fa7a8-537c-4bb4-b1cd-6e7b5e223547",
   "metadata": {},
   "outputs": [
    {
     "name": "stderr",
     "output_type": "stream",
     "text": [
      "100%|███████████████████████████████████████████████████████████████████████████████████████████████████████████████████████████████████████████████████████| 4006/4006 [03:02<00:00, 21.91it/s]\n"
     ]
    }
   ],
   "source": [
    "market.connect()\n",
    "prices = []\n",
    "for ticker in tqdm(index[\"ticker\"]): \n",
    "    try:\n",
    "        price = market.query(\"prices\", {\"ticker\": ticker})\n",
    "        if price.index.size > 150:\n",
    "            price = p.lower_column(price)\n",
    "            price = p.utc_date(price)\n",
    "        \n",
    "            price.sort_values(\"date\", inplace=True)\n",
    "            price = p.additional_date_columns(price)\n",
    "            for member in Indicator:\n",
    "                price = member.calculate(price)\n",
    "            for member in RiskType:\n",
    "                price = member.apply(price)\n",
    "            prices.append(price)\n",
    "    except Exception as e:\n",
    "        print(str(e))\n",
    "        continue\n",
    "market.disconnect()"
   ]
  },
  {
   "cell_type": "code",
   "execution_count": 12,
   "id": "fa8c4884-70d7-48aa-a225-5a4d35915097",
   "metadata": {},
   "outputs": [
    {
     "data": {
      "text/plain": [
       "Index(['date', 'close', 'high', 'low', 'open', 'volume', 'adjclose', 'adjhigh',\n",
       "       'adjlow', 'adjopen', 'adjvolume', 'divcash', 'splitfactor', 'ticker',\n",
       "       'year', 'month', 'quarter', 'week', 'reference_price',\n",
       "       'reference_volume', 'reference_high', 'reference_low',\n",
       "       'rolling_dollar_volume', 'adr', 'sma', 'ema', 'bollinger_upper',\n",
       "       'bollinger_lower', 'momentum', 'roc', 'williams_r', 'obv', 'vwap',\n",
       "       'market_impact', 'atr', 'coefficient_of_variation', 'name',\n",
       "       'market_cap', 'office', 'sic_description', 'asset_class'],\n",
       "      dtype='object')"
      ]
     },
     "execution_count": 12,
     "metadata": {},
     "output_type": "execute_result"
    }
   ],
   "source": [
    "model_end = 2015\n",
    "backtest_end = 2025\n",
    "simulation = pd.concat(prices).merge(index[[\"ticker\",\"name\",\"market_cap\",\"office\",\"sic_description\"]],on=\"ticker\",how=\"left\")\n",
    "simulation[\"market_cap\"] = simulation[\"market_cap\"].astype(float)\n",
    "simulation[\"asset_class\"] = \"common_stock\"\n",
    "## subsetting backtesting data\n",
    "simulation = simulation[(simulation[\"year\"]>=model_end) & (simulation[\"year\"]<backtest_end)]\n",
    "tickers = list(simulation[simulation[\"year\"]==model_end][\"ticker\"].unique())\n",
    "\n",
    "simulation.sort_values(\"date\", inplace=True)\n",
    "simulation.columns"
   ]
  },
  {
   "cell_type": "code",
   "execution_count": 13,
   "id": "06a6d3b3-44e8-4c3c-b39d-074c98f8ab76",
   "metadata": {},
   "outputs": [],
   "source": [
    "## Defining Benchmark\n",
    "market.connect()\n",
    "benchmark = market.query(\"prices\",{\"ticker\":\"JPM\"})\n",
    "market.disconnect()\n",
    "benchmark = Benchmark.convert_to_benchmark(benchmark,\"adjclose\")"
   ]
  },
  {
   "cell_type": "code",
   "execution_count": 14,
   "id": "eb7133b8-a899-4282-b201-f5e8869ad634",
   "metadata": {},
   "outputs": [],
   "source": [
    "portfolios = PortfolioSelection.generate_possible_portfolios(group_percentages=[0.5])"
   ]
  },
  {
   "cell_type": "code",
   "execution_count": 15,
   "id": "08b49c03-5601-41e9-8efa-27e0d32d81ea",
   "metadata": {},
   "outputs": [],
   "source": [
    "additional_portfolios = []\n",
    "\n",
    "for portfolio in portfolios:\n",
    "    for member in Indicator:\n",
    "        portfolio_copy = copy.deepcopy(portfolio)\n",
    "        portfolio_copy.ranking_metric = member.label\n",
    "        additional_portfolios.append(portfolio_copy)\n"
   ]
  },
  {
   "cell_type": "code",
   "execution_count": null,
   "id": "42cd7230-3773-4cfc-bfce-31664263cfa1",
   "metadata": {},
   "outputs": [
    {
     "name": "stderr",
     "output_type": "stream",
     "text": [
      " 77%|██████████████████████████████████████████████████████████████████████████████████████████████████████████████████▍                                  | 719/936 [1:45:29<1:00:59, 16.86s/it]"
     ]
    }
   ],
   "source": [
    "analysises = []\n",
    "for portfolio in tqdm(additional_portfolios):\n",
    "    try:\n",
    "        trades = portfolio.trades(simulation.copy())\n",
    "        performance = portfolio.portfolio(trades.copy(),benchmark.copy())\n",
    "        metrics = Metrics.performance(trades,performance)\n",
    "        results = {**portfolio.to_dict(),**metrics.copy()}\n",
    "        results[\"portfolio\"] = portfolio\n",
    "        analysises.append(results)\n",
    "    except Exception as e:\n",
    "        print(str(e))\n",
    "        continue"
   ]
  },
  {
   "cell_type": "code",
   "execution_count": null,
   "id": "17210ee4-6797-4bc2-842b-541b4c21027c",
   "metadata": {},
   "outputs": [],
   "source": [
    "a = pd.DataFrame(analysises)\n",
    "a.columns"
   ]
  },
  {
   "cell_type": "code",
   "execution_count": null,
   "id": "cb3307ce-09a2-4d09-9be1-7965c1fcd8d6",
   "metadata": {},
   "outputs": [],
   "source": [
    "a.reset_index().drop(\"date\",axis=1).sort_values(\"pnl\",ascending=False).head(20)"
   ]
  },
  {
   "cell_type": "code",
   "execution_count": null,
   "id": "c49245a2-f372-487a-9ec0-824f0319adc6",
   "metadata": {},
   "outputs": [],
   "source": [
    "a[\"color\"] = [\"blue\" if x == \"top\" else \"red\" if x == \"bottom\"  else \"green\" for x in a[\"selection_type\"]]\n",
    "a[\"return_to_risk\"] = a[\"pnl\"] / a[\"portfolio_std\"]"
   ]
  },
  {
   "cell_type": "code",
   "execution_count": null,
   "id": "d0b82c5c-903b-45b2-8fd6-93ed5e7baafd",
   "metadata": {},
   "outputs": [],
   "source": [
    "fig, axes = plt.subplots(1, 2, figsize=(12, 6), sharey=True)\n",
    "\n",
    "# Titles for each subplot\n",
    "titles = [\"Long\", \"Short\"]\n",
    "\n",
    "# Iterate over directions and corresponding axes\n",
    "for i, position_type in enumerate([\"long\", \"short\"]):\n",
    "    d_analysis = a[a[\"position_type\"] == position_type]\n",
    "    axes[i].scatter(\n",
    "        d_analysis[\"portfolio_std\"],\n",
    "        d_analysis[\"pnl\"],\n",
    "        c=d_analysis[\"color\"],\n",
    "        alpha=0.8,\n",
    "        edgecolors=\"w\",\n",
    "    )\n",
    "    axes[i].set_title(titles[i])\n",
    "    axes[i].set_xlabel(\"return_to_risk\")\n",
    "    axes[i].set_ylabel(\"sharpe_ratio\" if i == 0 else \"\")  # Only label y-axis on the first plot\n",
    "\n",
    "# Adjust layout for better spacing\n",
    "plt.tight_layout()\n",
    "\n",
    "# Show the combined plot\n",
    "plt.show()"
   ]
  },
  {
   "cell_type": "code",
   "execution_count": null,
   "id": "34947823-29aa-4ef1-ac0b-7d034240f662",
   "metadata": {},
   "outputs": [],
   "source": [
    "top = a[(a[\"grouping_type\"]==\"OFFICE\")].sort_values(\"pnl\",ascending=False).head(1).to_dict(\"records\")[0]\n",
    "top"
   ]
  },
  {
   "cell_type": "code",
   "execution_count": null,
   "id": "2406ef3b-9204-4dd7-8fa8-390d96256e8b",
   "metadata": {},
   "outputs": [],
   "source": [
    "pm = top[\"portfolio\"]\n",
    "trades = pm.trades(simulation.copy()).merge(index[[\"ticker\",\"name\",\"market_cap\"]],on=\"ticker\",how=\"left\")\n",
    "trades = p.additional_date_columns(trades)\n",
    "portfolio = pm.portfolio(trades.copy(),benchmark.copy())\n",
    "portfolio = p.additional_date_columns(portfolio)"
   ]
  },
  {
   "cell_type": "code",
   "execution_count": null,
   "id": "47031d9b-815c-469a-b28b-ee81cfac5e1a",
   "metadata": {},
   "outputs": [],
   "source": [
    "trades.columns"
   ]
  },
  {
   "cell_type": "code",
   "execution_count": null,
   "id": "0e6822cf-c157-4ded-9464-7913982a0fb6",
   "metadata": {},
   "outputs": [],
   "source": [
    "portfolio['Year-Quarter'] = portfolio[\"year\"].astype(str) + \"q\" + portfolio[\"quarter\"].astype(str)\n",
    "ax = portfolio[[\"Year-Quarter\",\"pnl\",\"benchmark_pnl\"]].set_index(\"Year-Quarter\").plot(\n",
    "    kind=\"line\",\n",
    "    figsize=(12, 6),\n",
    "    title=\"Mean Returns by Exposure per Year and Quarter\"\n",
    ")\n",
    "\n",
    "# Set y-axis to have more precise ticks\n",
    "ax.tick_params(axis='y', direction='in', length=6)  # Adjust y-tick direction and length\n",
    "ax.yaxis.set_major_formatter(plt.FuncFormatter(lambda x, _: f'{x:.4f}'))  # Format y-ticks with 4 decimal places\n",
    "\n",
    "# Move y-ticks to the right side\n",
    "ax.yaxis.set_tick_params(which='both', direction='inout', length=6, labelleft=False, labelright=True)\n",
    "\n",
    "# Optionally adjust the number of ticks for better precision\n",
    "ax.yaxis.set_major_locator(plt.MaxNLocator(integer=False, prune='both'))\n",
    "\n",
    "# Add grid lines\n",
    "ax.grid(True, which='both', axis='both', linestyle='--', linewidth=0.7)\n",
    "\n",
    "# Display the plot\n",
    "plt.tight_layout()\n",
    "plt.show()"
   ]
  },
  {
   "cell_type": "code",
   "execution_count": null,
   "id": "e0b25cda-add7-4959-b688-17694e72e7d6",
   "metadata": {},
   "outputs": [],
   "source": [
    "trades[[\"office\",\"return\"]].groupby(\"office\").mean().sort_values(\"return\",ascending=False)"
   ]
  },
  {
   "cell_type": "code",
   "execution_count": null,
   "id": "ade9fb1b-5b1d-4dcd-8706-82fa610ae6eb",
   "metadata": {},
   "outputs": [],
   "source": [
    "trades.sort_values(\"return\",ascending=False)"
   ]
  }
 ],
 "metadata": {
  "kernelspec": {
   "display_name": "Python 3 (ipykernel)",
   "language": "python",
   "name": "python3"
  },
  "language_info": {
   "codemirror_mode": {
    "name": "ipython",
    "version": 3
   },
   "file_extension": ".py",
   "mimetype": "text/x-python",
   "name": "python",
   "nbconvert_exporter": "python",
   "pygments_lexer": "ipython3",
   "version": "3.11.9"
  }
 },
 "nbformat": 4,
 "nbformat_minor": 5
}
