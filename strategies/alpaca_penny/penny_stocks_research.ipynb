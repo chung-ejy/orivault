{
 "cells": [
  {
   "cell_type": "code",
   "execution_count": 2,
   "id": "246c49f1-95ae-48c8-a1c2-a5c621cc768f",
   "metadata": {},
   "outputs": [],
   "source": [
    "## PATH settings\n",
    "import os\n",
    "import sys\n",
    "project_root = os.path.abspath(os.path.join(os.getcwd(), '../../'))\n",
    "sys.path.append(project_root)\n",
    "COMMON_PATH = os.path.join(project_root, 'common')"
   ]
  },
  {
   "cell_type": "code",
   "execution_count": 3,
   "id": "b3f7ffcc-42d9-4090-99b3-6479955e1a5f",
   "metadata": {},
   "outputs": [],
   "source": [
    "## Bespoke class imports\n",
    "from common.database.adatabase import ADatabase\n",
    "from common.processor.processor import Processor as p\n",
    "from financial_common.indicator.indicator import Indicator\n",
    "from financial_common.risk.benchmark import Benchmark\n",
    "from financial_common.portfolio_management.kpi import KPI\n",
    "from financial_common.metric.metric import Metric\n",
    "from financial_common.portfolio_management.portfolio_selection import PortfolioSelection\n",
    "from financial_common.risk.risk_type import RiskType\n",
    "import numpy as np\n",
    "import matplotlib.pyplot as plt"
   ]
  },
  {
   "cell_type": "code",
   "execution_count": 4,
   "id": "5e602193-3097-4687-bd19-00f3b8bff5d4",
   "metadata": {},
   "outputs": [],
   "source": [
    "## Import standard packages\n",
    "from datetime import timedelta, datetime\n",
    "import matplotlib.pyplot as plt\n",
    "from tqdm import tqdm\n",
    "import pandas as pd\n",
    "from time import sleep\n",
    "import copy"
   ]
  },
  {
   "cell_type": "code",
   "execution_count": 5,
   "id": "01317ec8-a56f-4e96-907f-3b07b4d80013",
   "metadata": {},
   "outputs": [],
   "source": [
    "market = ADatabase(\"market\")\n",
    "fred = ADatabase(\"fred\")\n",
    "orivault = ADatabase(\"ori\")"
   ]
  },
  {
   "cell_type": "code",
   "execution_count": 6,
   "id": "1e37c28f-be14-4d2d-b2fa-d36cbd588168",
   "metadata": {},
   "outputs": [],
   "source": [
    "## Retrieve existing stocks \n",
    "market.connect()\n",
    "index = market.retrieve(\"index\")\n",
    "market.disconnect()"
   ]
  },
  {
   "cell_type": "code",
   "execution_count": 7,
   "id": "06a6d3b3-44e8-4c3c-b39d-074c98f8ab76",
   "metadata": {},
   "outputs": [],
   "source": [
    "## Defining Benchmark\n",
    "market.connect()\n",
    "benchmark = market.query(\"prices\",{\"ticker\":\"JPM\"})\n",
    "market.disconnect()\n",
    "benchmark = Benchmark.convert_to_benchmark(benchmark,\"adjclose\")"
   ]
  },
  {
   "cell_type": "code",
   "execution_count": 9,
   "id": "09587a4a-c54f-458c-ac5f-bca6b33405ff",
   "metadata": {},
   "outputs": [
    {
     "name": "stderr",
     "output_type": "stream",
     "text": [
      "  2%|█████▋                                                                                                                                                                                                                             | 280/11272 [00:06<03:07, 58.62it/s]"
     ]
    },
    {
     "name": "stdout",
     "output_type": "stream",
     "text": [
      "'adjclose'\n"
     ]
    },
    {
     "name": "stderr",
     "output_type": "stream",
     "text": [
      " 15%|██████████████████████████████████▍                                                                                                                                                                                               | 1715/11272 [00:38<03:32, 45.01it/s]"
     ]
    },
    {
     "name": "stdout",
     "output_type": "stream",
     "text": [
      "'adjclose'\n"
     ]
    },
    {
     "name": "stderr",
     "output_type": "stream",
     "text": [
      " 34%|█████████████████████████████████████████████████████████████████████████████▊                                                                                                                                                    | 3878/11272 [01:28<02:30, 49.03it/s]"
     ]
    },
    {
     "name": "stdout",
     "output_type": "stream",
     "text": [
      "'adjclose'\n"
     ]
    },
    {
     "name": "stderr",
     "output_type": "stream",
     "text": [
      " 37%|████████████████████████████████████████████████████████████████████████████████████▌                                                                                                                                             | 4218/11272 [01:37<02:37, 44.78it/s]"
     ]
    },
    {
     "name": "stdout",
     "output_type": "stream",
     "text": [
      "'adjclose'\n",
      "'adjclose'\n"
     ]
    },
    {
     "name": "stderr",
     "output_type": "stream",
     "text": [
      " 45%|█████████████████████████████████████████████████████████████████████████████████████████████████████▍                                                                                                                            | 5061/11272 [02:00<02:24, 43.05it/s]"
     ]
    },
    {
     "name": "stdout",
     "output_type": "stream",
     "text": [
      "'adjclose'\n"
     ]
    },
    {
     "name": "stderr",
     "output_type": "stream",
     "text": [
      " 45%|██████████████████████████████████████████████████████████████████████████████████████████████████████▍                                                                                                                           | 5109/11272 [02:01<02:02, 50.27it/s]"
     ]
    },
    {
     "name": "stdout",
     "output_type": "stream",
     "text": [
      "'adjclose'\n"
     ]
    },
    {
     "name": "stderr",
     "output_type": "stream",
     "text": [
      " 47%|█████████████████████████████████████████████████████████████████████████████████████████████████████████▏                                                                                                                        | 5247/11272 [02:04<01:56, 51.77it/s]"
     ]
    },
    {
     "name": "stdout",
     "output_type": "stream",
     "text": [
      "'adjclose'\n"
     ]
    },
    {
     "name": "stderr",
     "output_type": "stream",
     "text": [
      " 48%|███████████████████████████████████████████████████████████████████████████████████████████████████████████▊                                                                                                                      | 5375/11272 [02:07<02:13, 44.20it/s]"
     ]
    },
    {
     "name": "stdout",
     "output_type": "stream",
     "text": [
      "'adjclose'\n"
     ]
    },
    {
     "name": "stderr",
     "output_type": "stream",
     "text": [
      "100%|█████████████████████████████████████████████████████████████████████████████████████████████████████████████████████████████████████████████████████████████████████████████████████████████████████████████████████████████████| 11272/11272 [04:40<00:00, 40.24it/s]\n"
     ]
    }
   ],
   "source": [
    "rolling_window = 10\n",
    "market.connect()\n",
    "prices = []\n",
    "skips = 1\n",
    "model_end = 2021\n",
    "backtest_end = 2026\n",
    "for ticker in tqdm(index[\"ticker\"][::skips]): \n",
    "    try:\n",
    "        price = market.query(\"prices\", {\"ticker\": ticker})\n",
    "        price[\"market_cap\"] = price[\"adjclose\"] * price[\"volume\"]\n",
    "        if price.index.size > 150:\n",
    "            price = p.lower_column(price)\n",
    "            price = p.utc_date(price)\n",
    "            price = p.additional_date_columns(price)\n",
    "            price = price[(price[\"year\"]>=model_end) & (price[\"year\"]<backtest_end)]\n",
    "            price.sort_values(\"date\", inplace=True)\n",
    "            price[\"standard_dev\"] = 1\n",
    "            price[\"coefficient_of_variation\"] = 1\n",
    "            price = Metric.NEXT_CLOSE.calculate(price,timeframe=rolling_window)\n",
    "            price = Metric.NEXT_HIGH.calculate(price,timeframe=rolling_window)\n",
    "            price = Metric.NEXT_LOW.calculate(price,timeframe=rolling_window)\n",
    "            for member in Indicator:\n",
    "                price = member.calculate(price,timeframe=rolling_window)\n",
    "            prices.append(price.dropna())\n",
    "    except Exception as e:\n",
    "        print(str(e))\n",
    "        continue\n",
    "market.disconnect()"
   ]
  },
  {
   "cell_type": "code",
   "execution_count": 10,
   "id": "2212583d-6a1c-4721-a689-1bcaad1d5b2d",
   "metadata": {},
   "outputs": [
    {
     "data": {
      "text/plain": [
       "Index(['date', 'adjclose', 'high', 'low', 'volume', 'ticker', 'market_cap',\n",
       "       'year', 'month', 'quarter', 'week', 'day', 'weekday', 'standard_dev',\n",
       "       'coefficient_of_variation', 'next_close', 'next_high', 'next_low',\n",
       "       'optimal', 'adr', 'sma', 'sma_corr', 'ema', 'ema_corr', 'health_check',\n",
       "       'bollinger_upper', 'bollinger_lower', 'momentum', 'roc', 'williams_r',\n",
       "       'obv', 'vwap', 'market_impact', 'atr'],\n",
       "      dtype='object')"
      ]
     },
     "execution_count": 10,
     "metadata": {},
     "output_type": "execute_result"
    }
   ],
   "source": [
    "simulation = pd.concat(prices)\n",
    "simulation.sort_values(\"date\", inplace=True)\n",
    "simulation.columns"
   ]
  },
  {
   "cell_type": "code",
   "execution_count": 132,
   "id": "eb7133b8-a899-4282-b201-f5e8869ad634",
   "metadata": {},
   "outputs": [],
   "source": [
    "portfolios = PortfolioSelection.generate_possible_portfolios(\n",
    "                                                            ranking_metrics=[\n",
    "                                                                \"ema\",\"sma\",\"roc\",\"health_check\"\n",
    "                                                            ]\n",
    "                                                            ,num_of_groups=[1]\n",
    "                                                            ,group_percentages=[1]\n",
    "                                                            ,max_prices=[0.1]\n",
    "                                                            ,min_prices=[0.01]\n",
    "                                                            ,max_market_caps = [1000000]\n",
    "                                                            ,min_market_caps = [10000]\n",
    "                                                            ,stoplosses=[1]\n",
    "                                                            ,rolling_windows=[rolling_window]\n",
    "                                                            ,leverages=[1]\n",
    "                                                            )\n",
    "filtered_portfolios = []\n",
    "for portfolio in portfolios:\n",
    "    if portfolio.timeframe.value == \"day\" and \"blacklist\" in portfolio.selection_type.label \\\n",
    "        and portfolio.allocation_type.label == \"risk\" \\\n",
    "        and portfolio.ranking_metric != \"optimal\" \\\n",
    "        and portfolio.position_type.label == \"long\" and (\"standard_dev\" in portfolio.grouping_type.value) \\\n",
    "        and portfolio.max_price > portfolio.min_price:\n",
    "        filtered_portfolios.append(portfolio)"
   ]
  },
  {
   "cell_type": "code",
   "execution_count": 133,
   "id": "42cd7230-3773-4cfc-bfce-31664263cfa1",
   "metadata": {
    "scrolled": true
   },
   "outputs": [
    {
     "name": "stderr",
     "output_type": "stream",
     "text": [
      "100%|███████████████████████████████████████████████████████████████████████████████████████████████████████████████████████████████████████████████████████████████████████████████████████████████████████████████████████| 8/8 [01:48<00:00, 13.62s/it]\n"
     ]
    }
   ],
   "source": [
    "analysises = []\n",
    "for portfolio in tqdm(filtered_portfolios):\n",
    "    try:\n",
    "        trades = portfolio.trades(simulation.copy())\n",
    "        trades = p.additional_date_columns(trades)\n",
    "        trades = trades.groupby(\"weekday\").agg({\"date\":\"last\",\"weighted_return\":\"mean\",\"return\":\"mean\"}).reset_index().sort_values(\"date\")\n",
    "        trades[\"date\"] = trades.apply(lambda row: datetime.strptime(f\"{2025} {10} {row['weekday']+1}\", \"%Y %W %u\"), axis=1)\n",
    "        trades = p.additional_date_columns(trades)\n",
    "        trades.sort_values(\"date\")\n",
    "        performance = portfolio.portfolio(trades.copy(),benchmark.copy())\n",
    "        metrics = KPI.performance(trades,performance)\n",
    "        results = {**portfolio.to_dict(),**metrics.copy()}\n",
    "        results[\"portfolio\"] = portfolio\n",
    "        analysises.append(results)\n",
    "    except Exception as e:\n",
    "        print(str(e))\n",
    "        continue"
   ]
  },
  {
   "cell_type": "code",
   "execution_count": 134,
   "id": "17210ee4-6797-4bc2-842b-541b4c21027c",
   "metadata": {},
   "outputs": [],
   "source": [
    "a = pd.DataFrame(analysises)"
   ]
  },
  {
   "cell_type": "code",
   "execution_count": 135,
   "id": "cb3307ce-09a2-4d09-9be1-7965c1fcd8d6",
   "metadata": {},
   "outputs": [
    {
     "data": {
      "text/html": [
       "<div>\n",
       "<style scoped>\n",
       "    .dataframe tbody tr th:only-of-type {\n",
       "        vertical-align: middle;\n",
       "    }\n",
       "\n",
       "    .dataframe tbody tr th {\n",
       "        vertical-align: top;\n",
       "    }\n",
       "\n",
       "    .dataframe thead th {\n",
       "        text-align: right;\n",
       "    }\n",
       "</style>\n",
       "<table border=\"1\" class=\"dataframe\">\n",
       "  <thead>\n",
       "    <tr style=\"text-align: right;\">\n",
       "      <th></th>\n",
       "      <th>ranking_metric</th>\n",
       "      <th>position_type</th>\n",
       "      <th>grouping_type</th>\n",
       "      <th>selection_type</th>\n",
       "      <th>allocation_type</th>\n",
       "      <th>stoploss</th>\n",
       "      <th>num_of_groups</th>\n",
       "      <th>leverage</th>\n",
       "      <th>pnl</th>\n",
       "      <th>raw_pnl</th>\n",
       "      <th>downside</th>\n",
       "      <th>coefficient_of_variation</th>\n",
       "      <th>portfolio_std</th>\n",
       "      <th>sharpe_ratio</th>\n",
       "      <th>tracking_error</th>\n",
       "      <th>information_ratio</th>\n",
       "    </tr>\n",
       "  </thead>\n",
       "  <tbody>\n",
       "    <tr>\n",
       "      <th>5</th>\n",
       "      <td>roc</td>\n",
       "      <td>long</td>\n",
       "      <td>STANDARD_DEV</td>\n",
       "      <td>bottom_blacklist</td>\n",
       "      <td>risk</td>\n",
       "      <td>1</td>\n",
       "      <td>1</td>\n",
       "      <td>1</td>\n",
       "      <td>6.695520</td>\n",
       "      <td>10.373209</td>\n",
       "      <td>1.424252</td>\n",
       "      <td>3.165124</td>\n",
       "      <td>2.115406</td>\n",
       "      <td>2.691950</td>\n",
       "      <td>2.115188</td>\n",
       "      <td>2.692227</td>\n",
       "    </tr>\n",
       "    <tr>\n",
       "      <th>0</th>\n",
       "      <td>ema</td>\n",
       "      <td>long</td>\n",
       "      <td>STANDARD_DEV</td>\n",
       "      <td>top_blacklist</td>\n",
       "      <td>risk</td>\n",
       "      <td>1</td>\n",
       "      <td>1</td>\n",
       "      <td>1</td>\n",
       "      <td>6.917164</td>\n",
       "      <td>9.802856</td>\n",
       "      <td>1.445108</td>\n",
       "      <td>3.173833</td>\n",
       "      <td>2.179436</td>\n",
       "      <td>2.714561</td>\n",
       "      <td>2.179223</td>\n",
       "      <td>2.714826</td>\n",
       "    </tr>\n",
       "    <tr>\n",
       "      <th>2</th>\n",
       "      <td>sma</td>\n",
       "      <td>long</td>\n",
       "      <td>STANDARD_DEV</td>\n",
       "      <td>top_blacklist</td>\n",
       "      <td>risk</td>\n",
       "      <td>1</td>\n",
       "      <td>1</td>\n",
       "      <td>1</td>\n",
       "      <td>6.368184</td>\n",
       "      <td>9.102842</td>\n",
       "      <td>1.428081</td>\n",
       "      <td>3.233573</td>\n",
       "      <td>1.969395</td>\n",
       "      <td>2.725319</td>\n",
       "      <td>1.969158</td>\n",
       "      <td>2.725647</td>\n",
       "    </tr>\n",
       "    <tr>\n",
       "      <th>7</th>\n",
       "      <td>health_check</td>\n",
       "      <td>long</td>\n",
       "      <td>STANDARD_DEV</td>\n",
       "      <td>bottom_blacklist</td>\n",
       "      <td>risk</td>\n",
       "      <td>1</td>\n",
       "      <td>1</td>\n",
       "      <td>1</td>\n",
       "      <td>5.910489</td>\n",
       "      <td>9.060125</td>\n",
       "      <td>1.405310</td>\n",
       "      <td>3.336707</td>\n",
       "      <td>1.771354</td>\n",
       "      <td>2.771629</td>\n",
       "      <td>1.771542</td>\n",
       "      <td>2.771334</td>\n",
       "    </tr>\n",
       "    <tr>\n",
       "      <th>6</th>\n",
       "      <td>health_check</td>\n",
       "      <td>long</td>\n",
       "      <td>STANDARD_DEV</td>\n",
       "      <td>top_blacklist</td>\n",
       "      <td>risk</td>\n",
       "      <td>1</td>\n",
       "      <td>1</td>\n",
       "      <td>1</td>\n",
       "      <td>5.734737</td>\n",
       "      <td>8.975468</td>\n",
       "      <td>1.368361</td>\n",
       "      <td>3.284589</td>\n",
       "      <td>1.745953</td>\n",
       "      <td>2.711290</td>\n",
       "      <td>1.745606</td>\n",
       "      <td>2.711828</td>\n",
       "    </tr>\n",
       "    <tr>\n",
       "      <th>4</th>\n",
       "      <td>roc</td>\n",
       "      <td>long</td>\n",
       "      <td>STANDARD_DEV</td>\n",
       "      <td>top_blacklist</td>\n",
       "      <td>risk</td>\n",
       "      <td>1</td>\n",
       "      <td>1</td>\n",
       "      <td>1</td>\n",
       "      <td>4.465822</td>\n",
       "      <td>6.680989</td>\n",
       "      <td>1.297135</td>\n",
       "      <td>3.658929</td>\n",
       "      <td>1.220527</td>\n",
       "      <td>2.838830</td>\n",
       "      <td>1.220479</td>\n",
       "      <td>2.838940</td>\n",
       "    </tr>\n",
       "    <tr>\n",
       "      <th>3</th>\n",
       "      <td>sma</td>\n",
       "      <td>long</td>\n",
       "      <td>STANDARD_DEV</td>\n",
       "      <td>bottom_blacklist</td>\n",
       "      <td>risk</td>\n",
       "      <td>1</td>\n",
       "      <td>1</td>\n",
       "      <td>1</td>\n",
       "      <td>3.837082</td>\n",
       "      <td>6.672469</td>\n",
       "      <td>1.271292</td>\n",
       "      <td>3.847652</td>\n",
       "      <td>0.997253</td>\n",
       "      <td>2.843941</td>\n",
       "      <td>0.997525</td>\n",
       "      <td>2.843164</td>\n",
       "    </tr>\n",
       "    <tr>\n",
       "      <th>1</th>\n",
       "      <td>ema</td>\n",
       "      <td>long</td>\n",
       "      <td>STANDARD_DEV</td>\n",
       "      <td>bottom_blacklist</td>\n",
       "      <td>risk</td>\n",
       "      <td>1</td>\n",
       "      <td>1</td>\n",
       "      <td>1</td>\n",
       "      <td>3.743760</td>\n",
       "      <td>5.838464</td>\n",
       "      <td>1.277475</td>\n",
       "      <td>3.845114</td>\n",
       "      <td>0.973641</td>\n",
       "      <td>2.817062</td>\n",
       "      <td>0.974175</td>\n",
       "      <td>2.815516</td>\n",
       "    </tr>\n",
       "  </tbody>\n",
       "</table>\n",
       "</div>"
      ],
      "text/plain": [
       "  ranking_metric position_type grouping_type    selection_type  \\\n",
       "5            roc          long  STANDARD_DEV  bottom_blacklist   \n",
       "0            ema          long  STANDARD_DEV     top_blacklist   \n",
       "2            sma          long  STANDARD_DEV     top_blacklist   \n",
       "7   health_check          long  STANDARD_DEV  bottom_blacklist   \n",
       "6   health_check          long  STANDARD_DEV     top_blacklist   \n",
       "4            roc          long  STANDARD_DEV     top_blacklist   \n",
       "3            sma          long  STANDARD_DEV  bottom_blacklist   \n",
       "1            ema          long  STANDARD_DEV  bottom_blacklist   \n",
       "\n",
       "  allocation_type  stoploss  num_of_groups  leverage       pnl    raw_pnl  \\\n",
       "5            risk         1              1         1  6.695520  10.373209   \n",
       "0            risk         1              1         1  6.917164   9.802856   \n",
       "2            risk         1              1         1  6.368184   9.102842   \n",
       "7            risk         1              1         1  5.910489   9.060125   \n",
       "6            risk         1              1         1  5.734737   8.975468   \n",
       "4            risk         1              1         1  4.465822   6.680989   \n",
       "3            risk         1              1         1  3.837082   6.672469   \n",
       "1            risk         1              1         1  3.743760   5.838464   \n",
       "\n",
       "   downside  coefficient_of_variation  portfolio_std  sharpe_ratio  \\\n",
       "5  1.424252                  3.165124       2.115406      2.691950   \n",
       "0  1.445108                  3.173833       2.179436      2.714561   \n",
       "2  1.428081                  3.233573       1.969395      2.725319   \n",
       "7  1.405310                  3.336707       1.771354      2.771629   \n",
       "6  1.368361                  3.284589       1.745953      2.711290   \n",
       "4  1.297135                  3.658929       1.220527      2.838830   \n",
       "3  1.271292                  3.847652       0.997253      2.843941   \n",
       "1  1.277475                  3.845114       0.973641      2.817062   \n",
       "\n",
       "   tracking_error  information_ratio  \n",
       "5        2.115188           2.692227  \n",
       "0        2.179223           2.714826  \n",
       "2        1.969158           2.725647  \n",
       "7        1.771542           2.771334  \n",
       "6        1.745606           2.711828  \n",
       "4        1.220479           2.838940  \n",
       "3        0.997525           2.843164  \n",
       "1        0.974175           2.815516  "
      ]
     },
     "execution_count": 135,
     "metadata": {},
     "output_type": "execute_result"
    }
   ],
   "source": [
    "metric = \"raw_pnl\"\n",
    "dropped_columns = [\"date\",\"risk_type\",\"max_price\",\"min_price\",\"max_market_cap\",\"min_market_cap\",\"timeframe\",\"selection_percentage\",\"rolling_window\",\"portfolio\"]\n",
    "filtered_a = a.drop(dropped_columns,axis=1).sort_values(metric,ascending=False)\n",
    "top = a.sort_values(metric,ascending=False).head(20).to_dict(\"records\")[0]\n",
    "filtered_a.head(20)"
   ]
  },
  {
   "cell_type": "code",
   "execution_count": 136,
   "id": "b234db94-0cf4-400f-a020-67a4d052f7c0",
   "metadata": {},
   "outputs": [],
   "source": [
    "pm = top[\"portfolio\"]\n",
    "trades = pm.trades(simulation.copy())\n",
    "trades = p.additional_date_columns(trades)\n",
    "trades = trades.groupby(\"day\").agg({\"date\":\"last\",\"weighted_return\":\"mean\",\"return\":\"mean\",\"market_cap\":\"mean\"}).reset_index().sort_values(\"date\")\n",
    "trades = p.additional_date_columns(trades)\n",
    "portfolio = pm.portfolio(trades.copy(),benchmark.copy())\n",
    "portfolio = p.additional_date_columns(portfolio)"
   ]
  },
  {
   "cell_type": "code",
   "execution_count": 137,
   "id": "cb463876-33a8-4186-b257-2bff9bc367b0",
   "metadata": {},
   "outputs": [
    {
     "data": {
      "image/png": "[encoded data removed]",
      "text/plain": [
       "<Figure size 640x480 with 1 Axes>"
      ]
     },
     "metadata": {},
     "output_type": "display_data"
    }
   ],
   "source": [
    "averaged_portfolio = portfolio.groupby(\"weekday\").agg({\"weighted_return\":\"mean\",\"return\":\"mean\"}).reset_index()\n",
    "averaged_portfolio[\"pv\"] = averaged_portfolio[\"weighted_return\"]\n",
    "plt.plot(averaged_portfolio[\"pv\"].cumprod())\n",
    "plt.show()"
   ]
  },
  {
   "cell_type": "code",
   "execution_count": 138,
   "id": "eee3b894-703e-46bd-9f14-3216ab7f4267",
   "metadata": {},
   "outputs": [],
   "source": [
    "orivault.connect()\n",
    "orivault.drop(\"results\")\n",
    "orivault.store(\"results\",pd.DataFrame([top]).drop(\"portfolio\",axis=1))\n",
    "orivault.disconnect()"
   ]
  }
 ],
 "metadata": {
  "kernelspec": {
   "display_name": "Python 3 (ipykernel)",
   "language": "python",
   "name": "python3"
  },
  "language_info": {
   "codemirror_mode": {
    "name": "ipython",
    "version": 3
   },
   "file_extension": ".py",
   "mimetype": "text/x-python",
   "name": "python",
   "nbconvert_exporter": "python",
   "pygments_lexer": "ipython3",
   "version": "3.11.9"
  }
 },
 "nbformat": 4,
 "nbformat_minor": 5
}
