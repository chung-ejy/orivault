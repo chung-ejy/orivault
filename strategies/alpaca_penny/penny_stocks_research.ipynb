{
 "cells": [
  {
   "cell_type": "code",
   "execution_count": 1,
   "id": "246c49f1-95ae-48c8-a1c2-a5c621cc768f",
   "metadata": {},
   "outputs": [],
   "source": [
    "## PATH settings\n",
    "import os\n",
    "import sys\n",
    "project_root = os.path.abspath(os.path.join(os.getcwd(), '../../'))\n",
    "sys.path.append(project_root)\n",
    "COMMON_PATH = os.path.join(project_root, 'common')\n",
    "%load_ext autoreload\n",
    "%autoreload 2"
   ]
  },
  {
   "cell_type": "code",
   "execution_count": 2,
   "id": "b3f7ffcc-42d9-4090-99b3-6479955e1a5f",
   "metadata": {},
   "outputs": [],
   "source": [
    "## Bespoke class imports\n",
    "from common.database.adatabase import ADatabase\n",
    "from common.processor.processor import Processor as p\n",
    "from common.processor.utils import Utils\n",
    "from common.extractor.alpaca_extractor import AlpacaExtractor\n",
    "from financial_common.risk.benchmark import Benchmark\n",
    "from financial_common.portfolio_management.kpi import KPI\n",
    "from financial_common.metric.metric import Metric\n",
    "from financial_common.portfolio_management.portfolio_selection import PortfolioSelection\n",
    "from financial_common.risk.risk_type import RiskType\n",
    "from financial_common.indicator.indicator import Indicator\n",
    "import numpy as np\n",
    "import matplotlib.pyplot as plt\n",
    "from mpl_toolkits.mplot3d import Axes3D\n",
    "from scipy.stats.mstats import winsorize"
   ]
  },
  {
   "cell_type": "code",
   "execution_count": 3,
   "id": "5e602193-3097-4687-bd19-00f3b8bff5d4",
   "metadata": {},
   "outputs": [],
   "source": [
    "## Import standard packages\n",
    "from datetime import timedelta, datetime, timezone\n",
    "import matplotlib.pyplot as plt\n",
    "from tqdm import tqdm\n",
    "import pandas as pd\n",
    "from time import sleep\n",
    "import copy"
   ]
  },
  {
   "cell_type": "code",
   "execution_count": 4,
   "id": "01317ec8-a56f-4e96-907f-3b07b4d80013",
   "metadata": {},
   "outputs": [],
   "source": [
    "market = ADatabase(\"market\")\n",
    "fred = ADatabase(\"fred\")\n",
    "orivault = ADatabase(\"ori\")"
   ]
  },
  {
   "cell_type": "code",
   "execution_count": 5,
   "id": "1e37c28f-be14-4d2d-b2fa-d36cbd588168",
   "metadata": {},
   "outputs": [],
   "source": [
    "## Retrieve existing stocks \n",
    "market.connect()\n",
    "index = market.retrieve(\"index\")\n",
    "market.disconnect()"
   ]
  },
  {
   "cell_type": "code",
   "execution_count": 6,
   "id": "06a6d3b3-44e8-4c3c-b39d-074c98f8ab76",
   "metadata": {},
   "outputs": [],
   "source": [
    "## Defining Benchmark\n",
    "market.connect()\n",
    "benchmark = market.query(\"prices\",{\"ticker\":\"JPM\"})\n",
    "market.disconnect()\n",
    "benchmark = Benchmark.convert_to_benchmark(benchmark,\"adjclose\")"
   ]
  },
  {
   "cell_type": "code",
   "execution_count": 7,
   "id": "09587a4a-c54f-458c-ac5f-bca6b33405ff",
   "metadata": {},
   "outputs": [
    {
     "name": "stderr",
     "output_type": "stream",
     "text": [
      "100%|███████████████████████████████████████████████████████| 11273/11273 [06:24<00:00, 29.33it/s]\n"
     ]
    }
   ],
   "source": [
    "rolling_window = 10\n",
    "market.connect()\n",
    "prices = []\n",
    "skips = 1\n",
    "model_end = 2021\n",
    "backtest_end = 2025\n",
    "for ticker in tqdm(index[\"ticker\"][::skips]): \n",
    "    try:\n",
    "        price = market.query(\"prices\", {\"ticker\": ticker})\n",
    "        if price.index.size > 150 and ticker[-1] != \"W\" and \".WS\" not in ticker:\n",
    "            price = p.lower_column(price)\n",
    "            price = p.utc_date(price)\n",
    "            price = p.additional_date_columns(price)\n",
    "            price = price[(price[\"date\"]>=datetime(model_end-1,10,31,tzinfo=timezone.utc)-timedelta(days=rolling_window*2)) & (price[\"year\"]<backtest_end)]\n",
    "            price.sort_values(\"date\", inplace=True)\n",
    "            price[\"dividend\"] = 0\n",
    "            price[\"coefficient_of_variation\"] = 1\n",
    "            price = Metric.MARKETCAP.calculate(price,timeframe=rolling_window,live=False)\n",
    "            price = Metric.STANDARD_DEV.calculate(price,timeframe=rolling_window)\n",
    "            price = Metric.NEXT_CLOSE.calculate(price,timeframe=rolling_window)\n",
    "            price = Metric.NEXT_OPEN.calculate(price,timeframe=rolling_window)\n",
    "            for member in Indicator:\n",
    "                price = member.calculate(price,timeframe=rolling_window,live=False)\n",
    "            prices.append(price.dropna())\n",
    "    except Exception as e:\n",
    "        print(str(e))\n",
    "        continue\n",
    "market.disconnect()\n",
    "simulation = pd.concat(prices)"
   ]
  },
  {
   "cell_type": "code",
   "execution_count": 8,
   "id": "8088e242-3fe6-4019-b2e3-88c67613ba0a",
   "metadata": {},
   "outputs": [
    {
     "data": {
      "text/plain": [
       "np.float64(66130278.309315786)"
      ]
     },
     "execution_count": 8,
     "metadata": {},
     "output_type": "execute_result"
    }
   ],
   "source": [
    "simulation[\"market_cap\"].mean()"
   ]
  },
  {
   "cell_type": "code",
   "execution_count": 9,
   "id": "1f913fa8-1d2f-486a-a214-985e8d80adcb",
   "metadata": {},
   "outputs": [],
   "source": [
    "min_price = .01\n",
    "max_price = 1\n",
    "min_cap = 1000000\n",
    "max_cap = 10000000\n",
    "sim = simulation[simulation[\"adjclose\"] >= min_price].copy()\n",
    "sim = sim[sim[\"adjclose\"] <= max_price]\n",
    "sim = sim[sim[\"market_cap\"] >= min_cap]\n",
    "sim = sim[sim[\"market_cap\"] <= max_cap]"
   ]
  },
  {
   "cell_type": "code",
   "execution_count": 10,
   "id": "a39e5858-c314-44ef-98a2-a3915e045eb7",
   "metadata": {},
   "outputs": [
    {
     "name": "stderr",
     "output_type": "stream",
     "text": [
      "100%|█████████████████████████████████████████████████████████████| 15/15 [00:00<00:00, 34.85it/s]\n"
     ]
    }
   ],
   "source": [
    "analysis = []\n",
    "for member in tqdm(Indicator):\n",
    "    if member.label != \"optimal\":\n",
    "        for ascending in [True,False]:\n",
    "            for closing in [\"next_open\",\"next_close\"]:\n",
    "                trades = sim.sort_values(member.label,ascending=ascending).groupby(\"date\").first().reset_index().sort_values(\"date\")\n",
    "                trades[\"return\"] = trades[closing]/trades[\"adjclose\"]\n",
    "                trades[\"pnl\"] = trades[\"return\"].cumprod()\n",
    "                analysis.append({\n",
    "                    \"metric\":member.label,\n",
    "                    \"ascending\":ascending,\n",
    "                    \"closing\":closing,\n",
    "                    \"pnl\":trades[\"pnl\"].tail(1).item(),\n",
    "                    \"std\":trades[\"pnl\"].std()\n",
    "                })"
   ]
  },
  {
   "cell_type": "code",
   "execution_count": 11,
   "id": "410d2b1b-3cd4-4a30-8027-7712a0f2703a",
   "metadata": {},
   "outputs": [],
   "source": [
    "a = pd.DataFrame(analysis)"
   ]
  },
  {
   "cell_type": "code",
   "execution_count": 12,
   "id": "95d91392-99c5-4a47-9942-72fdb766ba5d",
   "metadata": {},
   "outputs": [
    {
     "data": {
      "text/html": [
       "<div>\n",
       "<style scoped>\n",
       "    .dataframe tbody tr th:only-of-type {\n",
       "        vertical-align: middle;\n",
       "    }\n",
       "\n",
       "    .dataframe tbody tr th {\n",
       "        vertical-align: top;\n",
       "    }\n",
       "\n",
       "    .dataframe thead th {\n",
       "        text-align: right;\n",
       "    }\n",
       "</style>\n",
       "<table border=\"1\" class=\"dataframe\">\n",
       "  <thead>\n",
       "    <tr style=\"text-align: right;\">\n",
       "      <th></th>\n",
       "      <th>metric</th>\n",
       "      <th>ascending</th>\n",
       "      <th>closing</th>\n",
       "      <th>pnl</th>\n",
       "      <th>std</th>\n",
       "    </tr>\n",
       "  </thead>\n",
       "  <tbody>\n",
       "    <tr>\n",
       "      <th>23</th>\n",
       "      <td>momentum</td>\n",
       "      <td>False</td>\n",
       "      <td>next_close</td>\n",
       "      <td>12586.622825</td>\n",
       "      <td>8120.332527</td>\n",
       "    </tr>\n",
       "    <tr>\n",
       "      <th>50</th>\n",
       "      <td>volume_price</td>\n",
       "      <td>False</td>\n",
       "      <td>next_open</td>\n",
       "      <td>2160.800138</td>\n",
       "      <td>412.960345</td>\n",
       "    </tr>\n",
       "    <tr>\n",
       "      <th>24</th>\n",
       "      <td>roc</td>\n",
       "      <td>True</td>\n",
       "      <td>next_open</td>\n",
       "      <td>1419.417232</td>\n",
       "      <td>783.071415</td>\n",
       "    </tr>\n",
       "    <tr>\n",
       "      <th>52</th>\n",
       "      <td>option_price</td>\n",
       "      <td>True</td>\n",
       "      <td>next_open</td>\n",
       "      <td>1123.113334</td>\n",
       "      <td>481.396309</td>\n",
       "    </tr>\n",
       "    <tr>\n",
       "      <th>22</th>\n",
       "      <td>momentum</td>\n",
       "      <td>False</td>\n",
       "      <td>next_open</td>\n",
       "      <td>1077.322718</td>\n",
       "      <td>324.512683</td>\n",
       "    </tr>\n",
       "  </tbody>\n",
       "</table>\n",
       "</div>"
      ],
      "text/plain": [
       "          metric  ascending     closing           pnl          std\n",
       "23      momentum      False  next_close  12586.622825  8120.332527\n",
       "50  volume_price      False   next_open   2160.800138   412.960345\n",
       "24           roc       True   next_open   1419.417232   783.071415\n",
       "52  option_price       True   next_open   1123.113334   481.396309\n",
       "22      momentum      False   next_open   1077.322718   324.512683"
      ]
     },
     "execution_count": 12,
     "metadata": {},
     "output_type": "execute_result"
    }
   ],
   "source": [
    "a.sort_values(\"pnl\",ascending=False).head(5)"
   ]
  },
  {
   "cell_type": "code",
   "execution_count": 13,
   "id": "871e6142-3af9-431e-aa99-3d262273e59f",
   "metadata": {},
   "outputs": [
    {
     "data": {
      "text/plain": [
       "{'metric': 'momentum',\n",
       " 'ascending': False,\n",
       " 'closing': 'next_close',\n",
       " 'pnl': 12586.622824860067,\n",
       " 'std': 8120.332526659476}"
      ]
     },
     "execution_count": 13,
     "metadata": {},
     "output_type": "execute_result"
    }
   ],
   "source": [
    "top = a.sort_values(\"pnl\",ascending=False).head(5).to_dict(\"records\")[0]\n",
    "top"
   ]
  },
  {
   "cell_type": "code",
   "execution_count": 14,
   "id": "34f1412c-48a8-4860-8248-2e3ac3965d7e",
   "metadata": {},
   "outputs": [],
   "source": [
    "trades = sim.sort_values(top[\"metric\"],ascending=top[\"ascending\"]).groupby(\"date\").head(1).reset_index().sort_values(\"date\")\n",
    "trades[\"return\"] = trades[top[\"closing\"]]/trades[\"adjclose\"]\n",
    "trades[\"pnl\"] = trades[\"return\"].cumprod()"
   ]
  },
  {
   "cell_type": "code",
   "execution_count": 15,
   "id": "136c89ed-0b0d-401f-bac3-7141ca0102f5",
   "metadata": {},
   "outputs": [
    {
     "data": {
      "image/png": "[encoded data removed]",
      "text/plain": [
       "<Figure size 640x480 with 1 Axes>"
      ]
     },
     "metadata": {},
     "output_type": "display_data"
    }
   ],
   "source": [
    "trades[\"weekday\"] = trades[\"date\"].dt.weekday\n",
    "trades[\"month\"] = trades[\"date\"].dt.month\n",
    "trades[\"week\"] = [x.week for x in trades[\"date\"]]\n",
    "trades[\"month_day\"] = trades[\"date\"].dt.day\n",
    "\n",
    "metric = \"month_day\"\n",
    "view = trades.groupby(metric)[[\"return\"]].mean().reset_index().sort_values(metric)\n",
    "view[\"raw_pnl\"] = view[\"return\"].cumprod()\n",
    "plt.plot(view[metric],view[\"raw_pnl\"])\n",
    "plt.show()"
   ]
  },
  {
   "cell_type": "code",
   "execution_count": 16,
   "id": "035be375-d0e9-4bd0-aebd-c5e5df566a35",
   "metadata": {},
   "outputs": [
    {
     "data": {
      "image/png": "[encoded data removed]",
      "text/plain": [
       "<Figure size 640x480 with 1 Axes>"
      ]
     },
     "metadata": {},
     "output_type": "display_data"
    }
   ],
   "source": [
    "plt.scatter(trades[\"adjclose\"],trades[\"return\"],s=1)\n",
    "plt.show()"
   ]
  },
  {
   "cell_type": "code",
   "execution_count": 17,
   "id": "4e3309ec-101f-4143-9e80-dca2fadbd657",
   "metadata": {},
   "outputs": [
    {
     "name": "stdout",
     "output_type": "stream",
     "text": [
      "2025-05-11 16:00:00-04:00 2025-06-10 16:00:00-04:00\n"
     ]
    }
   ],
   "source": [
    "alp = AlpacaExtractor(paper=False)\n",
    "end = Utils.last_weekday(alp.clock())\n",
    "start = (end - timedelta(days=rolling_window*3))\n",
    "print(start,end)\n",
    "## Retrieve existing stocks \n",
    "index = alp.assets().sort_values(\"ticker\")\n",
    "tickers_per_batch = int(10000/(rolling_window*4)/5)\n",
    "relevant_tickers = index[\"ticker\"]\n",
    "batchs = [relevant_tickers[i:i + tickers_per_batch] for i in range(0, len(relevant_tickers), tickers_per_batch)]"
   ]
  },
  {
   "cell_type": "code",
   "execution_count": 18,
   "id": "eee3b894-703e-46bd-9f14-3216ab7f4267",
   "metadata": {},
   "outputs": [
    {
     "name": "stderr",
     "output_type": "stream",
     "text": [
      "  6%|███▍                                                        | 13/227 [00:11<02:59,  1.19it/s]"
     ]
    },
    {
     "name": "stdout",
     "output_type": "stream",
     "text": [
      "'ASIC'\n"
     ]
    },
    {
     "name": "stderr",
     "output_type": "stream",
     "text": [
      " 12%|███████▍                                                    | 28/227 [00:25<02:54,  1.14it/s]"
     ]
    },
    {
     "name": "stdout",
     "output_type": "stream",
     "text": [
      "'BSCZ'\n"
     ]
    },
    {
     "name": "stderr",
     "output_type": "stream",
     "text": [
      " 13%|███████▋                                                    | 29/227 [00:26<03:01,  1.09it/s]"
     ]
    },
    {
     "name": "stdout",
     "output_type": "stream",
     "text": [
      "'BSJX'\n"
     ]
    },
    {
     "name": "stderr",
     "output_type": "stream",
     "text": [
      " 40%|████████████████████████                                    | 91/227 [01:24<02:09,  1.05it/s]"
     ]
    },
    {
     "name": "stdout",
     "output_type": "stream",
     "text": [
      "'HBDC'\n"
     ]
    },
    {
     "name": "stderr",
     "output_type": "stream",
     "text": [
      " 41%|████████████████████████▎                                   | 92/227 [01:25<02:04,  1.09it/s]"
     ]
    },
    {
     "name": "stdout",
     "output_type": "stream",
     "text": [
      "'HGRO'\n"
     ]
    },
    {
     "name": "stderr",
     "output_type": "stream",
     "text": [
      " 59%|███████████████████████████████████                        | 135/227 [02:05<01:17,  1.19it/s]"
     ]
    },
    {
     "name": "stdout",
     "output_type": "stream",
     "text": [
      "'MTRA'\n"
     ]
    },
    {
     "name": "stderr",
     "output_type": "stream",
     "text": [
      " 78%|██████████████████████████████████████████████▎            | 178/227 [02:46<00:50,  1.03s/it]"
     ]
    },
    {
     "name": "stdout",
     "output_type": "stream",
     "text": [
      "'SCD.RTWI'\n"
     ]
    },
    {
     "name": "stderr",
     "output_type": "stream",
     "text": [
      " 85%|██████████████████████████████████████████████████▏        | 193/227 [03:00<00:30,  1.12it/s]"
     ]
    },
    {
     "name": "stdout",
     "output_type": "stream",
     "text": [
      "'SVA'\n"
     ]
    },
    {
     "name": "stderr",
     "output_type": "stream",
     "text": [
      " 93%|██████████████████████████████████████████████████████▊    | 211/227 [03:16<00:15,  1.04it/s]"
     ]
    },
    {
     "name": "stdout",
     "output_type": "stream",
     "text": [
      "'VGMS'\n"
     ]
    },
    {
     "name": "stderr",
     "output_type": "stream",
     "text": [
      " 94%|███████████████████████████████████████████████████████▎   | 213/227 [03:18<00:14,  1.00s/it]"
     ]
    },
    {
     "name": "stdout",
     "output_type": "stream",
     "text": [
      "'VOYG'\n"
     ]
    },
    {
     "name": "stderr",
     "output_type": "stream",
     "text": [
      "100%|███████████████████████████████████████████████████████████| 227/227 [03:31<00:00,  1.07it/s]\n"
     ]
    }
   ],
   "source": [
    "\n",
    "prices = []\n",
    "for batch in tqdm(batchs):\n",
    "    try:\n",
    "        tickers_data = alp.prices_bulk(batch,start,end)\n",
    "        for ticker in batch:\n",
    "            try:\n",
    "                if ticker[-1] != \"W\" and \".WS\" not in ticker:\n",
    "                    price = tickers_data[tickers_data[\"ticker\"] == ticker].copy()\n",
    "                    price = p.lower_column(price)\n",
    "                    price = p.utc_date(price)\n",
    "                    price.sort_values(\"date\", inplace=True)\n",
    "                    price = p.additional_date_columns(price)\n",
    "                    price[\"coefficient_of_variation\"] = 1\n",
    "                    price[\"dividend\"] = 0\n",
    "                    if price.index.size > rolling_window:\n",
    "                        price = Metric.MARKETCAP.calculate(price,timeframe=rolling_window,live=True)\n",
    "                        price = Indicator.indicator_type_factory(top[\"metric\"]).calculate(price,timeframe=rolling_window,live=True)\n",
    "                    prices.append(price)\n",
    "            except Exception as e:\n",
    "                print(str(e))\n",
    "    except Exception as e:\n",
    "        print(str(e))"
   ]
  },
  {
   "cell_type": "code",
   "execution_count": 19,
   "id": "da9b80ca-1ddf-496d-8053-fb11bfb21dd8",
   "metadata": {},
   "outputs": [],
   "source": [
    "current_simulation = pd.concat(prices)\n",
    "current_simulation.sort_values(\"date\", inplace=True)"
   ]
  },
  {
   "cell_type": "code",
   "execution_count": 20,
   "id": "d9df00e3-3547-4fab-b7ad-b915f3f4a02e",
   "metadata": {},
   "outputs": [],
   "source": [
    "current_sim = current_simulation[current_simulation[\"adjclose\"] >= min_price].copy()\n",
    "current_sim = current_sim[current_sim[\"adjclose\"] <= max_price]\n",
    "current_sim = current_sim[current_sim[\"market_cap\"] >= min_cap]\n",
    "current_sim = current_sim[current_sim[\"market_cap\"] <= max_cap]\n",
    "recommendations = current_sim.sort_values(top[\"metric\"],ascending=top[\"ascending\"]).groupby(\"date\").head(1).reset_index().sort_values(\"date\")"
   ]
  },
  {
   "cell_type": "code",
   "execution_count": 21,
   "id": "76d49df2-8401-478a-b92a-738cc60e71ba",
   "metadata": {},
   "outputs": [
    {
     "data": {
      "text/plain": [
       "[{'index': 20,\n",
       "  'date': Timestamp('2025-06-10 00:00:00+0000', tz='UTC'),\n",
       "  'open': 0.711,\n",
       "  'adjclose': 0.6905,\n",
       "  'high': 0.7246,\n",
       "  'low': 0.6621,\n",
       "  'volume': 3498040,\n",
       "  'ticker': 'TNYA',\n",
       "  'year': 2025,\n",
       "  'month': 6,\n",
       "  'quarter': 2,\n",
       "  'week': 24,\n",
       "  'day': 161,\n",
       "  'weekday': 1,\n",
       "  'coefficient_of_variation': 1,\n",
       "  'dividend': 0,\n",
       "  'adjclose_test': 0.6854,\n",
       "  'high_test': 0.7469,\n",
       "  'low_test': 0.67,\n",
       "  'volume_test': 6247888.0,\n",
       "  'market_cap': 2415396.62,\n",
       "  'momentum': 0.23670000000000002}]"
      ]
     },
     "execution_count": 21,
     "metadata": {},
     "output_type": "execute_result"
    }
   ],
   "source": [
    "recommendations.tail(1).to_dict(\"records\")"
   ]
  }
 ],
 "metadata": {
  "kernelspec": {
   "display_name": "Python 3 (ipykernel)",
   "language": "python",
   "name": "python3"
  },
  "language_info": {
   "codemirror_mode": {
    "name": "ipython",
    "version": 3
   },
   "file_extension": ".py",
   "mimetype": "text/x-python",
   "name": "python",
   "nbconvert_exporter": "python",
   "pygments_lexer": "ipython3",
   "version": "3.11.0"
  }
 },
 "nbformat": 4,
 "nbformat_minor": 5
}
