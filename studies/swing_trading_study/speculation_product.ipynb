{
 "cells": [
  {
   "cell_type": "code",
   "execution_count": 1,
   "id": "246c49f1-95ae-48c8-a1c2-a5c621cc768f",
   "metadata": {},
   "outputs": [],
   "source": [
    "import pandas as pd\n",
    "from datetime import datetime, timedelta\n",
    "from tqdm import tqdm\n",
    "from processor.processor import Processor as p\n",
    "from database.adatabase import ADatabase\n",
    "from indicator.indicator import Indicator\n",
    "from transformer.transformer import Transformer\n",
    "from time import sleep\n",
    "import requests as r\n",
    "from dotenv import load_dotenv\n",
    "load_dotenv()\n",
    "import os\n",
    "import matplotlib.pyplot as plt\n",
    "from time import sleep\n",
    "import numpy as np\n",
    "import os"
   ]
  },
  {
   "cell_type": "code",
   "execution_count": 2,
   "id": "01317ec8-a56f-4e96-907f-3b07b4d80013",
   "metadata": {},
   "outputs": [],
   "source": [
    "market = ADatabase(\"market\")\n",
    "chung = ADatabase(\"chung\")"
   ]
  },
  {
   "cell_type": "code",
   "execution_count": 3,
   "id": "5eab61ef-f7df-4199-9db5-0346efb1342d",
   "metadata": {},
   "outputs": [],
   "source": [
    "market.connect()\n",
    "currencies = market.retrieve(\"currencies\")\n",
    "stocks = market.retrieve(\"index\")\n",
    "market.disconnect()\n",
    "crypto = False"
   ]
  },
  {
   "cell_type": "code",
   "execution_count": 12,
   "id": "550785e0-3973-4311-809a-74061bd87500",
   "metadata": {
    "scrolled": true
   },
   "outputs": [
    {
     "name": "stderr",
     "output_type": "stream",
     "text": [
      " 12%|██████████████████▍                                                                                                                                    | 622/5106 [00:31<02:50, 26.31it/s]E:\\projects\\sapling\\indicator\\indicator.py:51: FutureWarning: The default fill_method='pad' in Series.pct_change is deprecated and will be removed in a future version. Either fill in any non-leading NA values prior to calling pct_change or specify 'fill_method=None' to not fill NA values.\n",
      "  price[\"roc\"] = price[cols[\"price\"]].pct_change(timeframe)\n",
      " 75%|████████████████████████████████████████████████████████████████████████████████████████████████████████████████                                      | 3814/5106 [03:20<01:15, 17.18it/s]E:\\projects\\sapling\\indicator\\indicator.py:51: FutureWarning: The default fill_method='pad' in Series.pct_change is deprecated and will be removed in a future version. Either fill in any non-leading NA values prior to calling pct_change or specify 'fill_method=None' to not fill NA values.\n",
      "  price[\"roc\"] = price[cols[\"price\"]].pct_change(timeframe)\n",
      "100%|██████████████████████████████████████████████████████████████████████████████████████████████████████████████████████████████████████████████████████| 5106/5106 [04:28<00:00, 19.01it/s]\n"
     ]
    }
   ],
   "source": [
    "if crypto == True:\n",
    "    index = currencies.copy().rename(columns={\"product_id\":\"ticker\"})\n",
    "    index[\"name\"] = index[\"ticker\"]\n",
    "    index[\"base\"] = [x.split(\"-\")[1] for x in index[\"ticker\"]]\n",
    "    index = index[index[\"base\"]==\"USD\"]\n",
    "    market.connect()\n",
    "    spy = market.query(\"crypto\",{\"ticker\":\"BTC-USD\"}).rename(columns={\"close\":\"adjclose\"})[[\"start\",\"adjclose\",\"high\",\"low\",\"volume\"]]\n",
    "    spy[\"date\"] = pd.to_datetime(spy[\"start\"].astype(float),unit=\"s\")\n",
    "    spy[\"spy\"] = spy[\"adjclose\"].astype(float)\n",
    "    spy[\"high\"] = spy[\"high\"].astype(float)\n",
    "    spy[\"low\"] = spy[\"low\"].astype(float)\n",
    "    spy[\"volume\"] = spy[\"volume\"].astype(float)\n",
    "    market.disconnect()\n",
    "else:\n",
    "    index = stocks.copy()\n",
    "    market.connect()\n",
    "    spy = p.column_date_processing(market.query(\"prices\",{\"ticker\":\"JPM\"}))\n",
    "    spy[\"spy\"] = spy[\"adjclose\"]\n",
    "    market.disconnect()\n",
    "tickers = index[\"ticker\"].unique()\n",
    "prices = []\n",
    "market.connect()\n",
    "for ticker in tqdm(tickers):\n",
    "    try:\n",
    "        if crypto == True:\n",
    "            ticker_data = market.query(\"crypto\",{\"ticker\":ticker}).rename(columns={\"close\":\"adjclose\"})[[\"start\",\"adjclose\",\"high\",\"low\",\"volume\"]]\n",
    "            ticker_data[\"date\"] = pd.to_datetime(ticker_data[\"start\"].astype(float),unit=\"s\")\n",
    "            ticker_data[\"adjclose\"] = ticker_data[\"adjclose\"].astype(float)\n",
    "            ticker_data[\"high\"] = ticker_data[\"high\"].astype(float)\n",
    "            ticker_data[\"low\"] = ticker_data[\"low\"].astype(float)\n",
    "            ticker_data[\"volume\"] = ticker_data[\"volume\"].astype(float)\n",
    "        else:\n",
    "            ticker_data = market.query(\"prices\",{\"ticker\":ticker})\n",
    "        if ticker_data.index.size >0:\n",
    "            ticker_data[\"ticker\"] = ticker\n",
    "            price = p.column_date_processing(ticker_data)\n",
    "            price = p.additional_date_cols(price)\n",
    "            price = Indicator.calculate_indicators(price).copy()\n",
    "            price[\"sell_price\"] = price[\"adjclose\"]\n",
    "            prices.append(price)\n",
    "    except Exception as e:\n",
    "        print(str(e))\n",
    "market.disconnect()"
   ]
  },
  {
   "cell_type": "code",
   "execution_count": 13,
   "id": "843d6132-315a-4dbe-8a0b-0dd7601c2518",
   "metadata": {},
   "outputs": [],
   "source": [
    "sim = pd.concat(prices)"
   ]
  },
  {
   "cell_type": "code",
   "execution_count": 14,
   "id": "65cf414a-86b9-4217-96a2-92c42d5e86dd",
   "metadata": {},
   "outputs": [],
   "source": [
    "product = Transformer.transform(sim)\n",
    "product = product[product[\"market_cap_rank\"]>=0.7]"
   ]
  },
  {
   "cell_type": "code",
   "execution_count": 15,
   "id": "2b7fa7a8-537c-4bb4-b1cd-6e7b5e223547",
   "metadata": {},
   "outputs": [],
   "source": [
    "chung.connect()\n",
    "chung.drop(\"sim\")\n",
    "chung.store(\"sim\",product)\n",
    "chung.disconnect()"
   ]
  }
 ],
 "metadata": {
  "kernelspec": {
   "display_name": "Python 3 (ipykernel)",
   "language": "python",
   "name": "python3"
  },
  "language_info": {
   "codemirror_mode": {
    "name": "ipython",
    "version": 3
   },
   "file_extension": ".py",
   "mimetype": "text/x-python",
   "name": "python",
   "nbconvert_exporter": "python",
   "pygments_lexer": "ipython3",
   "version": "3.11.9"
  }
 },
 "nbformat": 4,
 "nbformat_minor": 5
}
