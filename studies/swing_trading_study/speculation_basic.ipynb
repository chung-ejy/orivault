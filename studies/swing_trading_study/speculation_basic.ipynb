{
 "cells": [
  {
   "cell_type": "code",
   "execution_count": 1,
   "id": "246c49f1-95ae-48c8-a1c2-a5c621cc768f",
   "metadata": {},
   "outputs": [],
   "source": [
    "## PATH settings\n",
    "import os\n",
    "import sys\n",
    "project_root = os.path.abspath(os.path.join(os.getcwd(), '../../'))\n",
    "sys.path.append(project_root)\n",
    "COMMON_PATH = os.path.join(project_root, 'common')"
   ]
  },
  {
   "cell_type": "code",
   "execution_count": 2,
   "id": "b3f7ffcc-42d9-4090-99b3-6479955e1a5f",
   "metadata": {},
   "outputs": [],
   "source": [
    "## Bespoke class imports\n",
    "from common.database.adatabase import ADatabase\n",
    "from common.processor.processor import Processor as p\n",
    "from financial_common.risk.rolling_factor_analysis import RollingFactorAnalysis\n",
    "from financial_common.risk.single_index_capm import SingleIndexCAPM\n",
    "from financial_common.indicator.indicator import Indicator\n",
    "from financial_common.risk.benchmark import Benchmark\n",
    "from financial_common.portfolio_management.kpi import KPI\n",
    "from financial_common.metric.metric import Metric\n",
    "from financial_common.portfolio_management.portfolio_selection import PortfolioSelection\n",
    "from financial_common.risk.risk_type import RiskType\n",
    "import numpy as np\n",
    "import matplotlib.pyplot as plt\n",
    "from mpl_toolkits.mplot3d import Axes3D"
   ]
  },
  {
   "cell_type": "code",
   "execution_count": 3,
   "id": "5e602193-3097-4687-bd19-00f3b8bff5d4",
   "metadata": {},
   "outputs": [],
   "source": [
    "## Import standard packages\n",
    "from datetime import timedelta\n",
    "import matplotlib.pyplot as plt\n",
    "from tqdm import tqdm\n",
    "import pandas as pd\n",
    "from time import sleep\n",
    "import copy"
   ]
  },
  {
   "cell_type": "code",
   "execution_count": 4,
   "id": "01317ec8-a56f-4e96-907f-3b07b4d80013",
   "metadata": {},
   "outputs": [],
   "source": [
    "market = ADatabase(\"market\")\n",
    "fred = ADatabase(\"fred\")\n",
    "orivault = ADatabase(\"ori\")"
   ]
  },
  {
   "cell_type": "code",
   "execution_count": 5,
   "id": "1e37c28f-be14-4d2d-b2fa-d36cbd588168",
   "metadata": {},
   "outputs": [],
   "source": [
    "## Retrieve existing stocks \n",
    "market.connect()\n",
    "index = market.retrieve(\"index\")\n",
    "market.disconnect()\n",
    "# index = pd.read_html(\"https://en.wikipedia.org/wiki/List_of_S%26P_500_companies\",attrs={\"id\":\"constituents\"})[0].rename(columns={\"Symbol\":\"ticker\"})\n",
    "# index"
   ]
  },
  {
   "cell_type": "code",
   "execution_count": 6,
   "id": "06a6d3b3-44e8-4c3c-b39d-074c98f8ab76",
   "metadata": {},
   "outputs": [],
   "source": [
    "## Defining Benchmark\n",
    "market.connect()\n",
    "benchmark = market.query(\"prices\",{\"ticker\":\"JPM\"})\n",
    "market.disconnect()\n",
    "benchmark = Benchmark.convert_to_benchmark(benchmark,\"adjclose\")"
   ]
  },
  {
   "cell_type": "code",
   "execution_count": 7,
   "id": "09587a4a-c54f-458c-ac5f-bca6b33405ff",
   "metadata": {},
   "outputs": [
    {
     "name": "stderr",
     "output_type": "stream",
     "text": [
      " 19%|███████████████████████████████████▊                                                                                                                                                      | 2170/11261 [00:55<04:29, 33.69it/s]"
     ]
    },
    {
     "name": "stdout",
     "output_type": "stream",
     "text": [
      "index 0 is out of bounds for axis 0 with size 0\n"
     ]
    },
    {
     "name": "stderr",
     "output_type": "stream",
     "text": [
      " 30%|████████████████████████████████████████████████████████                                                                                                                                  | 3394/11261 [01:27<03:20, 39.19it/s]"
     ]
    },
    {
     "name": "stdout",
     "output_type": "stream",
     "text": [
      "index 0 is out of bounds for axis 0 with size 0\n"
     ]
    },
    {
     "name": "stderr",
     "output_type": "stream",
     "text": [
      " 45%|███████████████████████████████████████████████████████████████████████████████████▏                                                                                                      | 5037/11261 [02:08<02:17, 45.28it/s]"
     ]
    },
    {
     "name": "stdout",
     "output_type": "stream",
     "text": [
      "index 0 is out of bounds for axis 0 with size 0\n"
     ]
    },
    {
     "name": "stderr",
     "output_type": "stream",
     "text": [
      " 46%|██████████████████████████████████████████████████████████████████████████████████████                                                                                                    | 5212/11261 [02:13<02:19, 43.34it/s]"
     ]
    },
    {
     "name": "stdout",
     "output_type": "stream",
     "text": [
      "index 0 is out of bounds for axis 0 with size 0\n"
     ]
    },
    {
     "name": "stderr",
     "output_type": "stream",
     "text": [
      " 48%|█████████████████████████████████████████████████████████████████████████████████████████▍                                                                                                | 5416/11261 [02:18<02:12, 44.06it/s]"
     ]
    },
    {
     "name": "stdout",
     "output_type": "stream",
     "text": [
      "index 0 is out of bounds for axis 0 with size 0\n"
     ]
    },
    {
     "name": "stderr",
     "output_type": "stream",
     "text": [
      " 48%|█████████████████████████████████████████████████████████████████████████████████████████▊                                                                                                | 5436/11261 [02:19<02:28, 39.28it/s]"
     ]
    },
    {
     "name": "stdout",
     "output_type": "stream",
     "text": [
      "index 0 is out of bounds for axis 0 with size 0\n"
     ]
    },
    {
     "name": "stderr",
     "output_type": "stream",
     "text": [
      " 51%|██████████████████████████████████████████████████████████████████████████████████████████████▌                                                                                           | 5722/11261 [02:26<02:22, 38.78it/s]"
     ]
    },
    {
     "name": "stdout",
     "output_type": "stream",
     "text": [
      "index 0 is out of bounds for axis 0 with size 0\n"
     ]
    },
    {
     "name": "stderr",
     "output_type": "stream",
     "text": [
      " 78%|█████████████████████████████████████████████████████████████████████████████████████████████████████████████████████████████████████████████████                                         | 8779/11261 [03:43<00:56, 43.57it/s]"
     ]
    },
    {
     "name": "stdout",
     "output_type": "stream",
     "text": [
      "index 0 is out of bounds for axis 0 with size 0\n"
     ]
    },
    {
     "name": "stderr",
     "output_type": "stream",
     "text": [
      " 87%|█████████████████████████████████████████████████████████████████████████████████████████████████████████████████████████████████████████████████████████████████▉                        | 9807/11261 [04:09<00:41, 34.81it/s]"
     ]
    },
    {
     "name": "stdout",
     "output_type": "stream",
     "text": [
      "index 0 is out of bounds for axis 0 with size 0\n"
     ]
    },
    {
     "name": "stderr",
     "output_type": "stream",
     "text": [
      " 91%|███████████████████████████████████████████████████████████████████████████████████████████████████████████████████████████████████████████████████████████████████████▊                 | 10218/11261 [04:20<00:20, 49.87it/s]"
     ]
    },
    {
     "name": "stdout",
     "output_type": "stream",
     "text": [
      "index 0 is out of bounds for axis 0 with size 0\n"
     ]
    },
    {
     "name": "stderr",
     "output_type": "stream",
     "text": [
      "100%|█████████████████████████████████████████████████████████████████████████████████████████████████████████████████████████████████████████████████████████████████████████████████████████| 11261/11261 [04:45<00:00, 39.38it/s]\n"
     ]
    }
   ],
   "source": [
    "rolling_window = 10\n",
    "market.connect()\n",
    "prices = []\n",
    "skips = 1\n",
    "for ticker in tqdm(index[\"ticker\"][::skips]): \n",
    "    try:\n",
    "        price = market.query(\"prices\", {\"ticker\": ticker})\n",
    "        if price.index.size > 150:\n",
    "            price = p.lower_column(price)\n",
    "            price = p.utc_date(price)\n",
    "            price.sort_values(\"date\", inplace=True)\n",
    "            price = p.additional_date_columns(price)\n",
    "            dividends = market.query(\"dividends\",{\"ticker\":ticker})\n",
    "            if dividends.index.size > 0:\n",
    "                dividends = p.utc_date(dividends)\n",
    "                price = price.merge(dividends,on=[\"date\",\"ticker\"])\n",
    "                price[\"dividend\"] = price[\"rate\"].ffill().fillna(0)\n",
    "            else:\n",
    "                price[\"dividend\"] = 0\n",
    "            price = Metric.DISTANCE.calculate(price,timeframe=rolling_window)\n",
    "            price = Metric.COOKED_RETURN.calculate(price,timeframe=rolling_window)\n",
    "            price = Metric.NEXT_CLOSE.calculate(price,timeframe=rolling_window)\n",
    "            price = Indicator.EMACorr.calculate(price,timeframe=rolling_window)\n",
    "            price = RiskType.COEFFICIENT_OF_VARIATION.apply(price)\n",
    "            prices.append(price.dropna())\n",
    "    except Exception as e:\n",
    "        print(str(e))\n",
    "        continue\n",
    "market.disconnect()"
   ]
  },
  {
   "cell_type": "code",
   "execution_count": 8,
   "id": "2212583d-6a1c-4721-a689-1bcaad1d5b2d",
   "metadata": {},
   "outputs": [],
   "source": [
    "model_end = 2021\n",
    "backtest_end = 2026\n",
    "simulation = pd.concat(prices)\n",
    "simulation = simulation[(simulation[\"year\"]>=model_end) & (simulation[\"year\"]<backtest_end)]\n",
    "simulation.sort_values(\"date\", inplace=True)"
   ]
  },
  {
   "cell_type": "code",
   "execution_count": 83,
   "id": "eb7133b8-a899-4282-b201-f5e8869ad634",
   "metadata": {},
   "outputs": [
    {
     "data": {
      "text/plain": [
       "1"
      ]
     },
     "execution_count": 83,
     "metadata": {},
     "output_type": "execute_result"
    }
   ],
   "source": [
    "portfolios = PortfolioSelection.generate_possible_portfolios(\n",
    "                                                            ranking_metrics=[\n",
    "                                                                \"ema_corr\"\n",
    "                                                            ]\n",
    "                                                            ,num_of_groups=[1]\n",
    "                                                            ,group_percentages=[1]\n",
    "                                                            ,max_prices=[5]\n",
    "                                                            ,min_prices=[1]\n",
    "                                                            ,stoplosses=[0.05]\n",
    "                                                            ,rolling_windows=[rolling_window]\n",
    "                                                            ,leverages=[1]\n",
    "                                                            )\n",
    "filtered_portfolios = []\n",
    "for portfolio in portfolios:\n",
    "        if portfolio.timeframe.value == \"day\" and \"top_blacklist\" in portfolio.selection_type.label  and portfolio.allocation_type.label == \"risk\" \\\n",
    "            and portfolio.position_type.label == \"long\" and (\"distance\" in portfolio.grouping_type.value)   and portfolio.max_price > portfolio.min_price:\n",
    "            filtered_portfolios.append(portfolio)\n",
    "len(filtered_portfolios)"
   ]
  },
  {
   "cell_type": "code",
   "execution_count": 84,
   "id": "42cd7230-3773-4cfc-bfce-31664263cfa1",
   "metadata": {
    "scrolled": true
   },
   "outputs": [
    {
     "name": "stderr",
     "output_type": "stream",
     "text": [
      "100%|██████████████████████████████████████████████████████████████████████████████████████████████████████████| 1/1 [00:06<00:00,  6.20s/it]\n"
     ]
    }
   ],
   "source": [
    "analysises = []\n",
    "for portfolio in tqdm(filtered_portfolios):\n",
    "    try:\n",
    "        trades = portfolio.trades(simulation.copy())\n",
    "        performance = portfolio.portfolio(trades.copy(),benchmark.copy())\n",
    "        metrics = KPI.performance(trades,performance)\n",
    "        results = {**portfolio.to_dict(),**metrics.copy()}\n",
    "        results[\"portfolio\"] = portfolio\n",
    "        analysises.append(results)\n",
    "    except Exception as e:\n",
    "        print(str(e))\n",
    "        continue"
   ]
  },
  {
   "cell_type": "code",
   "execution_count": 85,
   "id": "17210ee4-6797-4bc2-842b-541b4c21027c",
   "metadata": {},
   "outputs": [],
   "source": [
    "a = pd.DataFrame(analysises)"
   ]
  },
  {
   "cell_type": "code",
   "execution_count": 86,
   "id": "cb3307ce-09a2-4d09-9be1-7965c1fcd8d6",
   "metadata": {},
   "outputs": [
    {
     "data": {
      "text/html": [
       "<div>\n",
       "<style scoped>\n",
       "    .dataframe tbody tr th:only-of-type {\n",
       "        vertical-align: middle;\n",
       "    }\n",
       "\n",
       "    .dataframe tbody tr th {\n",
       "        vertical-align: top;\n",
       "    }\n",
       "\n",
       "    .dataframe thead th {\n",
       "        text-align: right;\n",
       "    }\n",
       "</style>\n",
       "<table border=\"1\" class=\"dataframe\">\n",
       "  <thead>\n",
       "    <tr style=\"text-align: right;\">\n",
       "      <th></th>\n",
       "      <th>ranking_metric</th>\n",
       "      <th>position_type</th>\n",
       "      <th>grouping_type</th>\n",
       "      <th>selection_type</th>\n",
       "      <th>allocation_type</th>\n",
       "      <th>num_of_groups</th>\n",
       "      <th>max_price</th>\n",
       "      <th>min_price</th>\n",
       "      <th>leverage</th>\n",
       "      <th>pnl</th>\n",
       "      <th>raw_pnl</th>\n",
       "      <th>downside</th>\n",
       "      <th>coefficient_of_variation</th>\n",
       "      <th>portfolio_std</th>\n",
       "      <th>sharpe_ratio</th>\n",
       "      <th>tracking_error</th>\n",
       "      <th>information_ratio</th>\n",
       "    </tr>\n",
       "  </thead>\n",
       "  <tbody>\n",
       "    <tr>\n",
       "      <th>0</th>\n",
       "      <td>ema_corr</td>\n",
       "      <td>long</td>\n",
       "      <td>DISTANCE</td>\n",
       "      <td>top_blacklist</td>\n",
       "      <td>risk</td>\n",
       "      <td>1</td>\n",
       "      <td>5</td>\n",
       "      <td>1</td>\n",
       "      <td>1</td>\n",
       "      <td>1.435432e+12</td>\n",
       "      <td>7.977565e+12</td>\n",
       "      <td>0.95</td>\n",
       "      <td>10.199205</td>\n",
       "      <td>1.407396e+11</td>\n",
       "      <td>10.199205</td>\n",
       "      <td>1.407396e+11</td>\n",
       "      <td>10.199205</td>\n",
       "    </tr>\n",
       "  </tbody>\n",
       "</table>\n",
       "</div>"
      ],
      "text/plain": [
       "  ranking_metric position_type grouping_type selection_type allocation_type  \\\n",
       "0       ema_corr          long      DISTANCE  top_blacklist            risk   \n",
       "\n",
       "   num_of_groups  max_price  min_price  leverage           pnl       raw_pnl  \\\n",
       "0              1          5          1         1  1.435432e+12  7.977565e+12   \n",
       "\n",
       "   downside  coefficient_of_variation  portfolio_std  sharpe_ratio  \\\n",
       "0      0.95                 10.199205   1.407396e+11     10.199205   \n",
       "\n",
       "   tracking_error  information_ratio  \n",
       "0    1.407396e+11          10.199205  "
      ]
     },
     "execution_count": 86,
     "metadata": {},
     "output_type": "execute_result"
    }
   ],
   "source": [
    "metric = \"raw_pnl\"\n",
    "dropped_columns = [\"date\",\"risk_type\",\"timeframe\",\"selection_percentage\",\"stoploss\",\"rolling_window\",\"portfolio\"]\n",
    "filtered_a = a.drop(dropped_columns,axis=1).sort_values(metric,ascending=False)\n",
    "top = a.sort_values(metric,ascending=False).head(20).to_dict(\"records\")[0]\n",
    "filtered_a.head(20)"
   ]
  },
  {
   "cell_type": "code",
   "execution_count": 87,
   "id": "eee3b894-703e-46bd-9f14-3216ab7f4267",
   "metadata": {},
   "outputs": [],
   "source": [
    "orivault.cloud_connect()\n",
    "orivault.drop(\"results\")\n",
    "orivault.store(\"results\",pd.DataFrame([top]).drop(\"portfolio\",axis=1))\n",
    "orivault.disconnect()"
   ]
  },
  {
   "cell_type": "code",
   "execution_count": 88,
   "id": "c49245a2-f372-487a-9ec0-824f0319adc6",
   "metadata": {},
   "outputs": [],
   "source": [
    "a[\"color\"] = [\"blue\" if x == \"top\" else \"red\" if x == \"bottom\"  else \"green\" for x in a[\"selection_type\"]]\n",
    "a[\"return_to_risk\"] = a[\"pnl\"] / a[\"portfolio_std\"]"
   ]
  },
  {
   "cell_type": "code",
   "execution_count": 89,
   "id": "d0b82c5c-903b-45b2-8fd6-93ed5e7baafd",
   "metadata": {},
   "outputs": [
    {
     "data": {
      "image/png": "[encoded data removed]",
      "text/plain": [
       "<Figure size 800x400 with 2 Axes>"
      ]
     },
     "metadata": {},
     "output_type": "display_data"
    }
   ],
   "source": [
    "fig, axes = plt.subplots(1, 2, figsize=(8, 4), sharey=True)\n",
    "\n",
    "# Titles for each subplot\n",
    "titles = [\"Long\", \"Short\"]\n",
    "\n",
    "# Iterate over directions and corresponding axes\n",
    "for i, position_type in enumerate([\"long\", \"short\"]):\n",
    "    d_analysis = a[a[\"position_type\"] == position_type]\n",
    "    axes[i].scatter(\n",
    "        d_analysis[\"portfolio_std\"],\n",
    "        d_analysis[\"pnl\"],\n",
    "        c=d_analysis[\"color\"],\n",
    "        alpha=0.8,\n",
    "        edgecolors=\"w\",\n",
    "    )\n",
    "    axes[i].set_title(titles[i])\n",
    "    axes[i].set_xlabel(\"return_to_risk\")\n",
    "    axes[i].set_ylabel(\"sharpe_ratio\" if i == 0 else \"\")  # Only label y-axis on the first plot\n",
    "\n",
    "# Adjust layout for better spacing\n",
    "plt.tight_layout()\n",
    "\n",
    "# Show the combined plot\n",
    "plt.show()"
   ]
  },
  {
   "cell_type": "code",
   "execution_count": 90,
   "id": "b234db94-0cf4-400f-a020-67a4d052f7c0",
   "metadata": {},
   "outputs": [],
   "source": [
    "pm = top[\"portfolio\"]\n",
    "trades = pm.trades(simulation.copy())\n",
    "trades = p.additional_date_columns(trades)\n",
    "portfolio = pm.portfolio(trades.copy(),benchmark.copy())\n",
    "portfolio = p.additional_date_columns(portfolio)"
   ]
  },
  {
   "cell_type": "code",
   "execution_count": 100,
   "id": "cb463876-33a8-4186-b257-2bff9bc367b0",
   "metadata": {},
   "outputs": [
    {
     "data": {
      "image/png": "[encoded data removed]",
      "text/plain": [
       "<Figure size 640x480 with 1 Axes>"
      ]
     },
     "metadata": {},
     "output_type": "display_data"
    }
   ],
   "source": [
    "portfolio[\"weekday\"] = portfolio[\"date\"].dt.weekday\n",
    "averaged_portfolio = portfolio.groupby(\"day\").agg({\"weighted_return\":\"mean\",\"return\":\"mean\"}).reset_index()\n",
    "averaged_portfolio[\"pv\"] = averaged_portfolio[\"return\"]\n",
    "plt.plot(averaged_portfolio[\"pv\"][145:].cumprod())\n",
    "plt.show()"
   ]
  },
  {
   "cell_type": "code",
   "execution_count": 36,
   "id": "0e6822cf-c157-4ded-9464-7913982a0fb6",
   "metadata": {},
   "outputs": [],
   "source": [
    "# portfolio['Year-Month'] = portfolio[\"year\"].astype(str) + \"m\" + portfolio[pm.timeframe.value].astype(str)\n",
    "# ax = portfolio[[\"Year-Month\",\"raw_pnl\",\"benchmark_pnl\"]].set_index(\"Year-Month\").plot(\n",
    "#     kind=\"line\",\n",
    "#     figsize=(12, 6),\n",
    "#     title=\"Mean Returns by Exposure per Year and Quarter\"\n",
    "# )\n",
    "\n",
    "# # Set y-axis to have more precise ticks\n",
    "# ax.tick_params(axis='y', direction='in', length=6)  # Adjust y-tick direction and length\n",
    "# ax.yaxis.set_major_formatter(plt.FuncFormatter(lambda x, _: f'{x:.4f}'))  # Format y-ticks with 4 decimal places\n",
    "\n",
    "# # Move y-ticks to the right side\n",
    "# ax.yaxis.set_tick_params(which='both', direction='inout', length=6, labelleft=False, labelright=True)\n",
    "\n",
    "# # Optionally adjust the number of ticks for better precision\n",
    "# ax.yaxis.set_major_locator(plt.MaxNLocator(integer=False, prune='both'))\n",
    "\n",
    "# # Add grid lines\n",
    "# ax.grid(True, which='both', axis='both', linestyle='--', linewidth=0.7)\n",
    "\n",
    "# # Display the plot\n",
    "# plt.tight_layout()\n",
    "# plt.show()"
   ]
  },
  {
   "cell_type": "code",
   "execution_count": 38,
   "id": "e0b25cda-add7-4959-b688-17694e72e7d6",
   "metadata": {},
   "outputs": [
    {
     "data": {
      "text/html": [
       "<div>\n",
       "<style scoped>\n",
       "    .dataframe tbody tr th:only-of-type {\n",
       "        vertical-align: middle;\n",
       "    }\n",
       "\n",
       "    .dataframe tbody tr th {\n",
       "        vertical-align: top;\n",
       "    }\n",
       "\n",
       "    .dataframe thead th {\n",
       "        text-align: right;\n",
       "    }\n",
       "</style>\n",
       "<table border=\"1\" class=\"dataframe\">\n",
       "  <thead>\n",
       "    <tr style=\"text-align: right;\">\n",
       "      <th></th>\n",
       "      <th>unweighted_return</th>\n",
       "    </tr>\n",
       "    <tr>\n",
       "      <th>ticker</th>\n",
       "      <th></th>\n",
       "    </tr>\n",
       "  </thead>\n",
       "  <tbody>\n",
       "    <tr>\n",
       "      <th>TXMD</th>\n",
       "      <td>2.794864</td>\n",
       "    </tr>\n",
       "    <tr>\n",
       "      <th>JTAI</th>\n",
       "      <td>2.500000</td>\n",
       "    </tr>\n",
       "    <tr>\n",
       "      <th>SYTA</th>\n",
       "      <td>2.012285</td>\n",
       "    </tr>\n",
       "    <tr>\n",
       "      <th>BNZI</th>\n",
       "      <td>1.961905</td>\n",
       "    </tr>\n",
       "    <tr>\n",
       "      <th>VSTE</th>\n",
       "      <td>1.679167</td>\n",
       "    </tr>\n",
       "    <tr>\n",
       "      <th>...</th>\n",
       "      <td>...</td>\n",
       "    </tr>\n",
       "    <tr>\n",
       "      <th>KITT</th>\n",
       "      <td>0.698565</td>\n",
       "    </tr>\n",
       "    <tr>\n",
       "      <th>USARW</th>\n",
       "      <td>0.697880</td>\n",
       "    </tr>\n",
       "    <tr>\n",
       "      <th>ANTE</th>\n",
       "      <td>0.665548</td>\n",
       "    </tr>\n",
       "    <tr>\n",
       "      <th>LOTWW</th>\n",
       "      <td>0.600000</td>\n",
       "    </tr>\n",
       "    <tr>\n",
       "      <th>GRYP</th>\n",
       "      <td>0.586797</td>\n",
       "    </tr>\n",
       "  </tbody>\n",
       "</table>\n",
       "<p>1107 rows × 1 columns</p>\n",
       "</div>"
      ],
      "text/plain": [
       "        unweighted_return\n",
       "ticker                   \n",
       "TXMD             2.794864\n",
       "JTAI             2.500000\n",
       "SYTA             2.012285\n",
       "BNZI             1.961905\n",
       "VSTE             1.679167\n",
       "...                   ...\n",
       "KITT             0.698565\n",
       "USARW            0.697880\n",
       "ANTE             0.665548\n",
       "LOTWW            0.600000\n",
       "GRYP             0.586797\n",
       "\n",
       "[1107 rows x 1 columns]"
      ]
     },
     "execution_count": 38,
     "metadata": {},
     "output_type": "execute_result"
    }
   ],
   "source": [
    "trades[[\"ticker\",\"unweighted_return\"]].groupby(\"ticker\").mean().sort_values(\"unweighted_return\",ascending=False)"
   ]
  },
  {
   "cell_type": "code",
   "execution_count": 20,
   "id": "5723e18a-3802-43a0-b551-30bc0c255a9d",
   "metadata": {},
   "outputs": [
    {
     "data": {
      "text/html": [
       "<div>\n",
       "<style scoped>\n",
       "    .dataframe tbody tr th:only-of-type {\n",
       "        vertical-align: middle;\n",
       "    }\n",
       "\n",
       "    .dataframe tbody tr th {\n",
       "        vertical-align: top;\n",
       "    }\n",
       "\n",
       "    .dataframe thead th {\n",
       "        text-align: right;\n",
       "    }\n",
       "</style>\n",
       "<table border=\"1\" class=\"dataframe\">\n",
       "  <thead>\n",
       "    <tr style=\"text-align: right;\">\n",
       "      <th></th>\n",
       "      <th>index</th>\n",
       "      <th>year</th>\n",
       "      <th>day</th>\n",
       "      <th>date</th>\n",
       "      <th>weighted_return</th>\n",
       "      <th>return</th>\n",
       "      <th>pnl</th>\n",
       "      <th>raw_pnl</th>\n",
       "      <th>benchmark</th>\n",
       "      <th>benchmark_pnl</th>\n",
       "      <th>month</th>\n",
       "      <th>quarter</th>\n",
       "      <th>week</th>\n",
       "      <th>weekday</th>\n",
       "      <th>Year-Month</th>\n",
       "    </tr>\n",
       "  </thead>\n",
       "  <tbody>\n",
       "    <tr>\n",
       "      <th>0</th>\n",
       "      <td>0</td>\n",
       "      <td>2021</td>\n",
       "      <td>4</td>\n",
       "      <td>2021-01-04 00:00:00+00:00</td>\n",
       "      <td>1.020295</td>\n",
       "      <td>1.020295</td>\n",
       "      <td>1.020295</td>\n",
       "      <td>1.020295e+00</td>\n",
       "      <td>111.56</td>\n",
       "      <td>1.000000</td>\n",
       "      <td>1</td>\n",
       "      <td>1</td>\n",
       "      <td>1</td>\n",
       "      <td>0</td>\n",
       "      <td>2021m4</td>\n",
       "    </tr>\n",
       "    <tr>\n",
       "      <th>1</th>\n",
       "      <td>1</td>\n",
       "      <td>2021</td>\n",
       "      <td>5</td>\n",
       "      <td>2021-01-05 00:00:00+00:00</td>\n",
       "      <td>1.025950</td>\n",
       "      <td>1.025950</td>\n",
       "      <td>1.046771</td>\n",
       "      <td>1.046771e+00</td>\n",
       "      <td>112.16</td>\n",
       "      <td>1.005378</td>\n",
       "      <td>1</td>\n",
       "      <td>1</td>\n",
       "      <td>1</td>\n",
       "      <td>1</td>\n",
       "      <td>2021m5</td>\n",
       "    </tr>\n",
       "    <tr>\n",
       "      <th>2</th>\n",
       "      <td>2</td>\n",
       "      <td>2021</td>\n",
       "      <td>6</td>\n",
       "      <td>2021-01-06 00:00:00+00:00</td>\n",
       "      <td>1.028894</td>\n",
       "      <td>1.028894</td>\n",
       "      <td>1.077017</td>\n",
       "      <td>1.077017e+00</td>\n",
       "      <td>117.43</td>\n",
       "      <td>1.052617</td>\n",
       "      <td>1</td>\n",
       "      <td>1</td>\n",
       "      <td>1</td>\n",
       "      <td>2</td>\n",
       "      <td>2021m6</td>\n",
       "    </tr>\n",
       "    <tr>\n",
       "      <th>3</th>\n",
       "      <td>3</td>\n",
       "      <td>2021</td>\n",
       "      <td>7</td>\n",
       "      <td>2021-01-07 00:00:00+00:00</td>\n",
       "      <td>1.027987</td>\n",
       "      <td>1.027987</td>\n",
       "      <td>1.107160</td>\n",
       "      <td>1.107160e+00</td>\n",
       "      <td>121.28</td>\n",
       "      <td>1.087128</td>\n",
       "      <td>1</td>\n",
       "      <td>1</td>\n",
       "      <td>1</td>\n",
       "      <td>3</td>\n",
       "      <td>2021m7</td>\n",
       "    </tr>\n",
       "    <tr>\n",
       "      <th>4</th>\n",
       "      <td>4</td>\n",
       "      <td>2021</td>\n",
       "      <td>8</td>\n",
       "      <td>2021-01-08 00:00:00+00:00</td>\n",
       "      <td>1.022058</td>\n",
       "      <td>1.022058</td>\n",
       "      <td>1.131582</td>\n",
       "      <td>1.131582e+00</td>\n",
       "      <td>121.42</td>\n",
       "      <td>1.088383</td>\n",
       "      <td>1</td>\n",
       "      <td>1</td>\n",
       "      <td>1</td>\n",
       "      <td>4</td>\n",
       "      <td>2021m8</td>\n",
       "    </tr>\n",
       "    <tr>\n",
       "      <th>...</th>\n",
       "      <td>...</td>\n",
       "      <td>...</td>\n",
       "      <td>...</td>\n",
       "      <td>...</td>\n",
       "      <td>...</td>\n",
       "      <td>...</td>\n",
       "      <td>...</td>\n",
       "      <td>...</td>\n",
       "      <td>...</td>\n",
       "      <td>...</td>\n",
       "      <td>...</td>\n",
       "      <td>...</td>\n",
       "      <td>...</td>\n",
       "      <td>...</td>\n",
       "      <td>...</td>\n",
       "    </tr>\n",
       "    <tr>\n",
       "      <th>1094</th>\n",
       "      <td>1094</td>\n",
       "      <td>2025</td>\n",
       "      <td>133</td>\n",
       "      <td>2025-05-13 00:00:00+00:00</td>\n",
       "      <td>1.015036</td>\n",
       "      <td>1.015036</td>\n",
       "      <td>262120.510341</td>\n",
       "      <td>3.978240e+06</td>\n",
       "      <td>263.01</td>\n",
       "      <td>2.357565</td>\n",
       "      <td>5</td>\n",
       "      <td>2</td>\n",
       "      <td>20</td>\n",
       "      <td>1</td>\n",
       "      <td>2025m133</td>\n",
       "    </tr>\n",
       "    <tr>\n",
       "      <th>1095</th>\n",
       "      <td>1095</td>\n",
       "      <td>2025</td>\n",
       "      <td>134</td>\n",
       "      <td>2025-05-14 00:00:00+00:00</td>\n",
       "      <td>1.019571</td>\n",
       "      <td>1.019571</td>\n",
       "      <td>267250.391141</td>\n",
       "      <td>4.056097e+06</td>\n",
       "      <td>265.64</td>\n",
       "      <td>2.381140</td>\n",
       "      <td>5</td>\n",
       "      <td>2</td>\n",
       "      <td>20</td>\n",
       "      <td>2</td>\n",
       "      <td>2025m134</td>\n",
       "    </tr>\n",
       "    <tr>\n",
       "      <th>1096</th>\n",
       "      <td>1096</td>\n",
       "      <td>2025</td>\n",
       "      <td>135</td>\n",
       "      <td>2025-05-15 00:00:00+00:00</td>\n",
       "      <td>0.978070</td>\n",
       "      <td>0.978070</td>\n",
       "      <td>261389.610533</td>\n",
       "      <td>3.967147e+06</td>\n",
       "      <td>267.49</td>\n",
       "      <td>2.397723</td>\n",
       "      <td>5</td>\n",
       "      <td>2</td>\n",
       "      <td>20</td>\n",
       "      <td>3</td>\n",
       "      <td>2025m135</td>\n",
       "    </tr>\n",
       "    <tr>\n",
       "      <th>1097</th>\n",
       "      <td>1097</td>\n",
       "      <td>2025</td>\n",
       "      <td>136</td>\n",
       "      <td>2025-05-16 00:00:00+00:00</td>\n",
       "      <td>0.998308</td>\n",
       "      <td>0.998308</td>\n",
       "      <td>260947.374381</td>\n",
       "      <td>3.960435e+06</td>\n",
       "      <td>267.56</td>\n",
       "      <td>2.398351</td>\n",
       "      <td>5</td>\n",
       "      <td>2</td>\n",
       "      <td>20</td>\n",
       "      <td>4</td>\n",
       "      <td>2025m136</td>\n",
       "    </tr>\n",
       "    <tr>\n",
       "      <th>1098</th>\n",
       "      <td>1098</td>\n",
       "      <td>2025</td>\n",
       "      <td>139</td>\n",
       "      <td>2025-05-19 00:00:00+00:00</td>\n",
       "      <td>1.034519</td>\n",
       "      <td>1.034519</td>\n",
       "      <td>269955.011426</td>\n",
       "      <td>4.097145e+06</td>\n",
       "      <td>264.88</td>\n",
       "      <td>2.374328</td>\n",
       "      <td>5</td>\n",
       "      <td>2</td>\n",
       "      <td>21</td>\n",
       "      <td>0</td>\n",
       "      <td>2025m139</td>\n",
       "    </tr>\n",
       "  </tbody>\n",
       "</table>\n",
       "<p>1099 rows × 15 columns</p>\n",
       "</div>"
      ],
      "text/plain": [
       "      index  year  day                      date  weighted_return    return  \\\n",
       "0         0  2021    4 2021-01-04 00:00:00+00:00         1.020295  1.020295   \n",
       "1         1  2021    5 2021-01-05 00:00:00+00:00         1.025950  1.025950   \n",
       "2         2  2021    6 2021-01-06 00:00:00+00:00         1.028894  1.028894   \n",
       "3         3  2021    7 2021-01-07 00:00:00+00:00         1.027987  1.027987   \n",
       "4         4  2021    8 2021-01-08 00:00:00+00:00         1.022058  1.022058   \n",
       "...     ...   ...  ...                       ...              ...       ...   \n",
       "1094   1094  2025  133 2025-05-13 00:00:00+00:00         1.015036  1.015036   \n",
       "1095   1095  2025  134 2025-05-14 00:00:00+00:00         1.019571  1.019571   \n",
       "1096   1096  2025  135 2025-05-15 00:00:00+00:00         0.978070  0.978070   \n",
       "1097   1097  2025  136 2025-05-16 00:00:00+00:00         0.998308  0.998308   \n",
       "1098   1098  2025  139 2025-05-19 00:00:00+00:00         1.034519  1.034519   \n",
       "\n",
       "                pnl       raw_pnl  benchmark  benchmark_pnl  month  quarter  \\\n",
       "0          1.020295  1.020295e+00     111.56       1.000000      1        1   \n",
       "1          1.046771  1.046771e+00     112.16       1.005378      1        1   \n",
       "2          1.077017  1.077017e+00     117.43       1.052617      1        1   \n",
       "3          1.107160  1.107160e+00     121.28       1.087128      1        1   \n",
       "4          1.131582  1.131582e+00     121.42       1.088383      1        1   \n",
       "...             ...           ...        ...            ...    ...      ...   \n",
       "1094  262120.510341  3.978240e+06     263.01       2.357565      5        2   \n",
       "1095  267250.391141  4.056097e+06     265.64       2.381140      5        2   \n",
       "1096  261389.610533  3.967147e+06     267.49       2.397723      5        2   \n",
       "1097  260947.374381  3.960435e+06     267.56       2.398351      5        2   \n",
       "1098  269955.011426  4.097145e+06     264.88       2.374328      5        2   \n",
       "\n",
       "      week  weekday Year-Month  \n",
       "0        1        0     2021m4  \n",
       "1        1        1     2021m5  \n",
       "2        1        2     2021m6  \n",
       "3        1        3     2021m7  \n",
       "4        1        4     2021m8  \n",
       "...    ...      ...        ...  \n",
       "1094    20        1   2025m133  \n",
       "1095    20        2   2025m134  \n",
       "1096    20        3   2025m135  \n",
       "1097    20        4   2025m136  \n",
       "1098    21        0   2025m139  \n",
       "\n",
       "[1099 rows x 15 columns]"
      ]
     },
     "execution_count": 20,
     "metadata": {},
     "output_type": "execute_result"
    }
   ],
   "source": [
    "portfolio.sort_values(\"date\")"
   ]
  },
  {
   "cell_type": "code",
   "execution_count": 39,
   "id": "ade9fb1b-5b1d-4dcd-8706-82fa610ae6eb",
   "metadata": {},
   "outputs": [
    {
     "data": {
      "image/png": "[encoded data removed]",
      "text/plain": [
       "<Figure size 640x480 with 1 Axes>"
      ]
     },
     "metadata": {},
     "output_type": "display_data"
    }
   ],
   "source": [
    "plt.scatter(trades[\"distance\"],trades[\"return\"],s=10,c=trades[\"group_percentile\"].astype(int)*10,cmap=\"Pastel2\")\n",
    "plt.show()"
   ]
  }
 ],
 "metadata": {
  "kernelspec": {
   "display_name": "Python 3 (ipykernel)",
   "language": "python",
   "name": "python3"
  },
  "language_info": {
   "codemirror_mode": {
    "name": "ipython",
    "version": 3
   },
   "file_extension": ".py",
   "mimetype": "text/x-python",
   "name": "python",
   "nbconvert_exporter": "python",
   "pygments_lexer": "ipython3",
   "version": "3.11.9"
  }
 },
 "nbformat": 4,
 "nbformat_minor": 5
}
