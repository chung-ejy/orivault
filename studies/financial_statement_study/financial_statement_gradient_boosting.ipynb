{
 "cells": [
  {
   "cell_type": "code",
   "execution_count": 1,
   "id": "16989731-6c5a-4d33-92da-7556bcee1fcc",
   "metadata": {},
   "outputs": [],
   "source": [
    "## PATH settings\n",
    "import os\n",
    "import sys\n",
    "project_root = os.path.abspath(os.path.join(os.getcwd(), '../../'))\n",
    "sys.path.append(project_root)\n",
    "COMMON_PATH = os.path.join(project_root, 'common')"
   ]
  },
  {
   "cell_type": "code",
   "execution_count": 2,
   "id": "73094c60-497a-45ac-bd01-8db8578730b7",
   "metadata": {},
   "outputs": [],
   "source": [
    "## Bespoke class imports\n",
    "from common.database.adatabase import ADatabase\n",
    "from common.processor.processor import Processor as p\n",
    "from financial_common.risk.rolling_factor_analysis import RollingFactorAnalysis\n",
    "from financial_common.risk.single_index_capm import SingleIndexCAPM\n",
    "from financial_common.indicator.indicator import Indicator\n",
    "from financial_common.risk.benchmark import Benchmark\n",
    "from financial_common.portfolio_management.metrics import Metrics\n",
    "from financial_common.portfolio_management.portfolio_selection import PortfolioSelection\n",
    "import numpy as np"
   ]
  },
  {
   "cell_type": "code",
   "execution_count": 6,
   "id": "d04c2c49-144d-4ff3-acf0-e1ff11afa8a8",
   "metadata": {},
   "outputs": [],
   "source": [
    "## Import standard packages\n",
    "from xgboost import XGBRegressor\n",
    "from datetime import timedelta\n",
    "import matplotlib.pyplot as plt\n",
    "from tqdm import tqdm\n",
    "import pandas as pd\n",
    "from time import sleep"
   ]
  },
  {
   "cell_type": "code",
   "execution_count": 7,
   "id": "9131bcf0-e2ac-489b-ac60-ab69b8feda22",
   "metadata": {},
   "outputs": [],
   "source": [
    "sec = ADatabase(\"sec\")\n",
    "market = ADatabase(\"market\")\n",
    "fred = ADatabase(\"fred\")"
   ]
  },
  {
   "cell_type": "code",
   "execution_count": 8,
   "id": "a4179cff-dd72-4218-9d7a-7e01333a3a58",
   "metadata": {},
   "outputs": [],
   "source": [
    "## Retrieve existing stocks \n",
    "market.connect()\n",
    "index = market.retrieve(\"ticker_overview\")\n",
    "market.disconnect()\n",
    "sic_codes = pd.read_csv(\"../../csv_files/sic_codes.csv\").rename(columns={\"SIC Code\":\"sic_code\",\"Office\":\"office\"}).dropna()\n",
    "index[\"sic_code\"] = index[\"sic_code\"].fillna(0).astype(int)\n",
    "sic_codes[\"sic_code\"] = sic_codes[\"sic_code\"].fillna(0).astype(int)\n",
    "index = index.merge(sic_codes[[\"sic_code\",\"office\"]],on=\"sic_code\")\n",
    "\n",
    "## Retrieve previously calculated Macro Projections\n",
    "fred.connect()\n",
    "sp500 = p.lower_column(fred.retrieve(\"sp500_projections\").rename(columns={\"prediction\":\"sp500_prediction\"}))\n",
    "sp500 = p.utc_date(sp500)\n",
    "interest_rates = p.lower_column(fred.retrieve(\"market_yield\").rename(columns={\"value\":\"rf\"}))\n",
    "interest_rates = p.utc_date(interest_rates)\n",
    "interest_rates[\"rf\"] = interest_rates[\"rf\"].replace(\".\",0)\n",
    "interest_rates[\"rf\"] = [float(x) / 100 for x in interest_rates[\"rf\"]]\n",
    "fred.disconnect()\n",
    "macro = sp500.merge(interest_rates,on=\"date\",how=\"left\")\n",
    "macro = p.utc_date(macro)"
   ]
  },
  {
   "cell_type": "code",
   "execution_count": 20,
   "id": "fa7d5ea3-1219-4acb-8928-3f9219aa70c9",
   "metadata": {},
   "outputs": [],
   "source": [
    "factors = [\"assets\",\"liabilities\",\"revenue\",\"reference_price\"]"
   ]
  },
  {
   "cell_type": "code",
   "execution_count": 21,
   "id": "635c8aca-eddc-4b55-a8c3-e351e27a11e9",
   "metadata": {
    "scrolled": true
   },
   "outputs": [
    {
     "name": "stderr",
     "output_type": "stream",
     "text": [
      "4327it [02:47, 25.78it/s]\n"
     ]
    }
   ],
   "source": [
    "market.connect()\n",
    "sec.connect()\n",
    "factors_df = []\n",
    "for row in tqdm(index.iterrows()):\n",
    "    try:\n",
    "        ticker = row[1][\"ticker\"]\n",
    "        cik = int(row[1][\"cik\"])\n",
    "        price = market.query(\"prices\",{\"ticker\":ticker})\n",
    "        filings = sec.query(\"filings\",{\"cik\":cik})\n",
    "        if price.index.size > 0 and filings.index.size > 0:\n",
    "            price = p.utc_date(price)\n",
    "            price = p.additional_date_columns(price)\n",
    "            price.sort_values(\"date\",inplace=True)\n",
    "            price = Indicator.ROLLING_DOLLAR_VOLUME.calculate(price)\n",
    "            filings = p.utc_date(filings)\n",
    "            filings = p.lower_column(filings)\n",
    "            filings = p.additional_date_columns(filings)\n",
    "            ticker_factors = filings.drop([\"date\",\"month\",\"week\",\"cik\"],axis=1).groupby([\"year\",\"quarter\"]).mean().reset_index()\n",
    "            price = price.drop([\"date\",\"ticker\"],axis=1).groupby([\"year\",\"quarter\"]).mean().reset_index()\n",
    "            ticker_factors = ticker_factors.merge(price,on=[\"year\",\"quarter\"],how=\"left\")\n",
    "            ticker_factors = ticker_factors.ffill()\n",
    "            ticker_factors[\"year\"] = ticker_factors[\"year\"] + 1\n",
    "            if ticker_factors.index.size > 0:\n",
    "                ticker_factors[\"ticker\"] = ticker\n",
    "                ticker_factors[\"reference_price\"] = ticker_factors[\"adjclose\"].shift(1)\n",
    "                ticker_factors[\"y\"] = ticker_factors[\"adjclose\"].shift(-1)\n",
    "                factors_df.append(ticker_factors[[\"year\",\"quarter\",\"ticker\",\"adjclose\",\"rolling_dollar_volume\",\"y\"]+factors])\n",
    "    except Exception as e:\n",
    "        print(ticker,str(e))\n",
    "        continue\n",
    "sec.disconnect()\n",
    "market.disconnect()\n",
    "factors_df = pd.concat(factors_df).sort_values([\"year\",\"quarter\"])"
   ]
  },
  {
   "cell_type": "code",
   "execution_count": 22,
   "id": "990d4999-cc4d-4264-b239-10fb0f4773af",
   "metadata": {},
   "outputs": [],
   "source": [
    "model_start = 2015\n",
    "model_end = 2022\n",
    "backtest_end = 2026\n",
    "model = XGBRegressor(booster=\"gbtree\",random_state=42)\n",
    "factors_df = factors_df.dropna(subset=factors)\n",
    "training_data = factors_df[(factors_df[\"year\"]>=model_start) & (factors_df[\"year\"]<model_end)].dropna()\n",
    "sim = factors_df[(factors_df[\"year\"]>=model_end-1) & (factors_df[\"year\"]<backtest_end)].dropna(subset=factors)\n",
    "model.fit(training_data[factors],training_data[\"y\"])\n",
    "sim[\"prediction\"] = model.predict(sim[factors])\n",
    "sim = sim[[\"ticker\",\"year\",\"quarter\",\"prediction\"]]"
   ]
  },
  {
   "cell_type": "code",
   "execution_count": 23,
   "id": "0f877ba0-a338-475c-a1d7-f4882b2c1fa7",
   "metadata": {
    "scrolled": true
   },
   "outputs": [
    {
     "name": "stderr",
     "output_type": "stream",
     "text": [
      "  0%|▌                                                                                                                                                        | 15/4327 [00:00<04:34, 15.71it/s]"
     ]
    },
    {
     "name": "stdout",
     "output_type": "stream",
     "text": [
      "'date'\n"
     ]
    },
    {
     "name": "stderr",
     "output_type": "stream",
     "text": [
      "  1%|█▏                                                                                                                                                       | 35/4327 [00:02<04:28, 16.00it/s]"
     ]
    },
    {
     "name": "stdout",
     "output_type": "stream",
     "text": [
      "'date'\n"
     ]
    },
    {
     "name": "stderr",
     "output_type": "stream",
     "text": [
      "  3%|████▏                                                                                                                                                   | 119/4327 [00:07<03:59, 17.58it/s]"
     ]
    },
    {
     "name": "stdout",
     "output_type": "stream",
     "text": [
      "'date'\n"
     ]
    },
    {
     "name": "stderr",
     "output_type": "stream",
     "text": [
      " 12%|██████████████████                                                                                                                                      | 513/4327 [00:35<03:29, 18.22it/s]"
     ]
    },
    {
     "name": "stdout",
     "output_type": "stream",
     "text": [
      "'date'\n",
      "'date'\n"
     ]
    },
    {
     "name": "stderr",
     "output_type": "stream",
     "text": [
      " 12%|██████████████████▌                                                                                                                                     | 529/4327 [00:37<04:35, 13.77it/s]"
     ]
    },
    {
     "name": "stdout",
     "output_type": "stream",
     "text": [
      "'date'\n"
     ]
    },
    {
     "name": "stderr",
     "output_type": "stream",
     "text": [
      " 13%|███████████████████▎                                                                                                                                    | 550/4327 [00:38<03:23, 18.59it/s]"
     ]
    },
    {
     "name": "stdout",
     "output_type": "stream",
     "text": [
      "'date'\n"
     ]
    },
    {
     "name": "stderr",
     "output_type": "stream",
     "text": [
      " 15%|██████████████████████                                                                                                                                  | 629/4327 [00:43<03:42, 16.64it/s]"
     ]
    },
    {
     "name": "stdout",
     "output_type": "stream",
     "text": [
      "'date'\n",
      "'date'\n"
     ]
    },
    {
     "name": "stderr",
     "output_type": "stream",
     "text": [
      " 18%|███████████████████████████▎                                                                                                                            | 777/4327 [00:54<03:34, 16.55it/s]"
     ]
    },
    {
     "name": "stdout",
     "output_type": "stream",
     "text": [
      "'date'\n"
     ]
    },
    {
     "name": "stderr",
     "output_type": "stream",
     "text": [
      " 19%|█████████████████████████████▌                                                                                                                          | 843/4327 [00:58<03:51, 15.08it/s]"
     ]
    },
    {
     "name": "stdout",
     "output_type": "stream",
     "text": [
      "'date'\n"
     ]
    },
    {
     "name": "stderr",
     "output_type": "stream",
     "text": [
      " 20%|██████████████████████████████▍                                                                                                                         | 866/4327 [01:00<04:04, 14.14it/s]"
     ]
    },
    {
     "name": "stdout",
     "output_type": "stream",
     "text": [
      "'date'\n"
     ]
    },
    {
     "name": "stderr",
     "output_type": "stream",
     "text": [
      " 22%|████████████████████████████████▉                                                                                                                       | 936/4327 [01:05<03:44, 15.10it/s]"
     ]
    },
    {
     "name": "stdout",
     "output_type": "stream",
     "text": [
      "'date'\n"
     ]
    },
    {
     "name": "stderr",
     "output_type": "stream",
     "text": [
      " 23%|██████████████████████████████████▋                                                                                                                     | 989/4327 [01:09<02:46, 20.03it/s]"
     ]
    },
    {
     "name": "stdout",
     "output_type": "stream",
     "text": [
      "'date'\n",
      "'date'\n"
     ]
    },
    {
     "name": "stderr",
     "output_type": "stream",
     "text": [
      " 25%|█████████████████████████████████████▉                                                                                                                 | 1088/4327 [01:16<03:55, 13.73it/s]"
     ]
    },
    {
     "name": "stdout",
     "output_type": "stream",
     "text": [
      "'date'\n"
     ]
    },
    {
     "name": "stderr",
     "output_type": "stream",
     "text": [
      " 38%|█████████████████████████████████████████████████████████▌                                                                                             | 1648/4327 [01:56<02:57, 15.12it/s]"
     ]
    },
    {
     "name": "stdout",
     "output_type": "stream",
     "text": [
      "'date'\n"
     ]
    },
    {
     "name": "stderr",
     "output_type": "stream",
     "text": [
      " 41%|█████████████████████████████████████████████████████████████▍                                                                                         | 1759/4327 [02:03<02:31, 16.92it/s]"
     ]
    },
    {
     "name": "stdout",
     "output_type": "stream",
     "text": [
      "'date'\n"
     ]
    },
    {
     "name": "stderr",
     "output_type": "stream",
     "text": [
      " 42%|███████████████████████████████████████████████████████████████                                                                                        | 1807/4327 [02:07<02:55, 14.40it/s]"
     ]
    },
    {
     "name": "stdout",
     "output_type": "stream",
     "text": [
      "'date'\n"
     ]
    },
    {
     "name": "stderr",
     "output_type": "stream",
     "text": [
      " 44%|██████████████████████████████████████████████████████████████████▌                                                                                    | 1909/4327 [02:14<02:45, 14.58it/s]"
     ]
    },
    {
     "name": "stdout",
     "output_type": "stream",
     "text": [
      "'date'\n"
     ]
    },
    {
     "name": "stderr",
     "output_type": "stream",
     "text": [
      " 52%|███████████████████████████████████████████████████████████████████████████████                                                                        | 2266/4327 [02:41<02:18, 14.92it/s]"
     ]
    },
    {
     "name": "stdout",
     "output_type": "stream",
     "text": [
      "'date'\n"
     ]
    },
    {
     "name": "stderr",
     "output_type": "stream",
     "text": [
      " 53%|███████████████████████████████████████████████████████████████████████████████▌                                                                       | 2279/4327 [02:42<02:00, 16.99it/s]"
     ]
    },
    {
     "name": "stdout",
     "output_type": "stream",
     "text": [
      "'date'\n",
      "'date'\n"
     ]
    },
    {
     "name": "stderr",
     "output_type": "stream",
     "text": [
      " 58%|███████████████████████████████████████████████████████████████████████████████████████▌                                                               | 2508/4327 [02:58<02:01, 14.96it/s]"
     ]
    },
    {
     "name": "stdout",
     "output_type": "stream",
     "text": [
      "'date'\n"
     ]
    },
    {
     "name": "stderr",
     "output_type": "stream",
     "text": [
      " 59%|█████████████████████████████████████████████████████████████████████████████████████████                                                              | 2552/4327 [03:02<02:15, 13.13it/s]"
     ]
    },
    {
     "name": "stdout",
     "output_type": "stream",
     "text": [
      "'date'\n",
      "'date'\n"
     ]
    },
    {
     "name": "stderr",
     "output_type": "stream",
     "text": [
      " 62%|█████████████████████████████████████████████████████████████████████████████████████████████▋                                                         | 2683/4327 [03:12<01:40, 16.32it/s]"
     ]
    },
    {
     "name": "stdout",
     "output_type": "stream",
     "text": [
      "'date'\n"
     ]
    },
    {
     "name": "stderr",
     "output_type": "stream",
     "text": [
      " 64%|████████████████████████████████████████████████████████████████████████████████████████████████▎                                                      | 2760/4327 [03:17<01:33, 16.75it/s]"
     ]
    },
    {
     "name": "stdout",
     "output_type": "stream",
     "text": [
      "'date'\n"
     ]
    },
    {
     "name": "stderr",
     "output_type": "stream",
     "text": [
      " 70%|█████████████████████████████████████████████████████████████████████████████████████████████████████████▋                                             | 3030/4327 [03:35<01:31, 14.21it/s]"
     ]
    },
    {
     "name": "stdout",
     "output_type": "stream",
     "text": [
      "'date'\n"
     ]
    },
    {
     "name": "stderr",
     "output_type": "stream",
     "text": [
      " 82%|████████████████████████████████████████████████████████████████████████████████████████████████████████████████████████████▎                          | 3561/4327 [04:11<00:38, 19.83it/s]"
     ]
    },
    {
     "name": "stdout",
     "output_type": "stream",
     "text": [
      "'date'\n"
     ]
    },
    {
     "name": "stderr",
     "output_type": "stream",
     "text": [
      " 84%|███████████████████████████████████████████████████████████████████████████████████████████████████████████████████████████████▎                       | 3647/4327 [04:17<00:40, 16.96it/s]"
     ]
    },
    {
     "name": "stdout",
     "output_type": "stream",
     "text": [
      "'date'\n"
     ]
    },
    {
     "name": "stderr",
     "output_type": "stream",
     "text": [
      " 87%|██████████████████████████████████████████████████████████████████████████████████████████████████████████████████████████████████▉                    | 3751/4327 [04:24<00:36, 15.86it/s]"
     ]
    },
    {
     "name": "stdout",
     "output_type": "stream",
     "text": [
      "'date'\n"
     ]
    },
    {
     "name": "stderr",
     "output_type": "stream",
     "text": [
      " 92%|██████████████████████████████████████████████████████████████████████████████████████████████████████████████████████████████████████████▍            | 3968/4327 [04:40<00:23, 15.11it/s]"
     ]
    },
    {
     "name": "stdout",
     "output_type": "stream",
     "text": [
      "'date'\n"
     ]
    },
    {
     "name": "stderr",
     "output_type": "stream",
     "text": [
      " 98%|███████████████████████████████████████████████████████████████████████████████████████████████████████████████████████████████████████████████████▍   | 4224/4327 [04:59<00:07, 14.00it/s]"
     ]
    },
    {
     "name": "stdout",
     "output_type": "stream",
     "text": [
      "'date'\n"
     ]
    },
    {
     "name": "stderr",
     "output_type": "stream",
     "text": [
      "100%|███████████████████████████████████████████████████████████████████████████████████████████████████████████████████████████████████████████████████████| 4327/4327 [05:05<00:00, 14.15it/s]\n"
     ]
    }
   ],
   "source": [
    "market.connect()\n",
    "prices = []\n",
    "for ticker in tqdm(index[\"ticker\"]):\n",
    "    try:\n",
    "        price = p.utc_date(market.query(\"prices\",{\"ticker\":ticker}))\n",
    "        price = p.additional_date_columns(market.query(\"prices\",{\"ticker\":ticker}))\n",
    "        price.sort_values(\"date\",inplace=True)\n",
    "        price = price.merge(sim,on=[\"year\",\"quarter\",\"ticker\"],how=\"left\")\n",
    "        price = p.utc_date(price)\n",
    "        price = price.merge(macro,on=\"date\",how=\"left\")\n",
    "        price[\"factor\"] = price[\"prediction\"] / price[\"adjclose\"] - 1\n",
    "        price = SingleIndexCAPM.apply(price)\n",
    "        prices.append(price)\n",
    "    except Exception as e:\n",
    "        print(str(e))\n",
    "        continue\n",
    "market.disconnect()"
   ]
  },
  {
   "cell_type": "code",
   "execution_count": 24,
   "id": "31941a64-38c4-4616-8dcf-e7a70d5987cf",
   "metadata": {},
   "outputs": [
    {
     "data": {
      "text/plain": [
       "Index(['date', 'close', 'high', 'low', 'open', 'volume', 'adjclose', 'adjhigh',\n",
       "       'adjlow', 'adjopen', 'adjvolume', 'divcash', 'splitfactor', 'ticker',\n",
       "       'year', 'month', 'quarter', 'week', 'realtime_start', 'realtime_end',\n",
       "       'rf', 'factor', 'risk', 'sigma'],\n",
       "      dtype='object')"
      ]
     },
     "execution_count": 24,
     "metadata": {},
     "output_type": "execute_result"
    }
   ],
   "source": [
    "sim = pd.concat(prices)\n",
    "sim.columns"
   ]
  },
  {
   "cell_type": "code",
   "execution_count": 43,
   "id": "716d56a9-ac81-45d1-b7d7-1938b186f93f",
   "metadata": {},
   "outputs": [
    {
     "data": {
      "text/plain": [
       "Index(['ticker', 'name', 'market', 'locale', 'primary_exchange', 'type',\n",
       "       'active', 'currency_name', 'cik', 'composite_figi', 'share_class_figi',\n",
       "       'market_cap', 'phone_number', 'address', 'description', 'sic_code',\n",
       "       'sic_description', 'ticker_root', 'homepage_url', 'total_employees',\n",
       "       'list_date', 'branding', 'share_class_shares_outstanding',\n",
       "       'weighted_shares_outstanding', 'round_lot', 'ticker_suffix', 'office'],\n",
       "      dtype='object')"
      ]
     },
     "execution_count": 43,
     "metadata": {},
     "output_type": "execute_result"
    }
   ],
   "source": [
    "index.columns"
   ]
  },
  {
   "cell_type": "code",
   "execution_count": 44,
   "id": "1397bd57-8758-4eed-aed0-f9dae259b678",
   "metadata": {},
   "outputs": [
    {
     "data": {
      "text/plain": [
       "Index(['date', 'close', 'high', 'low', 'open', 'volume', 'adjclose', 'adjhigh',\n",
       "       'adjlow', 'adjopen', 'adjvolume', 'divcash', 'splitfactor', 'ticker',\n",
       "       'year', 'month', 'quarter', 'week', 'realtime_start', 'realtime_end',\n",
       "       'rf', 'factor', 'risk', 'sigma', 'sic_description', 'sell_price',\n",
       "       'sell_date'],\n",
       "      dtype='object')"
      ]
     },
     "execution_count": 44,
     "metadata": {},
     "output_type": "execute_result"
    }
   ],
   "source": [
    "## getting names\n",
    "simulation = pd.concat(prices).merge(index[[\"ticker\",\"sic_description\"]],on=\"ticker\",how=\"left\")\n",
    "\n",
    "## subsetting backtesting data\n",
    "simulation = simulation[(simulation[\"year\"]>=model_end) & (simulation[\"year\"]<backtest_end)].dropna(subset=\"factor\")\n",
    "tickers = list(simulation[simulation[\"year\"]==model_end][\"ticker\"].unique())\n",
    "simulation = simulation[simulation[\"ticker\"].isin(tickers)]\n",
    "\n",
    "simulation.sort_values(\"date\", inplace=True)\n",
    "simulation[\"sell_price\"] = simulation[\"adjclose\"]\n",
    "simulation[\"sell_date\"] = simulation[\"date\"]"
   ]
  },
  {
   "cell_type": "code",
   "execution_count": 60,
   "id": "6ed16a90-2e22-4801-ba0f-27be1b70db4e",
   "metadata": {},
   "outputs": [],
   "source": [
    "portfolios = PortfolioSelection.generate_possible_portfolios(group_percentages=[0.01],grouping_columns=[\"sic_description\"])"
   ]
  },
  {
   "cell_type": "code",
   "execution_count": 61,
   "id": "953a0a5f-607d-41b7-91de-7b633013bc3e",
   "metadata": {},
   "outputs": [],
   "source": [
    "## Defining Benchmark\n",
    "market.connect()\n",
    "benchmark = market.query(\"prices\",{\"ticker\":\"JPM\"})\n",
    "market.disconnect()\n",
    "benchmark = Benchmark.convert_to_benchmark(benchmark,\"adjclose\")"
   ]
  },
  {
   "cell_type": "code",
   "execution_count": 62,
   "id": "77503bfe-13cf-4b3f-b975-a6d519b71862",
   "metadata": {},
   "outputs": [
    {
     "name": "stderr",
     "output_type": "stream",
     "text": [
      "100%|███████████████████████████████████████████████████████████████████████████████████████████████████████████████████████████████████████████████████████████| 18/18 [03:00<00:00, 10.03s/it]\n"
     ]
    }
   ],
   "source": [
    "run = True\n",
    "if run:\n",
    "    analysises = []\n",
    "    for portfolio in tqdm(portfolios):\n",
    "        try:\n",
    "            trades = portfolio.trades(simulation.copy())\n",
    "            performance = portfolio.portfolio(trades.copy(),benchmark.copy())\n",
    "            metrics = Metrics.performance(trades,performance)\n",
    "            results = {**portfolio.to_dict(),**metrics.copy()}\n",
    "            results[\"portfolio\"] = portfolio\n",
    "            analysises.append(results)\n",
    "        except Exception as e:\n",
    "            print(str(e))\n",
    "            continue"
   ]
  },
  {
   "cell_type": "code",
   "execution_count": 63,
   "id": "52720f5f-bd79-4d9c-ba27-08401d6e7cf1",
   "metadata": {
    "scrolled": true
   },
   "outputs": [],
   "source": [
    "a = pd.DataFrame(analysises)"
   ]
  },
  {
   "cell_type": "code",
   "execution_count": 64,
   "id": "ffdcee08-f13c-497c-a627-b89480f8f437",
   "metadata": {},
   "outputs": [],
   "source": [
    "a[\"color\"] = [\"blue\" if x == \"top\" else \"red\" if x == \"bottom\"  else \"green\" for x in a[\"selection_type\"]]\n",
    "a[\"return_to_risk\"] = a[\"pnl\"] / a[\"portfolio_std\"]"
   ]
  },
  {
   "cell_type": "code",
   "execution_count": 65,
   "id": "643181bd-7445-4a3c-a4d8-cb3ffb7b420a",
   "metadata": {},
   "outputs": [
    {
     "data": {
      "image/png": "[encoded data removed]",
      "text/plain": [
       "<Figure size 1200x600 with 2 Axes>"
      ]
     },
     "metadata": {},
     "output_type": "display_data"
    }
   ],
   "source": [
    "fig, axes = plt.subplots(1, 2, figsize=(12, 6), sharey=True)\n",
    "\n",
    "# Titles for each subplot\n",
    "titles = [\"Long\", \"Short\"]\n",
    "\n",
    "# Iterate over directions and corresponding axes\n",
    "for i, position_type in enumerate([\"long\", \"short\"]):\n",
    "    d_analysis = a[a[\"position_type\"] == position_type]\n",
    "    axes[i].scatter(\n",
    "        d_analysis[\"pnl\"],\n",
    "        d_analysis[\"portfolio_std\"],\n",
    "        c=d_analysis[\"color\"],\n",
    "        s=50,\n",
    "        alpha=0.8,\n",
    "        edgecolors=\"w\",\n",
    "    )\n",
    "    axes[i].set_title(titles[i])\n",
    "    axes[i].set_xlabel(\"return_to_risk\")\n",
    "    axes[i].set_ylabel(\"sharpe_ratio\" if i == 0 else \"\")  # Only label y-axis on the first plot\n",
    "\n",
    "# Adjust layout for better spacing\n",
    "plt.tight_layout()\n",
    "\n",
    "# Show the combined plot\n",
    "plt.show()"
   ]
  },
  {
   "cell_type": "code",
   "execution_count": 66,
   "id": "735ed1bc-01f2-4e36-acb7-cab72ad2757f",
   "metadata": {},
   "outputs": [
    {
     "data": {
      "text/html": [
       "<div>\n",
       "<style scoped>\n",
       "    .dataframe tbody tr th:only-of-type {\n",
       "        vertical-align: middle;\n",
       "    }\n",
       "\n",
       "    .dataframe tbody tr th {\n",
       "        vertical-align: top;\n",
       "    }\n",
       "\n",
       "    .dataframe thead th {\n",
       "        text-align: right;\n",
       "    }\n",
       "</style>\n",
       "<table border=\"1\" class=\"dataframe\">\n",
       "  <thead>\n",
       "    <tr style=\"text-align: right;\">\n",
       "      <th></th>\n",
       "      <th>pnl</th>\n",
       "      <th>timeframe</th>\n",
       "      <th>ranking_metric</th>\n",
       "      <th>position_type</th>\n",
       "      <th>selection_type</th>\n",
       "      <th>selection_percentage</th>\n",
       "      <th>grouping_column</th>\n",
       "      <th>downside</th>\n",
       "      <th>coefficient_of_variation</th>\n",
       "      <th>portfolio_std</th>\n",
       "      <th>average_gain</th>\n",
       "      <th>average_loss</th>\n",
       "      <th>win_loss_ratio</th>\n",
       "      <th>weekly_return</th>\n",
       "      <th>sharpe_ratio</th>\n",
       "      <th>portfolio</th>\n",
       "      <th>color</th>\n",
       "      <th>return_to_risk</th>\n",
       "    </tr>\n",
       "  </thead>\n",
       "  <tbody>\n",
       "    <tr>\n",
       "      <th>11</th>\n",
       "      <td>1.238291</td>\n",
       "      <td>month</td>\n",
       "      <td>factor</td>\n",
       "      <td>short</td>\n",
       "      <td>bottom</td>\n",
       "      <td>0.01</td>\n",
       "      <td>sic_description</td>\n",
       "      <td>0.846485</td>\n",
       "      <td>0.049406</td>\n",
       "      <td>0.074247</td>\n",
       "      <td>1.102250</td>\n",
       "      <td>0.894817</td>\n",
       "      <td>0.540771</td>\n",
       "      <td>1.006991</td>\n",
       "      <td>-6.868071</td>\n",
       "      <td>&lt;financial_common.portfolio_management.portfol...</td>\n",
       "      <td>red</td>\n",
       "      <td>16.678071</td>\n",
       "    </tr>\n",
       "    <tr>\n",
       "      <th>10</th>\n",
       "      <td>1.230717</td>\n",
       "      <td>quarter</td>\n",
       "      <td>factor</td>\n",
       "      <td>long</td>\n",
       "      <td>mixed</td>\n",
       "      <td>0.01</td>\n",
       "      <td>sic_description</td>\n",
       "      <td>0.865473</td>\n",
       "      <td>0.051817</td>\n",
       "      <td>0.067820</td>\n",
       "      <td>1.177776</td>\n",
       "      <td>0.826876</td>\n",
       "      <td>0.544547</td>\n",
       "      <td>1.017958</td>\n",
       "      <td>-9.952613</td>\n",
       "      <td>&lt;financial_common.portfolio_management.portfol...</td>\n",
       "      <td>green</td>\n",
       "      <td>18.146736</td>\n",
       "    </tr>\n",
       "    <tr>\n",
       "      <th>9</th>\n",
       "      <td>1.217342</td>\n",
       "      <td>week</td>\n",
       "      <td>factor</td>\n",
       "      <td>short</td>\n",
       "      <td>bottom</td>\n",
       "      <td>0.01</td>\n",
       "      <td>sic_description</td>\n",
       "      <td>0.871393</td>\n",
       "      <td>0.028479</td>\n",
       "      <td>0.060369</td>\n",
       "      <td>1.042204</td>\n",
       "      <td>0.956927</td>\n",
       "      <td>0.518402</td>\n",
       "      <td>1.001135</td>\n",
       "      <td>-7.090064</td>\n",
       "      <td>&lt;financial_common.portfolio_management.portfol...</td>\n",
       "      <td>red</td>\n",
       "      <td>20.165137</td>\n",
       "    </tr>\n",
       "    <tr>\n",
       "      <th>8</th>\n",
       "      <td>1.194607</td>\n",
       "      <td>month</td>\n",
       "      <td>factor</td>\n",
       "      <td>long</td>\n",
       "      <td>mixed</td>\n",
       "      <td>0.01</td>\n",
       "      <td>sic_description</td>\n",
       "      <td>0.857022</td>\n",
       "      <td>0.045777</td>\n",
       "      <td>0.063010</td>\n",
       "      <td>1.097616</td>\n",
       "      <td>0.899486</td>\n",
       "      <td>0.536621</td>\n",
       "      <td>1.005807</td>\n",
       "      <td>-8.786131</td>\n",
       "      <td>&lt;financial_common.portfolio_management.portfol...</td>\n",
       "      <td>green</td>\n",
       "      <td>18.958960</td>\n",
       "    </tr>\n",
       "    <tr>\n",
       "      <th>7</th>\n",
       "      <td>1.188329</td>\n",
       "      <td>quarter</td>\n",
       "      <td>factor</td>\n",
       "      <td>short</td>\n",
       "      <td>bottom</td>\n",
       "      <td>0.01</td>\n",
       "      <td>sic_description</td>\n",
       "      <td>0.825539</td>\n",
       "      <td>0.063441</td>\n",
       "      <td>0.081044</td>\n",
       "      <td>1.178412</td>\n",
       "      <td>0.817307</td>\n",
       "      <td>0.548199</td>\n",
       "      <td>1.015265</td>\n",
       "      <td>-8.851730</td>\n",
       "      <td>&lt;financial_common.portfolio_management.portfol...</td>\n",
       "      <td>red</td>\n",
       "      <td>14.662822</td>\n",
       "    </tr>\n",
       "    <tr>\n",
       "      <th>6</th>\n",
       "      <td>1.115335</td>\n",
       "      <td>week</td>\n",
       "      <td>factor</td>\n",
       "      <td>long</td>\n",
       "      <td>mixed</td>\n",
       "      <td>0.01</td>\n",
       "      <td>sic_description</td>\n",
       "      <td>0.860656</td>\n",
       "      <td>0.026306</td>\n",
       "      <td>0.040726</td>\n",
       "      <td>1.040105</td>\n",
       "      <td>0.959303</td>\n",
       "      <td>0.514374</td>\n",
       "      <td>1.000865</td>\n",
       "      <td>-13.014405</td>\n",
       "      <td>&lt;financial_common.portfolio_management.portfol...</td>\n",
       "      <td>green</td>\n",
       "      <td>27.386329</td>\n",
       "    </tr>\n",
       "    <tr>\n",
       "      <th>5</th>\n",
       "      <td>0.830748</td>\n",
       "      <td>week</td>\n",
       "      <td>factor</td>\n",
       "      <td>short</td>\n",
       "      <td>mixed</td>\n",
       "      <td>0.01</td>\n",
       "      <td>sic_description</td>\n",
       "      <td>0.856365</td>\n",
       "      <td>0.026368</td>\n",
       "      <td>0.040334</td>\n",
       "      <td>1.039690</td>\n",
       "      <td>0.958911</td>\n",
       "      <td>0.497947</td>\n",
       "      <td>0.999135</td>\n",
       "      <td>-20.196853</td>\n",
       "      <td>&lt;financial_common.portfolio_management.portfol...</td>\n",
       "      <td>green</td>\n",
       "      <td>20.596930</td>\n",
       "    </tr>\n",
       "    <tr>\n",
       "      <th>4</th>\n",
       "      <td>0.787630</td>\n",
       "      <td>quarter</td>\n",
       "      <td>factor</td>\n",
       "      <td>long</td>\n",
       "      <td>bottom</td>\n",
       "      <td>0.01</td>\n",
       "      <td>sic_description</td>\n",
       "      <td>0.848399</td>\n",
       "      <td>0.059918</td>\n",
       "      <td>0.058598</td>\n",
       "      <td>1.181519</td>\n",
       "      <td>0.820632</td>\n",
       "      <td>0.454722</td>\n",
       "      <td>0.984735</td>\n",
       "      <td>-19.080344</td>\n",
       "      <td>&lt;financial_common.portfolio_management.portfol...</td>\n",
       "      <td>red</td>\n",
       "      <td>13.441164</td>\n",
       "    </tr>\n",
       "    <tr>\n",
       "      <th>3</th>\n",
       "      <td>0.759760</td>\n",
       "      <td>quarter</td>\n",
       "      <td>factor</td>\n",
       "      <td>short</td>\n",
       "      <td>mixed</td>\n",
       "      <td>0.01</td>\n",
       "      <td>sic_description</td>\n",
       "      <td>0.836759</td>\n",
       "      <td>0.049757</td>\n",
       "      <td>0.052381</td>\n",
       "      <td>1.172479</td>\n",
       "      <td>0.821666</td>\n",
       "      <td>0.457157</td>\n",
       "      <td>0.982042</td>\n",
       "      <td>-21.877276</td>\n",
       "      <td>&lt;financial_common.portfolio_management.portfol...</td>\n",
       "      <td>green</td>\n",
       "      <td>14.504597</td>\n",
       "    </tr>\n",
       "    <tr>\n",
       "      <th>2</th>\n",
       "      <td>0.754061</td>\n",
       "      <td>month</td>\n",
       "      <td>factor</td>\n",
       "      <td>short</td>\n",
       "      <td>mixed</td>\n",
       "      <td>0.01</td>\n",
       "      <td>sic_description</td>\n",
       "      <td>0.816203</td>\n",
       "      <td>0.045566</td>\n",
       "      <td>0.053598</td>\n",
       "      <td>1.099604</td>\n",
       "      <td>0.901608</td>\n",
       "      <td>0.467611</td>\n",
       "      <td>0.994193</td>\n",
       "      <td>-18.548482</td>\n",
       "      <td>&lt;financial_common.portfolio_management.portfol...</td>\n",
       "      <td>green</td>\n",
       "      <td>14.068839</td>\n",
       "    </tr>\n",
       "    <tr>\n",
       "      <th>1</th>\n",
       "      <td>0.750138</td>\n",
       "      <td>week</td>\n",
       "      <td>factor</td>\n",
       "      <td>long</td>\n",
       "      <td>bottom</td>\n",
       "      <td>0.01</td>\n",
       "      <td>sic_description</td>\n",
       "      <td>0.814487</td>\n",
       "      <td>0.028680</td>\n",
       "      <td>0.060965</td>\n",
       "      <td>1.041860</td>\n",
       "      <td>0.956628</td>\n",
       "      <td>0.495558</td>\n",
       "      <td>0.998865</td>\n",
       "      <td>-14.684112</td>\n",
       "      <td>&lt;financial_common.portfolio_management.portfol...</td>\n",
       "      <td>red</td>\n",
       "      <td>12.304325</td>\n",
       "    </tr>\n",
       "    <tr>\n",
       "      <th>0</th>\n",
       "      <td>0.712731</td>\n",
       "      <td>month</td>\n",
       "      <td>factor</td>\n",
       "      <td>long</td>\n",
       "      <td>bottom</td>\n",
       "      <td>0.01</td>\n",
       "      <td>sic_description</td>\n",
       "      <td>0.763313</td>\n",
       "      <td>0.050638</td>\n",
       "      <td>0.064859</td>\n",
       "      <td>1.104094</td>\n",
       "      <td>0.896834</td>\n",
       "      <td>0.464030</td>\n",
       "      <td>0.993009</td>\n",
       "      <td>-15.965243</td>\n",
       "      <td>&lt;financial_common.portfolio_management.portfol...</td>\n",
       "      <td>red</td>\n",
       "      <td>10.988926</td>\n",
       "    </tr>\n",
       "  </tbody>\n",
       "</table>\n",
       "</div>"
      ],
      "text/plain": [
       "         pnl timeframe ranking_metric position_type selection_type  \\\n",
       "11  1.238291     month         factor         short         bottom   \n",
       "10  1.230717   quarter         factor          long          mixed   \n",
       "9   1.217342      week         factor         short         bottom   \n",
       "8   1.194607     month         factor          long          mixed   \n",
       "7   1.188329   quarter         factor         short         bottom   \n",
       "6   1.115335      week         factor          long          mixed   \n",
       "5   0.830748      week         factor         short          mixed   \n",
       "4   0.787630   quarter         factor          long         bottom   \n",
       "3   0.759760   quarter         factor         short          mixed   \n",
       "2   0.754061     month         factor         short          mixed   \n",
       "1   0.750138      week         factor          long         bottom   \n",
       "0   0.712731     month         factor          long         bottom   \n",
       "\n",
       "    selection_percentage  grouping_column  downside  coefficient_of_variation  \\\n",
       "11                  0.01  sic_description  0.846485                  0.049406   \n",
       "10                  0.01  sic_description  0.865473                  0.051817   \n",
       "9                   0.01  sic_description  0.871393                  0.028479   \n",
       "8                   0.01  sic_description  0.857022                  0.045777   \n",
       "7                   0.01  sic_description  0.825539                  0.063441   \n",
       "6                   0.01  sic_description  0.860656                  0.026306   \n",
       "5                   0.01  sic_description  0.856365                  0.026368   \n",
       "4                   0.01  sic_description  0.848399                  0.059918   \n",
       "3                   0.01  sic_description  0.836759                  0.049757   \n",
       "2                   0.01  sic_description  0.816203                  0.045566   \n",
       "1                   0.01  sic_description  0.814487                  0.028680   \n",
       "0                   0.01  sic_description  0.763313                  0.050638   \n",
       "\n",
       "    portfolio_std  average_gain  average_loss  win_loss_ratio  weekly_return  \\\n",
       "11       0.074247      1.102250      0.894817        0.540771       1.006991   \n",
       "10       0.067820      1.177776      0.826876        0.544547       1.017958   \n",
       "9        0.060369      1.042204      0.956927        0.518402       1.001135   \n",
       "8        0.063010      1.097616      0.899486        0.536621       1.005807   \n",
       "7        0.081044      1.178412      0.817307        0.548199       1.015265   \n",
       "6        0.040726      1.040105      0.959303        0.514374       1.000865   \n",
       "5        0.040334      1.039690      0.958911        0.497947       0.999135   \n",
       "4        0.058598      1.181519      0.820632        0.454722       0.984735   \n",
       "3        0.052381      1.172479      0.821666        0.457157       0.982042   \n",
       "2        0.053598      1.099604      0.901608        0.467611       0.994193   \n",
       "1        0.060965      1.041860      0.956628        0.495558       0.998865   \n",
       "0        0.064859      1.104094      0.896834        0.464030       0.993009   \n",
       "\n",
       "    sharpe_ratio                                          portfolio  color  \\\n",
       "11     -6.868071  <financial_common.portfolio_management.portfol...    red   \n",
       "10     -9.952613  <financial_common.portfolio_management.portfol...  green   \n",
       "9      -7.090064  <financial_common.portfolio_management.portfol...    red   \n",
       "8      -8.786131  <financial_common.portfolio_management.portfol...  green   \n",
       "7      -8.851730  <financial_common.portfolio_management.portfol...    red   \n",
       "6     -13.014405  <financial_common.portfolio_management.portfol...  green   \n",
       "5     -20.196853  <financial_common.portfolio_management.portfol...  green   \n",
       "4     -19.080344  <financial_common.portfolio_management.portfol...    red   \n",
       "3     -21.877276  <financial_common.portfolio_management.portfol...  green   \n",
       "2     -18.548482  <financial_common.portfolio_management.portfol...  green   \n",
       "1     -14.684112  <financial_common.portfolio_management.portfol...    red   \n",
       "0     -15.965243  <financial_common.portfolio_management.portfol...    red   \n",
       "\n",
       "    return_to_risk  \n",
       "11       16.678071  \n",
       "10       18.146736  \n",
       "9        20.165137  \n",
       "8        18.958960  \n",
       "7        14.662822  \n",
       "6        27.386329  \n",
       "5        20.596930  \n",
       "4        13.441164  \n",
       "3        14.504597  \n",
       "2        14.068839  \n",
       "1        12.304325  \n",
       "0        10.988926  "
      ]
     },
     "execution_count": 66,
     "metadata": {},
     "output_type": "execute_result"
    }
   ],
   "source": [
    "a.groupby(\"pnl\").first().reset_index().drop(\"date\",axis=1).sort_values(\"pnl\",ascending=False).head(20)"
   ]
  },
  {
   "cell_type": "code",
   "execution_count": 79,
   "id": "fb63bbf6-0639-445b-aef4-44998e4f17fb",
   "metadata": {},
   "outputs": [
    {
     "data": {
      "text/plain": [
       "{'timeframe': 'quarter',\n",
       " 'ranking_metric': 'factor',\n",
       " 'position_type': 'long',\n",
       " 'selection_type': 'mixed',\n",
       " 'selection_percentage': 0.01,\n",
       " 'grouping_column': 'sic_description',\n",
       " 'date': Timestamp('2025-03-20 00:00:00+0000', tz='UTC'),\n",
       " 'pnl': 1.230716846658158,\n",
       " 'downside': 0.8654731711875262,\n",
       " 'coefficient_of_variation': 0.05181723758060813,\n",
       " 'portfolio_std': 0.06782028669890283,\n",
       " 'average_gain': 1.1777759617401709,\n",
       " 'average_loss': 0.8268758543649827,\n",
       " 'win_loss_ratio': 0.5445472249269717,\n",
       " 'weekly_return': 1.0179575340627178,\n",
       " 'sharpe_ratio': -9.952612826022326,\n",
       " 'portfolio': <financial_common.portfolio_management.portfolio.Portfolio at 0x1c39224d0d0>,\n",
       " 'color': 'green',\n",
       " 'return_to_risk': 18.146736125166925}"
      ]
     },
     "execution_count": 79,
     "metadata": {},
     "output_type": "execute_result"
    }
   ],
   "source": [
    "top = a.sort_values(\"weekly_return\",ascending=False).head(1).to_dict(\"records\")[0]\n",
    "top"
   ]
  },
  {
   "cell_type": "code",
   "execution_count": 80,
   "id": "1bef746e-1a59-467c-8252-15d65257bddd",
   "metadata": {},
   "outputs": [],
   "source": [
    "pm = top[\"portfolio\"]\n",
    "trades = pm.trades(simulation.copy()).merge(index[[\"ticker\",\"sic_description\"]],on=\"ticker\",how=\"left\")\n",
    "trades = p.additional_date_columns(trades)\n",
    "portfolio = pm.portfolio(trades.copy(),benchmark.copy())\n",
    "portfolio = p.additional_date_columns(portfolio)"
   ]
  },
  {
   "cell_type": "code",
   "execution_count": 81,
   "id": "fa25dd38-54ef-46d7-870c-3600752c58f0",
   "metadata": {},
   "outputs": [
    {
     "data": {
      "image/png": "[encoded data removed]",
      "text/plain": [
       "<Figure size 1200x600 with 1 Axes>"
      ]
     },
     "metadata": {},
     "output_type": "display_data"
    }
   ],
   "source": [
    "portfolio['Year-Quarter'] = portfolio[\"year\"].astype(str) + \"q\" + portfolio[\"quarter\"].astype(str)\n",
    "ax = portfolio[[\"Year-Quarter\",\"pnl\",\"benchmark_pnl\"]].set_index(\"Year-Quarter\").plot(\n",
    "    kind=\"line\",\n",
    "    figsize=(12, 6),\n",
    "    title=\"Mean Returns by Exposure per Year and Quarter\"\n",
    ")\n",
    "\n",
    "# Set y-axis to have more precise ticks\n",
    "ax.tick_params(axis='y', direction='in', length=6)  # Adjust y-tick direction and length\n",
    "ax.yaxis.set_major_formatter(plt.FuncFormatter(lambda x, _: f'{x:.4f}'))  # Format y-ticks with 4 decimal places\n",
    "\n",
    "# Move y-ticks to the right side\n",
    "ax.yaxis.set_tick_params(which='both', direction='inout', length=6, labelleft=False, labelright=True)\n",
    "\n",
    "# Optionally adjust the number of ticks for better precision\n",
    "ax.yaxis.set_major_locator(plt.MaxNLocator(integer=False, prune='both'))\n",
    "\n",
    "# Add grid lines\n",
    "ax.grid(True, which='both', axis='both', linestyle='--', linewidth=0.7)\n",
    "\n",
    "# Display the plot\n",
    "plt.tight_layout()\n",
    "plt.show()"
   ]
  },
  {
   "cell_type": "code",
   "execution_count": 82,
   "id": "29ff3a2d-fa01-47bb-8c97-ce149d488acf",
   "metadata": {},
   "outputs": [
    {
     "data": {
      "text/html": [
       "<div>\n",
       "<style scoped>\n",
       "    .dataframe tbody tr th:only-of-type {\n",
       "        vertical-align: middle;\n",
       "    }\n",
       "\n",
       "    .dataframe tbody tr th {\n",
       "        vertical-align: top;\n",
       "    }\n",
       "\n",
       "    .dataframe thead th {\n",
       "        text-align: right;\n",
       "    }\n",
       "</style>\n",
       "<table border=\"1\" class=\"dataframe\">\n",
       "  <thead>\n",
       "    <tr style=\"text-align: right;\">\n",
       "      <th></th>\n",
       "      <th>date</th>\n",
       "      <th>return</th>\n",
       "      <th>pnl</th>\n",
       "      <th>benchmark</th>\n",
       "      <th>benchmark_pnl</th>\n",
       "      <th>year</th>\n",
       "      <th>month</th>\n",
       "      <th>quarter</th>\n",
       "      <th>week</th>\n",
       "      <th>Year-Quarter</th>\n",
       "    </tr>\n",
       "  </thead>\n",
       "  <tbody>\n",
       "    <tr>\n",
       "      <th>8</th>\n",
       "      <td>2024-03-28 00:00:00+00:00</td>\n",
       "      <td>0.999375</td>\n",
       "      <td>1.118997</td>\n",
       "      <td>195.836224</td>\n",
       "      <td>1.561467</td>\n",
       "      <td>2024</td>\n",
       "      <td>3</td>\n",
       "      <td>1</td>\n",
       "      <td>13</td>\n",
       "      <td>2024q1</td>\n",
       "    </tr>\n",
       "    <tr>\n",
       "      <th>9</th>\n",
       "      <td>2024-06-28 00:00:00+00:00</td>\n",
       "      <td>1.067235</td>\n",
       "      <td>1.194233</td>\n",
       "      <td>198.914903</td>\n",
       "      <td>1.586014</td>\n",
       "      <td>2024</td>\n",
       "      <td>6</td>\n",
       "      <td>2</td>\n",
       "      <td>26</td>\n",
       "      <td>2024q2</td>\n",
       "    </tr>\n",
       "    <tr>\n",
       "      <th>10</th>\n",
       "      <td>2024-09-30 00:00:00+00:00</td>\n",
       "      <td>0.939334</td>\n",
       "      <td>1.121783</td>\n",
       "      <td>208.537174</td>\n",
       "      <td>1.662736</td>\n",
       "      <td>2024</td>\n",
       "      <td>9</td>\n",
       "      <td>3</td>\n",
       "      <td>40</td>\n",
       "      <td>2024q3</td>\n",
       "    </tr>\n",
       "    <tr>\n",
       "      <th>11</th>\n",
       "      <td>2024-12-31 00:00:00+00:00</td>\n",
       "      <td>1.008027</td>\n",
       "      <td>1.130788</td>\n",
       "      <td>238.472340</td>\n",
       "      <td>1.901419</td>\n",
       "      <td>2024</td>\n",
       "      <td>12</td>\n",
       "      <td>4</td>\n",
       "      <td>1</td>\n",
       "      <td>2024q4</td>\n",
       "    </tr>\n",
       "    <tr>\n",
       "      <th>12</th>\n",
       "      <td>2025-03-20 00:00:00+00:00</td>\n",
       "      <td>1.088371</td>\n",
       "      <td>1.230717</td>\n",
       "      <td>239.010000</td>\n",
       "      <td>1.905706</td>\n",
       "      <td>2025</td>\n",
       "      <td>3</td>\n",
       "      <td>1</td>\n",
       "      <td>12</td>\n",
       "      <td>2025q1</td>\n",
       "    </tr>\n",
       "  </tbody>\n",
       "</table>\n",
       "</div>"
      ],
      "text/plain": [
       "                        date    return       pnl   benchmark  benchmark_pnl  \\\n",
       "8  2024-03-28 00:00:00+00:00  0.999375  1.118997  195.836224       1.561467   \n",
       "9  2024-06-28 00:00:00+00:00  1.067235  1.194233  198.914903       1.586014   \n",
       "10 2024-09-30 00:00:00+00:00  0.939334  1.121783  208.537174       1.662736   \n",
       "11 2024-12-31 00:00:00+00:00  1.008027  1.130788  238.472340       1.901419   \n",
       "12 2025-03-20 00:00:00+00:00  1.088371  1.230717  239.010000       1.905706   \n",
       "\n",
       "    year  month  quarter  week Year-Quarter  \n",
       "8   2024      3        1    13       2024q1  \n",
       "9   2024      6        2    26       2024q2  \n",
       "10  2024      9        3    40       2024q3  \n",
       "11  2024     12        4     1       2024q4  \n",
       "12  2025      3        1    12       2025q1  "
      ]
     },
     "execution_count": 82,
     "metadata": {},
     "output_type": "execute_result"
    }
   ],
   "source": [
    "portfolio.tail()"
   ]
  },
  {
   "cell_type": "code",
   "execution_count": 85,
   "id": "36cf02b0-947e-445b-9f63-ff00e556ff0b",
   "metadata": {},
   "outputs": [
    {
     "data": {
      "text/html": [
       "<div>\n",
       "<style scoped>\n",
       "    .dataframe tbody tr th:only-of-type {\n",
       "        vertical-align: middle;\n",
       "    }\n",
       "\n",
       "    .dataframe tbody tr th {\n",
       "        vertical-align: top;\n",
       "    }\n",
       "\n",
       "    .dataframe thead th {\n",
       "        text-align: right;\n",
       "    }\n",
       "</style>\n",
       "<table border=\"1\" class=\"dataframe\">\n",
       "  <thead>\n",
       "    <tr style=\"text-align: right;\">\n",
       "      <th></th>\n",
       "      <th>return</th>\n",
       "    </tr>\n",
       "    <tr>\n",
       "      <th>sic_description</th>\n",
       "      <th></th>\n",
       "    </tr>\n",
       "  </thead>\n",
       "  <tbody>\n",
       "    <tr>\n",
       "      <th>TRUCK &amp; BUS BODIES</th>\n",
       "      <td>0.912187</td>\n",
       "    </tr>\n",
       "    <tr>\n",
       "      <th>RETAIL-GROCERY STORES</th>\n",
       "      <td>0.910769</td>\n",
       "    </tr>\n",
       "    <tr>\n",
       "      <th>COMMERCIAL PRINTING</th>\n",
       "      <td>0.908824</td>\n",
       "    </tr>\n",
       "    <tr>\n",
       "      <th>WHOLESALE-CHEMICALS &amp; ALLIED PRODUCTS</th>\n",
       "      <td>0.904155</td>\n",
       "    </tr>\n",
       "    <tr>\n",
       "      <th>ENGINES &amp; TURBINES</th>\n",
       "      <td>0.903310</td>\n",
       "    </tr>\n",
       "    <tr>\n",
       "      <th>STEEL PIPE &amp; TUBES</th>\n",
       "      <td>0.902177</td>\n",
       "    </tr>\n",
       "    <tr>\n",
       "      <th>STEEL WORKS, BLAST FURNACES &amp; ROLLING MILLS (COKE OVENS)</th>\n",
       "      <td>0.901535</td>\n",
       "    </tr>\n",
       "    <tr>\n",
       "      <th>METAL DOORS, SASH, FRAMES, MOLDINGS &amp; TRIM</th>\n",
       "      <td>0.899815</td>\n",
       "    </tr>\n",
       "    <tr>\n",
       "      <th>ELECTRICAL WORK</th>\n",
       "      <td>0.898425</td>\n",
       "    </tr>\n",
       "    <tr>\n",
       "      <th>WHOLESALE-PETROLEUM BULK STATIONS &amp; TERMINALS</th>\n",
       "      <td>0.894357</td>\n",
       "    </tr>\n",
       "    <tr>\n",
       "      <th>FLAT GLASS</th>\n",
       "      <td>0.890372</td>\n",
       "    </tr>\n",
       "    <tr>\n",
       "      <th>ELECTRONIC &amp; OTHER ELECTRICAL EQUIPMENT (NO COMPUTER EQUIP)</th>\n",
       "      <td>0.888401</td>\n",
       "    </tr>\n",
       "    <tr>\n",
       "      <th>LABORATORY APPARATUS &amp; FURNITURE</th>\n",
       "      <td>0.887581</td>\n",
       "    </tr>\n",
       "    <tr>\n",
       "      <th>HEAVY CONSTRUCTION OTHER THAN BLDG CONST - CONTRACTORS</th>\n",
       "      <td>0.887258</td>\n",
       "    </tr>\n",
       "    <tr>\n",
       "      <th>CONSTRUCTION - SPECIAL TRADE CONTRACTORS</th>\n",
       "      <td>0.874070</td>\n",
       "    </tr>\n",
       "    <tr>\n",
       "      <th>SERVICES-ENGINEERING SERVICES</th>\n",
       "      <td>0.872437</td>\n",
       "    </tr>\n",
       "    <tr>\n",
       "      <th>PLASTICS PRODUCTS, NEC</th>\n",
       "      <td>0.856553</td>\n",
       "    </tr>\n",
       "    <tr>\n",
       "      <th>ELECTRONIC COILS, TRANSFORMERS &amp; OTHER INDUCTORS</th>\n",
       "      <td>0.854091</td>\n",
       "    </tr>\n",
       "    <tr>\n",
       "      <th>SWITCHGEAR &amp; SWITCHBOARD APPARATUS</th>\n",
       "      <td>0.848760</td>\n",
       "    </tr>\n",
       "    <tr>\n",
       "      <th>SAUSAGES &amp; OTHER PREPARED MEAT PRODUCTS</th>\n",
       "      <td>0.839600</td>\n",
       "    </tr>\n",
       "  </tbody>\n",
       "</table>\n",
       "</div>"
      ],
      "text/plain": [
       "                                                      return\n",
       "sic_description                                             \n",
       "TRUCK & BUS BODIES                                  0.912187\n",
       "RETAIL-GROCERY STORES                               0.910769\n",
       "COMMERCIAL PRINTING                                 0.908824\n",
       "WHOLESALE-CHEMICALS & ALLIED PRODUCTS               0.904155\n",
       "ENGINES & TURBINES                                  0.903310\n",
       "STEEL PIPE & TUBES                                  0.902177\n",
       "STEEL WORKS, BLAST FURNACES & ROLLING MILLS (CO...  0.901535\n",
       "METAL DOORS, SASH, FRAMES, MOLDINGS & TRIM          0.899815\n",
       "ELECTRICAL WORK                                     0.898425\n",
       "WHOLESALE-PETROLEUM BULK STATIONS & TERMINALS       0.894357\n",
       "FLAT GLASS                                          0.890372\n",
       "ELECTRONIC & OTHER ELECTRICAL EQUIPMENT (NO COM...  0.888401\n",
       "LABORATORY APPARATUS & FURNITURE                    0.887581\n",
       "HEAVY CONSTRUCTION OTHER THAN BLDG CONST - CONT...  0.887258\n",
       "CONSTRUCTION - SPECIAL TRADE CONTRACTORS            0.874070\n",
       "SERVICES-ENGINEERING SERVICES                       0.872437\n",
       "PLASTICS PRODUCTS, NEC                              0.856553\n",
       "ELECTRONIC COILS, TRANSFORMERS & OTHER INDUCTORS    0.854091\n",
       "SWITCHGEAR & SWITCHBOARD APPARATUS                  0.848760\n",
       "SAUSAGES & OTHER PREPARED MEAT PRODUCTS             0.839600"
      ]
     },
     "execution_count": 85,
     "metadata": {},
     "output_type": "execute_result"
    }
   ],
   "source": [
    "trades[[\"sic_description\",\"return\"]].groupby(\"sic_description\").mean().sort_values(\"return\",ascending=False).tail(20)"
   ]
  }
 ],
 "metadata": {
  "kernelspec": {
   "display_name": "Python 3 (ipykernel)",
   "language": "python",
   "name": "python3"
  },
  "language_info": {
   "codemirror_mode": {
    "name": "ipython",
    "version": 3
   },
   "file_extension": ".py",
   "mimetype": "text/x-python",
   "name": "python",
   "nbconvert_exporter": "python",
   "pygments_lexer": "ipython3",
   "version": "3.11.9"
  }
 },
 "nbformat": 4,
 "nbformat_minor": 5
}
