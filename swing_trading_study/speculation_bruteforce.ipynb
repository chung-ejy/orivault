{
 "cells": [
  {
   "cell_type": "code",
   "execution_count": 1,
   "id": "246c49f1-95ae-48c8-a1c2-a5c621cc768f",
   "metadata": {},
   "outputs": [],
   "source": [
    "import pandas as pd\n",
    "from datetime import datetime, timedelta\n",
    "from tqdm import tqdm\n",
    "from processor.processor import Processor as p\n",
    "from database.adatabase import ADatabase\n",
    "from indicator.indicator import Indicator\n",
    "from backtester.backtester import Backtester\n",
    "from time import sleep\n",
    "import requests as r\n",
    "from dotenv import load_dotenv\n",
    "load_dotenv()\n",
    "import os\n",
    "import matplotlib.pyplot as plt\n",
    "from time import sleep\n",
    "import numpy as np\n",
    "from parameters.parameters import Parameters"
   ]
  },
  {
   "cell_type": "code",
   "execution_count": 2,
   "id": "01317ec8-a56f-4e96-907f-3b07b4d80013",
   "metadata": {},
   "outputs": [],
   "source": [
    "market = ADatabase(\"market\")\n",
    "chung = ADatabase(\"chung\")"
   ]
  },
  {
   "cell_type": "code",
   "execution_count": 3,
   "id": "5eab61ef-f7df-4199-9db5-0346efb1342d",
   "metadata": {},
   "outputs": [],
   "source": [
    "market.connect()\n",
    "currencies = market.retrieve(\"currencies\")\n",
    "stocks = market.retrieve(\"index\")\n",
    "market.disconnect()\n",
    "crypto = False"
   ]
  },
  {
   "cell_type": "code",
   "execution_count": 4,
   "id": "550785e0-3973-4311-809a-74061bd87500",
   "metadata": {
    "scrolled": true
   },
   "outputs": [],
   "source": [
    "if crypto == True:\n",
    "    index = currencies.copy().rename(columns={\"product_id\":\"ticker\"})\n",
    "    index[\"name\"] = index[\"ticker\"]\n",
    "    index[\"base\"] = [x.split(\"-\")[1] for x in index[\"ticker\"]]\n",
    "    index = index[index[\"base\"]==\"USD\"]\n",
    "    market.connect()\n",
    "    spy = market.query(\"crypto\",{\"ticker\":\"BTC-USD\"}).rename(columns={\"close\":\"adjclose\"})[[\"start\",\"adjclose\",\"high\",\"low\",\"volume\"]]\n",
    "    spy[\"date\"] = pd.to_datetime(spy[\"start\"].astype(float),unit=\"s\")\n",
    "    spy[\"spy\"] = spy[\"adjclose\"].astype(float)\n",
    "    spy[\"high\"] = spy[\"high\"].astype(float)\n",
    "    spy[\"low\"] = spy[\"low\"].astype(float)\n",
    "    spy[\"volume\"] = spy[\"volume\"].astype(float)\n",
    "    market.disconnect()\n",
    "else:\n",
    "    index = stocks.copy()\n",
    "    market.connect()\n",
    "    benchmark = p.column_date_processing(market.query(\"prices\",{\"ticker\":\"JPM\"}))\n",
    "    benchmark[\"benchmark\"] = benchmark[\"adjclose\"]\n",
    "    market.disconnect()"
   ]
  },
  {
   "cell_type": "code",
   "execution_count": 5,
   "id": "2b7fa7a8-537c-4bb4-b1cd-6e7b5e223547",
   "metadata": {},
   "outputs": [],
   "source": [
    "chung.connect()\n",
    "product = chung.retrieve(\"sim\")\n",
    "chung.disconnect()\n",
    "product = p.column_date_processing(product).sort_values(\"date\")"
   ]
  },
  {
   "cell_type": "code",
   "execution_count": 6,
   "id": "da6f9fc1-0505-43fa-a399-9d5325a5cff0",
   "metadata": {},
   "outputs": [],
   "source": [
    "weekly_dates = [x for x in product[\"date\"].unique() if x >= datetime(2008,1,1)]"
   ]
  },
  {
   "cell_type": "code",
   "execution_count": 7,
   "id": "5167bcd8-68d6-49ec-9349-a74304fa5409",
   "metadata": {},
   "outputs": [
    {
     "name": "stdout",
     "output_type": "stream",
     "text": [
      "90\n"
     ]
    }
   ],
   "source": [
    "parameters = Parameters.generate_bruteforce_parameters()\n",
    "print(len(parameters))"
   ]
  },
  {
   "cell_type": "code",
   "execution_count": 8,
   "id": "b4586a7e-b071-4546-b66b-9fd0be41dcaf",
   "metadata": {
    "scrolled": true
   },
   "outputs": [
    {
     "name": "stderr",
     "output_type": "stream",
     "text": [
      "100%|██████████████████████████████████████████████████████████████████████████████████████████████████████████████████████████████████████████████████████████| 27/27 [06:35<00:00, 14.63s/it]\n"
     ]
    }
   ],
   "source": [
    "chung.connect()\n",
    "chung.drop(\"spec_adaptive_trades\")\n",
    "remodel_weeks = 52\n",
    "performance_metric = \"pnl\"\n",
    "for date in tqdm(weekly_dates[:-1:52]):\n",
    "    train_data = product[(product[\"date\"]<date) & (product[\"date\"]>=date-timedelta(days=365.25*4))].sort_values(\"date\")\n",
    "    test_data = product[(product[\"date\"]>=date) & (product[\"date\"]<=date+timedelta(days=remodel_weeks*7))].sort_values(\"date\")\n",
    "    \n",
    "    best_outperformance = -float('inf')\n",
    "    best_parameters = None\n",
    "    for parameter in parameters:\n",
    "        try:\n",
    "            results, trades,portfolio = Backtester.run_strategy(train_data.copy(), parameter.copy(),benchmark.copy())  # Ensure results are calculated\n",
    "            if results[performance_metric] > best_outperformance:\n",
    "                best_outperformance = results[performance_metric]\n",
    "                best_parameters = parameter.copy()\n",
    "        except Exception as e:\n",
    "            print(str(e))\n",
    "            continue\n",
    "    results,trades, portfolio = Backtester.run_strategy(test_data, best_parameters.copy(),benchmark.copy())\n",
    "    chung.store(\"spec_adaptive_trades\",trades)\n",
    "chung.disconnect()"
   ]
  }
 ],
 "metadata": {
  "kernelspec": {
   "display_name": "Python 3 (ipykernel)",
   "language": "python",
   "name": "python3"
  },
  "language_info": {
   "codemirror_mode": {
    "name": "ipython",
    "version": 3
   },
   "file_extension": ".py",
   "mimetype": "text/x-python",
   "name": "python",
   "nbconvert_exporter": "python",
   "pygments_lexer": "ipython3",
   "version": "3.11.9"
  }
 },
 "nbformat": 4,
 "nbformat_minor": 5
}
