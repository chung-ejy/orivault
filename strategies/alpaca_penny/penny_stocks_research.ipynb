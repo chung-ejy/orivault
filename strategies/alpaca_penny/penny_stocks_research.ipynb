{
 "cells": [
  {
   "cell_type": "code",
   "execution_count": 1,
   "id": "246c49f1-95ae-48c8-a1c2-a5c621cc768f",
   "metadata": {},
   "outputs": [],
   "source": [
    "## PATH settings\n",
    "import os\n",
    "import sys\n",
    "project_root = os.path.abspath(os.path.join(os.getcwd(), '../../'))\n",
    "sys.path.append(project_root)\n",
    "COMMON_PATH = os.path.join(project_root, 'common')"
   ]
  },
  {
   "cell_type": "code",
   "execution_count": 2,
   "id": "b3f7ffcc-42d9-4090-99b3-6479955e1a5f",
   "metadata": {},
   "outputs": [],
   "source": [
    "## Bespoke class imports\n",
    "from common.database.adatabase import ADatabase\n",
    "from common.processor.processor import Processor as p\n",
    "from financial_common.indicator.indicator import Indicator\n",
    "from financial_common.risk.benchmark import Benchmark\n",
    "from financial_common.portfolio_management.kpi import KPI\n",
    "from financial_common.metric.metric import Metric\n",
    "from financial_common.portfolio_management.portfolio_selection import PortfolioSelection\n",
    "from financial_common.risk.risk_type import RiskType\n",
    "import numpy as np\n",
    "import matplotlib.pyplot as plt"
   ]
  },
  {
   "cell_type": "code",
   "execution_count": 3,
   "id": "5e602193-3097-4687-bd19-00f3b8bff5d4",
   "metadata": {},
   "outputs": [],
   "source": [
    "## Import standard packages\n",
    "from datetime import timedelta, datetime\n",
    "import matplotlib.pyplot as plt\n",
    "from tqdm import tqdm\n",
    "import pandas as pd\n",
    "from time import sleep\n",
    "import copy"
   ]
  },
  {
   "cell_type": "code",
   "execution_count": 4,
   "id": "01317ec8-a56f-4e96-907f-3b07b4d80013",
   "metadata": {},
   "outputs": [],
   "source": [
    "market = ADatabase(\"market\")\n",
    "fred = ADatabase(\"fred\")\n",
    "orivault = ADatabase(\"ori\")"
   ]
  },
  {
   "cell_type": "code",
   "execution_count": 5,
   "id": "1e37c28f-be14-4d2d-b2fa-d36cbd588168",
   "metadata": {},
   "outputs": [],
   "source": [
    "## Retrieve existing stocks \n",
    "market.connect()\n",
    "index = market.retrieve(\"index\")\n",
    "market.disconnect()"
   ]
  },
  {
   "cell_type": "code",
   "execution_count": 6,
   "id": "06a6d3b3-44e8-4c3c-b39d-074c98f8ab76",
   "metadata": {},
   "outputs": [],
   "source": [
    "## Defining Benchmark\n",
    "market.connect()\n",
    "benchmark = market.query(\"prices\",{\"ticker\":\"JPM\"})\n",
    "market.disconnect()\n",
    "benchmark = Benchmark.convert_to_benchmark(benchmark,\"adjclose\")"
   ]
  },
  {
   "cell_type": "code",
   "execution_count": 7,
   "id": "09587a4a-c54f-458c-ac5f-bca6b33405ff",
   "metadata": {},
   "outputs": [
    {
     "name": "stderr",
     "output_type": "stream",
     "text": [
      "  3%|█████▏                                                                                                                                                                                                          | 282/11272 [00:07<03:58, 46.10it/s]"
     ]
    },
    {
     "name": "stdout",
     "output_type": "stream",
     "text": [
      "'adjclose'\n"
     ]
    },
    {
     "name": "stderr",
     "output_type": "stream",
     "text": [
      " 15%|███████████████████████████████▍                                                                                                                                                                               | 1713/11272 [00:47<05:03, 31.53it/s]"
     ]
    },
    {
     "name": "stdout",
     "output_type": "stream",
     "text": [
      "'adjclose'\n"
     ]
    },
    {
     "name": "stderr",
     "output_type": "stream",
     "text": [
      " 34%|███████████████████████████████████████████████████████████████████████▎                                                                                                                                       | 3881/11272 [01:50<02:46, 44.44it/s]"
     ]
    },
    {
     "name": "stdout",
     "output_type": "stream",
     "text": [
      "'adjclose'\n"
     ]
    },
    {
     "name": "stderr",
     "output_type": "stream",
     "text": [
      " 37%|█████████████████████████████████████████████████████████████████████████████▍                                                                                                                                 | 4216/11272 [02:00<03:43, 31.53it/s]"
     ]
    },
    {
     "name": "stdout",
     "output_type": "stream",
     "text": [
      "'adjclose'\n",
      "'adjclose'\n"
     ]
    },
    {
     "name": "stderr",
     "output_type": "stream",
     "text": [
      " 45%|████████████████████████████████████████████████████████████████████████████████████████████▉                                                                                                                  | 5063/11272 [02:28<03:01, 34.25it/s]"
     ]
    },
    {
     "name": "stdout",
     "output_type": "stream",
     "text": [
      "'adjclose'\n"
     ]
    },
    {
     "name": "stderr",
     "output_type": "stream",
     "text": [
      " 45%|█████████████████████████████████████████████████████████████████████████████████████████████▊                                                                                                                 | 5108/11272 [02:30<02:36, 39.27it/s]"
     ]
    },
    {
     "name": "stdout",
     "output_type": "stream",
     "text": [
      "'adjclose'\n"
     ]
    },
    {
     "name": "stderr",
     "output_type": "stream",
     "text": [
      " 46%|████████████████████████████████████████████████████████████████████████████████████████████████▏                                                                                                              | 5241/11272 [02:34<02:26, 41.25it/s]"
     ]
    },
    {
     "name": "stdout",
     "output_type": "stream",
     "text": [
      "'adjclose'\n"
     ]
    },
    {
     "name": "stderr",
     "output_type": "stream",
     "text": [
      " 48%|██████████████████████████████████████████████████████████████████████████████████████████████████▋                                                                                                            | 5374/11272 [02:37<02:52, 34.18it/s]"
     ]
    },
    {
     "name": "stdout",
     "output_type": "stream",
     "text": [
      "'adjclose'\n"
     ]
    },
    {
     "name": "stderr",
     "output_type": "stream",
     "text": [
      "100%|██████████████████████████████████████████████████████████████████████████████████████████████████████████████████████████████████████████████████████████████████████████████████████████████████████████████| 11272/11272 [05:50<00:00, 32.18it/s]\n"
     ]
    }
   ],
   "source": [
    "rolling_window = 10\n",
    "market.connect()\n",
    "prices = []\n",
    "skips = 1\n",
    "model_end = 2021\n",
    "backtest_end = 2026\n",
    "for ticker in tqdm(index[\"ticker\"][::skips]): \n",
    "    try:\n",
    "        price = market.query(\"prices\", {\"ticker\": ticker})\n",
    "        price[\"market_cap\"] = price[\"adjclose\"] * price[\"volume\"]\n",
    "        if price.index.size > 150:\n",
    "            price = p.lower_column(price)\n",
    "            price = p.utc_date(price)\n",
    "            price = p.additional_date_columns(price)\n",
    "            price = price[(price[\"year\"]>=model_end) & (price[\"year\"]<backtest_end)]\n",
    "            price.sort_values(\"date\", inplace=True)\n",
    "            price = Metric.STANDARD_DEV.calculate(price,timeframe=rolling_window)\n",
    "            price = Metric.NEXT_CLOSE.calculate(price,timeframe=rolling_window)\n",
    "            price = Metric.NEXT_HIGH.calculate(price,timeframe=rolling_window)\n",
    "            price = Metric.NEXT_LOW.calculate(price,timeframe=rolling_window)\n",
    "            for member in Indicator:\n",
    "                price = member.calculate(price,timeframe=rolling_window)\n",
    "            prices.append(price.dropna())\n",
    "    except Exception as e:\n",
    "        print(str(e))\n",
    "        continue\n",
    "market.disconnect()"
   ]
  },
  {
   "cell_type": "code",
   "execution_count": 8,
   "id": "2212583d-6a1c-4721-a689-1bcaad1d5b2d",
   "metadata": {},
   "outputs": [
    {
     "data": {
      "text/plain": [
       "Index(['date', 'adjclose', 'high', 'low', 'volume', 'ticker', 'market_cap',\n",
       "       'year', 'month', 'quarter', 'week', 'day', 'weekday', 'adjclose_test',\n",
       "       'high_test', 'low_test', 'volume_test', 'standard_dev', 'next_close',\n",
       "       'next_high', 'next_low', 'optimal', 'adr', 'sma', 'sma_corr', 'ema',\n",
       "       'ema_corr', 'bollinger_upper', 'bollinger_lower', 'momentum', 'roc',\n",
       "       'williams_r', 'obv', 'vwap', 'market_impact', 'atr',\n",
       "       'coefficient_of_variation'],\n",
       "      dtype='object')"
      ]
     },
     "execution_count": 8,
     "metadata": {},
     "output_type": "execute_result"
    }
   ],
   "source": [
    "simulation = pd.concat(prices)\n",
    "simulation[\"coefficient_of_variation\"] = 1\n",
    "simulation.sort_values(\"date\", inplace=True)\n",
    "simulation.columns"
   ]
  },
  {
   "cell_type": "code",
   "execution_count": 9,
   "id": "eb7133b8-a899-4282-b201-f5e8869ad634",
   "metadata": {},
   "outputs": [],
   "source": [
    "portfolios = PortfolioSelection.generate_possible_portfolios(\n",
    "                                                            ranking_metrics=[\n",
    "                                                                \"ema\",\"sma\",\"roc\"\n",
    "                                                            ]\n",
    "                                                            ,num_of_groups=[1]\n",
    "                                                            ,group_percentages=[1]\n",
    "                                                            ,max_prices=[0.1]\n",
    "                                                            ,min_prices=[0.01]\n",
    "                                                            ,max_market_caps = [1000000]\n",
    "                                                            ,min_market_caps = [10000]\n",
    "                                                            ,stoplosses=[1]\n",
    "                                                            ,rolling_windows=[rolling_window]\n",
    "                                                            ,leverages=[1]\n",
    "                                                            )\n",
    "filtered_portfolios = []\n",
    "for portfolio in portfolios:\n",
    "    if portfolio.timeframe.value == \"day\" and \"blacklist\" in portfolio.selection_type.label \\\n",
    "        and portfolio.allocation_type.label == \"risk\" \\\n",
    "        and portfolio.ranking_metric != \"optimal\" \\\n",
    "        and portfolio.position_type.label == \"long\" and (\"standard_dev\" in portfolio.grouping_type.value) \\\n",
    "        and portfolio.max_price > portfolio.min_price:\n",
    "        filtered_portfolios.append(portfolio)"
   ]
  },
  {
   "cell_type": "code",
   "execution_count": null,
   "id": "42cd7230-3773-4cfc-bfce-31664263cfa1",
   "metadata": {
    "scrolled": true
   },
   "outputs": [
    {
     "name": "stderr",
     "output_type": "stream",
     "text": [
      " 67%|██████████████████████████████████████████████████████████████████████████████████████████████████████████████████████████████████████████████▋                                                                       | 4/6 [00:51<00:25, 12.90s/it]"
     ]
    }
   ],
   "source": [
    "analysises = []\n",
    "for portfolio in tqdm(filtered_portfolios):\n",
    "    try:\n",
    "        trades = portfolio.trades(simulation.copy())\n",
    "        trades = p.additional_date_columns(trades)\n",
    "        trades = trades.groupby(\"weekday\").agg({\"date\":\"last\",\"weighted_return\":\"mean\",\"return\":\"mean\"}).reset_index().sort_values(\"date\")\n",
    "        trades[\"date\"] = trades.apply(lambda row: datetime.strptime(f\"{2025} {10} {row['weekday']+1}\", \"%Y %W %u\"), axis=1)\n",
    "        trades = p.additional_date_columns(trades)\n",
    "        trades.sort_values(\"date\")\n",
    "        performance = portfolio.portfolio(trades.copy(),benchmark.copy())\n",
    "        metrics = KPI.performance(trades,performance)\n",
    "        results = {**portfolio.to_dict(),**metrics.copy()}\n",
    "        results[\"portfolio\"] = portfolio\n",
    "        analysises.append(results)\n",
    "    except Exception as e:\n",
    "        print(str(e))\n",
    "        continue"
   ]
  },
  {
   "cell_type": "code",
   "execution_count": null,
   "id": "17210ee4-6797-4bc2-842b-541b4c21027c",
   "metadata": {},
   "outputs": [],
   "source": [
    "a = pd.DataFrame(analysises)"
   ]
  },
  {
   "cell_type": "code",
   "execution_count": null,
   "id": "cb3307ce-09a2-4d09-9be1-7965c1fcd8d6",
   "metadata": {},
   "outputs": [],
   "source": [
    "metric = \"raw_pnl\"\n",
    "dropped_columns = [\"date\",\"risk_type\",\"max_price\",\"min_price\",\"max_market_cap\",\"min_market_cap\",\"timeframe\",\"selection_percentage\",\"rolling_window\",\"portfolio\"]\n",
    "filtered_a = a.drop(dropped_columns,axis=1).sort_values(metric,ascending=False)\n",
    "top = a.sort_values(metric,ascending=False).head(20).to_dict(\"records\")[0]\n",
    "filtered_a.head(20)"
   ]
  },
  {
   "cell_type": "code",
   "execution_count": null,
   "id": "b234db94-0cf4-400f-a020-67a4d052f7c0",
   "metadata": {},
   "outputs": [],
   "source": [
    "pm = top[\"portfolio\"]\n",
    "trades = pm.trades(simulation.copy())\n",
    "trades = p.additional_date_columns(trades)\n",
    "trades = trades.groupby(\"day\").agg({\"date\":\"last\",\"weighted_return\":\"mean\",\"return\":\"mean\",\"market_cap\":\"mean\"}).reset_index().sort_values(\"date\")\n",
    "trades = p.additional_date_columns(trades)\n",
    "portfolio = pm.portfolio(trades.copy(),benchmark.copy())\n",
    "portfolio = p.additional_date_columns(portfolio)"
   ]
  },
  {
   "cell_type": "code",
   "execution_count": null,
   "id": "cb463876-33a8-4186-b257-2bff9bc367b0",
   "metadata": {},
   "outputs": [],
   "source": [
    "averaged_portfolio = portfolio.groupby(\"weekday\").agg({\"weighted_return\":\"mean\",\"return\":\"mean\"}).reset_index()\n",
    "averaged_portfolio[\"pv\"] = averaged_portfolio[\"weighted_return\"]\n",
    "plt.plot(averaged_portfolio[\"pv\"])\n",
    "plt.show()"
   ]
  },
  {
   "cell_type": "code",
   "execution_count": null,
   "id": "eee3b894-703e-46bd-9f14-3216ab7f4267",
   "metadata": {},
   "outputs": [],
   "source": [
    "orivault.connect()\n",
    "orivault.drop(\"results\")\n",
    "orivault.store(\"results\",pd.DataFrame([top]).drop(\"portfolio\",axis=1))\n",
    "orivault.disconnect()"
   ]
  }
 ],
 "metadata": {
  "kernelspec": {
   "display_name": "Python 3 (ipykernel)",
   "language": "python",
   "name": "python3"
  },
  "language_info": {
   "codemirror_mode": {
    "name": "ipython",
    "version": 3
   },
   "file_extension": ".py",
   "mimetype": "text/x-python",
   "name": "python",
   "nbconvert_exporter": "python",
   "pygments_lexer": "ipython3",
   "version": "3.11.9"
  }
 },
 "nbformat": 4,
 "nbformat_minor": 5
}
