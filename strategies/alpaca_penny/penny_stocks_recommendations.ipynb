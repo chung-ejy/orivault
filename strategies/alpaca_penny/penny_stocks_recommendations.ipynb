{
 "cells": [
  {
   "cell_type": "code",
   "execution_count": 62,
   "id": "246c49f1-95ae-48c8-a1c2-a5c621cc768f",
   "metadata": {},
   "outputs": [],
   "source": [
    "## PATH settings\n",
    "import os\n",
    "import sys\n",
    "project_root = os.path.abspath(os.path.join(os.getcwd(), '../../'))\n",
    "sys.path.append(project_root)\n",
    "COMMON_PATH = os.path.join(project_root, 'common')"
   ]
  },
  {
   "cell_type": "code",
   "execution_count": 63,
   "id": "b3f7ffcc-42d9-4090-99b3-6479955e1a5f",
   "metadata": {},
   "outputs": [],
   "source": [
    "## Bespoke class imports\n",
    "from common.database.adatabase import ADatabase\n",
    "from common.processor.processor import Processor as p\n",
    "from common.extractor.alpaca_extractor import AlpacaExtractor\n",
    "from financial_common.indicator.indicator import Indicator\n",
    "from financial_common.risk.benchmark import Benchmark\n",
    "from financial_common.portfolio_management.kpi import KPI\n",
    "from financial_common.metric.metric import Metric\n",
    "from financial_common.portfolio_management.portfolio import Portfolio\n",
    "import numpy as np\n",
    "import matplotlib.pyplot as plt"
   ]
  },
  {
   "cell_type": "code",
   "execution_count": 64,
   "id": "5e602193-3097-4687-bd19-00f3b8bff5d4",
   "metadata": {},
   "outputs": [],
   "source": [
    "## Import standard packages\n",
    "from datetime import timedelta, datetime\n",
    "import matplotlib.pyplot as plt\n",
    "from tqdm import tqdm\n",
    "import pandas as pd\n",
    "from time import sleep\n",
    "import copy"
   ]
  },
  {
   "cell_type": "code",
   "execution_count": 65,
   "id": "01317ec8-a56f-4e96-907f-3b07b4d80013",
   "metadata": {},
   "outputs": [],
   "source": [
    "orivault = ADatabase(\"ori\")\n",
    "alp = AlpacaExtractor(paper=False)"
   ]
  },
  {
   "cell_type": "code",
   "execution_count": 66,
   "id": "98afb993-65eb-4107-9d6d-4139059fbfb4",
   "metadata": {},
   "outputs": [],
   "source": [
    "orivault.connect()\n",
    "portfolio_dictionary = orivault.retrieve(\"results\").to_dict(\"records\")[0]\n",
    "orivault.disconnect()"
   ]
  },
  {
   "cell_type": "code",
   "execution_count": 67,
   "id": "e4015f5d-7678-4cf4-9ea3-488ec8de82db",
   "metadata": {},
   "outputs": [],
   "source": [
    "pm = Portfolio.from_dict(portfolio_dictionary)"
   ]
  },
  {
   "cell_type": "code",
   "execution_count": 68,
   "id": "1e37c28f-be14-4d2d-b2fa-d36cbd588168",
   "metadata": {},
   "outputs": [
    {
     "name": "stdout",
     "output_type": "stream",
     "text": [
      "'SVA'\n"
     ]
    }
   ],
   "source": [
    "## Retrieve existing stocks \n",
    "index = alp.assets().sort_values(\"ticker\")\n",
    "tickers = index[\"ticker\"].values\n",
    "tickers_per_batch = int(1000)\n",
    "batchs = [tickers[i:i + tickers_per_batch] for i in range(0, len(tickers), tickers_per_batch)]\n",
    "bars = []\n",
    "[bars.append(alp.latest_bars_bulk(batch)) for batch in batchs]\n",
    "todays_bar = pd.concat(bars)\n",
    "index = index.merge(todays_bar,on=\"ticker\",how=\"left\")"
   ]
  },
  {
   "cell_type": "code",
   "execution_count": 69,
   "id": "8489095c-b17a-41ac-80a0-f4c315737be8",
   "metadata": {},
   "outputs": [
    {
     "name": "stdout",
     "output_type": "stream",
     "text": [
      "2025-04-24 13:53:43.428403-04:00 2025-05-24 13:53:43.428403-04:00\n"
     ]
    }
   ],
   "source": [
    "end = alp.clock()[\"date\"] - timedelta(days=1)\n",
    "start = (end - timedelta(days=pm.rolling_window*3))\n",
    "print(start,end)"
   ]
  },
  {
   "cell_type": "code",
   "execution_count": 70,
   "id": "ca22f01d-5461-4703-a9ec-73a74fa20aa8",
   "metadata": {},
   "outputs": [
    {
     "name": "stdout",
     "output_type": "stream",
     "text": [
      "50\n"
     ]
    }
   ],
   "source": [
    "tickers_per_batch = int(10000/(pm.rolling_window*4)/5)\n",
    "print(tickers_per_batch)"
   ]
  },
  {
   "cell_type": "code",
   "execution_count": 71,
   "id": "42a9639a-fc62-46cf-9b14-dc8f58ee7316",
   "metadata": {},
   "outputs": [],
   "source": [
    "relevant_tickers = index[(index[\"adjclose\"]>=pm.min_price) & (index[\"adjclose\"]<=pm.max_price)][\"ticker\"]\n",
    "batchs = [relevant_tickers[i:i + tickers_per_batch] for i in range(0, len(relevant_tickers), tickers_per_batch)]"
   ]
  },
  {
   "cell_type": "code",
   "execution_count": 80,
   "id": "09587a4a-c54f-458c-ac5f-bca6b33405ff",
   "metadata": {},
   "outputs": [
    {
     "name": "stderr",
     "output_type": "stream",
     "text": [
      "100%|█████████████████████████████████████████████████████████████████████████████████████████████████████████████████████████████████████████████████████████████████████████████████████████████████████████████████████████████████████████| 4/4 [00:04<00:00,  1.07s/it]\n"
     ]
    }
   ],
   "source": [
    "prices = []\n",
    "for batch in tqdm(batchs):\n",
    "    try:\n",
    "        tickers_data = alp.prices_bulk(batch,start,end)\n",
    "        for ticker in batch:\n",
    "            try:\n",
    "                price = tickers_data[tickers_data[\"ticker\"] == ticker].copy()\n",
    "                bar = todays_bar[todays_bar[\"ticker\"]==ticker][[\"date\",\"ticker\",\"adjclose\",\"high\",\"low\",\"volume\"]].copy()\n",
    "                price = p.lower_column(price)\n",
    "                price = pd.concat([price,bar])\n",
    "                price = p.utc_date(price)\n",
    "                price.sort_values(\"date\", inplace=True)\n",
    "                price = p.additional_date_columns(price)\n",
    "                price[\"market_cap\"] = price[\"adjclose\"] * price[\"volume\"]\n",
    "                if price[(price[\"adjclose\"]<=pm.max_price) & (price[\"adjclose\"]>=pm.min_price)].index.size > 0:\n",
    "                    price[\"standard_dev\"] = 1\n",
    "                    price[\"coefficient_of_variation\"] = 1\n",
    "                    for member in Indicator:\n",
    "                        price = member.calculate(price,timeframe=pm.rolling_window,live=True)\n",
    "                    prices.append(price)\n",
    "            except Exception as e:\n",
    "                print(str(e))\n",
    "    except Exception as e:\n",
    "        print(str(e))"
   ]
  },
  {
   "cell_type": "code",
   "execution_count": 82,
   "id": "2212583d-6a1c-4721-a689-1bcaad1d5b2d",
   "metadata": {},
   "outputs": [],
   "source": [
    "simulation = pd.concat(prices)\n",
    "simulation.sort_values(\"date\", inplace=True)\n",
    "trades = pm.recs(simulation.copy())\n",
    "trades"
   ]
  },
  {
   "cell_type": "code",
   "execution_count": 84,
   "id": "64711a5e-b2ef-4be8-b386-ac83faa0e159",
   "metadata": {},
   "outputs": [],
   "source": [
    "orivault.connect()\n",
    "orivault.drop(\"recommendations\")\n",
    "orivault.store(\"recommendations\",trades)\n",
    "orivault.disconnect()"
   ]
  }
 ],
 "metadata": {
  "kernelspec": {
   "display_name": "Python 3 (ipykernel)",
   "language": "python",
   "name": "python3"
  },
  "language_info": {
   "codemirror_mode": {
    "name": "ipython",
    "version": 3
   },
   "file_extension": ".py",
   "mimetype": "text/x-python",
   "name": "python",
   "nbconvert_exporter": "python",
   "pygments_lexer": "ipython3",
   "version": "3.11.9"
  }
 },
 "nbformat": 4,
 "nbformat_minor": 5
}
