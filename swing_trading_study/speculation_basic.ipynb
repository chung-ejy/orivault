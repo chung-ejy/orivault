{
 "cells": [
  {
   "cell_type": "code",
   "execution_count": 1,
   "id": "246c49f1-95ae-48c8-a1c2-a5c621cc768f",
   "metadata": {},
   "outputs": [],
   "source": [
    "import pandas as pd\n",
    "from datetime import datetime, timedelta\n",
    "from tqdm import tqdm\n",
    "from processor.processor import Processor as p\n",
    "from database.adatabase import ADatabase\n",
    "from indicator.indicator import Indicator\n",
    "from backtester.backtester import Backtester\n",
    "from time import sleep\n",
    "import requests as r\n",
    "from dotenv import load_dotenv\n",
    "load_dotenv()\n",
    "import os\n",
    "import matplotlib.pyplot as plt\n",
    "from time import sleep\n",
    "import numpy as np\n",
    "from parameters.parameters import Parameters"
   ]
  },
  {
   "cell_type": "code",
   "execution_count": 2,
   "id": "01317ec8-a56f-4e96-907f-3b07b4d80013",
   "metadata": {},
   "outputs": [],
   "source": [
    "market = ADatabase(\"market\")\n",
    "chung = ADatabase(\"chung\")"
   ]
  },
  {
   "cell_type": "code",
   "execution_count": 3,
   "id": "5eab61ef-f7df-4199-9db5-0346efb1342d",
   "metadata": {},
   "outputs": [],
   "source": [
    "market.connect()\n",
    "currencies = market.retrieve(\"currencies\")\n",
    "stocks = market.retrieve(\"index\")\n",
    "market.disconnect()\n",
    "crypto = False"
   ]
  },
  {
   "cell_type": "code",
   "execution_count": 4,
   "id": "550785e0-3973-4311-809a-74061bd87500",
   "metadata": {
    "scrolled": true
   },
   "outputs": [],
   "source": [
    "if crypto == True:\n",
    "    index = currencies.copy().rename(columns={\"product_id\":\"ticker\"})\n",
    "    index[\"name\"] = index[\"ticker\"]\n",
    "    index[\"base\"] = [x.split(\"-\")[1] for x in index[\"ticker\"]]\n",
    "    index = index[index[\"base\"]==\"USD\"]\n",
    "    market.connect()\n",
    "    spy = market.query(\"crypto\",{\"ticker\":\"BTC-USD\"}).rename(columns={\"close\":\"adjclose\"})[[\"start\",\"adjclose\",\"high\",\"low\",\"volume\"]]\n",
    "    spy[\"date\"] = pd.to_datetime(spy[\"start\"].astype(float),unit=\"s\")\n",
    "    spy[\"spy\"] = spy[\"adjclose\"].astype(float)\n",
    "    spy[\"high\"] = spy[\"high\"].astype(float)\n",
    "    spy[\"low\"] = spy[\"low\"].astype(float)\n",
    "    spy[\"volume\"] = spy[\"volume\"].astype(float)\n",
    "    market.disconnect()\n",
    "else:\n",
    "    index = stocks.copy()\n",
    "    market.connect()\n",
    "    benchmark = p.column_date_processing(market.query(\"prices\",{\"ticker\":\"JPM\"}))\n",
    "    benchmark[\"benchmark\"] = benchmark[\"adjclose\"]\n",
    "    market.disconnect()"
   ]
  },
  {
   "cell_type": "code",
   "execution_count": 5,
   "id": "2b7fa7a8-537c-4bb4-b1cd-6e7b5e223547",
   "metadata": {},
   "outputs": [],
   "source": [
    "chung.connect()\n",
    "product = chung.retrieve(\"sim\")\n",
    "chung.disconnect()\n",
    "product = p.column_date_processing(product).sort_values(\"date\")"
   ]
  },
  {
   "cell_type": "code",
   "execution_count": 6,
   "id": "5167bcd8-68d6-49ec-9349-a74304fa5409",
   "metadata": {},
   "outputs": [
    {
     "name": "stdout",
     "output_type": "stream",
     "text": [
      "90\n"
     ]
    }
   ],
   "source": [
    "parameters = Parameters.generate_bruteforce_parameters()\n",
    "print(len(parameters))"
   ]
  },
  {
   "cell_type": "code",
   "execution_count": 7,
   "id": "06a6d3b3-44e8-4c3c-b39d-074c98f8ab76",
   "metadata": {},
   "outputs": [
    {
     "name": "stderr",
     "output_type": "stream",
     "text": [
      "100%|██████████████████████████████████████████████████████████████████████████████████████████████████████████████████████████████████████████████████████████| 90/90 [01:32<00:00,  1.03s/it]\n"
     ]
    }
   ],
   "source": [
    "failed_parameters = []\n",
    "chung.connect()\n",
    "chung.drop(\"spec_basic_results\")\n",
    "for parameter in tqdm(parameters):\n",
    "    try:\n",
    "        results, trades,portfolio = Backtester.run_strategy(product[product[\"date\"]>datetime(2008,1,1)].copy(), parameter.copy(),benchmark.copy())\n",
    "        if results[\"pnl\"] != -100:\n",
    "            chung.store(\"spec_basic_results\",pd.DataFrame([results]))\n",
    "        else:\n",
    "            failed_parameters.append(parameter)\n",
    "    except Exception as e:\n",
    "        print(str(e))\n",
    "        continue\n",
    "chung.disconnect()"
   ]
  }
 ],
 "metadata": {
  "kernelspec": {
   "display_name": "Python 3 (ipykernel)",
   "language": "python",
   "name": "python3"
  },
  "language_info": {
   "codemirror_mode": {
    "name": "ipython",
    "version": 3
   },
   "file_extension": ".py",
   "mimetype": "text/x-python",
   "name": "python",
   "nbconvert_exporter": "python",
   "pygments_lexer": "ipython3",
   "version": "3.11.9"
  }
 },
 "nbformat": 4,
 "nbformat_minor": 5
}
